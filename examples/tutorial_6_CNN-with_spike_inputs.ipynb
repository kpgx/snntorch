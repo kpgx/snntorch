{
 "cells": [
  {
   "cell_type": "markdown",
   "metadata": {
    "colab_type": "text",
    "id": "view-in-github"
   },
   "source": [
    "<a href=\"https://colab.research.google.com/github/jeshraghian/snntorch/blob/master/examples/tutorial_6_CNN.ipynb\" target=\"_parent\"><img src=\"https://colab.research.google.com/assets/colab-badge.svg\" alt=\"Open In Colab\"/></a>"
   ]
  },
  {
   "cell_type": "markdown",
   "metadata": {
    "id": "uSGZ6cdmpknm",
    "pycharm": {
     "name": "#%% md\n"
    }
   },
   "source": [
    "[<img src='https://github.com/jeshraghian/snntorch/blob/master/docs/_static/img/snntorch_alpha_w.png?raw=true' width=\"400\">](https://github.com/jeshraghian/snntorch/)\n",
    "\n",
    "# snnTorch - Surrogate Gradient Descent in a Convolutional Spiking Neural Network\n",
    "## Tutorial 6\n",
    "### By Jason K. Eshraghian (www.ncg.ucsc.edu)\n",
    "\n",
    "<a href=\"https://colab.research.google.com/github/jeshraghian/snntorch/blob/master/examples/tutorial_6_CNN.ipynb\">\n",
    "  <img src=\"https://colab.research.google.com/assets/colab-badge.svg\" alt=\"Open In Colab\"/>\n",
    "</a>\n",
    "\n",
    "[<img src='https://github.com/jeshraghian/snntorch/blob/master/docs/_static/img/GitHub-Mark-Light-120px-plus.png?raw=true' width=\"28\">](https://github.com/jeshraghian/snntorch/) [<img src='https://github.com/jeshraghian/snntorch/blob/master/docs/_static/img/GitHub_Logo_White.png?raw=true' width=\"80\">](https://github.com/jeshraghian/snntorch/)"
   ]
  },
  {
   "cell_type": "markdown",
   "metadata": {
    "id": "rugeYYiqsrlc"
   },
   "source": [
    "The snnTorch tutorial series is based on the following paper. If you find these resources or code useful in your work, please consider citing the following source:\n",
    "\n",
    "> <cite> [Jason K. Eshraghian, Max Ward, Emre Neftci, Xinxin Wang, Gregor Lenz, Girish Dwivedi, Mohammed Bennamoun, Doo Seok Jeong, and Wei D. Lu. \"Training Spiking Neural Networks Using Lessons From Deep Learning\". arXiv preprint arXiv:2109.12894, September 2021.](https://arxiv.org/abs/2109.12894) </cite>\n"
   ]
  },
  {
   "cell_type": "markdown",
   "metadata": {
    "id": "Ymi3sqJg28OQ"
   },
   "source": [
    "# Introduction\n",
    "In this tutorial, you will:\n",
    "* Learn how to use surrogate gradient descent to overcome the dead neuron problem\n",
    "* Construct and train a convolutional spiking neural network\n",
    "* Use a sequential container, `nn.Sequential` to simplify model construction\n",
    "* Use the `snn.backprop` module to reduce the time it takes to design a neural network\n",
    "\n",
    "Part of this tutorial was inspired by Friedemann Zenke’s extensive\n",
    "work on SNNs. Check out his repo on surrogate gradients\n",
    "[here](https://github.com/fzenke/spytorch), and a favourite paper\n",
    "of mine: E. O. Neftci, H. Mostafa, F. Zenke, [Surrogate Gradient\n",
    "Learning in Spiking Neural Networks: Bringing the Power of\n",
    "Gradient-based optimization to spiking neural\n",
    "networks.](https://ieeexplore.ieee.org/document/8891809) IEEE\n",
    "Signal Processing Magazine 36, 51–63.\n",
    "\n",
    "At the end of the tutorial, we will train a convolutional spiking neural network (CSNN) using the MNIST dataset to perform image classification. The background theory follows on from [Tutorials 2, 4 and 5](https://snntorch.readthedocs.io/en/latest/tutorials/index.html), so feel free to go back if you need to brush up.\n",
    "\n",
    "If running in Google Colab:\n",
    "* You may connect to GPU by checking `Runtime` > `Change runtime type` > `Hardware accelerator: GPU`\n",
    "* Next, install the latest PyPi distribution of snnTorch by clicking into the following cell and pressing `Shift+Enter`."
   ]
  },
  {
   "cell_type": "code",
   "execution_count": 1,
   "metadata": {
    "id": "5tn_wUlopkon",
    "pycharm": {
     "name": "#%%\n"
    }
   },
   "outputs": [
    {
     "name": "stdout",
     "output_type": "stream",
     "text": [
      "Looking in indexes: https://pypi.org/simple, https://pypi.ngc.nvidia.com\n",
      "Requirement already satisfied: snntorch in /opt/conda/lib/python3.8/site-packages (0.5.3)\n",
      "Requirement already satisfied: pandas in /opt/conda/lib/python3.8/site-packages (from snntorch) (1.4.3)\n",
      "Requirement already satisfied: numpy>=1.17 in /opt/conda/lib/python3.8/site-packages (from snntorch) (1.22.4)\n",
      "Requirement already satisfied: matplotlib in /opt/conda/lib/python3.8/site-packages (from snntorch) (3.5.2)\n",
      "Requirement already satisfied: torch>=1.1.0 in /opt/conda/lib/python3.8/site-packages (from snntorch) (1.9.0)\n",
      "Requirement already satisfied: typing-extensions in /opt/conda/lib/python3.8/site-packages (from torch>=1.1.0->snntorch) (4.3.0)\n",
      "Requirement already satisfied: pyparsing>=2.2.1 in /opt/conda/lib/python3.8/site-packages (from matplotlib->snntorch) (3.0.9)\n",
      "Requirement already satisfied: python-dateutil>=2.7 in /opt/conda/lib/python3.8/site-packages (from matplotlib->snntorch) (2.8.2)\n",
      "Requirement already satisfied: packaging>=20.0 in /opt/conda/lib/python3.8/site-packages (from matplotlib->snntorch) (21.3)\n",
      "Requirement already satisfied: cycler>=0.10 in /opt/conda/lib/python3.8/site-packages (from matplotlib->snntorch) (0.11.0)\n",
      "Requirement already satisfied: kiwisolver>=1.0.1 in /opt/conda/lib/python3.8/site-packages (from matplotlib->snntorch) (1.4.3)\n",
      "Requirement already satisfied: pillow>=6.2.0 in /opt/conda/lib/python3.8/site-packages (from matplotlib->snntorch) (9.0.1)\n",
      "Requirement already satisfied: fonttools>=4.22.0 in /opt/conda/lib/python3.8/site-packages (from matplotlib->snntorch) (4.33.3)\n",
      "Requirement already satisfied: six>=1.5 in /opt/conda/lib/python3.8/site-packages (from python-dateutil>=2.7->matplotlib->snntorch) (1.16.0)\n",
      "Requirement already satisfied: pytz>=2020.1 in /opt/conda/lib/python3.8/site-packages (from pandas->snntorch) (2022.1)\n",
      "\u001b[33mWARNING: Running pip as the 'root' user can result in broken permissions and conflicting behaviour with the system package manager. It is recommended to use a virtual environment instead: https://pip.pypa.io/warnings/venv\u001b[0m\n"
     ]
    }
   ],
   "source": [
    "!pip install snntorch"
   ]
  },
  {
   "cell_type": "code",
   "execution_count": 2,
   "metadata": {
    "id": "QXZ6Tuqc9Q-l"
   },
   "outputs": [],
   "source": [
    "# imports\n",
    "import snntorch as snn\n",
    "from snntorch import surrogate\n",
    "from snntorch import backprop\n",
    "from snntorch import functional as SF\n",
    "from snntorch import utils\n",
    "from snntorch import spikeplot as splt\n",
    "\n",
    "import torch\n",
    "import torch.nn as nn\n",
    "from torch.utils.data import DataLoader\n",
    "from torchvision import datasets, transforms\n",
    "import torch.nn.functional as F\n",
    "\n",
    "import matplotlib.pyplot as plt\n",
    "import numpy as np\n",
    "import itertools"
   ]
  },
  {
   "cell_type": "markdown",
   "metadata": {
    "id": "gt2xMbLY9dVE"
   },
   "source": [
    "# 1. Surrogate Gradient Descent"
   ]
  },
  {
   "cell_type": "markdown",
   "metadata": {
    "id": "zJddJWoa0GT6"
   },
   "source": [
    "[Tutorial 5](https://snntorch.readthedocs.io/en/latest/tutorials/index.html) raised the **dead neuron problem**. This arises because of the non-differentiability of spikes:\n",
    "\n",
    "\n",
    "$$S[t] = \\Theta(U[t] - U_{\\rm thr}) \\tag{1}$$ \n",
    "$$\\frac{\\partial S}{\\partial U} = \\delta(U - U_{\\rm thr}) \\in \\{0, \\infty\\} \\tag{2}$$ \n",
    "\n",
    "where $\\Theta(\\cdot)$ is the Heaviside step function, and $\\delta(\\cdot)$ is the Dirac-Delta function. We previously overcame this using the *Spike-Operator* approach, by assigning the spike to the derivative term: $\\partial \\tilde{S}/\\partial U \\leftarrow S \\in \\{0, 1\\}$. Another approach is to smooth the Heaviside function during the backward pass, which correspondingly smooths out the gradient of the Heaviside function. \n",
    "\n",
    "Common smoothing functions include the sigmoid function, or the fast sigmoid function. The sigmoidal functions must also be shifted such that they are centered at the threshold $U_{\\rm thr}$. Defining  the overdrive of the membrane potential as $U_{OD} = U - U_{\\rm thr}$:\n",
    "\n",
    "$$\\tilde{S} = \\frac{U_{OD}}{1+k|U_{OD}|} \\tag{3}$$\n",
    "$$\\frac{\\partial \\tilde{S}}{\\partial U} = \\frac{1}{(k|U_{OD}|+1)^2}\\tag{4}$$\n",
    "\n",
    "where $k$ modulates how smooth the surrogate function is, and is treated as a hyperparameter. As $k$ increases, the approximation converges towards the original derivative in $(2)$:  \n",
    "\n",
    "$$\\frac{\\partial \\tilde{S}}{\\partial U} \\Bigg|_{k \\rightarrow \\infty} = \\delta(U-U_{\\rm thr})$$ \n",
    "\n",
    "\n",
    "<center>\n",
    "<img src='https://github.com/jeshraghian/snntorch/blob/master/docs/_static/img/examples/tutorial6/surrogate.png?raw=true' width=\"800\">\n",
    "</center>\n",
    "\n",
    "To summarize:\n",
    "\n",
    "* **Forward Pass**\n",
    "  - Determine $S$ using the shifted Heaviside function in $(1)$\n",
    "  - Store $U$ for later use during the backward pass\n",
    "* **Backward Pass**\n",
    "  - Pass $U$ into $(4)$ to calculate the derivative term\n",
    "\n",
    "In the same way the *Spike Operator* approach was used in [Tutorial 5](https://snntorch.readthedocs.io/en/latest/tutorials/index.html), \n",
    "the gradient of the fast sigmoid function can override the Dirac-Delta function in a Leaky Integrate-and-Fire\n",
    "(LIF) neuron model:"
   ]
  },
  {
   "cell_type": "code",
   "execution_count": 3,
   "metadata": {
    "id": "5lqpuT--bZmJ"
   },
   "outputs": [],
   "source": [
    "# Leaky neuron model, overriding the backward pass with a custom function\n",
    "class LeakySigmoidSurrogate(nn.Module):\n",
    "  def __init__(self, beta, threshold=1.0, k=25):\n",
    "      super(Leaky_Surrogate, self).__init__()\n",
    "\n",
    "      # initialize decay rate beta and threshold\n",
    "      self.beta = beta\n",
    "      self.threshold = threshold\n",
    "      self.surrogate_func = self.FastSigmoid.apply\n",
    "  \n",
    "  # the forward function is called each time we call Leaky\n",
    "  def forward(self, input_, mem):\n",
    "    spk = self.surrogate_func((mem-self.threshold))  # call the Heaviside function\n",
    "    reset = (spk - self.threshold).detach()\n",
    "    mem = self.beta * mem + input_ - reset\n",
    "    return spk, mem\n",
    "\n",
    "  # Forward pass: Heaviside function\n",
    "  # Backward pass: Override Dirac Delta with gradient of fast sigmoid\n",
    "  @staticmethod\n",
    "  class FastSigmoid(torch.autograd.Function):  \n",
    "    @staticmethod\n",
    "    def forward(ctx, mem, k=25):\n",
    "        ctx.save_for_backward(mem) # store the membrane potential for use in the backward pass\n",
    "        ctx.k = k\n",
    "        out = (mem > 0).float() # Heaviside on the forward pass: Eq(1)\n",
    "        return out\n",
    "\n",
    "    @staticmethod\n",
    "    def backward(ctx, grad_output): \n",
    "        (mem,) = ctx.saved_tensors  # retrieve membrane potential\n",
    "        grad_input = grad_output.clone()\n",
    "        grad = grad_input / (ctx.k * torch.abs(mem) + 1.0) ** 2  # gradient of fast sigmoid on backward pass: Eq(4)\n",
    "        return grad, None"
   ]
  },
  {
   "cell_type": "markdown",
   "metadata": {
    "id": "4aQvFG7ajpzU"
   },
   "source": [
    "Better yet, all of that can be condensed by using the built-in module `snn.surrogate` from snnTorch, where $k$ from $(4)$ is denoted `slope`. The surrogate gradient is passed into `spike_grad` as an argument:"
   ]
  },
  {
   "cell_type": "code",
   "execution_count": 4,
   "metadata": {
    "id": "2dCWD_qajyLw"
   },
   "outputs": [],
   "source": [
    "spike_grad = surrogate.fast_sigmoid(slope=25)\n",
    "beta = 0.5\n",
    "\n",
    "lif1 = snn.Leaky(beta=beta, spike_grad=spike_grad)"
   ]
  },
  {
   "cell_type": "markdown",
   "metadata": {
    "id": "Ffn7D6omkj5r"
   },
   "source": [
    "To explore the other surrogate gradient functions available, [take a look at the documentation here.](https://snntorch.readthedocs.io/en/latest/snntorch.surrogate.html)"
   ]
  },
  {
   "cell_type": "markdown",
   "metadata": {
    "id": "Wgzf83HE2BeB"
   },
   "source": [
    "# 2. Setting up the CSNN\n",
    "## 2.1 DataLoaders\n",
    "Note that `utils.data_subset()` is called to reduce the size of the dataset by a factor of 10 to speed up training."
   ]
  },
  {
   "cell_type": "code",
   "execution_count": 5,
   "metadata": {
    "id": "pxO32dntlOB2"
   },
   "outputs": [],
   "source": [
    "# dataloader arguments\n",
    "batch_size = 128\n",
    "data_path='/data/mnist'\n",
    "subset=10\n",
    "\n",
    "dtype = torch.float\n",
    "device = torch.device(\"cuda\") if torch.cuda.is_available() else torch.device(\"cpu\")"
   ]
  },
  {
   "cell_type": "code",
   "execution_count": 6,
   "metadata": {
    "id": "pE7eGTnulSBA"
   },
   "outputs": [
    {
     "name": "stderr",
     "output_type": "stream",
     "text": [
      "/opt/conda/lib/python3.8/site-packages/torchvision/datasets/mnist.py:498: UserWarning: The given NumPy array is not writeable, and PyTorch does not support non-writeable tensors. This means you can write to the underlying (supposedly non-writeable) NumPy array using the tensor. You may want to copy the array to protect its data or make it writeable before converting it to a tensor. This type of warning will be suppressed for the rest of this program. (Triggered internally at  /pytorch/torch/csrc/utils/tensor_numpy.cpp:180.)\n",
      "  return torch.from_numpy(parsed.astype(m[2], copy=False)).view(*s)\n"
     ]
    }
   ],
   "source": [
    "# Define a transform\n",
    "transform = transforms.Compose([\n",
    "            transforms.Resize((28, 28)),\n",
    "            transforms.Grayscale(),\n",
    "            transforms.ToTensor(),\n",
    "            transforms.Normalize((0,), (1,))])\n",
    "\n",
    "mnist_train = datasets.MNIST(data_path, train=True, download=True, transform=transform)\n",
    "mnist_test = datasets.MNIST(data_path, train=False, download=True, transform=transform)\n",
    "\n",
    "# reduce datasets by 10x to speed up training\n",
    "utils.data_subset(mnist_train, subset)\n",
    "utils.data_subset(mnist_test, subset)\n",
    "\n",
    "# Create DataLoaders\n",
    "train_loader = DataLoader(mnist_train, batch_size=batch_size, shuffle=True, drop_last=True)\n",
    "test_loader = DataLoader(mnist_test, batch_size=batch_size, shuffle=True, drop_last=True)"
   ]
  },
  {
   "cell_type": "markdown",
   "metadata": {
    "id": "6v8fBXrVlY3f"
   },
   "source": [
    "## 2.2 Define the Network\n",
    "\n",
    "The convolutional network architecture to be used is: 12C5-MP2-64C5-MP2-1024FC10\n",
    "\n",
    "- 12C5 is a 5$\\times$5 convolutional kernel with 12 filters\n",
    "- MP2 is a 2$\\times$2 max-pooling function\n",
    "- 1024FC10 is a fully-connected layer that maps 1,024 neurons to 10 outputs"
   ]
  },
  {
   "cell_type": "code",
   "execution_count": 7,
   "metadata": {
    "id": "foos_NlopDrb"
   },
   "outputs": [],
   "source": [
    "# neuron and simulation parameters\n",
    "spike_grad = surrogate.fast_sigmoid(slope=25)\n",
    "beta = 0.5\n",
    "num_steps = 50"
   ]
  },
  {
   "cell_type": "code",
   "execution_count": 8,
   "metadata": {
    "id": "X4sd8PDSlGZb"
   },
   "outputs": [],
   "source": [
    "# Define Network\n",
    "class Net(nn.Module):\n",
    "    def __init__(self):\n",
    "        super().__init__()\n",
    "\n",
    "        # Initialize layers\n",
    "        self.conv1 = nn.Conv2d(1, 12, 5)\n",
    "        self.lif1 = snn.Leaky(beta=beta, spike_grad=spike_grad)\n",
    "        self.conv2 = nn.Conv2d(12, 64, 5)\n",
    "        self.lif2 = snn.Leaky(beta=beta, spike_grad=spike_grad)\n",
    "        self.fc1 = nn.Linear(64*4*4, 10)\n",
    "        self.lif3 = snn.Leaky(beta=beta, spike_grad=spike_grad)\n",
    "\n",
    "    def forward(self, x):\n",
    "\n",
    "        # Initialize hidden states and outputs at t=0\n",
    "        mem1 = self.lif1.init_leaky()\n",
    "        mem2 = self.lif2.init_leaky() \n",
    "        mem3 = self.lif3.init_leaky()\n",
    "\n",
    "        # Record the final layer\n",
    "        spk3_rec = []\n",
    "        mem3_rec = []\n",
    "\n",
    "        for step in range(num_steps):\n",
    "            cur1 = F.max_pool2d(self.conv1(x), 2)\n",
    "            spk1, mem1 = self.lif1(cur1, mem1)\n",
    "            cur2 = F.max_pool2d(self.conv2(spk1), 2)\n",
    "            spk2, mem2 = self.lif2(cur2, mem2)\n",
    "            cur3 = self.fc1(spk2.view(batch_size, -1))\n",
    "            spk3, mem3 = self.lif3(cur3, mem3)\n",
    "\n",
    "            spk3_rec.append(spk3)\n",
    "            mem3_rec.append(mem3)\n",
    "\n",
    "        return torch.stack(spk3_rec), torch.stack(mem3_rec)"
   ]
  },
  {
   "cell_type": "markdown",
   "metadata": {
    "id": "HVn3aYAUnWqH"
   },
   "source": [
    "In the previous tutorial, the network was wrapped inside of a class, as shown above. \n",
    "With increasing network complexity, this adds a lot of boilerplate code that we might wish to avoid. Alternatively, the `nn.Sequential` method can be used instead:"
   ]
  },
  {
   "cell_type": "code",
   "execution_count": 9,
   "metadata": {
    "id": "AoYBY89angvp"
   },
   "outputs": [],
   "source": [
    "#  Initialize Network\n",
    "net = nn.Sequential(nn.Conv2d(1, 12, 5),\n",
    "                    nn.MaxPool2d(2),\n",
    "                    snn.Leaky(beta=beta, spike_grad=spike_grad, init_hidden=True),\n",
    "                    nn.Conv2d(12, 64, 5),\n",
    "                    nn.MaxPool2d(2),\n",
    "                    snn.Leaky(beta=beta, spike_grad=spike_grad, init_hidden=True),\n",
    "                    nn.Flatten(),\n",
    "                    nn.Linear(64*4*4, 10),\n",
    "                    snn.Leaky(beta=beta, spike_grad=spike_grad, init_hidden=True, output=True)\n",
    "                    ).to(device)"
   ]
  },
  {
   "cell_type": "markdown",
   "metadata": {
    "id": "7Qgw1dRmpOlo"
   },
   "source": [
    "\n",
    "The `init_hidden` argument initializes the hidden states of the neuron (here, membrane potential). This takes place in the background as an instance variable. \n",
    "If `init_hidden` is activated, the membrane potential is not explicitly returned to the user, ensuring only the output spikes are sequentially passed through the layers wrapped in `nn.Sequential`. \n",
    "\n",
    "To train a model using the final layer's membrane potential, set the argument `output=True`. \n",
    "This enables the final layer to return both the spike and membrane potential response of the neuron."
   ]
  },
  {
   "cell_type": "markdown",
   "metadata": {
    "id": "A-bCSQmBstvd"
   },
   "source": [
    "## 2.3 Forward-Pass\n",
    "A forward pass across a simulation duration of `num_steps` looks like this:"
   ]
  },
  {
   "cell_type": "code",
   "execution_count": 10,
   "metadata": {
    "id": "IxPPMND-pMxE"
   },
   "outputs": [
    {
     "name": "stderr",
     "output_type": "stream",
     "text": [
      "/opt/conda/lib/python3.8/site-packages/torch/nn/functional.py:718: UserWarning: Named tensors and all their associated APIs are an experimental feature and subject to change. Please do not use them for anything important until they are released as stable. (Triggered internally at  /pytorch/c10/core/TensorImpl.h:1156.)\n",
      "  return torch.max_pool2d(input, kernel_size, stride, padding, dilation, ceil_mode)\n"
     ]
    }
   ],
   "source": [
    "data, targets = next(iter(train_loader))\n",
    "data = data.to(device)\n",
    "targets = targets.to(device)\n",
    "\n",
    "for step in range(num_steps):\n",
    "    spk_out, mem_out = net(data)"
   ]
  },
  {
   "cell_type": "markdown",
   "metadata": {
    "id": "C3PxtCobuH_e"
   },
   "source": [
    "Wrap that in a function, recording the membrane potential and spike response over time:"
   ]
  },
  {
   "cell_type": "code",
   "execution_count": 11,
   "metadata": {
    "id": "ykdnD3tRuHcs"
   },
   "outputs": [],
   "source": [
    "def forward_pass(net, num_steps, data):\n",
    "  mem_rec = []\n",
    "  spk_rec = []\n",
    "  utils.reset(net)  # resets hidden states for all LIF neurons in net\n",
    "\n",
    "  for step in range(num_steps):\n",
    "      spk_out, mem_out = net(data)\n",
    "      spk_rec.append(spk_out)\n",
    "      mem_rec.append(mem_out)\n",
    "  \n",
    "  return torch.stack(spk_rec), torch.stack(mem_rec)"
   ]
  },
  {
   "cell_type": "code",
   "execution_count": 12,
   "metadata": {
    "id": "unJrx3pXcXii"
   },
   "outputs": [],
   "source": [
    "spk_rec, mem_rec = forward_pass(net, num_steps, data)"
   ]
  },
  {
   "cell_type": "markdown",
   "metadata": {
    "id": "zqJdfllYbc16"
   },
   "source": [
    "# 3. Training Loop"
   ]
  },
  {
   "cell_type": "markdown",
   "metadata": {
    "id": "x-kquOWLY1Jo"
   },
   "source": [
    "## 3.1 Loss Using snn.Functional"
   ]
  },
  {
   "cell_type": "markdown",
   "metadata": {
    "id": "MlA56BgOYq1D"
   },
   "source": [
    "In the previous tutorial, the Cross Entropy Loss between the membrane potential of the output neurons and the target was used to train the network. \n",
    "This time, the total number of spikes from each neuron will be used to calculate the Cross Entropy instead.\n",
    "\n",
    "A variety of loss functions are included in the `snn.functional` module, which is analogous to `torch.nn.functional` in PyTorch. \n",
    "These implement a mix of cross entropy and mean square error losses, are applied to spikes and/or membrane potential, to train a rate or latency-coded network. \n",
    "\n",
    "The approach below applies the cross entropy loss to the output spike count in order train a rate-coded network:"
   ]
  },
  {
   "cell_type": "code",
   "execution_count": 13,
   "metadata": {
    "id": "UZ2BM6d6a11l"
   },
   "outputs": [],
   "source": [
    "# already imported snntorch.functional as SF \n",
    "loss_fn = SF.ce_rate_loss()"
   ]
  },
  {
   "cell_type": "markdown",
   "metadata": {
    "id": "q39HCIeOa4fC"
   },
   "source": [
    "The recordings of the spike are passed as the first argument to `loss_fn`, and the target neuron index as the second argument to generate a loss. [The documentation provides further information and exmaples.](https://snntorch.readthedocs.io/en/latest/snntorch.functional.html#snntorch.functional.ce_rate_loss)"
   ]
  },
  {
   "cell_type": "code",
   "execution_count": 24,
   "metadata": {
    "id": "xEVzMvujcjsE"
   },
   "outputs": [
    {
     "name": "stdout",
     "output_type": "stream",
     "text": [
      "torch.Size([50, 128, 10]) torch.Size([128])\n",
      "The loss from an untrained network is 1.490\n"
     ]
    }
   ],
   "source": [
    "print(spk_rec.size(), targets.size())\n",
    "loss_val = loss_fn(spk_rec, targets)\n",
    "\n",
    "print(f\"The loss from an untrained network is {loss_val.item():.3f}\")"
   ]
  },
  {
   "cell_type": "markdown",
   "metadata": {
    "id": "HS_zeb5mbqjw"
   },
   "source": [
    "## 3.2 Accuracy Using snn.Functional\n",
    "The `SF.accuracy_rate()` function works similarly, in that the predicted output spikes and actual targets are supplied as arguments. `accuracy_rate` assumes a rate code is used to interpret the output by checking if the index of the neuron with the highest spike count matches the target index."
   ]
  },
  {
   "cell_type": "code",
   "execution_count": 15,
   "metadata": {
    "id": "yq7_rly0c9b4"
   },
   "outputs": [
    {
     "name": "stdout",
     "output_type": "stream",
     "text": [
      "The accuracy of a single batch using an untrained network is 10.938%\n"
     ]
    }
   ],
   "source": [
    "acc = SF.accuracy_rate(spk_rec, targets)\n",
    "\n",
    "print(f\"The accuracy of a single batch using an untrained network is {acc*100:.3f}%\")"
   ]
  },
  {
   "cell_type": "markdown",
   "metadata": {
    "id": "r4Z6bnqCdL50"
   },
   "source": [
    "As the above function only returns the accuracy of a single batch of data, the following function returns the accuracy on the entire DataLoader object:"
   ]
  },
  {
   "cell_type": "code",
   "execution_count": 16,
   "metadata": {
    "id": "IqxDKFvrdXuF"
   },
   "outputs": [],
   "source": [
    "def batch_accuracy(train_loader, net, num_steps):\n",
    "  with torch.no_grad():\n",
    "    total = 0\n",
    "    acc = 0\n",
    "    net.eval()\n",
    "    \n",
    "    train_loader = iter(train_loader)\n",
    "    for data, targets in train_loader:\n",
    "      data = data.to(device)\n",
    "      targets = targets.to(device)\n",
    "      spk_rec, _ = forward_pass(net, num_steps, data)\n",
    "\n",
    "      acc += SF.accuracy_rate(spk_rec, targets) * spk_rec.size(1)\n",
    "      total += spk_rec.size(1)\n",
    "\n",
    "  return acc/total"
   ]
  },
  {
   "cell_type": "code",
   "execution_count": 17,
   "metadata": {
    "id": "_u43hKAvefWM"
   },
   "outputs": [
    {
     "name": "stdout",
     "output_type": "stream",
     "text": [
      "The total accuracy on the test set is: 9.26%\n"
     ]
    }
   ],
   "source": [
    "test_acc = batch_accuracy(test_loader, net, num_steps)\n",
    "\n",
    "print(f\"The total accuracy on the test set is: {test_acc * 100:.2f}%\")"
   ]
  },
  {
   "cell_type": "markdown",
   "metadata": {
    "id": "F1pzWXlsYoIu"
   },
   "source": [
    "## 3.3 Training Automation Using snn.backprop"
   ]
  },
  {
   "cell_type": "markdown",
   "metadata": {
    "id": "KAUDYl3gf0G-"
   },
   "source": [
    "Training SNNs can become arduous even with simple networks, so the `snn.backprop` module is here to reduce some of this effort.\n",
    "\n",
    "The `backprop.BPTT` function automatically performs a single epoch of training, where you need only provide the training parameters, dataloader, and several other arguments. \n",
    "The average loss across iterations is returned. \n",
    "The argument `time_var` indicates whether the input data is time-varying. \n",
    "As we are using the MNIST dataset, we explicitly specify `time_var=False`. \n",
    "\n",
    "The following code block may take a while to run. If you are not connected to GPU, then consider reducing `num_epochs`."
   ]
  },
  {
   "cell_type": "code",
   "execution_count": 18,
   "metadata": {
    "id": "dnS4wYyh0bdb"
   },
   "outputs": [
    {
     "name": "stdout",
     "output_type": "stream",
     "text": [
      "Epoch 0, Train Loss: 1.74\n",
      "Epoch 0, Test Acc: 89.84%\n",
      "\n",
      "Epoch 1, Train Loss: 1.52\n",
      "Epoch 1, Test Acc: 94.08%\n",
      "\n",
      "Epoch 2, Train Loss: 1.50\n",
      "Epoch 2, Test Acc: 94.87%\n",
      "\n",
      "Epoch 3, Train Loss: 1.50\n",
      "Epoch 3, Test Acc: 95.20%\n",
      "\n",
      "Epoch 4, Train Loss: 1.49\n",
      "Epoch 4, Test Acc: 96.43%\n",
      "\n",
      "Epoch 5, Train Loss: 1.49\n",
      "Epoch 5, Test Acc: 96.54%\n",
      "\n",
      "Epoch 6, Train Loss: 1.48\n",
      "Epoch 6, Test Acc: 97.32%\n",
      "\n",
      "Epoch 7, Train Loss: 1.48\n",
      "Epoch 7, Test Acc: 97.32%\n",
      "\n",
      "Epoch 8, Train Loss: 1.48\n",
      "Epoch 8, Test Acc: 98.10%\n",
      "\n",
      "Epoch 9, Train Loss: 1.48\n",
      "Epoch 9, Test Acc: 97.77%\n",
      "\n"
     ]
    }
   ],
   "source": [
    "optimizer = torch.optim.Adam(net.parameters(), lr=1e-2, betas=(0.9, 0.999))\n",
    "num_epochs = 10\n",
    "test_acc_hist = []\n",
    "\n",
    "# training loop\n",
    "for epoch in range(num_epochs):\n",
    "\n",
    "    avg_loss = backprop.BPTT(net, train_loader, optimizer=optimizer, criterion=loss_fn, \n",
    "                            num_steps=num_steps, time_var=False, device=device)\n",
    "    \n",
    "    print(f\"Epoch {epoch}, Train Loss: {avg_loss.item():.2f}\")\n",
    "\n",
    "    # Test set accuracy\n",
    "    test_acc = batch_accuracy(test_loader, net, num_steps)\n",
    "    test_acc_hist.append(test_acc)\n",
    "\n",
    "    print(f\"Epoch {epoch}, Test Acc: {test_acc * 100:.2f}%\\n\")"
   ]
  },
  {
   "cell_type": "markdown",
   "metadata": {
    "id": "TjRPDFWxj2eS"
   },
   "source": [
    "Despite having selected some fairly generic values and architectures, the test set accuracy should be fairly competitive given the brief training run!"
   ]
  },
  {
   "cell_type": "markdown",
   "metadata": {
    "id": "HxU7P7xFpko3",
    "pycharm": {
     "name": "#%% md\n"
    }
   },
   "source": [
    "# 4. Results\n",
    "## 4.1 Plot Test Accuracy"
   ]
  },
  {
   "cell_type": "code",
   "execution_count": 19,
   "metadata": {
    "id": "_Pk_EScnpkpj",
    "pycharm": {
     "name": "#%%\n"
    }
   },
   "outputs": [
    {
     "data": {
      "image/png": "[encoded data removed]",
      "text/plain": [
       "<Figure size 432x288 with 1 Axes>"
      ]
     },
     "metadata": {},
     "output_type": "display_data"
    }
   ],
   "source": [
    "# Plot Loss\n",
    "fig = plt.figure(facecolor=\"w\")\n",
    "plt.plot(test_acc_hist)\n",
    "plt.title(\"Test Set Accuracy\")\n",
    "plt.xlabel(\"Epoch\")\n",
    "plt.ylabel(\"Accuracy\")\n",
    "plt.show()"
   ]
  },
  {
   "cell_type": "markdown",
   "metadata": {
    "id": "nYFamUJLkVY3"
   },
   "source": [
    "## 4.2 Spike Counter"
   ]
  },
  {
   "cell_type": "markdown",
   "metadata": {
    "id": "MDE3ms9ulo-t"
   },
   "source": [
    "Run a forward pass on a batch of data to obtain spike and membrane readings."
   ]
  },
  {
   "cell_type": "code",
   "execution_count": 20,
   "metadata": {
    "id": "dqIjaw1kk4-6"
   },
   "outputs": [],
   "source": [
    "spk_rec, mem_rec = forward_pass(net, num_steps, data)"
   ]
  },
  {
   "cell_type": "markdown",
   "metadata": {
    "id": "n4QiJx2HlkMH"
   },
   "source": [
    "Changing `idx` allows you to index into various samples from the simulated minibatch. Use `splt.spike_count` to explore the spiking behaviour of a few different samples!\n",
    "\n",
    "> Note: if you are running the notebook locally on your desktop, please uncomment the line below and modify the path to your ffmpeg.exe\n",
    "\n"
   ]
  },
  {
   "cell_type": "code",
   "execution_count": 21,
   "metadata": {
    "id": "4HcwxfC6kfy0"
   },
   "outputs": [
    {
     "name": "stdout",
     "output_type": "stream",
     "text": [
      "The target label is: 9\n"
     ]
    },
    {
     "data": {
      "text/html": [
       "<video width=\"864\" height=\"504\" controls autoplay loop>\n",
       "  <source type=\"video/mp4\" src=\"data:video/mp4;base64,AAAAHGZ0eXBNNFYgAAACAGlzb21pc28yYXZjMQAAAAhmcmVlAABq821kYXQAAAKvBgX//6vcRem9\n",
       "5tlIt5Ys2CDZI+7veDI2NCAtIGNvcmUgMTU1IHIyOTE3IDBhODRkOTggLSBILjI2NC9NUEVHLTQg\n",
       "QVZDIGNvZGVjIC0gQ29weWxlZnQgMjAwMy0yMDE4IC0gaHR0cDovL3d3dy52aWRlb2xhbi5vcmcv\n",
       "eDI2NC5odG1sIC0gb3B0aW9uczogY2FiYWM9MSByZWY9MyBkZWJsb2NrPTE6MDowIGFuYWx5c2U9\n",
       "MHgzOjB4MTEzIG1lPWhleCBzdWJtZT03IHBzeT0xIHBzeV9yZD0xLjAwOjAuMDAgbWl4ZWRfcmVm\n",
       "PTEgbWVfcmFuZ2U9MTYgY2hyb21hX21lPTEgdHJlbGxpcz0xIDh4OGRjdD0xIGNxbT0wIGRlYWR6\n",
       "b25lPTIxLDExIGZhc3RfcHNraXA9MSBjaHJvbWFfcXBfb2Zmc2V0PS0yIHRocmVhZHM9MTYgbG9v\n",
       "a2FoZWFkX3RocmVhZHM9MiBzbGljZWRfdGhyZWFkcz0wIG5yPTAgZGVjaW1hdGU9MSBpbnRlcmxh\n",
       "Y2VkPTAgYmx1cmF5X2NvbXBhdD0wIGNvbnN0cmFpbmVkX2ludHJhPTAgYmZyYW1lcz0zIGJfcHly\n",
       "YW1pZD0yIGJfYWRhcHQ9MSBiX2JpYXM9MCBkaXJlY3Q9MSB3ZWlnaHRiPTEgb3Blbl9nb3A9MCB3\n",
       "ZWlnaHRwPTIga2V5aW50PTI1MCBrZXlpbnRfbWluPTI1IHNjZW5lY3V0PTQwIGludHJhX3JlZnJl\n",
       "c2g9MCByY19sb29rYWhlYWQ9NDAgcmM9Y3JmIG1idHJlZT0xIGNyZj0yMy4wIHFjb21wPTAuNjAg\n",
       "cXBtaW49MCBxcG1heD02OSBxcHN0ZXA9NCBpcF9yYXRpbz0xLjQwIGFxPTE6MS4wMACAAAAMfWWI\n",
       "hAAz//727L4FNf2f0JcRLMXaSnA+KqSAgHc0wAAAAwAAAwAAAwAAoSKge2ggpMj0AAADAAE/DLgA\n",
       "fd3/A6xgBkb+TErAzu5evZwiWfn1/6Mm3JvlWCHmzQeFx/aehMsT4iVY0r2xO9SXyJunGBmsw0g2\n",
       "IrONJzkQSVACaBlSw+lULMej2PV0JuTNyb+BS64rwYfiTQhNN9zG9iE4kmsJgLL+3kVYZcvkwGVM\n",
       "TNvtGtDjneWEcZKVSzUk6QHYgYyn/SWJKO6H3zPXapZLgLDROC5a4HT+XYusWKpXYcan1KNKVD2M\n",
       "8Lf3FmBY9ZL62JVgADI/f4aM+o9uPK4jtEaOk5duOfcZ6uU52pLsVe+v887jW/flcz0xdbJRsFMu\n",
       "C/qr7qs+s3Ib0BV9Cn+WInlrmVeD+AdFgPAYC7zi8/FSnuk1Xia6M9oVynOqflE6OD0Hu3+d40mA\n",
       "0d42/oh6fRUeq8JfIhrVpg28q8ee7iePoEdQIV3vRHGNgKllkj03ugACMRi6mOZryR65r73D/l4s\n",
       "oawNLj8L1gP+wqkYZUXpbrDOy9m5rwzpks8BG/c0oD/hGcEocNwbSGNNHpAI8rbnJV4jy+BV8xmk\n",
       "xHnvqS3PGJdaFsLBSjTC27HYTc/MkDNg1B1qFsiA/caVgmNy5YAY7NnbnCyE+D5D8XRR6KZQQXt7\n",
       "1Ljp4DYU6+fUzImQaXkW+kO18I4d1YHYfBOJbeYWWFaPPGpbO4/4PHcO6sK7Zc50cExdx70glAbl\n",
       "SKuSs5E14nLe7Rl5f21MoTguTPxemyiyzXUQugLF3r2P9pmCvKUPeQ7sSxdtujUZMCO0jSJUO6P1\n",
       "DLw/jr6J/hMhvZzQbGmqBQh7R/no1EOwwqfSRa4Mj57DGXb1bVX1ili/Hh59zU45dsjrKtdp2lmp\n",
       "7KSNFBZop8q66375eJUh1IQKS/iLCplDPmHYa3szeX1F2aerUvtLUWU722cbyQSkgzQqvMDvlyBh\n",
       "FbWroj0ZOimzgmH5jhwGJL+N6fys8435Ky9464K3w+9MigbBaTzM2N3OgZ9dyVls51vUDA2ZXRLg\n",
       "lOeEGHmRmBA4kjYvmnMpbno8bvWusYIK9kBygCpYhq48rAhwzb3EPdf4ryBY5Vn3oU7HVEcnvxRc\n",
       "/esDeF/eAIjIVpl5i1DpDVpClfrhHdcUmVcb+BQ7Stj6xmDZdMhQHq07jLeyygLLW2UTLY/mM5tj\n",
       "hAqN0F+Kfc4YqEnjDC/Ppf3AkGSV9XyMGjIwM4AMiMs7Fl7tD2WPJ33KbWWN8OilqgnpU7xos8jm\n",
       "1Skbq5OMYKsLNSboXHBUn39aqqF3BSu3xsJJ/W3mKsluxx4SDBpgIRPWBOJmuC+8enALMRpA3TwK\n",
       "F1lkF+E2SdHBoh2wvwnV0wYIt7wctKzBIU4Vmsti/Tk/jSq/tmNAODW2x6i3E2ZiG9fq8lkuvLwk\n",
       "Ym4YiSaeP/t3xylgxygZFmsFi3Wm35pjtCQB81yeBqrzjilVvgR//0tTLO4nbBEa/QaQxlLqISsr\n",
       "TyKYfidc9sUIDikXC9qTrUKix3xHrlZnU9Pw2qGF+kjL+WDy7lp938DTvSfuN9R5vvCkiBHoPrEh\n",
       "f7BflRcGtHht/VnM155rAXJY4t5M6UewGx1ELaIuo9IlG4O1fZaZdkjXnGbY5XbVGOVOFsDJf6fo\n",
       "HJFysdOv09Afzplna+0miOtDEoY84imB1qxjbdphbiAe21ecuvN+ni+LyyqNdv9Uo3tz3Ju0vKAN\n",
       "FQmK8c+qJ30LOTh867stlWym/i6STfdjLJz2vKttfyIkeaucuVHuqjqaCvqeRKGyrXBPRjc+mbbD\n",
       "pHdk45IkF78CpuKF77MI732FRwgvrY/F4Qo9HUT5OxbkdkCh1U1hJ8GguRyLqbqVp6hUqj4pMn8a\n",
       "ESiMtwhJf9rpe9bBASk1lKvCGRigctyVl3eRhMMNZ83DlYAfUujBlM+gl5vwofOV7XxL0eFMZew6\n",
       "fp39p//2mlpnfi6dS1lAWA3U9Ko+PSH8ih3lANqokGLhbiLoCB7VNfejyfuD6MToGHSou3p6ZyVc\n",
       "4OU1eLgVC24eoGOryXqFVtQ2xU8LtLsbPtnGtgZhhv6/F2+CK0sPVxUe5yEy+gj7mYYZ9kTIj/Ft\n",
       "D+8UPlIJpSUa8TqEjkREpjNgImVLi0dslvBTUE9xvg5t8EAEc7G30Iq4uYPA7N5tDBpen8bgcSnh\n",
       "+1WHRNCFEshBKct47rl0Nxhos8mKw6wA2/DkXY3Q/Vgi3hUSs5eUKqLAvdFoOVq/jhx8/62kfXxP\n",
       "yMNPeH7U4z1hIchCuAkHLyU6jEZNcewi9qaP5xOXl3RmnAzKcV1jrMHTj/fYFzl8wnrqTyFJItqu\n",
       "Xg3NF7zkpXPLnPHp8KmY6gyYu06Lo6FMCtK4ljXkkl/yMLrtQYaq9kYEf13/o0mZKuDNiRmkJmbp\n",
       "6PDcruBTLfoz5zOKPvF+p7mmHF/OH93nzeyHT+5IB6md0PfRuoTL5olz8xy0I3f3TbOc4gri1SgL\n",
       "gnIo5llMkCNZWrjG3dyusQ/v6nV5EgtWIeKa8V/DzNHVvn/4n0Dc73QVBWJMtd4Kfee330yFOHZU\n",
       "srItjYeRsHtH36n8LRPEN9NElmATLWoLPNqnk25i3G4aBqSylFjKptrDr/xLL3rfsiYiuHKLwAjR\n",
       "gE+5iac5uyEAsuoDfEmrkUiFBHc7rugVVfMuyo+MvXmhFA1BFwHIx3M02T2KS0uQszKr8yvWj1Aq\n",
       "tzfJRpn8GRwaB+0vMLHVKICV0+mKGmQW7BFXsn4SUCkfMTr0bFsdFZR3uDQMBtGfgsHdC/cj8+LM\n",
       "a2CuZsviOoliCifmGnx0XXxwAKV9mm3jtaG75ZVYe0CWecmtg1Rl4qv75yasnVU4vleQc976+STN\n",
       "kTNLZzpLb/vyv1kQxPD07kYEfPU+0ruG0T5V+bRn4XaF59Lagtv3oh2+Uel14qCSmdq9c+C1YNpa\n",
       "xTnzNhhMZ/PYp0iGG2WNXpXL43ghSpzcXhL1PfXJtwxqXbDdAOoB/8aWSJeYYmkVrRLM9hKE4wBd\n",
       "mVsiLQen+Tv9dsSPY4sq69Zl9fwH8fMuqzh65e71AiR8pPq1dV4ZUGmVo6zjhcyk+XyoaWu//GUp\n",
       "kAd2hX58Ycl/S6gEltlZzN1+WPm9E59pvV2tj1/IeyfLNNnBbeEzd6UJstMHql++oJyT7DjULIYS\n",
       "vMZPxtQ/fm64UBdZzZThdflExFB28atM2T4RYCoKNm0yRcdCJ/BGkneSoEPZnjhgvYgm1Dk8PraF\n",
       "THnmcWJp88ZN+Tcbheb0aAfSXXyRouezY4P3/AAD4rmm+yrCD7vTaEaxe3wXSoWoQhep99FtZO3i\n",
       "VLa1dvTj4kgW2I6Q3SAtYaN4jldTf3kSx7kqDmG03qx5AnvWABhyKFOca5rVpqnsKaPz2L87htlH\n",
       "xjuSHEoP9sZKyArZbqNz1j8cwT3HX73E2AkA0x4nt7QK4ZuaqrD8GxvFLHbfdJdP/Kg4TPu0wMm1\n",
       "CmAv9GF8r8l4td53a1XQDbYy/AE3gE7tjiZjytovJLQhf/QVQ5+/XUop/SBmyTI/LbqFRZjxI9dk\n",
       "T+OTmwy4SOv47XwpB59IFv3+naVEEkXZzkwVf7fnnEfbI2BVzuSbGwpam06druZi7JpDKIAAgxhS\n",
       "D0AFzh7jaVxAM/Oam9lb0QpLYYSkXPk0EmUDrgeIryxl1KR1kkDXovTSCEq2ebPNHFSDxJj+/T18\n",
       "eyaYGG27rs0YgVcEokewg8E9Z2+HCJHgXU23leYFEn+9cdMLzm6t1eOSliWVNyBoB3/nq6R0KIcO\n",
       "w1cqoe9iJjoujtkoAUeonIyL2x0gd+MD1u92rUbTv5C26OZPoQdbocR9q8aNr74UUENyCwWR67D1\n",
       "Iag8+zrnMZ7PPOjYow4RJG2/84xe1jzH8AmExl7tglB5ZiG6PAUQ2PlmDAUzOwSOtrynpCWOM00s\n",
       "ln8a1y8Rtjk2lDf1T0c2981r6jUs/5mVTF/yLe94i25PTFoUPuOpGm3HXEDUR6OhntTMvx/A80iB\n",
       "Lnm3qw5fjDG/Adlj5mL9/u3BwET1MwAyg7+ZRMB9Kqpfx+g9IW2vdKckaXOPmPI/AHuquNyGRwSQ\n",
       "/7ZcyABs+vOZh1je4yiKaxUtSpIWHoDRUg7htVLm3TaDWA4CWQyLOnHVYeKBog9MNg2yChBenb2O\n",
       "48rWOFr15CcPVKZX9RWlRpd52ZCt0JJuv1MFKhJCDoMutH17079sa4+tJSmnDcpXVCNXEAAAqdq7\n",
       "awQ9AAADRkGaJGxC//6MsABltafA0/QGN410/P8f8yZ/cxszsQIrT9lfqqgiPPyhDLmsr6QXTH+k\n",
       "8hhHn2AP9UOVQOMdFgeByvcl7L9905rVdqR4+dgTiv/ZBiXpZr1eO2PeEy9RkE33/58UIbkzCRbO\n",
       "O68+aEOWILeEZGLMifJQ3odCtdpbSHGqLQDvE2anERRJRPzQJ6cHW2VoHILnHGskO4ioeFYcVZEx\n",
       "qsAUUVmprsCtRXhoeXTfyFr1qg2BJmkdHVY4la716C7MrqDb7zdya7e7iBgMDLBxpscCppOyC/XX\n",
       "ToDTypaWm/inbit3MFN66z7xdpKgySrtexnB8IlxaNZWp+ndW+TR/5egCeuCqcRxWX2Fom4E6gd4\n",
       "L4r/h8VLNyKXae0TcI/YsMpBieHzVQJm8leF3DBMq99+Rl9A6QcrFJwASWWqgcRGf40wQ7K2C4sr\n",
       "1VUtSIRJ/6bplTYf0VK3H989nPVXOCDbJSYSHdDVEjVW1/P718A5vajfy6lguOGWAKl4gNGU4uub\n",
       "qlyCdLBGdiC4Cjl/6K7uFQaQZbFxtL6nVsS6Ks5PuBVK9K2XX838Zn6GMVWtsHOfidtxbL41Vlo/\n",
       "MUb4Z3e4W4TDnls+vHYhhJgqaJAiciOc/GLqdozcIcN8rH5PhqlEew0P9FnfjakKji9V7QSsKxlA\n",
       "kQKYEWKYh3+FAWPBwwSkQzpgXCvr4ZfcuD7zkj9RvMRxML4C6xXjQ7vdL8F64xJ+TAUFbqTane1j\n",
       "u2AZQqOa1OUDzbkpAC1asTg72mTVIk3agIeI/cQQxdJX52Yxg35XeWIGRVinMjkviMeRPMNtLXgp\n",
       "yIQaAcLQJb8xCILFcFK/7KVeibca5Y9uZyWsygdEwrbzxyu7WNXm8CWjBQPZ2gdJC6M1sNKR73f/\n",
       "qhGbI++7BDZQ4to7R+7WpwWhqGiFi1MVGZz/PvEPtJ2XyraGQecPR3v/gqXBXoX/vY9Wswyi1Dbz\n",
       "q29JmBpZhldspQt5i+wCMNhV3RryosMhJ1DYwARUAcDyrB/m5iO2/OqR2setd77gbO7NxQD11/NP\n",
       "Cdvx8BdWIki8UasZMltT7GfuoQkTrDYCPPoKjdZE1brRL95eZQpYLzExK2srGVMAAAD2QZ5CeIT/\n",
       "ABsB4fAETCmGho26ICGX/Tqh517biVKN7ONlM3PfycPR5Va197rueqEIuGYExbMuGavEHQkwlBgp\n",
       "CxHRXYwR+JFr/MgcvbsavUF5vgAheQVrp9n3Msvm6BPAIWFLDJSv5xSP4ZjYVigBxOCkl7yk5bgM\n",
       "Qfp3Vy8W41/BVZkBF8gkboN5ezfh64mAQPANB8PXkdxMjekjuLUPgH7iId5I6soQTrsEvpp+3ivE\n",
       "M97FU82H/hJXQSZCjA0xFpk1Io3j56Cmai3920G6kA+oy61YWd/Q16DKZ6nqCR6P+MnYKqaSIZHi\n",
       "8AtYwn4rYUhbpMBBAAABtwGeYXRCPwAfvUuQAONpr6mzGp93B7HzpbGdiG4EB0OYlE1jdAw6arao\n",
       "yEUNcRF0zIsUBKYb1lOlhiOQV0W+QWdRash9OdDrjy8gS3Cw9Cpvaibj50UAOq46OeKEAmKqh9uZ\n",
       "tfL0EswDjVg3WluOSeuubyK5Y9GeD/++LUVFkLKiT2enM+PV0PIEiarwBer7gCJYqYZus0Rs2vxS\n",
       "AMF/qO7OQOpaFNtX1PpaW8rFVmFJvVJMQRaAlFHy24/UqnBKA5ztUSnRE4eR8xBWWYJWU6kezI6s\n",
       "TZrYQ7+zoGgDOsuN82SQwmtrHoycRtJFmc9ICvDTpOpmHPszZzwzRd0vZYsuq5LBCxebBP+aOdHp\n",
       "tm7FMTeVMeAQbzEm8ungbV2MQh1LyEXx+dz6RCm+eRWEoYsWbvRfzZZQeoL3e+qdhLn7YNhANC+l\n",
       "2ippPRE37K+GBZzrjhE47EOtv5x/MLTLmDL5nFRsSw0f78I2wNLo1l5z92e5rh6HIPz+RwuG0K2b\n",
       "JbJXP+F7xuB8jqX435QBxvRtkG4lXOyUpCxJEBj0HQAQcOBYBEgGv0lbPK1fMcfINj+5JGYFq/wA\n",
       "AADcAZ5jakI/AB/IO+s/wAH+wf9aVXDt+2bTYPG/IVWqUUXKw1hkbJG/F1tCFKRJrNHutD3HRsLM\n",
       "XxcSaM8DrgXzswQREBuMec1Sz+Jan88XIDzLqHTVhjHNuglKrtcSHvhqfFW/9TPVw/VRjdZ7tMFu\n",
       "uFpLXswk+jY6dqQG09NNaWa22MbaA6a7cEXnAPp1z4Mj9PbohgqUxTnIWBH9HuZU23T8aR/lz9Mh\n",
       "VynKMKhuaovilc3vU+pexb+QdQw1agBJzhQzeMX4y5dlw8cTHrLG0ziQTD8HwAySN75B2wAAAPBB\n",
       "mmVJqEFomUwIX//+jLAAZSq8N25vxH5ABhPKm8pgXb/uRJaMAIq7tVacEB26b1htJJpmh24TK85g\n",
       "HOqe0UfoqOUfilaGpQ2zBmme/+Hi8J7/B8YwR1Oc2hHK74sHl658N+KzLtTcHxn8/4tQkis2cxmz\n",
       "G6dnli7B6hdOiy3bRhijibNkpGd//kC7fjFSofakFilPkkh5j3MUOJloMdOJJyvM9+gC6JyXpT5a\n",
       "nebFXXzOCZ2vHuWN6SOmWOYQNBshhxyB9u5rD6zARKv72EkeS4Kpym+Abt4z4xrwZYy+GyfPV1La\n",
       "E7AJbWcp2VkIVsEAAAGmQZqHSeEKUmUwURLDP/6eEABieE52qtcAIv0r94FUkOnaNa20uxHyaBE4\n",
       "xQwlrkqGA8+xVbpXP1lBNs4usAi6PMIcpOxLHH2/AgmWHUXXc8LemoPGQXVUcT0pmcJMJGjH33tc\n",
       "fsxgpR4eErnfoyU3cqJ7pfEhViY3PBg5LlawD7hFbcYjfoJVcNvVysJgvigKYjVTmdzDFk2/gqNw\n",
       "Z/j70sVe4Um5NQO/+KdbRI63h4XRCFzI7slctI2E7velnzo47I3p2W7k0oR6z8SthetQ94UAt1sd\n",
       "dwhAJN9qWD/d5ac7NohVjdxttDV+j6NFNJBPnGu9f0LD5Mo4YRRD83einRaNESAef3qUSI6Q3cyn\n",
       "kur7QHBp1//wjI9Zw4uvMkUjiAG5ZNIegsRCM8T6X3Ia3CwbJaUUALT3Ttlkf5X+KlskVp9rXRJ/\n",
       "Y9ay11V4w0Mp7DXjzhbtjj6WkeqFVGmwlCUY7SIc0qBOIffZU4A1GM4CRynKU1YkzV9HxEW6jHPL\n",
       "Sg2WsAuHvHvxezHa0MybojtxMDvYk7YytzIVwXlRKjLlYd2TeE8AAACeAZ6makI/AB8MPqkftABA\n",
       "nwe/idQHxVr1yFxX3XUfN5eaFf2fSnsa2XJnzUC2W4bBrujXHrgVDAVHHVvDIWoPBbVClpRBkaRJ\n",
       "Vh8hss/EAWxsV17Pc1jAT0Ox/xIxwSLa7UnFlU9AEtzFBy3hRWfTYWgGB8wQAlm0iS8D4M6q8Fyc\n",
       "5XeKCf47mOI73RTONPgvWYx/qIJD1rgCAi+QNUEAAACjQZqpSeEOiZTBRMM//p4QAF9Xob4gCdqq\n",
       "Jvm/0gEv+3IHjR3DGq4fL4zweO1BB8wR8E0And0nm25u7weuyO+RZb/Unbroi1wNR3BLQfxQ8idQ\n",
       "DD4w5c8HX5qcgrnxPefZD1jRLu9hIyrLjHXUeTbHgDuAkP+Da4OROxRTUVBxjPOCaCMwI4GC7P32\n",
       "0N7d5jPsQHoqb5HebfsDRV6Ih6UQsY72UAAAAIABnshqQj8AHmb6uFZaiAt0doKLXeEAJlqELcFz\n",
       "VWzh3kBBVoOHeE4iJ9X5J8Vx1UXZMzRNIagH9YELbqvArNw+UOG6/7VX4N1uTgoh6zkMfGqbmnvR\n",
       "nBPdAPA/4F4LyoMj4z80IDeEIQj57xPf9pzX0zWxadIpqw5PzoE74Vjm4AAAAGxBms1J4Q8mUwIX\n",
       "//6MsABguE57r8mpZ9CCJB+xAu6fAAHQkt5kdpnJixhg71AcC8xInE2yGq5n2By+VLflcBgA66qF\n",
       "8ux0lLckx8NWV3QmbQfam0DLgmQR4zOwl8xeCrz/FKeM5MXDaCIUFtEAAAA/QZ7rRRE8J/8AGcEv\n",
       "JPFTp3ItuUgrGP+zbB/7/FTZXb2ZiKUKVKYK3Owuf9Sy+MD9e0LNmhAc7Ewdnidop3ZAAAAAagGf\n",
       "CnRCPwAeWsdjGEDbsFk19EAJOnwt0pbAaCQhr70ogBAkZnKUIq0Pwr+a5oqOcPAikOjjIPpfmaQe\n",
       "6o/q3aaiQpajjIbpjQGR/VbEoGSUGNuT/WQnYaqbXTSD2yiPQ6V+jMoDG8IADKgAAABhAZ8MakI/\n",
       "AB2sduVYS4v3U4IE46ABLUUXmW6SwwKmeSnPXpnGhZLahZ/W7PDLgLlbaokUw4uafaT6O9x+Q8aV\n",
       "zsLd1B4JBZxH3elkcT0aB18g7liJz7GjJPq3AwnRbE/HcQAAAHtBmw9JqEFomUwU8L/+jLAAXao1\n",
       "WLbvjzgLG8AQ/lKJdlS2N+OR7xZXrx6WRE9n67wIk6Ow9UdQX5evsIxrFlCP7TDS9idkJWXogye2\n",
       "Bf7IqdQhspqjGOgyO4gu8m7PR/oz3wdEjsAFsxGsBPl8Z1tjhPACtCXJrZZnR6EAAABJAZ8uakI/\n",
       "AB2sP5AAEBPLM3rasQFS3i9H6DhRSlWA9ltjKO4ABc0Aktkq8WaHNs173AHfmrQYdUFFx8lsS0jK\n",
       "DsX1vxjjOFlQLwAAAH1BmzBJ4QpSZTAhf/6MsABeOZceaO3Rlyjhz+wRSHTwAbjw+HYxORigOh0t\n",
       "bqDOL0SDxzndDTvHSCMYzuGU4300pq8dqGWUSjC6Jbm93uR/Gpd8PbUPW15goILym+M695NpxW7z\n",
       "ZpkVA/DIzzmxAihGnQnMx+Ka/DJD28whdwAAAGVBm1FJ4Q6JlMCGf/6eEABaqxT4gDPhz8Z+pt0v\n",
       "iTdOCfYncmooq83Njl7FKL8UO3wZ8yka3F85XRb64acRubep5rIBXyylqObRQolHvVOVgjYzLTAo\n",
       "Y1nV541PfGqX/2sTJYnqXgAAAF1Bm3VJ4Q8mUwIX//6MsABb+ZcgVju35+3+XPCwq6gAeI0oKT6I\n",
       "GQdjzw6Z4yo4rB8Ym5qyZAn1cEupPBMnCgtDqKxyqcfkNwpZY8bpf5/G0J6JbcpJYvEFUTIQ8dUA\n",
       "AAA0QZ+TRRE8J/8AGH84M0vtybhtrDkRdr5DGquYxfkLMQEliWPdixbk+CoXn1KcB0bFB7vkyQAA\n",
       "AD8Bn7J0Qj8AHPrHbO2/yb50FyqAEwq83STFXTjUYysDv8FuhQAkrrOVPpqy/OdFS/ht9peE2V3T\n",
       "HX7UOoTff+QAAABjAZ+0akI/ABz8P5AAEBPHMIHJIwcOhPCphjgYOkIhBP//joxFS1cwNfZ6nA5o\n",
       "ZPiyIR3pFB0kOrqVahjAv8eIfudNPAqibXI9YYgcg6YS4VIzCKrptxXkHK0vuwFlbu/xgkZPAAAA\n",
       "YUGbtkmoQWiZTAhn//6eEABYa2FSg1ZVvxW9cAH46KcdJKqtxFOJKAMFEv3easaKzSWvDYcadlIo\n",
       "SeLk9LsqlRGwHyzyhWOgEn0dzL4KL6oWmqrIsssAfizZoqfY0uL3rvwAAAB2QZvaSeEKUmUwIZ/+\n",
       "nhAAWPmXOtYZOQAoQwvLJ26r7vByldhp29xmsSBeRBzM9fflKRNbAKLWO8gMRGVU083fpW2zx35s\n",
       "MHFn1haSddUaMyOz81gI3nq0+oynOniiDRHcOXHXkIX1WhPtlrP7KAtQCcOPCPJUwQAAAHRBn/hF\n",
       "NEwn/wAX5oCju2KmQ/UeAECkm9nizJP8t8f3BQOfxySM466SpFOG/mZ8L6Es4iu+SnamA1awPicK\n",
       "dRyWGAaUASq9eqGyDZo7r/YGadqRMhKQJAc5zJAs/pBNXuSybpVBKW75aoHMHBaCx5L1qJjtjQAA\n",
       "AFwBnhd0Qj8AHFhOfl3aYa8dDYmiAEjmBX/pHyf8+2kTLhM/twXUq6oDZONra6L4th0HM+namrz8\n",
       "U+Weu1MIrAZXFyYhoNEGlnAOBBVCFIoOvL6OA9jYvBJZ3I8dBAAAAHYBnhlqQj8AHEw+khDQAIE+\n",
       "t/9qSr+UzBTdj62mcc7B6kzKyUGlaYDLAi9eFSu1snj8Ivf6XmPASXtqwYkUB2Zyuk4WAovFxr1e\n",
       "WHnwmwKMLqSOMwYEwWJWovJ43TG7bCKyd6vLL1Azd48wF905MSs3Gi/Ploy9AAAAP0GaHEmoQWiZ\n",
       "TBTwz/6eEABWO9dA6l/DSpn31nYgAWrCizRa9rHLnUSMqt0bxbW+gkUw9aLMGiXTl196pd+2gAAA\n",
       "AE8BnjtqQj8AG59vRFu4zPuYZiaABc+8t1JI1f+nCRH94jyF0pvGqez+xDMc3vPUFXyJfLX9ffWb\n",
       "XcoT2hR54FJc7vbLLIlqX5BXhMMW5YbZAAAAV0GaIEnhClJlMCGf/p4QAFa93q4BFqYOnyAamjE0\n",
       "ODXSuF+9/e6SehDVmONbX/WGdD4W00CojCxtpph29yThviUFOaCMPrMxGedMWjsgUpf18QbP+9o1\n",
       "sQAAAKBBnl5FNEwn/wAXSp2antYwihefQAjgj4zolI9fyb1bK689kjOkL+t0v6sReew8LEUpNBxl\n",
       "CM/Xdt5A3HtMgEytHzJjZlv/zB/tEM/eS+gx0KCOYE7iCSVMgBusOXnjAZ9wf1sEwAXU8ToD7Rsw\n",
       "G8cIxB5pSrxycw7c4fk6JKfCR57X3nLl2XPaJ/RAi0IYLcJLOYRmXpMO7Wj5TbOprTRkAAAAZAGe\n",
       "fXRCPwAbqVKwNu8/bmcAEtHmgYDGQKxTrdShQDxXLl5iTxs/vu/pK1RiV3PWqkw9g2VGvaZgxQaX\n",
       "SgszAhPS6Ob9vG9XiWW3+tyep7/cRBSJHF34yQvLH1gx1GcMw2a/A4AAAABVAZ5/akI/ABuidu1t\n",
       "qDDHwwABOF3M3xUO7SqS9LYLv+xyJ1w2wPHDxYV4Foonr+k/rh0vEot3Wa0y6/ZmxjfoxDg+jn+M\n",
       "ZVDKqWNLkRl0Js/od45LuQAAAD9BmmRJqEFomUwIX//+jLAAVTmXHneu3u207nT2xFNMJWFor1BY\n",
       "zQnF/RXI2CeOiuqopRFeHV3fkJlLkeW38IAAAABNQZ6CRREsJ/8AFrRo00tVu+Ug1UIAIg2bPk6f\n",
       "LqwB8JLMZXhH9GMdnKSNhRN1c8cMWfaelxJBGQzZx0ZocMotz66QEZHhDKdbqIKFZcEAAABJAZ6h\n",
       "dEI/ABr9y28riI+0AEzUA88TaiLEEgk0LklApdOONNXWXzUZ7ZJj8tX/ZlFpEv9721vmBMQTUL5A\n",
       "bWGSgp/lMYT1haGggAAAAG4BnqNqQj8AGwJ2y3JADRZTu747sc6XaqcZZGpABb+r7iRNESIm1ePS\n",
       "VtFbcy8eyDFOjATgexqvMl6FIknmVRUijv9arNSuvYxkJZdzZjO6vSTav6WOneOT7bAPG+rXEUXR\n",
       "giBFIgrtmwBCD0K5YQAAAGRBmqZJqEFsmUwUTC///oywAFJqNVi13NUQq2jmff+jwt2G5Pa4h7r8\n",
       "lBp0xRzbRpChENEmkaUyyC6At0wKuT7kejdQh2PDKpqKQBzkDMhLTag74QDLt6QInPmTsgq9OG7v\n",
       "OYfBAAAAXAGexWpCPwAaaGWVYAZ89dQfcFjKXZgY0RrA4vXf+UDjhe8bGezGtNv0BOfK8rm9LG9U\n",
       "x1PlG9jtcCGAQnQ1ffHvpsUWAFx4/6lf8T71Za13KqmAM9ZJmb3GhxmBAAAAsUGayEnhClJlMFLC\n",
       "v/44QAE/5Pqu1kbABz8mMlfvCpN2p10ydQPtYNtrOs0o+11ChXYTriNz/2CKX00vucNBFshOraua\n",
       "tIXOQEpNAyfBOMsDWB0uo0FzoZonW9fjzwpt/rcd/joAhhuZVmG7dO2XiJFOCkst7womFPJFMW9b\n",
       "GK+yk5HVg2YAAwB/lhuZSB4t07CYCd0U6oQPO5X0b+F1A6R/s3zNYMLsr9pq0W6Ud8m2gQAAAHwB\n",
       "nudqQj8AGl8+ekAPs8cwgcXUhBLB5Pdf888az3r60L+ppTI4C+88YecrY9hsV2hAIZ2g//xVPeNt\n",
       "xwQU5qvUjviGlGe+9Bb24ZiXpmV9/pj8EFciW3Ylr/YZ779gmIyA7RU05oCfoRgKRndPkj4rZMdv\n",
       "qVSv42q8Ms9IAAAAg0Ga6UnhDomUwIV//jhAATWQFp10Ag6VbAZkNBf+L12m9ZGw4hmZlTVmKJlc\n",
       "5ErWAyQaIqlxX/CsroRDVNpLvQelfkjmKV2gvwJxqGTdEt/4i9D6UMXkP67VRfyF8Qj5pwvFy59V\n",
       "i2spiYoyLqp0irFEC5XLGZepdOyIaTVG+ejHSqtgAAAAlkGbCknhDyZTAhf//oywAFAp/9ZwA5+k\n",
       "qIWIfRakKp/yulPdmiTqXe92hyHkuT/G2w4QfGeZ9LZVhmUcbecNvCjszrEMZ3FYr5LILE43SmIq\n",
       "7mDNrReNCxQSR4UEiJwO39VZC9FZUX5Kk8/G+voQjLnPKR3+bGqBRQrDe+0FpJWXdWNHQV6XU0FB\n",
       "I7UEOjif+21H8XgiLwAAAHtBmytJ4Q8mUwIX//6MsABS+ZcjVN74Aik1hNO4dXvDxujAkPSbT5Ts\n",
       "9/7DKkFtpUQiBHAN0buzWpfRQu5K/IPB9nH01MHwcUgTdoIMyLqh+YeaRsiLQqPsJAcMeqnl/bNq\n",
       "Mmf0wL3H+unsDEzo2lriRw4nequJQI4lMuAAAAC5QZtMSeEPJlMCF//+jLAAUGH/UyTiSXZoviRC\n",
       "tzUPGADa4rzstc3730tDr/TK4N3dl1HZPse4qnw43RhkEYI18GaQN/qp0axq4gI/8ARqKTELl6cT\n",
       "iFJiyRyCtEqMorZ04jPxiXITiHhgstIwZcogUQOjgHKD8IH8HKhpmTx11/alBKC/Gvdq+6OGCJKS\n",
       "ED+05AuLukt4FPX10NNPI38tLQPPC//9jzfJYDgDHxPiqqSz0D0qM4j/SSAAAACeQZttSeEPJlMC\n",
       "F//+jLAAUFiBRg5JoFv4ANaY9T0a5uytKH8iuA2LamsXJ0kBvEVnsR3MIDHOi7AfyHy/1ga6zEPp\n",
       "J3NZBEl6T8ewk0QFAgxFEgYSeAXUfqA1hXgl3MlAOv64XCn5oGtEJavOWWrBqswRMN80y7Mu6ZbU\n",
       "mZUyc+xn0m8mUAHcf3c58oQP4wk7xtgKyN2zzJVkb4uNroMAAAB+QZuOSeEPJlMCGf/+nhAATWPK\n",
       "X3AD9hj7jY/EHASt+IlYiY4q7yM7j3ljOsHt6iiLIfd+0EH2YikXXv/Dn0+Na8dptjh8Nzh+eJzd\n",
       "Zw79Wix0GaKg8wLzz89GI2kKU3cfJIic1WnBNYI5OJgZvvJc6wS42adPZw7+g1hIZRCxAAAAfUGb\n",
       "sknhDyZTAhf//oywAE5+TkGFYcgCBTcm5uWyV5zmzfARJy89yThq+oWzOC9gBkftwo6o411/Yq9n\n",
       "Ld7q1PXsEXr93/Z17Tzd3apaVuPs/X39l7O279iQwfgxLv5AkiXsKGFNU1NTx+gb9msZEeG0+JtE\n",
       "vbFEBMP6CdJBAAAAVEGf0EURPCf/ABUEYDNL7T513x1EOFpAwTQSjJp8QoJoMUPlblmkCBcQplEM\n",
       "L5xPqakVADNfm0mXrvcQQ30xwIXDIIU+OXz/K5E0/Xzd3cng9AOOmAAAAF4Bn+90Qj8AGR3LcqaV\n",
       "kfm+4cipgBbpD8C8RpUcysYhWrrRYYG9rex+sdrC7fGhMXjFIp10j9fV45CzcAnE1xYtdBAJM3/2\n",
       "2CQ0576SgMLHEBBYjtM/WQX55vqPU3hAAAAAfwGf8WpCPwAZHz2RENAAgT63PzT2kbKxBuWfrS+P\n",
       "YhJd1vYajyHlBSLAX+y4tSt1oTAGg5/fAmV6rw7wCnYbQCKygE++4r7nBLRAIvjOjIJZi7FqAwe3\n",
       "jgfqUipumWCfcVttweF+Nm53w0Ts+RiQKLxfpEf907hJiyEHLOAjtNsAAAByQZv1SahBaJlMCF//\n",
       "/oywAEwBqXGj3zU9Yn5dL+gAuqyLp8Z2+HhIZMrxiJj1hLWGZShtxf/S+Ss6rJKrh80nIXGVDbmr\n",
       "isB5Is8fTwdFWQjfTxghnyrmChjjOwGwmdt9adAKAxfvnE/8n5x7tcKMFOBAAAAAhUGeE0URLCf/\n",
       "ABR6lXFJBFo44TTACaYQ7GekswAsFB+KcyojjEh+jAyggpwWnu7XjtUYYbmqkl48X99sBYSvmHq/\n",
       "CDtHUXKBKjtzGwZwj2JBsRefIrNeORax7+ocPly90x5wGR2kYJuLibr+QouI8nnZBZR011WA1IPZ\n",
       "cY6M2cqhBzOrMoAAAACCAZ40akI/ABiIZWI3sGhIXVo2WQAq4hM/hB6sL0IZVjie52Niyp25Tr3Q\n",
       "Gij5Jy+tad6X9fYKAkNlLs25TeSVz4BLWvhDv9tOmJbRkptzJsgdKpN23sXEOaala/dEhZwJvOPP\n",
       "o6o8JL6aatl2m6fgajjzl4MxIW60rRTvTxk7mSI2gQAAAG5BmjZJqEFsmUwIX//+jLAATH6IH668\n",
       "hdI1Ue4NHrGMDUkvINspY03bULYdRk7dkr0pJLQHEn5molPklY0Qpq96g/HPvGmXKn8Qg5QPE0K8\n",
       "9mj9lNmmWdUBaQom0IgMjzKRyia0kwfFElTOOFMbUAAAAGBBmldJ4QpSZTAhn/6eEABJQ5fJABod\n",
       "aDfMSlaWoqstsQua7rpL4Hy7U39f15t3D/nx/8TufNSs0uaIyi7nyqkjPuTOr9OxUBi1XvV3m73a\n",
       "oC5Hx8cSo25+tj2+GGpjhqUAAABYQZp6SeEOiZTAhn/+nhAASUQiF3/JUwC7kNoAHSQoVTTDfBr7\n",
       "ZpQ2qZjO091pAhBgZcgCKHrSrhYsz2IAiGiPgovUqqp7e+xx/AbVQ9K7dPoj3EE1wEWNSQAAAGRB\n",
       "nphFETwn/wAT6oecoANHx5e/v9htkxVHZWE5g0Wmf1gOJN2g6TBVofABLJm6gfqkzfwFzeDMJDfx\n",
       "HnvFnKNjI8Qbn02+HoRg3foL8OdeWLav4IMno+PA+tkwe7Dg4+fs0aQgAAAAYgGeuWpCPwAX3z56\n",
       "QAzepAne41dDKBZl2qoF0kXbAZTiiNOCeC/+MbfvP6fNWOFJGLMNO+9x0sponTQKbUSd7gjSyn/2\n",
       "ImYL1Tzkp1h9T7RTlcQGPbJDnaBo77QfHPx+H/UhAAAAgkGavUmoQWiZTAhn//6eEABJvnsNE7Ng\n",
       "m5H19nrtdHS9ABDeTGDnPh/hvG2WXkDE8qFDCJGVAnx0LASOSyZ009mal0br+IZFV/7jtDaNxvLs\n",
       "iB48tUlMDyD6bLo4do8pXQDjsS+rLZeKvSjth89LLg5TMFR0b/x8B8TMO329RqUmCNgAAABOQZ7b\n",
       "RREsJ/8AE+ZSNq+qSLYB3Psss242c9fXl6C/N5tzwfjFQ7gkxcoWgvCt/6N4RcKMi5WjauzxQsUl\n",
       "Vc/8bOZCfr2cftZuwc5/THeZAAAAegGe/GpCPwAXQf3kWEzIFIjWkEhACyJDrU2hDYQrkdRNmyHj\n",
       "315rMTk3mykjjWoihgKiHsoAQU7lcM8iitOGRUhz2qERA8QpVkqwVX1HGq4k1HIeNK52Fu6g8Egs\n",
       "4j7vSyOJ6NHcxO98m7qif9WTqKjzbNb9q5Gs7wKDAAAAZkGa/kmoQWyZTAhn//6eEABHQ9V3/t9+\n",
       "dsS3XQjvscYDYqc/yxtMBfN6zRIbOzR+mKkqt/6v8M4XF8rDARSRoGoVAuvh/F4+UGoEh/loCSCi\n",
       "XdL+r1hwdp7fag9itr1W52bXGBlzAgAAAIlBmwJJ4QpSZTAhn/6eEABHvntIrGMCAKzj4PX/oNJy\n",
       "ze43OZog4K7b6+n7oZGjZGOUyk8eQeVsoPELQWnuZcfXIY9sTbGRiixzxu5ETF5LNW1JdLDCP8RR\n",
       "eB6F8i/j1oWiaWMF9qfymNfuTqBgH22AfuvT1I83rlSPdmvF1C8oh+LNQgI7EHB3QAAAAFlBnyBF\n",
       "NEwn/wATWJJAq9OUMhhEpgATNuDrglfqD+7qbiwf5GUfWXvWB2nVvq+/ykJP6MDwsiotmAD63QM1\n",
       "m2k/S4V9YUjYIXaSqSUVhT65vEDUEnYuU1vlzQAAAHUBn190Qj8AF0BvyAAICeOYQIqXUlqgj4Nw\n",
       "szj3GWmWIUPqvSqX7cbCuX6ZY7Te0n+ALqHf8DUo24oYxVcxxHfZcvl/9K5F4or+yMfQVRWuPCrS\n",
       "r7bYhClv0p7heo0VNX8ad+BE4PbuxPvr85TelWmx6rT6OygAAABKAZ9BakI/ABa7NqA/o7pzIAWr\n",
       "HaXJrlp9gxAOREIGkNvdvXpti6xAnVwmk/eAFTZjH0YBHnf9diiEz/KEzwzDTNDkNJmu6fc39p8A\n",
       "AABpQZtGSahBaJlMCGf//p4QAEW+e0JBzkIAM49I8A+iO/huqtXLGYiQhv3BGwDyKY4bYDONyB/s\n",
       "4xfzQWNgEmbH6PdDsNR0olFE55GcfmPm9sCRo8gGdHmEAf8BgSsYnZH2+omvUK3BtgsoAAAAN0Gf\n",
       "ZEURLCf/ABLWoC1NVlpT8fWod2kPPW9CBqccaBfgwxNj5PZjL+CAR1fVrNNqOKNqYBSb5i0AAABL\n",
       "AZ+DdEI/ABawi2MYCAtO6W90jBLfjo1LiMJ6t5mp+y4tceD8Qpw2BAwMtvv+3mc4y8ssN/1fgeNa\n",
       "jycpg8mLzmrId/GhugIfLuqBAAAAZAGfhWpCPwAWtSTj8AAaPi8WgIC47p9OyeTB+67MsEW1Bi+G\n",
       "1t5l6qYMUO29MOy8ALMtPRymyfAym/jQUbfEg2n4OPGM/zVaUmErA79BTvFMA1S+cp7drcQbMNNt\n",
       "7RDd0zgdOpEAAABrQZuKSahBbJlMCF///oywAER+hA1640m7SlYp0ARGIFdt22O3WfHfkGFF/zrx\n",
       "Zf/rinQumfTN8kt4EkJ+P/t1rgpeSHNtMAgGcIq5el7z2W2P921mZXgGErGUEktkiM/X+RHqKolI\n",
       "cuXWgtsAAAB4QZ+oRRUsJ/8AElao8QADQGGuG/q1MTh26Lfwzu0dSjVRIG1bDe1kuPg3g5svch2W\n",
       "kZGa3UIZZQdh3776oF9ZoAXCUeDveI1B1xkE74kKJtTtPxUomz7U3bCb+zeMeIGQPMSDTA2ogs2v\n",
       "GRw5y5gKo56jqTAN8HBAAAAAZwGfx3RCPwAWLDVEcsHCfwTyOZSAFhdYKVNxW3lV6Y17/dolsTaj\n",
       "7T1Bt6gEnTVlurgYHRoFg1sB95zt50080CTSp3NkoxYuQk+t47iB/zPgl4GKumB5Huv6k/xMWsZL\n",
       "GunLQ4BBDEYAAABnAZ/JakI/ABYiLvELL+UTgAtaz+KXhvdWQiRFv0kOiT5XkgMjpDpu2kXRLLNO\n",
       "QyKp08mTZX9Npa62GebpXcZhXDGiowtTagU5jE5jjQQMxQevtKcmcwNoiW1/ehDbHOt1uNvB8R63\n",
       "dwAAAI5Bm85JqEFsmUwIV//+OEAA/vuNoFdADi4sczCwWtFhatGsxX8Y1n57n5RvyYdVi2IJcQ8K\n",
       "pQ+iTOD3/ynQILUszZf+y/zhPM8ULHcP/RRsieN7dNkAtZXI2JSqsoHKcrtwlhwnQHzb3S2HvDi7\n",
       "XjLBsMkjd4VUKsG6T7DnlHITU7DYssPvvyIXkRHLukOOAAAAhEGf7EUVLCf/ABHc3ZrJ81a2gFMS\n",
       "m/gMivut068HWUkI06B9XtE5Qd4r84PPkgbNoT0mAIPfghyQFPZkA5y8tVnMQBEgM2e4MKYE5SmT\n",
       "BhJGfti4PdZJFK35myCxbTugsJ7RWDAmaDRvmWGAKsfV9H6ZA6e6sk+1ge+jc72n0ex8CX3DQAAA\n",
       "AGABngt0Qj8AFZwTKsAKnepEPlghd2jjewD6R/lBls0DsE2aWJyh51hmrABVJtJTgQZzYuc7aFKN\n",
       "y6ao6vJ7yNXyI/KLqKsoFfajLU8uKK3wPP3xQ3C/auTUm1R5Hg0If4EAAABbAZ4NakI/ABWbNpWM\n",
       "wEFUQABcMdpcmuGygb6GpxrCWgIGOtSqlX5JwwDZszMVL1r9Xs6QQ+dx92cfWdreoQhvuNSWO2Uk\n",
       "6xU5Dyw2ierx4giCtoOCQ8xifiesjQAAAFhBmg9JqEFsmUwIV//+OEAA+FjfXMAOQaEN3Cc4c+YH\n",
       "XZd8LLlrnHuSDY5uFilPhFzJV+5aadwTR+N2uKvqgiyJdoD7O/1+m2SvcSBjN9Q8wPJbmCGtjOMx\n",
       "AAAAckGaMEnhClJlMCF//oywAEABSGDABdB9qx7b8OyZECuOmjsIqzyZ4P8hLKQ3b5T07Wg0KULH\n",
       "UZuHzrt4wvzd8diXax06vovwkF3jXGrjB7rkmin2aWys0MsYF0YYZv5JO1dfT9f4RhIUFhkDC+RC\n",
       "Q1ebQAAAAINBmlFJ4Q6JlMCF//6MsABAAPiXwAWtnl/UzUSYNzIx5Cz2l1eKWj2ehFjYzwqv0xUg\n",
       "vLW3JmG7P9IrI4VL38kwUlXDwAqrAy3vnnW/tbfo8M+uslltsogTj87YJBZw066g2na7OqDGDYpk\n",
       "kC/usrVG0bku49q6F24/dgj2lY0j7HTGYAAAAH9BmnJJ4Q8mUwIX//6MsABAAUhgwAXQv+lAFtu/\n",
       "PoDu/NpPzouXSATWFELoy9kDBhhNPKuPn3nc5FDy5c87NHHJ3CMsNSxtXXfV3IZIpzOT48gYWmah\n",
       "AgGCLObrRvbkqQZk36jilWRDASKO6otyF+OvRiPvQzv/dt5Qj+aVvOSpAAAAiEGak0nhDyZTAhn/\n",
       "/p4QAD+65+sRoDimcf72FyTL8eACg54jldpHm383tObU43/B2PIeLJhcH6YOOo2p4EbZtOqo+HJh\n",
       "bFycymRC/sskd3Ap++4MTiaSULRyuD+XEVuXySvOaFBLlJK9NGzFK5K14YzdPd2VNqruR4aeE4ia\n",
       "6m3VT+ghoGITJ4sAAAB9QZq1SeEPJlMFETwz//6eEAA+LWRELj/cFBj4CZP+oCChJk+Ruv06rFMt\n",
       "1vNf4X8tRnUyfMSkCxTlSeL3pTBhBI03kM8Npx6s5pqE71xg8Jcaj7XTcs7uhu6lLH0FHBXZ3vHq\n",
       "6HgJ1Aojd9PTqeuqqSjhNoPCzIYONCTbncAAAAB+AZ7UakI/ABRyL0RYTMgUnJr9qQgBLVS54IZ6\n",
       "VcX+AnZPuVIb06GRMq+H65G5PDLtexKE4v64uuZNv46FW7ILryyp/33ytTtRcSEF5O3Z1UxBCsJ0\n",
       "cG41247zMyuhjz2D02md6rolnmyl258NFwh/xKvfRxClg6o/64K50o5lAAAAnEGa2UnhDyZTAhf/\n",
       "/oywAD68Jz6OFQAj2+A6FWTNUFIj5NAicOyKZtRvqnHr5DFB2G8ZVwfdf13BPs4B3odNqoSxrPh2\n",
       "ALgDr2iQcojB17cwskGtBjLV43wIp0TtZgF33c5lnsXhBmxkH/pW4uFrtwxpF6HTwq6W7ZeZ/ILr\n",
       "0XgfIFKaqgLokUIa6G0jVa4DaBHyidYCsG777v7KqAAAAHdBnvdFETwn/wAQ3N2ZqLliBMj/IwAe\n",
       "MXru0hpVsO7C7NbWYxfjjNViF6dkWZTPIkfls8SLClBjGhPUkG6YcVCRyAvzmEPRDMUsUM4HXz9D\n",
       "iiLuyaCl/ymAs9TYYOEPPnO7dx4LXGJL2k+5C+k0XOhMWHRttM8nGQAAAHABnxZ0Qj8AFHBvyAAI\n",
       "Cea1o2SWutP2JgBh+7tBbIzrf7qdSu39wvKjlXKdXxVhVDWKeH3QNicy3UR208z/RjqVyT3SKoGB\n",
       "2OSxCaXz4mdR7+FVyhJ3WQ457A7CCYDql34CjCuN4JeXetKl5lUsCLMxAAAAZAGfGGpCPwAUdTbt\n",
       "cpAHrdY8oBPAB8BtMm+P9MbX1nwmSZW3OniGbFS/hlU1UBhdfQPmAaWCyruxINotx9mZjnS9G166\n",
       "eaLMMz1BwkHR9OsKIHPui+GyFsdd7E3Sv9kd6DavNoAAAABnQZsaSahBaJlMCGf//p4QADzWcHAa\n",
       "P5OmAAbB+iG0sofnRr0huuEvjrAmr9BoLDdi6XvZULpsK0fv/WSW80kFE+sbZ6ayhGtdVErVNyGx\n",
       "mVPcZlo65FfsNIYc0aXZFXtWHfP92wWlvQAAAFNBmz1J4QpSZTAhf/6MsAA9XCc/3VLs9N3Af1J0\n",
       "Vqn0ZTOkAHDoM9aZBIYX/3Hp2thbDA/3eeT43M1okqjCpM1r8r45TPzdLfWKjs+uLuh1ka/CaAAA\n",
       "AElBn1tFNEwn/wAQVqAzS+3JuG2sOnx/d5uDo3zzDExAgNiys1hd157mFXvRs+QJJ3fncVdK57Fr\n",
       "XfHyWoLXehlmRDWuH9orWtN3AAAAnwGffGpCPwAT4f2RENAAgT63/2pjh3OWLs78rBpApDH9BCYk\n",
       "WEjsiF3SqdiDsq6t71i0LTvaFbs6jfVEhZy4duvx/mJRSgJOhVSbFtorj/8A5Bf5euqBht+SHLEj\n",
       "QacRT5K6J0eFYwirY7VkvycLu12ZfYTfCGtX5CaAdqo0AB6Gy3PETcUaRUJlGb+j2yUkY4ijpQCB\n",
       "JVAYeyCDbD0n+QAAAFpBm39JqEFomUwU8L/+jLAAO5ykWYz078QAN0zzxstjk48/lL5yoChc4oOm\n",
       "9egzqREdfO1km40M56tZIzE3EQ3oog5Wma8sXnbyGYmja9KvDmLEQliM4IMj9FgAAABDAZ+eakI/\n",
       "ABNdNp/eILPHkd2qAEqSoz4A7pGCuLS9kJ2tP/rS37cydU6IN/FtXtO7TBH5AYQ9/Vf5uQ4ucJMZ\n",
       "hwVKMAAAAGlBm4FJ4QpSZTBSwv/+jLAAO/wnP21rt+ft/lzxiYUAdtqaORVSwc5h/t5IsUz4Ien/\n",
       "mV1baj+REOWRl/BwX1GP9osTxxNB1qVx/CPvnjncBcFfR2uebKvUAV0Kx6KCpf0LgYLjcWPv59MA\n",
       "AAB+AZ+gakI/ABNV4NrwApxWdEAJlinAiYi+D7igjrrt4lpl+rELm4vgIHtLwLClmeO2KLw4q71O\n",
       "dcwoAAHV70ychcBW77V/+9YYW4bx1hcgvi7yG0gagDOTOEvEfSFQR+PW0+HXywitTnOusHgbRuCk\n",
       "pbybCXw/WYHjfCLj5nmAAAAAX0GboknhDomUwIZ//p4QADneREPAD8ojJmNd+JfljxAqc9qR6M+w\n",
       "/bR8wIuo7ZNURVadm6eKKR8eedKxSAB+jL3Pzf+ClLTHciWWZYzxqH4YcYLhbAjlMrlydU6fU9Kh\n",
       "AAAAX0GbxUnhDyZTAhn//p4QADneqE54n5mMcKVwBY+oAKV1rNMNWD41swo77Trrh+niGWp4rDIq\n",
       "bT0HBQhfBVuEs6NtFngfnYgKyQD2PRQJUQWx9L55KLFw3ZrBY8A7+mepAAAAUkGf40URPCf/AA+L\n",
       "MsUAAqeD8wMTydNrz87UnSPiTlGsUrqU2HpFaIs4K0h9hDzltPeeLMs+Dv8FRRyYovfkRtAmtdji\n",
       "2C5rmZMGTYdxmKPs0FEAAABlAZ4EakI/ABLdNqI3yIDhgQcAEtOvGNvhz7N424oI667eJTcBW9gu\n",
       "EhhkzVA+CVK94dK+fNw3scZNKiH3PY0OAHqwaCDsKnDkwHkySTgqjrw5A2I4pceaGDSxg8iHguaa\n",
       "UWJWt0EAAACGQZoISahBaJlMCF///oywADqcJz3V0tQL4ECqEX85audn2CeQ8Gz816TWiPqE+K/s\n",
       "wKfVYdInjNoY0Uxyx873w7LbYEl75DED6WaNBD/m3J4knD5IJoODVECxvyivt3EBQFKjUciXhp80\n",
       "uDf5U1YxD+1K2rnUjQSrEbARvs1WVpwAigIByXEAAAA9QZ4mRREsJ/8AD4g4rYIO42kEXtNGOhXE\n",
       "AJj0ppqEv1aDgh6DeEmCsvoeQXU0aX19inoMNICzKaHuns4RgQAAAEcBnkdqQj8AEl02ojj/4vCA\n",
       "EtQH9zvfP1/cWKvsIMmTc8Ywp3wQ4vs1DdwJpdqHst3VHAXM/hj8JiuAAnWHflPkCDYi3gQymgAA\n",
       "AE9BmklJqEFsmUwIZ//+nhAAOH5w5zsmjzi0eoAM/K61hd1yZFkvpdjCK6p5Ut3kXYlquVMdjkWG\n",
       "pEtQjHSxif1Zj/ZCLmUa5VX3GvBUaC7oAAAAbkGabUnhClJlMCGf/p4QADjexsisYwIAoMtQJ3af\n",
       "CDsjKVoC/iqOuv52Vb0Ih+AF4F5RcZUx6xcqkuSQlb7xNhX34tgJ0/Grnkd+EiTZbnFpsWIHKczA\n",
       "GF495Jwmz87ddcSSclzVFIoLvME7JvehAAAAaEGei0U0TCf/AA8wOMOgVvacxABM6j5yu3HcveW/\n",
       "IPHVVuJTPnT8+3cUoLqeUwecHaR80CRfut19lgem9DKDNi6vCGi5zcXDan91qjDoB/feANP+eu2r\n",
       "ZL8OvibdP+RA1YOgBit3KQrIAAAAhgGeqnRCPwASXhMqwAz56nhA6djH2aou0KJ+0J5SDCg/JfvO\n",
       "k+cm92muZXLyE5M3F6M83i1fXtr5at66cnaC2SOlaCO2PXfnYvVdVKsWIZRS9rZ3lak8poNUoYjk\n",
       "7Uxnnp6XjaNjN7OM8I2XsVDOdLpk27WU2gAjDsvtYRVHa/8KSQ0AxQtVAAAAYQGerGpCPwAR3Tai\n",
       "N9SssHLEAJkp5WCfei7OCmS5I2p7ZXFLcUpM2824byHVW1aLU8XLvU8eYrGGqFQ0mUU/VAyJ7Ps+\n",
       "xFsL8jCy6a2MKYGPJr0Ui+W2H/INJ5UEz3JNKmcAAABGQZqxSahBaJlMCF///oywADfcJz9t5u3R\n",
       "ed9i9o1zTP3i98/Odkj/b0yNKHGLEkKVvF9VN2baXAIptyu1jaJIxj8Mav1oLwAAAIFBns9FESwn\n",
       "/wAO1sg9Z1JtxtPBTD8s6+AtUpfxoAAtl+thE3OLTU4M04sb7VbXCqdES2l0tGRUTUHSOhaOAGmA\n",
       "GYXADqAOr5BggRqjMUF1mOsPXOEEbxb2Ntr+mW1sWkETYAxxuiNm1idxCSvzLND9iSWd9ggywtfL\n",
       "hf/jb1Y9u7kAAABUAZ7udEI/ABHUsg6S9Jj/X5AACZqXb9LXeb6juwuYOpH1VkVGY05RUVyfoCNZ\n",
       "zMuZ4KxnfUNIfGtEWet38LoCq5p+//OvhKq8UHuDySxGNsilxFjUAAAAUgGe8GpCPwAR1/DORIAa\n",
       "EFdF1m+jZ4W2IrQw8QUc4YM8TQ3Q9ULCeHPZHXTTH0lIr3OLs1QThe2T/tjhB3Sai8iIlvZjGgnn\n",
       "ysguINkuDIJsIHMAAACAQZr0SahBbJlMCF///oywADZLOaiciaWIqcqKDNpgBJDZUiThJqQ+OnIP\n",
       "hx6dEZHSKHzAM1leMLnF6g0uXMSggO+fOz+w/aw1yoA9WsjNEZxJqdygUPs14oTepKBPV8LQrPVV\n",
       "6AkxNy0SrhYWN05L8xB7bKfR/UhKD31uOu1ectsAAABKQZ8SRRUsJ/8ADoM7R3bFv2x2g6coFDXG\n",
       "02qKsIG15TI5Lh5g5G9fyzoxdOzS8S65dSso0cer+xC54WgZeEB3shMPvphcIKpM5qQAAABhAZ8z\n",
       "akI/ABFVvlrwBvYAO3y8AAfuksq6ZG0kWBMzwH8HCzstjPY2inA9+3hR5oXq6qh/0peNOPXaX1B8\n",
       "ggy2AgZZwpMseP6AyrFljefdeKjJiH2MDVRnmGJkc3OrD/VakAAAAF5BmzVJqEFsmUwIX//+jLAA\n",
       "NpwnQYQAZ3KBLqAAasAJfwkLMuv9ytEGQMqaKyOWImDO0fDZwqr52fvkCJUBLb0jfwoJZeZqN/JZ\n",
       "Bc82ARbnrvJZvkypRHkDuUX1VK+nAAAAikGbVknhClJlMCF//oywADUKz32wBW9yVDdf8Pa9+0fW\n",
       "OeuWLE9v1hTKd1DtzlBv9puLqhZP0PLnnlNBbegByabVYZ8TEte6JtjoRLMSgJ+g7Vx/Ch71NvcF\n",
       "LgJQXHAdZN0kJG6veLm5m+kYhi5iU11V6V81TNU0FqqTfJ9DLaJR/hoabPsb6/OdegAAAIJBm3dJ\n",
       "4Q6JlMCGf/6eEAA2PCc75dG9wBf5RspHGJ5RtnSEnjZuQeVXXiqAb6oNoxj9HurDCkbkHs/0Jw5f\n",
       "Hbw8OTE3MQ/bsvvfXK9BRmmulkX3jjje/PpKM0cYs5Fcz54zUCXEE9lZqJ8SiIunMBbhooqVvGPG\n",
       "dlW17dqT2pESDGVBAAAAv0Gbm0nhDyZTAhf//oywADUpAhPvgAXULeUcOGD5N1IgBng/+5fFgTXb\n",
       "BuAdg02TfW/8AEfpFZLfLZHa9Y9EjHYLeTa6xj+f77tS+jGHODqc1kvN0P15dB8tfqKU2K1VcDay\n",
       "imnjgAWWlVicTuOPcL5sE8rbgjhMClYoOeJ80LyleFGkrB4MdLhb422SkncffsG0GILMxrh2o9xX\n",
       "Geon2RJ1w7AZva7W3yOFjgBap4+0XxDuBWGnKW0fKdHZb9C5AAAAZkGfuUURPCf/AA4oMo0NaAEl\n",
       "1XtL5CX8DwYuYEsPb0PGvwIRzjRLuesbsQ5+HihD+4KIevPVvz5Q2dQLDOD9w/SIderMuihOVjKJ\n",
       "3IJdqb+fVR6WomyCCiwmRFtwyDlU4EI4vzqDZAAAAIMBn9h0Qj8AEN41MD3d/x+iQAJxiGZNR6/o\n",
       "Inudi1Q0Y1Y1CL1SUm8T0iBH3ULu8yaE6Q5g/7tKXgo3IxzZbNRFmF6xHGRs0NhhUNXjGjVcqd+j\n",
       "q/6glNJQPWrNy9amab+efmvZfygiCZAa7Uybyag5g5JC80w8GiHduF/PRDKIov1uIQAAAEQBn9pq\n",
       "Qj8AEFXg8A7+sO1QArpF3OzXyhtfiSe1ZvO8ehAbUswL/y6QAtmBq1tr/f+NYYwogDcH+MgL/vO2\n",
       "BToRfzrgeAAAAJVBm9xJqEFomUwIZ//+nhAAM4AWc2kABAFqmEs6E3e1ZdrLMthly+MenoVwklI6\n",
       "L//78wGswW0KpCREjvEZuexxUeZlk8DJ+UAMokDk2cNnE3NbCrrB1WkZf1s0VrbLnwPzoDIZRaF0\n",
       "bnRo2eE2W3OsYCC4+3CA17C1LIyKq7ydBNBpLuJz7WrbvKnEYN2LbwVQo9jscQAAAJNBm/9J4QpS\n",
       "ZTAhn/6eEAAzvwaV+HgBNW/O1PPctxr7Ck4dtrZbMOwZoy5VHzttthI/5sdxSHbaqcSzBSKuYJ/d\n",
       "G437X2r6sWIHz7QXfZ/rK8I9AuTZbUBLBnIPbFSKP/5ftp4cINxtBLXiMJ/PlTGE8yeVNhrhL/Tn\n",
       "VT0ZC+MfWKe2oQctqgtja8GrkwzBS4z9Q+EAAABLQZ4dRTRMJ/8ADc+cFqaoVe5KADvcObnYKF+T\n",
       "FCPsozhXHXeyquH0zs4668aZap6507ZkQvMD0vbrHi87rmPHLQHhnUiU0KPY2d1ZAAAAVgGePmpC\n",
       "PwAQV/DNRXYKQgAasXilbGE0b8wVGzmYQ53ToF0/Tf/8b2SlBM0x+Z46v6+dWJesc9r3mv+LBVTH\n",
       "nEQQpoZHZzzCaj8CpVy2f1/dd9DiDP16AAAAkkGaI0moQWiZTAhn//6eEAAyfwaV+HgBuWjeVSoA\n",
       "s8f4bdvoE7tbxMI/kG6rTFX+Xfmh3HUPB+FzWY5QbsGjbBU+PwIMNK6GbAbCUAvF1aKPdrc+Ed5M\n",
       "CbclR3dFJEMnl4jXYFBBaUVRGLFjnsqWzrjCmpOu/Y++2YGLGTtEXNfR5fckbTsGlDVWF6qxhWwx\n",
       "2AfBAAAAhUGeQUURLCf/AA1/oHiAAaAjq5UFnC5UcL1M5PunbXv7M2lk90jVFk0MHCJynbcqkjIn\n",
       "XTmO4/4qIminPaftIQkPsdfXBzHJtxYf64gCRr9c6fLcbdCmm79e7qcmlEUPOa7d/WIvpgS7X4Tx\n",
       "YgOfrfamuLk7Y7ON6+ECwfPMT08nUvhDXLcAAABbAZ5gdEI/AA/dVblWrbISpwAWGaT42yJkLZix\n",
       "RnYJQOcZS9dbVaXjdsGiAWIZ+5GjQjR12JUHnkvX+43dIbezjS+7cpV7ztw/LyXAloWx/mrckhWh\n",
       "H+Sn1pEFwQAAAHsBnmJqQj8AD947Xuz9t2UgACvQif9u2a4sfI3cHW3OWenRz7bTDhut+F/3Jxlx\n",
       "zeNhiyUVzKlvQk6VYjazykZpFjyIrvuMmH+HcpI2eko7+y/m5O0UepwABDwjMfCT5AR5sUmSlebK\n",
       "XWPTgpzFxQqOtzigqvgxQigiqCAAAABiQZpmSahBbJlMCGf//p4QADDr4AqV37zzRAVlgApXYOLd\n",
       "EoFIlLDr47IrOCT7buLogQXbH9Mqc4G2pQlqtOAceUl8ENevo7XMmFTviFPnwmpKUcKCbWWCGfSL\n",
       "BVdPpEMlzDsAAABwQZ6ERRUsJ/8ADTMyxQACvXffHEw5PGiAOX1WksCHyJeU1r+XpinNydXsVszY\n",
       "HEbUzHQkNhEgSPZwHBidBMyJYb9ZRnaNBpfIk/n1RwnmXxnkH6b5spL29btF/edCYKFQHoOuY82e\n",
       "mMqw8oirucgOwQAAADgBnqVqQj8AD4Y7bzD0qJvyXsYPqfQpiMmwk95MLgNemQpclYfBQ341zXR4\n",
       "KW7NH6iEiPkrScHV8QAAAFxBmqhJqEFsmUwUTDP//p4QADE+4jZpJsFjTgq7zwDb370Slkw5dP4X\n",
       "1ATJJTGsiP5aFiTJJWLglsjeGOuiOHK0m+d8O/crKkRLsqvwQbUZZiLhE45nmRNiBBypIQAAAHcB\n",
       "nsdqQj8AD4YfSQhoAECfB7+J1EIJbXtdtmOT5X+uPG7q+blryI3I91GFq4mCqFpJBhYpUPMGe13I\n",
       "kwAhPqHDVQcRwlEeP7sBeZ4i+6XCCN4CQuEpw8A4j570nruQgH5lhyMmie+wgZO7wTFlKnyA7Dot\n",
       "HO2vNwAAAElBmstJ4QpSZTAhn/6eEAAvq+AKkjPX7AsgqAC1RuFnRjpIyohI6FeFMDd9mGKLzSHN\n",
       "cAsAqvSeYnTpJ+j4FKY6S5tRFa8qR1CAAAAAWUGe6UU0TCf/AAzjO0q0oyrTBxzgAfi93pEdwmm6\n",
       "BPwzgMNUQaJz4Wl95a4Csoi2JmFTgztQnTZPZO8JHlHpyvVfpdnbvn5Z7vS1CfH0DrYyg1XbyDP2\n",
       "mOWFAAAATwGfCmpCPwAPLh/IAAZ7e/1XdFPxLihpNhugLRD+mcmXyDboGS0WKmXO+bDPhJM/lu/8\n",
       "MpNI1/ze6t9wLiDaifIjbQzUGP+plMb2ZXbUg4wAAACGQZsOSahBaJlMCGf//p4QAC//BpWg4AiY\n",
       "T/wtH4ULPTIvsS0hTmpxOWhUcnUluEY6AeBm7hdCvu20pGoDu6z7q4h+XlrJS+QWAvVhVUHFUtKz\n",
       "1tSdChPh/WJzAJLvtvAutWN1yrbBMdtbIKZJKAU6LJ+ovw+87auReVZBVEGAIilQylchTcAAAABA\n",
       "QZ8sRREsJ/8ADOCcG1iKlxIf6RHpcvYyPAWyy2HS8HKZmLkTlftVrw42jZGKMU7NluOQANEABn3m\n",
       "TB+xJEbq2wAAAFoBn01qQj8ADtYfyAAGj40BdBHPQ/VVi9sRJP4wM380SHNoY+ZgEEqDdzluy7ZI\n",
       "sIK+mPZ6adHyxdPVkUQdLpjK3Pa5CwobIgpVSGJnR4X0bOIZPx2b12jjXEEAAABbQZtSSahBbJlM\n",
       "CGf//p4QAC6A8aDHhXu3zMfMjGUernuABfKrR+KzLc3dbluKKWL2IH7/Jo69j6DdrGZihRvONTPo\n",
       "cL+ePxjHWLRKDAsNHqUw2CHhixGKA8HuxwAAAJ1Bn3BFFSwn/wAMj6B4gAFTUaNKt/6tRwvU4w15\n",
       "eCEvIvncodRoNLsiop5oAO81SyY2QLT8nqtEpvsdvHZ7CSnCI9Bg0dCEyQBN11GpoHhJZxEWDRqE\n",
       "pftm664XBdiTCNysTwr/ejbz7zC37Ro2Pjh+VE4Ie1YC54dfVN++g2OqY1GOasU5QAsgpsId8gQi\n",
       "BFqc9Qf6RDBaxwtQIomAAAAAWAGfj3RCPwAO3DzPLuzlxcH9+GACVBrm9RX20MFeTPlRjrs2RFGb\n",
       "4d2TUg49dguj4kEYiksokEYp3/4pfrhk6WRkVKT1UtWAXOC5zs0cZcz6Z2INsya9zswAAABCAZ+R\n",
       "akI/AA7X8ZxzgsyQKieYe01uBSSzGDsjTiHWwy0xdjobVvODNX/ou9Gzpxf6DYFccxToq7IT+FUI\n",
       "7x4tf7oRAAAAd0GblkmoQWyZTAhn//6eEAAtnxeGk120ANMeOCGfdtptR1ifu6/ph9TISKhLno1G\n",
       "+1zpV8t59cCepXATx35RXja7+buQjyYrCQJL5NXTPJzAnPG2G6dzqzqoeAPkYiQyeEEoBM3shtHk\n",
       "beuU6FapiKF+46yoi0kgAAAAR0GftEUVLCf/AAw/nCiAAZsVK5/6vYxouHo2AmTfo71ytREhMflD\n",
       "GQOWbENBZsze2EXhGVgr3tga/w4iLAFIHHWlr+AsPuc7AAAAUgGf03RCPwAOfWO5V3sBcWGY5lIA\n",
       "W1Xb+5D8C8FcC2qat0km+MCzWo2L7i/aP/OytYwWZAVB7P92hwsPAvBLwrC2vhGYgW+hhOqN7H1e\n",
       "J6bPDcEAAAB2AZ/VakI/AA6DcSmQA+ztcjTW5TGsQqhLcuV8O9kuu60pOpOFDLifnWA0+me51Epc\n",
       "kVQ29C3EXmsIlMW/IJ5UhilZOU1CY1nSqPEAcKvoVh8HVlV8hgHD3lC/aC20wJ8zfJuFpYAxhayU\n",
       "aRzMgJYtcc6QeGSrKAAAAFBBm9lJqEFsmUwIZ//+nhAALD3tNXUnwoctPtXUADUCfU1206XlMv1R\n",
       "6RtE3e76iUJqfF7dSEZ2ji0zaxXVt8VZwl7hmvCP6hXl7QvYRhBLgQAAAElBn/dFFSwn/wAL75wc\n",
       "CdT0ND7u4ATSowVfpLoUjjONtmmvAq3YttYLDuzEy0TkmnRJ0d+19XbNsqnc8fE2m5yM3Os8msOn\n",
       "hithAAAAZwGeGGpCPwAOH/27+4Gc6TaRg4ALDMzfb+6JkLZixRnYJ9cKF8uX5TGQR12qSzazGQE1\n",
       "kV50/XB/aZIp+7uOJ+nS3E9WHpAgy2ynlrL+Asjz0gvg6kenUl5G+ersSgmGOXO1cRwZc8cAAABd\n",
       "QZodSahBbJlMCF///oywACzfHLa9cZV8f9axG/rV7+2xer7na10956aR8wZ9nQCAQYoCtpvjpvvU\n",
       "JccytEHbl4xE4zDiuARUGvROHqRbcRy4m8ymdbYawHNOiGnhAAAAZUGeO0UVLCf/AAvwnCKFvAD8\n",
       "gjXxQENRKH8UECOqNfiU7wlvQ7zAocrn8W6993u9cdjtlmpsBCcpZD0qoJHR9tOmnv8QA0S+j5wA\n",
       "b50V56xdGOwP4ay8xzKnZKaKnF4VAC9B5cEwAAAASwGeWnRCPwAOLDys6PX5zIAAr0KRrtik/u19\n",
       "qPRD8K5ZHVAiQPZsmijcSyzQ148wBaqR45zFisRN/E/oq2SHGwwzgFmM64E7wYBdqQAAAEsBnlxq\n",
       "Qj8ADc+3oixNdR6VACNpRgzpOLHi1CoqQpqDXWaP7qPCeDaX7in+X6wnWDP2hiLKcDpyba3atla5\n",
       "OHjB14PuPG+1jUOVkRcAAACCQZpfSahBbJlMFEwr//44QACnxkAL4bABHWS76SO5I65XVmPHsW/N\n",
       "J5or98ud0fn30nozgWI+BfhPZ/qGlugCoG84jBtOaW0Qz218fpywKXdBgcDfXGD6+sZQaK2+WuSI\n",
       "QX61LNl8vHwLHDC6YqeP88qYLMxB/Vb6IemXJ45M+2W67gAAAGoBnn5qQj8ADc+e3/Dj0oV96HAB\n",
       "W1RpSQWOGeaYdBw3xLjiQ0LaD2P2ju1G+P7jbCN8atty8kOtd9CsRr7n3lR5QrZwHai+G8GFI2y9\n",
       "uzp/zlFLCSIZfHvCI+2cIJBTEkgnyVSocFXDp2yAAAAAikGaYEnhClJlMCF//oywACu/HLZJVzAB\n",
       "xtyGCVoDxDWd1Q/5SnoIScRqWs4reV4z4NjVCaS0mVa9zKZZ7veqkg4sYKRLQpYP+zt3e72RkD3V\n",
       "KMeUokp9FdqnYKEsTjMr2+1HTLv+oIzyPZJuULm4S2x/MrY84quzVOl/RIr7OVB7p6EfZtkJ/0mp\n",
       "bQAAAJVBmoFJ4Q6JlMCF//6MsAAqVM/zbADdbkqF0YBHDZ250JCzKCmP4IOwXclf4Z6TiRutpNxT\n",
       "28rU/UsKaWpEF42RYJHiquQkm/5k+uBpU1MZJdASY/F8SvwwyJPBOxPTECIpN4dlfPojarmDAhvN\n",
       "LNIYaI1Ea3wajynqoDes0GwGGrJLUeBkhOg/Gj8ORb68xZ3weqEJwAAAAIFBmqJJ4Q8mUwIX//6M\n",
       "sAAqXnULLABxv/9HBxfMF+wq6qibdrSzdMf2RV2MDEvxvf9f10o66FIO4i3waYrK7e6GMZuAHJzE\n",
       "DvNP0zEIjtNIMmIIcEttmQebn25zQw6Zl9vaX1dFdqbYJfoSnyt2G+eUabfUADPy0qqvK7HulAfB\n",
       "JtUAAABeQZrDSeEPJlMCF//+jLAAKmwo1pEE2Hpposr2swANELMiNBndOMVmPIUxK2iQiKF2SYPX\n",
       "StlEQ3eSvZXcehRo+dWaSMqTWOXokwG7m61VCIj0/3Kp53e20S8TDz7AdwAAAJpBmuVJ4Q8mUwUR\n",
       "PC///oywACpxAf9H5wEQBdBOGjHFF2EDAMTD/7+h7NK7fnWE2JZe3yKSzHn1oCtFx99RdOSXyyeO\n",
       "Senm+tmooVCdkVYde9bhnbI2/Z9TdcKAtYS3KqcoEhaGUdj7eGMwip8dSLTk1p9FUAKZO3xwrmz2\n",
       "uiqgYzOLihNbaaDnBxpzPY9eEUMTzCqnkq8khcLxAAAAbgGfBGpCPwANgTJxU4QsH7McLTwAkfjI\n",
       "QSDRpsyRp0/SjWegGcyFIoVxlILcoxO6h5tiVtCl1VyxY5JQnRqo75Ohc0DY+cpOkJalDUTmvOkR\n",
       "+NRZaQTVJle+/Xm+dY5Gqd7fhowMwdezWtp5qdDjAAAAaUGbBknhDyZTAhn//p4QACjVsKj9PiTG\n",
       "NzxfqAC3O7ZkyvaFnAluWR8XYuuZPBdROY4Wxu6QNaTVw27Ec6Sw5Yc5Xi5sAXUB/jVcucorb7GU\n",
       "0EuYIJo+fmoEOLV28LQnqLNCz/FnOnoIEQAAAHhBmypJ4Q8mUwIZ//6eEAApHMudawycgAr7+Ob1\n",
       "12DvdRJYohG0WS3ThYFwMGySNGaXUWN6UPraoCAi884tZS2wESLq34YjN3Z82mgBZ/cMQnpyNo+w\n",
       "zn32qNaM5TwMCBkrItJWQ8Zy0yplzTZ7N7uvgqQjtTpK9UEAAACiQZ9IRRE8J/8ACxI0eIABm3qp\n",
       "j6vX/XqB8a1+7+VjOHMabscHgGrhk3YkirKnPFWNkC0IWQQpsY/6/gd47QjOod8NUGbtdGYObsur\n",
       "ROIzYrOky430DKsqiXvvoamVSbQp2GhAVV7NTQhzqfkYm6P+xT2Cu0oT1Ux71YuPfdtTzGwK6ZOa\n",
       "z6FUoCcJ1LYRdIWFeTMypsTdKKyiFBbj6CtzJ8JAAAAAYQGfZ3RCPwANNKmVYAZ89jzetq78UggP\n",
       "eOYQSWKIviH+GowN1Rx8FdSzwvUo1Qmb3UF1oTsP2S9zziw3SR+0YkPNEKfEqvRzmrViKu0t9HqU\n",
       "Z/TfYFdYNvzCYAjz4ewCxiwAAAA/AZ9pakI/AA0xO3a5U0rYfyABI+6IyHKnhVueItOyB8KhCCFY\n",
       "XuyuBdHmc+8Oj40eU6JgleLDY2Lb5f6htxerAAAATEGbbEmoQWiZTBTwz/6eEAAnwLIi1K797SAP\n",
       "aUM6KljlCmSJZpea1eCo7GNFeKtFU5WGeV782WGsMygNRc9uOWJlifsHqr1ersPeLVgAAABSAZ+L\n",
       "akI/AAzkO1EcgDzPCON9fgATnSZ+8VJEiuBbRwL8UDZWgnE5XBioMiVY1Z7beCmWWYM39wUjf6yy\n",
       "Z+i2C3ld2Tecw+kL9kHc5DucZPxnMAAAAFxBm5BJ4QpSZTAhn/6eEAAn/u90eCLY7++s9DpP9IAM\n",
       "/hBF2CURIe1LHwJUdsHVoArpzMY7dUCgN/fmRUBC89SBwZ+rWXAYNDMMkLQSsz/68Yfxi1Eiig9k\n",
       "ROlL4QAAADxBn65FNEwn/wAKyySMTAipslPBpbln5mgNSgtmjLi2+T/e7Q3W2Zs8hP8jvWMTIube\n",
       "2Md+CEKkvGkey5MAAABuAZ/NdEI/AAze5YmG/cHE4AJlqqjTyoPHURZ0ac2F2yMYHSiGgQXCMl/q\n",
       "yVqA0Lo9EGOp4IWUyK6NLS+UMOnqMtfAne0cwyFZFaPChsdxSeyT3Coq74usELG9D0D2CgTx1kWi\n",
       "DIhWcMumr5NwAWEAAABeAZ/PakI/AAyPnz0gCD6WZ/2bw28Ssk6baaMd/7PDMAZaRO4eO6tWMGxy\n",
       "m9LbC4KK1tsr37xoQUDLUgmhiISdVB8Bjlra1bF1dw1K30BNMhvybOS5WjnM1++jTT42gAAAAI1B\n",
       "m9NJqEFomUwIZ//+nhAAJt03o3OBhSsALAn/+lg33IJr4yG13DjfQLAicYoZNwRlUXDSiRFobtda\n",
       "ZBKxCl8nDIP0GMLIHsGJ5YSiZZNhnqE4Kf+R8B2WiP9MBv86qXy73xniYDBcgebK+TneuYRvwm/D\n",
       "Q5S8bVvDaf9xR3SH7CdAn70FjAZXSnDsvpwAAABtQZ/xRREsJ/8ACoIwGaWkf//KACBOV6AQ+bH/\n",
       "n6Nx6SB9AO8Nnuh68XYnWy8SudqrXieo89ap6vJildJXrbhFPXzUitWqiLMs40ukG60zEMnPmnzb\n",
       "4kznaWgh1jHAVgDbeeUh9QSiM4EwzOsKHwAAAIABnhJqQj8ADI+e3m1wgAgT63/2o3YuXkd87Xh5\n",
       "uV/ABkN4pXKNWyU9iyT1XiMJV68QFPpS8J+2HjFOKHtxqudVTJnaH0g/bEFgyvOAjDD2tfwWOK2z\n",
       "syx46JcK5mtACntg7N868F0duuFtq58+qvkjF6bu+udU/u97uERu6r0+nAAAAF9BmhVJqEFsmUwU\n",
       "TDP//p4QACWiBMkgBVbSUpZiOgd/74ZxfL0Y9FvT6j30T68n1VBTQQcg3eK4lAXohsnwOUHMX7jS\n",
       "x0kwYAu2QhkfP8AUdlgv2TGD5rKigRrOXYSO4AAAAGIBnjRqQj8ADD+fPSAH4+pP+CUEPU+EN1/0\n",
       "ibXjG3+cuo1ZR/gaskh08lv2z0LplykqrgW2FWRgGf8RYAchJs0Gw1o8T4wu4FGwiC8LKiko1qu5\n",
       "vzAFoIFC/ovcZd1o8y+RBwAAAGpBmjlJ4QpSZTAhn/6eEAAl3Ted8/ai0SJAX6BG9obFkcW2siiP\n",
       "4X74tpBLocK4MZvvZTv0qaB6LVbkIieD56qKS83WAG4mN/kdopFzJ1IyptqjPmoRpl3AavupArBw\n",
       "CplAZhpa6WvZiItSAAAAS0GeV0U0TCf/AAo7JIxMCKmvChaYdkxRriWznkNr99p7GnGe1gzv3+xJ\n",
       "FevC5pugGw4zRsYWIiMErgnQ1aAMh5cVWEHu6nsMbhzRPwAAAGABnnZ0Qj8ADESpJZIMTIZgz+AE\n",
       "tT7Wv6urTXGutfeRvyZKX6My4a9bFOmnV8suWF2JmKd6PbTYZrrWAbPVR41Zzzr6XpZB1LDvaVgZ\n",
       "NlCp1DV+BETzbiF8UxhULtGkmUEAAABMAZ54akI/AAvvnz0gB+PtgXQTVis0WYdGrTomyyRerMNa\n",
       "wLbHhoUxe5NiEgDhALmSU07Pk0aIB7OHOr1Bu4YNMfCOQo8KjIRgxCuLsAAAAE1Bmn1JqEFomUwI\n",
       "X//+jLAAJT03oMf1dTwy8Hjsu+ZbGmIByjk9329w9m2xJee5ER0UU9AzxcIHETkQYEVb4XSzWHoD\n",
       "SeT0Rwc1fAMBgQAAAHFBnptFESwn/wAJ8jRppard8AZcgA8icIpOWq3DafK/PM++Q9kCxjYlEwor\n",
       "giOZWGujqXStWVWOS2fV2cxCB9jGdMGKD4szCT+qMvHWBy0JouiQJz7srmwm6b/wujZqMImQW9M/\n",
       "k5APsESW47MQmPFafAAAAE0Bnrp0Qj8AC/S6n7P2bH/n/ABM9JrJ6DQSIRXhdtc7mBDPVj4fzY4+\n",
       "Xmu9sK/AgXJSZSm1Z6C3/QSD+EgqMd4ouu4lQa8GnqE40sE2gQAAAFwBnrxqQj8AC/EynHOOxYZG\n",
       "HJSugBIdTf2Ca/y97B1v5gj3Mz3RGI/HGHKB1VB2zxYx1/wbRg00O5As6D1uMtxO6JQdw1fUcH83\n",
       "EtJwwfMfvtkFwsNrP7nqwuSbQQAAAIJBmr5JqEFsmUwIZ//+nhAAI6HL5IAM/WoZh1E85yVIrlov\n",
       "fTWgpXr99zXYcoKTc8oR7P9cNXBN711mxtkMs+gAy6sevdUTeuDYGgbCZQr6DvJ0JJv/aGgGdBfc\n",
       "Nwa0B2C9JLia8PTwwbRyxhs/JqjJpDPH0gyzu6hnZEZN12xRuUiwAAAAPEGawknhClJlMCF//oyw\n",
       "ACQ9N6DH9XVU/W6xW3zVEIABCLEvlO2UO9HNhz5JttXxEdnvTyTZmKlINUYZcAAAAJ9BnuBFNEwn\n",
       "/wAJq1R4gAGfPaoxE94etcNtRQ1C7sa4/AncBIR82ieRo0o7fteZGTHRiPpBrOG12phDgaUcmGxQ\n",
       "Y5tEhNJ1Jv6j6SZG6Cj0C4yBq1JM9tkVBIosNBV7L2OboPBcrA6KQTduENL52xOwIviBZNnq6+jv\n",
       "ovLuMcDKl3aYoUQRIvhuxNJFAeyJjfIx5NQkZuwZwv5mg4fPfuEAAABXAZ8fdEI/AAugRbGMBASM\n",
       "LZomvapIAH37loVr+D3THoYewKqHjW9t3ayTGiPQItlOuUxBXHFCSAecQeNPg9nt3irQqngNPVTC\n",
       "jQr6v7q/EtbKVpEoBD+CAAAATAGfAWpCPwALopKcc4QsG+Bp34AFfXYCRF1RIE91xr6M9uCPg1MV\n",
       "S8Rzcg2JsojeToMbJ1RdeTc6L4d/4aVaq4lcGVvUveHkuDhkk7kAAABoQZsGSahBaJlMCE///fEA\n",
       "AVHk+t+G2c1/neSGlOIcyVOMAAhaOjMg06b5OI7WwYNS29YKVD/7U6dQIpvcRBxV+SLOd0WzHOBg\n",
       "cJuUF9u0POMf/8QNv9QadKiqUX/yZsv2y+cYtgs9KBAAAAB7QZ8kRREsJ/8ACW5uzWT5qi4CiIAB\n",
       "Agxh9u3X93H/al6lPVtb1UenXjilURbmuU0z5OjFSFKEkn5Nc2q8BSuGUh8ByY3k4hSmWmIQvKke\n",
       "kGywEZEiumJQVOECbbuMjE7ab5tJJ+rRayBv7HxfRaqhKRIJaMqPGcmqN55NAAAAYQGfQ3RCPwAL\n",
       "XgliOWDhP64cipgBNJVepiKdwaJUJn1GVNfPH8701Nw4O7ThfT/xwyCsH2BmRh2n+//JylIWDdHR\n",
       "BrD7Vh81Ig1U4Vv1KhWqk4cnxLN7yWK/kupkGgCIM0EAAABwAZ9FakI/AAtdm0GhPX+CHABMnRz6\n",
       "Karmr3m6hlCNVLei3TNi65bD2b7B4Y0AYuH4x2BQeIA1UBDhbQMrAh2vCAATc79+zIWlO8+ETc9x\n",
       "eJtB3skoHjpXIJgDjXEAJafSBFAv8EnBonSKRJ1TgV2VxwAAAEpBm0dJqEFsmUwIR//94QAB+yQ5\n",
       "8939fQAqh4ceArHCENlAKRiNofm4zvo/0o3a+qM9XYrFOcUDGK2uL1REJCebFAxxkkb6B56T4QAA\n",
       "C6dtb292AAAAbG12aGQAAAAAAAAAAAAAAAAAAAPoAAATiAABAAABAAAAAAAAAAAAAAAAAQAAAAAA\n",
       "AAAAAAAAAAAAAAEAAAAAAAAAAAAAAAAAAEAAAAAAAAAAAAAAAAAAAAAAAAAAAAAAAAAAAAAAAAAC\n",
       "AAAK0XRyYWsAAABcdGtoZAAAAAMAAAAAAAAAAAAAAAEAAAAAAAATiAAAAAAAAAAAAAAAAAAAAAAA\n",
       "AQAAAAAAAAAAAAAAAAAAAAEAAAAAAAAAAAAAAAAAAEAAAAADYAAAAfgAAAAAACRlZHRzAAAAHGVs\n",
       "c3QAAAAAAAAAAQAAE4gAAAIAAAEAAAAACkltZGlhAAAAIG1kaGQAAAAAAAAAAAAAAAAAACgAAADI\n",
       "AFXEAAAAAAAtaGRscgAAAAAAAAAAdmlkZQAAAAAAAAAAAAAAAFZpZGVvSGFuZGxlcgAAAAn0bWlu\n",
       "ZgAAABR2bWhkAAAAAQAAAAAAAAAAAAAAJGRpbmYAAAAcZHJlZgAAAAAAAAABAAAADHVybCAAAAAB\n",
       "AAAJtHN0YmwAAAC0c3RzZAAAAAAAAAABAAAApGF2YzEAAAAAAAAAAQAAAAAAAAAAAAAAAAAAAAAD\n",
       "YAH4AEgAAABIAAAAAAAAAAEAAAAAAAAAAAAAAAAAAAAAAAAAAAAAAAAAAAAAAAAAAAAY//8AAAAy\n",
       "YXZjQwFkAB//4QAZZ2QAH6zZQNgQflhAAAADAEAAABQDxgxlgAEABmjr48siwAAAABx1dWlka2hA\n",
       "8l8kT8W6OaUbzwMj8wAAAAAAAAAYc3R0cwAAAAAAAAABAAAAyAAAAQAAAAAUc3RzcwAAAAAAAAAB\n",
       "AAAAAQAABWhjdHRzAAAAAAAAAKsAAAABAAACAAAAAAEAAAUAAAAAAQAAAgAAAAABAAAAAAAAAAEA\n",
       "AAEAAAAAAQAAAgAAAAABAAADAAAAAAEAAAEAAAAAAQAAAwAAAAABAAABAAAAAAEAAAUAAAAAAQAA\n",
       "AgAAAAABAAAAAAAAAAEAAAEAAAAAAQAAAwAAAAABAAABAAAAAAIAAAIAAAAAAQAABQAAAAABAAAC\n",
       "AAAAAAEAAAAAAAAAAQAAAQAAAAABAAACAAAAAAEAAAUAAAAAAQAAAgAAAAABAAAAAAAAAAEAAAEA\n",
       "AAAAAQAAAwAAAAABAAABAAAAAAEAAAUAAAAAAQAAAgAAAAABAAAAAAAAAAEAAAEAAAAAAQAABQAA\n",
       "AAABAAACAAAAAAEAAAAAAAAAAQAAAQAAAAABAAADAAAAAAEAAAEAAAAAAQAAAwAAAAABAAABAAAA\n",
       "AAYAAAIAAAAAAQAABQAAAAABAAACAAAAAAEAAAAAAAAAAQAAAQAAAAABAAAEAAAAAAIAAAEAAAAA\n",
       "AgAAAgAAAAABAAAEAAAAAAIAAAEAAAAAAQAABAAAAAACAAABAAAAAAEAAAIAAAAAAQAABQAAAAAB\n",
       "AAACAAAAAAEAAAAAAAAAAQAAAQAAAAABAAAFAAAAAAEAAAIAAAAAAQAAAAAAAAABAAABAAAAAAEA\n",
       "AAUAAAAAAQAAAgAAAAABAAAAAAAAAAEAAAEAAAAAAQAABQAAAAABAAACAAAAAAEAAAAAAAAAAQAA\n",
       "AQAAAAAFAAACAAAAAAEAAAMAAAAAAQAAAQAAAAABAAAFAAAAAAEAAAIAAAAAAQAAAAAAAAABAAAB\n",
       "AAAAAAEAAAIAAAAAAQAABAAAAAACAAABAAAAAAEAAAMAAAAAAQAAAQAAAAABAAADAAAAAAEAAAEA\n",
       "AAAAAQAAAgAAAAABAAAEAAAAAAIAAAEAAAAAAQAABAAAAAACAAABAAAAAAEAAAIAAAAAAQAABQAA\n",
       "AAABAAACAAAAAAEAAAAAAAAAAQAAAQAAAAABAAAFAAAAAAEAAAIAAAAAAQAAAAAAAAABAAABAAAA\n",
       "AAEAAAQAAAAAAgAAAQAAAAADAAACAAAAAAEAAAUAAAAAAQAAAgAAAAABAAAAAAAAAAEAAAEAAAAA\n",
       "AQAAAgAAAAABAAAEAAAAAAIAAAEAAAAAAQAABQAAAAABAAACAAAAAAEAAAAAAAAAAQAAAQAAAAAB\n",
       "AAAEAAAAAAIAAAEAAAAAAQAAAwAAAAABAAABAAAAAAEAAAQAAAAAAgAAAQAAAAABAAAEAAAAAAIA\n",
       "AAEAAAAAAQAABQAAAAABAAACAAAAAAEAAAAAAAAAAQAAAQAAAAABAAAFAAAAAAEAAAIAAAAAAQAA\n",
       "AAAAAAABAAABAAAAAAEAAAQAAAAAAgAAAQAAAAABAAAFAAAAAAEAAAIAAAAAAQAAAAAAAAABAAAB\n",
       "AAAAAAEAAAMAAAAAAQAAAQAAAAAEAAACAAAAAAEAAAMAAAAAAQAAAQAAAAABAAACAAAAAAEAAAUA\n",
       "AAAAAQAAAgAAAAABAAAAAAAAAAEAAAEAAAAAAQAAAwAAAAABAAABAAAAAAEAAAUAAAAAAQAAAgAA\n",
       "AAABAAAAAAAAAAEAAAEAAAAAAQAABAAAAAACAAABAAAAAAEAAAMAAAAAAQAAAQAAAAABAAAFAAAA\n",
       "AAEAAAIAAAAAAQAAAAAAAAABAAABAAAAAAEAAAUAAAAAAQAAAgAAAAABAAAAAAAAAAEAAAEAAAAA\n",
       "AQAAAgAAAAABAAAFAAAAAAEAAAIAAAAAAQAAAAAAAAABAAABAAAAAAEAAAUAAAAAAQAAAgAAAAAB\n",
       "AAAAAAAAAAEAAAEAAAAAAQAAAgAAAAAcc3RzYwAAAAAAAAABAAAAAQAAAMgAAAABAAADNHN0c3oA\n",
       "AAAAAAAAAAAAAMgAAA80AAADSgAAAPoAAAG7AAAA4AAAAPQAAAGqAAAAogAAAKcAAACEAAAAcAAA\n",
       "AEMAAABuAAAAZQAAAH8AAABNAAAAgQAAAGkAAABhAAAAOAAAAEMAAABnAAAAZQAAAHoAAAB4AAAA\n",
       "YAAAAHoAAABDAAAAUwAAAFsAAACkAAAAaAAAAFkAAABDAAAAUQAAAE0AAAByAAAAaAAAAGAAAAC1\n",
       "AAAAgAAAAIcAAACaAAAAfwAAAL0AAACiAAAAggAAAIEAAABYAAAAYgAAAIMAAAB2AAAAiQAAAIYA\n",
       "AAByAAAAZAAAAFwAAABoAAAAZgAAAIYAAABSAAAAfgAAAGoAAACNAAAAXQAAAHkAAABOAAAAbQAA\n",
       "ADsAAABPAAAAaAAAAG8AAAB8AAAAawAAAGsAAACSAAAAiAAAAGQAAABfAAAAXAAAAHYAAACHAAAA\n",
       "gwAAAIwAAACBAAAAggAAAKAAAAB7AAAAdAAAAGgAAABrAAAAVwAAAE0AAACjAAAAXgAAAEcAAABt\n",
       "AAAAggAAAGMAAABjAAAAVgAAAGkAAACKAAAAQQAAAEsAAABTAAAAcgAAAGwAAACKAAAAZQAAAEoA\n",
       "AACFAAAAWAAAAFYAAACEAAAATgAAAGUAAABiAAAAjgAAAIYAAADDAAAAagAAAIcAAABIAAAAmQAA\n",
       "AJcAAABPAAAAWgAAAJYAAACJAAAAXwAAAH8AAABmAAAAdAAAADwAAABgAAAAewAAAE0AAABdAAAA\n",
       "UwAAAIoAAABEAAAAXgAAAF8AAAChAAAAXAAAAEYAAAB7AAAASwAAAFYAAAB6AAAAVAAAAE0AAABr\n",
       "AAAAYQAAAGkAAABPAAAATwAAAIYAAABuAAAAjgAAAJkAAACFAAAAYgAAAJ4AAAByAAAAbQAAAHwA\n",
       "AACmAAAAZQAAAEMAAABQAAAAVgAAAGAAAABAAAAAcgAAAGIAAACRAAAAcQAAAIQAAABjAAAAZgAA\n",
       "AG4AAABPAAAAZAAAAFAAAABRAAAAdQAAAFEAAABgAAAAhgAAAEAAAACjAAAAWwAAAFAAAABsAAAA\n",
       "fwAAAGUAAAB0AAAATgAAABRzdGNvAAAAAAAAAAEAAAAsAAAAYnVkdGEAAABabWV0YQAAAAAAAAAh\n",
       "aGRscgAAAAAAAAAAbWRpcmFwcGwAAAAAAAAAAAAAAAAtaWxzdAAAACWpdG9vAAAAHWRhdGEAAAAB\n",
       "AAAAAExhdmY1OC4yOS4xMDA=\n",
       "\">\n",
       "  Your browser does not support the video tag.\n",
       "</video>"
      ],
      "text/plain": [
       "<IPython.core.display.HTML object>"
      ]
     },
     "execution_count": 21,
     "metadata": {},
     "output_type": "execute_result"
    },
    {
     "data": {
      "image/png": "[encoded data removed]",
      "text/plain": [
       "<Figure size 864x504 with 1 Axes>"
      ]
     },
     "metadata": {},
     "output_type": "display_data"
    }
   ],
   "source": [
    "from IPython.display import HTML\n",
    "\n",
    "idx = 0\n",
    "\n",
    "fig, ax = plt.subplots(facecolor='w', figsize=(12, 7))\n",
    "labels=['0', '1', '2', '3', '4', '5', '6', '7', '8','9']\n",
    "print(f\"The target label is: {targets[idx]}\")\n",
    "\n",
    "# plt.rcParams['animation.ffmpeg_path'] = 'C:\\\\path\\\\to\\\\your\\\\ffmpeg.exe'\n",
    "\n",
    "#  Plot spike count histogram\n",
    "anim = splt.spike_count(spk_rec[:, idx].detach().cpu(), fig, ax, labels=labels, \n",
    "                        animate=True, interpolate=4)\n",
    "\n",
    "HTML(anim.to_html5_video())\n",
    "# anim.save(\"spike_bar.mp4\")"
   ]
  },
  {
   "cell_type": "markdown",
   "metadata": {
    "id": "s0dAgWUt2o6E"
   },
   "source": [
    "# Conclusion\n",
    "You should now have a grasp of the basic features of snnTorch and be able to start running your own experiments. [In the next tutorial](https://snntorch.readthedocs.io/en/latest/tutorials/index.html), we will train a network using a neuromorphic dataset.\n",
    "\n",
    "If you like this project, please consider starring ⭐ the repo on GitHub as it is the easiest and best way to support it."
   ]
  },
  {
   "cell_type": "markdown",
   "metadata": {},
   "source": [
    "# Additional Resources\n",
    "* [Check out the snnTorch GitHub project here.](https://github.com/jeshraghian/snntorch)"
   ]
  }
 ],
 "metadata": {
  "accelerator": "GPU",
  "colab": {
   "collapsed_sections": [],
   "include_colab_link": true,
   "name": "tutorial_6_CNN.ipynb",
   "provenance": []
  },
  "kernelspec": {
   "display_name": "Python 3 (ipykernel)",
   "language": "python",
   "name": "python3"
  },
  "language_info": {
   "codemirror_mode": {
    "name": "ipython",
    "version": 3
   },
   "file_extension": ".py",
   "mimetype": "text/x-python",
   "name": "python",
   "nbconvert_exporter": "python",
   "pygments_lexer": "ipython3",
   "version": "3.8.13"
  },
  "vscode": {
   "interpreter": {
    "hash": "cda51994da7a97c2e92f9e8832b8fe412980cf29d1c6c8cbe827a5abbabd9c57"
   }
  }
 },
 "nbformat": 4,
 "nbformat_minor": 2
}
