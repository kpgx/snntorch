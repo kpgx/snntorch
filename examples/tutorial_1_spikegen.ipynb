{
 "cells": [
  {
   "cell_type": "markdown",
   "metadata": {
    "id": "RBNKFLJIobYt"
   },
   "source": [
    "[<img src='https://github.com/jeshraghian/snntorch/blob/master/docs/_static/img/snntorch_alpha_w.png?raw=true' width=\"400\">](https://github.com/jeshraghian/snntorch/)\n",
    "\n",
    "# Tutorial 1 - Spike Encoding\n",
    "## By Jason K. Eshraghian (www.ncg.ucsc.edu)\n",
    "\n",
    "\n",
    "<a href=\"https://colab.research.google.com/github/jeshraghian/snntorch/blob/master/examples/tutorial_1_spikegen.ipynb\">\n",
    "  <img src=\"https://colab.research.google.com/assets/colab-badge.svg\" alt=\"Open In Colab\"/>\n",
    "</a>\n",
    "\n",
    "[<img src='https://github.com/jeshraghian/snntorch/blob/master/docs/_static/img/GitHub-Mark-Light-120px-plus.png?raw=true' width=\"28\">](https://github.com/jeshraghian/snntorch/) [<img src='https://github.com/jeshraghian/snntorch/blob/master/docs/_static/img/GitHub_Logo_White.png?raw=true' width=\"80\">](https://github.com/jeshraghian/snntorch/)\n"
   ]
  },
  {
   "cell_type": "markdown",
   "metadata": {
    "id": "4blpfg4y44uO"
   },
   "source": [
    "The snnTorch tutorial series is based on the following paper. If you find these resources or code useful in your work, please consider citing the following source:\n",
    "\n",
    "> <cite> [Jason K. Eshraghian, Max Ward, Emre Neftci, Xinxin Wang, Gregor Lenz, Girish Dwivedi, Mohammed Bennamoun, Doo Seok Jeong, and Wei D. Lu. \"Training Spiking Neural Networks Using Lessons From Deep Learning\". arXiv preprint arXiv:2109.12894, September 2021.](https://arxiv.org/abs/2109.12894) </cite>"
   ]
  },
  {
   "cell_type": "markdown",
   "metadata": {
    "id": "lnF_PEo5obYv",
    "pycharm": {
     "name": "#%% md\n"
    }
   },
   "source": [
    "In this tutorial, you will learn how to use snnTorch to:\n",
    "* convert datasets into spiking datasets, \n",
    "* how to visualise them, \n",
    "* and how to generate random spike trains."
   ]
  },
  {
   "cell_type": "markdown",
   "metadata": {
    "id": "d7qhH_lt8_mn"
   },
   "source": [
    "# Introduction\n",
    "Light is what we see when the retina converts photons into spikes. Odors are what we smell when volatilised molecules are converted into spikes. Touch is what we feel when nerve endings turn tactile pressure into spikes. The brain trades in the global currency of the *spike*. \n",
    "\n",
    "If our end goal is to build a spiking neural network (SNN), it makes sense to use spikes at the input too. Although it is quite common to use non-spiking inputs (as will be seen in Tutorial 3), part of the appeal of encoding data come from the *three S's*: spikes, sparsity, and static suppression.\n",
    "\n",
    "\n",
    "\n",
    "1.   **Spikes**: (a-b) Biological neurons process and communicate via spikes, which are electrical impulses of approximately 100 mV in amplitude. (c) Many computational models of neurons simplify this voltage burst to a discrete, single-bit event: a '1' or a '0'. This is far simpler to represent in hardware than a high precision value.\n",
    "\n",
    "2.   **Sparsity**: (c) Neurons spend most of their time at rest, silencing most activations to *zero* at any given time. Not only are sparse vectors/tensors (with loads of zeros) cheap to store, but say we need to multiply sparse activations with synaptic weights. If most values are multiplied by '0', then we don't need to read many of the network parameters from memory. This means neuromorphic hardware can be extremely efficient. \n",
    "\n",
    "3.   **Static-Suppression (a.k.a, event-driven processing**: (d-e) The sensory periphery only processes information when there is new information to process. Each pixel in (e) responds to *changes* in illuminance, so most of the image is blocked out. Conventional signal processing requires all channels/pixels to adhere to a global sampling/shutter rate, which slows down how frequently sensing can take place. Event-driven processing now only contributes to sparsity and power-efficiency by blocking unchanging input, but it often allows for much faster processing speeds.\n",
    "\n",
    "\n",
    "<center>\n",
    "<img src='https://github.com/jeshraghian/snntorch/blob/master/docs/_static/img/examples/tutorial1/3s.png?raw=true' width=\"600\">\n",
    "</center>"
   ]
  },
  {
   "cell_type": "markdown",
   "metadata": {
    "id": "lGNOnFM4DzHY"
   },
   "source": [
    "In this tutorial, we will assume we have some non-spiking input data (i.e., the MNIST dataset) and that we want to encode it into spikes using a few different techniques. So let's get started! "
   ]
  },
  {
   "cell_type": "markdown",
   "metadata": {
    "id": "GAbXmmVN50Pl"
   },
   "source": [
    "Install the latest PyPi distribution of snnTorch:"
   ]
  },
  {
   "cell_type": "code",
   "execution_count": 1,
   "metadata": {
    "id": "jxLoYgkhobYw",
    "pycharm": {
     "name": "#%%\n"
    }
   },
   "outputs": [
    {
     "name": "stdout",
     "output_type": "stream",
     "text": [
      "Looking in indexes: https://pypi.org/simple, https://pypi.ngc.nvidia.com\n",
      "Requirement already satisfied: snntorch in /opt/conda/lib/python3.8/site-packages (0.5.3)\n",
      "Requirement already satisfied: matplotlib in /opt/conda/lib/python3.8/site-packages (from snntorch) (3.5.2)\n",
      "Requirement already satisfied: numpy>=1.17 in /opt/conda/lib/python3.8/site-packages (from snntorch) (1.22.4)\n",
      "Requirement already satisfied: torch>=1.1.0 in /opt/conda/lib/python3.8/site-packages (from snntorch) (1.9.0)\n",
      "Requirement already satisfied: pandas in /opt/conda/lib/python3.8/site-packages (from snntorch) (1.4.3)\n",
      "Requirement already satisfied: typing-extensions in /opt/conda/lib/python3.8/site-packages (from torch>=1.1.0->snntorch) (4.3.0)\n",
      "Requirement already satisfied: cycler>=0.10 in /opt/conda/lib/python3.8/site-packages (from matplotlib->snntorch) (0.11.0)\n",
      "Requirement already satisfied: pillow>=6.2.0 in /opt/conda/lib/python3.8/site-packages (from matplotlib->snntorch) (9.0.1)\n",
      "Requirement already satisfied: packaging>=20.0 in /opt/conda/lib/python3.8/site-packages (from matplotlib->snntorch) (21.3)\n",
      "Requirement already satisfied: python-dateutil>=2.7 in /opt/conda/lib/python3.8/site-packages (from matplotlib->snntorch) (2.8.2)\n",
      "Requirement already satisfied: kiwisolver>=1.0.1 in /opt/conda/lib/python3.8/site-packages (from matplotlib->snntorch) (1.4.3)\n",
      "Requirement already satisfied: pyparsing>=2.2.1 in /opt/conda/lib/python3.8/site-packages (from matplotlib->snntorch) (3.0.9)\n",
      "Requirement already satisfied: fonttools>=4.22.0 in /opt/conda/lib/python3.8/site-packages (from matplotlib->snntorch) (4.33.3)\n",
      "Requirement already satisfied: six>=1.5 in /opt/conda/lib/python3.8/site-packages (from python-dateutil>=2.7->matplotlib->snntorch) (1.16.0)\n",
      "Requirement already satisfied: pytz>=2020.1 in /opt/conda/lib/python3.8/site-packages (from pandas->snntorch) (2022.1)\n",
      "\u001b[33mWARNING: Running pip as the 'root' user can result in broken permissions and conflicting behaviour with the system package manager. It is recommended to use a virtual environment instead: https://pip.pypa.io/warnings/venv\u001b[0m\n"
     ]
    }
   ],
   "source": [
    "!pip install snntorch"
   ]
  },
  {
   "cell_type": "markdown",
   "metadata": {
    "id": "k6E7VH5kbTmA"
   },
   "source": [
    "## 1. Setting up the MNIST Dataset"
   ]
  },
  {
   "cell_type": "markdown",
   "metadata": {
    "id": "Suffg8_ZobYw",
    "pycharm": {
     "name": "#%% md\n"
    }
   },
   "source": [
    "### 1.1. Import packages and setup environment"
   ]
  },
  {
   "cell_type": "code",
   "execution_count": 2,
   "metadata": {
    "id": "cR9okh0jobYx",
    "pycharm": {
     "name": "#%%\n"
    }
   },
   "outputs": [],
   "source": [
    "import snntorch as snn\n",
    "import torch"
   ]
  },
  {
   "cell_type": "code",
   "execution_count": 3,
   "metadata": {
    "id": "e4LPD0WCobYx",
    "pycharm": {
     "name": "#%%\n"
    }
   },
   "outputs": [],
   "source": [
    "# Training Parameters\n",
    "batch_size=128\n",
    "data_path='/data/mnist'\n",
    "num_classes = 10  # MNIST has 10 output classes\n",
    "\n",
    "# Torch Variables\n",
    "dtype = torch.float"
   ]
  },
  {
   "cell_type": "markdown",
   "metadata": {
    "id": "x5X2a5a9obYy"
   },
   "source": [
    "### 1.2 Download Dataset"
   ]
  },
  {
   "cell_type": "code",
   "execution_count": 4,
   "metadata": {
    "id": "OlbY8Rm9obYy",
    "pycharm": {
     "name": "#%%\n"
    }
   },
   "outputs": [
    {
     "name": "stderr",
     "output_type": "stream",
     "text": [
      "/opt/conda/lib/python3.8/site-packages/torchvision/datasets/mnist.py:498: UserWarning: The given NumPy array is not writeable, and PyTorch does not support non-writeable tensors. This means you can write to the underlying (supposedly non-writeable) NumPy array using the tensor. You may want to copy the array to protect its data or make it writeable before converting it to a tensor. This type of warning will be suppressed for the rest of this program. (Triggered internally at  /pytorch/torch/csrc/utils/tensor_numpy.cpp:180.)\n",
      "  return torch.from_numpy(parsed.astype(m[2], copy=False)).view(*s)\n"
     ]
    }
   ],
   "source": [
    "from torchvision import datasets, transforms\n",
    "\n",
    "# Define a transform\n",
    "transform = transforms.Compose([\n",
    "            transforms.Resize((28,28)),\n",
    "            transforms.Grayscale(),\n",
    "            transforms.ToTensor(),\n",
    "            transforms.Normalize((0,), (1,))])\n",
    "\n",
    "mnist_train = datasets.MNIST(data_path, train=True, download=True, transform=transform)"
   ]
  },
  {
   "cell_type": "markdown",
   "metadata": {
    "id": "6ZyzEp9YHgPb"
   },
   "source": [
    "If the above code block throws an error, e.g. the MNIST servers are down, then uncomment the following code instead."
   ]
  },
  {
   "cell_type": "code",
   "execution_count": 5,
   "metadata": {
    "id": "ZpGLLVqeHgwy"
   },
   "outputs": [],
   "source": [
    "# # temporary dataloader if MNIST service is unavailable\n",
    "# !wget www.di.ens.fr/~lelarge/MNIST.tar.gz\n",
    "# !tar -zxvf MNIST.tar.gz\n",
    "\n",
    "# mnist_train = datasets.MNIST(root = './', train=True, download=True, transform=transform)"
   ]
  },
  {
   "cell_type": "markdown",
   "metadata": {
    "id": "T5wXl2bVobYz",
    "pycharm": {
     "name": "#%% md\n"
    }
   },
   "source": [
    "Until we actually start training a network, we won't need large datasets.\n",
    "`snntorch.utils` contains a few useful functions for modifying datasets. Apply `data_subset` to reduce the dataset by the factor defined in `subset`. *E.g., for `subset=10`, a training set of 60,000 will be reduced to 6,000.*\n"
   ]
  },
  {
   "cell_type": "code",
   "execution_count": 6,
   "metadata": {
    "id": "5FPsPU46obYz",
    "pycharm": {
     "name": "#%%\n"
    }
   },
   "outputs": [
    {
     "name": "stdout",
     "output_type": "stream",
     "text": [
      "The size of mnist_train is 6000\n"
     ]
    }
   ],
   "source": [
    "from snntorch import utils\n",
    "\n",
    "subset = 10\n",
    "mnist_train = utils.data_subset(mnist_train, subset)\n",
    "print(f\"The size of mnist_train is {len(mnist_train)}\")"
   ]
  },
  {
   "cell_type": "markdown",
   "metadata": {
    "id": "9CedMagsobY0",
    "pycharm": {
     "name": "#%% md\n"
    }
   },
   "source": [
    "### 1.3 Create DataLoaders\n",
    "The Dataset objects created above load data into memory, and the DataLoader will serve it up in batches. DataLoaders in PyTorch are a handy interface for passing data into a network. They return an iterator divided up into mini-batches of size ``batch_size``."
   ]
  },
  {
   "cell_type": "code",
   "execution_count": 7,
   "metadata": {
    "id": "TrJLlWj2obY0",
    "pycharm": {
     "name": "#%%\n"
    }
   },
   "outputs": [],
   "source": [
    "from torch.utils.data import DataLoader\n",
    "\n",
    "train_loader = DataLoader(mnist_train, batch_size=batch_size, shuffle=True)"
   ]
  },
  {
   "cell_type": "markdown",
   "metadata": {
    "id": "mwSdczxKobY0",
    "pycharm": {
     "name": "#%% md\n"
    }
   },
   "source": [
    "## 2. Spike Encoding\n",
    "\n",
    "Spiking Neural Networks (SNNs) are made to exploit time-varying data. And yet, MNIST is not a time-varying dataset.\n",
    "There are two options for using MNIST with an SNN:\n",
    "\n",
    "1. Repeatedly pass the same training sample $\\mathbf{X}\\in\\mathbb{R}^{m\\times n}$ to the network at each time step. This is like converting MNIST into a static, unchanging video. Each element of $\\mathbf{X}$ can take a high precision value normalized between 0 and 1: $X_{ij}\\in [0, 1]$. \n",
    "\n",
    "<center>\n",
    "<img src='https://github.com/jeshraghian/snntorch/blob/master/docs/_static/img/examples/tutorial1/1_2_1_static.png?raw=true' width=\"700\">\n",
    "</center>\n",
    "\n",
    "2. Convert the input into a spike train of sequence length `num_steps`, where each feature/pixel takes on a discrete value $X_{i,j} \\in \\{0, 1\\}$.\n",
    "In this case, MNIST is converted into a time-varying sequence of spikes that features a relation to the original image.\n",
    "\n",
    "<center>\n",
    "<img src='https://github.com/jeshraghian/snntorch/blob/master/docs/_static/img/examples/tutorial1/1_2_2_spikeinput.png?raw=true' width=\"700\">\n",
    "</center>\n",
    "\n",
    "The first method is quite straightforward, and does not fully exploit the temporal dynamics of SNNs. So let’s consider data-to-spike conversion (encoding) from (2) in more detail.\n",
    "\n",
    "The module `snntorch.spikegen` (i.e., spike generation) contains a series of functions that simplify the conversion of data into spikes. There are currently three options available for spike encoding in `snntorch`:\n",
    "\n",
    "1. Rate coding: [`spikegen.rate`](https://snntorch.readthedocs.io/en/latest/snntorch.spikegen.html#snntorch.spikegen.rate)\n",
    "2. Latency coding: [`spikegen.latency`](https://snntorch.readthedocs.io/en/latest/snntorch.spikegen.html#snntorch.spikegen.latency)\n",
    "3. Delta modulation: [`spikegen.delta`](https://snntorch.readthedocs.io/en/latest/snntorch.spikegen.html#snntorch.spikegen.delta)\n",
    "\n",
    "How do these differ?\n",
    "\n",
    "\n",
    "1.   *Rate coding* uses input features to determine spiking **frequency**\n",
    "2.   *Latency coding* uses input features to determine spike **timing**\n",
    "3.   *Delta modulation* uses the temporal **change** of input features to generate spikes\n"
   ]
  },
  {
   "cell_type": "markdown",
   "metadata": {
    "id": "3D5HSoY4bQDm"
   },
   "source": [
    "### 2.1 Rate coding of MNIST\n",
    "\n",
    "One example of converting input data into a rate code is as follows. \n",
    "Each normalised input feature $X_{ij}$ is used as the probability an event (spike) occurs at any given time step, returning a rate-coded value $R_{ij}$. This can be treated as a Bernoulli trial: $R_{ij}\\sim B(n,p)$, where the number of trials is $n=1$, and the probability of success (spiking) is $p=X_{ij}$. Explicitly, the probability a spike occurs is:\n",
    "\n",
    "$${\\rm P}(R_{ij}=1) = X_{ij} = 1 - {\\rm P}(R_{ij} = 0)$$\n",
    "\n",
    "Create a vector filled with the value '0.5' and encode it using the above technique:"
   ]
  },
  {
   "cell_type": "code",
   "execution_count": 8,
   "metadata": {
    "id": "DxorUvomL1ei"
   },
   "outputs": [
    {
     "name": "stdout",
     "output_type": "stream",
     "text": [
      "Converted vector: tensor([0., 1., 0., 0., 1., 1., 1., 1., 0., 0.])\n",
      "The output is spiking 50.00% of the time.\n"
     ]
    }
   ],
   "source": [
    "# Temporal Dynamics\n",
    "num_steps = 10\n",
    "\n",
    "# create vector filled with 0.5\n",
    "raw_vector = torch.ones(num_steps)*0.5\n",
    "\n",
    "# pass each sample through a Bernoulli trial\n",
    "rate_coded_vector = torch.bernoulli(raw_vector)\n",
    "print(f\"Converted vector: {rate_coded_vector}\")\n",
    "\n",
    "print(f\"The output is spiking {rate_coded_vector.sum()*100/len(rate_coded_vector):.2f}% of the time.\")"
   ]
  },
  {
   "cell_type": "markdown",
   "metadata": {
    "id": "l0E8Z8mSNflV"
   },
   "source": [
    "Now try again, but increasing the length of `raw_vector`:"
   ]
  },
  {
   "cell_type": "code",
   "execution_count": 9,
   "metadata": {
    "id": "Y6uUgpktNjBg"
   },
   "outputs": [
    {
     "name": "stdout",
     "output_type": "stream",
     "text": [
      "The output is spiking 48.00% of the time.\n"
     ]
    }
   ],
   "source": [
    "num_steps = 100\n",
    "\n",
    "# create vector filled with 0.5\n",
    "raw_vector = torch.ones(num_steps)*0.5\n",
    "\n",
    "# pass each sample through a Bernoulli trial\n",
    "rate_coded_vector = torch.bernoulli(raw_vector)\n",
    "print(f\"The output is spiking {rate_coded_vector.sum()*100/len(rate_coded_vector):.2f}% of the time.\")"
   ]
  },
  {
   "cell_type": "markdown",
   "metadata": {
    "id": "zoLxfVoINzdH"
   },
   "source": [
    "As `num_steps`$\\rightarrow\\infty$, the proportion of spikes approaches the original raw value."
   ]
  },
  {
   "cell_type": "markdown",
   "metadata": {
    "id": "eYKsWmoGLz6S"
   },
   "source": [
    "For an MNIST image, this probability of spiking corresponds to the pixel value. A white pixel corresponds to a 100% probability of spiking, and a black pixel will never generate a spike. Take a look at the 'Rate Coding' column below for further intuition.\n",
    "\n",
    "\n",
    "<center>\n",
    "<img src='https://github.com/jeshraghian/snntorch/blob/master/docs/_static/img/examples/tutorial1/1_2_3_spikeconv.png?raw=true' width=\"1000\">\n",
    "</center>"
   ]
  },
  {
   "cell_type": "markdown",
   "metadata": {
    "id": "k8_Lzm6FOcm0"
   },
   "source": [
    "In a similar way, `spikegen.rate` can be used to generate a rate-coded sample of data. As each sample of MNIST is just an image, we can use `num_steps` to repeat it across time. "
   ]
  },
  {
   "cell_type": "code",
   "execution_count": 10,
   "metadata": {
    "id": "nz70JGXqobY1",
    "pycharm": {
     "name": "#%%\n"
    }
   },
   "outputs": [],
   "source": [
    "from snntorch import spikegen\n",
    "\n",
    "# Iterate through minibatches\n",
    "data = iter(train_loader)\n",
    "data_it, targets_it = next(data)\n",
    "\n",
    "# Spiking Data\n",
    "spike_data = spikegen.rate(data_it, num_steps=num_steps)"
   ]
  },
  {
   "cell_type": "markdown",
   "metadata": {
    "id": "q0hATEwKobY1",
    "pycharm": {
     "name": "#%% md\n"
    }
   },
   "source": [
    "If the input falls outside of $[0,1]$, this no longer represents a probability. Such cases are automatically clipped to ensure the feature represents a probability.\n",
    "\n",
    "The structure of the input data is ``[num_steps x batch_size x input dimensions]``:"
   ]
  },
  {
   "cell_type": "code",
   "execution_count": 11,
   "metadata": {
    "id": "ebdP5kFKobY2",
    "pycharm": {
     "name": "#%%\n"
    }
   },
   "outputs": [
    {
     "name": "stdout",
     "output_type": "stream",
     "text": [
      "torch.Size([100, 128, 1, 28, 28])\n"
     ]
    }
   ],
   "source": [
    "print(spike_data.size())"
   ]
  },
  {
   "cell_type": "markdown",
   "metadata": {
    "id": "Cnas5Q89l_10"
   },
   "source": [
    "### 2.2 Visualization"
   ]
  },
  {
   "cell_type": "markdown",
   "metadata": {
    "id": "oVFuIXxMobY2",
    "pycharm": {
     "name": "#%% md\n"
    }
   },
   "source": [
    "#### 2.2.1 Animation\n",
    "snnTorch contains a module [`snntorch.spikeplot`](https://snntorch.readthedocs.io/en/latest/snntorch.spikeplot.html) that simplifies the process of visualizing, plotting, and animating spiking neurons.\n"
   ]
  },
  {
   "cell_type": "code",
   "execution_count": 12,
   "metadata": {
    "id": "4TYFlc4_ZK-u"
   },
   "outputs": [],
   "source": [
    "import matplotlib.pyplot as plt\n",
    "import snntorch.spikeplot as splt\n",
    "from IPython.display import HTML"
   ]
  },
  {
   "cell_type": "markdown",
   "metadata": {
    "id": "fwWROIkdobY3",
    "pycharm": {
     "name": "#%% md\n"
    }
   },
   "source": [
    "To plot one sample of data, index into a single sample from the batch (B) dimension of `spike_data`, ``[T x B x 1 x 28 x 28]``:"
   ]
  },
  {
   "cell_type": "code",
   "execution_count": 13,
   "metadata": {
    "id": "ZZxTqqOlobY3",
    "pycharm": {
     "name": "#%%\n"
    }
   },
   "outputs": [
    {
     "name": "stdout",
     "output_type": "stream",
     "text": [
      "torch.Size([100, 28, 28])\n"
     ]
    }
   ],
   "source": [
    "spike_data_sample = spike_data[:, 0, 0]\n",
    "print(spike_data_sample.size())"
   ]
  },
  {
   "cell_type": "markdown",
   "metadata": {
    "id": "lJJyPUiuQ61x"
   },
   "source": [
    "`spikeplot.animator` makes it super simple to animate 2-D data.<br>\n",
    "Note: if you are running the notebook locally you may need to install ffmpeg: e.g., `pip install ffmpeg` or if in a Conda environment, `conda install -c conda-forge ffmpeg`.<br>\n",
    "If ffmpeg is not found, please uncomment the line below and modify the path to your ffmpeg.exe."
   ]
  },
  {
   "cell_type": "code",
   "execution_count": 14,
   "metadata": {
    "id": "4QVyvj9PobY3",
    "pycharm": {
     "name": "#%%\n"
    }
   },
   "outputs": [
    {
     "data": {
      "text/html": [
       "<video width=\"432\" height=\"288\" controls autoplay loop>\n",
       "  <source type=\"video/mp4\" src=\"data:video/mp4;base64,AAAAHGZ0eXBNNFYgAAACAGlzb21pc28yYXZjMQAAAAhmcmVlAABg221kYXQAAAKuBgX//6rcRem9\n",
       "5tlIt5Ys2CDZI+7veDI2NCAtIGNvcmUgMTU1IHIyOTE3IDBhODRkOTggLSBILjI2NC9NUEVHLTQg\n",
       "QVZDIGNvZGVjIC0gQ29weWxlZnQgMjAwMy0yMDE4IC0gaHR0cDovL3d3dy52aWRlb2xhbi5vcmcv\n",
       "eDI2NC5odG1sIC0gb3B0aW9uczogY2FiYWM9MSByZWY9MyBkZWJsb2NrPTE6MDowIGFuYWx5c2U9\n",
       "MHgzOjB4MTEzIG1lPWhleCBzdWJtZT03IHBzeT0xIHBzeV9yZD0xLjAwOjAuMDAgbWl4ZWRfcmVm\n",
       "PTEgbWVfcmFuZ2U9MTYgY2hyb21hX21lPTEgdHJlbGxpcz0xIDh4OGRjdD0xIGNxbT0wIGRlYWR6\n",
       "b25lPTIxLDExIGZhc3RfcHNraXA9MSBjaHJvbWFfcXBfb2Zmc2V0PS0yIHRocmVhZHM9OSBsb29r\n",
       "YWhlYWRfdGhyZWFkcz0xIHNsaWNlZF90aHJlYWRzPTAgbnI9MCBkZWNpbWF0ZT0xIGludGVybGFj\n",
       "ZWQ9MCBibHVyYXlfY29tcGF0PTAgY29uc3RyYWluZWRfaW50cmE9MCBiZnJhbWVzPTMgYl9weXJh\n",
       "bWlkPTIgYl9hZGFwdD0xIGJfYmlhcz0wIGRpcmVjdD0xIHdlaWdodGI9MSBvcGVuX2dvcD0wIHdl\n",
       "aWdodHA9MiBrZXlpbnQ9MjUwIGtleWludF9taW49MjUgc2NlbmVjdXQ9NDAgaW50cmFfcmVmcmVz\n",
       "aD0wIHJjX2xvb2thaGVhZD00MCByYz1jcmYgbWJ0cmVlPTEgY3JmPTIzLjAgcWNvbXA9MC42MCBx\n",
       "cG1pbj0wIHFwbWF4PTY5IHFwc3RlcD00IGlwX3JhdGlvPTEuNDAgYXE9MToxLjAwAIAAAAVcZYiE\n",
       "ADv//vdOvwKbRZdqA5JXCvbKpCZZuVJrAfKmAAADAAARsG58lw15q9IkAACtobhz+EtXgAGbPfnA\n",
       "6vBq2y4KD1VFSYr8QiGU1RZ6il6SV2xj+fxPL8Qg2QVIKd1FSNrbUkyK8j5tf2bXuuUAqmGmgt72\n",
       "qfAnam+BtJ+fYoQA8pYwsjqib3T1EXHpSR9Kjy1vDkPHiYNJD3mB66z+jaKe1UPmbMaR15FOxG1q\n",
       "T8x+MHVX5d2miNOrn93v5t6y5pFX2s4L7zKf8QPr0iUIbCRWrB7uGYgLQQB/ONZBFFXiXTpMhExx\n",
       "3uib4EdtbxefWb6vhui6iZbq21A4yqNQDpfHu9U4oUZ3ukBP1rKVzMS1d1b69Mlgn0LJ9T330QT8\n",
       "9W54Zi3MxeXQJvt4bDyYBPTWa8nmKwdzikqDBfBqcD7TVBzaU2PaU2UXekliW6kgunyEJQLHw0dF\n",
       "RtgLV/Na/MgBJSlHaTzU+QnVK3y8dPK9qUwWH1M2+HySC3grW1tFqXn1MqITg0zD1rZkahC7RrXG\n",
       "WkEUApaPfNlbHCyYe7WOmm+ptAAsuFEkOh6xGG7xPrnEOAFcheKDrAfb/KEjrNAV1RHRODW9iACx\n",
       "nKOa+rCj0Q0Sr7cRE2VRg+NkQbulCX3FxkNwl6cW19KBavLb5ZfVi5KTmbQcJoCKqbUmSUuklNJV\n",
       "vr3Nzt7+yPNPe410VQ1LNhOP9Cpe1y28/lRG2YQcPN60GKJsiT1vjOm5n3jQL6bt4GooACxWFsd/\n",
       "N0NZgG0dsM4xNszpfRfo6eDTup2tGIWysfLBdSSbYIJB5PbULf+Sc2ZQwzYMa2gDzUyHkKwW9+nt\n",
       "UB4m0Zh9vriHeKn0n/ZCrIhH8MNG7/2d37PBhL5wSTeZkSIqLZFVnDPnWlDSWAYP4fn2pli+nfOj\n",
       "DFNuL2ec5PDTi69GIvFhv2mN8W/AGpLRZYTAWgtaCAcvYLC2OWqHMNLAdNOG4uPT6RMKbe6QPtv6\n",
       "sknLafi7jdBO1O+jWc3QZKPrJZXsVafHK9W7vj2o5m2tQrGtX0Qq9GqZFz1zyZ22DCuy5rExPHRk\n",
       "CEz9m72Ed49FrtaD07HKiZk+qWDFf2xcnuN1dc4tHHTe2yFIDzlNcN/67wXPS2EEiOccAI3OOO1A\n",
       "Y8NspFcXFgjIKAOAnFcXnb7/tDLUPOVk0ALbkGa0nUxCMvKG8I0BqSSHHSf5ed/tzTPkonvZN2RT\n",
       "bjERgtzunQz4uG6oTqJ/ldkZjqM+ULhnsh89uDASBvmdScPlOprNrK9GeGL2KvRbCg+03E25gxak\n",
       "xj1L4NHk1X5mClzWQ4qO7C9c3PTXJJ3xXZfSc8TmMzE2bcei7oKdITzbMbzDJ5bJW2YFEW0+324E\n",
       "8DIb4BgEGVS6L4m5KfqR/bioZL80vG0LuD6CrapA+bLxiuFkDNjmN/Aqpi8RlpLvVch8YEMtnx6e\n",
       "wNy9esv505sIpwsgRqbSyOGpL1WeBhocEiBlyNF6k1hr7sO4XgY3f7fk4yGF1q9vRzvDn+bA/hNg\n",
       "GWqlPCCGpfaf2OFo4uCmpIVa3hPRV4Y072qZhaGJQijSaDyqp104te3uddVDf99ASwu3T6SQyFX5\n",
       "Tn/j99iza2Sl5iuAdbOna4x7EA8ZEquf2Loh1WCtavnCeVjDKYIbnlSkcyI4kYyfOJ8EjoEmhDMo\n",
       "OyukUS2dE1Yt00R1WGEHMEVMEzj/JCqdfQgk1IwVo6h7jcnAwd/Z7kLNyffid0C20O2hitAX2JsU\n",
       "QJzqEyj/oqy64v+IYRjCIVgxlzzPvVml694sOAoEN6QLUDn34YazSh5ywWEirL902igAABC1OEpj\n",
       "wQAAAZ1BmiNsQ7/+qZYAkDCPQAh3DproA3PQxv7l0Hn9ax5qh6XVIjgZIu2FK/3zdM1jOAGV3hz4\n",
       "VQ9BBZfYjmIcyKVan+XbWt+dT0HBZFioXdRbQeOft32VztsB2C7CeFhk7aP6RHhOyAcTUUopwK/I\n",
       "+smLiAEE/7fVVIgQAWniNu4bQam1nbG1P+XaPXOsOL2ZheCmkz8/c7bXmxcqfnPh9MeaoN4Lpqh+\n",
       "ZhWfotZTPsPwP1fmVT2KdtrUIpjGs/XHq6aRAYLzQD2n2qhFIIHx9EFkIUBNBJ//xPx/p7Zn/uYG\n",
       "fFsUU8QZWyz+FdXhUcQP2RQ8O8Z5NOsiL3qdz3trBOg36tYieCH8nOThyUbJw3RZgCi4FeZM+g1y\n",
       "fvLM4oCVpkvq4QQHKB9O4YwTGVSxdAOOuQagZer/lQNmb8vu8nMrJGrdvwYMfKm1lYlIF69fK3kf\n",
       "lSwtxhHX7+HoF2KGI+xig3m48+so9yHjEl5+S3GkABQclsdSy0t1cSbU2dkhPDCWdmyGVjLQrHuy\n",
       "FZH6FRAt7vrsdK2wJXZrKMc/wAAAASpBnkF4hX8A54HA7X4YMAKmWm6Nor67zSczojyTk71MraA4\n",
       "IppPl9e2meRDvgGH5Bb4nebWcEP10dBMDooKQg4263uCsOCQRqWHs9YNBbfuldwj6HVE4reaL8/W\n",
       "farClif44oeOoBCYqaqkDgTJ4ItYQTGczC14v2Hf2kEiKMEKqX61EC+FaGiogQCiw8DMcDF1t5gp\n",
       "8l2s3qrdnfyKQr7vruo8TXnXNQbwv4lhEouwFrPlv/24Gw3l2d7YPE0QySyyIhlRpmkhNXn0Xfdn\n",
       "Rn/m/gsjWLXfydLTNeB6jf4bYMCA1G7n+U9ZXjQ1ahVEOvlshifT6Y9vL04vxTzrOaLj379Bp8bJ\n",
       "3CJ4by8ePx9X7SPdWnIYBxRPeknkTR4A8sK92iHgQ8KILEhBAAAA+AGeYmpCvwBHdiuqI366OlzM\n",
       "t0c/8AAOGR/Ty/n5gbxcBdwPi7PC8M9wF/4Q5uiO8DSXrdAtfjRWvqAC9aNlJrCApt/EVT5vEqBS\n",
       "DO32UT6/TCHDbPDBKOwK3G6sStEVDLtHCuJzVue/afxO4Hu0QpMNFnTR2Qb6MEtK4Ovyv21Khben\n",
       "0/6m9t0qvDEgCL+U6LzcaFo+lI5EbpE61tZGAhlqILFf971dtBK/GFSol454Ntm4jQpXOt+l/Ugn\n",
       "tX1tgTEp54ZGa+6eGxUidxG1oXPLahC+GQ/lm7tpvzY8i6kcAv74xrRkcz7hTD7w5091schXeNiz\n",
       "nEe3AAABnUGaZ0moQWiZTAh3//6plgAt/PPIzA/GVqdnC9caZfnG0/sbXxc4TuAgrKuKHMNSke1b\n",
       "+vLEmg/H1iSDK38NsIhwRD8xUNkddjv8bBd0cHS24oaBA+dhvhAtjZDXJDkPGd6/lCue9jOFo0oV\n",
       "qaGkJOPENK+lnA702E+Kvfs4tQGZXN5bndKdki4iDj7d/V9QQcAfHVKiKj613cduhgWRLxX9t8WL\n",
       "WJPVR9FXxCx+lY3Xzer5Px3Qyh56qdb9R2kOeELXCrLU3boW3G+edhWXqWk2/w6ji6ASDuBp3MkX\n",
       "V9p71qrga87Fv/ubYPd9akdV4NCjubc85Qx+AmlSFTGMZIjbJbxuSSRq5mjMGxjpr40HeHyJCMqy\n",
       "F9nPIDIz5VYwHSpiSM0WSXKpZFScOtW+aSSfgZqtoccn884TmOoaEqT1tCAHz65ZSxDoFeDvrGn/\n",
       "6gaGZpaYWbAeK6ZG1SG2aLwuxPNsH6AqzlpAy5hKMhYdnxhhGuy+CDfHi0j6kTwQoK2z25BzKRGM\n",
       "AUKMMFb7rQD1yW9Cn51P1Ey/kchVAAAAmkGehUURLC//ADTRGJzGt/saptOn5OgIeO3rFLQABzbU\n",
       "tH9CPpemRLed4pklCu3/RyE2rua5qfd8ZriMfjouW9UF89RuriOUxJM9DAvLMAOKTCnKZgTqIv/b\n",
       "8ta8oEz1T+VlEkVLj1klrJTX1SU4G34eAABgC/wl9VPpG4Meh2o2QUxPZDWAbo/cGFPZaVyX7kfh\n",
       "nN2ZxaxV91EAAAD1AZ6kdEK/AEl26uECqYgA5UAlZrA3u7vzy1bQDu5lfAhdnbramWNrF1b77mix\n",
       "ra2scDF8dJ15JPZvfKqnHatYps5YravIq04k27Il419sbIwW23m/CmIMPrPjA9Gkj8rQ1r+Hi4Op\n",
       "tGZv9c5NPSwdd9kSyUJMvHiFgmM7wDho1dvZHu05SDae9sjcZvBt8rIF5URMUbtgRd16cluxKOST\n",
       "b6uQUuZcABecVdQcvcsdwPGf30zjks0P0o3vx9JBsre1PF5oLdDS3/Zk2JdvF7sHMf2jAmhSxacs\n",
       "GkL519MlanG/905rvG+YRDaOT6aFmgGZdMtdT9UAAADHAZ6makK/AEdkhnbZFsYABcU/0XRTR5yd\n",
       "hYpBYazQBQifdG8MFc2OxbZXNzv7vFAa43cgBYh2P2ndldxjuSs76VgEHPmJmRSIlei5ZNQfkjbD\n",
       "ABuevDsp1JOiPev4e1+UpF4AGDf4DOB8SAuClL076teJK9MH0ljEjkl3ZOFphifNfkEWXfj7VZ8r\n",
       "wiJficj3bj16B6BZSK9F+X5s96X7iMYj4FRNWWPbGLzT8Lcifh3s7ca9BjFOyhMqHFOIoCkNCLiW\n",
       "mkCB6QAAAR1BmqtJqEFsmUwId//+qZYALcLhKP6BuIwmEMsVU73L8UgBDiPFQbHO4XGVo+7x+C65\n",
       "QNymO3yDr/mlweG5Al/Kgt2b9XKKbvuLuLqwgkQCUf9rZQhFjz8dR8w4wvFW51HMUY5YFZF0KG7h\n",
       "fxwXpoPvDWR5nvKrBAK6b3WYkHpatMw5QVMOXEulzlknM18oXrF007IDeDU1Gqrik+hFCdSUJX5k\n",
       "ifEdhzGaW75Y94L/ovaWxsRHBxRZxgvM9f5uw0Oe1T1wNeH3rz3ltS/X26XXCyegG0kqiKXLJpof\n",
       "RquURL1mtoXN3ZxC7fpcKRbmocAHOIxRTP9KeqpYQ3lgnEZ8jcBmwYrKuDwC7Zvhl3IMpFSJYXGG\n",
       "n3KQK6zinsAAAAEdQZ7JRRUsL/8ANMGJPlYLwHQUhCdBgVvgAU/u0UUuPAheC3tcgVeXM5XyVt50\n",
       "o9X10wVuyOygsDfdwQz9y3/LFEygF6d2ZSY9zUguwsPJR7mYN6MAPcNINgW14qUU+QnUiSDxD/67\n",
       "3tGbYrdXoHAKt6x8wco9Rmv4R34CwA5uh4jbkkrgPeLZEqwodPmW/rea+e35mjHC9yrtsB8gAE1/\n",
       "s6qa5NgHAMkVSmVC65nLPmgImWo6fY5kEiIFqyXPrBUkosSjrHvSwm4hpbjkQ0ZNDGG+mWyXiR6/\n",
       "F4k1uk/Yo6SQfchN9Wz77ksNzf/KHvB7mYOqeUuoB9Gd6XIrqBp0mDrmc3ywZkCj1VDFrFgTea9N\n",
       "/6LR2kg1wBxh0arAAAAAogGe6HRCvwBHfEd8MJ17Bi304ALx8lpw3VOZns4p2+IsfNSloo+NpWCu\n",
       "f+KVyxe/oKpZ1FMJ0k8r7yxsg8rDruzqKqfbyEuZUWiG7SjyREmsKsYXAlNwAbzw53/VxjtlaT0B\n",
       "+I+rmddYnqVhZ3y+BjFgPSu3Z4OMVowJ+L3cZASFBELfpQKC793bkCtzHnAx+Tf68iYrtutIKWh0\n",
       "tnkCmAxuoQAAAHkBnupqQr8AR4MmabtwJe40/zYuCbxdw1ahP5JbuqNa0s2F3OKO4JouMQyXGANk\n",
       "EP8dTqlgXIP+mBspe4UThjygAB2h1X2iFIAYpEsaC/hdmBGlMquQaNsWpVHKWDhdpJeTaEWRDAOF\n",
       "3hJFro4pN+R0HTz3GtScOLbgAAAA3EGa70moQWyZTAh3//6plgAsouRzuE+GE4cW5VJOxcRcPwAc\n",
       "qVpSuBD7Lfs5f4U5BHmd/YqkfkuKaw/FjAZwE9wIkeCb3SpuVpTk69QF/nlMR7v05QdD2R6/+bac\n",
       "hTuYI6ZVCloYgIVjIyYgeqxPGHzX6kTKXP9gqxcGWdwU3igiw1HiN3H4s5tdTPYZeA54q/ZZxVbH\n",
       "jQqarO1crO3rlr/cstOQhIjHjU8NjCtRuee1Bs/bYeNvbJ2mqiljflOtGOlyNE9ZspsdsjRalWZL\n",
       "tPzdjxcjTGveFvmMhbgAAADWQZ8NRRUsL/8ANe5pWZdoeLwAM8ZkSMFo5oXU+bcbP5PRRMdY4SEj\n",
       "tTqprIHdpbYa6sdb+tQ5bLP+iUXlUi1BmshbFt/3M9WIs/pLCgwRN8cr6zHxDbkDJPGj+ri9nSDl\n",
       "YL/gBe3cb66CpH92L75ab2HxKOHdWIsviF588go3L6t+32VHvMucgQlEqOM/WXVFIW/UELn0g49R\n",
       "U3pa3oy71iKQ6NdVp0/YMWDHan2v87yWUm3DB0WZV84v6gujuf+6C5y2Owebxqo0TDAXZRr2gpsK\n",
       "fZvfgQAAAPgBnyx0Qr8ASXwYntSMk5NIkCn3yObqwAeCNF7LqVoI1Y3P6eX+jlpVnKA8YF/uJP9c\n",
       "UN1Dy8RiyjSkV6mVjVgehrkwWFaSKXshVEsdrYq1oZBtwLGEKo56wVd2tHYnPtd85RXLQudyVpPJ\n",
       "fUK8Y2sArrKIylAzAHdJBTLtBQhRfRilbmv9UvssM+6GtZSTSAB7uf6S5Vu/s7ENtBocBMAuFg+K\n",
       "xQQ0CNfIDY8MLAaX8cs8eHISgtSCm5cB8mUn8BlCyx0mnPUxoQyQ3Xo8I3ZLuWTTjCUe8OOq+mmM\n",
       "UlGDP51XaBgQjBdM1Ziy6+i18MB/ycx6NX2BOQAAAPIBny5qQr8ASWQnSOPiTvTp3dvIymAYJxgA\n",
       "hvNNAtsjbZWiE4HYRN1r8/shc+8HUzWmovrFMIU6PE7u5Xr4ZMokrQVWjGGl64ffYLtXTmEvWOgE\n",
       "oVY29CB9vaSLr/Me4rbvjSEjUHY1KHv8Ed3GwVTsquXU/u3QrNXbnAkxADNa7IB+o5rbk3ZRW/Id\n",
       "G+yz2fSJ0H9uGLQ4uFqg9lKIVyduwiOP3WcpWcAZhN16UgVvVFOHxC2IlAXuP6LdhsMlsO+jPu6m\n",
       "i73KD6tLXlDwbgglXccUgqOXN4+dc6WmexYSqdvi1oxbeCBYo/GXSXB8tET+XQAAAWFBmzNJqEFs\n",
       "mUwId//+qZYALf8ChJsaqAlnjQKgarmvAA/1iMARx2E+KHNjCcNSEQTQ7+j2iIBKP+1soQix5+Qs\n",
       "N1/ogYRjySNxwrSEZMXpP9BPM0ML2eZa10T2iIx24uKyCHe9m61EEHNmAGz8iUczB1cg9CavqP0b\n",
       "J02yeQo4upymwuI5OJMaS0AqvOqVlP5IVpPKf/5bYGEwFCRm/ujtlxQujGM0y4x52wlPEMG+jMEO\n",
       "Oo7+d6p8mUXimNRIvvPYpI6dNtErd1HSUIar55K0tmMLRdPZL5w1G6TubU6HA0+iQU/UCHcuEmO6\n",
       "mgamZin8VVz9D0BhUyYkRrG0QBgY/yeo2OK73VNuNPulrX542BjVu2c7b/b3S7l7IHf3fGollwgz\n",
       "CktN4vJbbBIfIgaE3RQ/SXgndFUVCF27vMn2VK/19VvVTqstoKKn33GiUZMNDHFyFKeuZdai2gIf\n",
       "uKIAoAAAAMxBn1FFFSwv/wA2IHI3mHZxVv43/xVG9XFjbd69dMF6PX15owQalsWny3F4ARdhfAVu\n",
       "tXIW3+AHZl9/2KJlemr/z84UbP4KKs2aaBE+ss3YoDwbEkkjKtTJ1zHPG5HRelEts4aqMrMHb5hi\n",
       "eU6YpRR7MYdMMHeP6lULkMPXeUFT5SzNX9MKEAz00+iSpeUGRO+LTSQq0ogDHtPh8Qi1/wS7rlej\n",
       "cZlBHKb/edsdDKV/YIPhHIW/jUuhgXP5LzziRI6lgFX2eX9ymIVA8uAAAAC0AZ9wdEK/AEds59cy\n",
       "ztCxTqQugA+YCotkBkAEdg0y18GRCXiU2qYf2rVDuNHFJ6ZDLxZ6d2gB8wgWQcZCWN/NbH/aMLmN\n",
       "xp8brfM38iN7NkYq4hQsKyjlTcl1w28a6RDI9Gcp3W7+klIgOV2JWxQMMK9VAhfwPmb64E0smYD3\n",
       "SbKENH++VX9g7OPGJrYUhigxSd9p6diiWf+lvx8o3UkMXOpzsoxaQLs54sbphY9MwWSQgwWdAAAA\n",
       "ygGfcmpCvwBJlkkFMnnaIvqNO3NrYVAA6z5fXP/YCFqDDzwBV3xUeTJW1LP7pVrGAlnNuInZrln9\n",
       "T/NNRgITCoRIsj0jtb3W8oGXFwUCjh5Z08AdXlaoKJGIsCwYq95Jn+LzoI6gVPosUZ/WEVf8CfrC\n",
       "OHIlSQ4h7Hbfvv2PXLjkZTytoiGxTF1lNvOecMHRGoiIyOmb6BXWiOR8y39J3Ch8ip+AByD7UKJn\n",
       "N8Gkc5BY0XaqmUP85+CXHoPhPf9VuxJ/3OYGLZzCqoAAAADEQZt3SahBbJlMCHf//qmWACuBZ3wA\n",
       "ERt2W34Qw4zhaVyBB8X5A332xwwJXphtg5sfdN2SFPfwCsBxQPyOUo5DPfS42meb2oFt1T4mexFe\n",
       "a75sVOGOI9fwhJFMQNbM08U7soPcTCEI9teSe+MHkYFW41ykM9xlGS3Ihw2DsJnvzM/PRBTZk4yQ\n",
       "n/wR1fHvU5Zrdfp9qv/6otDwtvxRYYFmaSekAlzudvzCqqoO6NctL7DP+B3wn/BNT6YERvOehl3D\n",
       "nJ7vwAAAAKtBn5VFFSwv/wA00RSGK484EGEe0SnmwmgAu8O4w8VgTgXiH5hu7LnXhjPcjV7092CX\n",
       "G1zcrNjsm3fYYWX1AsABUGeHEbXwUmoy4bD83jYfieXkyRInQrNpmxtLaMl5BV5lgLfGDGGaqioN\n",
       "lqE5heoKg6qrdCjUx4O2XZQiHKOcKpKyeaNXr0ZTKTI8pZkCWdjHyO2fM46iEf4QFFrft/L2GuxP\n",
       "z5W1KjBqTREAAACVAZ+0dEK/AEdc465n8knAABwyP6eXLwcOkxFsjLQpFMdaRcQB4DWyQ6bRTZ43\n",
       "a5dxoPEoGsRW3Q2sNDFkxEvNemnwRlqD3bd0fpyTXRGqOLlZbDs545wf/ZU2DF+COyjLFjspANyo\n",
       "zFD3S9Hpb47krQbFdeBJknepvMyyCukrR2V5qSedWJmsIW8cIFVZAuha8eRM3YAAAAC5AZ+2akK/\n",
       "AEdkJ0lgpXg/+WkGYywDyvJ/XicbBK62QAcnXfrla78WOwOwN0Z41pHS34sIWd2jSl18FaC8XDcX\n",
       "No25UW5lPtn+dMCLmVCrGUYs2t34tYwpjoj09QuVpPqtlUbTFgh0JPrOoy5dQKUS5DbjCselmnNh\n",
       "qDML2ttK8krGtGq5D9Py33Im1sQLT0jmtzDX7IgF5+DRZRMGedyMAuDI0fFWrLh8ugXHxHhnuDjj\n",
       "BdnEKt7RRRcAAAEMQZu7SahBbJlMCHf//qmWAC2/jt9wr0AfKmJgDo6pwXHjTVvL+psoITAPZbaQ\n",
       "22xbSNqiurTf/tvw0rkOkeb25b182jGaSyYBSoAuhOrxqvg/Mhl8dNUsJ9SZ9niAZNk5YPupm43+\n",
       "qvQIAl21l7DsxIEFlg4LO/EqLq0KLo3EvRhfncYNPYy57qa+6LfVTCpN49JIAeA4wlOIuEyKv7Si\n",
       "KJ36HuPrJY7Kdc12O/eAKZYdYM6hrhAAgLprOKLt5Mpy5+Tmi1//+5kUFeAN8+Fc+d17b24a93UQ\n",
       "2wOvbpPnpAxqg+6rX5GoECOP5y1jv93Y3ZKsQ6PJZGuaasJbVrSV+kz4NAumfd26NMYcXQAAAJVB\n",
       "n9lFFSwv/wA0wcorabRPuh9huGz9Enb5m72TVOf3MEQGb/ZCipk1UZ1TWZD0v146GldItzazfhAM\n",
       "c/voW94OCiBLXbjbV9IkHAAzfabUPXTowzp9Sm2AG9dAT33yObYyi8nlNHuEMCGFxUuhMzkLWI5l\n",
       "ezQzY96sFrTnI7RrdMjTGGOVi1V7AwwFjUveZKb8IHErbAAAAUgBn/h0Qr8AR3yLxDciMn+BgA+2\n",
       "HmuKWzIrJwFEE7KiGrexrbaU5aAsmwonMv5+YG8XBm3XUHikG8CvJEgrY958CKrUKye+BCQrVmCp\n",
       "Cbc4EHMeo5xVniJfgkOojnkVmG3SuzevzLNNuDmNzGaZ3uRFId2U1VfdhKrrwepLch455PSx3fcI\n",
       "WLQJPdXu3V4WpELUtsgMbmfltb6mmCRKRrLPKyUKgXyz7gd4o+S3LGgeThLEn8yV0TmQiLJLHPBU\n",
       "hRmNBYT8q69Mkw/8zKLUxPAjCZaLC6WYlKw1IG8ImCREPYVBIvMXduvOa0ANtjNIDzscO1uxxnGK\n",
       "NTscepID395RCri/eD/Jrmi/r0kgJoMAnaeb1ZkD1HmIrQ4dFSwfW5Y42srEfx5nNJnLIch19nc8\n",
       "elfFlOV5GCb0Cs6CmyGUO+CYPrwSpNOnAAAApwGf+mpCvwBDdgRm/c9qUO3ARrfm8MRYXHVp+y/r\n",
       "QViIdnF73ASm41tMcIy1g5I+sJ3wNlJcAFw6C+TBsR5ImqzZwZeDw5/r3u932bau0KrpqdBiwDSS\n",
       "/qLe3tetaFqfnfBltd2pUuN6EV4I5PtCDTiNgxdjJiP7iNdKReHP/+tVV+qLV2ZePayol1NCEvup\n",
       "YmCRw0sTzYoV/gQDsEI67eFm5QUwvcOYAAAA6EGb/UmoQWyZTBRMO//+qZYAF4554/VQCQAmXS2Q\n",
       "jhYm8fsPGoi8HrMhvGsJEWJhVL3uPtttqY6l42fkSjmYOrkHoTV9S/uLDm41FZ26/QNmF6YJTY60\n",
       "m16Xw0BabamjdbNBy7Z+MujyyfTzbPy2Ibpk5qljeMkXN9bIqHtdkPn6wvXovzE741zCrr2OnBnH\n",
       "LyyjycMZ+zqKzGh2uOdEaSfJ9zGFFHp4bMYfPLMXa/OYVfHyukA3SmM752Z2Zz15Xu5yfipJH8Q1\n",
       "J2GD2suPUyUuplCHQlzSp/7k8sKxg5tPS2rZemNpdIEAAAEPAZ4cakK/AEdeGCqABKkIeQvV7lVz\n",
       "ee/KXk1KpPLp585S/8C37/dqfgvnj9g7K4VOPPtT+pXsTx5nVUV9Vf9O06e8SZ+afwTsgS7QUE/z\n",
       "tvv3XOYhfAajVFEv+dnsJlLGpsz0gle/PQSBjj6i3Ov24c01Eg5gSa8UG+5ZtKIE+7HUvGOmNXzb\n",
       "baPL0wgIQz6i3Kw0GK7anJ16NCoCP708DXqftJwVu7GKiQ04Erzm5pdgYReBnNzmy4Be0euDycIb\n",
       "J6FA17L7zuMiYTmetoZxFc6LaNot0nyGgjNd5de75H+zJjuRBmaNnfxVhUdJeChvVuUzjMTL+mGz\n",
       "fELuNWfh7a6wjt4D9+kVcREQeaCVcQAAAX9BmgFJ4QpSZTAh3/6plgAtukhSpz7LDtpYAC6cwsMa\n",
       "HDEXq139XJA4G8OxIL65zZ8tXM0dYUjzGk0axX0kX4KmlTkMx1LG7uuP5q1q4CwuZtuWajcR24dm\n",
       "HEoAjwe2WD8WVEO8rYW1TW4W3mhqFcLyk2d+6Wfe/1nw5MY5aRKDhN8sR18qBlBJORHAxeqfzi8Q\n",
       "oxCqIbbDQgR3d1FTe5ZbfOKOuWmUyO51G6O2LVVX1OljZG25qpg+yXhDa7GhkuaCUVM2uxfl0H5T\n",
       "faQrpkALgSAT1RV6xzwEHH0MxiIZAT0poRp/WQCdXCSVnuKOe25NezhRtKZ2L3B5pg+AtYhYzAR9\n",
       "r3dFsQlLV0vGF+pZNhCec194XrmgdObuCS7ZdfrbhzC5D4tRpJr8zHgMpOKg0IcGmalR+h9/9E4J\n",
       "OGWvcQbm9QTPLImdJEp1MJwmoERAjIWQAySz5oC+hGb7xKOk8EEGrsB+y7zUeH4C7rbwknJ+Yc/3\n",
       "KkwamJpjv/bwtwAAANZBnj9FNEwv/wA2CmRIBOMR5d8h/VA72CSmXniPyA3VTad2EOkWrKhR/VSi\n",
       "cgO76IcHJUfSIqvwI8+Q9I830GB35jKXRvuv5q9D3/cP+1z1/TQ+CjzarVAFNGLB3qUJan5oJ7zq\n",
       "Brg3R5XWearWAs4v/70StUMhoEGJHi90kvBciVbgusNLy5BkKGrpeE7gVwQPXMMQAnaE+54SaqIm\n",
       "+pmDGW6tUVO5kd/wxL9eKGNyL9DFiBBqwyF8H+IIMrZsx3giBlrQ8OTQTJGbpEst4U7UpD0rHGfg\n",
       "AAAAtwGeXnRCvwBDXRJGjumgs2AAAcMj+nl6eOGnxM1MCtRMCod1Navqfd/0dpP80Gl3o1vf10Oe\n",
       "7NMRopbKFj73x21vSSBa0kj+Wc2NeqRIv13HSy6rdK1sQ6pdfyQ5lVZryVslsSKFzSZjrFkvUpOR\n",
       "qRNxm6IPSGgv+LSLXcaKeGPXo32wxHLkUR7cH07Ga923aRyPYgRl6+un6Jz2/2oMzW2uWCoe98M+\n",
       "GbMB80vQaw4Isu+oByB5gQAAAPABnkBqQr8ASXXc2TVsRFXimHrt5oaDPg+aRpUXZNJIALZzxOZe\n",
       "njhp8TNnHt/uKZqLCt+tc0xfNzNf/HYlv/wSWCH4CkUx1rZUb01HgXRhRdOXOuSeuqqSAmXnAeMg\n",
       "6e9lWkYOhpqMcmCtyL9wxdaf/4a3AKdzApmW3fAGOIno8U6h7T5qN6AmByoRIQJvNRUJ0HR9HMji\n",
       "edcC4Jt7nl6vl2Ejv4Dyd+L2IC3wEvjEqkY5OR2rBtW/0aivsZCTd85f2KUjo+B72QZxBDamY7Gc\n",
       "7COb5iapLlokfWYaiiHItYp9NAR2XPkzU95PQf6srOAAAAD3QZpFSahBaJlMCHf//qmWAC2/2voD\n",
       "OiUgB/AjZaboZX3gorDZdaOdMX1V86a/yr8xK4rReoJXS8PLkr/t3a2IrYbSLnCiycofqnpK/X4h\n",
       "ZpJXJK5h8gD+hWHsSYcD00yA+RU8HeO2sFbwlhi7aep6yILclKQA9hgZGmqRRIoN20pgFhw9SqNp\n",
       "N71m8fN/4eDNdVnuVunrFyJT00c8dQOdu9OBfhhvGEk5Mv3NzdsTkzBl+QcPa4CAl5XgbIpSgnZL\n",
       "FZo3TEEvJeRe7S08BaVASySSpF9gEqYN7tWln5RYfRm7YlnX9G0Q2ULOl/g8+GxTbzIJQ673+QAA\n",
       "APJBnmNFESwv/wA2AY4klBz+lnciG0eEDPV8pSlI3QMJCLZ1xCGoFGiVZJVes47CShXb/o5CbrCs\n",
       "tEVK5Ytv0xUsNjkWJwnmAMHyWwiEeIFRAjNuPn8d8DMRcSYmNohYEmXncxhXh8bVxVqweotoChZ0\n",
       "1s4Ld68u3vk8Wpn9MxxEVSfejvjwDQ8RR9CYz+eBWNqv9Psm9JAwQJ4N9hnP7iAY7tycPCoaoXqD\n",
       "ctASbn8UUEMGC8lywrgZbkpBktpRcjLfen8uUMK7kru4V2MWZhmfBH1+FJq/vgvS6hEwYlZTWexs\n",
       "UxbkHYq0Nac3KjHo4n4bYAAAAO4BnoJ0Qr8ASVzjuXsaak5Q51VxHjydDQYCTFmNBwQYjMh47wZr\n",
       "kz6HlUAFs54nMv9HLSrOUBwZLPX6zemq1DAfl8gAQjazItEOycMPTpnR2J+lYBBz5iZkUiJXY6Mm\n",
       "qdpkERDXmLXRz1VC5yQXHgn6EZ0BIjTRxe6/VxYTt21jsIlXPq24cfmALUGZzEkfCJ+2xMSUiTiq\n",
       "jfg7N8u9cURopgixIgvEFwamqBEZJXs/8+bwiazq84OZnIJ9rp/EoCqpI+LPriP5enRCdsqI3kLx\n",
       "K+14sLwlVhDqsc4aMJpHTfIfUKc2GK7prwWVEoeBAAABJgGehGpCvwBHdc9Hg5gYhXxQAQ3oVP9T\n",
       "XVgOyX8x2QRXZUKWrhScWxc60YakwbGezCr3QQrAHkVFsHrPeEokletzKvH2/ttbjHjdNtuiH1Gi\n",
       "wIssX7ReNBvRjfB3dtI85KsOSzf2PRHwUbQz9RnEyEs7/74njE/VC0r8wjzRyfDLW36TQH/gH358\n",
       "ZyodnI9mY7fYRhTmKkhVHE2ceQjtMsg9oWj+pep/4HE/ZHJoCR73OHMvKmLtEzyDQroWkvgOpLLC\n",
       "AAfepDkka4NA74+yZHHbgQZxt2vuNIKmyD8hJ1QqijEOZauZECK+beg/AAmAWsjIbpVWQmuZguAA\n",
       "MhhlMiPlOkZ/9BDIwPE2NHSYHxMC3NF0RI4a7tUZ27b6C6sD/o1GMyPP9QAAAPtBmolJqEFsmUwI\n",
       "b//+p4QALoIMBFhaRwyhIvPbSGV4DGwjqePwHL7f3aHLrpKr1c2t172Toj6OfQ4F74mg4v3U7xKO\n",
       "8192jZSmKGsH3V7GlijiA8ooJyYBJp93QlHwifgA6kjiMY+q/RrVV0cr/Yuy+z2/93P2piWfGqEZ\n",
       "ylt0r8EU/CLmvF69ohEm8xCFRGHf3bsmbDFIVC8r+P6Vy8G5l1Ewizh8D4etNSIB1kyr3FDHQr5O\n",
       "Fc2xkfUHnLAmwpn0ZOtgZ4ONMvrWM0yDwgvO1YsMSf8gZZb4kvFGo8po0kwEylEOaQm954Rg0xCu\n",
       "ONH+DdDzMTfbY4dQQQAAAINBnqdFFSwv/wAyURjCYoJweoi/XEpVar0pIax8DjYy3FfqrzLA7VgL\n",
       "N/+t38G9NZO5pr/EUYl1nn77SMHolrVPPRy85TzB64S/ySAWc7HVwbXT/zZVamlra3mEfr8XNKbY\n",
       "w0xIEk920124uNHqQwDR9OzHF9tpTjxgSBYdfNXcC/nrZwAAAOIBnsZ0Qr8AQ10TZFjdXfKmHzz/\n",
       "yEsuqhjDxZfgBYMI5/Ty/0ctKs5QGD7SIstb8dV8MY5Paqw4Rua/LZIQh4WAkJ+PShRBPVR9YdgC\n",
       "WN4787eh9juSs76VgEHQHhf7bb45NXeYa1zzIw/50gY/jbA18nO3LMPBjH9XHFQ6EwoC75a87LLq\n",
       "3p1IOVl9rkLqR8MWPXeAkjxop5pMMtZxsh92LqwY91lwVjdXsM+Z/7L6u6woEHLhvY8EcI6xtogM\n",
       "1XMNAUIzGjaHVGpEi9Jk2h5H4q4iEycZfYUyMzxrHBbbTP9cAAAAtAGeyGpCvwBDdgRM/zQKgBI5\n",
       "kcxowIeXoEX2J9hq+JOU/joYSiXEkADsXeClmWFHryD77p7bgHsEgHVPRQkLMsCzrwtLvkLHwDBh\n",
       "8lTTQ2iSCVRkEBXIH9qpXjdKonGiTscC/tdt9WfatZGj7yUfcPfWpCJkE36qVa41fgwrEA0kHvTn\n",
       "E9snm+gM9zP/7E/wwiccQKM1m1qEMt9YDwadWZlf1Ev/ly6gp95IX1q8cWW31316wAAAAIpBmspJ\n",
       "qEFsmUwId//+qZYALbvoYhfqn8+jMFaJ9IygYlQAiHKtQ6uQ2cQqIYph7EncogmUbY7SvscYzn4/\n",
       "Bf1I40kC5c7A7nIYlb9z8JoymtAk+/irsYTo45oLcu9GxlHQh3yFTMttVUzeVYk0FiXUKLFpyN3/\n",
       "uMHNNJqmnER0J78xoVCaPB8dPWkAAAGtQZruSeEKUmUwId/+qZYALK96Kbn1LwoP8Cv7lcAgNTDQ\n",
       "39gmQUr0iL6UuY7xksO3nB5ZJfrNjdGGzU+z/IxGyHqb5TNpGLjHTDxFat6l0DKoCCO/7mvf/2Ke\n",
       "AP/PPMVmFNjpNWtk9lXhlBMD/4g35VJY+6lRv/H3YW98EwV1x/rO1tHS9+YtxrZxuJ/fiDd8IUUZ\n",
       "toTVyHHyradcLghB5IUotHgd+gw86SyHcEYZXaYKrosO7eDty49l21uYYW8EbK1MuuiBttpi/nSN\n",
       "ggWuhB0rqNCBOh64UBWqU5kA1kPUeWrxYOF53WdYJtUWgJCA2IQ7GlJ5i5mTaDwyZ53XjFVCMAx/\n",
       "IUvsqaoliEKPhkQdmqTWWuNoL5ZevsuwHy6uSiLNP1F/yxgw1ufot7EFxWl/eHxq8GFV5z5++NVM\n",
       "jstWpeFPo/fsPRbpUcFdgBc+SGthX1D+Xdkz2lFU4aV/H9IodaejRwU/PhsGD+pUK99d4yOHcQvx\n",
       "GaItn1p1ZBWZPLu9McSXk9GU6IHA3hs//Ahc9eFqAD3hmWhRkceX5Rshru0HjL+N4rYl8Z1zAAAA\n",
       "+0GfDEU0TC//ADTKX9O+U0mABquKz1fL+UJr/z654fQcciFvb5Jk0CiDSxQkI15/bUY9YIRCrdy+\n",
       "oVT6bC81UwgMwEjTN0546YVvim+FGEIYN9TLaQC00PI1/jjNpc0A6Ip7O5iEW4Q14lLXgCDcPDUm\n",
       "a0TIF1KnD0xOpAY1Dy7ovTqnWWfB9/773ht2t3RpF/gZ5Xt3i+Iarla5+C+LNPdYNwZG/cCajEfc\n",
       "5SwpjMBs7JWET35bK5Xurbj5SBh6kB8qSPlTs15xIFj21ALS6f5XDsJHj1nHs3tAQZ2T09XGUsxw\n",
       "D4AC85bg3LBadwTcflvOZGIG3tFIzs+4AAAA1AGfK3RCvwBHbOfOrOQSgHfUinfUAqB0fPO0Q3H1\n",
       "TYXKD+nl/PzA3i4MhDJgKgu16muVv1QhLfxTfWX9/NOHrhSbs6n3UIDX3FvUuKpE0g/sGx5Txo9E\n",
       "WW3WwUANFvd46jleuQ7dBd63J5am/2qEXngRPw+t9Sg5QQBeMX4ZHGDp+1epQUZcycmI2ONH0osK\n",
       "FiSfMIX3yjf7brZz0HPnnKU0ForKkQEOxFE0z92mDEhHU71KjY1aAnQfgAahGA6Mz6YqUepOBZtN\n",
       "pcDiHBjrjeKyzqKhAAABKwGfLWpCvwBJXi7fuTi17/kXxReImGQ6dEjQ4oPdk43IQrUjBjv5poFn\n",
       "O2/xKBXqQcGF3fcrG/34IoffWsrHw1pikwzx/ctJB5oJgD2+WkQLUXve9sejBMNwXI5CRNNbrCSr\n",
       "s+HjBtSar7wJKpcAU3sVg32Ykm4ypG3RYIz5WeOgnReU8BGOQRfctwaC4pu78BpawG3i0C/cGP9/\n",
       "XbnRna2ZEYcv+QufFq9O/F9jgQdbHXB1/Xc/3jYV+c4JB39IFnfQscmDlKjrZ03quStdNEhSwwL+\n",
       "+448gmrV4AF9FWY0/cSZ/O+pjP72TPeYKPjyyCR8wE0CAGkI2h/i4KP0tauZ3bKkH98TIPc3UDb+\n",
       "vflvoeS+/CBrzmVsZDF85EjIarKevCnnACyT/3nBAAAAuEGbMkmoQWiZTAhv//6nhABYgTPwEsWk\n",
       "XuthaX916yxFioarVtJX1bLvxpHzIJ/VTk8s9nenxVVYPAADj0MPUT4Uls3llEDvv9ndfTxtn0Un\n",
       "yr/BVSvaP7l2tIKaEPhSaoP9IPs0Zlk/31j27OATHOe0pvrr6Q9Ds9ErrHk7ud0sqOLMztnbJ/pQ\n",
       "AnpFr7q9bx4r3j7L6X2eFT4nQ/Wzv6FG3f/Cxn9/sOCgjPgpfDKMLMIXHsTQGacAAADeQZ9QRREs\n",
       "L/8ANMGJNMl06yauwSox4D5h+gtelKQKFL0vo6z9tyyFSpOhxrHtctWVUcRWxIAN8uAAZvK7z8xS\n",
       "V/71rgWbVtDrq5uF3wyCDgEZLCcqTJ1Y+pQlO+jGvZ7SESMFrW1GPWNjDdix0/6OBezjLjzPSfdk\n",
       "lOhnbeo3Ba58fozuODrmC9xve8rIrnj7B7EEkUwGy9kTzuQPz+mreGlL7NgcbGQlhIH9gIL7MTIN\n",
       "nHGJFXXGKPXT9P7J7yKjMaZasBpwgphCb6Vta8IekPQNr5u5YWsECqZblqfnAAAAqAGfb3RCvwBH\n",
       "fIvEGaUKwbAhz15xsIZbgAOoPBqtORQyXA2U3Cs+npbHbV3oLWbODLweHXZ2deESk58FIugAylu2\n",
       "OgO4QHhpkDC9XT3MYw8VniHIFPvfBJ9Kh5rOgcVI+TSA0eTIIJZvDbJ/C9nq/FvYy+RmgFRwvxW9\n",
       "dTtH6uOnHYjaymwYBKWMG4P6TFbiK/WI/NJpOySJGQi66cphuVTJJWNfhkZiiAAAAKMBn3FqQr8A\n",
       "RXXcwyK4k/ce6AC9dCp2EclAWoMPPAFXfFR5MlbUtN+1QFx5PjRb4VnbDdY4brJKP5ZAK2zFhKjx\n",
       "NXHbGgBQhs9sEeUhAo4WuLW6zUEVBsExPltob+nbkPX18uoBvhIqEHhNtXbr+HzfIw8T/uGvhP8S\n",
       "nkyekKTowP4Ctyp+u180nhRA3o9/+izCYhcOV0IQlU1jXPo1ddLfoe/hAAABFkGbdEmoQWyZTBRM\n",
       "O//+qZYALKLiSiWcqgEGOvVGlKOClSmaM/NmdvH0LAbdLX2KHE5JWpjumFVmkFQy6mM4Yio0zboV\n",
       "eqg8kFvpHFo2bRafVwCqLmxyxEKNTcoZpnXcWAREZ7sbPg70rdXm3cWbngb+RTSLXQC+TY8kvPes\n",
       "HONAvGniFQ6Ers7vn5l5pokfOV9XFhmmb9NSMtwUJhDzfUdfZ19zc+uY/HlRMX6p/BvrmVLffoyw\n",
       "pyhZdDoR1kxt82JOtvAOHWSs1pLVy+a1Aod9Zwd85v5ZWTWOA7g1iWbUiCI7KIlnv4LQ6+WIM4PL\n",
       "waCw16l8CxGgUO07y5sKX/2x7uGyqaMh9BFZUj2OTNd8X+96HfjCAAAAYgGfk2pCvwCK7AaNDd/L\n",
       "M1VO2heHfINssky72PoZmEE+DI3cEPIF7Mj5Z8K+lLxdcXEKOaM2u/XK134sdgdgbozyJxm7RT0T\n",
       "43X82ElOm+yWryiW6xJLsxPMUQkN+9byT9PgAAABrkGbmEnhClJlMCHf/qmWACyhOucq/gjaclL5\n",
       "91NjvfkvOqtHUDk8dCChXlXyWcEFxFMwqQgdG6z+sHpTRt0GhGGTpb7utxJSosM/T16Lr5GS8X+n\n",
       "x++lsdw4VEZeBRs1jBjv1uXTKBupic11TUBVs8yvkA7K0lPN01bNkSz/MNI+J14sgdr96YfTWvUs\n",
       "sdBbjh5GAC2BF9raEBUbqdUP0NL75xXrLHe9zYBUzxuyLt9bVSig/podwnF1Huk+U3cF9y8tTubt\n",
       "npwbo15dUbHwLqbWEGNM7p81t3o/E92XVTB1MMqt6OofUTwvHOrJqwCQ1J7i4PO0BYmBpaPo7G6f\n",
       "8GIO32LcoJUpGxuZbbIc1vTrEREkLtyzM1WwiPf1tVNzFFk4eYBjqhUSTdF9UFhaOMetiFk6tUXL\n",
       "aoVVR9+MJBs7872g6eMmPO8u0vNhZ8piTXtlGIv703M3lLZGC+f0fpaqqDG6r7/YwLIF0LnHW1es\n",
       "d9dZspPNWTZwIiQn9i2wIQBXu9vbXS+rYURBpoaTAJ4TMfuc49lBSwcz83xAkRXpH7kQCevWv1P0\n",
       "LVNgm0EAAAB9QZ+2RTRML/8AZyIxGumyVgFeea9yMOABoNJbP+MOcIWsd9d2ddt8JIPUxFNN/uff\n",
       "YaK4ev1bWzyVxNVIrtKzxNqk1/u39OQNKmXHEcaT7Ko826xDrwj3kZkCI72aeSHRmo3aseLRCcNR\n",
       "AzW7zrf53GMqZDlXVdgVsClGW4AAAABUAZ/VdEK/AIq6HwskrsclDyYEAHJ1omBnXO8nCyl/Qa5W\n",
       "UNU2Cit5GexzhLQmq84GIeIt2sFjCpgDc01Sj/3DNOWDPWOwx/YVjgqtHY553XbbNxJNAAAAXAGf\n",
       "12pCvwCK7AaY+HOultQ0R/c/19FjBpUuLV2siXQMmy93ApPEoOme6E1iAAJVNv+VmouTxqPGnHtD\n",
       "6uj9eNpd3WM9G8pmbeHgFzGFdgRW1z72lClAiQUBYImRAAAA5kGb3EmoQWiZTAhv//6nhABYgUL+\n",
       "/3SN7RaRw+jtUD/LJK6AmHO0eiiq//PKvenpNVMZ0nAvD5qEZoBXj6WK7D7faMyyfmB1OGiWJ54e\n",
       "XysA/25U6L52zUsw0995fmjSWgPOh90+LhHsiG98nuxk16KWmAfp6URJXVR3cwuozSLf9O0nMtpX\n",
       "WDMTddzgRtYEndVq9uVOCEIYv9nHhGDfQ2lMhFB8oS/paOwILJUfeJi9XlcbQnXev6NPIyjRdA++\n",
       "FdXTvdAH+ATCa3/IincabU+F+KOLT7y7t0JW3CQUgCb1VZffgV6AAAAA6EGf+kURLC//AGciMRmd\n",
       "ajL0h6iVpwbTVljHBQFcCW8o6QF4qxF3pVqR7JPai0VMjLbiafGBVo5ii+4ttMc78WEry8dEEg7B\n",
       "97YmhjOEh6eqb8/aiWRsfBICppGBECH/1/ozFuVqBzvC407NjyIoprBGrItC9riaNz8rRVnCuIbt\n",
       "PocK8ZCQkfvyyMFVBvh8QdFSYYt29EJHOTwFwsGoL3lYrLeH3bkC00JMfCTqyiIaIPftoBMeajcY\n",
       "7xbS2TAVyz4RTx7FE//DWHwbiW+NM5gIeNeh330HCHC7Z6Dif5iBAFq4tmdsKuEAAADTAZ4ZdEK/\n",
       "AIq6JIljHo5USWe8UAAQ3oVP9TXVgOyX8x2QRXZUKWrhScVSuVQEYRTZa/dmHAV4dmPcmKYBUTwA\n",
       "PC6ET8Xe8R694fMeKKffgCsxlyLy8S3zOBZyQZ9GtHVc38RwdrUi5Wpc8v9gcE2Aun16RYLfz6wa\n",
       "KSWza+aqanHtYAGysp8uaza1jOxnWjOrbnZu7+dR6PtcKaiQexbvPUpdYqwk2xWCjLd1FA0YutCo\n",
       "y5cXV5qAcWjeTcZauuL83UrX4rb2BInc5v1Q9rl2+RIW4AAAALQBnhtqQr8AiuwBMV4pNDKBTlN0\n",
       "vDdMF2DQEcFTlsCgA6uu+icTNKRlkgL1f7B6GdXAZ8Td7vUe0SCF9VRGlQz62pb8evu5VziPj+J+\n",
       "Wa0R4KAXzCK0HdR2UXnT+QHNlhLmuWj8c13l+XKKJJr+2q2Fir6LLLuJokz+tnr+H8/qlziGeKA7\n",
       "lVWCBrgBOK+Ikiyd1ljwt1GPqKA50xHq5gAVfIQoTsWQnTfZFLj9kD/LobrTmx8AAAFQQZodSahB\n",
       "bJlMCHf//qmWACyi5HRWSxpb4LdPgB98xeP5xwvUGdstVUUg5l0C3TngRfCW835OFVy3x7/+Wh2K\n",
       "DbJcfZUsM8cwc6oAfRR/Y2h6P/OEAq/UnwKxxCf1Q3X3TDcn8cI4HQFSZcK+lH/T021yyTYp8I6Y\n",
       "cA15jOCsRd3rEq3dAm3//Cn1FnavZgrF8AoefDEVwnU7rajjh0/ZimmFsMtHvFqesUwH2hv4jNPq\n",
       "+w8T9lDJc6uS9vRfRxUXKPuqy0C2hWjBHcL6ultqr0z573uZ/AyYNe8A+hEkvPZ6FFfA2EAoCD88\n",
       "NqIdmxlqfp/vpnuHniHmfOTY5Veftj/0B4K9XO2/K9vn8dtDNknXtsrDdGRgmZwRMMrzDjvXyI//\n",
       "lbFLRooiLpV/6aTKB4jRyMGuOp5ao9+ANcv7KiBN6ASFx1yVBSWFO5wRlAbtAAABZkGaIUnhClJl\n",
       "MCHf/qmWAC3888YacVa2jgA47HTDQAG06hqwkTeLhyFv9EdqPZw1ENAMl+LILRFYG9x3lDMwEXXL\n",
       "+FzG4/Lm3Zer7/Sq14KgY4PQmr6koDnaHnEOG6wl/XBWkO0Zf5XnA22XP2Rg8TieaIguf9h5nwx6\n",
       "8W78xNG2nru0hN1p7kIMiOmu0hWXT/R/SXJoTkV5LE65zpmXHxeyHuaFf9zSFzxtfnxEZt1DYEq+\n",
       "/EpwEeJJVr5BDzp4VyW6NORt9XC2v0yhzoFzR8+LaZqX5udd89IyxX3JYLDEpSRBzpMM5mldwJ2g\n",
       "WxKe94ZXc1GC5FtuKeBBh3e9LqZeLIWEGcqdUeEE4lcndrv9zT6EVoxouV8e2Ls7blnxop9FnfhV\n",
       "bIUg98t39VKwd5PYsUciKcXeDm3j1BmWwttHNGdjM4ydkPMCAjNwfS3zxQCElGHpnGP/nzrtrRBp\n",
       "sAS6BwNmKLgAAAC+QZ5fRTRML/8AZxxgVz22MTC1DEleWgaZfyQZz2gearYlb2SFzUq0GUP0B6Nb\n",
       "8JVi16cgIQJMM61dl0YdPRq9ewG7GkG9Pnfks7Igi7fXqvNaonB9q97t8ZHPgIPwSzYgzw5aDpeM\n",
       "hv1yMsd092RxEiEcBpUPadvYqlAj5gUoFFr2fbnlM0WJd0ReZewjAUi/HQ3US+3EiCMjedysy6fA\n",
       "T1uA7uj47hhGMF8sbUmXNzUVjptiqobYRksa7m3VwAAAAQQBnn50Qr8AirolnaAbj0vlFCsUM2sv\n",
       "bBs6ZQ30muBmB6hXaUYAsW0LEo/XfROJmlIyyQGBdNhsGD5eJpeVI4Y88ctoFlPXqu5BN4cP4xt+\n",
       "l46yXMYtJ19GqRxP6TYuy8oHhP2ucxuc7P+4F8jAsKqUzTEeiVAnqak15CjkuU3DH3XP+lncH8pU\n",
       "zByPKwOwytmuLV0Fhz0QH6DkLnP/UWGzgqZO4RPP/pDsJVkkARNdm0S8MtNc7OzBhV22cbfI775+\n",
       "jzeZwpujw2hot+QAWwCMII0aHtWPso/EOul0j2g3ov607jmexvEK6Wn+DHWIyFLacXk8Ta6tnBtX\n",
       "gRW1XkY40WLrIwAAAPkBnmBqQr8AiuwHjOviWyZQQU3+mxd1Oq5VUAENef3lOfCmZwtl9lr+wd6i\n",
       "+qdehIcTANqETmX8/MDcaT35BWeB+J7b+Zs0UvIrn73LLAZOz+kh0WxjyfSGmt6hr93ceHvv4wF5\n",
       "SSCdXFdxFb18A1brGhjPyXgxejq+bNtxl8p9LgvTSDWM8qiMHZ2fPTc5unOxbgA/hJCUF4ktfwlQ\n",
       "IRyppzJjMRmWZbiEiWpU3wkMUY7N45ZEnBhWfQOemx/7uILaV/yBwH2ZkpCJNlfh1V09zdkiknzx\n",
       "hweO8RTgaJSLKDkyGHgxQKkkgbGYCtpXuNbOwv5X0Sd6dMAAAAExQZplSahBaJlMCHf//qmWAC3R\n",
       "b0sD+6TKOyjKvTJLgqCBPh8rCn/GscRv0/edup1SDCO3M7VZtcaGIoiva41f/bmFE3MHHT+DPx4t\n",
       "Ch7K1Qd5CfS3eIR0kPfwuZ/C5cCsF4g4iCa+YRoJP4aeskhELXOiYhkR4CHjMcqH7t/y9g2Alboz\n",
       "yPCbBoFoa3QilsMK5dtQLhzdd9a2TyLPme4ZU9lXSOUtTMRN88JSEYi2x6gris7VlvEkP0rUBRP8\n",
       "blZFWierzDmR6j3HFrzGZTEqLpF5ZREQ3RDIlFko0t1DpHK56NgnfV0716RoiGNwfeQMkL7pej8E\n",
       "MKuPPDA64MgZ1Ifqs8o52ypNNDzybm4ynredrrDJr+kMUVZVAWj1cxtVYzSu6vAgebxL5EcvwF5x\n",
       "DAUAAAEAQZ6DRREsL/8AZyIxPXJwBIfP2FinRhvlg1j0+ADJHQRdvLqy0NfUIwvSMezEj2FRrgrU\n",
       "BdqhyCTuKqQIYbgQV/BaAULtFnpuw8naMftgs4dM5sRI4CHvRcZ1LWDXmpawSAztUErlHJ1EX/1E\n",
       "pf2FfVeli/4jZuVfQDfXHy3Xaw9NbAIuNuQ78QrSTffQNIdb9xYI7oFpNuohiQXpaKj+y9ZFMdc0\n",
       "Ffp1K+v41LVxQ8WRdDmZxQBH1Dr/gYLFcL93563ZKVlRfkTIYTU1/AnwIZWbxeWr5xiUzP0OlY88\n",
       "++Cazfef+FnOT+vDFLR3D6logwiwFv8eAUOGnlir1nsTxwAAALYBnqJ0Qr8AirolrkSCmTx9h2DE\n",
       "AE1h4Uzim61JpcD9umnfHMq8wfZ2tihFn/hr7AZYmUdcBVbHXpx64OV365Wu/FjsDsDdGeTXwrz5\n",
       "wvlw9/c3mp8h2adLHzwqYqf7/dNh8ZfxeyhmS1N1rTv53XOMBvSxsqKDsNDT/zhz8JcwbkKl+Cwi\n",
       "fuYMlJHUOz1QfHrJ/ylSuCekUI9yh3Fz2lsLb6eQDNwMSRiATWSGJLlj3RXGsbN6gQAAAJoBnqRq\n",
       "Qr8AiuwHrkSCmTztsS7z/9njoaWkSUBSBg16qixuCGVTbMn87E6/VVRxla1QjSLBBcBy663nR2NN\n",
       "oYbcQsQjVUHtrnnLE3DTeIzduiOzfePcsjujTr9MFuF5rc6KLIKeq4vsTWFtRhHNFFjHlFksvoMs\n",
       "hSFoUJvrdfB8jjAd4BZdPEw+TZXc92JZlAJRMSgHNOJgqwW3AAAA4EGaqUmoQWyZTAh3//6plgAt\n",
       "/PPIww+rUz1aW+R4sB4JB4xM4wvcr9nlynRtv1tvqg8v5aK6220e0ga6bMQ8FeueugF9lWjIj5X3\n",
       "CLswurypLaNIQwV0wCyKM7f5NNDfuAVTcRHWlID8/+DHTU5KfgXfIP0d44SXIiDYDRP9/qnU4ALr\n",
       "o2gW3ptF45XSkKDjiqA2Ct+AeNkmEaX3FOv0EMZybcGf63ueQm4oKIivoT8tkJ12cnfuvYp9kr87\n",
       "CjBIGgoUWE61N3HTY04JTrQ018TYfxk6WwisNTdMtmMBZLbhAAAAd0Gex0UVLC//AGciMRkt8pAA\n",
       "Z7akFUeJL9i3ghz8V0iMdBnBURw4w70qyWAtPmPIWVze1mHkrxauUiGHtgyUIf69/mp+CQo++BDU\n",
       "K3s6VM26cIeE0g7y0kyZErVnIere3frr+kCQSYrnGDCYcd8UaUCWEg+kSz9BAAAAxgGe5nRCvwCK\n",
       "uiSeB7Ln0dBOQmIl1m7LtQhJn7Dp+7nuTdRpiBN4AL1Cx8zKciIXBltLAvIP0H1H+12AF9F+8sjl\n",
       "36fXCg/2glB0r1wymG3NBntK5BgCUEKfvJsH1IqvQFDYXy/iDMUpOH5kYw1XTq/3q33Mb/fOwCql\n",
       "D3B5z+wIjBR6uKA9m3lddc6o4Fg8sBPOI44SQe5M73L/rUPwKlE+L9ArkatXQ5q5cbHZO7sdnuZD\n",
       "UDiOIMkh5vPS+qz0Eq0nbOkZUAAAAG0BnuhqQr8AiuwGjVDp2pqbFkDK/7DO5QuyAA6rX5lVjg1/\n",
       "fzl4dYgl7nxOSOvFzWYe6jmpYb/MJF4SF2SFPpWMc85OdzuSXJPggUtC8jIiEWYKIHCt50di2zWK\n",
       "dWUO1Fw27hBIHpYpniUiKvhFAAABZ0Ga7UmoQWyZTAhv//6nhABbN/fBBv7gA5cFmvz5HU7SQvT3\n",
       "7Xx6IhUGttS8xq2s0D7FfD0ZjhAte/VkVIGcf8GjnTnhFIXjGQ2Un+lZ5lv9igyhUXs93ThV2Fov\n",
       "Dq6xjvJhdLbhQVezvr9GxcKlcHtmVrIFqTKxySL+MOfsJAvGE/iOu8+vKBkyaKWma8KbahCr59b5\n",
       "eJrv8d8UPN7mfcoFbnPfOfmDgbnGocHl4tM+CXB4tYpFAgy8yzCkKKK9y5QXWn09DmirDZcVqREv\n",
       "Fu1IyJd8nuQDz6BjdfVe+Hhd6cqKTr9y0++QHj5Xmz2/Dor0g+7HB9PcMrUk2hJZP728GSmaPRYz\n",
       "3RVUIs+07YgZ3vKtqC7Akn1XO+PaF5IhLiL5fwxGgRMD8nEKzaoKriKePam6G01xz3sLRtjxNB1K\n",
       "AgF+cvPY5DINMg+0YfqBmr75rua793CznEd+R+RwVayqHhNMQaWRAAAAm0GfC0UVLC//ADYKZDy/\n",
       "EJ8kuPDh14HNOV0lq5FBTxGEAELMUOJiQUibUArwSkLNLI0BEqCN8F059yLAmQC2/Tbu0WtSJxHP\n",
       "0tqyoKinJRJzItFQhDzWEVmXchb3o/9vUoTEQASN86ZUntHb+ICcUiCpn82U5mE9dxkJaW64Ci+5\n",
       "n2/m6J5LRq1bXar/KEQ1GL7/A0b1O2cQzNEVAAABBgGfKnRCvwAkrmxdLo5C6AASpC18GRuAM1My\n",
       "okrwbyFJrpZAmPNTbKkLzpEDT61qIm586v9oLxtX9bgoQaMors1P1ouzLwNf7ISokJdkySDmvUWx\n",
       "qjWE2lj6/lkk+YuiNgjRwfyspqQLYSnF+eEgte1rIuA34ehXhVf4mzPpljBpMfRBMN9jjRa5nv/7\n",
       "MjmWU0/z+TT8priScV3P+rTDiGybrkh+JV3B1dNVSstCfmr8BoQSInUCKfgCSjUdebyV82hQVIx4\n",
       "Ro3kQDzZK5fahrVwN0Avud7i2Jr2drwrWiT/dAQ8/7L5jQfkHJPKc1AYWxfacFpbXTexIu+gNxjt\n",
       "IzMG/fPjy1cAAADJAZ8sakK/AEl13L2MFQHU4PHt3SmCwAJUha+DI0huk68ACEU0SeufeuWXgjnz\n",
       "jPTOOlZEdwnswAs5aDY7e4i08QAk/hE6lCl5ip6JLHowTJX11xre0+X8jverhN8G16x9jUmCZHux\n",
       "Ndg5ib01k8np5/9L7a9XJ/ZA+y7hiTerXiuFTJ/gh6JC9WS77P9MRDEAYxcfHyO2l7KB4YdzyOlh\n",
       "gPHAJZDveQ4OYGhrTsz5UHjEIyl2KlkOXl7W7B/fqXUBt/gO46pk4cxDAAAA+EGbL0moQWyZTBRM\n",
       "O//+qZYALb+PDk9R8w+IKMrt8F1euQPLloeH6XDYhe8I/nGGWzpeqRPfib//2GGJGrx6cXRc1G+S\n",
       "jrMk4cNtMSJkk5XsXMeYbfCBKwvQ+dcrFbr4FVPbXUKOsEtZZIYlceAruo/DgcHd6lhP4p513pRv\n",
       "3eenliVPx/N5VdP4qnvAemRHMOaXJLIqK5+oqz81jTFbMuTdjw/9s+/3fHhlNg7FNR5F3V5gJ6D9\n",
       "JSIksvGrcKto3x/C/FFfIXSvAOBvR/wwOfbeWDNcJcSd65L0jH7xhF6yQscCp2lMudOMvA65kdRI\n",
       "wpcnj6Kt7qVdAAABCgGfTmpCvwBJZCeS7mlIADqvlWnDwc9ZqdfzF4+W568xGJTMVtNrbpJqq9tD\n",
       "Zw2yv1y19ZyqCqYop0iXAxf1yUiA89Kl+9gTcuJOJWat5FYwdMPI8c/vpGqhGTV3LV7GgVBqDiKl\n",
       "O8/7WinHHTXxfIYHYYxXck0JHt3+/WM2RJpAtRkNb3wNp50h0EKUNsuntqa0pW1o2i30NFCqiiya\n",
       "htm9IyiOEa4I7GMXHi95c+PO06M2xDsHOByU7fkeElK8nK06ItYMsAxioWtWIeWhl5B1F3HPi4ap\n",
       "2A/u3h+n1ofxMsRZz1DXDTDC94Ajs8f3nXJT02r2Gvad+SZgkfkTOe++NxFcpp2mNC2hAAABjUGb\n",
       "U0nhClJlMCG//qeEAC1Ym1U5/JRTfH7gH+fZ7fLs1/Y+vTOhzxyzFcZiisCRgcsMjD/v48JlHaIi\n",
       "mo6Mzh2Z8P/emtDp8F5MlAqhgx7DJ54MdtS67l0P46U7Y5tddCDAfFlNDoXVWQztmzK2LUBEKBOd\n",
       "w09TdtnTu80MZYbJcfTWL9WCGtT5hIvWG80z/STHGecqUNrO4IworoAHH1B7Kf+WmOfLWXB5r1wN\n",
       "DcK18oQRLCnfa5aGve55jm+h7REVUA2+E4uwGVfxDmHWerCbJzHIOfo2stSb2i0OwcN4doGjOs/9\n",
       "j586DiwYOhpa46479tDbIoyXJ9HyIPzu9ukOfQ9Y0RUWTypGAsZkSicplVqoXHT++baVBCh9yQ1Q\n",
       "C/4+PavcADQqTxIx3RMhKKy1ODrIe7/2K7rL+FicXSAi4pFbp71fDNTPWwmhTkcF94udZVZwQgbC\n",
       "XvDrChdlFx/sjbpljE1h4VCtK5eTgAJLp9vekw/dyH/Xikwo9DI1Uz/11emxFtLYn2YWxYAAAAD+\n",
       "QZ9xRTRML/8AGwUyGL7HCxnePmH6C1qJk3tsS44RLeLpiUZqNid/Tf1pX81KXWAAFPjl84UbP4KH\n",
       "9RzTQIsMzTpaAuC8BA6j7sXUtqVN2zG5vmi59+rJV00LXFIcvm6vqjE6ZQlEuDZHIrHN90oCRwvZ\n",
       "l0YONCcx1GWZLehhl7qvko8Gk2bEFdJVyOBvztdmcOwc5pFFrEepAS+m2/xjOEsR71sM0ehmac2/\n",
       "ny08qp/yYPhDNVGBnoJCEZ/okZHUThsBYbYvt81YPk6xEPr8NzMnLQ+0nIRJxiaUP/vM8/Dnl/fP\n",
       "Vyb4LEdJc7B9Z5IjpNjUcDvx23SRqqOCqr0AAACsAZ+QdEK/ACSZA0aTxw3sqg0CnLSJYJLrq1Pc\n",
       "GS5YnyOtoajqk5zEvNO4Gy3RABcOgvkwbEeSJqs2cGXg8Lc8sT5J2GmgqnKedu9gRfzcza9O9cRI\n",
       "F9jobeD6Dbn8HhtMUatW1dWW1AygldXn1/IdbTt6kD4wqkyTETepBPzwrsBeC1I8Ov69wQRznxfU\n",
       "dLHj9xsQGP1B3Nu35+iM+6M7H/O9WQG+9V1Tf5vCpwAAAKUBn5JqQr8AR14YKoAEqQh5C8nBdRMj\n",
       "Bm0FGgWrbpb8fMwDJBA2StgIUNvBrdMSb8tihqkzL65uvh2NF/ffJfuWPMChH0USjyEus+idazo7\n",
       "Ht7th8ODow8sTcUIcpHdUNkDemL+eluH0Rw0QdyqyoaNyCQ5qGzrSUixRadhxSafxxg08iNWpv+8\n",
       "RMiIezGK5SoQFPTqIJLhCt01WvbazZF+43P2Z8AAAAE1QZuVSahBaJlMFPDv/qmWAC23rucuDPGG\n",
       "/I3ig3NETIbjfCAmeYjBCrYxZRXWLh4/Z8peYGLlHTzPAjqwb2BWW4BHPPco5/BKtL7NExKhHrZ4\n",
       "qzlSzwTogq1iYnyIGA6/v9HlukNQ78Z8z/hU56awlCwvXKNcy3lInLiGOjnScWU/BdgEzEhLER0/\n",
       "wM2zVlZtPb7ZnpoerU2GgHYFHslLDE4vaFw58OAXHbUHxvk0psNSpe25OOe9xVXXdXEQGS4yCRVI\n",
       "rpfuEevMd/OS8BX1VhM3cvEwvDJri3ez9fpHB3/3S+YVKY1J4jOU6ehIoipqjM7LwYT3odb0MPMO\n",
       "YWhIEJZezb6DG6Y/tpw+S/URs0P5NR11zYQGYO3dTEgBthBPWD/Y55dy9HQHIEGsoFhdKOQfJFIw\n",
       "AAABGQGftGpCvwAlycIjLUV0I5YA+460AHKfL65/7AQtQYeeAKu+KjyZK2pc8CzK8frOM6nTioTJ\n",
       "5xIZcBgyNg7Hddv/EB3UF6UwCOSWa+CgSz1ui84RRiYqKq1XpPIV6iTnQ8jpgE5eIZ0T73mkIIW4\n",
       "vnUR2J2jYZTE0vb+oXYbR3BilPFbOMGn8yARGNVEU3dUX/o/wceo3tMIcZn/4apLShNmk7gyfoou\n",
       "mY3xDZRtZahzCe0EJAvu8gz8RMDFFDqHVmLn/VJinvHhW4LYbN9OBcJM2Fd7ljNnnUIlwQDqSl44\n",
       "LvX15efj7osdAtJWkPwKkMq/7rFAQfhRo8dq37kyCzOHKLaB1krMeLp5PAL/BnW90YSyvy86BE5x\n",
       "AAAAlEGbuUnhClJlMCG//qeEAFq+LL0Wd1mvOs4elHxjD2zHR3TzeIBwHwXQGcqLILD8QmiaNyw+\n",
       "5QuuIQqhYpfIVOWJrDPM3Qg5bPjaQtGlOZC/F+DXmHzOSH/qqtfN8zkab+pw1q5kyE/pUMiIbg/5\n",
       "SfSdWh5Of3ALcmJdtWUJS+wFsGG/JiUXZyRYBw7eVOYufc/W7CAAAADzQZ/XRTRML/8ANEUvwUdo\n",
       "AAPxZEUBfFVynRINpL5Uf/vCOtW3MPuK4nzYmFGVUr+b6lMIQbuMmdPV0/uzFJenWSxVF8kl+Vmr\n",
       "/k/jw25JbwacF7yWZ3kTY2mncQZYKw2oqTb4YpdYxI5Wh1O/IZpNLRmK+23TDE8j/K7aKidXDZK2\n",
       "WJy3iC4Ed/ItA3DuujwXOR1esqKHRLYJThp8laeBUM0M7yEDTPEF2cB/vlFS2Qo8v0r9XmTu3xrA\n",
       "Jndt6WKPMtJk5EOvC/yN13Fx6/HZfjMMxVFWxykIahYiwloV6lRJ8dvwKaun0hXUbWJgrdVl62JB\n",
       "AAAAXQGf9nRCvwBHfFFHs/gqlUgA5cCh3kHfjiF116JvCXy0IX3lcb+zOFqwqzkx0rDXXhp/OnbY\n",
       "o9R9pbiFpAGaRWA+sU6bzT15Ibnbszvt71GRyyg1RBYoC4OR8o2g3QAAANUBn/hqQr8AR2SGmhMp\n",
       "VEJABy4FDvINlmmBi/bVH/O/CA+JzL/Ry0qzlAbz1K5YTH3RPPxXWb1DbaI6E7fFR24AHk6dHYn6\n",
       "VgEHPmJmRSIlei5ZNQflDcNDDiJ50eXIFaAWnfbecu4vDLd1wNyre52ssbbbHYRKni/A1ZAN0WWJ\n",
       "PvgksiTPCu9yW353k5uTjCpTAjJROkmLLejkNT4ETZtQdEFXvQTJvNmN9p5bT7D5bKCDHpS9n/g9\n",
       "W72Sdh/y+pV8f/n9vZP5fJNjMps6k+vCuRFBVHAAAAFAQZv9SahBaJlMCG///qeEAFYxNIe/3EjT\n",
       "/RAqUhLKUJsMmF78QNS6k4ATGN/YGgCs3v9/IUktv8MrRvsL9z/4y3Wj/gJeVn07wjTizbnWL7Ty\n",
       "CNdhPZX3TwIUIejUIDMsnk7wi5Rtu5HW+/g9LTueXWxOFrPomLgwJ6Sxz4IQf6K1H+K9bAaegIYN\n",
       "X3osRxJSvhQaDZrg0Lwc5xq6mcenI4phQXBaIPXfI6mQfph4CUmgtzLf++OGowEzGFYxNUaeoXTH\n",
       "LksqXVXxTcgEXj8qIR5QxstUU5Rv5mqrZ/kHHNaK8jLq3mQPJcYGj3KplyofHVIozBXCijg/WRik\n",
       "hMuD9tULBAsoA1Ku1PUFSe5KLlwB8WyFTmErcM5g3mb4J42FgetAd5/SNkzsmR1r0f5uXizJI889\n",
       "PuxVyUJuDrvUa0UAAABXQZ4bRREsL/8AM4p07elfQuLlLufvKN8Spe6lFiZjhrdXWxgAKixVDmUE\n",
       "BJrWqn/h8fvFyABnvFvF8cgjxvPV+oYLvTTiUj2x6tiMN4ch+pjgvno2QRuAAAAAlgGeOnRCvwBH\n",
       "dtbVgASpCHkLycMPK3C9aoYVte6P8cUeudArCOBAVvcmHrOL+EDf6WBLWka08t91c6DxCUPqtFUp\n",
       "Elj0YJoitrY3XXZNjD96uE3wbXrH2NSYK1wDe4dAtfgkm0wRLFjcWN2Pi3cCTm3MgpHp7rj/3sR/\n",
       "85W+kOGOvU44FvUmpH3UMyq7YC380qnUl6yCmQAAAH4BnjxqQr8ARXYEZt8eLKwYhBn4/QHlk5Hf\n",
       "ec44poF/XP661g5wIXAxleuYAO0Oq+0QpADFCM45VmRzL4UkHDlYDvMGTLc+po7s+VweQbrzNJ1J\n",
       "0mUk9j6knnKCX64siAPYd4oaOSSMFtCsxD3N6oZDFK93I7T4WcLYB7lkM4EAAAEgQZohSahBbJlM\n",
       "CGf//p4QAU/1Z3JvgCawDKFwwABoPGqVR9YD6w4zTXEs/MLpsyBIWWkYlGckekyYfeziQByMqNHY\n",
       "Nl+eQcu4NtyNCdpjQvu/MJwgKai5YpEH4G9iEhvo9qQ/gm+Ou/4kOydtyeDEa0boABcQ5uqLmSke\n",
       "Hdeqb0gwZ9RDJ7xCwSbqvw0en5DFVdc3kpIBzaGn3k9bCy3gqT91A1EN9Eu4tkGivAI426LAKgKU\n",
       "6vBGLIOlehxqAXhf6WX3rXSgg7EXuLaR0fQBzyzvkB2J8YIvYM1+OZO4Y5r1kgp0ydJhEkQxfhcV\n",
       "YJx+f7RH+EhFCcoQnI3eUNxGwnSZ5yOKSU2fPorsE44VwQdgnLdYUNPTY4SvawFM5K2AAAABB0Ge\n",
       "X0UVLC//ADXxKLH0E22AEjEs1RpxW61mnhidr5n+u1Kupwjk23//p7chO5//Ril6rWpRtHGSb2bq\n",
       "loMumffyayUrCtFHLxuc+FrQLQhKZwcBSUNyTdxR+AcxHL53b1OkDSVOHaQrji4fJKzbi89eWv6+\n",
       "ZHu6aPvc1RJ4Cz9fxqqtsAIk45+1klIGPe1nz+ahskq0WKsVdJ4pbj3+t3SHDiOrTNJYVmntg4JT\n",
       "piu5KVzwfRlUxhrMCaAqRqNU3i9QNvKhUCIbh8OWEGzEh5AZVgeB+jNsqIbpAavQYtAza/BGfZKb\n",
       "ytF2gH7lqQK4vdbeT3dN8CfjMsm61l3lIRVNxB+U1HdMAAABGwGefnRCvwBJfBi08EHF1PLlr9CQ\n",
       "DAVF+uCv6v6/n0eID2BMnaoBcHgQBH+e3EEeK0CEHclZ8mD1x/USoe0Sp5qNU++d5mq5BVquIFYu\n",
       "IElj4a0oUlryX+7QBRBAaACuRNg0sLzgWQL+GtZ77AebUG+oOZVu3t4rlEbUqoVOdwd1XhbjSXev\n",
       "4xPxRP8b3u8on/sEUfEK+ueQtXc3DWotgwpw+svsV2zWw75MzjR+WwpqKK9iJaOjqa4ImxgsJcYH\n",
       "TARDcDYqidEPiHsISNxz4fX0LC8GwhBcnNWyv2LjqocAigJ/Kl4qeTs+uUqwxoB5oNA3cxHUCpJ2\n",
       "8fT8Gg4Pr5DV6oQVON98NMpW/zRXBhTGG8Q2O2sHSyIkxF0AAACAAZ5gakK/AElkJyW0SK9yS3Pa\n",
       "goBeNJMeyehAUr1FGI/p5cvBxWhUWo5BHtb9OCxLWLoLhTpBdDmdneRGKe9YCveZINIWO68A6fWP\n",
       "IM55cYem/xB8xu/Cdu1ilhBxd6v9oE7L+SoLAlJVlJv23Z0hkSN9RM5vXuUcURFUXKtuUJAAAACC\n",
       "QZpjSahBbJlMFEwr//44QAVHdvga/R4APxVX1g/FVkhmImk9sgXFeDG7Qej568B4Oayg99Zesqsr\n",
       "XRTgXDI3P6eXLwcVoVFpLoiWo6Vm9Ch95TVrRsBOWLXOJVbiaCnOfYf/3/yb08BTBz/IfpX9ReD0\n",
       "rI2rMXjxT3cD95M9wC5twQAAALsBnoJqQr8AR3YDOOFM2MUD+IkBQEQm0RkAB2SBp+dlFVzIDTHX\n",
       "GQJPfL02LwJ/wv1e7QxtP3/9hgO5x/YVH3njKXd+TOZ+g0j151p8o4jO6vYaqfxdyQluwHdhP1cG\n",
       "VqNX2wkJ158MnPwQ7nzGRVQ+xiM1djIuyN/EX4Jdo0FHpziabwwmL9N5GdS20BXeZYE9eFDhz4R7\n",
       "mzC44MAWA0yvEcBiCEdzd2Xma/B7SHpr0Q6bryfx9oQapoFXAAAH1m1vb3YAAABsbXZoZAAAAAAA\n",
       "AAAAAAAAAAAAA+gAAA+gAAEAAAEAAAAAAAAAAAAAAAABAAAAAAAAAAAAAAAAAAAAAQAAAAAAAAAA\n",
       "AAAAAAAAQAAAAAAAAAAAAAAAAAAAAAAAAAAAAAAAAAAAAAAAAAIAAAcAdHJhawAAAFx0a2hkAAAA\n",
       "AwAAAAAAAAAAAAAAAQAAAAAAAA+gAAAAAAAAAAAAAAAAAAAAAAABAAAAAAAAAAAAAAAAAAAAAQAA\n",
       "AAAAAAAAAAAAAAAAQAAAAAGwAAABIAAAAAAAJGVkdHMAAAAcZWxzdAAAAAAAAAABAAAPoAAABAAA\n",
       "AQAAAAAGeG1kaWEAAAAgbWRoZAAAAAAAAAAAAAAAAAAAMgAAAMgAVcQAAAAAAC1oZGxyAAAAAAAA\n",
       "AAB2aWRlAAAAAAAAAAAAAAAAVmlkZW9IYW5kbGVyAAAABiNtaW5mAAAAFHZtaGQAAAABAAAAAAAA\n",
       "AAAAAAAkZGluZgAAABxkcmVmAAAAAAAAAAEAAAAMdXJsIAAAAAEAAAXjc3RibAAAALNzdHNkAAAA\n",
       "AAAAAAEAAACjYXZjMQAAAAAAAAABAAAAAAAAAAAAAAAAAAAAAAGwASAASAAAAEgAAAAAAAAAAQAA\n",
       "AAAAAAAAAAAAAAAAAAAAAAAAAAAAAAAAAAAAAAAAABj//wAAADFhdmNDAWQAFf/hABhnZAAVrNlB\n",
       "sJaEAAADAAQAAAMAyDxYtlgBAAZo6+PLIsAAAAAcdXVpZGtoQPJfJE/FujmlG88DI/MAAAAAAAAA\n",
       "GHN0dHMAAAAAAAAAAQAAAGQAAAIAAAAAFHN0c3MAAAAAAAAAAQAAAAEAAAMoY3R0cwAAAAAAAABj\n",
       "AAAAAQAABAAAAAABAAAIAAAAAAIAAAIAAAAAAQAACgAAAAABAAAEAAAAAAEAAAAAAAAAAQAAAgAA\n",
       "AAABAAAKAAAAAAEAAAQAAAAAAQAAAAAAAAABAAACAAAAAAEAAAoAAAAAAQAABAAAAAABAAAAAAAA\n",
       "AAEAAAIAAAAAAQAACgAAAAABAAAEAAAAAAEAAAAAAAAAAQAAAgAAAAABAAAKAAAAAAEAAAQAAAAA\n",
       "AQAAAAAAAAABAAACAAAAAAEAAAoAAAAAAQAABAAAAAABAAAAAAAAAAEAAAIAAAAAAQAABgAAAAAB\n",
       "AAACAAAAAAEAAAoAAAAAAQAABAAAAAABAAAAAAAAAAEAAAIAAAAAAQAACgAAAAABAAAEAAAAAAEA\n",
       "AAAAAAAAAQAAAgAAAAABAAAKAAAAAAEAAAQAAAAAAQAAAAAAAAABAAACAAAAAAEAAAQAAAAAAQAA\n",
       "CgAAAAABAAAEAAAAAAEAAAAAAAAAAQAAAgAAAAABAAAKAAAAAAEAAAQAAAAAAQAAAAAAAAABAAAC\n",
       "AAAAAAEAAAYAAAAAAQAAAgAAAAABAAAKAAAAAAEAAAQAAAAAAQAAAAAAAAABAAACAAAAAAEAAAoA\n",
       "AAAAAQAABAAAAAABAAAAAAAAAAEAAAIAAAAAAQAABAAAAAABAAAKAAAAAAEAAAQAAAAAAQAAAAAA\n",
       "AAABAAACAAAAAAEAAAoAAAAAAQAABAAAAAABAAAAAAAAAAEAAAIAAAAAAQAACgAAAAABAAAEAAAA\n",
       "AAEAAAAAAAAAAQAAAgAAAAABAAAKAAAAAAEAAAQAAAAAAQAAAAAAAAABAAACAAAAAAEAAAYAAAAA\n",
       "AQAAAgAAAAABAAAKAAAAAAEAAAQAAAAAAQAAAAAAAAABAAACAAAAAAEAAAYAAAAAAQAAAgAAAAAB\n",
       "AAAKAAAAAAEAAAQAAAAAAQAAAAAAAAABAAACAAAAAAEAAAoAAAAAAQAABAAAAAABAAAAAAAAAAEA\n",
       "AAIAAAAAAQAACgAAAAABAAAEAAAAAAEAAAAAAAAAAQAAAgAAAAABAAAGAAAAAAEAAAIAAAAAHHN0\n",
       "c2MAAAAAAAAAAQAAAAEAAABkAAAAAQAAAaRzdHN6AAAAAAAAAAAAAABkAAAIEgAAAaEAAAEuAAAA\n",
       "/AAAAaEAAACeAAAA+QAAAMsAAAEhAAABIQAAAKYAAAB9AAAA4AAAANoAAAD8AAAA9gAAAWUAAADQ\n",
       "AAAAuAAAAM4AAADIAAAArwAAAJkAAAC9AAABEAAAAJkAAAFMAAAAqwAAAOwAAAETAAABgwAAANoA\n",
       "AAC7AAAA9AAAAPsAAAD2AAAA8gAAASoAAAD/AAAAhwAAAOYAAAC4AAAAjgAAAbEAAAD/AAAA2AAA\n",
       "AS8AAAC8AAAA4gAAAKwAAACnAAABGgAAAGYAAAGyAAAAgQAAAFgAAABgAAAA6gAAAOwAAADXAAAA\n",
       "uAAAAVQAAAFqAAAAwgAAAQgAAAD9AAABNQAAAQQAAAC6AAAAngAAAOQAAAB7AAAAygAAAHEAAAFr\n",
       "AAAAnwAAAQoAAADNAAAA/AAAAQ4AAAGRAAABAgAAALAAAACpAAABOQAAAR0AAACYAAAA9wAAAGEA\n",
       "AADZAAABRAAAAFsAAACaAAAAggAAASQAAAELAAABHwAAAIQAAACGAAAAvwAAABRzdGNvAAAAAAAA\n",
       "AAEAAAAsAAAAYnVkdGEAAABabWV0YQAAAAAAAAAhaGRscgAAAAAAAAAAbWRpcmFwcGwAAAAAAAAA\n",
       "AAAAAAAtaWxzdAAAACWpdG9vAAAAHWRhdGEAAAABAAAAAExhdmY1OC4yOS4xMDA=\n",
       "\">\n",
       "  Your browser does not support the video tag.\n",
       "</video>"
      ],
      "text/plain": [
       "<IPython.core.display.HTML object>"
      ]
     },
     "execution_count": 14,
     "metadata": {},
     "output_type": "execute_result"
    },
    {
     "data": {
      "image/png": "[encoded data removed]",
      "text/plain": [
       "<Figure size 432x288 with 1 Axes>"
      ]
     },
     "metadata": {
      "needs_background": "light"
     },
     "output_type": "display_data"
    }
   ],
   "source": [
    "fig, ax = plt.subplots()\n",
    "anim = splt.animator(spike_data_sample, fig, ax)\n",
    "# plt.rcParams['animation.ffmpeg_path'] = 'C:\\\\path\\\\to\\\\your\\\\ffmpeg.exe'\n",
    "\n",
    "HTML(anim.to_html5_video())"
   ]
  },
  {
   "cell_type": "code",
   "execution_count": 15,
   "metadata": {
    "id": "ko8KJBCNobY4",
    "pycharm": {
     "name": "#%%\n"
    }
   },
   "outputs": [],
   "source": [
    "# If you're feeling sentimental, you can save the animation: .gif, .mp4 etc.\n",
    "anim.save(\"spike_mnist_test.mp4\")"
   ]
  },
  {
   "cell_type": "markdown",
   "metadata": {
    "id": "gu1_f0XZobY4",
    "pycharm": {
     "name": "#%% md\n"
    }
   },
   "source": [
    "The associated target label can be indexed as follows:"
   ]
  },
  {
   "cell_type": "code",
   "execution_count": 16,
   "metadata": {
    "id": "7Yb76uofobY4",
    "pycharm": {
     "name": "#%%\n"
    }
   },
   "outputs": [
    {
     "name": "stdout",
     "output_type": "stream",
     "text": [
      "The corresponding target is: 9\n"
     ]
    }
   ],
   "source": [
    "print(f\"The corresponding target is: {targets_it[0]}\")"
   ]
  },
  {
   "cell_type": "markdown",
   "metadata": {
    "id": "YTRqW-wtobY5",
    "pycharm": {
     "name": "#%% md\n"
    }
   },
   "source": [
    "MNIST features a greyscale image, and the white text guarantees a 100% of spiking at every time step. So let's do that again but reduce the spiking frequency. This can be achieved by setting the argument `gain`. Here, we will reduce spiking frequency to 25%."
   ]
  },
  {
   "cell_type": "code",
   "execution_count": 17,
   "metadata": {
    "id": "ymxnM4CaobY5",
    "pycharm": {
     "name": "#%%\n"
    }
   },
   "outputs": [
    {
     "data": {
      "text/html": [
       "<video width=\"432\" height=\"288\" controls autoplay loop>\n",
       "  <source type=\"video/mp4\" src=\"data:video/mp4;base64,AAAAHGZ0eXBNNFYgAAACAGlzb21pc28yYXZjMQAAAAhmcmVlAAC7e21kYXQAAAKuBgX//6rcRem9\n",
       "5tlIt5Ys2CDZI+7veDI2NCAtIGNvcmUgMTU1IHIyOTE3IDBhODRkOTggLSBILjI2NC9NUEVHLTQg\n",
       "QVZDIGNvZGVjIC0gQ29weWxlZnQgMjAwMy0yMDE4IC0gaHR0cDovL3d3dy52aWRlb2xhbi5vcmcv\n",
       "eDI2NC5odG1sIC0gb3B0aW9uczogY2FiYWM9MSByZWY9MyBkZWJsb2NrPTE6MDowIGFuYWx5c2U9\n",
       "MHgzOjB4MTEzIG1lPWhleCBzdWJtZT03IHBzeT0xIHBzeV9yZD0xLjAwOjAuMDAgbWl4ZWRfcmVm\n",
       "PTEgbWVfcmFuZ2U9MTYgY2hyb21hX21lPTEgdHJlbGxpcz0xIDh4OGRjdD0xIGNxbT0wIGRlYWR6\n",
       "b25lPTIxLDExIGZhc3RfcHNraXA9MSBjaHJvbWFfcXBfb2Zmc2V0PS0yIHRocmVhZHM9OSBsb29r\n",
       "YWhlYWRfdGhyZWFkcz0xIHNsaWNlZF90aHJlYWRzPTAgbnI9MCBkZWNpbWF0ZT0xIGludGVybGFj\n",
       "ZWQ9MCBibHVyYXlfY29tcGF0PTAgY29uc3RyYWluZWRfaW50cmE9MCBiZnJhbWVzPTMgYl9weXJh\n",
       "bWlkPTIgYl9hZGFwdD0xIGJfYmlhcz0wIGRpcmVjdD0xIHdlaWdodGI9MSBvcGVuX2dvcD0wIHdl\n",
       "aWdodHA9MiBrZXlpbnQ9MjUwIGtleWludF9taW49MjUgc2NlbmVjdXQ9NDAgaW50cmFfcmVmcmVz\n",
       "aD0wIHJjX2xvb2thaGVhZD00MCByYz1jcmYgbWJ0cmVlPTEgY3JmPTIzLjAgcWNvbXA9MC42MCBx\n",
       "cG1pbj0wIHFwbWF4PTY5IHFwc3RlcD00IGlwX3JhdGlvPTEuNDAgYXE9MToxLjAwAIAAAAXrZYiE\n",
       "ADv//vdOvwKbRZdqA5JXCvbKpCZZuVJrAfKmAAADAAARsG58lw15q9IkAACtobhz+EtXgAGbPfnA\n",
       "6vBq2y4KD1VFSYr8QiGU1RZ6il6SV2xj+fxPL8Qg2Qn+BdLn9vhtbakKpiR82v7Nr3XKAVTDTQW9\n",
       "7VPgTtTfA2k/PsUIAe2s0Nm6H7Lw2HtyWZGO918anET8rV6OjcoUxeC46kwMtI1XDjzDAH9l3Et/\n",
       "IOUI9kzGzEcv8xVRs/vIiO5bBVMeVXTCC/+DFgxu2XrsKy1g498/8OXNKuGLfDY5jRiHlFtq+lNV\n",
       "dgJ4IxVbXGhYaFRSEYFObXB+npKh5loZginm1TfG/CX20lvqI9yS7frS0mszrLh5Q5Lgi4sIGVFs\n",
       "F/0C4GsRi+jmuotlIZ1H+nqgmjp8ix/AjwXTqgQYaERfkB0KVh4VfMBqrX8YRxrv0QfnpamLdHwU\n",
       "5/GLYqSq/vvO5Qew/YH44GCiztfiQgGg8ba8W+PozuX05EZVCUr7ue86lhOQH3BeZkv5WbMj0wKK\n",
       "IhKk82cxSeLS0QmixkaxqxzHC64hPyb06HYbqZWPp+vlzN+9bwkBwlf5o9dPW25Ac9bkVLQU50ps\n",
       "kYxwlwI2qJ+YZl2HXwkLG26H637Fo4E9nKhNzPCLe98rg5gvrR+z+xHxruiLs651a98JhL481Ppb\n",
       "1GRQyDjX1LmBvR2TmEvGAIpZEw531qD9htc8eKZazqiVuPCkRAW15bAHVcCo9JjHrnSvD19lVsjb\n",
       "ELFEebWDulXcQHYhFjjKQKQS7SxHRkCBjrzHsfxjI4lQC8xC+6GdKbcYieJgmPLCFr+RF2wTHJQb\n",
       "xLnAmtNAiu6r/eCcPIp22ZXpaBaKscAfCHahN2TEXZ2KTsKGOlOrhZ+yPub31kIIcvMG8ScfLEa6\n",
       "YwOby8B+41HlDQpJU3Adg8Lqn7E9ofEI0m1ugK5uZcDgbHC4jGlFD2RQLP2ww7rcyBWZwOp/wcGL\n",
       "mpOfr4ZOOIvGd96uuyOJGG8ghMOCXJEEaPzgexibG/m57lu57wOrB3JYWP2tJ0EtGI5irwDD6QZj\n",
       "c1a2H8+iu6UWxtAgirKzkpvaXFOQN1H9WqnCyhabvP+SNDAKUMiCkSIXNG/C+v0R935SZT8BkNnQ\n",
       "qfO5Xxli19WGJwZZqBngtOJwyeMA9bOO5EU/Br19ubm4oF3XHZHDsHLuYNzTBbUAMur3zRUczs4d\n",
       "Yrvtz2ajtEcR+rpq74diaGEkJtgcdK6KoQspof9CUILW6Cs3jMd0vJ4NiUte/UGoEAr1Pen4ljnD\n",
       "HfxTzS6o5cOc1pq10W7JW5A1Yj1YOYUhT6c3vZzVHoJis6ehtQ+dQWW0rN2ClzE+pwisenHv6XYQ\n",
       "OVZDSQrqn6ZxWr05/fIY1zZwx/br7Q+KRZPfmN2QTYT7V5IP5u9Ewx7teLQxML/stktn3zAPqp9d\n",
       "Q8WCui4lfmlV34NXfpHdBEmKYEyBzZ6qsgqX4/Jlf6/e/8rdlxyI6Y+pU4DDb1Gdf4aQTJx+ONkP\n",
       "vQ97CYBBOB07//pLP8+YXvv1ItrWNeFi60IlR/xlBbqSBCk5r7kTZTrWmc1soXSuqMtxvo7b7ir9\n",
       "/Oiumj8IsIsBC1hB+udPpYkqPFE6yoaIDpU6PrgLXXHTQwxlEp0hzAQhD7NwU4cY4doU7+lPsuWm\n",
       "ZXXqGLHq2Q59q8ioMRKCnVfBYwgjOT5CfXb9LFPZ/wF1AWpAAGCAUxPu4Vp8JWqL6w5DE1wA4Sah\n",
       "EtBPRz64ZcsCgQ6MO4JIkbmrrYLCz1t1C+9059YoN56A+C1PIu8wlws5NfcHWnv3Xtd97DphnQBE\n",
       "K5u1QNNwBkC/VwMmSoUALrSc+7Ihp2pi0m3q53XsNBHkzzGgsH4wQPZBVR00DnrhQHcnO5w4ZhAq\n",
       "b/+zuLu6kaPa3ZAA2XGbRLuT8HbU7yjHrRSKTt2Oa0E8ydJ/RIHitzzH39Unk1UCnwCPZcDRhX0H\n",
       "xxhpdfr/pdpG4cKrUotnG6jWqhbHXYAAAYONFCthAAADJ0GaJGxDv/6plgCQMI9ACHcOmugDc9C+\n",
       "7f+CDXH7Ean8Va40oHMoqZEOduP55RlXpkvvj+ojr4QfD0rG6jVrMLZhmhlV6EbTO47KNmXaRM1z\n",
       "Xhq5mo6BRMBuS1KsHMxx24OMWybIik2yaL5pe7xQb24Y82uPnr6iry88Fg0aNuRWnVXLI+bhjspv\n",
       "UMY3nQnkFBT7+2W1M56M1kLfGQsNtZMvSXZ38O7cy4WzKO7EpxsQIJG7gA1Na365e7x1fMzLfhVX\n",
       "mjEpNpPz1rcP8GOW+/Ozl9avjr+/rk7TT+hmP2WloTkUUaq6Yj3YO9+GYn7Ke8b9KSeLUTFmXk3b\n",
       "ku/NQ4sbwg5squyyvm8+szMEzDp608MHNBLLLhyZeeRLVtkWRgv8/kEEuswmK+BbD0pHhVOG5crF\n",
       "QHEUf6mT5R1K9c+ya3MO8yXdLwig9zc/2njvuYve0/sKmkJ67rE2m9XZ4ANZ+UKIYSNrB3f0qbOY\n",
       "Lhk/JZrIIVE2+7wBf+OHAI5/j0OqPwcawQjNigDQeadfoMjr5hS8E7hjkCo8IdpAOJ6TfnpZ3uLN\n",
       "MNBP3+BspmN17rRErf34+nGvYhXbcN2kq/5/DBzsy4f10Kh4FIb9CSHcQjeHyVrkMQnvyEmOaA6s\n",
       "vxO9pvr9vrPnUZhnrojvta4eYjRru6a3VBCZdWGtaNfSP8J7yiEMKh8k1r8PuduonZB2dUF+K1rF\n",
       "F9KxOJzynNjY32jI71LfjoHz0BhYBeqqbYJbXUdVIY7aWJ5XhsI479uBKTxjcn/YpCrqYUd2TdQO\n",
       "qlfy6BBSMDNpgXy6DduEc0lmL8SonWJa15YHIFHsP0LUAFG3kanxZKJ/KzhLDrvyn56O8T4eeu2q\n",
       "faYShXIwxkyDTd2gLH3PR2Z+WUWf6EJmXhjgOdIpJCc8k0DHdv4LV5/E0sHTckKM8pFDDsdfarSi\n",
       "DGZCBoLYtmr3tIWzQaalxJGugoZ/U/ZdG4AZmOoMmzQT6i41WbZBOuAJrznxWF5O4ND6yuC2yiig\n",
       "5e8S3aoLADjALbZYh8Ik2ZlH8CZ/Son+Kfp5YUt6W5LaVbITpNKsXVDhVgAAAmhBnkJ4hf8ANM0w\n",
       "JKcZIQ+2iLtrtFmmeADk5IV41l9YJ6bnjV0js9YSREZc0kF/T2eYYJXR2UgZ9gQmaIQmY1X15yBd\n",
       "KuXUeTlHVDnjhO3w4nOVwhnFyr1N69GXWTNOo123CP2BishOPZvML3xfdkAQ8upzQaM7H/QvZdUz\n",
       "d+R5+5bq5vX+Y8/PWuu6fspuHrWp2JxcbnvrzmIUr12f2w8GfB7pUwtwmXa1DvH/5M9wI9YUD4LU\n",
       "75cfD782gqyCxYIC58IRrWzPAzqfKSAYpyHDCJBD3Owo5gQlYOittPOwlOpTnJm5diKkk6oVdmfX\n",
       "CqvrW65nNpvX4rAZR2M5LzSPPMSCVBVJtwKeag7WutHjZ5tzYZ/gQEI1fQh/LJUHkfKy/8tF/U6p\n",
       "iTdvJkNcGDXaWJ/jr/UYBjVWWxlA1WQ3ES15B8G5d4q1/VWdAqomrSgzg0pvXNVXeX+ESiIZWNJw\n",
       "hHMRaqa+fL+ESxv/z88p2lPug14HK8hUlyWm18o7D+NJO2d2N5TLXY+qbl7Bg0mLAXfNOFmxcp0P\n",
       "ovROFZIZ0eRb4Ghwy00tTGebdX5PkOz8L02HM2wEel129o8J11C1KIfGMdFk284wBL2X/PhoaPed\n",
       "W1Pt24nuLEYZu6MQZl+MmCbNXKiAF1LXGjvP0b4XsXKgsHVoyxgsDIOhBWlcPwlaHwr7+fdDDsWv\n",
       "4LOSpa4BsMYmDqXtipjb1PNDIwWywJvKSHL1b0jf4e5NyIoaeIaAXGCadboKxgBiBVFgU3hkoF4j\n",
       "kVJ+mhfm3fupIIqNDNxLMeg15QWydVHfAN/xXMDbYvSNBq6BAAABNQGeYXRCvwBFXRLKC67LbxzA\n",
       "lFysr22wNuwL16kbgBNXnAvUHlxmxeJI1kOtjsuP1uIDfigm3RPiei0jzLM9y2Sh9CEUWju6Nq7+\n",
       "vGGYv7r5vA6Foy3utUi9MHTFou+X9N4QzT3mHlE2fHVGit3vVUhZ5g+bazim39VR9AoysD3d7l7B\n",
       "7UKcRjEaz9MK8vqtC6eX3CcgFY5DSNdfby/jKdQa8QmBh0au2VidMKkVciTBR1u7lguktumpxCkY\n",
       "z38FYn6wLkI9SRPoU9uuX+iXO5hNz5/6DUwApA0sSZLGGUfuXHIO+oS8GDaypoQ4TMAuO9vZDFfW\n",
       "+etj5cyiZG9ofz5v/YYh+R+G3bsnAYwiodhxgXmxGqLW6sm7kvBw2L9TJoM5fJsbUAerxLOZFcfD\n",
       "5WmIiHfJGAAAAdcBnmNqQr8ARpVFp6N3C/EDI3qMAHgjRcXHXRaZEm9tXTr04n8AiQ275iv73EVM\n",
       "8oLoVdogAZeYeaIwgfZ7mlADPcM26Sicy5+Z2IHtVLyF/mEatlJT1i/X3BiIrJtUZgWD5lKZoCei\n",
       "HPzB1Ib4hbLeuo6TRVBYX6uH0jgJc75PS/uHVO5/ZI2YdfcOzAW5vbaa+wbDU+tVDd8G0xWZPuZE\n",
       "CbuE3uOgwBY408NZ9hW5Xngs8Xbwm7ELeTxLIOuX4GhlABS8nqu9Y+U9/4Mr3hYhW7O/KBL3YNI0\n",
       "Ra62vBpcSP1poXJg5xLDARJNLy8/SZVK9/Bq3vmMBe8V2wugGxAulHKpKhf9rwSNG9cFyjICI13Q\n",
       "VxxDUJgybARWvzShx54gSGlVzMQisMwZ2XF2WnAMpiGPMrT5oMCHoSbEpW/hZiGIytWkwd05V+Yg\n",
       "tMlyNhEB2hHWSwbY9aj9SxCGu3BlzxF2KSgIbR8DDikDeDdkBzw0QAjK+i3ac8ZacNC5F5g3hZTj\n",
       "CN0ZSGCkYXFLtJgg62ABZiyqk1bPBTy4FjXldHRWxYWsuncNc2QXX/gQtvm40/jhGoS1zGo+nlZI\n",
       "mfwuAR5CX8HYoF4VDAS6TQRw6kiNlmIFMkEAAAHoQZpoSahBaJlMCHf//qmWACt6SFMo+m+HIa+U\n",
       "ABy4XqmrReoJXS8PN4Mq9MHxcVy+20dOwO8OVym1Oc9gQtxjqeRs4o//hpjm39XtkzX8HtZ0KW0v\n",
       "mX2xfWwa18NiEWeZQefZURpFjoCGHggtB9bwSJClmvpy9d2sKdVCPr9rLgaNw8QECa48ACRdJtp+\n",
       "Tw8Cheh5UGF/uL9eUkur4L38FMpGtTbl3ADE2DFRBmyeGc1ddDCQ0XdQmThri2ZYPFuHGK4ymrRR\n",
       "jaBWFYRGsYq9fiKRA9WZrkzFaDAGtSKf//Wk2WvRgObz6n7dvCOVDSKJrAqZN40BCpPP+u+xUKfj\n",
       "mB1akPA7x2zXR3O7/rN44cEEEVOGi399lW5xh+eDiXnPYrb46moxHb4Q43b7HJ8mAdhLa4HKiTL+\n",
       "W/mOsJnzAXjRf2Oy4MHYVmknExfEjAOqPTaPfNd2nBZ6pRSzg3VE4ewReU9mZFS+VXJN2gQD0cCq\n",
       "XVt/nxj5yuMm2Rp36z3FFtApAhb7CpNhKwPFizCE1De/8ktf42wTNc+q+tqpQuqWUEAp2y8ov++J\n",
       "D4LRduf9FOc1GLYnjP9Cj7tgiQlUDXJ7HwJf7+/EIzODCil1hMAxbRimd2haVqpcLSZLWS3RT2m7\n",
       "cUvsoOEAAAICQZ6GRREsL/8AM4F/6fSwA4+kPl0AAQ3u0Ubt1SXsgf13eYGvRFNxRYUy+zevILOB\n",
       "0Rdy200wzVkcJ88AtaR10nld9RD5B0rLnhNLH/Z5xKpG2pnLeYqc8pGkvP55XeS+AAUHb1kHOUZE\n",
       "EvQvo5sIBT4tnPOz2P6dkaGKfD79pHrAIMq8zESvhKBrA0S5RlcHzUHwG5gYgtcGEHgJ8+vth3Ys\n",
       "ipE8wKWuUp/EocH96mvVTyGhKYxFeqbIiqEJnNHlRYsoux0W0LpyKkjL7YT5jJpWEPNMoKgY0Nqd\n",
       "L/vAeEq1b9I0O4Qp0NgNrX/L3pVxaLuyE7yvk8ocbAe38nxNl2P35MthBNthy9Sb1eWobG4y4IVj\n",
       "nmEsE1RlocM1yJ+VLwImYKFtJ5+CBFiTFMBqjDJB93BE71xElpDd3BS8on1mTADgcTZDDM0NIlW0\n",
       "rwwci9kDUUBigDNN/TXN5EQ+d/5TMwfyrFQR5i8yvRRyiGFoxf9UIny1AzNfinPm99SY/3SG3usL\n",
       "dVFPSm6o9p7dRpB9Pz7F37md/LOSgAB202KMUTyWkpPnKDqZNss7SCS866GYYnNR7P3l6/WRaCub\n",
       "2CEsbmw0rLWcrwuzfZ4NsIu19u6lKvBd4H8cKeDUSBNmECyBcsKIJMCs/QhcJWEZVS5fpfpgdDfX\n",
       "lEZRSJDqqIeUgQAAAdgBnqV0Qr8AR4P4IP9wOIKNBQ3rs8fwX8UUcwzO8EzlNmzO403xrH78kwtp\n",
       "gqjdzH+r8ieM/BXTFMlmbvHnc/eFDteG4/e67SNuCwtFlilBhAFh4JDmmkOUIootQzQ9HVNuSCab\n",
       "eKKp/qj/yd3fC8jE7V/b8qBJ4/xlIzgIfo3AfZslqrTq87c62+hq1LFYnJjsErXtZ7e4usjAVjcD\n",
       "ZaF7I/KiTKLsV4O9tvAlKmX9pPswxSAs/2tRj+9cf5cg8tJbFxLN0GOWuO//AwaUKK8cV7FtWi5l\n",
       "nWUFiOtGtM90W0T2XIR53kB93Dx/UekeFqURYw7CgRR4nldVHQ8gSDVMAYda5w+sYTuU+gfmKL0N\n",
       "MjYQUWs7iwwnEXErenqeqKKh3prjJKV7adaBuNP4XkzfhyuVZdV/VJgaS4X7MA7fp5LTVDrSD7LW\n",
       "RivU5a8N0gmjfJLvh6ImVyUtwsm9lVX/L5HR+Vl9jg6fpe1hDQcj1ZzXDDvcwDfUFkHcaS3qGUqy\n",
       "Q4JGiDTeG/0cHCiHOkvIbja+fIquThQou4bZ8yFHUFL9icitMtnIySHTytpbTmiiRWQAAQvp/syu\n",
       "B3KUjCo602GHvtlVCJXUOUFWiUL8tU+WjZBvxAK5AAACKQGep2pCvwBGlUbzzX0cLfGjL/1wAXqF\n",
       "j5mU5Uqgpwu8tbD+CLI7sojpnZL9Y8CXZXw+9gUNary6JzL2Q4QYTn1DSN5RjoCrucUC4xArhOgw\n",
       "nviIuzRpUT/HrvMHBnyW4jTnyW6gpAYb421110SeMCqUgBHwtmO01WUENedlL/D107yFHFp+r664\n",
       "DDUq+iMj7U5NNIVKMVBroACYmkAfZABZZc6PEoY0EnYN0MbE6Bugl7dhSh7lgXZQduTLtPn/YYri\n",
       "/4z0l/QtQh2vX2zh2Jbb/G8ynzyoevTmSVar/qIrYV9M4gPQtzgHb7Rv1Xfx8CZq8jzTwuo5OhrP\n",
       "pdJcWiMkN7QMm35mIMiram7wD5/47odvOm4QUQJQUQD6V6DkIqGTv4J/VkWNLPJcPkvlvLQ5nYWS\n",
       "lHAumJxCp39A8UPY+Scd+CnoLf9YUApwGBHjvd0puLc7NBO/QW23RLABMCfCNbPxnIv7w3WcqEgN\n",
       "Wgw+7McPTYG9jTOsWLByBtmHJCzVn0HMvQuMEUeAxrogRGQ6oyKTeOCfMLuW0YBqmkVF2l8yjBO5\n",
       "BiFtCk2qQA6C5AaMABAL5ZcM5PJkvFV+wqatrSFXTAp7LYykJfKDcUwnSbYFpi6ahw/DpOCEVg6g\n",
       "lHEBAPtDCA7hEMNMMDXY/8LqEykmfXMxaFHPPPHsmIajOfe17hTj4KUjD0yrZlMGGexBvK+rEADh\n",
       "KL1ZbzGLbt5QUXdwoOsFb8AAAAJgQZqsSahBbJlMCHf//qmWACzfANlqX3dyze6nRl+Rg9SIm++5\n",
       "FB0b49t/tQ1ybcnnphJShfG/5MAALpy1FhZ+g/3g8VYC7qoFOY6d2KphIulwJ2n/JouF5qEo0jQg\n",
       "UbFxD2hFLV9mesT9I4n+R6tHGIOBdwmLp02JqhCuR6a4Ey3Xw9f+SWS3Or08qytkoNn2t5u+lHiz\n",
       "ziQwW22Wp/Co0gLNi9BsMWwHpVIT/r/32gbS4MNy9d7BAn5i/KdTxbur3grPgLy9xz7GMyQv9t5A\n",
       "/CuvPJ0dGR/NOsLIHCVEruzUrSIEWGUkp30RsZkj155L6EqsmcjLioSO/13GYT3DvTo2MPvtJ3MD\n",
       "Vv3SHifsa7s1Cs1lkKEUJjt6bvaCYcIXC3fQW+Gct8M+GqRFEJ7bC882NDoHM4fqq87/9MpHxFE/\n",
       "CgwfjDoGcSlKL6+Yziqn5qesK4BjLUQ55Z/5bhyk+Qoo8VaTcCn8KvfJzrSe67l476Jd1qCJs4Z2\n",
       "fTIJ6MbKGbmdRYFoWGsfC35GvXvwPwowQeV2Wxbo/HfcE8gQcm9Neq0B+6vYVnyuMdsrpyFYq9cY\n",
       "IN5yxp3ZKqybkBwy9GhRxKyE/MzU9ynG9onArOhk41WIiaHCbFMATw5bxhkHqp6nfdhL30UxDsae\n",
       "YfyK6nZ3qotEU+ozD75oRJ/ci4fVkAcpQifXUVt95oeJuqCf79X5+yN1eMa4MaSy//EW/p774mCF\n",
       "GzFl+2mTZEZCv8p3HKOXJSTa0B2mDpg/Xm4Gax2TbdZ/01pieVOeyV3vuas8PdT7DsqqimoFyVKM\n",
       "V0MAAAHUQZ7KRRUsL/8ANMI9lYwHwlB3Gei+2JVZ0PYOUqCLt9eu+aEgTfo4i/3uautOS/b2ur45\n",
       "gAwuyxVRtViDLGdmmwwhOFOO9ti+7thl7wPiU0+FlqAOvwrkhCDo4ULg4WCXuMrZ5nKQH0k975tb\n",
       "1B+Lp5qLNc79uc43gj/QLO9K7hIqC9P+i/0AskrSEp8BVEsu7gomryXU9e+3N7n8TrzwB2T6Jcwi\n",
       "H20YcMcPlECk//HnUNCQUD/OOHgz7yBzb25uOEFMfbS+bPLLIkKYf5I22TxU7rCvdAT9BompeCry\n",
       "y992cmbgp3QVnyefiiNuuJ5j1DFratO7+8W2DynGDppX/EyOVPCwzyv+e5/dmqAPNIwcianingRz\n",
       "sqPPkOboHvEPF33nwoCWsC7EtrUjV5xWl6NXxptgPXZFFOsDwlnfqTt2C/TK4od449p7BnYwuApz\n",
       "iqhlF9jhePUyiubftAL8vU6d2qr0Z2yxA54PLX7BhuiVsybotpV/IuVV+pUeP++yQ9TKoOwJ9uNy\n",
       "Nxqee0Y+Y4XH66a5pDAv2R4MOwUzg0/36FEQxXrdX8QnOE5jWA0AMUpfMoajBGx77m9jr2xuHlQX\n",
       "LWgNFxqA1Y9cfpOrpMVM053xAAACHAGe6XRCvwBHfBkdzt3fh5PQtFsAH3ABfsUZphP+QUf2uado\n",
       "gDnk6ZETIS3kBczz45bpnWvCbYwEZJOb89AwQGwPTHclWGoJ39IH+a4tfIRevCNdiCNpcYUfx5DP\n",
       "1MxMJa9FDFeL9pf7v0t96D0yHeZWq2qwYIb8CKvYpB482+HdEflSfOygdtTPma4gs3L0L/6SfCi3\n",
       "QNCqvYtb6CnBQ0ZJPu9yZe9sqw/+/QEgFR6LKVNA3rr+Cty27rfTZB6mA9VY574Ahchj0gMtI1Iw\n",
       "P+cIXrKObBEYXSBKRbFMdbsEojNJ7gPYF50iTEnHk+yc9UlsysYxYSfgaLq7l4F9mi8Xnn4rO2XX\n",
       "HlOs8vL6oIc8fyHHpsLQzTMJKpC+fe8lB8bYGY6hLgx+zeP3TbROL7GOFciYWgayDYTWYl1FHBbD\n",
       "3GWbVuOHIcb1EAqw0ZnBZdrHa10xzLqFR5ik2GnJ7knI28w/kVAwfEWXQXCaoTouGlb4froF3/7i\n",
       "WwOH1NRl4ql7ooKyDwW95xV/Iu3f8WbNW6oNnlT8j/d6kWGzxwUMgfPyj/Bk9tLp/6MTsKcbthjQ\n",
       "7M80HwkoI2jQZ0DSvfSOova5NLo2LihJ3O0LrX/CIjPsnsFfbc+MKHkjEp3krphGSxe7tgF2yim/\n",
       "KvSb+//8ZO/U+ffsu+aNHGNXAx+nmgCSeo79nNzoZ+8X/X2SL3SAu7zIiYV6ElghuAAAAb4Bnutq\n",
       "Qr8AR4Mf+Iap23kBuGgt95a21iPPwAXlhkCIiKaphVNx96bwExL9rpl9i69ESqqB7DWpxQnDBAZW\n",
       "RIURkr1454m61WhsSksl5SsOvf8o2bUASWNuu/lYcqkKMKvTuHPPqx7NlgN5AidAawTNlKJafSgo\n",
       "lYECFiB+RDkPEDyLgsDdnUvDaU2N1eIxw8jBP1WWbt4NvxuJ0dYyyRbL2fijHRHKDwuML+NYtI6N\n",
       "23sRuKsUIJA56/rU0/jOV+haq4mYcA8gItImnF10rx8bGNMkLSLNXO/cn4XgVivQvmbvXk6BcJYN\n",
       "UBEhEF/DC5h02qQMeRaaMJubwVsWG/PujuHNojxPSMWbd+3AsniIEDWpcS2WQ08ISVndCWVMV65D\n",
       "7Yu0B6HX6gDpen6cQprnoZK8YuDN1P5NyMXg/ve6N9y3+mj2wzKY0G3a+Rym0iv7KCECdhzeCmGE\n",
       "x4UmRynm5ett7KGc6DCtnWvWBJYKWnPDhiNE5XWFNzuS+K82KcQqDelHUIcPcR09/Cs9tZG8Gt4O\n",
       "SK3hoYUj7CY8V8fC6UluFM9uIFQLFYatNPtSGtSbv5Yii+aO9lTtFdwaIQAAAhtBmvBJqEFsmUwI\n",
       "d//+qZYALKLhS4n79Kd2q1QsUAA6oBWMchf6qceOwESbk1Oljrn3hdhe2btarDglTxlx8BNhSA9m\n",
       "ttS7RFRTZnBxH8tnHuuczt8gdELhOP0gw71qTdXRIXvX9iRFW+RPIB0vuqWICE3G2M0XbdXX6tQl\n",
       "JDhQSl7ngpMWxOZ1v5LAQNSKXL6LuBTmAK3jaLBnxGFnNN7VnVayq+vSLDp4W1H3D0NDvoPkq6FZ\n",
       "JjTPCiYIlVEVrNF7C/G36SWtAorhHgpTyePNmHvr4hhJ2UJey6vu5YPd8nXDwugqE0Bqv+l8M+rG\n",
       "vN1I9VUpvXB+13n1xtlnh8X+Y7JNyyqrMvgmvNIqn/P7ZIMHrjRL6fmPptAY5i96Solrc9LvGXwo\n",
       "VGmjG935PpdeGL940zFbbysRFf6I4RAkZxPTwiYWknbbzDWOgoxmSQagRgwFj4WmNuILn/4+7pSR\n",
       "bKs9i4YmbtgGLdP5sG36wszFxC0mGQOKJZqexVM/rWXQXDjrBcvNFKARG7YXg33qg27LguIzRor+\n",
       "edOSR1L9XKo+2PKPB6emGSHkGm7aBACUbLHywzF5KAXnm2G3UjZc8jOtc//6U7NS2s8RSBoDs5LY\n",
       "MkziIOj+55W/D/vzua3nUQWBfsfjXF0DbwrGii1f48UQnPRfqyizfZHjLfOPjpv2JflaRqHsllEG\n",
       "oUqkVwekd24a4ZI/EVNqWQAAAfhBnw5FFSwv/wA0wX/pUCNCxC2E7xwBVt2id5yMdNI1dr6lp1aJ\n",
       "7Z7VoNkTIoal+IsKXPjP4rr6/HmAS6P5VmKA8Anq2QROLCYlN4AUAcZ5zJRbJCc0uNwybqTG4yta\n",
       "ttqg/mYB53SCa0ooYdD9GwV1i9EKy+5/3GU4JqWXAwzR+BwTNoG8qmrF2/XpHSSJ+FK7CtNI9PF3\n",
       "qSYb6z8TfWmi3k5s+Aod9N9QBPlRvdPHIuyQR2vcX0zzKe+BdCTQqbf9+HP7PCC7MqxryDlduiEW\n",
       "DRXYJDKQ0ymA4sOgp0Dp54iBZ6F1Z4MVhOFFVsSmnyeiaJO0UEllCdOQdN6b1+2Cw69D/TdV9Hu7\n",
       "q6WnWmVwCDXAkX1po7fblMEgMiqHO1zQTkHgCo40OgVSPaiFJwEZkfwKkrSLJHSOgGmTeuWx39bs\n",
       "jYXBZK4dbNfB+jK5UXAkE08qkk5tUPdL5P4n1bgx9rM/11c3gSmHAf5oFkGTzDk92UEf+5EPEH2n\n",
       "yjauvkLiXyMTpbv1+q4sEML3T1kALvj2l88eM3JCTUCtOGxA6HfG2eFLcYKe9oNZLsvCmO8Xsxq+\n",
       "Z+UBeCPqGK41zWbipVMunG1Zdvn1moPXGadh8s5r/9DJUwZer4GBKWQ6bASfAMVshCQLfjf3hWfo\n",
       "Oja1feIA+qOmG8EAAAJoAZ8tdEK/AEdBpTrBdp6nuwgplFkJNd7u1UgpITlGzXv8aiPA8cZ4OLn8\n",
       "ruojDSbxyaldboT3furMqNlxObTHzMpyEUnOF3Cz59zvLrsBTUl2jQXYb9RFB8RuVodghAOVY87w\n",
       "nIuGa26cxzKq42TYFhqmndW3T00VbNMbrpKMXIM/y8mHtVrW7yvMcdQTWmVT2toq1A70N5BV1hjf\n",
       "v9yg9vB4sEoNBub1fFO9YTUsuR6ww1yt/1OCS8qzSWdAOLL8c16f8RvQekw95lsfDWkWRaL9UimH\n",
       "3TsaYyQLmrqgrh/Ty8RBes3JK6jL0aaLXCVRuSoboSONa8Cvt86Jr0pZDGltp8X8IORP5Diny++P\n",
       "XR4wKXK38fft8z9BI3dlTyiQ4fHQhlUkFjovNYCYtgsIbcn893V+HOHQL40lVglhhaN7Ruc0J4Rg\n",
       "srGkH7/ZK2l/XW318Miut3dUcItg5ZMCFzJRf4etQkHSXxudtib7f/zjx05ebLy/Coo6JSc7CEFh\n",
       "V2OePhUPlxzS/IpiMUDpEEa4HCwFp1Li4txUoUgk9/sSPkmYuILu8x3GDDX5uYdeaQgEhGXccmBz\n",
       "WdbEMuoWFaB5jiJylS4/Z0fH+5fsvjDM0XAmcpUcg7bGV1JrXAnP6XnZ7VuRvVlCiihDtdaXhrC1\n",
       "bD+V56+FThHdiTKE8F2BmisVR8/lj7pbF2Nm/KDQFByaZ4KhpBf8tPHP3QZGSes7V4rnmQ/6uLcu\n",
       "GiAfcBpzLPl4u/6yILBTOOIRNpK9ADC5CcqGAYVpqIaVGIyq9UEyaDjTPtP/ySJmN06u3oDvuZoa\n",
       "AhtK+QAAAaQBny9qQr8ARqVfGjL9rwAXrqjsTFVRWQ+7qEraPq5WZbJbeSWoTZRHTNm3CSfNKCoC\n",
       "dkuGr0mz30se/YOP3nEY7vFQf08vTxwj6UY/S6hkezA6JWABBm+4jYA12ks0GY0uLFr2UvS9Ckhb\n",
       "LwmfwCEaWxU7Fb0itJ2B0hk7C8zHsGFOJvU/rSAwTBVSQZRHu3uwfu0Sd3mo7rF/jHd6COsjVDWK\n",
       "x1oUL9TQmM1YbcF1nQ8AoHjGzhH54vEvq3tJsPdJEF72jlfCUGoT7Lo2FFawKq3FP/ANndPs8Kt3\n",
       "OBa10aHxN34h6dpMeAmGOv7jhpPXB/NBzV6PrD7+CHCHp6rTIdXou2hzQrBP+p5Rqhs6DfwEtoYo\n",
       "H97F8XMHXED544OflhaWURdbrSQn0dXxedSo/DinQlloyzedfTmP9XKHP5Pq1sVZRI2yi5gcwPr4\n",
       "1hHRLCdGHn6BDkn2/4vR2lYOX++P1T9smOYenQaA7NXm/b4fJBqMDQNJfHq6otOw0AAlIP23Y0mm\n",
       "WEXUEpmhaEDP4fCx6FBAvdULgrarGymQXFNXk3AAAAH5QZs0SahBbJlMCHf//qmWACyqHKaO4wBu\n",
       "uMbCVk57RAAunMStzlNJgxYAy97sLfjFHcqvanXUAPM9HZwqGy4f/kv0u3F/E4c8HdTmOXh4WwK3\n",
       "8zow8aABBHCxoH5zcN0orAIXLMediZ0ILgvlNR/CrpLaVDKhu/GJWK2vzJyGJOwMqvUv49aHW0lG\n",
       "8PYz3jnV97WIjnHZW97DIqf0riu/RHijrH0hldGQDm9Pto2KYCyPVmknHqEtksxLuOUrBaIQvSbA\n",
       "P7a54BNGk9V5oODTzxgQFQo6EmbPIvZTcGxvI1pV81Hb0PoffNjKPOKjjMpvklVKxQkIQQlsMCYu\n",
       "u4freA9jzUUvUuf+S7+czxDOt2BYA5X9Oso6ZDpt0Y4p5uy2frLEBwaXxACjrIwh/YtxGY8kX9xA\n",
       "GwzbumdoAuhYSMcd/Mmb/zz7evmw4UOIaXKdhFYUA4NpmnnNmMqmpdca5NwBiebHVwojiRadM/N0\n",
       "0xheedHjP3jkHeJfnw10R48TF6GMWO3c5AkzGig46o22ke7qyUBsDU/K5gqfnDRibU1vB7yoS8py\n",
       "8w+d4m7scy/nfM0a47ps8PpPL575gXhojOH0GJCNDyCMlsfXlQq9XXaRrtMCC57pJdy+dxQUwnPF\n",
       "k/GPHojtFLDWnkQv+oNN55UPJKYehQTAwAAAAbNBn1JFFSwv/wA0zj/1mfge5qMgEwhis4ZVyMT4\n",
       "bjef/J1sIppGrIiunCO9EAU7woTIlmNNR1chB1ag9hR67Iedh77E9ZoGtccV7mWxgJWEE+QVlK25\n",
       "F2Sv97AUpWR9jn/lEUEI5/TgIqEGi4I1wkCz0Qepd9M80Hyxv+H17D9g5pBxELtP//DQ2eiH3M0Z\n",
       "nM9RDKK7FOSOVOcA0hxJ2m+YZR92Fbur5OW9+lA+8zqmifDJTjY8MjTY1vBGcipvkSfnvfsDFN5F\n",
       "9mRxOjzFSQsud9dsa64i/F2H78/GalNvDz0o5wQRrtEkg6Bp4u2la52xyAg/coIGNn+TcF2DkCLQ\n",
       "D0G6yCWGzqabJCKXQaVdannrXPTKh1yx7azp7qnrJ/sYrF6xF89xQpC7QUiZZaVtLAseZPKKBOhH\n",
       "DQqXr32CRlGLjxIpvD7NELA93DP1bfjNI42ifbWAjRbT0AjrmSBi8SmdYNxYJucA0CMgM0G+yJGw\n",
       "VKRCLCsroa3QNhCOGzZTSstDd3HtWisGrEh2W2YYR5LIClj1v3LbHj25Gsvo4SOPfyc5ByYeSsJe\n",
       "hM9zedGqS8EAAAHZAZ9xdEK/AEddiavl4nMsI+/B7b5WfyaTKADrCyD+QWi1pk4R08Rvx5KSY5D8\n",
       "mD8W/TInjidJNQ3CoJeEjEWPeKceiXxNq4dhvH7iF+2xw50+0I+HzHHcLqFKKKFPtveZteGTZNm1\n",
       "KyR/YdfLmBAA197IHQb+VECyHjOSGwJJRwbL3bV4tvU8Rq0s4jbg4Ecxef15R1y3+tP/p0EqdHfY\n",
       "eNI4ndL3K1s8YtWJgSG1lssbOcxZVHhETy1e2HkT6t1bxo+yB+2cl0JmY+vOewRXK4DCpUWbFU7d\n",
       "iZOqBXXMjK1ioRKH/43pohra0SzdoTTG63PkEmdj31HtYmd/5RU9vDznbqxHzSx4aaJsdy52z7Mh\n",
       "Jdwge5SuEqbrHXb6oJJLUOpSuWUWCeRRrovI1s3iENq1JTZB5TCWLsidw2H+LT2d2sWvjq46aU1P\n",
       "WnuozegdgNhFZ1NCcLUasg/yr5fea1k5RMxSYEkzVV4wwr3qARF6nxIpU3Ut9n6uQe4vO/51BNYM\n",
       "iOf2xOPeR/PJW5UO+aJdWsYkytEtNpSfcQyYvq3Al2xahax/Hszr1iyweX3hK0P3UqFh3v8WXaaR\n",
       "utcYE/ZnMB8+bB6A5uC5fMQPiFMMnHQvg2SHLN0AAAEnAZ9zakK/AEd2iwJ/noVObVFuiIUFaQBR\n",
       "g3yQd8UTGgKt4rtFBC6NtChue+0fz851oabtUaxi4UxZ1aiJtYJWWGzHCp1ITutG5Ni+ivw5uIA2\n",
       "MSG4xBSkD3zRpx8hv8qBY9+DOcjhOMaDt/5PKYjQLYmPcgO/unaJBK9O3wOxwJUANgPJ0l54BZEs\n",
       "Grkpvjea5jLdQ8yB0BUDRvSeyCQ740oj7W5t8IZyg7Wfh8iWBqHn4iz9msggH28joW0ukAmte7RN\n",
       "NOueNsfGyp0isEnVigOmLPT4OuemY39ulTVBXfBWsNzVX2GzpYxtKa37kp5SZYer8lFrVURI53wh\n",
       "JgSwy1ApmPCTe30kt+q5WxvkVGZRUwaAox2aicKUXJvCvKIl8hCDXccHTQAAAn5Bm3hJqEFsmUwI\n",
       "d//+qZYALN8A4y+u967uxTgm+47XA1ff0gdovm3vcUgAFpiGWMIAETroBfMV2EWb4gfJO9leTu/n\n",
       "FvojxL+oIsfZM6U9usUaUOpEBnpfyWj/tly7L2q4YF/pmBFTXJTkH0TwzxD6thKvqiP0pzFf8+fw\n",
       "H2QABUyughU7jClvuA0dNe3yDlN0t4+rxTqmtq39TpG0npAtJMYZjdXGsycCjqU+ccB2xFVb85Y+\n",
       "jGqDBbyhmhTUeQp7DmwqNE/0+h2Z3jA8fXtRbUpKvu3YO2yvVvvzMwHlsV3FUG0JNMJ8paPAxZ50\n",
       "WC+M15TewOX2Yr+BWJDLxmY4Ph7NCkgIE0RCUSrK2YANx3kOWuhWVigczdJXwh2uh0OayFlDDx56\n",
       "M1vWh040VzsRR1c86O+H8tYhLnIwOuCR/unUvz0IyDyaXsY9dLobFQquMEoQrlA2wk/5qvNvVmDx\n",
       "goHGuZt3J5BJzgbd03rq2f+S60wdd2FneQ/8s/HYwwTzB+/gZraf2wV7VoVC4t0qgX6sVZhSEw07\n",
       "7SIy3MEqp4n7Ql/HHYs0G5wX5H0UedqAO2TPrH3mijQWewOGKPQmm4iBnVMe15vbqMDoOcPcCBnp\n",
       "Ydund3CE9WfEO8NqVrBARfk37apAzGyaipOM8f37dLDBWGH+pgS0z6EGrAEjJH6MQaVkZtjlK8g4\n",
       "dF70ktGk09r9EhmP78ia2SE4fUp5pMf4Kip4S4AAKXf5TYOq44obdXqRojUezW+xMmoGp+gzwMxi\n",
       "aaLGcfzzUhHIuiwzU9FrRozzX8rP7buFhIIJC+QFDYiYpwi1De7+zfZIalj/nj9bO8hBOu9QmcLt\n",
       "wQAAAYZBn5ZFFSwv/wA0wd9OfTmOxVBKfxcxt4aQ74IoCYUg4007I1fatzMWjR1IOXK7YFEDi8HD\n",
       "4e49j4jeesMFcRWnOF3llT/A1XdEc5S8jowMvFQE+TcYLTMsEr/xo1gAOC/Ok3IZ/Fz1uHowt2/+\n",
       "Z6jzLHqB203TVUF9czW5D7U9Boc78yon1AHzicmTzT2S/8KSluOLzyV1uEHINjFdhEM2OvsnveMd\n",
       "yycZZI0B6+mZYT41otmhIyAZB8oDU5+bWe7P1HT3TmZ2z4NOkq2pzuCfyiVIBSg3TwT/gUp5I6M8\n",
       "1QuWuClYkWkN7o+wwcPCB9JMC2jlJRCUnnAFiUDFe/xmPI+fEIw+D3g2aNSmF7dVAvQvNGee+K05\n",
       "KNqrtjV3WcuGhoJnBsI7Dhc3S7wj2ABsgCM1O1VXwq3Qu627k9FhUhv1NSTGBRSnd8BXBqTIyfEr\n",
       "aJ0IWy005/2jsbT2xNfVFQTOVhSdLmJKlNmWCh60P/C6i+aKaL77tI3t2KXnO5lhG9r6HtwAAAHO\n",
       "AZ+1dEK/AEddUQuMQReLQCbzbvLdc5ITqmmjssm6fqn6oEAHHwy9y7Bty3dMB50P23fMOy/nsBtb\n",
       "WZ6GbK/+V+zgrDOIIZI41wdaRoxFHDL8Vr6r81gOnX+nch0tALDUHLTthmcDq4kVXAFOs8rbM1tW\n",
       "pTCF5yZnd50PNyCZxHtNmWOun4ian3ltYNSuw/F1lu6NHmeFAYVougGo/Ni6SmfwPBaVkA8pNcBZ\n",
       "3fCoBcPHTBPqllZhlE6DZfRSLQM0UNr7XmHBa305+jv6koj3CN+KZ/ymNPY3Q5yPYOSntpZvY73U\n",
       "lL7xlLYwb9Gf6faSgvJ70/x6GZPZPHKFWQ3fd2c7VFT0YIX25cDqrCsHhHOVgMaolIyL0nktpacw\n",
       "HnM87S0fnW8/RcdgqPzeJOkNtTULy3P6UhNgeiErzj4U8IxjLUOBrKHiv2xurV67KFJQjts/l//z\n",
       "FzFNKiErLjsiLSiFnlbB1+rQrvWZZrgN7Q565ySq9dufA+8/N4uL0uCq5I9iZ1lDgmtR9vNbl4SY\n",
       "AN5JD5O3lEQhV+DFcRNR4TZt0Ro5ZX5GKIh5gq37sRPnSqHQdk1iljiIfgNTjvOTg541l15MCi64\n",
       "VE3B41VLAAAB7QGft2pCvwBHgypDfPG4T+DaDw1jMABwu03uP9ybUlk3syEXwpEKV6fSkfF88M/m\n",
       "s5eAlEbmrvPONEKCidVMkfPPePg11vB76wKxfwT09q8qzeZHeab2BtY1N5aN6FtGR82iluwAhfLk\n",
       "/gidDgLwzjZHDPerjif9ITTp4oLlXcofdJJSyTsDJtoU/sGdXGpkbMxIoCzFE6whwQmtUTw27O5Y\n",
       "+GQ0cwcIZOfgd6X2H1rCwWabnK1hpXexTBpXhmEUeW+18sIMw1mZopQP/VGnGqTfgvE7Qj/8JyGn\n",
       "F5eiZMso6fPtrZWfav5AqYnamJX5QMaS3+ZFB2XuLc27mAZZuM5YCPDk0LyC8ZpTe2UFa59iiL+E\n",
       "0X/vt8JihAZbdmgMOYwlWv1Eq0niBx+wJGeiAl3WVAEvIBG4OhUkhgUW5vN0N9ZfplSmaAbGm+XM\n",
       "cHIs0mBGjxs4tq0uI7+O52l0VCxY3l1b89Rsr7YNKsItfeGjcMatRC5hNoiABe9Gfn6+cKdLKYeC\n",
       "+lXsB9Tzcz3jyWl5zF8mQgxBhzISmxVyXQSKqv8f9jQFguhMn64YhVWDnm5k381OciorQVkm/iU0\n",
       "KW3eLFQ6sq5rH5+LOjO+bZ/Wxie//Tk5hkYciYLJX6WOwaSd5kC2W+E+qJMpMB8AAAIXQZu8SahB\n",
       "bJlMCHf//qmWABZuFvgg19wAtfu//B4EXmUFXluU4xoXXEF/8OQQpkZU8+qcFBOt/FYd0sjxtD40\n",
       "15YJEWXz8G+2BtR4bSLvhPatmllRlWX7Ww3NQ131AkBJuntR1Z56LHMLP0Gt71rEVVfAdpTOERQz\n",
       "ceboL8LEWwaE0KBFlbEJtyVMDSu1OAARSGaSTMziWru/7L99PffFgr4OvLGJnCDRjyYwJabtbMEQ\n",
       "n7wT/35l8QWFU46rvl2s0QGm8NxyJGV1QZQ7jKfszt02vUaIZ5H0xB8ncS0Vh2882I6hsrhbqMFh\n",
       "s48s+tZlL+dQbtZJbxxJ2E+MRdDGqYHSQ5j7lCIKJq5MKh3iwqhagQTjvuMQly5jgKO9Oq//PzO1\n",
       "2UOnWQ+mUj7QUPeFQhIWieN1d7owQ9++pDOJfSM7fyCiCAkBs5quANjPErI9/qktst3P/NnGhCeL\n",
       "UTi+CUtXvCQ34nLX+4Ij1HfsNOq5iMEeIYJOwjtk8BXJ1a279//xzXQbNspmM1Z4dSgi/6Jqp2Ph\n",
       "fzT1HTaxNAkhCXFF04sYjwhkBUYN+9CDMTSLrIsDx/Y/pTiH9/hV9wgU9lRphXsnf0+/QLuu4u5U\n",
       "DV3cPrTrbwRebHPYbN8+XV+KxEF1N7KZNKm59wSbNGjvaJzfj4ppOSjXb9yUjT2b55fEadrEth6H\n",
       "J3ziZ7EuBquYBAIAPzMHZwAAAZ1Bn9pFFSwv/wA0M0LcdcOPrroQKlEBUOADk/4NRSj3LCfULuxI\n",
       "uD5MnHE/SUYgLH8d6brtJrJHviNqVFJhQp3lmpEkFv2TBZIDO7GHOHZhpeQkHSDiegjgW48muLk9\n",
       "8ghzJy79yVFOyyc6UxAYGvgWBBDiUX2z1tGs7S5EsrXOxRvsZjvqCycdB5DqmTJuDPEUBKZ1pJLW\n",
       "HRh1Vgi5KGePKeMMVb1Ur7FT9OhorBLHRlv1q7kipGsfHHU7n0RKPQ+Wnz9sDZFCMqhJyCNmOCDj\n",
       "280DuqBv/1lQfWOIfDp1eo8EGjPjguYPulDWUFRzw4UTRfyAxaJK4x683qqjoC3rcIYf/wXiinj7\n",
       "0H+M1Mf06xeMHH+a3NvUIjlhDF+ML9zO+I/C0SCZqq1L72ZO+rzbbuWUPDWDZUisujMtJcFzOmV7\n",
       "QPhqfuU5ppjZoDVuA9ih5lZVkqt6umvMR0uYS89W7aTKU6Jb6dTvp6Zys3a/Smzbm1jMElyUMbkS\n",
       "4vfw+VZ5csXlJFDzVbhumRaj05N8AWHIFT88wT5QBGdLHwAAAaABn/l0Qr8AR3tsVxozABIADrPl\n",
       "9sXMDvwqYhU4ohbZKQeLbhOjTUaKV4MPFlwJGE69r97yRsa8ViiRtymbK/I0/A0q+2L7jdsTZJV1\n",
       "2/fatsVHI2RiSnMl7uKQ638TmXsifwROhwCjdFiNooNklW7TQbYAOAoot3NyfVMExoi0g4K7YZ5j\n",
       "JNktJfRv5jHYKuQV83ZCJKV4RzS2u+dszl7Uh5t85wXcZplYCpFurRr+0GqprOPgdjzwXUHDfyQS\n",
       "1028swImi32X7HMX9mtnw+hG9Othn/qt/Emv5g1frWELQ/eNwlIbuhENO40FNE3TpGuJiWbBgL0z\n",
       "BWK0MfsyFZDLXJee7upg5pXAdQaiDDu2qWpEox3y/53gZgS8COTu/j9S4yTcLFfKMKLftsMGVHfV\n",
       "l0UHiyKS6HjjSFf0EOJzPgrxN2VovASZYUyWCYNbuhY8pkRZBq1BzM6F2671rnhBbSJrO9X/bJog\n",
       "41icRhzA7PIOuRVN4fxMaeFMvDGZlN8B6ViHTAFI8PVE4tBJ8Zpx8OT2V3UA5XXjbBeRc7RLcAAA\n",
       "AYUBn/tqQr8AR2Q3zwBPVjNfSOVCy4/EOjQAOssc6U2R+7X3hAr1bvQMxaBGEdJTw9rnd0Ret/0O\n",
       "xAf29+oiNwVQkQ5fDlb8amWMRgAP6FfSK6OmaXUYXTbmYwTQK1+tpOT5kOYq7d1Zbob2bD2UlOnu\n",
       "EpWSGrGxYxFV3d1Ccpgf5/LJ5538P7zeKGhbOgrUbL6l5bxoBc9UEEnabUn2BKpKMZBG8b9leCqf\n",
       "Rdi2lejdD2Lezvb1Jb7kQrHuyUr//Q17Qa3/3iot22Wg98BRw0IxeYhPp+fsrK4NFEFH6Z+Kie7e\n",
       "FDN/Z44qfmapzn8GbV8aWSLZO/anI+ziJIIA6UzbovDYwGshg3oEguswqMwr87/vjqxEMAXgovwI\n",
       "gAdW3j48CA4ChCO6hwGZ1X+6igHvt+rEY4CQosnYgL2N5PwjMT5gokB81ZW6v+L8P1JiLfsXzeLp\n",
       "Vw/p+x67LOkWzDnl8zkdHg3mtqTekSqXw5DpYRklM+t+h7x//4sfKm5a/9joPFJdtQAAAkBBm+BJ\n",
       "qEFsmUwId//+qZYAC388zbcGf88AA48hAJR/WhXEOtmMJEU03UzCqoBHMsd4tB1LEROyQcIHBybo\n",
       "s+ciYcIqfwQnA6mHjnjh1QZcxe531Cf0/tAkaHXw0rkKuFc+VvXZDtgtPQvjhvNIGa1aPFQRj4qW\n",
       "FACLz07FC7oFWJZLw832jhgxlGPNbjriH5nEcrHE0ZQhT+jQqHMNQ3fL9nwTHUjQAUzxbpvfUnvS\n",
       "pbPn7ZzjL0/yu/rrZqh1OYg6JAaUAZyGJsimgfXu1mltIZfqzHGtkTIPLzOMhHvnAGJrW8binQsI\n",
       "hIir+syPKKEr+lsSHshFHEPfshC67ahPXBZzpCASy7qwelMuFksBby6oeLbVm0ScIEOi9RIC+oVc\n",
       "RXZyNSNv5A0BMD6ykZBbw1q7tM7xTmE4xqc1/wkXKbaRVqgLxfxPzEZGN6G6G/k0feMllPDuy9vA\n",
       "NhdvW+5HSrst88SfHXBwNJl7GnRbJhfoYG2rynA5FRq51WhbgvoJD9ht6L+prKb1pKEyZ8CnTYRZ\n",
       "tD3ZJzMh0pYZFOWQ2hy6wetrv2Fz7Bxr/JFEVvYHwBXI4huW3myvBHpiVnZr1GjVIByHrC1XH11E\n",
       "/0MCCrAX0/Y6QeQOk/T3bdXg95/GUdTA7u9Lc0SrAdxOqVq9bWcQ28jf3c6oGelmSOimVzs6AzpH\n",
       "G0WKwbm/RxmATQ+G1z969tpteQ1f83BvSD2JeeMJPEOVflhaC/sHsg5v96eIDOzIzlGuD7mmGOj3\n",
       "Yi0AAAEoQZ4eRRUsL/8AM4WFNbESwg5aN5RgjjhxPvem0M8g4JYXctbu76+sjh/N9MhYZxLJxt/b\n",
       "tYXPFAP+lJF+9RcuUqOp7fMvGTOPyyTw/pniHjXWPiFbe+UU582NQHp7COTFKDVZlQ2Zagu0nOTd\n",
       "ZO1R5LD2Mtah8fy4xt1uQ6BUXYJFfxPk58dgaWD5uSLTB0FYgY7e0Cj4909g2m013jTPajVPx9nn\n",
       "yqYZ/HLGMKP3+Je9aZ+MYT0SzRB7hDS/JZPeEI4VwvCQYelMjYBQXZVirLecgFEGFRZ1DmlMhyJ/\n",
       "FjS3nD/yXzcTDnrhbTB4jIxf+FCvGecij1bQPQ3QMZXPawUukqXJ8zXuyILFLxbTnMxV3UmRA2BI\n",
       "Ou2kXD9LYCDGe4HR+2nq6LUAAAI3AZ49dEK/AEalXwNfo8AH4qr6wfiqyQzETSe2QLivBjdoPR89\n",
       "eA3xbyVpBuxzO2tgAcNFQlh9aWgvMXeBgjqSZl5l5a3Q73b5WNVWvJ8nIgDBMbhI2jF+0FWg/Aav\n",
       "LvFyU3TaLSAmLufrjeyiayHeCyhvbOlDbB1mgaw9SOt5itkBVZIQRuwG0owboSzRq1dLK4UrgggH\n",
       "FGGJKjOstlus2VtDAXK4wMHp0xCC/Lu3J9DabBQHHOft6DXKsArsRRq2lnkRTaSpkAIMlSpIciVf\n",
       "5FWqFdEM1SUOgch+FztGP6sSSX3i6Kx1+FYGIbMkOlrgGwKC2lgyzsdxbd1TmndMRkA8WFNKWF0M\n",
       "ohmRuneTlEvmhm65QePulr6ZlrLBAndrGPMPsvQXftAlVVuYmlST/3JSu3EV0gz9tscJpaAV7fHu\n",
       "y83jDTErB2DREJOMIqvlT6V/Ksu1rm1ikVOBJrya4kIYxwQNNp01VwjnqMDuXf5Yxjiveekqnm8a\n",
       "4U4lnUdCFuyrO/lPlbFE8MISqBec+kiMB8n1yLBss29x0vDjm4mB0CEPJdOmzb+fjBZ3paX29KKM\n",
       "i//8ZLRIOZPJNOvz0x4MVljA/gYOnPZgJiTaoa1SrqxV7LlDerxFgQ3b86JalfbDvYD8t1PnGq7+\n",
       "xoZsmdi7/krDqtHuHXSoZHPItjhVnhw7OVCvOwXF2EjzRWmI9qLWpn6l3BpqQZMQAWc+g15Zk8TQ\n",
       "QdE0Pxkx6cbmnZInlVzUXquMAAAB1wGeP2pCvwBFmHAT1NN3E25NjsqirHQXrDBWC572KDuHzOBe\n",
       "hPc5rN18uZmslJptXOIesz2WfDEOMNdNsmWDrB7yoSUiWpQRyt0jv+L571layX0xC0KaIpTJS/0X\n",
       "l/fwPvfoGhYYzIL36dllV/hlGj7xOCnpuvTv3N8j/KOuqzjWSaY1avMsuCEL1BZNp+/0OU7F4Vxr\n",
       "A4eYEd6kfYKg1WEYzR5T39C3JtBhdV3uRSsX3IkofCMelTcW7Ux4HV6BtiOy2wcX2tGf2EZiye3M\n",
       "KDG8l+x18qRtCNuN2jSHuPXMyHQym4ReqHzqd8k4Ya5+rxlLWuVCHvCqw7hfsEPevaQ1fl+jrs22\n",
       "Ya34Y9WKn1X9J/r2QPZO//f3K+iN/r0oKEI7RB2M34RR5wDE6p5JFq+XZY8NEAvvlRGMskrqCaSU\n",
       "McjQUw4Un4/IhSWqOMMJxGIfZQqDYr7hdthXxvRjzy/XAmWGADY+eSk7RLW5iBMiyiP1SSBkczu+\n",
       "xusm6rBzkMVwf20WtzUGpkvGzfEglsLjrkHJDKXYMhlNFJI/xhC9chXKaUQY3fJmLn394BR8dk/q\n",
       "suSA3oK6WUhaNvkNkXrr5WAGrseI5aLiOpAP3Pequjj3c32P4QAAAoRBmiRJqEFsmUwId//+qZYA\n",
       "LNwt8jTtAwACoEtK4rRep3JBenwnubJppOTKSjzTcQ/YF28aDvO7FsUHPdpai+3krlrIWWFyUrxU\n",
       "7VQz9QRaIhJxcRSIxhu4wBCXKqgc9NbacqT+HdPBCWI3LovXPSXXjJI8eR5yrbIro9/pzBcdmuay\n",
       "I6dMPAOQ6HCEGomEs/I9ZrQUlRM5CDMSsaToF1N1TIJxvi7Tn9tOV6lyBbcAjn1ghYo6d/5GvVjZ\n",
       "ekMcqihTv9uITy829AxOp6Rqc3U6SRPrjNzT5wYvSaFZB8XsuBfRgHw0glHRVrlTgRbux/iVYDzm\n",
       "HTj/bSD9HnbDrE32cIufkSkj0BZ06WRrVzeOh8UudVNw7y7KJzMM5HPemN6FisTzRsTsjp77JAVl\n",
       "gU9jQcfUj6DtQIvtfrgoMdt3+7ApYjF2rxEAvrSy5O0r5pnAg2H4c5+ay0nA0/9dLU+s7uT6rs42\n",
       "UIUqqu4oihKeuwCP4GdzdminOa9lOAXbRRHhMekhhvOmSuv6NZrkX042bnDgM3zszL69CKIvlesN\n",
       "/CKISyOvDzMEMyzBkQesmkMvHPfYDY2fgZUdpBUHBEsFCmcL+qBw+boybs1FFwIeshAn3bzRL+za\n",
       "ZeqQcfcN1euN7X5ko3dHjOe4kLSEG9UW4Z/9OWB/pER0lcgPrg8JKAzdU2VHKG+rnjeYWTO5BOce\n",
       "gYWoE97br8hiGYTuqHPhOdKtYMmkwj3MrbBbFAjhf52nf5Ik3RQREcHNBCGuZQIvzVlBV6ase9U0\n",
       "9VOw93AEVC5iuaSve48nfwGVV+mf1rgZz4MrGB2te5oZ3SHEDrkdwGyXFT+nnsqLt4Kruddvnn0v\n",
       "gAAAAQ5BnkJFFSwv/wA0yr7Ewawspk6Mz02PlSBVemtyEw1zSXGS4qn4ZAIihf3hBZ3i7zyG5fJY\n",
       "4LIdhCCnpyPgQse8wFo9DmdRGWApvvJZEOj1WpoqMdNKwHI6wP7CwfKNL3BYdrZ5PkQjvK5BiTL4\n",
       "ymTXuEf2jbqtBMOnJpcYp0yP/Xg0S0VglGF8wXfzJipI9vhS8LGPiOIKCUvKuLYRUZSy74xvIjfV\n",
       "QtOGGezb1XCnvAgNCeSM+db7KjXGfi34D4/VdKgSuguoWJ7HFjjiciaLXbZLmauZwqzt5fU8beqn\n",
       "a89B1MeF7dbuZbq5rcgGSkaXMF9oB2M4AHl03lhQmG17UYZ7Aet0QykrNVyRTOkAAAH+AZ5hdEK/\n",
       "AEd8H19UJjkaeUOcCXwvl7hN5AAA4ZH9PLl4OHSYsaJBtq/mhvtpaDQVjstWy7J4KToGGFckNdN9\n",
       "Qlj6NX11CcKplOKVGND4Ab7L5hmRjqbeyGtMqyuRXcekyn2hHw9+47YkOBh56hOfa52Ke50AG5tU\n",
       "XvdnsxTzskz52SgoUWrthZBeF7rCAL/eyhyayIWbzKrwzblO+ygV2w2bKVimn8p+LvcuvjDiwIub\n",
       "KfYPLJEa3p1rzYnxrADtOYfS7gaA17PcjqT3/o1iC5EgvylXGB3aPN3IYBb4m3UnJmtr2YkCpjHR\n",
       "hrRLKn/1FOLTRG14lUaZHqDM7zcv1tqR8eId4KAnA65u0+ke5JpKjN0f/6W6/rXzRkDldhFQ9ZNJ\n",
       "rszi+OmF9NPxkmylkLt3/TPEUi4uS+ylTOC3c8seiRJRNAhuAK09KlHLScwhMG6wx1qLIvL32IJ4\n",
       "rMcq27Ku4VKHsM9XEO+ioFgnOdiZKAbAllW9u5EuVp8iT5mfH4GURVoskGDjaIRsbgJlnUR78b/X\n",
       "31Tu2do244LaC8y/mQevAn8B74sz2GK9MjkSH1qMd7aWvg0tcZAbCFJo/+DsM6wfylmyBfF/d+f7\n",
       "I9deBtMI2hc1mDnibJKt3MEQosBCgLTepWrKcSAwy+3dSyeH8831MbzBHxgJtLKkAAABhwGeY2pC\n",
       "vwBHgypDSb12KWeo4zTx94xm4AOQb97GeoNK4BojEM+RFpcHRcwF14fq9eQt8EjqQCIGaxRdvEX8\n",
       "immYRHGWq4JgbuXx3JWjuoxR7Tigx1vW6YUFOiBPTDgvu7qhbChDbuntUP1g67Np+gGDK+keHDK0\n",
       "RujBeBNqt0sd+H09BHPeXBCf299OeJj2/Ve6yxNw4GfoFtSZWwCdZN9LTUF/cyKk27ADPgJgJRwU\n",
       "R/ne990ReyhZsPOAVfuyqK6aLNEGoSiSwHJa/UDydbWYSPCq80d6TJ0PvyfziLby8C/TqP32N8Iy\n",
       "VVT1mMu3kgp4Zyhj2KHRO9/As2FVv/fubc2wl7F4F9YC64w//4yQ4UOKIr+a9mhnaS8XtmJyIv8A\n",
       "MCo/P6q+onVmbX3iBdDJtfl71v7aKxIbR5XSKj1PHL3r5NyzijS+F/iOL+Grdch/smDVRbN0NwD7\n",
       "E8T4H4ff2bQu1s3r0OlOwzO5spTcdYuZPGn3CI9YBZBIGtCuG5xK1vgKx2MAAAIpQZpoSahBbJlM\n",
       "CHf//qmWAC27tE9FaEZuk2+BoFaYmiLeaScOQ1OEFczEriy8GzaLTY6xR0jdp86vrlaKFH1Uw9vo\n",
       "ekrBIWbbm+xhI6Kfb9le/gzvSlEnhmK20ZN0X3Ft6BO3e4JvAKatEEclBK3oBrNp9ErHkfoHRdzH\n",
       "tQ2hvsYee5ElJ4alCQxKGAr0zFJM6gRyhtwqU1tbMAkmILqiqDF4i3t4QgQWqwTDuBoOsBklPYNV\n",
       "9QD6g+2+AAgHFEcpkHeyoNa+/WNCxr+0xgiaG2hfxkH/BbM4XZrnFeSWPnUbmTfbBwpuWXxoPHOO\n",
       "7d3BBgf2shM0oazIgfy1U4qiU9XsVHwtdmFuWeOxMhFgYfxxXU5weFR6d7S4uBJOZlIVbqlUy6rr\n",
       "hz/z16yyalgDpI+bbDuAjRoyH9Pt/pTkh+J7otRYfK+2Vw/uBMH5jAHdkVKOsAu0u0pDd3cRiu6Q\n",
       "8aCS++xmjk6wInKjpLC5g9RtuzBt5bcudiguHvr1IcvQX42CZymA+4MVSiLJ30p9H4nODyAT/ngo\n",
       "lLvBaOCUpG8n54dWU6Zm1p7/gEqzr2xB8SbkBRmiH+Fl451qkkRP3CRktXl8c91QDhX43iHmrdoG\n",
       "x67pQ8ayVVHTvtWI53pYhIZJv4/VjcDdMobh+mocEmFNi8I+YSlAglF9vQHZe4Z2sjH+lNcH9tAq\n",
       "3D5G+zMpHEvbTMmRJS7thmcE3Kn45QtNcgrjlPkLsQAAAdZBnoZFFSwv/wA0yRNhuAFYAieffOJ2\n",
       "rhUyrMD+X5vDfz8FzM1dfx2pJLcoOIPUz4Zq2jdsMpcNqKcpQUYBXnbFIonn21NKANoQDZchN/Zj\n",
       "HnQB0yYvoeTycvlqpnI3AZyFStWP63mb0+VVH/Sf5++A8besFEK9vqDoeYirCYRp4hIUbcqrkVDd\n",
       "zpSsLkAdXrmOja6NNb+W7mYSP5f6X6FIRVSMNm3YOPV8x+3mLltzbGLZh8bpXLcqyNUBsn6sgwe6\n",
       "JbKt5ThJLSKAHJ4ECcYsMB+uWeaAHtX/1oBnMv1aTFjdI0S+i6+8S0HyIGR+S/Z6Yat2S5cz6jLt\n",
       "jF2vgk+tPYKMdl9QT1EE+cKeum3evxKPO8DwGZhwdO7FdHeeoDgNvd3Iv9KgYCnhQl5kRrOMpivU\n",
       "7q0wFjwEq7jIF6ECAfsjr0jfaud+9Yau/JWK/kQET0boFjh4ytT6WEJiQUJ90QS6YadSYKQQejI7\n",
       "EKGJDYgIhUYeCcqKnhcX2cT86BQU/4RwMz98HYgGL7Pfjeob/5GsSgZRwHylM9++UOZY3h5yw5lx\n",
       "QH0L9DpaB9v4R8Dpvcl4JnROWxdIgpjKGR6IedIaGHhH1/eH9GS/QJ+D1Am2+4lluQAAAawBnqV0\n",
       "Qr8AR20U2XD2R3fMwp7Zt5gpIw5Fgt32s+18DVIpZxBEiJm6SntD/awRYiP6eXLwcOkxZCH/ToqK\n",
       "FbixtYSrpEq7YNRe0Qpe5mR4mwWwzajcclyl8IRt8m3YYIvW1FdeSmxC/1ETYy1hhI4kkJ3T4sDY\n",
       "6S1o3ZMZXelY1egiD0rV4fn+JWrehQVO4iBxZta7DqXwsljKuyVLzEuivxGR76baHk/KVhAvcZIP\n",
       "6jVEe+n9TTRFIOKMpFbCBUt/yWIN/T9hdmz2At6UTdL3zItn1/DnJAjaknNyJeJL64WG3NmQ/mOJ\n",
       "HgoetG0tg+W7jMTovD727P9CjvtYyD3TWA56mD8ctmVsDxYR2zVdqS5f/Ahk8UXQeaQXDxxD72aN\n",
       "hu4LWlwTvG8iKbWUOKM8oAPoagFNjr9bQ4GFmziGsR7z3/g1SaA8x65xTNwhzE4sRiRYj69rddep\n",
       "B9NTX2jGGZRG2QUwDITmHR+J5Qj85s5wC9F93uWj3KX8riEazSjFZn/GNyDnE/kPOqO+l1qt0DqU\n",
       "a6TWTjvYq6JvkvxuwALX7GvptFhL4D2pdwAAAbUBnqdqQr8AR3XcwtCxSmlB2I6ViADk9BesMFYL\n",
       "nvYoOzQntp2S/WMBz4e+rNQqtPfwo/kQDnHAC1Wag/01rGK8YV4Hv/s1mLuGkkuNSxfG7Kt7H+8u\n",
       "GHJ3bEilHnQLPrFQKpy9ZRCdEjLDEV0U/dxRzPpTh3FbOhkLFYRZR8rsCkb6PgECP9Z6QODyM+L+\n",
       "SgGEaHYZ5F31MKOlPyMKZffOmRSKFjaBMWcUrpDcX3ZYmaSWUbFdCITW5+UDdZoGyBS3F2cCFVA6\n",
       "FNq1RiJCUnHfJbOdfZjxD7haXm6RQkosvv5ajwSExMSND1wOqW1o9zZHfQ9YVCgZbgK1aEIDDeAc\n",
       "j9cRKPqwSO04ZzFPZ6TyM7+og5cAu3utv914MQgGXHoEdyp7g5c5oP6PZMT2X9usy2CB2b1x9Ygs\n",
       "FXZY7rI8p3TE5Cb8swOn8+dzG5dV7NpUAptzsGTAUkc2+JchgjsmGpK7jzTqBxFra2vY6fH1IXQ6\n",
       "NEqFrrHqtwxVKiNKfhvaei0xntoEpnZ/7UTEidbJegfPsl/GnBtUuEsJJ9B98t3GAqZlgpeQc3fl\n",
       "84fh3LMKopYKQAAAAUxBmqxJqEFsmUwId//+qZYALf8Cvj1Bp5bU+aoyS1j0iL6ANz5hva1bZ8KX\n",
       "3u0Ev/9QjeIHgcXcDMBtEwYNin11Gqc94I7LgM/7SiNt+8cQIJSFcsVgMURBMKnAZbzixAfXQC+Y\n",
       "rsDh4WZVwZtQc++IK9J2BCBtll+Xt3t2eg8VVSmO2/dLDKR5ANit4qji8ftx9YGZVDaiYm3Yx8Af\n",
       "9ZPTNPcX73SKwnOlbRGdzLq8RZ6wrQmW2f0iwbdq1ZpQxf7MrWVTqBiiShJDhDGHQ7NN7GTOJDR1\n",
       "MwbPElODEyK7ORe95FApVKzNBuNWs5gZZS6vfFUBX1VbijVMEl5kG1klP02H2bYayVezim3T87kA\n",
       "R+62Iy2GzY67TZRdenf4hnkianTKpKBNe53LcmcQ+byEA0D1BkdQO0hT1OzoWCNewYpfZzB/MGMl\n",
       "bxGXcAAAAiFBnspFFSwv/wA0MMCPenObCdCuhb75iPW8UwoZdeEFdL/cnK4MXet+UUCKL3DcFnGc\n",
       "jyTNEzqmIUCE2BjCEfNKrpa2WYhsqGeE6yAM26nskCRoThwaXJQVcC2y+BuikdjwiW4rr5WHDk7R\n",
       "pWtx6y2N9Sntl6cqJG+Z/bUTN4JmoCsLMgXy9uJ2EsX2OqA9/yy6BKSyvWHNq1258EAT9TiBZqzk\n",
       "yuKAHdy4Fsg/NZH5yz1xpvCS+MQhIZcRc0Ea4hgpGL4OuhEdI1JH8zGyJBlaI+WVqA9us8rM2h1e\n",
       "2Kuz7fMjqR5Rdlzl9MgTqK8Z0VoaWIaDnMNVrZBr5SYts26A/IU0vA8xv+5Z6s8YA+bpOoSyMMgs\n",
       "KK7fkZ8x6isX+lxRuW1YU27hBayWauj5O945rd7cTXOjbSy11j7mMyKJMpNN6U2egJpEAbPJZnc3\n",
       "VUlixRQW19rUzZVT5FxQayW5I2SHX/odkWDGXsVOKZsbTRBqEX5MgxW4n4BfzFGlMc6ni7wmYatD\n",
       "coKr8mBXnYFYM6gBIGJ8lrrjvKC0PLv5EL4xAWnPVY27wBEA33XPwJ4aXdcV4e4twwNs+HDfEKpg\n",
       "0hjMN2xzJWbBjYBFvTb+pJnqO7f72IZrgqQqoADvx0ccqDENnCuJINyYF+8huVVL+iR6S79QRWMf\n",
       "67LXgPPqhjiSrVbKqcg4m6sfB3p4ceY36V0kAA7yLDCw46vwjyBAeQAAAf4Bnul0Qr8AR30Ly4ey\n",
       "O75CdcaMv82AC9dCp/b1GuiXS2aB+dAL1THTPmdXTUdPJlZVqgHUambW45g3PrssFbvGnMbqB75M\n",
       "rqK50+L9RIcizkboymYaexCqbIUwi5icRV4ZU+WyDlbUMGmSM6wfxn7/u7YqcxIXb5oOTZE/qkf6\n",
       "nwOlWAeceZi3u4ckdhxpr7bAwttnjWiOBdf6oq102iTxLC92uxwFGsqFZ9bzSqA+NxoRnz2djvex\n",
       "aqRJGmXTMB/MOW164PVDhtpoNjdC/YZ/4kE5b3AudbtzP2Vl57q91vpc/WCSDlia8uPfqac4IwT2\n",
       "usPp2JwCs79ufnrdC5nGpfDXY12gegC0tOkEZSxtWR5AgTDv8C5V+gr2xBqrT9MYJbofEDN5Uv5d\n",
       "2cUDR2qzrvw4zKPFlQIiszzaxl8Pg7uNEIOHlNJIzURS+I8tjJQBuSvwhLFerU++uJEgSMDhQIK2\n",
       "qNGQWajYKMYC+IbhxN9B3mFdEG2dx3G4aLBLv68ptMsTKgd8zeNEAeZiXZmcIY1zITEn+ouyekXc\n",
       "DVIm8DYch7e6qFH5d5kTB6VhNlLOxa/6B91A52AF+rSQT9SLByBaURsvtBAer6iDVlAcqJK20lpz\n",
       "+f1O2ZCVj1gy1hzUr+iMXoJysX6C99WSxEv4mZNyZ0QiSc+MKNpgZUwAAAEHAZ7rakK/AEeDJmnB\n",
       "nkaAKC/1RYHnclg/biQuOPJsylgBZWsAIXy5P4InQ4By3Bkb3olln8/EKe995xr3Eri6Zn9q74B3\n",
       "nmeCQGlMJsomtla+E8EA40Jn9YvzSV2wKLIxmJm9GUsS99/5Knsl3WpV9IyniPB1hyogVVgCYpND\n",
       "DEOSHLEhjTR+tEpZqWcJadUfqkQQliQynm4Nn/7/2VRBi5Hb7GSrbgN4DLciqfcNj+fVbprt61zI\n",
       "5oFXTXunxi6AeoEAaGbxyTJJHeEA1pK2AZmWgd1fltmAuC9oWc7Af/KhRipqnH7qxQU8DAvBp3lC\n",
       "XFjJPsKh7mvt73ljBxFs+TQCgcXcwwgAAAIvQZrwSahBbJlMCHf//qmWACzfAOMrLiyAAjX8/0BH\n",
       "n3QKQ8n8f9Pd+nCsH4WtPnWuVSkTNK18ImoFyxOODA/kLjYarkia5b/TBof7/rzV+JdeiIdCjddG\n",
       "+Zg9jQ0Xw9YxefybU/T8z62g7MCOFKnsNDY84w7PNc0IDhg2V6rqpnTt8R54GeNOaefTnZ6a+zbU\n",
       "fcKKcV//vNm+o8fNJ4QKaWAdaiNV1kirHI9ZsUopzQL+wu6ACHMV/lTSHKADGfSVPtYIW+e88+PV\n",
       "LuPP8fXW/gMp3fTz/BWRrY/CmlVXCejXUtl8x4vzgJVsTgwodKCUmVHu6AmsbaZNInhLdoJIEF7d\n",
       "YPcpVCEQjoAHqxNEsG8ohIHmXFQMfbMvWv6sM/d6mjQQzpsgCbcHjdksBwdBbUcxyi6Cndtvxp+P\n",
       "xfxAY8Tm+01BMoVJ4TQ5yabT7mB7krX9fGVwpHKC/G/c+0f5CF/t+jcF8kD3rG9HZxPgMrS1FoSl\n",
       "amw94nDeIT1xZjzjGE9VJJOXvIpzGLBwI+DNuNzv3c6hXi4bmVPnU7duSNoWr8lVuqpvcS9a+G6L\n",
       "ZQFYxbTOXARDqSb5gFDR4FQ5bra42v8BvDounlzPchXhgg9lG84JLqRcBwfUlaN69y7SHvcQwSgh\n",
       "3MuN3K/bBk1Js/e0/8EjVKuqkkAB61WBvCZLNQXsFseY/qblccgBLF60xkJY5XkUX2jnArWVurXu\n",
       "2+RdTsRbEx0HskeuePrtVwAAAcBBnw5FFSwv/wA0wj5ewHwlNv+Hpxer6ZASXLZEp2uTqSiAJ+2A\n",
       "AmWHe3rFy81d3aKtWpY5R8/8GOktEccOeoWVFg/79ilt2XwVQhhwZJKE9/2sox0ceiJdP/RQrkOC\n",
       "9XpCKKsPpep1qTByUWJhfI0V1yjH4GW2Qhq8tL31e2Z3zDdd/5uQloGSvb044qO6eZFawZXt6w/y\n",
       "Bhbpx3jARX5IoK7bkQYbqNtBoc+A3wZMWslJOlsuQKAwI5P65/sSEahxgAqvLEVV09vD2ONNusJK\n",
       "99L/u0hTfc7wjO9Y2+2EpI1imdDCDY0Qtwa5uwZND7esaic5tJcYorCQ3zEghmOqiufe5lHGWb26\n",
       "CydZyrnw7RyotBZAM9nV08GOnuHz67Ltyn2GZzhEFl9pCnnRn5Oiukv7n18/j+2dEy90NUZ/nWhZ\n",
       "qu1NiRIqyYyK/6lnfuUN2v7Xt5IILvHpy+RbN/rvSO366fXC184nAr8L7zhf8Ov5dTGkEI6RUMxM\n",
       "kR723xvlJhF/qFb/m1zJYtjzHdklAfnjbS88nQQBWYiukHAhyEMACiwHqS4NQir7QZvTuAlg+GPl\n",
       "yvGOmXB4e2pFd6phAAABmAGfLXRCvwBHXasB+pJk4ZpZnI/zAJFv+NjMNfmHeT3GjMEsAvvK44I9\n",
       "s7wc2v5mfvNnTZHvyTDxF/SMdZXLZ3EVcRCtFVSKlI4zj7tKzeOLcxdqsJWGD37kwkmWz2/6f6zB\n",
       "tI7EugL2jRl3v/NvS8V1TlhihxUg5FN5tb4BFb0coGD4noXbdeWDYh9uDW9e8lW8hD1X8RTD5pCp\n",
       "HewfLLzX7w8rN0WaSDjU+HGkndX8reib2syUAhsqrHSHM7ofndtP/oTQ/a/qKXveiTfE5Yk/KFcQ\n",
       "djEJpSfZXw/p1wIRbq9jxXSnR+Ncvv0x7S4zFR5r1zQGTyjQF7hXQ2YSjN2YaTy4nD7I67Cy2HrK\n",
       "+uaGKZXgQpyymYR6trgMfsOve/ZaZi9fhiyZ32+uRO+TyzHefKPx+jcfQy5MAqNUpPZ0OPbIr7K+\n",
       "JBBN61gYu/d/IMPsXdF5Q2Jlqp1n4vtDfcCaMwVxKLKh2cXoSbJlVYGRuSFSXDEt07Y1FP/OikDr\n",
       "HG/p0t/aHBMoOZe0iauhR/FrYvPUUM/APQAAAaYBny9qQr8AR4M0wivYN/e6JBGQAcqAStJVfzhx\n",
       "CIinJf0KZJVdNH4SZr6FP0PuEx7UncaWmnIKcLaRPUEvXt0qO3VGfs0T71rS3V+d6rfF+PTzof9j\n",
       "VMwsiWa8RDscOJGQG9gk5ooZZ7pVR/1LqcSLqZEs5S8IAOwpF7JnS0Y0tb5s/c7FqERYW8RGvxCZ\n",
       "gRkq0+9qmhMvexHT0EqshF14X7WCUxEJW7y6xd04sJTHDrU+L9nn3pbnF5k+zIKqHflmT4IK+DJj\n",
       "IkjAzg1nr0NWUBM2nTs9/Rqz6O3WhMk/dtX4vUHoqfG9QA4AeDwozgt7pf7cabjkjtnxUNU19jXG\n",
       "aj350Zfr03+xf72hQiEr7rkMkFeTvCVnYLGxoLz8iyyV2dqcexWM0whKEOBezQA+JjEkPKy5+uxc\n",
       "/MMTDNTdVsElKkZ3wqTPymmHhD96w5UhKgf0oeO+8x6tj9t0AEBzRUsM1yF0Xu0YMI9I0ctAn4Sm\n",
       "tZhLPrU129HtyzrnBU1Bn70Oiun/OvCQlyJxnRwXQKKDbC7KlnVfrUR+3YJDcbRdQgCk4AAAAlRB\n",
       "mzRJqEFsmUwId//+qZYALLq+Dg5tZGQk3EqArirhDZe0AIaR4qCk5tczdLKQp9F9bq9ZYJ47O1Rn\n",
       "jAeFC+sLQ19l/k77vX/WKDA4Z57myCaiqJmL6WRSKf85LEJZrjIVfi68yHDIVhvieAykcbVYFn/Y\n",
       "jKJYrBEvUB2cy9H5Plj+CaWXYNHtBX8qqHV6uAW1zmbIU0hhiEzPoOSGx6nhs1JGjWOC8qIxqQ3+\n",
       "XXyE5DYaRdPCnp9cNj9SjOAhbQ4wGdtFs8p6tb66EWfTTOzxqutg5EL9/6YQZZbYJvZXOUE0AV/m\n",
       "QY8sXYecX9rA+ajP0Qjgi4RRQ3FcJMjkXDS6+cXqCv6BsA6NBMif5CrprtUY2R88QQc4uYlKumtw\n",
       "kdFkgmPcf9sBPHuOSXGra98QDOs2fi42psu9iOrYUH8d1rO6Zfkpnze4hZ67dK/F9oFJwuDq2r0M\n",
       "2l8EYBNYfkklsj/5HiMZ7auDOTIFv0mNZ0oEihLQOSdQNEDHkrFfup7fHNq0IApWdy3UprMc9xPH\n",
       "tTJ6fUEy3iN6PCQfEC9LN0BtZiUBLSVQTGIPIK2LgwNfarOBh5NEHGdNYGUwZHAV3p4qd3WDHDtv\n",
       "FZWt/46xr8Y+6U9GaOg4JLJ7jM7i5ZBxSBda12Q1DwdcwGKVCRVjVmDSlVT6vsYBNSPrl1INAMzb\n",
       "sa4Z6ebsuH6gTqz/gg/8DUNXBIhPZncT4CxyY0tMQhefueS9uodi3rLE6ucTXcU3PM6C9qmdCgmf\n",
       "yW/DfHyXEeqb/Dj6OnGtyLOy4FhKwC/nygAAAYxBn1JFFSwv/wA0yr9ZrwjoZ5fmPH6fDqO79UVH\n",
       "LG6iL2z85DJErEFjbvoewOZDyflYi74u/WW/J0OKYeUN6s3M58XOhNM5tsPOQouyy4NxCBRLXEHg\n",
       "r+CUcTaBR9XO2zVV/wxfTpK8WGsZxY1rhhqrpolGbId8/dRDFyZSq5t6EILYPoP67FNfjdJoqTpP\n",
       "Rtapm3LbLtZAEo6GVgFrxUXObk+jsrIjxm05v14YCxolWHPwC4K4kQrW5MP8Pyrd20OtJBOy6gmT\n",
       "cxDbQbJiolDtkO2WrqDTrMZ96R6IqKDb+tfGhH3wdmn3hRLEVOfaDsnYS69e9yK6ceaPmEh02wd3\n",
       "JKk64K1U3eKit4swNRJh2knB4ht/swdQTYsr2azRrB7LjCCDzfhOpZLocuZ1OWkMx+XFp6VZ+VBH\n",
       "kJLvH9bgfEF55mD7rnTbNION8B+jVXod1ob74UhXzbw3rTSzX3tCSa0Dit1X9hUi/hmQPe5Fl97N\n",
       "XTLVtfZVi3BQH21xzf6Ts1Vb1Icsc56oi1cAAAFFAZ9xdEK/ACTB+8K22TwuvMlg0dVoZgAvXQqf\n",
       "29Rrol0tmgfnQC9Uy5P3L6U1JnBsDbYTp/SnopvXhw6v+EkJdPwMtJugMF9+K7I1mNtDmYbGh2j0\n",
       "/Opqu6H5mXvmRlTYJrvZYJ7zAYP6U4P6lJdTtjnMiiK3zenoth+Y6AWG1RFuX5/C1E2YYrg4PlcR\n",
       "uDp87SvYLdrzAn+GRa/BUOokJsPQO7mu9FzPG6P26c1Ki77/uL4nPNYrEC+H7K+5AqkVAQJVG+Qk\n",
       "7hl/B+N/ueBUp4c5vtTfMXy8chZUG0OKnuhdBUEszFXgMgE5psZXLRezfuysaHqBkvdC2m0x64es\n",
       "3wc5OZewPiuwvsWLZp0ky6XL9o4AJsJwmQGB8lNEl+GOxy4Y+1YHFtYSYd1VKed3paQR3MKl8eK7\n",
       "dr7NgeE1ut8nakSOsgAAAeIBn3NqQr8AR2Q30BNzSC3ecYAEALJnJ3V+apL6gTtWAk/z6x6Po+EH\n",
       "p1dtit3pjeVLBuuSc4gH0eCNvluLcNL7xYyPq5tfyt1fb7bdRJTGTQsP3yUQEmaycNwmcYwzXzIp\n",
       "ROY/TgoM2/aeO2U6rae/9JVuFmvog/8QnhB1FnbAOzL1Busl+nGV+Z8xzKpEt0j7UVQqLtiJJYTP\n",
       "Tdmc78ggvHUSv6L/bKfj47f2U/Ktrph6IwxPKR/8Eows3t65WFitZBzs0SIoVkfQSNR7wyq5NGLi\n",
       "5FokpMKJVwm1nMro/E/owNZwAAwAJHRi5BEcsXRPFidAJeBrtF8LV0j5Y/uxVv5OQ3m+NFLHQnzP\n",
       "mDh6tUbjdlba4OcWvZslzwfznkLWE5hvjjNTOCpg1sBvs7zYVuNUn99O0k6jubU/fBdOeWeOusBl\n",
       "YvYlzoFTQW5hDJdh4Ek4033N+WmNN3yapVPMwHyJZy8/Gl6Exe5cam1IyJmodOD57tHkjJRNJhrn\n",
       "jyq9/lK/HKlai5+CDv6WTXPr1/1SqNs27q5mXld33vce3KcW2dnZnldh8c9d0RoomJpUjpzpnrJB\n",
       "2L3fWbgS5UG0Gr8b4o6SodMSyNiDEbClpnXtLe8HCZxgfsWeKS1DGcn+WAAAAW9Bm3hJqEFsmUwI\n",
       "b//+p4QAWP3hLTk+fh5hJUrS9n2kiWZHw+vrEQAbrE0HF+IVf88Q05v28QU5VP5etOs6tf1s6/S+\n",
       "4lWhCgyJC77yKOiKnYyRegJlkCSiXA8se+5mJA3asO8LM5fzwndSpA6WJ+oaCuklAoWRZNG6Z0vt\n",
       "KeZXJF3WeGfUaXFX9a9yMyczv7ZILrEf5WsAcG6WR7aODhhq1k6l/+bpaDCVI+h+Kffnrjli1kkR\n",
       "iL+z68qd1TzI7fpBT8PIcMEKrOCOj6ZCp1LFcD523iD/oUbjyFL6xKlXJZeQoGwoa/aGyJ6PJOJK\n",
       "na5tzaF/qnQ8pzImxI8E0uWFBb0MvvTmZDUl7kEEk+aqCOTC6IgI1h92OxShEulbvTaUOvDC3VqO\n",
       "syIAVQN+WFQLjleCBnONL//jZOzZlPxNI33gRlroz9fnYCiOtEUXUjjzU+YgT6b5KPVeL5+IyH0R\n",
       "OVE3EeJlvcHIGRIRM3OLAAAB0kGflkUVLC//ADTBoUXwBM1a4+VLN3SrwfqXjhnGR8chILgPKhQP\n",
       "grDUqujn1Z8QtLa7MON1Wx3YQaG11PPeZJYrwwcmmTHxEYujU/OllLuG6UuotlZCDiLoqWnLXRx0\n",
       "aUn1gBs9GNasVIVkPH4WzqHaWbD7XAbJ3Xuxtn8hzk3LCArcGKCCwby8u4IGPJbxPQxOLXNHerBC\n",
       "zaEepagVMDecGyFHOyfitj5dX/QPh/I9B+RWmV6zK5U6SjkV2r5VaesCWQYIar9W2Ex2iRPq3wcp\n",
       "G6Lb9JPPrlBVI43Dj1/cbIJ2tuvoAHxjsv4S4T+LBo/KbGvvXAzCIESh9N//53qpVHtk8erZpISf\n",
       "K/buITC+oFRlRuIvvWcQllbQcexrjppvuEniJ7li0DTWSpFQu7zrruuwEGcki+ZKEJVuUACnLdgv\n",
       "cALpKvUytPVPPXW0PtXj0YHP3HLvw9pQB6uc6JTF4l8yA8Wqhm7+Q/Owqrf0XbVQWLDW7Ka6rZD5\n",
       "6tDlxoJei/XLjAhr0TK3gnOWkikj44hGv+1JITvkwbiyEKhyvEdJIm70H/tHd5TTx1a/Rj3qgQ4l\n",
       "z7bnao+udM7a0rC7wwrNAJbOV5NAkIctD11d4IAAAAGeAZ+1dEK/AEc+u7urOSMDGAAOsvn4Xi1p\n",
       "CKMZ4stKweQHGRMS/a6ZfYuwowni6os+wv71yzBOY61HuTJAWKjqJuiUrwaO6Q5KuVPTE1ZBT9py\n",
       "QfincNKlG6G+2sQ5uP+3lOKtVE/pipns6FE8C0/luS4YXje/OJnBkpRzkpcbBlNv9a7xxrdLc6DK\n",
       "PqOMhfxwixz9SD7wfTW/2pUPAxVJHyS5JRjF9eLArvt0SJF9z55WRC/D1Ii9inED/oIiLseWxv6p\n",
       "X7L8Gc2v8ovR7kn2ArdRF8pb/F9qsjX6w0xEfApiMd5oDJmih/UKh/myRzD+FCv+qwtZOwrzBvZ0\n",
       "QtJHwuJ3FqnqTOHm46D0FCprI6nhAcqAlH8xSNpQgPbxMooVjH7lXZCGS6mTBFxmeo54bM4U4wbU\n",
       "Fr5U9UcWvISdy8VIMriYZb4mg+2AUTPL13k/4hSZAfwUUFaBj5IMJ+vyAE2GFirgaVmqUnuvNyb3\n",
       "U2DuhgCrhCRIpM15siyt5eUsBjlQvLtr4h4anchftrUIIwHwa60cQid4kaIzWtvvAAABpgGft2pC\n",
       "vwAjshOkcg2E8mxyG9EFFwAXnRbHO59zwXdrkjdu/BaDvgaiJtYJWS3YvZ+rdEc3u6lEbseLlO6r\n",
       "j4DL1UdFAZN/sYRIOFAaxHxjAzARmC38slYEoaQvT47Uib5hARZ09L0mVf+jOxIVlTxm8mJJjy2E\n",
       "sELVj06TnJoJ23qc7jouZmZrq0/nrWbznkbNWTB7d9MMv9CFt8T4CDo+AcuM2D3+cD2OE/6e3yLD\n",
       "b6rg4BPjTgm6c2tpquuSCgzTMzfmZz8ravQfFyB1Ox38UOpvH2PZ1gsTnQKDunH7mcABluBWcQ+J\n",
       "AneEhMWsFwzSnMidhZV9Klk6oCL/FUiM4NH+RL0gEXk3UnpcN2p9sTAgKjjMBWWTdOy0nFnTV52T\n",
       "4bQLiDUVMDQyiR5/kF1Rx9fXxQrH+9aKh+3YEriXO1t/hYXJ1iEugi1ctDmuucUDfU+EKRM3yHeq\n",
       "TWplgs1dHPTGThxH/9oL3L9Koge5ADEgrNjcVYickMkY02Xv6ltVMNTwnoD417CT5Eedl2yB4cas\n",
       "R8B8wVsbYLlVAgJB53qf85AxAAABtUGbukmoQWyZTBRMO//+qZYALLCyFQCJzouhH9Qjw6HZxSQA\n",
       "VAjxTZVPURILFdnYKFpvBYoUyPMvyLecQ4aKjnnesGVyJ6a3Jej0C8xCsfoXl8b5Hzdu/nOayumr\n",
       "AGRVq7ovj+zJinAzjK5oEOWTbts6dSW2XspxSpt7+z/GmUKKE/4qjR1kCT2AXsgiCvr3PeArShnb\n",
       "Vx+ZOcgXyntkOUSMrNs3S4Hpmr2ldPiYrCNdvCPW2wHXXb9ZijRahfrrWM4A89lx2ZyKGlIZbyLv\n",
       "vF+izKxRND39HXADdKcyu1KOxzfCloUhiJHdEdXUp6OHz4fPVjyW9m2nK6GPzrcZ+I9R3C7AI2x5\n",
       "3jqIVXFRa80+AOG+HSm55Lmkno8w11IhOOmnY5Wu8lqCIfvaRmafMaQko1Y4Wszz/jAH484IK6aG\n",
       "XwWMMb2vq6Mejbr0ck08MnAjOSiTR9+coWsxEy48lPiDAbiqcQI1fE4fZ5/cSRxrx2Uo7Utqha7U\n",
       "0ZSm9HwO+NwwyFK8c6ynnj8Nelx5O6T14hQE4/dhTuh5Pjm7hdrKGFCCEhnHTj7IDPZwshrb5xO3\n",
       "fFWLAAAB/AGf2WpCvwBHddzCsdIyiHBWpzGmnzvzsAF5Z9Fv29CSr0xGknm4L+yg8bf911K5Y5J4\n",
       "lx732sfinHSa2JgkLP7oye4Us99vSECkAYJd/zm1PzqaSv1xDxG7v1WY3CkunfVKoq787xQLdhla\n",
       "PS2KdRNO4LJuWh4ovilFgK3K/7MXo31f6DURWe+5KV24obGArRghWYceiH36JdS08iWYG73IbdHu\n",
       "z9LWUiXpCopjPSresUqqeNfw8sHr+xarnHx5SuYQHoftg+PqeEimrmXDH/DpkMGpQ5G9nBNKK+Fe\n",
       "c+5c7yorS9GPGa9+MarS3HVEySx+WWqOg4uZIWa/QD7GGxiGy93PdOOFOcaiFh0/Zcs59yrllEdN\n",
       "TQ6dbqlfjVK5str0B4RetnLJypvlE+B9Eg/QS8UJYs01W92OG3DJVMDujdFoiXYSDmFLTsJ0DLR7\n",
       "ayAMeD/EAXfZqZG6ntZpT4tLvviH0Q/fiUmLuPUWCNkuV9xTEzHYZa8H4aXlpjoYnMkkZbOyKDvn\n",
       "HMmfUjAuLFCMKj2NT8XeObOY2+q0NsKfNoE4nhejCBhTy+s6JZNdpWzG7JEJRP9pyNWMx17HWQwn\n",
       "ROuRexxx/PycRmkt4I6/jTOyFAqu6x9GhquPMZ2oOy4EOugdxruNjoE6RqWbJAj7w502UN66AFs3\n",
       "/4EAAAGqQZvdSeEKUmUwId/+qZYALKE4H3mdpuAAi+7NEhv6/lXC0qsCmm/DvSkAXx9LbW5vPJz8\n",
       "IlPiNS1Q4EakpWLIr+v9SGlR9c+4QmNw7TSV0TnsEo5d3pBr4+EY/dnkaEgLOatI8edLoFSPiiI8\n",
       "yRhzU7xgmzf29/UH77BWFwumwqCM6GgV8ghBPVjhu5YSC2zHf2chldq/QvKiHDqvcW3JhB9NueL0\n",
       "mj/2SzxlPaPeoIBEjP1D3+fz+Gx249CL90surt2601ovOyZnOB08CAxt+fWL/GE73YG6ng2ZpOMl\n",
       "rc+pcylFcnMOxKnpWVue2ip1c6eG9Mff8H5A3qIkQ4US2C+jgHQxsBiU9grqkXjVMeFLyZfMhvOZ\n",
       "Tj8qiAduj4Tl2XuwShn7ifLOwxez2AWw2SGA1J8zmj6zUFILsT+zTUUvVQYF03p1RjmAd8fypOT5\n",
       "Z1oLUMJn3RIgbgVbHASrwWgQSBUyzdc8URjglO95Zi3vqNwS9HV30iyEYFHLx8182pnrsfWc698T\n",
       "exhXr1+rXLejhWovk8StDzPwS3tDnSJHzLHxK8YwPQwGAAAB+0Gf+0U0TCv/AEdkR0m/IrjKLAPQ\n",
       "gruwoqpctfoULr0pY8d/A63sFW8GTZvpj2On2CPNFJ+HAUFI4fbcUZqQVdl+S7Yxkg91RbYYVT6H\n",
       "utL0xpDOlVEwMTlwV9j4ZAv7XNvjDQ/05wsxKo2tmWkFy1UBGkJzLDo57GJmTGSNIKTf/BQU51Rb\n",
       "5lDDho1SZwNOOaoTDbPPB2c692qB4IkezX3cPJu9n3cwPUKL4ASsqwtv8h7+6zk1f/GV8ysEy0dN\n",
       "U5jMImJ88nRjN4/AV5Fd4zz/W6pUmWgX6bUJd0X5dWHM7qy1cbzPpzYiHOvGGD2UY54tM4l1HEws\n",
       "jQxfaYtTxpKpV2d0hB5IAjSMcKZ68vqnr1RgMTIyCnEix5v6Mh6iLdXWszKrsBt+eDFTLwssRFFc\n",
       "QIjPmbYAN4GkUjNG6EtPZD3wCQg9hAQXUf+9IZJY7gsnrsig4CBgbNtcJftEhYRmnOoD7Jq81NWv\n",
       "mRVShHRse2LNPOx4FAqQ2lpmFeRPon0mnsD3E49MH7gYl29gNzu0zf81x8z8vm3B/PJaPqx512ol\n",
       "EUJWkGAWfkcmYwiTqdXVKvkUNxlt9UqpWRqKzn8WqApoyp1QbZ3wyJ4yzMTto4+2XqhINHL8yGij\n",
       "9+MN/eT3qoQXA+s2Cma0EpmlowSV5CYYh76M4nBzSQAAAWwBnhxqQr8ARXYDlsKwFIVzpH2RbWRb\n",
       "nvswEnEPu4jqx0F6wwVxE984XeXBh+BQMrJM0ezYtDzO7rXKxKcEcxOP8gAKlBaRvcLSMxmOxdiV\n",
       "exSoQnUlKEqUAEzyq4UpNlvWlvhegEEHI1yWiY9DWVvVp06c2QHUEb19ICOD8P5RO77WZjwLiubo\n",
       "0t1jgYrdhVwFM4KG2gIVn7YAslxUX2yLKzw2rlW/I6URhbrF7MAFA7hkMkZjc3KCC42TZiwHjoSW\n",
       "8nu9DgEajQC/5ClKvu8wKpYPSrCHECGOckw3AWwmgCgRxU3hhoWH4MA8Iv74/x5PA0GmbxNvSovk\n",
       "8+Fc+GMh2blTcmFx7BHhQCcLuHL7SSo2SAuk4GnBCNDFSHop5z3sHFgHBcS+cAbvmLQ6FuXSAtP2\n",
       "NncZR74FH88v6Rt5ciOcfWpj/0lCL++FX+50TKPCT10wErwiHmihyUGCtwbYwl2z+Q7t7fJX0Nal\n",
       "AAAB4UGaH0moQWiZTBTw7/6plgAsouJktLWIAHdoIxG/ZIbpg7SpUVqQj+ROUAJN4ITkRq4hxwWh\n",
       "gz87DVwWWFg6jJcevONtSh6HsMHZ6rItS/xe0j1zWPYzE15ZJYLF+HxD678NcsPKN8XevG/s4nnb\n",
       "5F97X+oXA7nMh/enu6YkfjHmAIM18KXa2pIvwKaROkRR/2jHv14eUQLloo/VVQaewub/SHPezxMa\n",
       "k1G+DdIZigx+06oYIRMq0NkC9JAK3vsJvzRvdoqIUOFEGD0I5EahDr0lUmHO7pla79+X8rZhBjpZ\n",
       "CY98nVMBuvbt4N+J/KqB+Bkb7dcf0EcTaweG2f+UQtJ4VEji3I5RJMyN66/2AsvecDsohJpzhntD\n",
       "WLFkBGl7yqKsC7Y37zQnurONa2OXeE69ptl968LOyciuV/O1Tp5J4VwB/v0Gi+F0/rKerVvgAixl\n",
       "/yxhT/WxA9rocP4mT2tk7nVnPSBUJoY5Y6BII35XCeMHmoSgvRGqJZwJ71359ESLLE8Rc9VY/xd9\n",
       "iDXog8HQL2mAuvh9t8ioE6mpQGLLNsNjtyTwDFO2/ebdOqUFREl5Ynh4O9rON8bt/E39eSo2K49Y\n",
       "+pG3gAainSBkEk8g0KMXN8HhnO1jKVYw+UO9F4wAAAFsAZ4+akK/AEdkH+0HVNSUDJHbUjOwYnQZ\n",
       "6ByRTW230qexIT76hChAhacfA3pNzMBNuU6Dl8eyaqBOZpZrsDwBC8MSnNZWW/7ErIIJhVi4zeF8\n",
       "YhJ55ZW7D2Wo+q733yr9Q1N8I5zWu4ix3MhhSDUqUgH5nWbK2cS40ufsXOhBPZ4fgW6/Krt3Dr7k\n",
       "6e9NKywYuwZWGZrzwvX/rl6nEPhoS3XYjot3VSGKwvm9jOge7pdUPun/KzZORwEER33ucRtnrgVd\n",
       "o+9gLThE/3uokGiNubwu/xkjBVUWcIDQt68PARoKlwVUkHKiKvVc9oqbUikxefm21iSllK5zd8xT\n",
       "QhKwfKrJLjKVlKOhf1eR3TzPOTS0VEVzH5KOK1MfC9eCQd6GV6JDNXxKBm81PlS7nqtMZba3Ht+q\n",
       "DwytgP/ryxkVxibJBFdZzbifeO5Xvn4s9AHVfYIbKd4wM3pROMCR+DVaKOw7XUUaD71OJe08QAAA\n",
       "AiBBmiNJ4QpSZTAh3/6plgAs3wDZamCds7+CQD0/zvcnIom++jKTT/I4asnhtKWCmoYYAOV7v/IQ\n",
       "BgFj1PBS3jJXBmGth/pajlzLOCnR1Kk86KZTUsS64IFSYc1BFwVptc41bUefk/Uv33TN03+VJGVs\n",
       "8PgK/9X8mboxStuAtBQan+QiYaWWfaHcRsLGkMdTf/yI7juLfU7iIjW1E6r6BeE+L+M8AlLZbcgl\n",
       "kyStu0sbuZ/ug8IvoCPhUQszmXotWjX1AaYIbD0sLKGRCptSCLloX5h/dcnakN7ASlHuG9OqNM1G\n",
       "WAgX1t0Qwr7ABKsGNRebTypJn+a+L3TZEoUDEqUABYcxkL60m0ZWCQCJd0Gff/3I+0HsgWvb5q/k\n",
       "9stwpqMBB0ECYcYwXD6KFoRp5sLXmmQAR65YsjSO24HCryqr5chNDRP3Hx/XbI8sA4jVjP+6nTOc\n",
       "2ftWGzmc/mirJKODVmUQUJc8kCIq3Go1oBYOzDdKwgXDaskC2ZSk4USle6cXLgF8ddlNlCJq6+3r\n",
       "W74ugmvsRa9dbX6NMbnx//6+6RMhipTundMUPEqzHhuvUIZzFXoayCCKFvwEGyaEUBAWBOsC3kxN\n",
       "j6dMd/o+Nq9tVd2yO2+JZKDiLOh3taBGs4eh3BsNyYKllrjk1/ooNMQsSNcvcYX/1s8X29knLgSC\n",
       "4MQQacZ/tqtraZb7Wvv7EyTv8MPZjo2NirsTd9LYkBClAAABqEGeQUU0TC//ADTCPYR+f5aQO4gM\n",
       "sbUrb0vI2noImilrCXpqUTHd7kXzrp92fd2iqGRasfhba+inPsL/u6Qn+YOI6wvmf7nCQt3gfg9z\n",
       "apQt+N7mXzr/mwURTiTlakg/Tt2hzahwH5j8aIZSPaaW+UkEKlet5sHehoy+NskhC/9+mrm2yoaf\n",
       "NERJCP7CdB0EQgeYkNTl/clW7UU3Gq79GBZER/ZNVmNKNhMGADrC8pSTlczm9puYFC9Pp1OaLlqs\n",
       "q2QZhQGxpftH1e/GYMTfwaHf/p8pbSDC8Bycuv/yabc43j2T6+irBpm047thKEc1Hk3xQHEAuohz\n",
       "SbhzEmsxws49s3OAye4lVQiBgJaRiWZQNbikN506BxFHZFNPgFU9NV3b2GbpsqeDRx7pNUv7Fjil\n",
       "i9AbWQzszfGoTLLpT8pwM5HK//fSc4FNZ8nEZTZLcRKrAKIbjbcN1Zf/MzGR5eiLs49nYbIFHf0D\n",
       "a42O9e/6NwDK5FxAJc5Tv8mcMeqlSGjRr7jagf+HzsM06xSn2TPfQLeMhjKGDcmiGh9kKLMY2GS5\n",
       "9ISjP5wAAAFIAZ5gdEK/AEdc465ka24Erjx2KxGijNQAXbbSYspfXN1X14ZfJNYJQGGsBcoyJL1j\n",
       "Ns2hVG7W4xQcG/g5NeAv2K+NyB57O99NGogjbAmepGpshGXSRPKI18nkHDmtQ7COUec/eKP46i39\n",
       "10Gs9vl1nVs+L7u+qIqMrw+gpDbAuicAZSWOqzLWx9B5E+EXbJ1LlCDwGvvay/DejhM6ffp4yhkJ\n",
       "c04YMGs3LVFkdh53Cg+8Ftp3z+iIhQD9kXTl4iDOFKdQeZMjBIaM3axfGN56PKmjfZp9nSlpb4nJ\n",
       "9mnQJOX+8TEGYqot4vVASDeGqU2nma7gfwhMBf6HQpMZd8CuDEEoJy9G7U0qsMAnV5TRGuCiBLI8\n",
       "HSWMuQdeEbj/dREyDVu3H2h6PGKeSb/eZqA1946v5LFGgvJNDLW4EsDDHh4cjIBcnrFFgQAAAVIB\n",
       "nmJqQr8ARWSHLk1ntKBQIdvsrPKAxcAF7L4MIaGNg1kvql4TBTRNeeUWnyRJSD2KnxNCjJASswm6\n",
       "vRHQXyORh8bXINlkGGwGhfT3uZX56buBkDOCZv8GaYEwLtsYjYgEraYFpIi87ooH50r6/nENkEcM\n",
       "wDikhVGH3zFvMi5cIHFaZYBaGUuGIDleiO3TfA4GJPjNUWFX+/Tt3pUsTOeDqKmzOwg+Wq//eDMl\n",
       "0nrSVHMw5Vk4pzBDjyr1L1ibnk7dqy0Gzx59mr1F4y15cg+wqEJcX6GmAM0qDLvWZmrExjZqtJC4\n",
       "ix1+cG6IUMDOCwj7ZGQS8CyE5oWAwP9Y6jWYC+QfuP5st7+VUnL3gJboi7sfsPf5L3Tn3qgtCJWb\n",
       "4vWqIO/mzJERCh6BVcMHViZQT54cB6qVzw+l0RCsEkuXv5J0IQjcJtlDez4w3JHXv26KcAAAAftB\n",
       "mmdJqEFomUwId//+qZYALKLnEgAd/kRUXVksjz2Qp6TPhbErM3Rx/yhGyRz7lWe2Jyse19XxsBnJ\n",
       "pb/qSzROXx/yxhmKyfDnggx/dGWUxTg/IVCcgNTj5Bv84uL+qw61y3KGh+oO5Dh/4jcNdV/JMi8l\n",
       "Fhu2You2qwMyGkdfZj5uBkKa4SNlh2C4GlQ67KBk90zgjzFeg8I15kpbjjDBndVSn+2JW+ArPBo5\n",
       "oovjKeUrh3HoQSF82SKHBfut17r/MxIfPfaZ2cPn+9EaGy6F/1buLhTM4jgvvz80HMtT/jrbyYwB\n",
       "WFSljfM2jWjp3sWkcv550QpStXyxI5lyswy4Tf4bh68+5FdUSNn05YqR4JeJH7rjmFVtftU5q6my\n",
       "CUnydDvFKm+hiej0KiPf7JDSGxqsg3b66TV+1kW432nLC4oXCYQ3ECcAw6aXfyeajmq2MtR1MHv5\n",
       "ciHe8Cdq1xL78x4X2/tDT1UfNmvFyESYUhEG4nbnzSzPiI72QSC+q4N60CUs+l0e9bEqffCmngxq\n",
       "nbYgzvDxAj1zNwRqr8V4jxCPtP2dBU9JVv5C6yPK00qbcQ2S85A+J9pvClR3fYlFNbXo+qRvxbAo\n",
       "eehZq97pBqTFC9sxMrp8xw/CaKV2DIK++FT4093J/kJii6aZyFwESUBiIxXA99WFQNsAAAFsQZ6F\n",
       "RREsL/8ANM4o8es/jiHhm7nDemDrOQQUu4r0kKZABK/Xl8+DOnBR5kcX5H/8aK8u0qFGEMLAywXO\n",
       "zfsFO8i54TjmQWgYty7wfv4OoXt84isOY/BYtkRM3/28QVhL9IYavn2FU+xreNFJ7xnGN25RYd9X\n",
       "IPnUoTBpPMedrKYqo2XjqEPAYbFtIiDLrpOPNybO0jQv4g3aRA8ezVMhH1crDo2ode9Zxps3V7uw\n",
       "DRKWb4U5PtN9tJTEmYjZ5aPNjleFSAfUIcPaVqBU5XglIdrW39zFM2I0jIG3U0k8oW/ImZronI1y\n",
       "+OSPZLPJ9dnvVBqOobyoFv8Tb+n3v9Yc9bsuL3I4wG0GDGhT7kP9/EADxc9xbJAr0IhpKicBEb2J\n",
       "6RiLO71712iuZnrdXqaE/Q22g9HDz4E8P7Nx78QZJ9r4JIQQ7w7yHsNOVmvXIopGJxnTpqrsi7SM\n",
       "mlNLjl6X5scx3jByJ1x+wlEJjQAAASYBnqR0Qr8AR4QAnJrRWrUARJBD3+bpG+d/5nDXWfLz6jSt\n",
       "PQtruAOj722mLvYhgFUH+QWZIy6T/B1AAnbzgaXCV5MJCPWdJ+da2NjWnYItv2bf0W/O95RaEH3Y\n",
       "3IaAhiPwq2fgSXQacwjg2By9LYrh068kTE3ip5/foJkZ03+GjwdGKdqTCtu+EEFVutP+a7lo4Lly\n",
       "HYBK/U4+SbNAI+qr9tKMQ8oRcXxLQq9dadYYoxnq+N9KgDQ8qCa0uB3QtzDfLu9LxFrBWFWjWqJF\n",
       "B7u/PUCk97CSAXGmYI56FizttthOdR2CUhmXBkwCkrl2RI0MnC3AYFnXrhLMl9rZ+Hh8EvZtfi+f\n",
       "4DVH4Ssp3ATYcYDZiBv/qqny0mR53yM3xWGPCfEZ7MEAAAHDAZ6makK/AEeDKfZv97zmrFeNGW79\n",
       "wAXp5/eVxwR7Z3g5oAwlXDA92bX3PkxhXfY6xXKiKBc4woV15hfsQACTtEBbzgiFvqxG1d7RgEy6\n",
       "f9XFyIpV1jRiukobrJPpcwA01jlTq/HVEbo7nRo8wpzV773b0BRbCKvc/xzilXE5l38EMe4IT0TI\n",
       "zkiPtwthaZ4vIEGyO6M5vq1vE8OwzT6PbZ4WSA7Lo1FznIvHriG6fNgjYUn+XvGc6fh7r3ki43uv\n",
       "ZBpSuBIu3bkHxZBoPGJr4NlkeaAnMFc2n6snMp2mvEt0tPIciu+kLARTvKaTveVNQTmMV5C5R+se\n",
       "dkB8ObTxIv9z8V+BZgwQhrsGB3WhFW51YiKoEJ1i4b/4CjqzMFCYvZydnYbG+V5I0HbqH2K03ogk\n",
       "KosFDyDnAJBiz8X15Civymc10x6uu3rGjkuRuJ/BbnDWpSlRH/0KvTN7fv7RBGdc7piDNdq7EaqW\n",
       "rcWbnXZcVyC5/T/GJDiRiPrxWkH/LGERESTMFhoZKUVaB8TeJx+O28RgeqJaUlVP831b7CO/d8hI\n",
       "IepsDC5yRC2FD6a5Yu+9pBeNACrIpJ/fV4jQ8LWg6QAAAlxBmqtJqEFsmUwId//+qZYALKIa77O8\n",
       "n+ycnsAzY1O7czfwnB1tgvtQhQhJxNB2k5LiN3YbMz5EVBSc2ua7++8o/RfW6vpzrM4Nl9UeoqPL\n",
       "/MIj5yrvgMUp2lOmHHd39EAlHm/WKQ4QeER3MI5MlDr8FyCGc5Bnt+hcq+zwKeziLb6+csmdsIBo\n",
       "W9zR46ma+sEM3pGbfQgizrAk2lB/6sse/ozlP1G4ExGKgw/HLkGzLvWvJC06U4rzX/UdLyPIUoj4\n",
       "X2dMPfV4MgjPECZbQyBOlZ+0QevTUcvHAEdocfUtYOOuuFTqQUgNHdEmuhgNNVf2K0pKlUbJj5QT\n",
       "h0YlNekK+mUv/n/NLCUQ3vVOuQxaP+Wy+eOCOpP8LGhJIg7BpRC9RC6FGy9poZ+U5kl5Wrfe4RmX\n",
       "pV5IwkfWOScuqsh2kYDbrVAgdrUmDi46Hgjocf50jdhrEoCYICCUXKPWOI6kR0190rR92R4AHcNn\n",
       "hBGJPnlwve5TTphlj5J/Di/PhXoumG32vX6HuvrGcR+mAkrSX9vWOFDfM/lsp74e3KbHuNp9JmLa\n",
       "8y7I0mTuZXPCVi9wo1UZpBNtskS4jg1/VR0DuO9LWznxv5iYF70xDvCft65zgJ+bgUUUOvp+6W0W\n",
       "Qt2mcFv5Fm6M/nE2zMG2DWKvvqt2jzHMYy4J0/ibqaPZ/TDOmHrAGIdyykqI9PZrhPf95SZuhqdQ\n",
       "kMr3Rur6eYiSwnf8lSKYV3kV29LJRABCosg4yBH0kN2lKGa/M24TkOWF1IUPpD+pAAYCzIVEA4UZ\n",
       "h5ZMHYBfWhNZu2rAAAABkkGeyUUVLC//ADTCG3R58+pKyh9vNe4FlWeche2x0iwdoM1iwLCjaswG\n",
       "r3IYADDqSaH5ok/LLN6Ug9p3BTwUKcEjoSuEXJgrTnQu1zum+942ZwUL/6svAhhGE2UBIzhFj9OJ\n",
       "wUDobYSZKktfVSjPm8UpZcJm8RaQG0KnY1xmOcnboCanqV1T+1UFQ9bvVehUx5/Ay9RfcHPC6FPe\n",
       "xy1i75hpYQU17+r1wcdej66FedZAwEieu3wQ8Gt1KaWB7IBXWoJqsBiJzM2vQzufy/EDWyYBTOtT\n",
       "/PL0cYmnxGvU360XpU93a5iQFxFlNFZX6E4i6iUpqzlgL5AOBKgIbz00R6NXOqQ6/toPJGWtPz7I\n",
       "eKwP49dHviSj6WqtexJO8X3cH4I3k3wowSonPzGzQfvnQqqtdBCM+h7Teb9anj8Y+sn+ttC0fmj9\n",
       "4jvv+T4n2KEoQ51i+B+ur0sneb34jC9Z6W1d65B/BS6E6AEB2V+k+3/2Y5kF7o92D+jdJO9706dq\n",
       "uF7EF7FHcBzMJdObyptMJ7D9gAAAAXYBnuh0Qr8AR12rAkkh9RKxKJVlONLZaP9Tb/C9ImroAs0x\n",
       "+eLPZsuzyUuGLs677z+8rjf2ZwtWBXZCI6L3zkIDwpzmWpgUipZaBTv9Fuc6jNANk0T+jpFFQWAT\n",
       "gUZOL7Px6PgkngQLuzHgpAqjk9F1ZphmQtyxMvcc5mqQUQZaDw7z+e0ed+6VlMunogKu6KPD5nfH\n",
       "2AcMFaGz072pqQuWeotGTcWOGfkmk5XWVTGe6FjMosVbgo/wMut+TMi9V4X6q/Yxz6gzlGS9J7cN\n",
       "k1wLIlVKZgAlbIrWH+JtWynzhPjMmgYZzwzWkPTaSaiRqigeoJyzbtNzt/A/3eiWxb1xIB6XO0x5\n",
       "HVb5PDo25TWqvT/9rgQe4C7U4PJpPxZEF4D71aOIOqq7kdhpOMro9IScaG9Gy0VmABEd7W8GctS3\n",
       "VImj+FDBzV80XiAS5Kzqv+sIroLBp8k2QN0E3dFGTtujZ4WDgu/meIvOYvbK5lujeUt6M66OgQAA\n",
       "AdQBnupqQr8AJctAr0peCnremIyvOAFrgErRx9D1013IQSahQM4/9Y+52H0vpSmXp3M+MII0vd+x\n",
       "f/PKXFaV/yrfEJp22+av5swiJ/VlO+cAWZfOMKyCaFMetb6p4K5PmKWJz+7qbFqEZfLEyC6rnwxu\n",
       "dJC2mwAXtStIDajmWdOwVzYlto2j1Bwrcx8HqFHZTTkK5PSefMudqat2p/jKw1ac1j5VK9BedC28\n",
       "6KJ7+SUy+jwzjERfFOCfYjCcjfJk96DoSMSdlxX2DTtnN5rJrvm+QaYPC4TPK0ra0ax+toaf9UN2\n",
       "Pec7XQmvSv4Wj27zZ3mo2lVYebDcEUVS3F+4q1yXvXyse3Tngto7cwvOh1pztAZMIHsJ2gQEh+GQ\n",
       "4qC+yClhbE/ELyQfhPHKTPOV9ZQDgzSGNg257zW+pX/tBaDIsdrvGvgH834j0Bns7JSrLM0zJ8a3\n",
       "+39tq762zAzDGVSku+GsW+48eaDSQV1oGXspnu4Oxc0+X6PAPWCpLgZkH7K5vPgtQZY9Ax7QQpea\n",
       "Kb2NzbXEQjLWcm5y6L0l6zlJGihZU4/KSZYk08YA01+QhYkSMB0vG19R+FftniH+BM8n1XZpSh6F\n",
       "FMwtX8DoX8lfv5XtmNAAAAJHQZrvSahBbJlMCHf//qmWACuKJgcysXYKLc1plxpkXNm4+TAujACk\n",
       "ZQi9ncYD2WgAWmikcn0vFqI3XJUahXQ4dTvH0vqAgVbecnH/3+FvWzkH1eBjanU1J6aJ+IbkcJ/x\n",
       "80/uG90IeA24ug2rJQvxLCprQOhY+iDGvc+KWr+hB4kUF2M5FUB35ZwMMFv8k/yd3ZcJw/71sGXf\n",
       "rnFS9loKERneUyyYmFAc9wH+jnqoM31eEos9MPcFZbaTC9yfehEamgWlBkoaazd3a6TBj7AfppAi\n",
       "OQmchvndi2ZD7gOfIriyoTk+wmQn5J1U+x+o5MVVAA2qGzF/OOti1yJQQGNQLjc3ka0EtbuaKIiN\n",
       "P7iXn9eYCpuLvLu9VpXkLDOKTI9xkH+7GLdS2ZFK/CpZpks/Gnik9oYfBorFZGo4eZiJGAxDfG3T\n",
       "pV7qm6f5WLhjr4HG2B9Mq2+rE6skGCNR9t+40lV3u7YZG9+yGiTAI68GLEtl4bSoMeEVOc1IpxZ2\n",
       "xMUW8EiQzLwYNF2/Z1IXUWgmbrd6ZP53dfrAULTAdyNfL9L1EEznAxYuhHwpnvzGWoMxYb7vqf5W\n",
       "6t6RV+lbph87Deb+hLZlQqwvr7YCmL48empKyTQlyh/upX45qbxo2Eu1AIrN4cWL/PSZKjn+aFuP\n",
       "lglIhNf43HwNQsCCC2PvpVJ1J6QfMau847UKsQhtZcGWZv+T1tEcugK85PDubtaXjydiOM3IUiLa\n",
       "AU01A2B/ya9UsGHIGs6LHkT++KBbtXGPdiiiEYiQMAAAAVVBnw1FFSwv/wAzir7E25itYFPJShD+\n",
       "TRIgGO+2mlr9vIt6FW1+yd4lqWZfl0dQfLazi3e7wbqyw0J4K09bawvTI4LzkeCRSrShWRr5iKq9\n",
       "0qebjBBp6EUOwxIkoV2/6OQm1dn90pvNFGFH8smmjfTe/I0ebPrqI520XigRan5kBxmBvgg5UOSZ\n",
       "WzAGDqkuZBT48J92KPYM6TvSanLKci8+c9fnalCXN60A4HBrBQmhK5dl64kEbHBG1gzf/AHFlHKl\n",
       "KWSdI+RuI6zqocgSY+LIK2AkXgu9G9b0pWIKN23VI6Zmhllj9cUmSVo6WF5IzdHUQCkb5j/dZB6I\n",
       "NdfNjlE05Ve3ywIhpE9zt90EPce64QxKWi09P7sVTZ3Jw8Lopn/pCmRnd6eiXDQ+UzxC4wf77SdM\n",
       "tSkYCPc+Bk8EjPNhTcSiGwbZ/cQaiuiHe7z1mSlo9a/YgQAAAbkBnyx0Qr8AR5Y03b+3Tp8FE1OV\n",
       "XFNIpO7i1s0Kz2KYABcXy+oIMyVqO+crXMpfjfthqHgrwZHsayTWaW+jCnLLTyE49Ktbn9gRTTdZ\n",
       "SifrdfPGAU45DALyB1dl6BHwgsrDe9EyOqL/MSi7uxLBXm2sspYlNRrCioOiaqGzJH9cZOY+N6Di\n",
       "0rwR4r3gd5ZH2qY65+tiUZ1oSzZIl4Pc3zX4l8gUxoDMzBQFqfk5XUaycjWpU4Q5yMl4El5fFkxx\n",
       "Y+V5ZNAY4l3WLPY7K28OO8T7lVY08NFTUljCUexAaQ7+qLDESzD0QNzHAKpIfA6sdd9y+p3385gp\n",
       "oDUL+Cc1PNu6ZOR9fjvlKq4ErX3da2rM9VhhZLFUhFlT5dWaes4/MHE2jCdrB01OnDDAlc/xhijD\n",
       "jBPQGN8iR2/Z/DXHsUTA1nQj9peUyytMzy0qLWmdZrHP+RAWXPdCL2JkDozpz+tpgVvLd6NTMah0\n",
       "8nfhzjkO6+pDAzXj/Q6lHpN9BtOGwRxHhzs3h+5vphLEBHe21oBEUtyXtNO3GhIzp34TrfBtre7d\n",
       "bnVXc/XGuxL9Ec3DWVUIoDH9TFGdM+EAAAF+AZ8uakK/AEc1FvXBlcZfvl4maB2RqknfbrtMRmlu\n",
       "AFrgErRx9D1013IQcg/YCqBF0qRIDyr97yrbb0MNF249hPJE33UNFnFlqykqjBJgkSdrvxcsNOUx\n",
       "AXtextsSiPbJvGDlRlMfBV1h2Uzd1bT5JFNG0nEhLw/OS3zkPOgYwU799QE7B1ucS3UIErQ3J5Nr\n",
       "CG0iV82Y3DqOtICXapxI/apkig2q2b34Ci6JPGFisHnStus8tRUpaA9s6Vqr0NXtrOP7zJPnR0US\n",
       "ADM4uxn1XF9JJFhrZ41bJKhn3HtxDeQ3beJEsb/kFKZ7uq7S0XP1/WcKQxZ3PPeibehGt7ZVPo83\n",
       "E8lz0OLHDK1zfdheJvO3SYinSFziO2Vc/TeZYQvFl37jaVqzXbTfR97KXBhkXWAbRwzoMIrk3Glw\n",
       "/Odbd2rKszxC0dbSZ6LZXaWjvxKyAfLsvrzMzxKFkuf2MPTX5hrFaR6Ji/8k5ylVRWe6/DXjPHdo\n",
       "7EhpNdq/3j8zhQAAAfBBmzNJqEFsmUwId//+qZYALf8ChJmeeIJ9aKdgyFH9Ypy0aHst9HazJMF3\n",
       "ZO6o3LFR9IRZHlpsY7J9N42wjFmMHbVZoV7j3Ovm0/fOARz/gy/ra131oNdOAmv/HCkcbGH2j5OC\n",
       "+TA1W+bi9qHdXVIL3gN9Je+YdR45Btzg7jhVV2YTM8+1O0kXR0tB/c+51gl7VxayPD/SsSlKbthf\n",
       "yx4vtWxYox1F34/38z+dgcYemGkEq6O5UBbA3m9S5NK47wE7vskJZT+W9sNUy0Z03GxYceHVzheA\n",
       "DgTP+ZwMUhvsZER8UzhV3KjUsi5YY4W71tdbf/X6thKkaxe5ktu8AGv7wZ6WK7jkPr2d/h8xB2cV\n",
       "pz7+Ju17Pye2mcrx/xZv57o38UB6P8WUPD4F3JoyItZcyww/hHcNM2P8CW0P97yWu4b/MW2f/hrp\n",
       "O1J2JmyP8n5Nh+JU24HqKPCrKB/+szj8go+9J1MyZaLngcdC2jh/41SuONzK/eLE03+TzoQ0GyWb\n",
       "pV/KZdyBL11jV1jcnvhATHlQIYLWwCqxkDbUwqkH9apsc/c6icf0xGUj0ySFq4xTVDVPJ5ZBAa2U\n",
       "2OdizLlf1GIl6ekJxfhYXgZTxoqEycJ3/vFQ+Uy+nkGRkzuMnuBAn8Uounr065eyfI6ThlsCAAAC\n",
       "MkGfUUUVLC//ADWFL8FHaAAD8WuEyJZjTUdXIQcl8wkCEX7mewRUyg3Bu9tehfXD/kpZQMTpPx5b\n",
       "f0bY9ysYWssyJnNjf1kUfu38wIzDVnzABF5ZwXkgjdd6k3fr3WU1LJO574396VOxmrFu2Q262LkD\n",
       "e/Dr1SO5mB34kwh+h02++3vYUiddUe6G11BUJXnHmn1tj5cafkMn3zx9g0eYJS0c3BSdEVchTAmg\n",
       "BOZ4Qyz+m0KsfxGNGruUJjDC/wfDMRQ/mA8HaSMvZOLqbk58OrqhvqrzFDpeIuEvsQBS4wdOby8b\n",
       "qFAHaJ8Hqk8uFCgp1U5sD5ly+wG3nWkf1+LHTNKzwlGekjatLQrOMmvPsdz+bx0yoaMLUlaZ7fYO\n",
       "JJBQWHDDcvcxH/zsboqSBjF7DknIfNsoOwI3ldm2NGfBAWKFk+zJwRvFOsWkwVGDynDyq+rUrQ9x\n",
       "Zvdt/yYfZnpl+ne41ZLqCl4QGtTx/pSQkRiuhIu0eg+j0oewf/+1rygW0O5sAmRF5eENUgWLHYCm\n",
       "EWEoTIxJ3W41PcNh/eeSG9g07hEwukx9sz6xHI0G3DiISNNEX6TsIi6bqgcgEKhXnEc4wUH3JAiC\n",
       "A7uhUYLXpYvcGE7HfdR7UHZ3SIL1sozOSb5EvCYwV0kAqzB+iPqVxXU+Tu8c/12se7l8NIt1whL5\n",
       "VUTeWTDvkIHig8IVg8fMAgsdUdB9riNFrUEuYMB796/ve6Fpo38DHNF0OoUuH6IT0kAAAAFbAZ9w\n",
       "dEK/AEl8GM/ge9wR2aB4wPH5RGFK+zGfh0z3UEZzjnwsvOHDvUQpJEJfWzVzmzrP/mycsYStHJqT\n",
       "JPUTj9COIjnHWHp2JZ37LCtCQ8Vxe2GHPgC+w6kYFc58b550djPajycrGKPMiPYHXDnSZbklzy+U\n",
       "KYYrjLd2FPfHhDsuLkP70/+EFuCMyn3Nu0Yq3W3jog+gZaM01/1cgCaBr5UJu23gus+cU8mwul6i\n",
       "hlXFaPpdmOSd64ryjH/nih8ne5f7qtA+E1bW3C+HKkqU013kUVGa5bWh8kwCPH4DktUjvv6QOdZ0\n",
       "RfA7FNqjbP1S3hE5kPXResMOq/0ZXyexmn4eIY2Ml1VdCmRr+KSujtOErSn0o6+8Q3QaqrMd2vsE\n",
       "dOl1jM9YK2ZuBUt/x8V+LMsFEC2+bpjDXK8UTC9u81SuGcwaYnzvoHmzRhqFTTH+lytwVqFDoioM\n",
       "VTEAAAGAAZ9yakK/AEljR7y/exMAFsQtawfyIkiU/Pp5/BAfT599CvcVKkjc8WeZMuwC2bq5sU2j\n",
       "Pm2w51UKIFus/uyjX8So2AeEz6RuQUzy8KwK/kyCFvTevVyjz/Vs5jzmLq+CRnLDiMHsq3SpLvwd\n",
       "ui1jto1nYOg9rK0JSDghNjCPkDNaaG2juPIYQq1ugTmVlwnWFxYsaWscv7YDCiQ870nZ1eyUXQA5\n",
       "yCXKHinjC4u/yYnLf7Hqr5Uy3VT2Cuv+td3Z6M3h76zmrj88V908oldUIhgPRZBLBCfNvZKIogzn\n",
       "0Z26oDqoDjAj932kFqY/nXdJbrJ97moMU7hfGUkMgjdvIqJEL/yFkOhtCxKzj2G/P59P+tlr+JPZ\n",
       "5PlcrTFsx4FwOZQs+B3XW3+RJbmgBEsgxnyx3P2/RVFWRSilgrQ/Q+GmpcqH6uVI+Km2ERbyCYGK\n",
       "L7ZiJ2J4t3M9MfM5ZcVOEPd9Lfp+TBrSccYOBnxbt0E0ech2arsfjUODjWKHtqFrAAACHUGbd0mo\n",
       "QWyZTAh3//6plgAsnxymdAAqBHimyqnv84Fu8lH8q6Lm+IDxn8/qSyhyNzhAN1xYYhP4HcQm/grn\n",
       "Nsc5xWuHKKPsPJxrr/ml6yH6jw8s8ms1vfQmfX6B15Sdf2siBAvKsdmL895T5SoFQhAbPf+M0A7o\n",
       "uQCJ5xFEsaSvUHtV13AseRAgVPrmZNvIS4rm18PmUj0MIys9FH8QBbz5IWhwe42HIZ5bvoOhtaEt\n",
       "Bi9jRWmKx/H+iygsCZExQOqRW3iYWVi7DAXJPaeFOzEJcMUeRcV0U7n6lKqYta9HRkPitJTZcGKH\n",
       "zHkgFkKtirVzaT577BZvO/60a/Oux/TRI9uRlPZUr9d22wmOnGaee8mhCqr7h4e2oVNGJ7koFtox\n",
       "fh0s0+g+5Lmcn5GvFiYHi1lv8DhOq0XN2JQx+59nApP39hx2D4eM1OFOnR+NHfQDN/wLdJC9ng+I\n",
       "e/1hpE39uoGv0lZBtLgN3+NXZ+SZqf64NcEDX9zOr8KsvX3E1RbFbZR7avsBc+ynrQlxit0Y+ACd\n",
       "+uujPC5HpcM134vTGSheyMPMRSo9XyRwTusvq7R4HvGLbe7raexHvnyulFN0NHEL+Mo/Mc2HH1W2\n",
       "WI4iQnvTjAR59/74n/F0b+4Uwts2P6UV/uknC8TpYV/RRdjZwegUyxowe0O890HUeMg09Nx5oLY/\n",
       "H0u82v3aY7P0g9X+60W/V0CrY/CHdWwAAAHuQZ+VRRUsL/8ANL6PfgAEajcs3Poe1UjI4fwXP9SG\n",
       "mnK2PdoopceBC5RkSpkjA8MfZMm/2krfFL4rPyej+IXNCvLDpGVZJc3VCYgs8VlsZqOxEqmxG7Lr\n",
       "fglt0dZqXJoodIGseSWQnRk39YP2wZ7fsjFJW6ynP3otsBq05aZuKrh3Ozxs3RnN8W/a0M/evMLH\n",
       "BOsDDscdgIsSXzX5F35E3OP/i6y3oNH25YWDxeY2cF5Hgc3yBXmJMiUaNQjPs/HUdmplg6ZavwgT\n",
       "KcjMv7s95zlOBKC70pUDzN4z4bBvapP9G59lpBGQsDQU7yHlOc/dCewhN2P8eQHyctYSvXiynP50\n",
       "We78sVYNh7PARosXub5VcsAR/LNn1nnHWl4E5J7eMIf7ZLT7ulPHpglQgAjNx8Ra7QRShvDZ28gk\n",
       "b0Izn6M0rTbko/iyWtBszQ+JaukmmCuQRbI5D2hbbKNI+mWPiaZclS11buJ/MKQO08im1WRq4z2Z\n",
       "YBcS4GwlgEPWJbmyX2YlT1Kor8ZtLxvnf6hJkA5vv6WjxXojgWi7KBVzRBILgGiH2Nj3eXeu1c4g\n",
       "H9U7B4HalpbEgWYueFPwewNe1u2/GNQMB3QmXwTH28IZz+koMsH0YktiVGvLzXIoBw3U942xRq1w\n",
       "UIO2fCLqKjEAAAE6AZ+0dEK/AEds4SvgqGoAL0YfZKpqBHa24ffzELjqgPPX1NfG5z+QfLxZB3Gj\n",
       "kZxMvBugvWGCsnmBYObTFq5dIU2aVW1EOoJ/dg/Rw/HeuHmfaq7f98UepnntrvhLUowP8xaFeudm\n",
       "14TEnpsFRkhCdzFPG/0QYgsj7PLi9osw41mxYDLli2b2+I02v0EpwTWRuKgGdwJEydxwVfx1e24F\n",
       "EK+WiuhWEAinrwlOsgAW3IPeZ9GzejEtpMhVztt9QGESDNF1AtwWguuXKtYEwOjbpKwIEVFNuycH\n",
       "w2IFqcEsVgHFA8mN386LIlsIxwDXY8eh+XWdjliLn8fRQvIX1wcvharXoeMs3NXRgsrVYpz7vcGI\n",
       "N7+U+V8XEYBikGWvIWElKdAD6U+8b6lFkhGvB3blqLAEiFtM7oz8LWAAAAGsAZ+2akK/AEZy7uyO\n",
       "/iLPF3mGEDABniE3QAwdCAYlUnXYQk1ghfyd5Z+NlR/SxgxlAAyC5tEYTethhRxAgi4D8R1bH70Z\n",
       "HGCPgbH5zm489//WKSNRvN4416X9tvtB4PDWrkDWI+B3FfydMJG5rAeuk0QkNlaELCMpC/+Mk1ON\n",
       "0G+xAihQuWChmmJV36fthx8E7EG0UhzK2U4WCY4ZYFdwJ8zqI68tooQYaakDN+4xWJDuzMc+Piic\n",
       "y/n5gbjSffFjnyNZEAOUIk78FMonsZSGr7WVPMXCpPuxxQ8ik5tsJfgt55Ln1RqvS+uH1iytqYAe\n",
       "eMEa86toIJboqcmd/ID65ytJ20o5q5gmOE6pjFbdw50J97f/4ESvm1a0Sy7NHsT12zzdgmmNi4xb\n",
       "Pa6Q6O7Kx7h526dRJvry8f9rUjp2vYm0E0KgZTzKh3YorN3F0GD+leH141XacfYztNen8MCVAJba\n",
       "3fhPMK3p/zv2TmjGwk/r6S7DajCKjH2ItZ+T6TwsPeqK7oPj7FximTqmja9g53DMXEecVlR1+NEi\n",
       "llHG/miANVMQ9PrTSr0AvIEAAAHqQZu7SahBbJlMCG///qeEAFj94RA/I0tb5AAqPFGaIwQ2ViBn\n",
       "KsKei9nzebRfCmNYStlJhObo3AlCtxnFGd1Z9JhVs9uXsgEubpFJiOsfcfzqjC83c9HSAswspcqZ\n",
       "Ob7jQAoBk3PPSsVZSWn+DiP5Na4moK7gRdwcJMrpTNYf9b3G+40cYMTJY+TfCF7Mr4494DOsTwCn\n",
       "Ybu8OIE9MWFBUIb2NTYyYCB5uj7axWxL9L4gwo3QRZvVcRZ0tJY9EQYXRmH3Fne/6nUWMskBIvpw\n",
       "EhHGkZ5GkuEugYMpzwSLOWglkTfYKwFslM1ZKfQ0pBW05jwVuE7Dx4AhbD3UFmrLBLi/WYfylk8K\n",
       "avvEM7cdZfecfV9Pi0mhDehyAkQAM2unaqBEoq1+hsgis49gxU32IAKoCqN8sFHT6plWXOJMxEeo\n",
       "iE6Ct8lYdN27DrzpnpRB2hVFtHmbcJLW0oKvkGKNnrKTx+9QxoMyYnj67nr4zXNi5Ui7K5TMrfe4\n",
       "n7DSc/U1L07mCjlr4UbAtDRmAhbjLtIl3Hirik/6/jIcjZxOjneQtKjpq5QOU/AW9uBs109wr/21\n",
       "6XQHKS4gu56DrJ8dbHRq1KEaotI8HiEIwnE9i+363c7Kf3onqVfNXKlPJjjSSVCQy6daFl6edQAA\n",
       "AeBBn9lFFSwv/wA00RCc304AWNny6ErdPl9YAJHLP2X7QgAZ8s9kbUD1AxmhfhVgCK1+aHn8yJlT\n",
       "7iNyeDLBs5ZFQS1ylxqqwyZ42eqFbHuzQeLDs79aCJC5uJjkOAKoYyBulfNwNqYgacrvHEGu9LRO\n",
       "ktlp5yWBhKqAn+cr9WGYnm6h8zJH8sfD4fk9SpJrZCOc9w/fdwq3YEL1ufBrvlae9522E7FYzbTg\n",
       "WMzhD3yndXzu1Fj65tJASidxzGzDxhES6215obTU9fj4YVq7+612OinCP1d1N9OASbtqPRYc6gbW\n",
       "TK+muDghKmEQQBq5WNukB/CYOlBkXGE1nx4+bFl8gupulF96GhCn0nqa63CMXC1B2kn1pY8EdG3E\n",
       "AQxBH8KAfy4q90JsO4PGLg/je+6rjLdXjRqzuQYI6P7QNdtK+AnQphlatZh2Kqkc6VYux31CynNk\n",
       "+YN2DVVbjTDeP20AhcQNPkqt63loghbkcfC9CBb2j+todzQ5ZLGo3zLR+lha4OGFzWQkxg73Th5v\n",
       "xM8HyVkzshbXegjHIB2se/6+Wb3y5nqgOo0oeOuhAi77BTiP5EZoERyaZmz0qX7HWWoCN/VJwr7F\n",
       "+LUqAPQ7W4KrFQ+4K7PPj2bgbnpd5Mng+cAAAAIgAZ/4dEK/AEd8GR3NXrTEcVybVJn6yv2gA8NC\n",
       "JzL2Q4QYTn1DasGPuiYE3vl5U6hEMFsmzacgJKmdD9bmjaOCcKpn1zboj3YlOyK0GSnkwMim0LeK\n",
       "vMVOOJT2idVxDTYHMbhf68vw4ZUOSb100SwmISLKcb+Ujorky9+82yM+CZ8J6wMe2dIXmRqcIUN/\n",
       "coz3tb2MwK2oZZyameS8EPPijZFCsdCbRDCzVu5dgZ9CuNTvnc+DPCOObmFs86Gt0r8XA5PPHDOr\n",
       "8DNUjRchMIkkHLY/iqMlqmv14HZpMW2n/KH6vfWLI0cX4Z1/QH7d9CTWe7VGJi99FkAYesegkdwE\n",
       "DomRCFUBcuOPQ35AiOfxaFUWy9DHFnB0+sYZ32WfTLLn+NOwC+Qa/I4FydgvlFwUq5PmCoyh/jjZ\n",
       "tPFTlpTgNkYccr2t9Vb06WBJfYj1Cidx6dj3vIhW3Ac2nruB66Abo9T57CLVNP4AbRzxoGcbbMFe\n",
       "X7+zVStxJJXYUqIZ/RSqpAvYM/m7kja7nnJpBr1z17aSxTRYj2T0mUN2h9XJr53rwupwVmK0CtDL\n",
       "ZjHwNSnVDUNOfm9c7B//DRDVUeylVIkv9P5A4sBuAwg7DW4pCeAkMZZGGJAITnQ8GO0C5U4ZHpQv\n",
       "+Cs0dQViUUEm7GAV2Kf0akddciS+IBDs913WhLYxPhkmkmi+u7iIVnC2mr2CfS0FeTmst6w2efzy\n",
       "OZ/2WQAAAjsBn/pqQr8AR2RHPWwUiPWx6i2xPUBoANyGEiXlfl30D/S17jWZxxd5Xr0QC3ximkHK\n",
       "NtShgGQBC+XJ/BE6HASqnsRazJJkIN+WJ4iG7JWkXDfAcSmMytW85LR/UFrvc6eJDIWCTf5CeaEe\n",
       "vv5bzNy/+SbtJFk6UubUkFgncrysgL/Wxb0OKv4NLg5fXnrvAWnK93EkdoSA+dCe9SXrPG+N/GGq\n",
       "Fkz/RmUF1yr3AASmdw70/HN8E/NMOW360QZs4bSqA1/udXZt11RVoaNtmbW74dnP1j+9lugduDTZ\n",
       "SUSBNYC4qmypCEdq9L007AvbdwQctRfsr3ctxxPWgTIf6eRMNDQGkHNiZnbaJbhB6ueMHe1XQEUa\n",
       "IOziKR7hCMKk+ljxwtHleqEix4+ZM7hASoiLB2V51ucJ6JGIjon6eouJRa13uuAgoU5An8zXFggk\n",
       "4Pkn9UFgrk425VdXznJxEM4a8AllqGN3GgGkQv8GtsGFERvztFHOCrvlO1/V+MCkhWp3JPcQbEET\n",
       "IOFC9apVvQ6nVybLEF8AB8ICWn28IrtFjMVlzZmdtbFH9hNtmhPvZC1g31LwMfMFWWghwZ9vuGTq\n",
       "oL9hZ5FvGMqciS0om8Oy6/U3ZpD2sxdL7RBWwZaD/8HYzH28udQO8YE1inE1S78GwGPQL6+BvAyh\n",
       "BY7pZW4nyW58H7sDOm/v6/xHT544Euao2Ks/4J8lhZc4oqbOXFCn14aymUMjfj5kbXlWnE2WVFTQ\n",
       "WFSeg0n+7a3AAAACSUGb/0moQWyZTAhn//6eEAFZB32avz6iI43j1CgA1EFvpZG8X1irKtHcZzTa\n",
       "eoOUD5ZUbhi+USzTkiQCUq8lFJWQzaxj7+o5RpT9T+UxOx0f1tx1uTG+YIh3VwZd5GvAnRejJsOa\n",
       "wmtWEmsvlA6FVdf2kcHMlbMoUshsxOjEXtMPRj3qBuBhM3sKaSHixCErcedsTsyOfjBXkVPMShqc\n",
       "isHRS3uR49kgYTpxXOLuA6VwBMxO40/4llIU16Q3krKBuI5qyFZH/goHOFsDOxr8yq2pyyu2ERMH\n",
       "wJtwvIQp5RwZ56yUesWNXR3VHKkZ0xrNv2GoouSyroFS/v8FPeINFHUDb7m5NrgoWGGjV4dwTFL5\n",
       "dwXK44AU51HYzATTqLO+BHvoWwCJuTUCcG34JqL/w4mPgABCS8vHjEAn42qqvXvueAQyYzMmYEOc\n",
       "zftR9g0rpyHs33+RVO0m0CXp+LzWy+E3PykDPqA+O/eEyv1JTDTPRUv6z/YtkKRUkznZ74PG+FeX\n",
       "SXeCw4eHExfrwMJBrPnElixjqJ818Zy5sXRrvAW990vem54HkP0q+zJJyPit9bfWVUs36kr/W4Sx\n",
       "uqGZaRepGddZ3moEGAwjFZ8ZTLe+81LpBxfERO705WAulGaTFGtHIpTSnk3vpMwN2ffAFKd34nq1\n",
       "GvRd507SbShYp1KkpC0XjmZ7TDUZLyUCMwIthhBTkCR0BDRWHnYvO6xzzCCWnNESHSRvxHvMnUPN\n",
       "UioeUzPrtP1xT8mTUq9J+UpIHQzRqwd2z4EKYQAAAW5Bnh1FFSwv/wA0yl/VqcUQVGK9cAC52h6h\n",
       "Z6mt78sv4Yxir92CwQF8N+31NGjWucO/nrFt8Gl8jnHl16P2DzA35r0zrwX1Ycg6Z5DC1wnVDxHC\n",
       "pMAQVVf0JEdhIKRF1hs23+ON1IsM/Y1cASkC9i5dlO7zdEWmqkIo79YGfO826tS5R81d9TswRjRW\n",
       "2ZNOBOmSt2dY4bu5vgSYOXii0PC6q2iUFek+LNlpgJRk2Pr/Zwf7pC+Fy0KCuFEe347NRGBHX4DE\n",
       "zEKsJ9dOjjBuZouyEyuCeRpQD1hftTdG4VPPoY2wpIdDfASs2JTiUGiyOhKWI+tJLdI0aa4boAIE\n",
       "5/3tMvap9GMLF2yM2C0ad+/OiZkiDj24cCkcaAuqFxWkMHSNWQ6KDqgxKEsEKHoFcrLpI4CSOR4G\n",
       "/DZOPAQWikHQOM4b+bPxfd6ibciekMJoT0dPKlKoiWskhfGBaVc66AHTRQZxj/EdHLANUf7Fm20A\n",
       "AAFvAZ48dEK/AEVc2N87DaYjNK0ALXAJWjj6HrpruQg4/gyL3+fd5fSHghzT0+Jmxfz+MXLbpAY7\n",
       "6ssdcXmrhUnaJwJgTgDA2S1IgmDqDFBkUZ/b3M6k7rQQ0GvjXcOCF9hgKjl+ikUaWxMB/lWf08tY\n",
       "EGgFEOpJEJHiGWh9gDgPZ0shgAYRg7oVWmnuV98Wvxj/3VZ53PdnBnOIOBb4xMSqzphmfCows7Ok\n",
       "3AHa8pHbu88kkvUPz12Yk0v1RbfG40FmXcXL6xeHpMg+NebxtC02BvzVAtDd7LIpZ0bUjnWlG3qh\n",
       "ihZYDA+ILJg0/aA0Q9ilnksKjDqjfLmQZR3KsZgU3wO+TVNVpxfYR7tqpcyANxiJUF6NQsusUltQ\n",
       "JdeEvRanJ6Ry1Ge0SY5wuZT9RdXgnX+oPFhkArPkfVQYppYuGPmLsp7Sl0FtqsYaiwcUrqu7GmAc\n",
       "cJO2Hc7r7jTB2s5/6A0VlIZuqAaOIF/teVMHsAAAAUsBnj5qQr8AR3Xjno8CRyUdYGkxV5wv7LhT\n",
       "l63/aagF008mqmCxoa9BFrdr4+4k7rRyGAek4Z+VEdruwif0a+7f9FKrDspzGUqZzY5xq9KCdjSk\n",
       "fee/3HDQsoYLaXvQ7Scf08v5+YG8XBTj+vRCrlME2OSnMDVGpG3NpLiO84BSuNjwwk3fqRp65Et6\n",
       "X4dO80BVLpRp3oaCCfhP7KEffFLSeXMIr2uvkCHZ9APiijuLmidMiBCNWTqQk4I0F1ZS4eKL1qEY\n",
       "0uMgRu1WrVg7xV1AOIgTMZsRKH+0OdSMpaiZkDsri64oBP99cUorNHKl8K+Hwb1adgy6YFk8MB2a\n",
       "j7ofWiR13ZgEnIR3M6YGtOLRCpRGT4GncetiP4XGt4hBdNnEV5X73fiASL4DYP1Ai7N0X79ydrt8\n",
       "nn5dZc9n9i15+em8TLqAE8gAsgJgAAAB1kGaI0moQWyZTAhX//44QAU/ToF82qSFcgIC/OhYAOcF\n",
       "YvWGCqixTPOBZcIWmcOM149nVsUH9PLl4OK0Oiv0Id+8SwElbBAgrqVYH/+A9NUSXELM0npykY2P\n",
       "UmB572KD/sZQ5/tDrcoA3ryakPRqibT1p1nExvj8l4KBukyoj4zI19Lx/CkpdXfB/iUAc5MoenzV\n",
       "48b+14SDw6lv9FR3/raWnKeJKHUhGXvVuLf6GRgJXeZDi+DFRdOoVb/EpOHHstB1SnsDaW3Myhfz\n",
       "jxtzVKw4l/st4CvGrV6VHkn0yf5s4JBmTXtpG0n2fVgI4Q1F1/EwaRNYwqFbc/qcRlrRwwgp3v4v\n",
       "uzD6AnwdlaYJMG0JRz4o35IKQhPDsVApbdT7SLkCXMnapuwPz9xRHEyQ1evnS0EliRVtlcKjdpno\n",
       "c4k5PpPYBCRbKs8aoLDFx44/PUTR91+3yYEUtLaBg5V4SxOMAE2rbYiMFc2ZBmLR9AbFv2iSY3jM\n",
       "xk+wSpdgaRnee5Bls83j8TSiBULtOxYt1wvh57xSpFgU2SeWP2iqaRxOaS8Iv+Zb2rS3MOobJtz1\n",
       "hI+XhfmoLDQiZH+A3Ntpv0r+j0oi8JuprW+ylGnMjn2VUT1D8nCxAAAB6EGeQUUVLC//ADTRLj7A\n",
       "qyWBrmgtfv6Fk8TbJXHdAkc0sqj5EB+oixiSjmT5P7VrAeRyapIxr2kZB+l3MVNkZW6v0nd/xgsp\n",
       "OtwKV3DwLjQzZWjVK90ihLmR7k6tmgq6kiX+eLyyHzbCYuV5f1UOKsVMQtT8dz00vxeDpLP7pXlj\n",
       "5iPN1xRt/PDsyda5VbRX90MV0VM+chIK31cufxexDBXOoEK3yqlXtGvqIqFaDlRIO3QJCFCtYUgI\n",
       "K36AWK9Ot+0HXvqK2HF/c+umjIQHWWDl0gCgJbWKUSIrtfqsv7KgHlGJpQeUlHsKUS5R1Xm3LLNJ\n",
       "dOqIyHvkt8Bq3fodHhghZtPeYFer9Mk0s9qEp1N4YsG/T11lyC290crf9T++MMLWKssSu4vXa4Ze\n",
       "yvB+OM5nEdfuFPfUwRuyNzkufS8kYEt51qJ6n7rxkwDpe3tpRa+d9WJrIA5uAdVI57waUq73WOK8\n",
       "ZBtqA2XebnAmjrSqo+aO7rR9cxcx5ZQTAaURKTRE7pLxLkkQSqZic9m9HReTVvV8+RWWzuR7a3fc\n",
       "hxw5FmfAxfGI7nMwjBAR5mlPxTTTx63kR0S/1lymHNpLJ+EA+IAI5aCEXrTwK6p2cgodXst2HsEK\n",
       "Irprmmol0HkCuo0d8wZ90ZmcAAABfQGeYHRCvwBHXO0agDz7TEU6VAAuMAlaOPoeumu5CDj+VvQc\n",
       "WTuX0pHoeSov/OZag7D7ZDMbTVFlEhkn7hidjfXMJ1vVDdAdCrGyerYPxazE7JLqOtInLEZxnGpR\n",
       "dVPeP9E3SEQZX3o1n70ONDHleROuxZjNIDlVg3DT5Yw9QcI7rDXXRwKKWO8YMxsSKL9L2AjPDJEn\n",
       "GP+Sv4VkDpK8n1aB7zqIdyMWhixxCiDja+A4m++1JZoAhoBcWKpeyIWY/7yNnUdb/ySAlzBgwtyj\n",
       "lEBmei8bLVNv/fDArouSUBebNFGEDSWwsRJMZcazM/fhkz5wamJlQ8M6Cv5h8Ig90mc34fV3JUyn\n",
       "XpDul/t3VKTnNvhZFLMKE4Iq3kB3YY+fELujEPxVcQmmWuv3RUeRmmAVg6iZkfv2afUn3bMnuQdv\n",
       "19UdhHrD4bFqbRVq3/rrI8mhWCnR553Bsta89z0YRSJ5nq9LiV00sPMzpB4Vk521KGu07cN1ELbp\n",
       "qPkqwQAAAawBnmJqQr8AR3Y9HrpWRlqoeT2u4AB1dd9E4maUjLJAX52VK8lj8jdkTZRl520m7bZW\n",
       "FMqszyFzRd80VedoEr9ERoERQk9kxbRkxSkRLQ8jOc5qtCAVuiNYAnIkGC0ZBj+HNK8Nh83wsqvr\n",
       "/q8E1EIKueS2REpme7AY9dfLfNEy+Md7BIMDblbsxwC97HhhQ7+qy2NUl0iwsnVfXuuVGZLJAJm1\n",
       "+s6Z4NycDgNC746+7jySN2REVpqzAlS6+MBw/7nIcAgfOBdlB30O0IIQY7HUHcd97nAoGWw4SAH+\n",
       "C52hWGeui0SeS/Dnde8VmAcB7k6A2FYBTxGke1gLMjzDMnOOM84KhvstAMtFX9jJS0MpqboWh0Ml\n",
       "huttwTkEmOHChKdHNvKsUoDVRx+2CNJELD6k0YbWow/w5sx2zs6y1xr2z8ZoxWm6N2STDu53iAde\n",
       "sq4wVIMwFZZOaAAs/oXq5wtvSc97+v0Z5hXhfcopx6hyBD4w40ZvpbVxBLys470kg7i/JTYArI6L\n",
       "IlXPakKZPG+Ll0DeJ29YR+K4mEip7AJW+zj1YYNkOrs7MJIiyAAAB9Ztb292AAAAbG12aGQAAAAA\n",
       "AAAAAAAAAAAAAAPoAAAPoAABAAABAAAAAAAAAAAAAAAAAQAAAAAAAAAAAAAAAAAAAAEAAAAAAAAA\n",
       "AAAAAAAAAEAAAAAAAAAAAAAAAAAAAAAAAAAAAAAAAAAAAAAAAAACAAAHAHRyYWsAAABcdGtoZAAA\n",
       "AAMAAAAAAAAAAAAAAAEAAAAAAAAPoAAAAAAAAAAAAAAAAAAAAAAAAQAAAAAAAAAAAAAAAAAAAAEA\n",
       "AAAAAAAAAAAAAAAAAEAAAAABsAAAASAAAAAAACRlZHRzAAAAHGVsc3QAAAAAAAAAAQAAD6AAAAQA\n",
       "AAEAAAAABnhtZGlhAAAAIG1kaGQAAAAAAAAAAAAAAAAAADIAAADIAFXEAAAAAAAtaGRscgAAAAAA\n",
       "AAAAdmlkZQAAAAAAAAAAAAAAAFZpZGVvSGFuZGxlcgAAAAYjbWluZgAAABR2bWhkAAAAAQAAAAAA\n",
       "AAAAAAAAJGRpbmYAAAAcZHJlZgAAAAAAAAABAAAADHVybCAAAAABAAAF43N0YmwAAACzc3RzZAAA\n",
       "AAAAAAABAAAAo2F2YzEAAAAAAAAAAQAAAAAAAAAAAAAAAAAAAAABsAEgAEgAAABIAAAAAAAAAAEA\n",
       "AAAAAAAAAAAAAAAAAAAAAAAAAAAAAAAAAAAAAAAAAAAY//8AAAAxYXZjQwFkABX/4QAYZ2QAFazZ\n",
       "QbCWhAAAAwAEAAADAMg8WLZYAQAGaOvjyyLAAAAAHHV1aWRraEDyXyRPxbo5pRvPAyPzAAAAAAAA\n",
       "ABhzdHRzAAAAAAAAAAEAAABkAAACAAAAABRzdHNzAAAAAAAAAAEAAAABAAADKGN0dHMAAAAAAAAA\n",
       "YwAAAAEAAAQAAAAAAQAACgAAAAABAAAEAAAAAAEAAAAAAAAAAQAAAgAAAAABAAAKAAAAAAEAAAQA\n",
       "AAAAAQAAAAAAAAABAAACAAAAAAEAAAoAAAAAAQAABAAAAAABAAAAAAAAAAEAAAIAAAAAAQAACgAA\n",
       "AAABAAAEAAAAAAEAAAAAAAAAAQAAAgAAAAABAAAKAAAAAAEAAAQAAAAAAQAAAAAAAAABAAACAAAA\n",
       "AAEAAAoAAAAAAQAABAAAAAABAAAAAAAAAAEAAAIAAAAAAQAACgAAAAABAAAEAAAAAAEAAAAAAAAA\n",
       "AQAAAgAAAAABAAAKAAAAAAEAAAQAAAAAAQAAAAAAAAABAAACAAAAAAEAAAoAAAAAAQAABAAAAAAB\n",
       "AAAAAAAAAAEAAAIAAAAAAQAACgAAAAABAAAEAAAAAAEAAAAAAAAAAQAAAgAAAAABAAAKAAAAAAEA\n",
       "AAQAAAAAAQAAAAAAAAABAAACAAAAAAEAAAoAAAAAAQAABAAAAAABAAAAAAAAAAEAAAIAAAAAAQAA\n",
       "CgAAAAABAAAEAAAAAAEAAAAAAAAAAQAAAgAAAAABAAAKAAAAAAEAAAQAAAAAAQAAAAAAAAABAAAC\n",
       "AAAAAAEAAAYAAAAAAQAAAgAAAAABAAAIAAAAAAIAAAIAAAAAAQAABgAAAAABAAACAAAAAAEAAAoA\n",
       "AAAAAQAABAAAAAABAAAAAAAAAAEAAAIAAAAAAQAACgAAAAABAAAEAAAAAAEAAAAAAAAAAQAAAgAA\n",
       "AAABAAAKAAAAAAEAAAQAAAAAAQAAAAAAAAABAAACAAAAAAEAAAoAAAAAAQAABAAAAAABAAAAAAAA\n",
       "AAEAAAIAAAAAAQAACgAAAAABAAAEAAAAAAEAAAAAAAAAAQAAAgAAAAABAAAKAAAAAAEAAAQAAAAA\n",
       "AQAAAAAAAAABAAACAAAAAAEAAAoAAAAAAQAABAAAAAABAAAAAAAAAAEAAAIAAAAAAQAACgAAAAAB\n",
       "AAAEAAAAAAEAAAAAAAAAAQAAAgAAAAABAAAKAAAAAAEAAAQAAAAAAQAAAAAAAAABAAACAAAAABxz\n",
       "dHNjAAAAAAAAAAEAAAABAAAAZAAAAAEAAAGkc3RzegAAAAAAAAAAAAAAZAAACKEAAAMrAAACbAAA\n",
       "ATkAAAHbAAAB7AAAAgYAAAHcAAACLQAAAmQAAAHYAAACIAAAAcIAAAIfAAAB/AAAAmwAAAGoAAAB\n",
       "/QAAAbcAAAHdAAABKwAAAoIAAAGKAAAB0gAAAfEAAAIbAAABoQAAAaQAAAGJAAACRAAAASwAAAI7\n",
       "AAAB2wAAAogAAAESAAACAgAAAYsAAAItAAAB2gAAAbAAAAG5AAABUAAAAiUAAAICAAABCwAAAjMA\n",
       "AAHEAAABnAAAAaoAAAJYAAABkAAAAUkAAAHmAAABcwAAAdYAAAGiAAABqgAAAbkAAAIAAAABrgAA\n",
       "Af8AAAFwAAAB5QAAAXAAAAIkAAABrAAAAUwAAAFWAAAB/wAAAXAAAAEqAAABxwAAAmAAAAGWAAAB\n",
       "egAAAdgAAAJLAAABWQAAAb0AAAGCAAAB9AAAAjYAAAFfAAABhAAAAiEAAAHyAAABPgAAAbAAAAHu\n",
       "AAAB5AAAAiQAAAI/AAACTQAAAXIAAAFzAAABTwAAAdoAAAHsAAABgQAAAbAAAAAUc3RjbwAAAAAA\n",
       "AAABAAAALAAAAGJ1ZHRhAAAAWm1ldGEAAAAAAAAAIWhkbHIAAAAAAAAAAG1kaXJhcHBsAAAAAAAA\n",
       "AAAAAAAALWlsc3QAAAAlqXRvbwAAAB1kYXRhAAAAAQAAAABMYXZmNTguMjkuMTAw\n",
       "\">\n",
       "  Your browser does not support the video tag.\n",
       "</video>"
      ],
      "text/plain": [
       "<IPython.core.display.HTML object>"
      ]
     },
     "execution_count": 17,
     "metadata": {},
     "output_type": "execute_result"
    },
    {
     "data": {
      "image/png": "[encoded data removed]",
      "text/plain": [
       "<Figure size 432x288 with 1 Axes>"
      ]
     },
     "metadata": {
      "needs_background": "light"
     },
     "output_type": "display_data"
    }
   ],
   "source": [
    "spike_data = spikegen.rate(data_it, num_steps=num_steps, gain=0.25)\n",
    "\n",
    "spike_data_sample2 = spike_data[:, 0, 0]\n",
    "fig, ax = plt.subplots()\n",
    "anim = splt.animator(spike_data_sample2, fig, ax)\n",
    "HTML(anim.to_html5_video())"
   ]
  },
  {
   "cell_type": "code",
   "execution_count": 18,
   "metadata": {
    "id": "dicJdyG2obY5",
    "pycharm": {
     "name": "#%%\n"
    }
   },
   "outputs": [],
   "source": [
    "# Uncomment for optional save\n",
    "# anim.save(\"spike_mnist_test2.mp4\")"
   ]
  },
  {
   "cell_type": "markdown",
   "metadata": {
    "id": "JgPZBNIaobY5"
   },
   "source": [
    "Now average the spikes out over time and reconstruct the input images."
   ]
  },
  {
   "cell_type": "code",
   "execution_count": 19,
   "metadata": {
    "id": "e4ikMCQLobY6",
    "pycharm": {
     "name": "#%%\n"
    }
   },
   "outputs": [
    {
     "data": {
      "image/png": "[encoded data removed]",
      "text/plain": [
       "<Figure size 432x288 with 2 Axes>"
      ]
     },
     "metadata": {},
     "output_type": "display_data"
    }
   ],
   "source": [
    "plt.figure(facecolor=\"w\")\n",
    "plt.subplot(1,2,1)\n",
    "plt.imshow(spike_data_sample.mean(axis=0).reshape((28,-1)).cpu(), cmap='binary')\n",
    "plt.axis('off')\n",
    "plt.title('Gain = 1')\n",
    "\n",
    "plt.subplot(1,2,2)\n",
    "plt.imshow(spike_data_sample2.mean(axis=0).reshape((28,-1)).cpu(), cmap='binary')\n",
    "plt.axis('off')\n",
    "plt.title('Gain = 0.25')\n",
    "\n",
    "plt.show()"
   ]
  },
  {
   "cell_type": "markdown",
   "metadata": {
    "id": "6bbbI1o2obY7",
    "pycharm": {
     "name": "#%% md\n"
    }
   },
   "source": [
    "The case where `gain=0.25` is lighter than where `gain=1`, as spiking probability has been reduced by a factor of $\\times 4$."
   ]
  },
  {
   "cell_type": "markdown",
   "metadata": {
    "id": "WpfpKe3zobY8",
    "pycharm": {
     "name": "#%% md\n"
    }
   },
   "source": [
    "#### 2.2.2 Raster Plots\n",
    "Alternatively, we can generate a raster plot of an input sample. This requires reshaping the sample into a 2-D tensor, where 'time' is the first dimension. Pass this sample into the function `spikeplot.raster`. "
   ]
  },
  {
   "cell_type": "code",
   "execution_count": 20,
   "metadata": {
    "id": "KCpsLPySobY8",
    "pycharm": {
     "name": "#%%\n"
    }
   },
   "outputs": [
    {
     "data": {
      "image/png": "[encoded data removed]",
      "text/plain": [
       "<Figure size 720x360 with 1 Axes>"
      ]
     },
     "metadata": {},
     "output_type": "display_data"
    }
   ],
   "source": [
    "# Reshape\n",
    "spike_data_sample2 = spike_data_sample2.reshape((num_steps, -1))\n",
    "\n",
    "# raster plot\n",
    "fig = plt.figure(facecolor=\"w\", figsize=(10, 5))\n",
    "ax = fig.add_subplot(111)\n",
    "splt.raster(spike_data_sample2, ax, s=1.5, c=\"black\")\n",
    "\n",
    "plt.title(\"Input Layer\")\n",
    "plt.xlabel(\"Time step\")\n",
    "plt.ylabel(\"Neuron Number\")\n",
    "plt.show()"
   ]
  },
  {
   "cell_type": "markdown",
   "metadata": {
    "id": "WvhIdrAZobY9",
    "pycharm": {
     "name": "#%% md\n"
    }
   },
   "source": [
    "The following code snippet shows how to index into one single neuron. \n",
    "Depending on the input data, you may need to try\n",
    "a few different neurons between 0 & 784 before finding one that\n",
    "spikes."
   ]
  },
  {
   "cell_type": "code",
   "execution_count": 21,
   "metadata": {
    "id": "R3kY3uoOobY9",
    "pycharm": {
     "name": "#%%\n"
    }
   },
   "outputs": [
    {
     "data": {
      "image/png": "[encoded data removed]",
      "text/plain": [
       "<Figure size 576x72 with 1 Axes>"
      ]
     },
     "metadata": {},
     "output_type": "display_data"
    }
   ],
   "source": [
    "idx = 210  # index into 210th neuron\n",
    "\n",
    "fig = plt.figure(facecolor=\"w\", figsize=(8, 1))\n",
    "ax = fig.add_subplot(111)\n",
    "\n",
    "splt.raster(spike_data_sample.reshape(num_steps, -1)[:, idx].unsqueeze(1), ax, s=100, c=\"black\", marker=\"|\")\n",
    "\n",
    "plt.title(\"Input Neuron\")\n",
    "plt.xlabel(\"Time step\")\n",
    "plt.yticks([])\n",
    "plt.show()"
   ]
  },
  {
   "cell_type": "markdown",
   "metadata": {
    "id": "1lxp91nlobY-",
    "pycharm": {
     "name": "#%% md\n"
    }
   },
   "source": [
    "#### 2.2.3 Summary of Rate Coding\n",
    "The idea of rate coding is actually quite controversial. Although we are fairly confident rate coding takes place at our sensory periphery, we are not convinced that the cortex globally encodes information as spike rates. A couple of compelling reasons why include:\n",
    "\n",
    "*   **Power Consumption:** Nature optimised for efficiency. Multiple spikes are needed to achieve any sort of task, and each spike consumes power. In fact, [Olshausen and Field's work in \"What is the other 85% of V1 doing?\"](http://www.rctn.org/bruno/papers/V1-chapter.pdf) demonstrates that rate-coding can only explain, at most, the activity of 15% of neurons in the primary visual cortex (V1). It is unlikely to be the only mechanism within the brain, which is both resource-constrained and highly efficient.\n",
    "\n",
    "\n",
    "*   **Reaction Response Times:** We know that the reaction time of a human is roughly around 250ms. If the average firing rate of a neuron in the human brain is on the order of 10Hz, then we can only process about 2 spikes within our reaction timescale.\n",
    "\n",
    "So why, then, might we use rate codes if they are not optimal for power efficiency or latency? Even if our brain doesn't process data as a rate, we are fairly sure that our biological sensors do. The power/latency disadvantages are partially offset by showing huge noise robustness: it's fine if some of the spikes fail to generate, because there will be plenty more where they came from.\n",
    "\n",
    "Additionally, you may have heard of the [Hebbian mantra of \"neurons that fire together, wire together\"](https://doi.org/10.2307/1418888). If there is plenty of spiking, this may suggest there is plenty of learning. In some cases where training SNNs proves to be challenging, encouraging more firing via a rate code is one possible solution.\n",
    "\n",
    "Rate coding is almost certainly working in conjunction with other encoding schemes in the brain. We will consider these other encoding mechanisms in the following sections. \n",
    "This covers the `spikegen.rate` function. Further information [can be found in the documentation here](https://snntorch.readthedocs.io/en/latest/snntorch.spikegen.html).\n",
    "\n"
   ]
  },
  {
   "cell_type": "markdown",
   "metadata": {
    "id": "enzqRvuNobY-",
    "pycharm": {
     "name": "#%% md\n"
    }
   },
   "source": [
    "### 2.3 Latency Coding of MNIST\n",
    "Temporal codes capture information about the precise firing time of neurons; a single spike carries much more meaning than in rate codes which rely on firing frequency. While this opens up more susceptibility to noise, it can also decrease the power consumed by the hardware running SNN algorithms by orders of magnitude. \n",
    "\n",
    "`spikegen.latency` is a function that allows each input to fire at most **once** during the full time sweep.\n",
    "Features closer to `1` will fire earlier and features closer to `0` will fire later. I.e., in our MNIST case, bright pixels will fire earlier and dark pixels will fire later. \n",
    "\n",
    "The following block derives how this works. If you've forgotten circuit theory and/or the math means nothing to you, then don't worry! All that matters is: **big** input means **fast** spike; **small** input means **late** spike.\n"
   ]
  },
  {
   "cell_type": "markdown",
   "metadata": {
    "id": "d5yZdcX4So-W"
   },
   "source": [
    "---\n",
    "**Optional: Derivation of Latency Code Mechanism**\n",
    "\n",
    "By default, spike timing is calculated by treating the input feature as the current injection $I_{in}$ into an RC circuit. This current moves charge onto the capacitor, which increases $V(t)$. We assume that there is a trigger voltage, $V_{thr}$, which once reached, generates a spike. The question then becomes: *for a given input current (and equivalently, input feature), how long does it take for a spike to be generated?*\n",
    "\n",
    "Starting with Kirchhoff's current law, $I_{in} = I_R + I_C$, the rest of the derivation leads us to a logarithmic relationship between time and the input. \n",
    "\n",
    "<center>\n",
    "<img src='https://github.com/jeshraghian/snntorch/blob/master/docs/_static/img/examples/tutorial1/1_2_4_latencyrc.png?raw=true' width=\"600\">\n",
    "</center>\n",
    "\n",
    "---"
   ]
  },
  {
   "cell_type": "markdown",
   "metadata": {
    "id": "DqJlK7AhjGHw"
   },
   "source": [
    "The following function uses the above result to convert a feature of intensity $X_{ij}\\in [0,1]$ into a latency coded response $L_{ij}$. "
   ]
  },
  {
   "cell_type": "code",
   "execution_count": 22,
   "metadata": {
    "id": "J06UgGHKTkea"
   },
   "outputs": [],
   "source": [
    "def convert_to_time(data, tau=5, threshold=0.01):\n",
    "  spike_time = tau * torch.log(data / (data - threshold))\n",
    "  return spike_time "
   ]
  },
  {
   "cell_type": "markdown",
   "metadata": {
    "id": "voBg5kujkGFQ"
   },
   "source": [
    "Now, use the above function to visualize the relationship between input feature intensity and its corresponding spike time.\n"
   ]
  },
  {
   "cell_type": "code",
   "execution_count": 23,
   "metadata": {
    "id": "52PwqfpKkK-I"
   },
   "outputs": [
    {
     "data": {
      "image/png": "[encoded data removed]",
      "text/plain": [
       "<Figure size 432x288 with 1 Axes>"
      ]
     },
     "metadata": {
      "needs_background": "light"
     },
     "output_type": "display_data"
    }
   ],
   "source": [
    "raw_input = torch.arange(0, 5, 0.05) # tensor from 0 to 5\n",
    "spike_times = convert_to_time(raw_input)\n",
    "\n",
    "plt.plot(raw_input, spike_times)\n",
    "plt.xlabel('Input Value')\n",
    "plt.ylabel('Spike Time (s)')\n",
    "plt.show()"
   ]
  },
  {
   "cell_type": "markdown",
   "metadata": {
    "id": "P972FBhmluv3"
   },
   "source": [
    "The smaller the value, the later the spike occurs with exponential dependence.\n",
    "\n",
    "The vector `spike_times` contains the time at which spikes are triggered, rather than a sparse tensor that contains the spikes themselves (1's and 0's). \n",
    "When running an SNN simulation, we need the 1/0 representation to obtain all of the advantages of using spikes.\n",
    "This whole process can be automated using `spikegen.latency`, where we pass a minibatch from the MNIST dataset in `data_it`:"
   ]
  },
  {
   "cell_type": "code",
   "execution_count": 32,
   "metadata": {
    "id": "m835u23QobY-",
    "pycharm": {
     "name": "#%%\n"
    }
   },
   "outputs": [
    {
     "name": "stdout",
     "output_type": "stream",
     "text": [
      "torch.Size([128, 1, 28, 28])\n",
      "torch.Size([100, 128, 1, 28, 28])\n"
     ]
    }
   ],
   "source": [
    "spike_data = spikegen.latency(data_it, num_steps=100, tau=5, threshold=0.01)\n",
    "print(data_it.size())\n",
    "print(spike_data.size())"
   ]
  },
  {
   "cell_type": "markdown",
   "metadata": {
    "id": "AKDPjTvKobY_",
    "pycharm": {
     "name": "#%% md\n"
    }
   },
   "source": [
    "Some of the arguments include:\n",
    "\n",
    "* `tau`:  the RC time constant of the circuit. By default, the input features are treated as a constant current injected into an RC circuit. A higher ``tau`` will induce slower firing.\n",
    "* `threshold`: the membrane potential firing threshold. Input values below this threshold do not have a closed-form solution, as the input current is insufficient to drive the membrane up to the threshold. All values below the threshold are clipped and assigned to the final time step."
   ]
  },
  {
   "cell_type": "markdown",
   "metadata": {
    "id": "VGH7b49SobY_",
    "pycharm": {
     "name": "#%% md\n"
    }
   },
   "source": [
    "#### 2.3.1 Raster plot"
   ]
  },
  {
   "cell_type": "code",
   "execution_count": 25,
   "metadata": {
    "id": "kypMtfF7obY_",
    "pycharm": {
     "name": "#%%\n"
    }
   },
   "outputs": [
    {
     "data": {
      "image/png": "[encoded data removed]",
      "text/plain": [
       "<Figure size 720x360 with 1 Axes>"
      ]
     },
     "metadata": {},
     "output_type": "display_data"
    }
   ],
   "source": [
    "fig = plt.figure(facecolor=\"w\", figsize=(10, 5))\n",
    "ax = fig.add_subplot(111)\n",
    "splt.raster(spike_data[:, 0].view(num_steps, -1), ax, s=25, c=\"black\")\n",
    "\n",
    "plt.title(\"Input Layer\")\n",
    "plt.xlabel(\"Time step\")\n",
    "plt.ylabel(\"Neuron Number\")\n",
    "plt.show()\n",
    "\n",
    "# optional save\n",
    "# fig.savefig('destination_path.png', format='png', dpi=300)"
   ]
  },
  {
   "cell_type": "markdown",
   "metadata": {
    "id": "Hm1--DHYobZA",
    "pycharm": {
     "name": "#%% md\n"
    }
   },
   "source": [
    "To make sense of the raster plot, note that high intensity features fire first, whereas low intensity features fire last:\n",
    "\n",
    "<center>\n",
    "<img src='https://github.com/jeshraghian/snntorch/blob/master/docs/_static/img/examples/tutorial1/1_2_5_latencyraster.png?raw=true' width=\"800\">\n",
    "</center>\n",
    "\n",
    "The logarithmic code coupled with the lack of diverse input values (i.e., the lack of midtone/grayscale features) causes significant clustering in two areas of the plot.\n",
    "The bright pixels induce firing at the start of the run, and the dark pixels at the end.\n",
    "We can increase `tau` to slow down the spike times, or linearize the spike times by setting the optional argument `linear=True`."
   ]
  },
  {
   "cell_type": "code",
   "execution_count": 26,
   "metadata": {
    "id": "ZX8azDNWobZA",
    "pycharm": {
     "name": "#%%\n"
    }
   },
   "outputs": [
    {
     "data": {
      "image/png": "[encoded data removed]",
      "text/plain": [
       "<Figure size 720x360 with 1 Axes>"
      ]
     },
     "metadata": {},
     "output_type": "display_data"
    }
   ],
   "source": [
    "spike_data = spikegen.latency(data_it, num_steps=100, tau=5, threshold=0.01, linear=True)\n",
    "\n",
    "fig = plt.figure(facecolor=\"w\", figsize=(10, 5))\n",
    "ax = fig.add_subplot(111)\n",
    "splt.raster(spike_data[:, 0].view(num_steps, -1), ax, s=25, c=\"black\")\n",
    "plt.title(\"Input Layer\")\n",
    "plt.xlabel(\"Time step\")\n",
    "plt.ylabel(\"Neuron Number\")\n",
    "plt.show()"
   ]
  },
  {
   "cell_type": "markdown",
   "metadata": {
    "id": "pZuk6g3NobZB",
    "pycharm": {
     "name": "#%% md\n"
    }
   },
   "source": [
    "The spread of firing times is much more evenly distributed now. This is achieved by linearizing the logarithmic equation according to the rules shown below. Unlike the RC model, there is no physical basis for the model. It's just simpler.\n",
    "\n",
    "<center>\n",
    "<img src='https://github.com/jeshraghian/snntorch/blob/master/docs/_static/img/examples/tutorial1/1_2_6_latencylinear.png?raw=true' width=\"600\">\n",
    "</center>\n",
    "\n",
    "\n",
    "But note how all firing occurs within the first ~5 time steps, whereas the simulation range is 100 time steps. \n",
    "This indicates that we have a lot of redundant time steps doing nothing. This can be solved by either increasing `tau` to slow down the time constant, or setting the optional argument `normalize=True` to span the full range of `num_steps`."
   ]
  },
  {
   "cell_type": "code",
   "execution_count": 27,
   "metadata": {
    "id": "RLgntdwSobZB",
    "pycharm": {
     "name": "#%%\n"
    }
   },
   "outputs": [
    {
     "data": {
      "image/png": "[encoded data removed]",
      "text/plain": [
       "<Figure size 720x360 with 1 Axes>"
      ]
     },
     "metadata": {},
     "output_type": "display_data"
    }
   ],
   "source": [
    "spike_data = spikegen.latency(data_it, num_steps=100, tau=5, threshold=0.01,\n",
    "                              normalize=True, linear=True)\n",
    "\n",
    "fig = plt.figure(facecolor=\"w\", figsize=(10, 5))\n",
    "ax = fig.add_subplot(111)\n",
    "splt.raster(spike_data[:, 0].view(num_steps, -1), ax, s=25, c=\"black\")\n",
    "\n",
    "plt.title(\"Input Layer\")\n",
    "plt.xlabel(\"Time step\")\n",
    "plt.ylabel(\"Neuron Number\")\n",
    "plt.show()"
   ]
  },
  {
   "cell_type": "markdown",
   "metadata": {
    "id": "1EFIqaylobZC",
    "pycharm": {
     "name": "#%% md\n"
    }
   },
   "source": [
    "One major advantage of latency coding over rate coding is sparsity. If neurons are constrained to firing a maximum of once over the time course of interest, then this promotes low-power operation.\n",
    "\n",
    "In the scenario shown above, a majority of the spikes occur at the final time step, where the input features fall below the threshold. In a sense, the dark background of the MNIST sample holds no useful information. \n",
    "\n",
    "We can remove these redundant features by setting `clip=True`."
   ]
  },
  {
   "cell_type": "code",
   "execution_count": 28,
   "metadata": {
    "id": "uowgb4FPobZC",
    "pycharm": {
     "name": "#%%\n"
    }
   },
   "outputs": [
    {
     "data": {
      "image/png": "[encoded data removed]",
      "text/plain": [
       "<Figure size 720x360 with 1 Axes>"
      ]
     },
     "metadata": {},
     "output_type": "display_data"
    }
   ],
   "source": [
    "spike_data = spikegen.latency(data_it, num_steps=100, tau=5, threshold=0.01, \n",
    "                              clip=True, normalize=True, linear=True)\n",
    "\n",
    "fig = plt.figure(facecolor=\"w\", figsize=(10, 5))\n",
    "ax = fig.add_subplot(111)\n",
    "splt.raster(spike_data[:, 0].view(num_steps, -1), ax, s=25, c=\"black\")\n",
    "\n",
    "plt.title(\"Input Layer\")\n",
    "plt.xlabel(\"Time step\")\n",
    "plt.ylabel(\"Neuron Number\")\n",
    "plt.show()"
   ]
  },
  {
   "cell_type": "markdown",
   "metadata": {
    "id": "W7gN02QOobZC",
    "pycharm": {
     "name": "#%% md\n"
    }
   },
   "source": [
    "That looks much better!"
   ]
  },
  {
   "cell_type": "markdown",
   "metadata": {
    "id": "XG9erdfxobZD",
    "pycharm": {
     "name": "#%% md\n"
    }
   },
   "source": [
    "#### 2.3.2 Animation\n",
    "We will run the exact same code block as before to create an animation."
   ]
  },
  {
   "cell_type": "code",
   "execution_count": 29,
   "metadata": {
    "id": "BjLC1Pl_obZD",
    "pycharm": {
     "name": "#%%\n"
    }
   },
   "outputs": [
    {
     "name": "stdout",
     "output_type": "stream",
     "text": [
      "torch.Size([100, 28, 28])\n"
     ]
    }
   ],
   "source": [
    "spike_data_sample = spike_data[:, 0, 0]\n",
    "print(spike_data_sample.size())"
   ]
  },
  {
   "cell_type": "code",
   "execution_count": 30,
   "metadata": {
    "id": "uwVwMVpzobZD",
    "pycharm": {
     "name": "#%%\n"
    }
   },
   "outputs": [
    {
     "data": {
      "text/html": [
       "<video width=\"432\" height=\"288\" controls autoplay loop>\n",
       "  <source type=\"video/mp4\" src=\"data:video/mp4;base64,AAAAHGZ0eXBNNFYgAAACAGlzb21pc28yYXZjMQAAAAhmcmVlAAAeqG1kYXQAAAKuBgX//6rcRem9\n",
       "5tlIt5Ys2CDZI+7veDI2NCAtIGNvcmUgMTU1IHIyOTE3IDBhODRkOTggLSBILjI2NC9NUEVHLTQg\n",
       "QVZDIGNvZGVjIC0gQ29weWxlZnQgMjAwMy0yMDE4IC0gaHR0cDovL3d3dy52aWRlb2xhbi5vcmcv\n",
       "eDI2NC5odG1sIC0gb3B0aW9uczogY2FiYWM9MSByZWY9MyBkZWJsb2NrPTE6MDowIGFuYWx5c2U9\n",
       "MHgzOjB4MTEzIG1lPWhleCBzdWJtZT03IHBzeT0xIHBzeV9yZD0xLjAwOjAuMDAgbWl4ZWRfcmVm\n",
       "PTEgbWVfcmFuZ2U9MTYgY2hyb21hX21lPTEgdHJlbGxpcz0xIDh4OGRjdD0xIGNxbT0wIGRlYWR6\n",
       "b25lPTIxLDExIGZhc3RfcHNraXA9MSBjaHJvbWFfcXBfb2Zmc2V0PS0yIHRocmVhZHM9OSBsb29r\n",
       "YWhlYWRfdGhyZWFkcz0xIHNsaWNlZF90aHJlYWRzPTAgbnI9MCBkZWNpbWF0ZT0xIGludGVybGFj\n",
       "ZWQ9MCBibHVyYXlfY29tcGF0PTAgY29uc3RyYWluZWRfaW50cmE9MCBiZnJhbWVzPTMgYl9weXJh\n",
       "bWlkPTIgYl9hZGFwdD0xIGJfYmlhcz0wIGRpcmVjdD0xIHdlaWdodGI9MSBvcGVuX2dvcD0wIHdl\n",
       "aWdodHA9MiBrZXlpbnQ9MjUwIGtleWludF9taW49MjUgc2NlbmVjdXQ9NDAgaW50cmFfcmVmcmVz\n",
       "aD0wIHJjX2xvb2thaGVhZD00MCByYz1jcmYgbWJ0cmVlPTEgY3JmPTIzLjAgcWNvbXA9MC42MCBx\n",
       "cG1pbj0wIHFwbWF4PTY5IHFwc3RlcD00IGlwX3JhdGlvPTEuNDAgYXE9MToxLjAwAIAAAAHzZYiE\n",
       "ADP//vbsvgU1/Z/QlxEsxdpKcD4qpICAdzTAAAADAAB4HShe6DhKq9DAABt2OHH/CRpgAE6JxLH/\n",
       "M5bTyacGPbVbWnZnaSxBXEzssJt91k/YA1p9wWQ7r3KqdnM1QtkkyMh6BDTs4SvLC/aZRS7aRQY6\n",
       "sUpMIQ3j+HlhVG/WjCwOqJvbr4EejXegKpAPXmUoneHCQr7WtyAGMLcI+z6MHmjtOexiaF/mMlUR\n",
       "leuz6ms2dDIjvtRIe7iTsFIYoYsM5LINAH0wPjlGQ5CegcDFrj7kkMhOvWLD9RwTj1k+qeuq6Ar8\n",
       "P4EUpje6djMPwE9jkyNzzGlFwOgY2UFTBV3C8IeTJk9Aa3wvRkcpTEgzzltQbzzrDplo0JXx4XM0\n",
       "4LNjC+OlaR7p2xHKPzexs85OFf2+bFibAsMjnW7wNH0P9nfemdEW1v6jZQc/56nE6SBcYpJlsi9O\n",
       "OedGxzT1/Ur2Pc5Y5jFFZKXYvMWEaYVP0KHC84xbSb/kVQWphzOY2cRyr+52J0B0OrxyL4en5Z3D\n",
       "pbIvcxtOd2Q7pxCJESFeesYtHto473fx/CR8LMH7NlZWlIypgDfD1r1ffy/w5p2/J1mLJD3hWpJa\n",
       "egjxSXApQFLaZwY6Cpa6jeME3iPTrsuDa6asZ4GLrilAAAR81/g44QAAAxZBmiFsQ3/+p4QBrsFt\n",
       "gAiyIQ4cpQsVAhpb0tWBmcw9N8g7Ytqrkzg4y+rV3GoZlk+ot6Py80clRiYhR7h9yGnsFJGjj1/r\n",
       "FYcYE5nPeHo+OUNnjzQsbvpvdZwzo31t6hOb0ZgrLev2BJf+/ZN+FeKVJpgXndtVxuPDu+66pA9w\n",
       "eS2jpOjY8N5aKKPjCDCRCHeK15NMV9mga2IakaBb1DjRclzzk+iDey4nzKyOCwf38x7S/dHp1p8n\n",
       "O9PLIq1lVg+fIUKqHsaTrby4xURTfaekBAkwV3xITP+ScVnekCrJooXBz9xTw0gujpyTHYILlOto\n",
       "MhjzFtYF+etOA3bRp0RI4s27Q2/o34p6u3X6DIVLDt8LPB8eRYp/jIXhkH/y+Du8qmUXck85LUwW\n",
       "KFpR2FXkTbf0GqQh0fNIORYDdiS5PUprh1Ul00y9pumnKOMTxHXFxll5LWVL2dZOCTuHqd93SN3t\n",
       "AMNFhReDNoNFK9L9Hb1UHLkJG8KOEkoDbqg7mEwSYAgH72Xr73Fb5uSi86jAWmg34/XEmX7/vOMW\n",
       "mke0qmkQQ0pL97oPw0vfKyEhjVNPZSONmuAGCHirdRimOOzT+U4ftwRAkNQW4rsAV3TkhAR84t+/\n",
       "/N9Hk4xGbIRgRlAnvmav80AqTxu+Ibhs/ptWai5Z1bGA+7PNfd2ajGs+fDaTdhIqtX6+eRHr6HxD\n",
       "V78+ozj1as/mRjine0zVXdmFAx6GTINt0b1HP7wPh8iyFCY11W+dVI2Q+aQeS20HfytJdBlWBb7p\n",
       "z8LKjodcIXUHBVdxCgEqW43CDpCGfm/8EDHOpc5KP6PpZv0QNUdPogCg7NR6uQDum7fHRcbVTDJi\n",
       "eMkm5jhD12UpGWwURHzwXpgXoP0AUb/rGbZRlaMUp+atdIvSQAGedlH1uBcegO/9DysHtKVo3mna\n",
       "0zEtySjBaGuOEvMX2YiOKmftalLEtuwi3xzl/ZVKn7Tcc1UhdPsxHN4L+u/tZ7PsliJO19/x4g6Q\n",
       "uE229OYXw3UOFa1Dm/dT5LWGHixwViBpleLDK+R0dp8wMIXgAAAAtkGaQzwhkymEN//+p4QAVr8a\n",
       "ISwMPvfoTpebm+hbZ3ABDXwLHzMq1M3vTKUwKzPGdxYUZNTFNMOmNrQAGBNBLNnR09KX5FFPCSwD\n",
       "cH/zBwPbvIOWkveTV2i/+HqVh7PEhXKOAAADAjv3OML/0Ad/tm+chGZJ7hkeZIv/eceOhtxKmwXP\n",
       "WptmPDwBxmv8P2sW/ZmPwhqIv8cIlfcGRqsNXp/1JQtbABM2OxxzQr3Nz9ACB5LRBDhdAAAARQGe\n",
       "YmpCvwLezIvljyVlAn6+RVJAsmRKyDKGADhkf08vTxwj6UZE+y2nZWtlhr6CdUKfw9yM2kqgJxKH\n",
       "G+1YK3+rLaPJwAAAAGlBmmVJ4Q8mUwU8M//+nhAAUj3frBr+HhQh0SjroIQAC0UcdtgC0kDA0wa9\n",
       "SexRS3uoQFWt657t6IRDHeBUUWYeJbjm6yqYZ/kfwUMENqzwyIvo30cOyrQNwUGNRJLfmRuv31a0\n",
       "s05SzMEAAAAfAZ6EakK/ABDZCerU69O62XXQKbaf8CRet+i1jQ378QAAAIJBmoZJ4Q8mUwIZ//6e\n",
       "EAAqPu/WDaV15QzuNIRAFh9WqUP1GvH9mBVpMfCF1VvbQQmD4j6mGvr+DyXwvcE9riG7pxefRHv9\n",
       "rP6VOdu9WNuynTLNEWDFfFqo0odnaiwgvLtUhmLv2Y8tm3//mbOxMAavjkEwJ9DBck89GVVAP/4G\n",
       "ShErAAAAU0Gap0nhDyZTAhv//qeEAAuvMvNzwAKK14A+znXLZopMKL8pr4yrI8i4qdX+gfhQSekL\n",
       "nxn5N3dtlihg2jPZUR57jJWWvr0sohSpJN1oCRBdwcHBAAAAzUGayEnhDyZTAhv//qeEABUd/fBB\n",
       "v7gAyl5P0uHjb/tk5pL8VP1Trm9fkuIu8ZbmqDRv6kOQP5vj1ESetNS6IFYpfEXiSIJ42Yik2x4y\n",
       "NRyE+UniGPgCInhhr2DImIxoZFL0rlxf5XeBJqlbRiX7VzxkRHQ1YfT9L/2mftPo1wFJaT+s9asb\n",
       "bGARBNe8IHe90B0A/Lj97v2MZOEEqhBqf/FzPf4kLbcvD+WdXe5deOvHqdFEx2NkrwV55PF3Ia3F\n",
       "Z1mwiJ72CSONcf1b+poAAAD3QZrpSeEPJlMCHf/+qZYAFk30JKgg4b5iWdpZvHBBu3nuOZME7AwP\n",
       "HSnbFQ3hfbLrzzwDdvZbaJo3lfXCLOHHjuKhgemC+/fCirrPP8Qf6t8hgx2o30LnbbZj4d7mnQAg\n",
       "qCDlU0Dpoxziq4gbDgLI/BS3QHU02qJdOvqiLcgYfpG9XWGNM9m4c0/1zR6Q6N56uXZ4VR5/V2iJ\n",
       "xBG8AAAGgiclqS9cTcxovHvl18tXDzZUDo29hIftsc0GHRD/f8OSy6w0JdznTvgyOsAMUq/rAAif\n",
       "6URN2rX9VMRUhn23E93HY6yJgdSmrjv4jdeV44K5Sk+5OiVnwAAAACtBmw1J4Q8mUwId//6plgAW\n",
       "UJ1oGudoMBfk4W//LgmwjRyPJeLkq4fRVun3AAAAGkGfK0URPC//ABpg0Tqjj+e3YAAY4j/0+Ohg\n",
       "AAAALQGfSnRCvwAjroUCcbUx2CipO3IAeW5HBzGo0ZfDBzOl5wBrMXhS5NaTnb90CAAAAA0Bn0xq\n",
       "Qr8AB8WUxybhAAAAFUGbUUmoQWiZTAh3//6plgAAAwDwgQAAAE1Bn29FESwv/wAGYKX5mYW4LAA2\n",
       "H+fvgPG3rBQ6Gc2bU/RGp6YrcWyg6XLgtJbG85F2jLA0pN9bZwqeuzDH/b+PYQciur9cNaYxOuDW\n",
       "gQAAAFABn450Qr8ACK+DLBqUx9vqmtgBb1s4AL686Ow0p9hcfy/7XKaJTfPMj8tdiKqAnx9jM+GB\n",
       "6cxzNXaFaamMh1tqR5vq+npR6Rebhl8fWJlVZgAAAD4Bn5BqQr8AEalXpiMkrAAnDz/soPG3/a7j\n",
       "RZ2190ce8HCc7kex8ICzFT21hZWfYOt1WttbgkErVRicqpS7gAAAAKtBm5RJqEFsmUwId//+qZYA\n",
       "BQuFvk5mURUADvzPve5S17tnZcVFa76Uja80GIajdJNPGm3WidY1dI/O6bmHxqDckQnOKIvU8ryI\n",
       "kWOviCZcooz4lpwbMuaJG3CP46pAvHFPUbFqjNFZYWrG0vn6n+HUZP/Vwnz72hJlXOCsynxIKdF4\n",
       "pb4Llvewxz2iVzZowS1iOfWphH26sD1I8foZ2AEC8wtGyZkohFPzWu0AAABoQZ+yRRUsK/8AB/GS\n",
       "8uqRrgnPUegBbx1X1YNIPRgnx4BmiWJ3cXl8atccfvc39vOf0Q+2SN3KeGl8U6Oq4HNVnVTDnN0r\n",
       "CZy+bLqnevAqXh0mDJfSUZrEKVLI0+J/iX/G+913bJ4MkQgAAAAYAZ/TakK/AAfxklZEho+J6DAJ\n",
       "VPjCGHVAAAAAYkGb10moQWyZTAh3//6plgArvC3yNLXzgAJPI8VQWyGzsQM5jURDvsGb1fLYUxrE\n",
       "LwPzSUGBOn0/jB488qrPpML1R2U1KgGqfitzrB+tMgyt+I9OZ+CnEIoxDcdRNEV1cY/VAAAAcEGf\n",
       "9UUVLCv/AEV13L5sNBVw7i9cGW/cE5+G0ACIPMVQJxNb+nz+L8laF65sweLMtQ2NmW2CSUWmr6ud\n",
       "qNap4kNQkLYmhfGxR+6YdLyrRRJZJUsVHb62uOTe2n2EN5XlI3RsJG3obbg1EsKgdyRQq0gAAAAf\n",
       "AZ4WakK/AEV13MLbbaxunt5dCIjq3T6aoJ7KdKLrOQAAACFBmhtJqEFsmUwId//+qZYAK4E6naEd\n",
       "YDbNc3w3NaQQf4EAAAAXQZ45RRUsL/8AM4F/4DXfjnGlR7gUhBwAAACbAZ5YdEK/AEVc2N74C1jd\n",
       "PXcWj2ZtunfOZtNwNj+eAFq6C/IWGQbImq0kj8Nd1wQtbC/r6osXEiE5KtTwK+Q9rjKQhCc0lQWJ\n",
       "x1dQ28L8dDeXEW6MZ95su4cYN9V/o9nPKuwAvzNHktfxlVTxZ9zz92xpqCPfcVbDE6q0jRAh346y\n",
       "bvfUA6wmOAwlPXdzgETL5o+vFuqViqNHsqMAAAALAZ5aakK/AAADAYsAAACCQZpfSahBbJlMCHf/\n",
       "/qmWAAYCTLKACjnAABIOT5aDG84jRpHoetIDrIaAqiLHtotiPMbek0Xpr8F8wMJIABjwmxlU235c\n",
       "2qHPw0pbBOC5b2LBEHYaspdQvtY4MLfvrciehzPn1mAi5HjWHO4WtjuEF6toFRmPF5D3c04DyjDQ\n",
       "FqO7gQAAABhBnn1FFSwv/wAHAa6ATFmXD/U9ubZVNIEAAAAOAZ6cdEK/AAmrmxuYEjAAAAATAZ6e\n",
       "akK/AAmuu5fNiHx/wyDfPgAAAHJBmoNJqEFsmUwId//+qZYALNwt8jTtAwACJJAF8fuAPw6xj/xR\n",
       "bvbP6Flp7t/CaH+CXUbTtZ/Se85jLC4d4EQ5pPNF0ShCXK1Hj8kP3TlCKO85hsy51dAG7Cu+gpMs\n",
       "zmviIPO6ffYQFeq/kbfzc2MW+DEAAABcQZ6hRRUsL/8ANDucoNqqy+75miJG8AGw/z98B429YKIV\n",
       "7fQYDewRg2QLi8H3EjUK96Tvm0PdvjTzh756u25ZTTvchK8lMlcCGYP+39CpHNf2u6tb42tXAm8c\n",
       "cIAAAAAZAZ7AdEK/AEddDjIksKmHL5G8OGNoF/07QQAAABQBnsJqQr8AR3XcvmoZP3r9otnYOAAA\n",
       "AINBmsVJqEFsmUwUTDv//qmWAC24UNNH31XwCo9TtgFpumduhpU+AqEL1TVovUErpeHm7h4ymfdl\n",
       "1qnW70jhy98foH7oMvgEx9reKbT59TfN07WLOHEVuHLlViqZy5zMZ5D3QiQIuC5dUUkbbFuklH/w\n",
       "StadHjPNPB679pxAn/a6uHAHdQAAABUBnuRqQr8AR4MmafNZU0ZOeEJqjUkAAAAlQZrpSeEKUmUw\n",
       "Id/+qZYALKLkc7/GiG8gUx8CprHr8ZBAMGARlwAAABxBnwdFNEwv/wA03rn2wi/dU/oUm71xAMnA\n",
       "xnTBAAAAXAGfJnRCvwBHln5cNJk4cR36fjRmBbAAHV6C9YYK4ie+cLvLXX/giyO69M11R1GRoNVL\n",
       "nBIL2UoQqpWOvIyN63PYE4hyigazrOU1rTP6Ld8ZJfZRX8A3VRgyrUVsAAAADQGfKGpCvwAluv7o\n",
       "NSAAAAAVQZstSahBaJlMCHf//qmWAAADAPCBAAAAEkGfS0URLC//ABuojBb6pXSpgAAAAA0Bn2p0\n",
       "Qr8AJa6GaDUgAAAADQGfbGpCvwAluv7oNSEAAAAVQZtxSahBbJlMCHf//qmWAAADAPCBAAAAEkGf\n",
       "j0UVLC//ABuojBb6pXSpgQAAAA0Bn650Qr8AJa6GaDUgAAAADQGfsGpCvwAluv7oNSAAAABoQZu1\n",
       "SahBbJlMCHf//qmWAAAV3hb4T2gXAAl9csUxSc2ua9WfPWLIiIXMEgfytpRbbdyIZm0w6LoWpmge\n",
       "SnAxa03M70ed4tEJ9PzTuip6lz11FdXpTXGcYV3txstGqQv4XII4FE6On4EAAAAXQZ/TRRUsL/8A\n",
       "G6iMFvqlgtoY9tGgncAAAAANAZ/ydEK/ACWuhmg1IAAAABIBn/RqQr8AJbr+7LcXGzRoxZEAAAAZ\n",
       "QZv5SahBbJlMCHf//qmWAAAV34Bs3a80/AAAABdBnhdFFSwv/wAbqIwW+qWC1Y8NJmbkQQAAAGEB\n",
       "njZ0Qr8AJa6I0Xn40ZgAkAB1egvWGCuETHdmdth6C3yHZRHTOyX6/eVkN099aQK965Dw8W7DrOdU\n",
       "hGm3XQ9LHLH/cNN7nb2QL2ruAIAoHF+GuTF3wWRAxbfvzFizmVShAAAAiAGeOGpCvwAluwALkUlg\n",
       "0dVf5gAvTz+8rjgj2zvBzQBV8iFyTM1r7nyZb+9rI+V1joL8u0hgoNh3EJamUvm2cED3rVrfmbdj\n",
       "ZnNI3+D/ls8Nfdb3bzLt6fACC2G1kM00T8JJlPkzVxJHxJwKfRl+QhhN+yapbk7MpfihMwT0peM5\n",
       "0VVCnZJUHsAAAAB8QZo9SahBbJlMCHf//qmWAAAUvhb4TWaMABU5DEramqJKDwiHlxBsvtNLfCEv\n",
       "bhH4/7fgMmKRU6/276cslOMOXUYtFEvHyD0D61F7s8pY2apnyvuobJfSEng4R95fsDEI5iLUxBtW\n",
       "4OvbSsPsiUAAWlqqQgKKpA/6l3DlgQAAABlBnltFFSwv/wAbqIwW+qWCKhj60i22TYL+AAAAEAGe\n",
       "enRCvwAlroZqWpFdqhkAAAAUAZ58akK/ACW6/ux3FxxgHZ+t4y0AAAAcQZphSahBbJlMCHf//qmW\n",
       "AAAUv4Bs3a2M0LRrRAAAABlBnp9FFSwv/wAbqIwW+qWCJY8fIEN5/x4wAAAAFAGevnRCvwAlroZs\n",
       "dSK71n7E5/xxAAAAPAGeoGpCvwAluwEhI7TEZaOgBB4WPmpFpXU2FdJug8WhfHRsfwevuX3NQU2/\n",
       "NM4MVSGtbjuOzB+fSEjFgAAAAEBBmqRJqEFsmUwId//+qZYAAwWz+3Q5aK4ADwdEx3qU7Y52FdCD\n",
       "Bhv9g+X4Z10eJy0pW5p//JQIvbqxtqlf/IuBAAAAHEGewkUVLCv/ACXBmfAuizs1yOxaAhZSm4LQ\n",
       "Tq4AAAAbAZ7jakK/ACW6/5BRAZ+Y/C5CDTy5XHtaqVAJAAAAG0Ga6EmoQWyZTAh3//6plgADBe2g\n",
       "XwWxnTUj4QAAAB5BnwZFFSwv/wAbqIwW+qemyWs65dcZlXdYQ+8RTwEAAAAZAZ8ldEK/ACWuhxAS\n",
       "V1EAgXIP+tdoZWTOAwAAABABnydqQr8AJbr+6luLjgSEAAAAFEGbLEmoQWyZTAhv//6nhAAAAwHd\n",
       "AAAAFUGfSkUVLC//ABuojBb6pXtukCd1iQAAABABn2l0Qr8AJa6GalqRXaoYAAAAEAGfa2pCvwAl\n",
       "uv7qW4uOBIQAAABsQZttSahBbJlMCHf//qmWAAK3xgkAG1XLFLrPQSN9YKW/BdXrkLc+4ObW/qi8\n",
       "MTFQKpGqD5m46ynnmfirNd5aXHswelTS6gYqUAcWL9U978EI/vwh8I8gM/IDBAHGbk7xm9wlwKLk\n",
       "dMZBZavhAAAAHkGbkUnhClJlMCHf/qmWAAK78A2bry7YNGvNVJhgQQAAABtBn69FNEwv/wAbpxfn\n",
       "e6T1MVnjiqHHimSY/YEAAAAWAZ/OdEK/ACWuhv6kVfgID8I5B7MCwAAAABABn9BqQr8AJbr+6luL\n",
       "jgSEAAAA3UGb1UmoQWiZTAh3//6plgAUnfQiEoaRCVZbmaXeV9uh1YAJbID9Lh42/6agni+Lb8b6\n",
       "6PJCfKdzGWtDaoNG+zvrU7y9dyjod5rW63NLV7OjcxWm9nz9+gpbXhS+VUi7B5kyDr0IEcRS2Uqv\n",
       "nQUY9z3tp+/23ijTFdsQJbf0zMe/JnRMIIRsS0a2AybzOHA7tp7lwEJy+WAT6YvsJT48obpVbC05\n",
       "Qw47fXFoUH7I17TcXvM/iKpxytARVUywghMkJ+WeqyVa+DOgvke1DjDMTpycFtDfcnjhSlc1Pg1B\n",
       "AAAAXkGf80URLC//ABuolxBqpLiuTYYTz2LxL98Gdld/F+5GEvr0N56wwVxFac4XeUj/wStGfjw7\n",
       "IPPgVTuVZhpu1SuuHY1UxxSpLFExHHzGS9Puc0t/lF8f1eNAzsb0nWAAAAAUAZ4SdEK/ACVKpGTp\n",
       "7lLBj+EZKhgAAABAAZ4UakK/ACVKpXZjfl/kGCsa4Mnsq4CTiIFaPMAF6hY+alLRdVQU2/gsP9hb\n",
       "OG+Mj6Eme63m+JCx7onGNC0ygwAAAM5BmhlJqEFsmUwIb//+p4QAKR7wobKh4tcY6ybW0MHZgsCg\n",
       "PaX8I9v/gALtIRnJ00RJKT4rueJafg1KnFQKMMUZwbmik99wmn6L7Duq+Th3FUAVk8UhtZV3m5PX\n",
       "eOwdAULlZtYHOLFhr282zoxOSJjVSirAEdwfxOFKP4SotjN51ZpX2zE1RZna80+I2qsd1VAE2yDS\n",
       "+jq0V3+gOyjCV1V+PSNkrTlOiu6En2h0/e9adoi6EY4ge2vh1zptXD9jICxDcyjyrAa9OpDD+GJa\n",
       "jAAAACZBnjdFFSwv/wAZKIqXCM5D1fpbRZEl1COLdmO76ASS050h8ni6UQAAABcBnlZ0Qr8AIa6F\n",
       "AnHL1a1625pwZgTesQAAABYBnlhqQr8AIbr+8a4uOOg7H0DgPnkIAAAAf0GaXEmoQWyZTAhv//6n\n",
       "hABbN/fBBv7gBCCJnKz5HUEafbd4+18eiO4Qa2e4tWvqEosVgAyCpaG03GfSQ/VHA9SPRLa9h2AP\n",
       "hdHshwqJzczZfYERRHXmHhbKL3QZCV9tmx12UxY0qhRsQbuw4WDAKGVnWFCzKUpp5eqh3oR7GOEA\n",
       "AAAdQZ56RRUsK/8ASXXcvmodBj7odQ1Q/HpbaacJEkgAAAASAZ6bakK/AEl13L5qHQIvJBWxAAAA\n",
       "JkGan0moQWyZTAhn//6eEAFj/o+k+i0Px0O2knQmZEBlVyWYwIOBAAAAOUGevUUVLCv/AEmDJmcy\n",
       "ewUoAC8XxozCO0AB1egvWjZSaqoKbfwWH/c3XDnM/+OqY9bvBq9TcHD8gAAAAFEBnt5qQr8ASXX8\n",
       "R+cUL9kBJxECpOYAL08/vK44I9s7wc0AVfIhckzNa+58mW/vayPldY7IFtouRcfC3/BLLRJzb5Yl\n",
       "ifmMBpxQfiNF6p2TVBAAAAAYQZrDSahBbJlMCFf//jhABWva3AytLgN7AAAAFUGe4UUVLC//ADYB\n",
       "onwz9LP/tKaTgAAAACwBnwB0Qr8ASV0KDFCCU/3IAAcMj+nly8HDpMJJ4XA+YNSMyvYtdsIwAYaP\n",
       "CQAAAA0BnwJqQr8AIbr+6DpgAAAHlm1vb3YAAABsbXZoZAAAAAAAAAAAAAAAAAAAA+gAAA+gAAEA\n",
       "AAEAAAAAAAAAAAAAAAABAAAAAAAAAAAAAAAAAAAAAQAAAAAAAAAAAAAAAAAAQAAAAAAAAAAAAAAA\n",
       "AAAAAAAAAAAAAAAAAAAAAAAAAAIAAAbAdHJhawAAAFx0a2hkAAAAAwAAAAAAAAAAAAAAAQAAAAAA\n",
       "AA+gAAAAAAAAAAAAAAAAAAAAAAABAAAAAAAAAAAAAAAAAAAAAQAAAAAAAAAAAAAAAAAAQAAAAAGw\n",
       "AAABIAAAAAAAJGVkdHMAAAAcZWxzdAAAAAAAAAABAAAPoAAABAAAAQAAAAAGOG1kaWEAAAAgbWRo\n",
       "ZAAAAAAAAAAAAAAAAAAAMgAAAMgAVcQAAAAAAC1oZGxyAAAAAAAAAAB2aWRlAAAAAAAAAAAAAAAA\n",
       "VmlkZW9IYW5kbGVyAAAABeNtaW5mAAAAFHZtaGQAAAABAAAAAAAAAAAAAAAkZGluZgAAABxkcmVm\n",
       "AAAAAAAAAAEAAAAMdXJsIAAAAAEAAAWjc3RibAAAALNzdHNkAAAAAAAAAAEAAACjYXZjMQAAAAAA\n",
       "AAABAAAAAAAAAAAAAAAAAAAAAAGwASAASAAAAEgAAAAAAAAAAQAAAAAAAAAAAAAAAAAAAAAAAAAA\n",
       "AAAAAAAAAAAAAAAAABj//wAAADFhdmNDAWQAFf/hABhnZAAVrNlBsJaEAAADAAQAAAMAyDxYtlgB\n",
       "AAZo6+PLIsAAAAAcdXVpZGtoQPJfJE/FujmlG88DI/MAAAAAAAAAGHN0dHMAAAAAAAAAAQAAAGQA\n",
       "AAIAAAAAFHN0c3MAAAAAAAAAAQAAAAEAAALoY3R0cwAAAAAAAABbAAAAAgAABAAAAAABAAAGAAAA\n",
       "AAEAAAIAAAAAAQAABgAAAAABAAACAAAAAAQAAAQAAAAAAQAACgAAAAABAAAEAAAAAAEAAAAAAAAA\n",
       "AQAAAgAAAAABAAAKAAAAAAEAAAQAAAAAAQAAAAAAAAABAAACAAAAAAEAAAgAAAAAAgAAAgAAAAAB\n",
       "AAAIAAAAAAIAAAIAAAAAAQAACgAAAAABAAAEAAAAAAEAAAAAAAAAAQAAAgAAAAABAAAKAAAAAAEA\n",
       "AAQAAAAAAQAAAAAAAAABAAACAAAAAAEAAAoAAAAAAQAABAAAAAABAAAAAAAAAAEAAAIAAAAAAQAA\n",
       "BgAAAAABAAACAAAAAAEAAAoAAAAAAQAABAAAAAABAAAAAAAAAAEAAAIAAAAAAQAACgAAAAABAAAE\n",
       "AAAAAAEAAAAAAAAAAQAAAgAAAAABAAAKAAAAAAEAAAQAAAAAAQAAAAAAAAABAAACAAAAAAEAAAoA\n",
       "AAAAAQAABAAAAAABAAAAAAAAAAEAAAIAAAAAAQAACgAAAAABAAAEAAAAAAEAAAAAAAAAAQAAAgAA\n",
       "AAABAAAKAAAAAAEAAAQAAAAAAQAAAAAAAAABAAACAAAAAAEAAAoAAAAAAQAABAAAAAABAAAAAAAA\n",
       "AAEAAAIAAAAAAQAACAAAAAACAAACAAAAAAEAAAoAAAAAAQAABAAAAAABAAAAAAAAAAEAAAIAAAAA\n",
       "AQAACgAAAAABAAAEAAAAAAEAAAAAAAAAAQAAAgAAAAABAAAEAAAAAAEAAAoAAAAAAQAABAAAAAAB\n",
       "AAAAAAAAAAEAAAIAAAAAAQAACgAAAAABAAAEAAAAAAEAAAAAAAAAAQAAAgAAAAABAAAKAAAAAAEA\n",
       "AAQAAAAAAQAAAAAAAAABAAACAAAAAAEAAAgAAAAAAgAAAgAAAAABAAAIAAAAAAIAAAIAAAAAAQAA\n",
       "CgAAAAABAAAEAAAAAAEAAAAAAAAAAQAAAgAAAAAcc3RzYwAAAAAAAAABAAAAAQAAAGQAAAABAAAB\n",
       "pHN0c3oAAAAAAAAAAAAAAGQAAASpAAADGgAAALoAAABJAAAAbQAAACMAAACGAAAAVwAAANEAAAD7\n",
       "AAAALwAAAB4AAAAxAAAAEQAAABkAAABRAAAAVAAAAEIAAACvAAAAbAAAABwAAABmAAAAdAAAACMA\n",
       "AAAlAAAAGwAAAJ8AAAAPAAAAhgAAABwAAAASAAAAFwAAAHYAAABgAAAAHQAAABgAAACHAAAAGQAA\n",
       "ACkAAAAgAAAAYAAAABEAAAAZAAAAFgAAABEAAAARAAAAGQAAABYAAAARAAAAEQAAAGwAAAAbAAAA\n",
       "EQAAABYAAAAdAAAAGwAAAGUAAACMAAAAgAAAAB0AAAAUAAAAGAAAACAAAAAdAAAAGAAAAEAAAABE\n",
       "AAAAIAAAAB8AAAAfAAAAIgAAAB0AAAAUAAAAGAAAABkAAAAUAAAAFAAAAHAAAAAiAAAAHwAAABoA\n",
       "AAAUAAAA4QAAAGIAAAAYAAAARAAAANIAAAAqAAAAGwAAABoAAACDAAAAIQAAABYAAAAqAAAAPQAA\n",
       "AFUAAAAcAAAAGQAAADAAAAARAAAAFHN0Y28AAAAAAAAAAQAAACwAAABidWR0YQAAAFptZXRhAAAA\n",
       "AAAAACFoZGxyAAAAAAAAAABtZGlyYXBwbAAAAAAAAAAAAAAAAC1pbHN0AAAAJal0b28AAAAdZGF0\n",
       "YQAAAAEAAAAATGF2ZjU4LjI5LjEwMA==\n",
       "\">\n",
       "  Your browser does not support the video tag.\n",
       "</video>"
      ],
      "text/plain": [
       "<IPython.core.display.HTML object>"
      ]
     },
     "execution_count": 30,
     "metadata": {},
     "output_type": "execute_result"
    },
    {
     "data": {
      "image/png": "[encoded data removed]",
      "text/plain": [
       "<Figure size 432x288 with 1 Axes>"
      ]
     },
     "metadata": {
      "needs_background": "light"
     },
     "output_type": "display_data"
    }
   ],
   "source": [
    "fig, ax = plt.subplots()\n",
    "anim = splt.animator(spike_data_sample, fig, ax)\n",
    "\n",
    "HTML(anim.to_html5_video())"
   ]
  },
  {
   "cell_type": "markdown",
   "metadata": {
    "id": "FONW5DIkobZE",
    "pycharm": {
     "name": "#%% md\n"
    }
   },
   "source": [
    "This animation is obviously much tougher to make out in video form, but a keen eye will be able to catch a glimpse of the initial frame where most of the spikes occur.\n",
    "Index into the corresponding target value to check its value."
   ]
  },
  {
   "cell_type": "code",
   "execution_count": null,
   "metadata": {
    "id": "VgNLaB90obZD",
    "pycharm": {
     "name": "#%%\n"
    }
   },
   "outputs": [],
   "source": [
    "# Save output: .gif, .mp4 etc.\n",
    "# anim.save(\"mnist_latency.gif\")"
   ]
  },
  {
   "cell_type": "code",
   "execution_count": null,
   "metadata": {
    "id": "wrqfPu43obZE",
    "pycharm": {
     "name": "#%%\n"
    }
   },
   "outputs": [],
   "source": [
    "print(targets_it[0])"
   ]
  },
  {
   "cell_type": "markdown",
   "metadata": {
    "id": "sl93G7LwnG67"
   },
   "source": [
    "That's it for the `spikegen.latency` function. Further information [can be found in the documentation here](https://snntorch.readthedocs.io/en/latest/snntorch.spikegen.html)."
   ]
  },
  {
   "cell_type": "markdown",
   "metadata": {
    "id": "Uxe0msNpmpcN"
   },
   "source": [
    "### 2.4 Delta Modulation\n",
    "There are theories that the retina is adaptive: it will only process information when there is something new to process. If there is no change in your field of view, then your photoreceptor cells are  less prone to firing. \n",
    "\n",
    "That is to say: **biology is event-driven**. Neurons thrive on change.\n",
    "\n",
    "As a nifty example, a few researchers have dedicated their lives to designing retina-inspired image sensors, for example, the [Dynamic Vision Sensor](https://ieeexplore.ieee.org/abstract/document/7128412/). Although [the attached link is from over a decade ago, the work in this video](https://www.youtube.com/watch?v=6eOM15U_t1M&ab_channel=TobiDelbruck) was ahead of its time.\n",
    "\n",
    "Delta modulation is based on event-driven spiking. The `snntorch.delta` function accepts a time-series tensor as input. It takes the difference between each subsequent feature across all time steps. By default, if the difference is both *positive* and *greater than the threshold $V_{thr}$*, a spike is generated:\n",
    "\n",
    "<center>\n",
    "<img src='https://github.com/jeshraghian/snntorch/blob/master/docs/_static/img/examples/tutorial1/1_2_7_delta.png?raw=true' width=\"600\">\n",
    "</center>\n",
    "\n",
    "To illustrate, let's first come up with a contrived example where we create our own input tensor."
   ]
  },
  {
   "cell_type": "code",
   "execution_count": null,
   "metadata": {
    "id": "0AOr1kN-r4n-"
   },
   "outputs": [],
   "source": [
    "# Create a tensor with some fake time-series data\n",
    "data = torch.Tensor([0, 1, 0, 2, 8, -20, 20, -5, 0, 1, 0])\n",
    "\n",
    "# Plot the tensor\n",
    "plt.plot(data)\n",
    "\n",
    "plt.title(\"Some fake time-series data\")\n",
    "plt.xlabel(\"Time step\")\n",
    "plt.ylabel(\"Voltage (mV)\")\n",
    "plt.show()"
   ]
  },
  {
   "cell_type": "markdown",
   "metadata": {
    "id": "Ih_UJ526tJPo"
   },
   "source": [
    "Pass the above tensor into the `spikegen.delta` function, with an arbitrarily selected `threshold=4`:"
   ]
  },
  {
   "cell_type": "code",
   "execution_count": null,
   "metadata": {
    "id": "WSNI1zGdtHac"
   },
   "outputs": [],
   "source": [
    "# Convert data\n",
    "spike_data = spikegen.delta(data, threshold=4)\n",
    "\n",
    "# Create fig, ax\n",
    "fig = plt.figure(facecolor=\"w\", figsize=(8, 1))\n",
    "ax = fig.add_subplot(111)\n",
    "\n",
    "# Raster plot of delta converted data\n",
    "splt.raster(spike_data, ax, c=\"black\")\n",
    "\n",
    "plt.title(\"Input Neuron\")\n",
    "plt.xlabel(\"Time step\")\n",
    "plt.yticks([])\n",
    "plt.xlim(0, len(data))\n",
    "plt.show()"
   ]
  },
  {
   "cell_type": "markdown",
   "metadata": {
    "id": "dlmCwN40uPLq"
   },
   "source": [
    "There are three time steps where the difference between $data[T]$ and $data[T+1]$ is greater than or equal to $V_{thr}=4$. This means there are three *on-spikes*. \n",
    "\n",
    "The large dip to $-20$ has not been captured above. If negative swings have importance in your data, you can enable the optional argument `off_spike=True`."
   ]
  },
  {
   "cell_type": "code",
   "execution_count": null,
   "metadata": {
    "id": "WMrUGhRnuN8e"
   },
   "outputs": [],
   "source": [
    "# Convert data\n",
    "spike_data = spikegen.delta(data, threshold=4, off_spike=True)\n",
    "\n",
    "# Create fig, ax\n",
    "fig = plt.figure(facecolor=\"w\", figsize=(8, 1))\n",
    "ax = fig.add_subplot(111)\n",
    "\n",
    "# Raster plot of delta converted data\n",
    "splt.raster(spike_data, ax, c=\"black\")\n",
    "\n",
    "plt.title(\"Input Neuron\")\n",
    "plt.xlabel(\"Time step\")\n",
    "plt.yticks([])\n",
    "plt.xlim(0, len(data))\n",
    "plt.show()"
   ]
  },
  {
   "cell_type": "markdown",
   "metadata": {
    "id": "S_5FajsDvnEw"
   },
   "source": [
    "We've generated additional spikes, but this isn't actually the full picture! \n",
    "\n",
    "Printing out the tensor will show the presence of \"off-spikes\" which take on a value of `-1`."
   ]
  },
  {
   "cell_type": "code",
   "execution_count": null,
   "metadata": {
    "id": "9deHKE2zxGA5"
   },
   "outputs": [],
   "source": [
    "print(spike_data)"
   ]
  },
  {
   "cell_type": "markdown",
   "metadata": {
    "id": "-Nz32V0fxm2d"
   },
   "source": [
    "While `spikegen.delta` has only been demonstrated on a fake sample of data, its true use is to compress time-series data by only generating spikes for sufficiently large changes/events. \n",
    "\n",
    "That wraps up the three main spike conversion functions! There are still additional features to each of the three conversion techniques that have not been detailed in this tutorial. In particular, we have only looked at encoding input data; we have not considered how we might encode targets, and when that is necessary. We recommend [referring to the documentation for a deeper dive](https://snntorch.readthedocs.io/en/latest/snntorch.spikegen.html)."
   ]
  },
  {
   "cell_type": "markdown",
   "metadata": {
    "id": "mxrGoLIjobZE",
    "pycharm": {
     "name": "#%% md\n"
    }
   },
   "source": [
    "## 3. Spike Generation (Optional)\n",
    "Now what if we don't actually have any data to start with? \n",
    "Say we just want a randomly generated spike train from scratch. Inside of\n",
    "`spikegen.rate` is a nested function, `rate_conv`, which actually performs the  spike conversion step.\n",
    "\n",
    "All we have to do is initialize a randomly generated `torchTensor` to pass in."
   ]
  },
  {
   "cell_type": "code",
   "execution_count": null,
   "metadata": {
    "id": "-Q_7uj0vobZE",
    "pycharm": {
     "name": "#%%\n"
    }
   },
   "outputs": [],
   "source": [
    "# Create a random spike train\n",
    "spike_prob = torch.rand((num_steps, 28, 28), dtype=dtype) * 0.5\n",
    "spike_rand = spikegen.rate_conv(spike_prob)"
   ]
  },
  {
   "cell_type": "markdown",
   "metadata": {
    "id": "KOy-NZ5YobZF",
    "pycharm": {
     "name": "#%% md\n"
    }
   },
   "source": [
    "### 3.1 Animation"
   ]
  },
  {
   "cell_type": "code",
   "execution_count": null,
   "metadata": {
    "id": "yCIwKN0WobZF",
    "pycharm": {
     "name": "#%%\n"
    }
   },
   "outputs": [],
   "source": [
    "fig, ax = plt.subplots()\n",
    "anim = splt.animator(spike_rand, fig, ax)\n",
    "\n",
    "HTML(anim.to_html5_video())"
   ]
  },
  {
   "cell_type": "code",
   "execution_count": null,
   "metadata": {
    "id": "kx-VKWxFobZF",
    "pycharm": {
     "name": "#%%\n"
    }
   },
   "outputs": [],
   "source": [
    "# Save output: .gif, .mp4 etc.\n",
    "# anim.save(\"random_spikes.gif\")"
   ]
  },
  {
   "cell_type": "markdown",
   "metadata": {
    "id": "C_IH912xobZF",
    "pycharm": {
     "name": "#%% md\n"
    }
   },
   "source": [
    "### 3.2 Raster"
   ]
  },
  {
   "cell_type": "code",
   "execution_count": null,
   "metadata": {
    "id": "F6QgcKCrobZF",
    "pycharm": {
     "name": "#%%\n"
    }
   },
   "outputs": [],
   "source": [
    "fig = plt.figure(facecolor=\"w\", figsize=(10, 5))\n",
    "ax = fig.add_subplot(111)\n",
    "splt.raster(spike_rand[:, 0].view(num_steps, -1), ax, s=25, c=\"black\")\n",
    "\n",
    "plt.title(\"Input Layer\")\n",
    "plt.xlabel(\"Time step\")\n",
    "plt.ylabel(\"Neuron Number\")\n",
    "plt.show()"
   ]
  },
  {
   "cell_type": "markdown",
   "metadata": {
    "id": "QwEXpWkRy8_N"
   },
   "source": [
    "# Conclusion"
   ]
  },
  {
   "cell_type": "markdown",
   "metadata": {
    "id": "N-SsITWKobZF",
    "pycharm": {
     "name": "#%% md\n"
    }
   },
   "source": [
    "That's it for spike conversion and generation. \n",
    "This approach generalizes beyond images, to single-dimensional and multi-dimensional tensors.\n",
    "\n",
    "For reference, the documentation for [`spikegen` can be found here](https://snntorch.readthedocs.io/en/latest/snntorch.spikegen.html) and for [`spikeplot`, here](https://snntorch.readthedocs.io/en/latest/snntorch.spikeplot.html)\n",
    "\n",
    "[In the next tutorial](https://snntorch.readthedocs.io/en/latest/tutorials/index.html), you will learn the basics of spiking neurons and how to use them.\n",
    "\n",
    "If you like this project, please consider starring ⭐ the repo on GitHub as it is the easiest and best way to support it."
   ]
  },
  {
   "cell_type": "markdown",
   "metadata": {},
   "source": [
    "# Additional Resources\n",
    "\n",
    "* [Check out the snnTorch GitHub project here.](https://github.com/jeshraghian/snntorch)"
   ]
  }
 ],
 "metadata": {
  "accelerator": "GPU",
  "colab": {
   "collapsed_sections": [
    "9QXsrr6Mp5e_",
    "1EWDw3bip8Ie",
    "vFM8UV9CreIX",
    "xXkTAJ9ws1Y6",
    "OgkWg605tE1y",
    "OBt0WDzyujnk",
    "xC96eesMqYo-",
    "mszPTrYOluym",
    "VTHK-wAWV57B"
   ],
   "name": "Copy of quantAwareTrain.ipynb",
   "provenance": []
  },
  "interpreter": {
   "hash": "579503e60735c0b0ad61cf404d04af89041cf694c55fa4cc17d05f5d9b483dbc"
  },
  "kernelspec": {
   "display_name": "Python 3 (ipykernel)",
   "language": "python",
   "name": "python3"
  },
  "language_info": {
   "codemirror_mode": {
    "name": "ipython",
    "version": 3
   },
   "file_extension": ".py",
   "mimetype": "text/x-python",
   "name": "python",
   "nbconvert_exporter": "python",
   "pygments_lexer": "ipython3",
   "version": "3.8.13"
  }
 },
 "nbformat": 4,
 "nbformat_minor": 2
}
