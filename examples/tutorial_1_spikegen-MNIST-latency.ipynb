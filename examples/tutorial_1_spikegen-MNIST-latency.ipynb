{
 "cells": [
  {
   "cell_type": "markdown",
   "metadata": {
    "id": "RBNKFLJIobYt"
   },
   "source": [
    "[<img src='https://github.com/jeshraghian/snntorch/blob/master/docs/_static/img/snntorch_alpha_w.png?raw=true' width=\"400\">](https://github.com/jeshraghian/snntorch/)\n",
    "\n",
    "# Tutorial 1 - Spike Encoding\n",
    "## By Jason K. Eshraghian (www.ncg.ucsc.edu)\n",
    "\n",
    "\n",
    "<a href=\"https://colab.research.google.com/github/jeshraghian/snntorch/blob/master/examples/tutorial_1_spikegen.ipynb\">\n",
    "  <img src=\"https://colab.research.google.com/assets/colab-badge.svg\" alt=\"Open In Colab\"/>\n",
    "</a>\n",
    "\n",
    "[<img src='https://github.com/jeshraghian/snntorch/blob/master/docs/_static/img/GitHub-Mark-Light-120px-plus.png?raw=true' width=\"28\">](https://github.com/jeshraghian/snntorch/) [<img src='https://github.com/jeshraghian/snntorch/blob/master/docs/_static/img/GitHub_Logo_White.png?raw=true' width=\"80\">](https://github.com/jeshraghian/snntorch/)\n"
   ]
  },
  {
   "cell_type": "markdown",
   "metadata": {
    "id": "4blpfg4y44uO"
   },
   "source": [
    "The snnTorch tutorial series is based on the following paper. If you find these resources or code useful in your work, please consider citing the following source:\n",
    "\n",
    "> <cite> [Jason K. Eshraghian, Max Ward, Emre Neftci, Xinxin Wang, Gregor Lenz, Girish Dwivedi, Mohammed Bennamoun, Doo Seok Jeong, and Wei D. Lu. \"Training Spiking Neural Networks Using Lessons From Deep Learning\". arXiv preprint arXiv:2109.12894, September 2021.](https://arxiv.org/abs/2109.12894) </cite>"
   ]
  },
  {
   "cell_type": "markdown",
   "metadata": {
    "id": "lnF_PEo5obYv",
    "pycharm": {
     "name": "#%% md\n"
    }
   },
   "source": [
    "In this tutorial, you will learn how to use snnTorch to:\n",
    "* convert datasets into spiking datasets, \n",
    "* how to visualise them, \n",
    "* and how to generate random spike trains."
   ]
  },
  {
   "cell_type": "markdown",
   "metadata": {
    "id": "d7qhH_lt8_mn"
   },
   "source": [
    "# Introduction\n",
    "Light is what we see when the retina converts photons into spikes. Odors are what we smell when volatilised molecules are converted into spikes. Touch is what we feel when nerve endings turn tactile pressure into spikes. The brain trades in the global currency of the *spike*. \n",
    "\n",
    "If our end goal is to build a spiking neural network (SNN), it makes sense to use spikes at the input too. Although it is quite common to use non-spiking inputs (as will be seen in Tutorial 3), part of the appeal of encoding data come from the *three S's*: spikes, sparsity, and static suppression.\n",
    "\n",
    "\n",
    "\n",
    "1.   **Spikes**: (a-b) Biological neurons process and communicate via spikes, which are electrical impulses of approximately 100 mV in amplitude. (c) Many computational models of neurons simplify this voltage burst to a discrete, single-bit event: a '1' or a '0'. This is far simpler to represent in hardware than a high precision value.\n",
    "\n",
    "2.   **Sparsity**: (c) Neurons spend most of their time at rest, silencing most activations to *zero* at any given time. Not only are sparse vectors/tensors (with loads of zeros) cheap to store, but say we need to multiply sparse activations with synaptic weights. If most values are multiplied by '0', then we don't need to read many of the network parameters from memory. This means neuromorphic hardware can be extremely efficient. \n",
    "\n",
    "3.   **Static-Suppression (a.k.a, event-driven processing**: (d-e) The sensory periphery only processes information when there is new information to process. Each pixel in (e) responds to *changes* in illuminance, so most of the image is blocked out. Conventional signal processing requires all channels/pixels to adhere to a global sampling/shutter rate, which slows down how frequently sensing can take place. Event-driven processing now only contributes to sparsity and power-efficiency by blocking unchanging input, but it often allows for much faster processing speeds.\n",
    "\n",
    "\n",
    "<center>\n",
    "<img src='https://github.com/jeshraghian/snntorch/blob/master/docs/_static/img/examples/tutorial1/3s.png?raw=true' width=\"600\">\n",
    "</center>"
   ]
  },
  {
   "cell_type": "markdown",
   "metadata": {
    "id": "lGNOnFM4DzHY"
   },
   "source": [
    "In this tutorial, we will assume we have some non-spiking input data (i.e., the MNIST dataset) and that we want to encode it into spikes using a few different techniques. So let's get started! "
   ]
  },
  {
   "cell_type": "markdown",
   "metadata": {
    "id": "GAbXmmVN50Pl"
   },
   "source": [
    "Install the latest PyPi distribution of snnTorch:"
   ]
  },
  {
   "cell_type": "code",
   "execution_count": null,
   "metadata": {
    "id": "jxLoYgkhobYw",
    "pycharm": {
     "name": "#%%\n"
    }
   },
   "outputs": [],
   "source": [
    "!pip install snntorch"
   ]
  },
  {
   "cell_type": "markdown",
   "metadata": {
    "id": "k6E7VH5kbTmA"
   },
   "source": [
    "## 1. Setting up the MNIST Dataset"
   ]
  },
  {
   "cell_type": "markdown",
   "metadata": {
    "id": "Suffg8_ZobYw",
    "pycharm": {
     "name": "#%% md\n"
    }
   },
   "source": [
    "### 1.1. Import packages and setup environment"
   ]
  },
  {
   "cell_type": "code",
   "execution_count": 2,
   "metadata": {
    "id": "cR9okh0jobYx",
    "pycharm": {
     "name": "#%%\n"
    }
   },
   "outputs": [],
   "source": [
    "import snntorch as snn\n",
    "import torch"
   ]
  },
  {
   "cell_type": "code",
   "execution_count": 3,
   "metadata": {
    "id": "e4LPD0WCobYx",
    "pycharm": {
     "name": "#%%\n"
    }
   },
   "outputs": [],
   "source": [
    "# Training Parameters\n",
    "batch_size=128\n",
    "data_path='/data/mnist'\n",
    "num_classes = 10  # MNIST has 10 output classes\n",
    "\n",
    "# Torch Variables\n",
    "dtype = torch.float"
   ]
  },
  {
   "cell_type": "markdown",
   "metadata": {
    "id": "x5X2a5a9obYy"
   },
   "source": [
    "### 1.2 Download Dataset"
   ]
  },
  {
   "cell_type": "code",
   "execution_count": 4,
   "metadata": {
    "id": "OlbY8Rm9obYy",
    "pycharm": {
     "name": "#%%\n"
    }
   },
   "outputs": [
    {
     "name": "stderr",
     "output_type": "stream",
     "text": [
      "/opt/conda/lib/python3.8/site-packages/torchvision/datasets/mnist.py:498: UserWarning: The given NumPy array is not writeable, and PyTorch does not support non-writeable tensors. This means you can write to the underlying (supposedly non-writeable) NumPy array using the tensor. You may want to copy the array to protect its data or make it writeable before converting it to a tensor. This type of warning will be suppressed for the rest of this program. (Triggered internally at  /pytorch/torch/csrc/utils/tensor_numpy.cpp:180.)\n",
      "  return torch.from_numpy(parsed.astype(m[2], copy=False)).view(*s)\n"
     ]
    }
   ],
   "source": [
    "from torchvision import datasets, transforms\n",
    "\n",
    "# Define a transform\n",
    "transform = transforms.Compose([\n",
    "            transforms.Resize((28,28)),\n",
    "            transforms.Grayscale(),\n",
    "            transforms.ToTensor(),\n",
    "            transforms.Normalize((0,), (1,))])\n",
    "\n",
    "mnist_train = datasets.MNIST(data_path, train=True, download=True, transform=transform)"
   ]
  },
  {
   "cell_type": "markdown",
   "metadata": {
    "id": "6ZyzEp9YHgPb"
   },
   "source": [
    "If the above code block throws an error, e.g. the MNIST servers are down, then uncomment the following code instead."
   ]
  },
  {
   "cell_type": "code",
   "execution_count": null,
   "metadata": {
    "id": "ZpGLLVqeHgwy"
   },
   "outputs": [],
   "source": [
    "# # temporary dataloader if MNIST service is unavailable\n",
    "# !wget www.di.ens.fr/~lelarge/MNIST.tar.gz\n",
    "# !tar -zxvf MNIST.tar.gz\n",
    "\n",
    "# mnist_train = datasets.MNIST(root = './', train=True, download=True, transform=transform)"
   ]
  },
  {
   "cell_type": "markdown",
   "metadata": {
    "id": "T5wXl2bVobYz",
    "pycharm": {
     "name": "#%% md\n"
    }
   },
   "source": [
    "Until we actually start training a network, we won't need large datasets.\n",
    "`snntorch.utils` contains a few useful functions for modifying datasets. Apply `data_subset` to reduce the dataset by the factor defined in `subset`. *E.g., for `subset=10`, a training set of 60,000 will be reduced to 6,000.*\n"
   ]
  },
  {
   "cell_type": "code",
   "execution_count": 5,
   "metadata": {
    "id": "5FPsPU46obYz",
    "pycharm": {
     "name": "#%%\n"
    }
   },
   "outputs": [
    {
     "name": "stdout",
     "output_type": "stream",
     "text": [
      "The size of mnist_train is 6000\n"
     ]
    }
   ],
   "source": [
    "from snntorch import utils\n",
    "\n",
    "subset = 10\n",
    "mnist_train = utils.data_subset(mnist_train, subset)\n",
    "print(f\"The size of mnist_train is {len(mnist_train)}\")"
   ]
  },
  {
   "cell_type": "markdown",
   "metadata": {
    "id": "9CedMagsobY0",
    "pycharm": {
     "name": "#%% md\n"
    }
   },
   "source": [
    "### 1.3 Create DataLoaders\n",
    "The Dataset objects created above load data into memory, and the DataLoader will serve it up in batches. DataLoaders in PyTorch are a handy interface for passing data into a network. They return an iterator divided up into mini-batches of size ``batch_size``."
   ]
  },
  {
   "cell_type": "code",
   "execution_count": 6,
   "metadata": {
    "id": "TrJLlWj2obY0",
    "pycharm": {
     "name": "#%%\n"
    }
   },
   "outputs": [],
   "source": [
    "from torch.utils.data import DataLoader\n",
    "\n",
    "train_loader = DataLoader(mnist_train, batch_size=batch_size, shuffle=True)"
   ]
  },
  {
   "cell_type": "markdown",
   "metadata": {
    "id": "mwSdczxKobY0",
    "pycharm": {
     "name": "#%% md\n"
    }
   },
   "source": [
    "## 2. Spike Encoding\n",
    "\n",
    "Spiking Neural Networks (SNNs) are made to exploit time-varying data. And yet, MNIST is not a time-varying dataset.\n",
    "There are two options for using MNIST with an SNN:\n",
    "\n",
    "1. Repeatedly pass the same training sample $\\mathbf{X}\\in\\mathbb{R}^{m\\times n}$ to the network at each time step. This is like converting MNIST into a static, unchanging video. Each element of $\\mathbf{X}$ can take a high precision value normalized between 0 and 1: $X_{ij}\\in [0, 1]$. \n",
    "\n",
    "<center>\n",
    "<img src='https://github.com/jeshraghian/snntorch/blob/master/docs/_static/img/examples/tutorial1/1_2_1_static.png?raw=true' width=\"700\">\n",
    "</center>\n",
    "\n",
    "2. Convert the input into a spike train of sequence length `num_steps`, where each feature/pixel takes on a discrete value $X_{i,j} \\in \\{0, 1\\}$.\n",
    "In this case, MNIST is converted into a time-varying sequence of spikes that features a relation to the original image.\n",
    "\n",
    "<center>\n",
    "<img src='https://github.com/jeshraghian/snntorch/blob/master/docs/_static/img/examples/tutorial1/1_2_2_spikeinput.png?raw=true' width=\"700\">\n",
    "</center>\n",
    "\n",
    "The first method is quite straightforward, and does not fully exploit the temporal dynamics of SNNs. So let’s consider data-to-spike conversion (encoding) from (2) in more detail.\n",
    "\n",
    "The module `snntorch.spikegen` (i.e., spike generation) contains a series of functions that simplify the conversion of data into spikes. There are currently three options available for spike encoding in `snntorch`:\n",
    "\n",
    "1. Rate coding: [`spikegen.rate`](https://snntorch.readthedocs.io/en/latest/snntorch.spikegen.html#snntorch.spikegen.rate)\n",
    "2. Latency coding: [`spikegen.latency`](https://snntorch.readthedocs.io/en/latest/snntorch.spikegen.html#snntorch.spikegen.latency)\n",
    "3. Delta modulation: [`spikegen.delta`](https://snntorch.readthedocs.io/en/latest/snntorch.spikegen.html#snntorch.spikegen.delta)\n",
    "\n",
    "How do these differ?\n",
    "\n",
    "\n",
    "1.   *Rate coding* uses input features to determine spiking **frequency**\n",
    "2.   *Latency coding* uses input features to determine spike **timing**\n",
    "3.   *Delta modulation* uses the temporal **change** of input features to generate spikes\n"
   ]
  },
  {
   "cell_type": "markdown",
   "metadata": {
    "id": "3D5HSoY4bQDm"
   },
   "source": [
    "### 2.1 Rate coding of MNIST\n",
    "\n",
    "One example of converting input data into a rate code is as follows. \n",
    "Each normalised input feature $X_{ij}$ is used as the probability an event (spike) occurs at any given time step, returning a rate-coded value $R_{ij}$. This can be treated as a Bernoulli trial: $R_{ij}\\sim B(n,p)$, where the number of trials is $n=1$, and the probability of success (spiking) is $p=X_{ij}$. Explicitly, the probability a spike occurs is:\n",
    "\n",
    "$${\\rm P}(R_{ij}=1) = X_{ij} = 1 - {\\rm P}(R_{ij} = 0)$$\n",
    "\n",
    "Create a vector filled with the value '0.5' and encode it using the above technique:"
   ]
  },
  {
   "cell_type": "code",
   "execution_count": 7,
   "metadata": {
    "id": "DxorUvomL1ei"
   },
   "outputs": [
    {
     "name": "stdout",
     "output_type": "stream",
     "text": [
      "Converted vector: tensor([0., 1., 1., 0., 0., 0., 1., 1., 1., 1.])\n",
      "The output is spiking 60.00% of the time.\n"
     ]
    }
   ],
   "source": [
    "# Temporal Dynamics\n",
    "num_steps = 10\n",
    "\n",
    "# create vector filled with 0.5\n",
    "raw_vector = torch.ones(num_steps)*0.5\n",
    "\n",
    "# pass each sample through a Bernoulli trial\n",
    "rate_coded_vector = torch.bernoulli(raw_vector)\n",
    "print(f\"Converted vector: {rate_coded_vector}\")\n",
    "\n",
    "print(f\"The output is spiking {rate_coded_vector.sum()*100/len(rate_coded_vector):.2f}% of the time.\")"
   ]
  },
  {
   "cell_type": "markdown",
   "metadata": {
    "id": "l0E8Z8mSNflV"
   },
   "source": [
    "Now try again, but increasing the length of `raw_vector`:"
   ]
  },
  {
   "cell_type": "code",
   "execution_count": 8,
   "metadata": {
    "id": "Y6uUgpktNjBg"
   },
   "outputs": [
    {
     "name": "stdout",
     "output_type": "stream",
     "text": [
      "The output is spiking 48.00% of the time.\n"
     ]
    }
   ],
   "source": [
    "num_steps = 100\n",
    "\n",
    "# create vector filled with 0.5\n",
    "raw_vector = torch.ones(num_steps)*0.5\n",
    "\n",
    "# pass each sample through a Bernoulli trial\n",
    "rate_coded_vector = torch.bernoulli(raw_vector)\n",
    "print(f\"The output is spiking {rate_coded_vector.sum()*100/len(rate_coded_vector):.2f}% of the time.\")"
   ]
  },
  {
   "cell_type": "markdown",
   "metadata": {
    "id": "zoLxfVoINzdH"
   },
   "source": [
    "As `num_steps`$\\rightarrow\\infty$, the proportion of spikes approaches the original raw value."
   ]
  },
  {
   "cell_type": "markdown",
   "metadata": {
    "id": "eYKsWmoGLz6S"
   },
   "source": [
    "For an MNIST image, this probability of spiking corresponds to the pixel value. A white pixel corresponds to a 100% probability of spiking, and a black pixel will never generate a spike. Take a look at the 'Rate Coding' column below for further intuition.\n",
    "\n",
    "\n",
    "<center>\n",
    "<img src='https://github.com/jeshraghian/snntorch/blob/master/docs/_static/img/examples/tutorial1/1_2_3_spikeconv.png?raw=true' width=\"1000\">\n",
    "</center>"
   ]
  },
  {
   "cell_type": "markdown",
   "metadata": {
    "id": "k8_Lzm6FOcm0"
   },
   "source": [
    "In a similar way, `spikegen.rate` can be used to generate a rate-coded sample of data. As each sample of MNIST is just an image, we can use `num_steps` to repeat it across time. "
   ]
  },
  {
   "cell_type": "code",
   "execution_count": 9,
   "metadata": {
    "id": "nz70JGXqobY1",
    "pycharm": {
     "name": "#%%\n"
    }
   },
   "outputs": [],
   "source": [
    "from snntorch import spikegen\n",
    "\n",
    "# Iterate through minibatches\n",
    "data = iter(train_loader)\n",
    "data_it, targets_it = next(data)\n",
    "\n",
    "# Spiking Data\n",
    "spike_data = spikegen.rate(data_it, num_steps=num_steps)"
   ]
  },
  {
   "cell_type": "markdown",
   "metadata": {
    "id": "q0hATEwKobY1",
    "pycharm": {
     "name": "#%% md\n"
    }
   },
   "source": [
    "If the input falls outside of $[0,1]$, this no longer represents a probability. Such cases are automatically clipped to ensure the feature represents a probability.\n",
    "\n",
    "The structure of the input data is ``[num_steps x batch_size x input dimensions]``:"
   ]
  },
  {
   "cell_type": "code",
   "execution_count": 10,
   "metadata": {
    "id": "ebdP5kFKobY2",
    "pycharm": {
     "name": "#%%\n"
    }
   },
   "outputs": [
    {
     "name": "stdout",
     "output_type": "stream",
     "text": [
      "torch.Size([100, 128, 1, 28, 28])\n"
     ]
    }
   ],
   "source": [
    "print(spike_data.size())"
   ]
  },
  {
   "cell_type": "markdown",
   "metadata": {
    "id": "Cnas5Q89l_10"
   },
   "source": [
    "### 2.2 Visualization"
   ]
  },
  {
   "cell_type": "markdown",
   "metadata": {
    "id": "oVFuIXxMobY2",
    "pycharm": {
     "name": "#%% md\n"
    }
   },
   "source": [
    "#### 2.2.1 Animation\n",
    "snnTorch contains a module [`snntorch.spikeplot`](https://snntorch.readthedocs.io/en/latest/snntorch.spikeplot.html) that simplifies the process of visualizing, plotting, and animating spiking neurons.\n"
   ]
  },
  {
   "cell_type": "code",
   "execution_count": 11,
   "metadata": {
    "id": "4TYFlc4_ZK-u"
   },
   "outputs": [],
   "source": [
    "import matplotlib.pyplot as plt\n",
    "import snntorch.spikeplot as splt\n",
    "from IPython.display import HTML"
   ]
  },
  {
   "cell_type": "markdown",
   "metadata": {
    "id": "fwWROIkdobY3",
    "pycharm": {
     "name": "#%% md\n"
    }
   },
   "source": [
    "To plot one sample of data, index into a single sample from the batch (B) dimension of `spike_data`, ``[T x B x 1 x 28 x 28]``:"
   ]
  },
  {
   "cell_type": "code",
   "execution_count": 12,
   "metadata": {
    "id": "ZZxTqqOlobY3",
    "pycharm": {
     "name": "#%%\n"
    }
   },
   "outputs": [
    {
     "name": "stdout",
     "output_type": "stream",
     "text": [
      "torch.Size([100, 28, 28])\n"
     ]
    }
   ],
   "source": [
    "spike_data_sample = spike_data[:, 0, 0]\n",
    "print(spike_data_sample.size())"
   ]
  },
  {
   "cell_type": "markdown",
   "metadata": {
    "id": "lJJyPUiuQ61x"
   },
   "source": [
    "`spikeplot.animator` makes it super simple to animate 2-D data.<br>\n",
    "Note: if you are running the notebook locally you may need to install ffmpeg: e.g., `pip install ffmpeg` or if in a Conda environment, `conda install -c conda-forge ffmpeg`.<br>\n",
    "If ffmpeg is not found, please uncomment the line below and modify the path to your ffmpeg.exe."
   ]
  },
  {
   "cell_type": "code",
   "execution_count": 13,
   "metadata": {
    "id": "4QVyvj9PobY3",
    "pycharm": {
     "name": "#%%\n"
    }
   },
   "outputs": [
    {
     "data": {
      "text/html": [
       "<video width=\"432\" height=\"288\" controls autoplay loop>\n",
       "  <source type=\"video/mp4\" src=\"data:video/mp4;base64,AAAAHGZ0eXBNNFYgAAACAGlzb21pc28yYXZjMQAAAAhmcmVlAACCiG1kYXQAAAKuBgX//6rcRem9\n",
       "5tlIt5Ys2CDZI+7veDI2NCAtIGNvcmUgMTU1IHIyOTE3IDBhODRkOTggLSBILjI2NC9NUEVHLTQg\n",
       "QVZDIGNvZGVjIC0gQ29weWxlZnQgMjAwMy0yMDE4IC0gaHR0cDovL3d3dy52aWRlb2xhbi5vcmcv\n",
       "eDI2NC5odG1sIC0gb3B0aW9uczogY2FiYWM9MSByZWY9MyBkZWJsb2NrPTE6MDowIGFuYWx5c2U9\n",
       "MHgzOjB4MTEzIG1lPWhleCBzdWJtZT03IHBzeT0xIHBzeV9yZD0xLjAwOjAuMDAgbWl4ZWRfcmVm\n",
       "PTEgbWVfcmFuZ2U9MTYgY2hyb21hX21lPTEgdHJlbGxpcz0xIDh4OGRjdD0xIGNxbT0wIGRlYWR6\n",
       "b25lPTIxLDExIGZhc3RfcHNraXA9MSBjaHJvbWFfcXBfb2Zmc2V0PS0yIHRocmVhZHM9OSBsb29r\n",
       "YWhlYWRfdGhyZWFkcz0xIHNsaWNlZF90aHJlYWRzPTAgbnI9MCBkZWNpbWF0ZT0xIGludGVybGFj\n",
       "ZWQ9MCBibHVyYXlfY29tcGF0PTAgY29uc3RyYWluZWRfaW50cmE9MCBiZnJhbWVzPTMgYl9weXJh\n",
       "bWlkPTIgYl9hZGFwdD0xIGJfYmlhcz0wIGRpcmVjdD0xIHdlaWdodGI9MSBvcGVuX2dvcD0wIHdl\n",
       "aWdodHA9MiBrZXlpbnQ9MjUwIGtleWludF9taW49MjUgc2NlbmVjdXQ9NDAgaW50cmFfcmVmcmVz\n",
       "aD0wIHJjX2xvb2thaGVhZD00MCByYz1jcmYgbWJ0cmVlPTEgY3JmPTIzLjAgcWNvbXA9MC42MCBx\n",
       "cG1pbj0wIHFwbWF4PTY5IHFwc3RlcD00IGlwX3JhdGlvPTEuNDAgYXE9MToxLjAwAIAAAAfSZYiE\n",
       "ADv//vdOvwKbRZdqA5JXCvbKpCZZuVJrAfKmAAADAAARsG58lw15q9IkAACtobhz+EtXgAGbPfnA\n",
       "6vBq2y4KD1VFSYr8QiGU1RZ6il6SV2xj+fxPL8Qg2QVIKd1FSNrbUkyK8j5tf2bXuuUAqmGmgt72\n",
       "qfAnam+BtJ+fYoQA8pYwsjqib3T1EXHpSR9Kjy1vDkPHhUXvSVGtRaV0iOBIZUFAZv7//YZ/ruGE\n",
       "s3XKk4fetiWkcB72FtwBxDk8lxQrWHRevzXyDuPWtaFw9hGStpaX1xwHtadFt5jfeH3KINf4AEy9\n",
       "c0RCpwC+QFjWlxzR0beCGuhG2wBiKGFnqltS0e7ykEUksTwy2Amtinc0e1GZhARSYtLQycJigJ6i\n",
       "DNY9eKRq6+82tj/rXv+G1o6chHcbz2kLFsJXqaUwMaT6tC5NnffYGmEnbj0zjQWhcgXUMG5m+1gf\n",
       "QYmkGP61GFYRI89JPwWpBAaIKw9dPJJDG26ChVliuFEGQRG8nlUnb/NvConRrhxbePUQ/JNNR2VZ\n",
       "4KNnp4NaPlGGwduZXACh/IyBsaN0IQGtVn/mRBxEbAX70S5XK3kG2OMEeW2omUhBT9ZhmXPHEMe+\n",
       "4hdM/uM3IY+EoQ1zgS0OxiRTK7UF8bXWJPeKO96sq5BBGLW+Y4JfULWh2Qry/4rtTkL56KpSXQFa\n",
       "VDUW5b/bct7wSsSGxEcf+ySISVP1k9lTzi4NksCvp7yTh0QRpoxMewnUOhPL/XENX/nx5GGTIQbc\n",
       "SAM12vVEHw/E8ps3Goyb0MCxQI2dQIYD1RbiT6kLtgV37STGkcgAhnkIUTqP9tPq7ENJjKjFRiyr\n",
       "sAb45LU1EcJ+Iz5MdXkApqkKmsqARe+epN2KPiRbIzWRSovGO417n1oJglvsEoO64vgMq5ck3lcO\n",
       "5uNx9nLWyHVZ0Cb3yun8aljWdYso6t7iJ53pdFdeU9YOhAx1PzG/NXBBrT39Q4ktSrJcBl7YjzVV\n",
       "+5oRv3lCK9XxIFhcvcUHHe5p8UgSn4+DF6fKUjvQO6ouR1CAykCPGTxpxFOu3Rg4vD/fnWhAXDaw\n",
       "SJgoowv8vblvn5tpyh1AUjtuinPtHNka9oly5FDaU6NV1+RoFzqzgPWEaz6dFbqkhKC7+E4I42jd\n",
       "l7jlvs3HuliT8umxb9mDhYBZz8FZPAiLk0NvxzoK74PaNMiAKBNkXnhhyaCcktGdz0NG7NPob3LT\n",
       "Ubho7dX1IkJE8RxAD3vJ53XUSZ137gTz8CZLhNc+wQJl0raFJ7zic6JRwQNUzTOTB2HhN/5AGhX4\n",
       "WryAlciqq5FJzb+IayuxBZjEo3yOE4mMiJk4vlemnV+JMDV/IWbp8bDh3r0DMmW0mqGrH8V4x1PP\n",
       "+9ueDwX7+5419Rvap7C5tCvwZv/kNEI7aT/ArEI6KyFkpLjjTRcx8dpn9JVBI3MfWSMAS4yPUSbd\n",
       "c/zRN8CNKI3SJ8+4JTJ5/f7w6ScdRmdliVHHgkD/ggUAfwjALO49ScRmVRd9X/mKcrPQG4yLdJ6z\n",
       "36Sj4klg/ZS5WNznUvedVZSe/tHZlCJqyIVHt5IckErM1vG6hutibJQ8suc93BysLMGVSQBfIfj+\n",
       "csD4ydAfVrqq1GAkU2QILJqtWOhl+eB25vor14TdbgwoBEqRz8vA8BVI8mie0acmD3wC9oSBedWx\n",
       "b5buMqJlQgQDhhmbDztOlEtYp96AWNAvzxMvjwOOv5FQQwUJ248H/Fb2KMyo8UjjGwoTueT8b41Q\n",
       "a2v/9slkHwldibfBltUf8rr/Zg8ie+yCAOtW/uju5oPIY2Y1mnTfo6phzVC+qWdz4v9f21HMJL4u\n",
       "cUHqYJFmV/ZI4n08wokXZB3fibWGMwP4QrkSXSL8Yc4frlr0fXvjuGKiBcJzi5X2hC430L6+vp/Y\n",
       "6SE0ut1JmfzkhTnUhyOekDEoOE2Msvt8crZ2ytY2rP7DFlE/2i3AYlqeznrbXUlTFqvqbIcwmkAp\n",
       "kL+XfOlH1a7vlFcjdxBcS6jvpb6HxjOPk4l9wW5DqXVXFXYi73PqAtPEj62NL6mzlqc5caehz8AT\n",
       "ZJlJvNpa5KVyLqj8zcfreROeFn+EODSPbpEyxEoSII8v72NbrDmXRHb8du4vEzBhjCnu5/k6DPkN\n",
       "yYXaOQZy1LylHR9YqRfYQi5/LiUXhjzqzY8JFeM9OIHCAdSUSHEwK4/rju3mcjk6BAr7CvP4gqDD\n",
       "ETuq7OCvfQGp0l1Fv98oryzG8rNsLJP4+Udcd5Yps5vj4eIGC5Wm0SuzzrXkrxrdjb/dHMdy1b+4\n",
       "/jjsFHHiUshSa//8WG85xZehysJgCtNqqcZ5oBJjS/uLw30bHsi4R8QAk3rOF2jvuWkQZuFCgPYF\n",
       "AlmoiQwpU58IMOD+BAx6BsCk9H92XXg9rvBcW5QpYOdp1zHER2+EoFsn+tjU65RsDEjwMtmllNBE\n",
       "lTs7DLNld4/OE0x9xSIDf+whUA3ocv2Y0yx+k6l0UQmJThOgdHvYNYpYQQ1H8R0MImsUaX45Fp/r\n",
       "HaE5wBZMhWTbiLsWtEaxaQRZvt+LrjIsk+gaO66NvkYDbR+eJ8PWIomgaYl3B8q2jq3fAIdvpDC1\n",
       "E3FOWvugM+g1rsBIGUV5W5aQ8m6rqfzj/cZG1pGF+QXvqqxe05GBp8M9/X2PimpA81M5u/VAAAAO\n",
       "VthZRQAAAypBmiRsQ7/+qZYAkDCPQAh3DproA3PQp628Z/Ovctckv4wyst1bxj8MJWSsVxgs/swK\n",
       "Ls3Zkhx/LGuM1bYIlUpcevsdFPONjxI9egmQyeJjiYTOH84UEDCGn8X8jSZ5DqwaFdVB9A5h/UXK\n",
       "LZ0sj1vboMBMHLVOj9guDBlsEb/CKo2ZncxykDI4KvTsnsBy/AR/QwesclZtATO92ZeKyytWuTx/\n",
       "YGnC0KUcMrRyyOZ9nXLXJVP+zPDoQD7XCpvMc+n3GeEFyuUNdqrbHbnliqMcSXbLJX/mjMqk8PTJ\n",
       "3e38JlqZsWNcFgHjSuebqzD3F1HOdHUipOk4ghn764HoxerzWNGje3FsHibjwTQ8CRlRcf/gY4QF\n",
       "VgU67mgAtAIzqbAuBJfOFqxdx6ZNcwth/WlYXvOeulMg9CE2t+JZkXrfOwTCJROV8M0Nv7pO+Y3l\n",
       "NLHr4HYLBwGAyJZtCXmsBjj4bBTJgRNitHsPNckd6QgTb14wIesyFpZ7qDA8T2GWcDnMY7j3jegq\n",
       "rnqRCFTc2I1aMajQxTlPV01siMgb+Ty9AkhkelE2x+0j7hU/rsFt9StD0jICSAcDunmMOPyALZQD\n",
       "TsOOKHkCYIucpJMVxAVrcTO5z9jcVU9gv718Of/S8TrSo3LaQvkI8fkOxAaBoE9aZCfO+pXmqBVN\n",
       "YWSby+bftwvDiNav5iUIPweBEjU/JJExE6TKjm1TjvOfwaxWJJnETNX7QaTADsZ64YIuLMXGeURG\n",
       "FDEo2cZEcx+NDSeIhabL/tpAalZGDJ1HmIwAPMttSren2BufzkOV8q33/GQurWkMHKZDGS1RQEQK\n",
       "FaEwAybVqqHHsVMLJDYJuhMNVds3mF2kcuT66wsp3DoXBfCuhhhuG3Y3ACLcLSK7RD6POa1t1PFf\n",
       "H+c8GidexiTrPNiIrBCKCaOlLuadYEq+vvwmQL/f8I1YiUBCuJ5/W20g0vmdzkIQ9QJQlUKMFck4\n",
       "Swkf20M43S0gHMeNcUQG7w/MKt4ptkKdzIwlajwFmZZfmOKDVzpV6U/9zcbW9aCSEYuHcG9ooBKu\n",
       "seRBWQGQ5Sgq02lIcDCbBBD1wGYAAAF3QZ5CeIX/AC/BqdwhUk+inOa28buvZPS2CdeQPgK0Vs84\n",
       "87CzbJSw02pFm4cqge6kiZ1ufEY1k5Tlelopc62OQ79FXMNxbPiv5ytA5C90YeVH9psCpejPFwZ0\n",
       "P5pkqxsC1kQ8lNfeY8cK1KlFHc/4gdGRZhrWfdtfSXwyzfDBGI+3C1wJRStUbJ4+jmb5Khfap6Kj\n",
       "d9/e1oILX+JBQuLTVTwmCmtvUGabM1NQs7Iu9mjKJbFBf6my3rMEz1QXnHL1/GgptZCcUuhewLdy\n",
       "HdecellEy8ox7h8PjggogEETJokO94ci2c/1XLfkLbxEWgGT8y3mhChfzK1Lg/E0E7mfA2tUVih6\n",
       "87Vc0DwqW9Gw9q1/UvyJR1Ln188iZFgtSpljxiiOo9MtzKceUWoDEnL1SUbgd8B2v/NzpOxdBZsJ\n",
       "RiIyw3H+jOC30Bx/OALUYGBK+bXxcMZS8ssy/DoeH5RKwD+CJ+M2hxIE/idszsIIqFJACI0ZVqpZ\n",
       "AAAAkgGeYXRCvwA/fAoBtSAbq6nIGAC3Winpuhp/bKT0NEoLK6cI+8Df8iExwrJPnXdtkvhx5F35\n",
       "109t0boVJIYhYvQFq8PCFJiFKvOL5I89/pM/PY7/qzkmo4I1l6b6tWdsP5fmYUgSujnsv47pT0a3\n",
       "bUr1hPwqxihs3GVGGbHxeSwyjd6HxpDcyM8q/K3EGVEpuymwAAABJgGeY2pCvwAiwZT5qv9YdHYA\n",
       "N0g7Nzdqh/V4DzUp31UbSsIezYynJDpVLoiKhwq7HYRBaI/i0XWdUDG4+61J9hk7aG3NO/12ywGd\n",
       "+036DZQgOql4vhardKomSKWX5EyACwGDigIZoKTpfUfVVO+4k3e1HJHA9NfVQbRpb+Ol4JneJmkl\n",
       "cSNvt53+1iq101C8DZYVkawFp4CUZDW+dXBJ2RocKk4swlbGqyGx2nmB5i+bog/xjO0eg5JxJB0/\n",
       "6HriDq6Ptxhq/G//0eOYqr/S+/57e+d1SJDmfC3/wSev1HDn1ELTp0nwAa/vOZ/k1CH7FaeJ7da3\n",
       "UwSFifxhF6qZ71lUUhyPgfqm6XFw053jQibl6DQos6NkRg9j7nD4R7GjarSj6JdqgQAAAc5BmmhJ\n",
       "qEFomUwId//+qZYAKBRdLcasZXTACUnQcMgpPi28gt7ZCD26lgio26ep111PnD/U9dwIuT/J5RjZ\n",
       "I3YOG2RN4Rtp+pNjehlghgu9KhiwtTxmLreApo1FRf3nfdTBpbKRMHD6YjJWj2nwNiYPgBR0jzyj\n",
       "6YvzLVEJUD3aAxzvXEG/Ah7+Mkmq7A3z3omCmcVe9JC9ux8oN0ViOqUuVJzBILhjkH/r6tTyFaqh\n",
       "ZUj4cWO9K2hXrOB6bUi1qzUv5H8Ztjj31T6c5OLQD1OsVJXDfvU3i+vkIwi323A2Ud+UvC6MKcor\n",
       "cKKWGX8HeSu6cGdRRkhxFZ3pgjGm3D/FXxPh6Jqq87qvc8CHmgCIwwEGC+kNhHmvLIv11a5Ss8+M\n",
       "SOq/2E+t0c6G2N3mlBM+N9UXntc23xfDLU4lBoiN7PdxL3ltS4D4TKVUKjMf+XCVuVHuBLj3xD18\n",
       "Lj9YrbZ5EEhekgu9nyGl2T5j2xwk12Nk8zqeJ9yo833TE1JMhamzfsEsoxJrdl5oAW6cuNVm+5L+\n",
       "OG7Itnf5g3QxjPnYSdyJofff+AQewlqdWvN1WWuepVgxH1tNiwMw/ccj46A1i9TLivE982Mp6Hq5\n",
       "eiUAAAGcQZ6GRREsL/8AL8pkP1LJXwK6eF1Qv3LY2ABeo5fOCqYJf7+coKP9mKTH/rkkdIAvuyS5\n",
       "ELO6vxRGzp+kdyf2VAbRtEcnHzNm0vFYlSrGvdXwv2wQTM8yY9FF6ad6KGzGlY5gor5nz6GTPmHm\n",
       "FM9Q1dsbD/8wtxus8omMqDs4GEu4cfQUHHtkfUJzJ4h39VetRrAXTo/kBD5Vh5IvuSzoAwfYWbWz\n",
       "pE72S5jGg6cMJLTgOKwdOyKRDuLLiHrEwn6bHrL4ECWb2c0FckBG62J44YMb/PdPYtnl6nZSvNXs\n",
       "xe6uIBepRx0BpYYNy4JCB6/E7l0GEVoPRMlH+OZr9fHdzuFGrynEj6W/XIA6sWRExcHFHQWhTmZ5\n",
       "zm76iLgfNg6NF8yySMP6bmVcgXGCMVyscgnhBEKNZMWtjL3OQ7hrSP/Ktvzt56bz0JQ2k+WXD8Q3\n",
       "srggUA1MUbI4iXzojMQrMjO4Ux08yxltHzsuGgJ6Gyn/vV6C6YAfduh1ndJKrqB0GfQaJMmlogzQ\n",
       "oW9NYNK0zn2NWjku8965skyowQAAAM4BnqV0Qr8AIrt2758TrUaITVwAW60Uz2TjQFit2CyT9kVC\n",
       "qJ5OAY6WqHM/d1ofBMqfHMHVfVg0g9GCdmPjce6497oe0QuIxsMaiL30keTX+8yO2Ji0jztUOzVK\n",
       "iAhlEjetuId1Rf50ftbrAZtmR3lVW6DbkoUuZpzhKWwtoYv82e3Lqg/f/wgRD+DxVlvK+uzOgINb\n",
       "/R2o943FJAJkpERKTNcjob95hHZuYO05S5rH2B1sQvoTzPlkS7/ZQLseJErj8ZWGUBARaav5LC4D\n",
       "BwAAAUIBnqdqQr8AP4BGs35mzBJ8kigAdaAStBsUF2Dg5araDqIGx0QAA3ITCv6IsK+Ce+YR5pYk\n",
       "TfR3HT/xQm+Hu/mQQVFHDIzpNG7YiOp+ZPIFxm+hRAn920EpYaiWuou+BKvjCBl52/wns6QSYcAC\n",
       "S97hCQce71ncSxtyZ0csqGsnRBstnpoRg2fF78+INPNqN34QdYH6aYUPbKuh3XxdwlxlFOquwBxM\n",
       "oMW1mTHvIXF5f/w1jiD79zCFabLh4UKgSoWeTPucjfDZHYPniy8Bf8NVSedR+5LG675pipLpbnB9\n",
       "xyqCYYSh/qQCZbK09RwtRK+noGzH+qvuvxLijn64zkkuEA2/24vBKQoDNzNad8FjCYnlwOXgi8Nt\n",
       "DNq+Sh1sx8kBVUAghIg9fmScO1SzOgYzS0DbdQvlUaU0O6OQqBtlso9iAAACVEGarEmoQWyZTAh3\n",
       "//6plgAWS8HzJUR20iBNV3USPqzKJvwAbKF6pvvJvb7z/RF2cAy/Ka52BtsBGBIEr/BWlmySHo/y\n",
       "zkGL/icxvu9dQV3BxsCBlqOXUjgrguRK1YIcPjSrbQ11TIj0ZfYgEhE921pxpQ6+sS5wZnD+Nmr8\n",
       "qNnN5MCLVn15SfqqFsMU0fbCmMGle1wpn25Ui244BDqkrJe9mqcp6wVEJoO3k7dO7GmVviIleLpU\n",
       "ZfWJVX3OVw/1YrU7AxmZwPwMVn1i8xyCwVI3xrW/gv0EZ0/xdzaG/+cmBDQXRjuEg1mOiLOEo+cn\n",
       "bMmMHRPdZCYuclbkkGtB7PGi9oE2jHuZK8ztUfXsG8Mb58mod/NK5J4lWx46Jf4muVJVBut/SJr8\n",
       "PA1OwHQn4kC4AVKABCbBQ62EKfDbRduljqBsfgk96TFRRSCz9gWakFrhT7RDe3KAARycY39UTAbD\n",
       "Ip9GqIM5IpMBaL+Tl1Q/SfLdYLplb8douVtraGsWyfHA14NK3kw8wez4GOdJ0BkjoO52bFkv807z\n",
       "V1YFapTGZLZHFYkd/ULGdwsMv2Ua3rZvuQKWdbknI4YhaSEbDKz5hXnXijWYDde1PVNd1g3uFW7P\n",
       "QfJ+wr8jncKmvKad0Lb/yLfaG7orKFjVoU5b1MHsZASdQrIWhHohMfum/y3kPuHdW3vJecJ6el+r\n",
       "QpWLXuGSLDpqJcIpLUjIipe4Aumypyqkg537P5C357nHoKjAOYYrDttuq3EN94KcoaqvEXbqC8KK\n",
       "O6Cn9XHW/zoIM4mHDb7gAAABekGeykUVLC//AC/RE+/apDP12S4Ty0uuCjx4Y1Ti0lAhSHJRdnuM\n",
       "O5TkegY2AthBXHlkVHK4w+ztXx8u2BfKO5K8SQyrZ/ToiIKHgT4GpjaCbnV8bDZz2UUZIdbB5Ymh\n",
       "y/Ssfb++Rcl0xxRuZMWbAujAgAO11vC779mwpfzQvuug1peuFpZEAnQXP7fb71H3lQVgRqfW4AY8\n",
       "BwrfaVGbzeiRG0kTIpPCEkZrxFQI+q4DY+PE/aa6X4YrAAaqyrx3RTBe3cc2JBk8RyT5zdZ1wJuZ\n",
       "cLw1DEJ+3pGZ5qeaWs2e+Kg/BmbZNhApiv1r+h+tLkskeXgPdvly0owKjK08plnsxAMn06nobY0h\n",
       "n3y6XHfPVljJKc5JdbcPDnQaPZtc0a9KlY3CsLaT1EA3UpBd78RUx0934B/EumeeueqNbUSQHt/I\n",
       "vorzol0xUiyQNDPP2xrGhhvVsbLYZBuuMKy8n3+4+mhdfqW8nbObc6Osd62UkJI0twJ/fVgItwAA\n",
       "ARcBnul0Qr8AP5DIFFDBtSmfdtHj3hXJhIaFeLJEasAB1lMJZTkauypF/1EWNCDd2iovOcbFRKsR\n",
       "OS8+te6Yh2OUWoibCUTL2J5JjLgd7IzX2cTNAzcpVZtPlhIA7IVnHn/YnBchiYf7SRW/VwfI4mla\n",
       "eS2FwhkmDDaF6rvcyNDSy/T2h3aoaesd9lTJyk4nwSgL0YFBbsrn6PEcdO3XNfEPe+4YHVz0tMhN\n",
       "93NQeyB6YXu7xPCBe548p3wOcbxwZzpGw/LgTnQl5Qh8K3j5/US53p8SdWfUbIKg/KPhvh/wb2GK\n",
       "qY6Itbxdyknp25DG30MFfzhtv22vVTl6NeywIwYMtNib7Y643evXKT9jXjO1ngCXQ3N+fYAAAAFB\n",
       "AZ7rakK/AD+AOyg+uSgZI7dgG9FcqWO2jSnPiJ7Uilv1x6uRX+kWAGyg+lmhEsGqwCjNWhWC6XpA\n",
       "GXDN46Qo5pWnXt1MHTenJ8kgih1lp92WRtKp+9Df70RWm+auNMdreCS98ViG8awqCNjMxb8rsDNn\n",
       "IBj+uGFdLDlDhy0nFadViY1Krt+3sALbhgKXZS3P8PKtdsH8qBpnBOqG6GxwonRh3HeU7EzhxDOd\n",
       "7v2o8t1VIXW9jfOka0a4Y6KSPgIk3vX8+J0SvsbSxN8Eg7ZY7AnQjaU9L4QnxLsQfUCtZ+MKpERC\n",
       "+Oc2egjORuJVPUF2NfgaJuzBdnmPZfS1jGTXfhfyAni5P+XICP9guJjV5b3TrSysKxDpk7ekEFXS\n",
       "7JbQIG6YLc0X9wIQeP9oh+LQ2pEVhSjQJIWKI6cJiyyQClTAAAABX0Ga8EmoQWyZTAh3//6plgAo\n",
       "ITRXEalsIx0FBKE8ixYUmX7v2uMnXKDTaLX9C/NhIq7CcrfjL8q9SFRs9SC3LQmdOulchTImvNt1\n",
       "vVeVNfmVx3NcaDeZSfbu4rwoU+OViD42W65VBwW/Zs2QKpVffO0XkojXYDdaTLZN2nMqXi+eVWrD\n",
       "0+a4Uh4FqSWBTN1BqRAmjabEyTgwrL7fmv9JnQTLSXUrlQ2B27bRTia+P/7Kw6NsquGajX4JMklc\n",
       "7zzGvymxhXmibC7GtsGm/jMLLYtrORusOm4Cons3sQDRqtNlk7a7nEtrqjY9+pVoirbNY8QDTlKN\n",
       "P9YxjSONmFvYHL4Vh2R/gYDlbrroP5/SwSM3tkVtZof5SWKakm6Hj8ohrFynFio626VM90zoiC3U\n",
       "FfkBEmk2EMyypIg9gvXBIpeDoDWmozT33GL3VeT0Pn7cS0D42zVPSEzaBxrUgH1Z2QAAAaVBnw5F\n",
       "FSwv/wAvwYk+1ICc+nMcoLmomE3HVfg5a4jOCqZOWNMY/kytficv8EbOyMQAA3/vATFlTV9sRCUA\n",
       "kAycXXOCPrrcUWC79sA+ArUuJ4+s35L918Wnq3j6Xi5kmPXCXBhUwWgvS/705sSDmGaOgygKkSbt\n",
       "KYyehGI24lm3ZImRpn0RU57lyJrV5ygnBn+KXaFY2dT/YknN5XTO0Y0+6Orw7mjMdcSy2R2LDk4H\n",
       "H7hnkJwZFegjwB3C5sqMZx3EaakUdm8UUAspYJ5ckcd+aYxTW7DwUtsvU9tDIgY1jL3vrxeIsAo7\n",
       "XiW7FHv52kvsaueQnXNP8doKgSJhWQFSxZL9FulN6vtjDspUeFuDn2q1iYvgn8QGpTU7I01ZqVcT\n",
       "O9n3+xtAcYsEGKaSOuwzBwPXEmKScto/bRVdd7jcM5jpvElIByOplHWVpvGRsqEFljwhXhyWoJ1K\n",
       "WXJIbmWI0qGgg8wOSfk/877f64QcoLqY6QAqKMJKYsLYHWk5i5arpES4xfDS9zymy7TpJj8FRntY\n",
       "CCx4V2RkgbTrCpzusHmBDZfvAAAB2wGfLXRCvwA/fAolZZN79bql8rMXYZ+4+xJ6XioonazcQAc4\n",
       "dCtBvpl+ySW3fk4jaobSv4cxrNHhf+sFkdUphOmQk0tjTiAvY1oFTij5N7TZEQQm7/ecKjekAKm8\n",
       "CmGH6sNTOWi7JFvPD8XrQ2cxU2HB1HfW8loibSd72dzaTlteSOBhBgaTx7Hee6I3HAO2ch74OF+9\n",
       "ph794zqRcDRE5u6YP/KGoBxzKTPiCh9ebZNkdCy9cVX03EonV9IkWT0di2LjSqT6BPwA95H2e/df\n",
       "O7wROhEjphZNR1nTSXufLcQ/yr+1dFmVfKGlLjJpI+7ru8PPHLJ+hYo0z1wFPRRGAdibJ7/6rHj2\n",
       "kDZnI4LgTgwxWP9BR+g1auWbUhG+LiMaKnmOP1nPTrbzSdsbKAg01tunLSnKezut0bMMnahceu8D\n",
       "+d+XPRq6MPo/F98U9hTvpEIWs6yQJurWB6C/gZUBY2XqJRBgUs6GgNYVxH9ZEzGMuXbvNn18BHFv\n",
       "5wHYmfAQPFTqQCNgtq34vm3hsxg1BjrSXeY//fbNoaS8jGN5fPlzzUS1qS24uL8v7pPSiNsxE9Ze\n",
       "T6UV+4mGAQ+zgGvbNEGQXDo142V2kF4iD2rt2EBH2VM1+fNJA6K91aUAAAEIAZ8vakK/AD4sqiCO\n",
       "Ry1t1bt7l4WvyEU8JYytzKSIJafUXydr+ADWXPAjiDf4YIkT8E6aRYhSn9eDuU8k5Bh71Nu3DLOE\n",
       "VLUK/uWeUI+GTGFGu12o/CKpzSFIw8NxmGK5//zc0mJO86bxEx/HO2vZCsEDes1bLx15b+XqH5Hu\n",
       "KJlhsX+ameZHRtjIm1XIBrxHprgf/cGDb0imtj9ZjaJDqC4ad3p+TBT9/BRouiZHNELycoF1TvRq\n",
       "UVPBdarPXCYAhQfCuI2ng4PqPeVCrtBjDC2VqWdyRIV/Qh6AkbH6+Z+BciG9dCW5g5Lil2Z4f1cl\n",
       "wyjCeBAqKBNdxejNrKd5DYz1os+LOoMMAAABbUGbNEmoQWyZTAh3//6plgAVvSUDlEsovODH72+z\n",
       "aP96g26XLu3RKWSurlcWesABjHv4p9Z6CRvrBS34Lq9cUSxhhwhYT9YGD7bKzPdfSjjl7jcVtnxG\n",
       "mKLj2bFJmD1jaMNRrg2ggYEJJLbVOR6f5/JIYX7bsVN2e6ywxuPaPrvOUseh3ARS85fQmfU8Bc05\n",
       "WkbfjYkmD6pz+KMfKnc6jy+7V5wabfiF5J/YBVRXMrAVo744+pd5F4wqckeRzxA3CZ/kdy9XcwBt\n",
       "sztb1M4sgYbC4NEGYVVo2EtoEOpsfwb3Le4gqZwbLWwgrZADYHzT7DnfcxUtbZbDRWjMXPrcAxGI\n",
       "wTHN7qNy9WiLV5AoCUJYzLd6GAGiH5oYYiPwXryOTa4rgy95R3axLwJ45tsbPQZuunOkr2/4LKyT\n",
       "wFng0bj5+4yYLa8I+hc09rsdUR8GbTIVYaQhZM0fg51FFUJfhT2mabbpJdrrFEvRyTAgAAABGEGf\n",
       "UkUVLC//ABpt8qfTmH+BIwaAXwAaDemhr6NmBR9cIQmnEmu/4UVDeYmPgYZMv/XTp02rVOwrQupI\n",
       "3TnqVA5agdT+sGuVkzI3FhDQ+BP3FKJ1WF5Hi/EGMH8u75Qn9YjUldX474rTWBlgFUBuchsPqUuE\n",
       "cyZNgerit1UzA0VuJs3Z4Nia1c8N8w1xKzhPyi1vtkCbg5WRrHp8GbiHJN0fUc/YOrF0rhFIXkoT\n",
       "E08WV9v6niGZdIrSkv/GxSX5iaI5UUGY52pk9HJHtJzQfiAe1lK6CyWCjOIlamfh0KDQ86IDGT1Q\n",
       "aXS422/0PqzSK+0JZguXiYPnlsgytOH0VByouJGMSx+cml7WMizdsalkym3oOIR8+TkAAADoAZ9x\n",
       "dEK/ACK+DFqwId8g2smNLjwCkyvqRw0AMLmM+r8RTNGnjMAr9crXfix2B2BujPIlf3mXYTNhk8hT\n",
       "mgwMqy0tGfDTztzo35uyjgX/O07GPBF+pLfmNtcsntjpOxHKSOhCxOKOB94+ogQsPAvKtl6Dyzi1\n",
       "41afxyjHmstbVT4RwFCJXOtpKtzkDNunBBoq90sEM2ubaPQNh5vXzLvugBi0JQIViJnqmbAC3gMo\n",
       "XiywDoJKuEdHZlxEXijxi2WNDwD0kGGOxmZUu4KfrYJKxd884h5/VFEMjUAorRvkcVP6rwBXRzYP\n",
       "FQAAAXwBn3NqQr8AIsGPn1eVDKrJpXv0Q4+o4+DsW7E2b6bhCnNs0oB2uEvOjsZ7UeTlYxRtqkhL\n",
       "neqh4u+v4viTQaP2rVHjYeHu3RHtjO1yFZeHNM3QZHWITrac1y09CxFB1D45m1kkaUtxlfqbtbxq\n",
       "aqbU28BVdQC7nTEtWRF4MtwQx3Go37Jd8h13j86KdxT97I2ZaJ9hk3XqBX83mMMpWcmneWVgCb8i\n",
       "8V5FBcjhfhnR3soXCAp/ifctZDy8Wt90LE/mjsVVtvPnwcE4pevvNxBajbo/eH47AqGAWTGRDJei\n",
       "cjIRHfrbvhGuGsWzbK+mx/InJv3Ojtfdcnyl4cOPne+r53MTYiXHBnlVES3vjBD+w3HhXc5HbMjz\n",
       "vV97t5H3FUpkQYGOgSQOuX2ovdk/KHQ25XRW4VO8PUREtlfjmtXZ0BTSSRpCyQ5pk93r1M7gcVQy\n",
       "74DcXC43Lkm3EeZ2aPeEHChp7V5gPkQPVB2AJ+uRLdTK7BM7rOYiVRTEiAAAAXxBm3hJqEFsmUwI\n",
       "d//+qZYAFb0kp03QTX2cxEavMKwqaxdFkYt/PV348oQ3Tq07cTCDb8X2/fSFaz7kMxoC3KUIV4ea\n",
       "AwcPVd3eJQtnWk1fMwnOow4TgN2j0rOKXt0DoZS/ClFC3kUcFe7tFFdanf/sTgXS1n6YfivIJTM0\n",
       "kseT/YS1KJWKCnAmqQqTbIhG/eLB/td63De0oiM666CkU60sHQSbwrhvPxsNRoXmG2Z1ZuC8iwxw\n",
       "hyix4LZ3oH8CU3I62f5B+m2wFmFra5xJFG4S2Xuq8h0+8meWK5UWlIptmCMq0NH0cLxFUH83u0Fa\n",
       "wBtmByi3/0np9PikwZ89xumUY1xNYairOhOgMW1C7ZaeVfddEkB5tattFRIptS0SLfT+mDb4QNS4\n",
       "xk7ez9E3CDelndUkSAs1nR9+KTtkaOQxg6AHnLfs7mwEdBPKvqaeXu8ivwGU+NRKXxBX2xaI3pNR\n",
       "caHpo0sSrhg0sK7LBaY9WYr8+9qtcwampDAnIQAAASxBn5ZFFSwv/wAueOSVXfSBAcKgjOfDQfpq\n",
       "1Lbc7PUsK91LnaKo4QMBRRdxKPImNG377WKkER5LVtRjqFz1T+4NvtC7XCAyAunbAf7Rvp1kS32Q\n",
       "jpEcbFo+3ux4zpbD68l4FqTawb4KOMlpvbkRij6NG+roqlLH62RRm/dYlK1b3Xg4FNll+o2naepY\n",
       "eUbIW/HRmTk2KPuX/mxeTnzs/iJu7mV0EXGirzvHsixfXAJRKr06lS85tP6lxYbPc/6fdcccZLj5\n",
       "Tm+hRAovmP/gCf9PD/+WMDL7NBL6w+HEsvGpS8Wbz6Xhqy83PVCD7o4mYF6KclVsXzshAQ2cxd7j\n",
       "tSE3nOTHrNue5uFf6T8TM7AcnwC0Pl1fo06trUh0i9Osj403aPTK4M2xopsr0oAAAAEEAZ+1dEK/\n",
       "AD4xBMJ9EIM4DUXTzJSYfhl/lQRWaRjwe2iBfEandfRggeAkqI4OiSEBJ34X/yBX+n4CCGCG2T0I\n",
       "DE4rO+3eMBRgZweOQV8m8t50difsrRZDabJW2hEqoiSHgGRxrUoUSGdPqSFKM3gYmrB67zM1KPWZ\n",
       "9hRM2xkkhGvx+m8gnH052IXoFVSMeqxJfdiNHP77n3sq2i6P6tv2AntNEoOrhQfUpF/gts+auR1N\n",
       "mARgZw3gAxEDGsuhikIIqI3ixKaac0XwLIv+RgsxhwI+0xSka6nmp3BxObED5PXhsuru5jp5/uJN\n",
       "4jpnZBGAd+PDGrGins4/y/z8N8jS6H6kQ68AAAEoAZ+3akK/AD4gdQeCSwQ0SJ/3HMQAIYKTg+Nj\n",
       "OGde4ckCPXrAAbUdyVnfZWiyG06pCZ8ok5jYoyaij3s+04CaVyXMeRFHuqwz7DtZQ2kubD8YTFCd\n",
       "IkNRBGqBqXEFoniY6Cifc6pZAOIgZ5uVKMy3OXAJ/XLmVK5yR4J7pwJLbMraxu2i5+liOOdZ+2s2\n",
       "9bbZTzIFtwhmZ/R6J7LH/wSdRom0/x6/XSbhTW3/m8OEEFCcAmFcZVfyA8f+ay3uSIvV9k8H/paM\n",
       "8uW3WZ4jSfQ3LRxhzaXmDWoOBUEkvmgXHBx7Gw7uAEwJDW/bEx1LuOb2VsjX86Oaew69WBePLHu6\n",
       "eqIgeJ2sfyJwao0Kr6cpcweXHBxA2Ecfdmqo7DeB7xT/ksmD19T0KsEAAAFPQZu8SahBbJlMCHf/\n",
       "/qmWAChJ7ATL2igBwWWc3/3UaJcx+aG2G0fCD+WvBHmG/MFLuqaycAcB0pjUr4bLhKfQ4JTAB+HB\n",
       "PglMsRKNkeNh2xvmX64AAt5utzQD4jYE8PKnFmLh2UZgoO+1pw929oGPt77frxbxhiaPzHsyouKn\n",
       "dBrNwF9PFRMBtrjGGTw8hiVyA4L14GBl2lHdOo/P6jsNCWGir45ZOdYUANMz3IgEq69dDCR/QLt+\n",
       "37pql/XdBnOiCi/wevuwU60RX5nP8N7BwbEzSXgtYb7NRphLm38VM4v2JHGZRFhfGbavw3APIfvS\n",
       "XRCaNrCH9XCScySbDZtUhQ3oBrG5IkDN/bPA2KBiJt3p+Sh+YaS7qvwqLyMq124frU6E3eeVockz\n",
       "UVWwC116LVcnh+E/52fb4Ubp1RfHrzNuNMR3OoWvcXOGhUy+5VAAAADkQZ/aRRUsL/8AL8F/6pS6\n",
       "vUnsH5uADlRUY8eGop/DsZi0F0AThAphWbCkbwQXRVMZlp0XrW+ePJRJkI4DEG8L74q333eCJtCU\n",
       "H4XhMhMK6SBSllYwb/psYXMSblmQTwih8cSSXx4+BmtmLFa5gHNtpNnPksU5Ar5zGFLltY/NsdLj\n",
       "lk4MEW8DTE1M1A//fLF0b2FSKi9gjCydTUTNhKruEI1Uu+Dd8rgid5qUXqo5ycOqLQgUQEIQ2ceH\n",
       "E9cbhsZ4NFeyKajfewVEMo0Zh9HUULwsRae59PHSHICwvEPworTJsijJAAABYwGf+XRCvwA/kNyn\n",
       "tlKtE4asdAOo3oE70zOkkcSUvLMazqqqXlXFuItT1/f6//yAdxGrw8OF8E7CtRE2sL8zLtVEz3xh\n",
       "4fRT0MGoBy2wEAaSWG84zEI10c891zvceIS/7L/cvK8zpFG9Hgh2AceD2hvJ5yPGXfaV5aM0TW9b\n",
       "DsYtnSIfa+31S/xwzqfaUzYgUgb2SowkpvecbqTPW6v9A7v2xE65m5UdNyyhsVm1KIB9SMXikpI3\n",
       "FTykP78ScLbJjNXDSQhXBEJlB4vaURsC4ihtl7izAa/iHpgMYkPrc4NdE92U8JnQkJxhEajwxjG2\n",
       "lVQUbvCud2iNXbVp4wNzWeZ2ezR5igUqSIndD2gRfj/XW0f6XWTkbF9lmDFE+IzPFR4P0kXSPjar\n",
       "eXsw8RNDddNS8qVC880qHeTStbhSR/5yCDMyTwb39Ap0FwUMPNSalZKve3IbtWTiSghruE613B0s\n",
       "aCAAAAC7AZ/7akK/AD+V4tBt9vqFEn3mqZe9mpUj57a/Gr/NViK1LOfUrx6AB2h0K0G+mX7JJbd+\n",
       "TiNqhtK/hyvlnRz/V7GmsOY6aIKoRK0A8OOmWB3vxjkFWAWF1A+YYHxc/qK7tw41M5/+DuSXbtgN\n",
       "Vyx93aQaO4YbG/lHYA0nciw5Z/OrD/30HHP4LWNAnYAyWBhRK7uotkIPBThxSbHoZw9SVinZ2Ll7\n",
       "auZGzluanRzH2TA+rQ3/7/cuXAHbewAAARZBm+BJqEFsmUwId//+qZYAJwUPXhzSK5ECZzpLaQP4\n",
       "Y5RwZXsdwVhoAWveceflerHlTo6sfBspPc3HICEGIWVy5wc/hQ3h3bz5zO8AR2NKK+hRNzR1g/pd\n",
       "nQJ376ZQiipl2i2vHPIAAAZf1oe4S977y3/J0LM5opVJBAy9PhJe+DEri4kzptn1cnV1qtg1DcJ5\n",
       "MGq8XgV6skwucFCEeuyttUZSjOPzNY6jurjyO5aUVKRD0S1urvnIi4u4hWJa46qx+D9GK+bX4R0h\n",
       "teXhg7qYBP9bL7YB6wqt1JA/B0RWHry27wxNvqqP8EMThwPF/DqapsC+M6PaNCJjBY/OzEtRkCtC\n",
       "aESytIm0CatRFhw4jG7Y9APJQQAAAQ5Bnh5FFSwv/wAvziq5qaljqnc32v9SYQsZWgfXgnzvBTqZ\n",
       "DHAwK6EjbcLDPeks4tat40cEYANGXplTk/ee1etN5+Qtw0EBagUbMLrigFaEGiqU48I1svVJeB21\n",
       "QIRy1QjXMdLXH/D8HJIw8dDPAIVXFc9/BAzcNgj55UIVTNJ2lW95peLn9i/b5MXBBHJxeESQAaDD\n",
       "kKPLO9Us1f9gq9OzuxIheXkrgvBB/3dZ9QbR5I0z0eVjFKMAzPZBhyc6CWWz7fimY31NYGCyC7Lv\n",
       "ly9818fQsDfNifLB+BQTj/xdnWtfqAFwOiTYRjbmockZorxUaJCkkavrC/D6PbefuRpYcY9EWwz0\n",
       "PX52LXXw4WAAAADzAZ49dEK/AD+QyBRQwjv9MgAvUK86H0MoixFHP4nAU4gv1VFD6fkXttVcxkWv\n",
       "cQuVLPD2bL21j9NAP600DeVmZ4Gd+uvQTeCJuvhSV32C617tRlrvrQhYMcKeaTUlRT/P4WiccN1M\n",
       "lV7DuIH8uAWGVHnWrHc4ZC6zMcKigEHmsanOuC2rBpevuXhtvYEnPpioWrG3tUqTN5N99+V4LAU9\n",
       "N52ud4U5vcKcuz3hb6+wbhEVDXPrVCqC8fwMY5aEM840gicnNpMqGEqwoWhORp7RzxJwE20pLC1I\n",
       "MM3LbD0vfepivx6qYVa+1XBD7RiFLZ54QI2OAAAA7QGeP2pCvwA/jKoq8pbkAHiPlTk50AMIQ2B0\n",
       "rEAHJ130TiZpSMskBd/d1JttdLDqBOtURAHy5FOWLtw9IRBc+s5te8yMsqUAbR009lwMj+klzWGN\n",
       "8tWgeASP7Y6d8ZLifZycrmQ+44VSf9nu4EDsVnQDDm5vc+l9V+FgpyKU1uG4BeyfYdTQW+RxmPh/\n",
       "fGOeK1oy/FKCCR+6P/J3i6tqDLa4mIy9t58VnmIyP5JTaqsRVuoccqZjQirxO35+WYc1eKXTwI85\n",
       "z2Ae3N5YByE1aJwtRt5d1X9ilbCbmkcdbym3XY9mp3bLNVxgxRxHwQAAAUJBmiRJqEFsmUwId//+\n",
       "qZYAFTFyVv5+6AC5OKq8/hQXFL3Ie4rA39IZI9pDhvOoq10UbabjBdl8H9codhwIIQQJRDB+PgPR\n",
       "Yuys4/VEc34rWzOiLa4/k4bwqJbvcDnNLQaOI3ATnggol/huhzRtOMUjZCgwk1IhoKmG5lO+imav\n",
       "X53u71QAVh5aDYfE533QKprku3nPHj8YuGvX4GkkXw/2k4hYNJ+EvuJMcfPMr7mlMn7HoLGL48gF\n",
       "Lmhi29FG80vRdwy6TjUJB3g1ky909z4UKzIve7r0bc0dQzTYo99YLA4IPoOBWfGOYX5jpA9xcObn\n",
       "hIEwEdGuVVyqfOXTntRucXz6wlyz4ymapvw0wvVaTv61142vqjg3ILhqobMNYrTEr2u7QWBSoI36\n",
       "pLLpB2JcJpqiLGckoDJirFhHk5aqduK+AAAA1kGeQkUVLC//AC/RGMIcaujtl4tZL3F9aQLYV0vr\n",
       "TyEd+GMJZTxwm+wrQGZkWgi9KI/otYmqp0bCtoWeBlVrLgR5vA14QcyX2G0qS4FmmmgzhN3L5Hos\n",
       "4SdZKnifUSRb5vwrD1wuiMffLztvkI/UALyedWZMuv37Gzc3n3gsyybWbB+IKmMb9eDLC/SDCves\n",
       "7Yt8MutjITAIpLLHlGHk7931uOHiRljtj5iGvlRuHBO5GGeuYd1kZvEMuUbKTHAX+W9BR/CW1KEU\n",
       "7zJLG/2TldX8RECchMEAAAC5AZ5hdEK/AD+RAw5mp7/+acsABetLAE3+4Xk6q704IbgDj0AoxPBp\n",
       "HQYtty7Q4SjGO4tOLzo+C3lxR6N6cjE67TXsRuVpFojhBIBlU0ZCfsGwFW1Wgu5QMGrJPhtbqr+6\n",
       "znB2ORnQe+Y5H25t9o8+Aj+FH/4VA0b82pzpwkxeysqD4/95qb6T9tCfl1rVbdGIcXbACfY2SrzS\n",
       "6Pch516Z/EBTjB/PyyC9o6oUI25ePwtzkcdm1Pmjt6wAAAE5AZ5jakK/AD+MitBFFMgRrfJALxpJ\n",
       "j3Ty08YxfkZS5T2JCgOHPNv2zJYmI6Nk1IWoTGgiT8U4omhouvNTHlvipPVBbMitIIgxX5mkd9n1\n",
       "0oADJ6YEdLVSPETAd4SAmuOkHGU+wjKPZ7AkBon9/oMEBtbXnkDZfYcN+IomdTYoAug5yWB/yEJN\n",
       "87oRiW7KPbq7QtrDJpfbWtiPnDLG4/8s8yxTcs9KjroXfCBD/9oTcbkA1CHKq0RgW53IMF1D6p9x\n",
       "uxtH1h/1ziMBdaMiZAo2LnXIFnHZhsU+S3c0f0aVkZ332mxV0RSZM/YrRQprKWlwidc6r2vaZJr4\n",
       "yrGcLocUGiB2/rEb+17SeP6ZEIs32qSYVu3CEJRGzZKLxcuaZdmZyZ9sielBOkmWeSnJcQVcQ2Ak\n",
       "dpK5FAWo4QAAAOhBmmhJqEFsmUwId//+qZYAFTFyU5QL8kw2TO+gQxa4BSDbjYVjKeM5PyCyGnzK\n",
       "AWBWaKCwcBYBs+t92svm1SzQNMseLgPqNmR35BILA9cwcmzsYF9DCsCVyrZ83ZjaD04yGN0LRxDi\n",
       "KyE+fgQjckWX/qh/JeE2PrfiX75NQVr5lr1VD95yyYPzcKZB7CWhO/kk9Iof/HSFfbeSM/pjbBsP\n",
       "DLD38n06+IjGnGcTEkj2kt5Vv+sGtQyn7rmMEn2xBtKK9jGw3V5znMrQ1X9MEFhXrs6V+jW/8Yt7\n",
       "tOBIAfCfNEx0967qsPphAAABb0GehkUVLC//AC/REd+dwpATn7tl4u7BVeX6dDABoFIvQq7Q5Nmo\n",
       "xAiKbH6RDu+RjDFJCPBZmI+XKNkM3iPBnynYEyPcfQrt/n5IeVoGghJ+BwHOwiHv4EkBDXPdBiPo\n",
       "zJ7NNpfj8YuWFc8ofb1OcIELJ0rib/jMuZhv4IsFbuKBzNS/RX40Zbj10F6jFIs2RVpJ3vjn8K3P\n",
       "Jv225Td8oYoOHF+WTQ3FJePL6QcuK0HerPwm7BNJOlUTZEbFcHtNnpRpfjGwu5bTmHPlY5yc61Nj\n",
       "rRyyR1ePqARfS1rDHNHdfzJH83IO3sdmT/cz9IBb1IceuUTIc3FjzCCWCSG2NwYPr/C4zjdP9YrO\n",
       "Z8/UPaSViSkXHSJn+sEFNMRpfcBE1ziSVzvPJB2NcjdxJiVNv9Yax15GrczDPW/C4wyZFCEduZv8\n",
       "74Z6tZxqXpr/hRh0VYg8Bc9WwltBiWZxMnyH1HgwYJwLmhONP5Qo7rp6ePkAAAD6AZ6ldEK/AD97\n",
       "9TOAeOv9fTDhTddauUN3gAdXXfROJmlIyyQF393Um210oastKQmVUQQdmiHSWOHsDC6UlcVqbkYH\n",
       "XWERuL8qcSYv/HYCr65RKWlDmXN3anbrTYRxvSCNlRmtuTX3cYpdlRsFkAt23lIY93e+6IatPmeI\n",
       "D3TEcYWXvc2VIx989XyXKvpj0FzZO0d6Rk9D1ZVaCpA8/GTfLK/tcTLgmqi6NkYlpOpIjBNu0/sy\n",
       "8kYtlvL3jzhXMHwTAnYgJjX8cdWZEWAs8hTN+v/KyB40abdP0s26eR/DwSbWdKe91h+wUXvupo7h\n",
       "oNCyU/UNcc1aGEQJgQAAAQEBnqdqQr8AP4A7KJkXkYUBScfq1IwTPZD4rg3SowncZvZ39wrjwaUx\n",
       "LdWAC9hA6K2hxquLyljgaYlgjxLcLHuqBfIr9RN4OgyZBeuh6gsXYFOGUe1fhsLYveiqljNQU8i6\n",
       "tplFTyTsa6ahwR45qvnD8EEABSB7OW+zK4MuK6/IjIVg/QFrNw2rWUbkwWpBmioQY8hY4CFOGFFN\n",
       "7fuFt+LAQpJu2KvBwqn/IbIgilAFnbDclB5o96BvFziSOveYapTBLIM1M2YUOXb62mXf7f9mEdup\n",
       "0y6sgaYQFaKv7O+Q49yc3X+gZulW6PBWxxDc784QwPtAoXVvQjTPNDLwh/VEmwAAAYlBmqxJqEFs\n",
       "mUwId//+qZYAFcCaURcO+t4gXB4LqpsbUxa6UGKYFFWbTrIvjuYQhXFMtxKpibi0zVK2eeX13qdZ\n",
       "0652U8Bx/DAU2fFZWNzs0szrf4DpdGp7TyGkvhuDVTinPIldFRjABRUXB9ccDBzGYP3+ZFXko99G\n",
       "WSQzYYjS++gwpp8b0HojH0ZETSKZdv+m6Sw+FVSLY6MxvUbh+5fZD1KUsq60y7y1O5EykuXC5PR7\n",
       "FdDkvDUpYpXyfyoOPDQcS4qedPF9Mcp/FSVgi2Tn9B70i2ptEN7b0HBYSahEKkJ66aes0o57Fd3J\n",
       "HUJQjdlGG98TNEajkr3h09qQynbEnD9/ZzgApcMwtemkqPqwn6cmkKQMhPcABCixy7QmWzDRYM4j\n",
       "2l9/mfwJoJW+WL/oP2xPGflM+a2+3Df+1t4ShaWDvsDasS6rGiZHKPwINXAOoGg5TKuC+ChehBRS\n",
       "XsMEDGML/CphDz5Sx9x986k8W9uLRX5QL6+P/j+sJVvwKwoGyNOyxv0GZTsAAAD/QZ7KRRUsL/8A\n",
       "L9EYwhxq6O2XifwpqLIcDoTmRuBS6UACr8/70AFM1Vz5eVEeVfonEzTf5ZIC8vkhEdp9/w+EePRe\n",
       "WyplRLYzgo4YDIK6yMGiaCVFGn+/DgC+/q0mMb4E+C5fmKq19abAUtYZ1Sao7LLv6eTxlTUcE+Hd\n",
       "KkfeVEW/X5f1dhoYjXwZXjWJnf6HuaIYTwilXXTjVhaTpGZZPiO5a3Aw5HjWo4cmuPjzITTu9cw9\n",
       "PEvmtqD4WeRIeMH/H2nkvUJbfv/cYAXmL//+gCC5buV7RwckG2o6AY8ceDE/V0Jll+xQMVZkHUKO\n",
       "GQH8REa/8J8ZkDhVIGiDjp/PAAAAhAGe6XRCvwA/fAn51U3v/5pywAF60sATf7heTqrvTghuQYI+\n",
       "+u2WUFXfQi6b4vgfLKf0BAeCxBNulWTfdaJAtxa6ombUlqZmpFg/VqVfU7WvY1XJHJYtAw3yV7i5\n",
       "bel5FUTRTgBYyuvWLqIJODOvIYQmRWs/1lgFbRdtUxYFM+24txe7QAAAAUkBnutqQr8AP4A2eWmF\n",
       "xGWjE81alb7XGvW5ffgA6rwHGRMVCo02/bMoiIZ+Gfu6+fJBXVm0RXuOhyN6n0kXsLtlgM79mlyp\n",
       "2zQAihzk9YfOxVjFtASKxRTLMU39APGApmYawAZnwX7obIky/aAZYKZxeATQzxZ1nJ2we9zDSCcS\n",
       "DjsohVGqTGc9PQYHjfufnnHu8356raiIS/oQ6lwUMrCTaHhj/4GV3IoZXrwKBi4ORCbxG7nA+Oft\n",
       "zqaWWZeea6T0UpBSgfbisRwYcAo4sdnSKaOv3DkMklhUR17BnP2dyMrQR/wZxuXe91uYQKO5XDUQ\n",
       "hThi079DRbz/97I/VShq8zsbWFEMHfmSptACm/XNlSdgdQDCYCF4QgPNf6da9DB0FF8ope4lj/2J\n",
       "oL7XPUbQAgRp+Pb9IHL9KecuEsLibMRjjFEEepL/NgAAAbtBmvBJqEFsmUwId//+qZYAKCEnhAJV\n",
       "72EGoX04ssy5eSslrLrmKrRLlkdd4QCUz3tdZilWjnk9yU21NytJc8akKitVlQEHwKz7x2VzzXB8\n",
       "O1kwKypYYyQsBXU1kyRkq54JLXTY8HUkXIXVqgvjZo9uTX3GmqUOV6smKJIYxycr845wdvPrAIv3\n",
       "4IcWMF+AWiYMnqN88kfaIJqQAtkM7FyZ1ziksSjF0hGa2qgNKiRabjZxAyhzd7EaE8LAiTdwiLNv\n",
       "LSxaiu6Vcjp//hr0XRID5v6Cl08leQavA98reGjNQBk6JYbtk3BYW3uopak7APPAPgBZqzvDrFkT\n",
       "aa9QKvSfyJmGmApZlz42y6qXfKVuwRVDaHuw18z2yZIejjRQ2+Lstzz0dvNK8I6ZhvtDmj23VxO2\n",
       "XMuRRnrekH+C+itIEJJhjfgk71Ez/zqkte2KijrtUfyI8F0iMfOoYpR3NJfp02hbd973BdMnztbR\n",
       "Srj8nN4OxbZf2KYydUubhlcGxkyZregP5RabMiZRKCfZ+SAsrSC9175BkoqSzzEwqexEjurYEHI3\n",
       "dMKVMcAA6ohAUK1YqgxJiU3xZish4QAAAO9Bnw5FFSwv/wAvynTrILnO1Sy4KOUFsBzSKyQwSpRJ\n",
       "+HA8VeyBdnhyR+bniWRI5XCzxEuekUx5ln6AS7WQLhMI+G2lrwVfgDtl3uWb1KEuCVj9PtfXfC6i\n",
       "FU0u/fMqtW53MuyUXIhAjGfzkhI7lav8ajExbAZvsKRhLHMlP/QI3okIGVZ0/Mokv5QwzESzwSav\n",
       "u0sWMIVCdgGHEuSJamX5q6y2JJa0EKx6nfiGnCPh9bR/IG6bceSPfwIQL2NkkpWeuZxfurfWSqxN\n",
       "4ferwHIm/Yg6lS0aV3KQ3AzPUwBj9tDFVotVeyVjU7iA7ChXCwAAAPgBny10Qr8AP4XJvk2pB6Fr\n",
       "74HZ4AHWXjmndGy8uTq68IhuQYI+0klb7zQEVgYYuaUSgGDZfP6BgzCMnDDft9utLw3ajkzjg2gA\n",
       "i84zMJodmkTYJF+DqlFhAjBWH6ykmMn8uAW3QCzDcAxKxsF5R9D8vZKD1V8UDJRbh+HcD5uJrt9H\n",
       "pFHMda+gTqqu0P2Tl+zEOWx02T9EYSnbkIJzjJKhQ42ilM3L3Klf/NaKWoHngNQJSLmJPZsRqU7w\n",
       "0e6V9F5zbpN72191jhSt5a2tNkHVQlbpOYDe3uDxb8qc5CNimMbHE3zID5VE9sREmXX07QoNCXmd\n",
       "t6ekhQAAAUgBny9qQr8AP4B0Uu3ImPQY3SIkA8AsGin4AObnumKUqw8QeLsiMJiKzM/vK44IdlrM\n",
       "YWV8ayIYtSLjkRR2PQFYEQEEC859JLOtIRRK4/+YIz5iI458cbx1CMvo9PLSgBb6FZOpBEgDDV82\n",
       "qGV2R+kGFS4w0qhO5n5MK3VcyBQckAc2PM2nULU44B8dcWxH/gl4+9+JxN95VkjYWki4RUfChsGh\n",
       "+x+ckFmWoRNYDiflLuaGC3fsYHidcViL2Q7ccgEe2xmFOMVviSb9leL7hOeqMi9Zuq/3qk68Vss4\n",
       "n25LMzYB2gxlkaiSTbSn6AbYDnn6ORqEiR76m7Zvdld64il4PqUAr4qsfsHoShQi2/jaQsH0fVfG\n",
       "lxIt1ZJCd707A6FE7H7HPNrEmTCNp3d798rErjpFWy2F6e7Qi35KxdTFfs/ndxu9DnFsAAABH0Gb\n",
       "NEmoQWyZTAh3//6plgAVwXIIgEnD8IsabFBYZrAJHd4+V1okdmfa7NH+mtWc0bGFujuG+RlFuY9y\n",
       "DFdmE6ve/QHvVLThAZ4I2AFwMon+3cX3/VZ8lP71e7nTXLFM6gBLR6GC5vHKexErovIRzkv2myHh\n",
       "fBfqheFmSED9Pp1vEMkvcpy8/sF0FDSiV+mQ2hMEFLnpKLnXRVNYYOllTE4vq6RnuV7co5zHhoxG\n",
       "/gfq0t2QJ6zZB919zHmgzmxCgi8NSDd//TNYRvA9vQaOAZtAD5ImhX2opeCCgqm1Z1YcGRXK3NO7\n",
       "SLAz8+Lahl7m/6e9P1rvog7dGl+Rd4WCsEYoa5Io4jE9FteJE65aO9Mfbj12N/AS2nMZQPP5TanM\n",
       "AAAAmkGfUkUVLC//AC/OMDrILyDxFOTJQeui8WNSfLaqAkR3f/NHC54z6GrCF65z5JnSOSR7Yx9K\n",
       "FJX/QnXgQUAC3ABsY6L9KSL97S1CWqwNvecQ99ha5lbJkhC0ZW91M99YUJHvzFwmnbq4Rnm+9Ixf\n",
       "hCcs1KAooE2709cZrsDu7o9k3r6rH/KQrG15+wh78ksV1akoC06zh5wQFuEAAAD1AZ9xdEK/AD98\n",
       "Ci398UWADk679crXeJG/sF7/vu9b2vjWOYDPk3qVwzQDbmif0L6in0mrecz26cT00YFt2ysZSEx9\n",
       "g0FW1OICvU+MxlW6eqX6cmhfEgSnYLeQ/veY817vV83bLWBCG7OEjzM1SOawnma1mCjm2Aqawj2N\n",
       "Fcrlo8i8Tkw2jTpeUkCnpaNHt/PNL7xtKd8jZPBzkcAxJi/5+LgIfPoEh60M9TjXqjPUDf1lRltx\n",
       "ijt5B4ansIbfTzsXoaNkmhnQllN7BetaQtU/FLcU5dQpuQuVhaZTNb/kALqZm4SOSrfIRl0VzpXs\n",
       "Z8Uwc2UhjUIAAAE6AZ9zakK/AD+AcyXU+rbhZyjX39KZxdaBF4dR9F7nApqkv3pWfjuMx1zg8GN8\n",
       "OrURNpMyAWQ2nVITPlEnMbFGTUUe+1HXxJifr/GnDpKznUSyfD+sBeXckD0/GH0myrQGPGcNjZaJ\n",
       "voSkRQBvVtVl3dypohXZ846SO3kvzErLOVvLB+3WMpfPxXg0549nXM8s286mff4JOpSPZViCLyJX\n",
       "7f1nYtNa0LkhimFaLZaxwOKGgZa0mIbESg4DIku9AiX6kipbXW0fwsL2FMKrXFh9EmP1zSew8nnN\n",
       "2jApT/BkcAUo3CnbNs41LQ4zeLcDS8vk3/n7ik9YbkezKy/Rh//fEHcl/Jj9WrMGHQPNedfkEDjq\n",
       "I4ol6txfGQ3qilgJoXR2OAl730FomGjhkxz+HeFA/ne8bk96oJT/5cAAAAD4QZt4SahBbJlMCHf/\n",
       "/qmWABXBcOR2COcfdDMPy1ojqWpurhIAJOvv5wxM19SrLLaynj3xIXkiVTCPf/M5Tb/w0E/dAF29\n",
       "Yjx0+h1uFSmLIYPQWC8Dyc0GcAFb70b1Y8ImNQ0jSwqTV00LjWBvOV+uNzGJ8r7p+E2nJ5726L2B\n",
       "3BW2n/ED7zV3ScTOiYjTTfLraP+uqd34CEWYEyVeVND7WigvIDJa3wlPLTWfUwZ+bR65yQ91hjc8\n",
       "OAmestKO/SjL3Cxltrch/RTt0iMOXLY5mDpOSUOHfWCNexyN16oyrVudnNFeIWxQ/OAFzaXi8Y4r\n",
       "WNKrsoK5BMEAAACxQZ+WRRUsL/8AGcUyHCRrb0GVBHMpwFP2r1Ok2+OILfONNss17JwgEkDKjtkz\n",
       "zK5lfT3z6+RbeKi7b//WtOiyJjkQjDP+WvIlxpXbjsbFNfqL9KSL++bPc70JZ+r+sxxdbotIimWM\n",
       "pYMgYPpwWbpsI36L68knoq7Bz6QayoFcglrx/Q/xLOggIubE0fulrzge0nk4ONr1WicXKzVun8ea\n",
       "E/Z0IOcR/Y/itdNq9c9SubPgAAAB2AGftXRCvwAitmaCm9gr3mkNjHVx7SOHpNJl5GsY6jo2oO/5\n",
       "yECFObZowPQbkjz3zRualcod+EyL3PUvBTHv4nJFaMkWUa1F6+b6RIWipOz8ypTU+KwpHwqwNtPy\n",
       "vvfU8ikwsqtXWSF5Jhh5+g4Gq0mwQsbq/clwUPwM5pWd/1+5Yl6ukTo4abnfrMMUGUaaFN1eY3gP\n",
       "AmM69lhpxxK0wtgv/IymbfTgGkWaLEnyXSJ7WXL5P/Oja+TZa8ZYEjuwsLiB2i+W3CMmh5CQjxz9\n",
       "BUv+gCLq3dHVpXhEd5ReczeBwnvlTSYMsdAirLjODreVHU2EmkdtAkdwqWpUXg/zFzo1CwZtHg5O\n",
       "+R8lsddWxRo0aPjy1tMeHFc6kdjuAxTGwAwo6D0WL+/AZ2LU8XLe3RGSbmdPy8B8MYgDRQ9OwfuQ\n",
       "4q41I78lHGikqMv6lWMTywj3moFXSTOta8suZZSVEOT3LwBzVbwHUfmPMxf/fEEwvkkQSv18nFez\n",
       "xd2l+Nv+Cph7AM6A2wKzWWTPIIX9p8tsaOC9VTlVXNhCbL7M7BiRIg51qHBCOISI1BkgssLS9GsK\n",
       "98MojvTz33Yrx6V3lO3AI3uXG3kv1K1UvmgVK/cwi9NpM6gcAvEAAAFrAZ+3akK/AD72FxogNr4A\n",
       "L11R2GlPsLj+X910cYHIrsuBIGfTtpl0Ggfie0hUzE/h3zRvgyCguuI74e9oubX3kwX6+n+QADt3\n",
       "cC45cziUJ3oqj/fH+MW3KB2GJVfwu6WKDmlo8vaKAMe2LVmDrGL0+NxIGKfwOBxhsPhW+JMkfm7H\n",
       "NZdlMDYB5qHRTvf3jWFb7wW63VxDzGGS40zLs7Q93Qu0cnssc0r1TWydzWId0amLYjatkmabpsHs\n",
       "ciXK2TTaFdmSaUbEyBAv/sTCWYAQphVIEx/vFo2TJYBWkg0R/RyRICsJ2TSKiDsqLNW+VS9g+n0v\n",
       "rQb88xa4SslnOVe/ThRKc8QSL0QDPbPSAzcw7I66VYstqi3ELgk9gdfaLGxTrB3f6mq8Di0fQZoP\n",
       "j08vWohd1Cp2Dae6NWWZZ1fYB2xjyURqMEw2C5unvE8A9lL8bB05FkPYNNh5wcRmK0nmCumfKTOJ\n",
       "IM3pnB6zAAABxEGbvEmoQWyZTAh3//6plgAVuk2QtyzdCgARJGxUCeEZ6TT2SRpv01e4sSEwm2fc\n",
       "0tufM9MOTuMfLRUf/c35AyFcVXBOU/nkCffzCu0ZfguhAVq/koFCYPsNAubwDI12l1GvbBe58z7/\n",
       "ZDnrBsJBQCJKupdhbPSGaikBELex6wO0uqcwRJeis54xjljcPw5EFtYGoLc5+RUQvpBxODMvLesZ\n",
       "PEki/0mjF49p27jdzjzpuVpjPVSXbcrptkuL7EYkAorcJlgkJOGOQudyr0nngPiVssY8BYw2OxlF\n",
       "hW6aR6gnRAkum83o/BNHAvba3vX5xQBpetD1wvUbV0azPAHJdW0y7/f60ylETkRd7BpuaspIQrKn\n",
       "3TBdE7lkqgtFu+zMJeSctzHPWBOLUr/ueQXdPsY/BP8XJ+AJDpGnDdI5cLbjtXyFxbKB0wEg0q4i\n",
       "1J9kTNV87C/F3PIe40Wgj19cPXinpn2Y73TFJg4H51YHwXAU15AVeNMYVo7FseJD4FXWnnJP5HMx\n",
       "suyKjb0ZsnO6DR6aONyxnLx1bzu0qEZ+grZ37Df3RfmnVWB+7a9zMOsh11UgK4ATX3/6d6tO/kbO\n",
       "Ttc2AMu0AAABIUGf2kUVLC//ABnGXUqCd7riEUs0nLKcBuUef/9AA07Bm7Go2tMg2cHS5kEbVE+5\n",
       "oABoo6L3UICq4OBQOpZV+dT+H8pAsS7EislbA2gtSeWpTEar2V5qawvzNBDG7wlJJoiO4CTDzgT9\n",
       "FAcE5esl+tF7P7Zt9acFrKZhfpxt4hWdOVrnKGidDqpegANpVwFQqUjH3EdLk+6vPXpzszy7At6G\n",
       "ZrsuWcEyQUB/tt+WGF8WjHrn58avfqqAS8NRksfKw5LhOFlIWcBDFQQAyNiFm5KpRgg4iPkVce7a\n",
       "qMKV4juYKcGdVdPmMj3Gi8jeZVUyMrGIs7uY9bXtKbjWoUeO1Jz4QpqC1BUrUcVwfJNvg4kS9O5q\n",
       "EHCTahCn5mcyJRhu6rEAAADqAZ/5dEK/ACK+BC0478GYFMH1wQSCR9wcagShQcCk+wJxek3/KRwP\n",
       "KYa4u7+vyu8Aj8VHz8mdq/pTv3vnxLgu4q+uJZvOpp6nsX9E0v/wea6lvonXWFS6LQKSA8vzRI/a\n",
       "BDvRdC9DjuZyFC/k324G1GIxf9ZLmRgNIAVrJH/oTC2RPPCOT0v3TJXYPaHOq52MDxu9HtXNYcy6\n",
       "D7XPSYWvp9FSenxONgAPoMUGDNrSl46neYBzN/w5l6xOsC0B14S9uDxKgqa2UgFkB+8BXJnrF8Tz\n",
       "mnFbITiX5JHJN9CZ+VwcJZSUCDSouOSSAAAA/gGf+2pCvwAiwZM65oKs2huZ533vt6SQAbcj+nl/\n",
       "PzA3i4KeU4eiFXOhsW772r0Aue7Ib2CLO1qjoxa+IdMRP0MYeV6jCyKlGStl2Y5SvN+BciVwEjgM\n",
       "lZRDOAscNXJfiXSLiQ6/rKut7+jFaM//zLT0LDkufoEC+ERCb/AjAhxTnen75LW8B0IXFlwG8L7B\n",
       "BPJTce804tYgFVzDDtaCTszlr+572M5m9uHdeF73Hv2WeYmqUVV9Yh2WE9JfP/LY3HQ+3JxiAhKD\n",
       "Lw+vhuDPMFo9BmUq1ZSIFOlXJCoAcXR1mpXhbYfl/oX8eCxNLPZfuLt3RFCKojaZ/RtIBMSXAAAB\n",
       "QUGb4EmoQWyZTAh3//6plgAVwWwVCXA2/Ni4OgVZpxbcgiwKAiQT/UMg194vQ96sW0YXQzNE+AW0\n",
       "nlzAEFO34bYpI/7DRZpSwv0/kOJXUCmtftug+X2WdIYlceAruo/AE2cm8l62TBI4+618Q7Ko1wM6\n",
       "oNRze3Djao8X5/MbParXegfFKW22Uj4b4frcDAo2pIpVgDYhQ6PDvE+9tgOKh60R9/Oe6BYFWtab\n",
       "XuLNDZ+CO1RNmDdrcnwBj2AYYRMDjtrJo90n7MPB8VjtrVgXWSmf+PSKWgmW22QvIn+rAQPJxBuZ\n",
       "wHTGCqSYlwmCh3l+BKaKeYUzQ+uQPGod0Ig82tVZIHs0+OqGta3QdHXP70AttQat2A0iIE27510c\n",
       "lT1Mbezlz6RH5vRwzL/WGrfLt2vYSP32G75tBHWRZH9uzJ6PDQAAAR1Bnh5FFSwv/wAufhoKe32x\n",
       "gABDS9BsF4/qr7x4nI3u9Lt/RPkpBVtrQrsYEMsf0n+bips44bjgWYTnQAR2fuisjvWn2A2Q+Q+F\n",
       "KvKsJWwwlFMElgyAxwo8s1Zf/iKJbN77+H4pLmLuJ6if6vweVp7zdZsX+3qNiPW4TQP9iYTeg+Ib\n",
       "Hhwc3WdKMUj/vwAKTGM3tsHutwWb/0hRuf3mcSfLkwxlaopl4gaxcv4FeSyt9FTrn/BMwI2Y/ZQi\n",
       "hp7ZSMF7wSxCOpWzVfxQd0aB+7tBy+kkjautmC/cra8uw9RnZpYQ9RZn7QIhHEXXAGt17kA9wiKL\n",
       "eiwyx+CvBySEtBW90ajEQ8IXuE5jtIwCJBGS2YQ4kJAh8USdT+dGY4AAAADOAZ49dEK/AD4xBAOc\n",
       "nVXg8Cv+tq65kAADhkWS5mXgZBrEm1sYQIouRibqMnXlj1vzTNiSc/Ll7VCpplq0FYZDe1IWcz8F\n",
       "YaDNXX8yFMo6B9Deg7eX/pw4hBzDd+dEZ22AbVt9sI+XlCV0j9itSS0VoXJmkuTxIwoF/D8trHXN\n",
       "aS6J5s9dMohcS0eNedJGLj7zflZBiNU3+zoe9rInIUKRlXOXuE+501uHweke2+aOGEbxu9Wmo/Uc\n",
       "v5J5LLlQ+wTST/xopKQm3RdjkHfXrUAAAAFzAZ4/akK/AD+Kzy0CVN77sgbLVGIXu8NFWADlQCVo\n",
       "NiguwcHLVbQdRA6LlABXx/iT3aA/L2n2c3jFts0h+Ldy0XhINqDJNHfsobSXNso0Z6mWlhIn9tsD\n",
       "nNdOdgbqLm7xDbI9g408/oxpLurvunV4XEEVAxlA9iGptOr5eGQJuNVNWReo/KKqdLN8/Pzt3CpE\n",
       "2hGcJ+TzIWyy79hxXuMafp85Z+cSpnal9NNa0UEKnwHl4h+JZL2zt1scBthu+WOXEYJpA+qzif2s\n",
       "GcVwpZ4G19CS0+zo5l/b5Zl//iBuOTrUPJT7CDpgw9yfdkLZspOKrLal+0HPvDcNpHsKDGRbvHTp\n",
       "5begRH/2PLvxHvdiC9DdkYLwZx7yPcFsc6XTFByOY46pqA9QAmCxhNK+NEG75D0KGVTSNS4PFDrc\n",
       "tG8AqDD02kOYCEiVea1guUIk9t7Z3bQ6K+dT7+WAkoNSdQZPQ5NqWwO8SV843SemLZWm3HFXC/EA\n",
       "AAEpQZokSahBbJlMCHf//qmWABW/jlGOb9P+Ee2GuYABer7/1dAg4VGp0gB5NZzSX5gv6qcd5cv5\n",
       "hPSs3uk8DM1pjikgI+lfYNHJp1vCFwLicT7dPLcLNqDIuemBR13qP8od/WUEHJks26G/apyKoGwk\n",
       "MreajtaYxV6dO3XbsRRye8M80usidlT/iPYJ4JeTQXoFfXPaUuV9TFxlDAjAQnjU4RBpe2EDACHx\n",
       "0rNpKHK02RsuUpFOkvpqJb7FQ9+RMj3r0KoCkn3lkMiIO6Joax76P7cAHRrqQ5jgwgMtsqhyhsD8\n",
       "L2wY4gccmRebSxTZTcMhZVdyjJ9XQn8gMclMM2BThHcC0106mZkhCWIqDG0fM3y02JAycR5rzo6R\n",
       "tVbYQVz4y6CAi3yCe+5lAAABE0GeQkUVLC//AC/QpFjhBreZd1JonwAIb4UJiI95p20VnhaDpkl5\n",
       "I6rUUnbV78wZ+lmF+tZdSW4DO1V9xRMnCGi3oOJOX7EIla2I7M3cosagsDCAP/zeoPO8x9oAoJwi\n",
       "2LIgtkRTI7VB2df6p5sKb+2pBIYvh2cb5WbDV87tmimkCFFGQy9Z5de2L5S80RYaDm80xoTeGcAR\n",
       "Umh55NAllzXnM7hfABUhYaVwb9Ayk179dfQJegnZw4mldJDOz5Bo9tKtJ2ajahvSI09CUmXLQMLu\n",
       "nPVjKNZkNfZ9vnkL3oq4K5aG0f4TC6vNzoYHOevhNPxa65RVSXeWcGE5VZqWfTTWw2Vnc3MJ5rIF\n",
       "K9XnS0f435bNAAABbAGeYXRCvwA/e/Uzdlulg/bhA3PQCuYGTFW4gAbF8vtmAWrAdmWO3ZjxjjPG\n",
       "gtw773bNKo3+SbyDh2GyvoBabOVbPYXrrsPkhLsdj2xr2T7az8EXu+zuegCsZE3D9gCOykTesEUW\n",
       "i/h2cI7gHvWVLEOe9CHd7PJlqNxnHF23T5dmKY8/6+k6ALWcebTTsj44N25JeWeuMNArnkbs/OX7\n",
       "4BL8DB3UqTkvHvNAo4gp+sxpeqZR0W0FRDMXg8GM6V/P12Wq6LnW1/njw0h9r7eJ6MXHjQU7rfq1\n",
       "coJGBIjGVY4mqLOM3Idd1GUF2wZ3N1s7x2RtaEEmrXmlatXHMnRyJP8xidZGrM+ctCLO6QnHXlY3\n",
       "9RZk3QyZrlPAbEjMcEyooJlxFLDqOPC53q0bHMcU8y7lSGe1lyMhB1dqkeUq5bOdl1JN/W+myqtW\n",
       "eFhN98+zHpiAZ+xwJ5HVRqCQiKHtP/6qG3mAWcKKtfVu8NwAAAGhAZ5jakK/AD+MjNRTViz6aRzJ\n",
       "M3yYFwVKXFSfQAX150dipCvh0pV3WjcmfRfCMNnjSGNm2bJCQ9zuVOxlkMqlwAnYw+P2CsUsWyHT\n",
       "2V232t7kQxFFhJit0njI1q0K8uV0STvIfzn10BPdQ78TUQxeugySw7df0IsZ2huhOOXNI38s8tdr\n",
       "yPCdq83Ol2rTJgRJvsZ9jB3+/NP3nXKvflNpxYwN6JYb3wsSpjzwi+wPXL8NnTsufzm71BOAWRWN\n",
       "Z1sevNjAldnR8WIw2P7ySkmys2pqdgcYCeUqYuv571mYmNeQhDGQXDe7vivyZDduEX25PZ5cFBjD\n",
       "KkEVPOanBb+UD0qpTh4P8FGZRzF2Yuunf5w96mcpRlcqMuBGgpzDdO1TpwmK8w19FeKOtt/b/a/A\n",
       "GPUHE/k574waFP8f4nDnHPEiWzI1YUUFpi9HywaO9lDWa3NzTkx4GT9XoO67HoDoGZ2Xz5xJIAkU\n",
       "OWWp0zVLrCCIYXCDGqUu5+0cBF48aNZe1F/pz0yaPLcv87dYeTqIK/8e667QqZRMWRAfN20QjyJp\n",
       "AAABgUGaaEmoQWyZTAh3//6plgAoG/4QBusFxzyrLS/It/Wh7kAsILMQXLH8h0F/6VWs8E7mhO6d\n",
       "DHO9DJ75G1XpDMYm1jOvMGm0kcwvHbH9KXeU4zQM9am9gFVdei26F1N8DwN9a6AX3KuFc+VicjQS\n",
       "l+KGKw0dmNs9kncArCnxeNyZOH7wDszV6BMLpaO+xp5HMRSqViOl3U5X8K3nrgmLOymmL34QTUwa\n",
       "iZWw3Bl2nAxz6wQFU6ZrG/xMyvrxowpmtKNgO3Q7OlfyOuldgvsN8d8wQ8/gcFwZtpd0f5LFhcDn\n",
       "O3EPXjcMAhWwbHCcpMHrsYLboSuj0B0K9Vw+KEHxexTMnAat17HQIvjLKpsruAStW4wRKn37+k7v\n",
       "N53unJKxztNxyyFXyRyyj6qbNHodCoJpJnlvAvHJCcU1EAwN3PWeocGVsxldIHAv2r+asszG3rOc\n",
       "ztLbCTB9Ug7LchF19kps0xcWpeL97J8vtR8WHVje9NTFbldVFH6Ya9foRyC1OyEAAAEdQZ6GRRUs\n",
       "L/8ALpkYv9q+AGvvP3bwrJM2PErHD4+TJWGUT6mJq4+Ao8E5ReY24st7lsXWk6IdixP7U8txymer\n",
       "V9xnB0RDJetvxhepZ4HiF4r/G3d3cJ9F6n2Fc2oI9uqhlS0T5vAFlM6f1qHVkKilZF3O7MuJPF4X\n",
       "IXKDxTFovjigfrUHZzFUGOhO80B2t7yVU9oyjerfR8U8rin2ISK4jBymZmGBsJVoWJw//oc433aP\n",
       "hJRJzd3hzi2bwRYrIGILCnrmrDS1hg61UOzyj1Bc//+GmcqwX25gmwiU7zWishbcTYHk0jCgfza9\n",
       "wdRJQUnFddO11orteXP8kMX3NNNmsSPDhUCNS8gtjJ/Ycr0T8dEB1nfz1yoBFi4jkYChAAABAwGe\n",
       "pXRCvwA+HAqBubYlnGoag2s9xCUegHZrEaFpFp3HbThjX9Mtija3pjI4AA7Q6FaDfTL77siqbupk\n",
       "tu/JxGHPd7c1F2zI/Gg1NTkzmFwBwthFX+sTLgkA1essvaomwHQR0DwqlHUqqiAyjbmdcaE5ca47\n",
       "/L/FGNkgOLmo07b3s40orz3Lg23DRgXU/Afx37QFbrHw35w97ILamLeYDXrKSy1w3GQnKMXrMy5b\n",
       "DZ7CP1FZ/EHxHGRXUDwMRfRrD1bErr/hp9QNxRz5VKi/20cJ6CN0Gq5vO10TtGveW+h0rZrN5PXU\n",
       "t5lh5VgsU8F5SGGPZ+bcKPHhkkj6U249qW0/hYEAAADjAZ6nakK/AD4gdLsniCvHR887SGEh8NYB\n",
       "hk0/IwxokTMp60CGjc8i0kVcdp/nR2HYNbanboiohyZtP1B9tJ6mSZrCfreloC7dzSYEbVNypknd\n",
       "cKOIj4m64PRuiNJ73zwDWuILEKmHIw34aStn+zZ8v2oCd3VoFld1WLhkS/4c70i2z8iPHgpUOk6a\n",
       "G6P4J0Ng4kymOO0iszHgpsRohY4E0Xm+9DS6EGMOznjxapXyHBWE9NWHWsWsN/7xDCPodc5mgZH3\n",
       "GkAh3UdoyTPrNTJAw74o/OTNifjW2NoK8X00r4wXCbgAAAFEQZqsSahBbJlMCHf//qmWABZN9Pan\n",
       "Zw9MkuD73QCvpgCG6AO6kLKTAfvaPvAI3jw7tc7KXmwX2No3JC7vfj7i8L5TRjicd2wBQCIAk/+G\n",
       "JoRH0RgjVuWsZLIOcU8Eh/b/7+dtlnmAjxm4sLxeUtRnY6VOAh+ET0mr9SmJbIuzoP++WVRitUh3\n",
       "zjeR8ZiMrz4pbTKKp96Net4Ydj+pSt8DMvOl6O6JjvUp2oP/NaUjf4T+YCuau1hslcyquq7iH3le\n",
       "LkHWRSBRKDUPIvXrjfJlxgR+m3FLTChZ7/zxdcdYgjeLgSZHFNfQ5iGS29+GRDQZ9/rQB8WhZsSE\n",
       "n4MFPk9sMR1JSczQFPuUh6pnTRusOStqRrLZ5+EBa123GHWwhfoXhUcop5/7R5Onc9FjnXGW85lk\n",
       "0V/YC5OrI8gxKVMXdFikiUSwAAAAx0GeykUVLC//ADJKhL5i0vttsoAIQPQhshD8jy9vyOLmO79C\n",
       "+yjHjytdTtorPC0HTJLyR1WopO2r35WoNSKksuhaXM80wBnUDnEmIeYuBpW+yUdZx4VVFkfQOfu7\n",
       "WMdPYuKdwvO82kEsI4xPPvBEF0/SyYxGPyg0q7tuAghK575onWjoGhJ7CfDaUQi+8BHkuHgLcAQZ\n",
       "mq9HtL+EfwXutxZMV9mJ2kRiJa5ywW96ZMPxWg3RTmxoQMIOXYjz2gX6nHgymPf5hpEAAADtAZ7p\n",
       "dEK/AD979S2YogJ/x65WqABCObPvJ9J2IEzywr/Gad14DSDgAwvIpHGzPCkETPibRTmXGWHikKoK\n",
       "6OwZgIKpQwLV7wmKn0fVKtju88LbmbU3ipUSF/LwLrINCuKAd6S61zPQyOqnWqErkgJ5znsdWCaz\n",
       "0d8OeZT4zdfuahbMfT66w9lRhJOCAbhW3vOIlnqOsb/S1ngvZu9nzoOA7SXuFOqQoGrkJUi8gaNB\n",
       "veV6qCBMIbviJoZfd1aQQXQR6fWt3GGjZOjlFwISz20IOZhmhrZl40LnvUiqQD/Il5KC0SA8Rfoe\n",
       "BRZeMBPcAAABWwGe62pCvwBDdivlkqLC+5+kL8hKyGgAvRg5HOd8Upee8yRD7qxKNjeRLbK0VSTi\n",
       "U9onVckK1xx6I2FX5WUrsRKFduX8t8J9HyFBegrc/ik5/kc6oEywJ2ALPpNU7HnPbMEuq+DtHwS3\n",
       "CGm2aJWIoQtfWfKtP+HgGdVn9rdblV62MLBFcsldsrERHCcnYNlKFEP0cFAKhEYu1nvJ94Apf8DK\n",
       "7ieCWHB7XWedd2DoHSQmYtuqCIEDqXCdDINlfbPMDxXsb+nhqActRZlYYXePU1YYj2mS3uSxxpKM\n",
       "yVKOCVZK6S7Uz5Bxi3yVmiuU3/dwHi2ky7x/voTMd+IaFf1Cu16ZtOuE/+ayu3rrsIOQiD3wHV78\n",
       "PikVp3rngJ8b4S0C3Ehivw/PLBVHDxCWwBFoAoRY4I8gKDtF3UCnCzWIKDA9CkhMfYYO1FraQvva\n",
       "wb8XpYdtmEaDmWd2QVDGAAABj0Ga8EmoQWyZTAh3//6plgAVLSQpzcxLgsAF6nKPom+erA/4zZ3Q\n",
       "lw8JKLRHcZo47Yp8/Xeh0Avtccv7qLNC7O2ZfknTKl+WBHH0HAThXZIWngkI6lWOc1IFu8wbTGk3\n",
       "KPVhUJbJb8wxY9/yO8lEtxejrOzu7JNU/EnxbmRmMogeyusczkG2NZUEWS+EZVY33oLXaIFQe7aa\n",
       "ygTpdj/MskHeNkUGvmrDZMh3tox2XuwdBFBoNdlZuknfDG7ZjX+iw6Nzuymgz4/yINRKczSXa9zD\n",
       "H4ttAwQuaicerstcsjp9idIbKx699toB4mn0Cq9LTyUjhNSesnq9ed7iBA7HhBYt1OnUWcwzkAwt\n",
       "PmZni0ez9+ylSvDALFvx3CdK0K9Eb804wXcNycQnInGpu8aXvz1aySsUhBLQ9aQHNF1KaJpQDsBf\n",
       "uoLRjr3xISH9xgz/m/STM4TvMFywLBeL8e2SqMy12h6m4ZJfYkuW7S1o34HX/AE/mNmhh9PPToIT\n",
       "ZET9gGyKCqnTSsibUDhN3zJelQAAASJBnw5FFSwv/wAyURiN8r5x9inikrRVtgsFKdp2pYb2UOS4\n",
       "fGTFA99PLr8pUoGIT+ApAA67XOO3xO0JLt0tVMNrygwiDgEg9VaHM/JlL2nTKba+6wDV7ZT/oAf/\n",
       "CunbkWkZbBMKQ0LLjugwPy+0O+q50hkCC8qGtXysPWW9Rmx/vug5OmgJcpdyT1ZO+5sDdCBAkvxN\n",
       "lQAcLzppjhYJYLKLmIf2KHEa1NCLc1Tv93mINZgtdcN3yivDci5tGsMCuWSt8qfrKUZ7vOb/jwzO\n",
       "TaRjXen4G+MpWFZN818ETGUzea8Ofm5ollaIBRjPUyK5O5wsWUIETU79S7TpkLY0FimvN+Y1fwCY\n",
       "VaxUdk/Yx6W1IAmCCrVeBgniz7au9Z1YwHkKHwAAAOMBny10Qr8AQ106XbvT5S8aAA6+AUvLKbj+\n",
       "xbAl1EzmShwPiqguCNuZ/PTFqZWiqScSntE6riQUdQUW1BgbtI7kak6A2vWLPZeaf1KdqoznMfcB\n",
       "PGmeZPOSKii6jsxmbn22SBpYHAFP53yUHi2izPdwawyzb3oQFYsneC5JkqSCAof7arzatKQ8cXxM\n",
       "1ZwD4ypIeA/VnA3g28tYSV8mnrg7u9ZkfgGQLkzMTpgf0Tean8lSej0iJudbfA7+tQE99u1R233H\n",
       "3GTrRJAxAbu55qOtZE1yiKZfbypydlQwbL/kt0AEfQAAAO8Bny9qQr8AQ3YD1lwOv1ryFGV8UEzz\n",
       "LLWN3FbfO3Kfc3dvYYEfLxlJZ/iSh3RKwSwH8QIAQFA15gCvYYI3V+CfkwRsl84UPDKiHx5Q5/Bu\n",
       "t/AVVKM6OxAO/R12QGCQnH05342KS1lcUDKQplmXwqm/PtsN48/m/SOrTnborf9b3YShPrmPQTIa\n",
       "2GeuPJKFC6nKxScTOWhVWXYN40T6sS8UOpURucyJT4AykdBle+O/Qf0NHfpvCyoOwHPQIzLLzXzE\n",
       "GV5jnBm7c/++VEvAu7watJBomj/A7Vp2xP0BYLTjYoBNGTZ0TKdjg3sRIM0G9AAAARBBmzRJqEFs\n",
       "mUwId//+qZYAFBFyCH3qkZpvUjV0yGKqGvvguvTdHPidRI9hFTTXx4v+P1aj3vG+2EmQQlfN3UX2\n",
       "keADok1IyxHv+2s6M96U9EWnBzlOjf9IG2cP8pp4IAiTIWtcSzlCNHLmqkKgBenY/Mgpt69D1yxT\n",
       "58P8qqNhPtkOkwkENAxB26+NQ3qgfJNiBPsdxtsVhPL2IE6PKfVoehJr6xLfzmn0kDBB6SzfF409\n",
       "HV+6/AAjvLSJ+540mhCJXNDiPPnhoJWhaQyn4hAjY755IqbzP5IR3YdHMioSzTnd9a3u3nYb4yA/\n",
       "DLuIUizJ/nuJxxgWW0dGck5XwQYZQ3y3RTgupetOhdxJNSrdRAAAARxBn1JFFSwv/wAyURiel/MC\n",
       "drhM9/+7PRLLGvXMY1xGP+8hZC7bybpwMuhzkULNF7wOVXYfG7TVZkLi+qTJMmpXnR1SNwbs078a\n",
       "iXyXta9J36rAKNG1jTJY36IK1hHRDQGvJ+9N6jBtULwqOnaRSLwesCFeMxSPb8eQ1V2Y+Pc0Xt5g\n",
       "Z0PrCxU7C1KsPe9ShL/PmAVUBHAE6RbCOkR42dvqeKBZ6VRNSU7wFvpOObI9YiZMtUozWDLQYlV2\n",
       "OhxDwAlqw491wlylbquDt8ynvk946yBnkej5Crcop51Fpqr6cGnrIc00AVkkd6vy8DLZlaZ4nXEJ\n",
       "tqq5/v0Y3lJU/aOkxiOFANXJtGOHbxKQ9eh4/4Jm7MdUd8ddxohsqQAAAOUBn3F0Qr8AQ10SRo7n\n",
       "8zQslABdygcV4XbW/WutaX2tMa1yWkp6tbUl3H5h573RPe86OxntR5OVjFG5em9e4k/mD94S5mJX\n",
       "ztOJ7ZdcgaOkc1Mlvtj/AtdtsMGRanCpd1z6XHb9+2mZN3uZevmA9svZkJq0tpmkYgbCvceGeg30\n",
       "ntlKUyj0Pg9kSqJUAFfjSt3EYrGs44Ylr8zc0E3aDGHW1kTnV3j9op74tYa6VSA1bdptykRLTyBh\n",
       "28hH8u4pnh9xkcKddP+LX6mwqg8JiRvrHZYRiTbsWE2xARp7XhoRwCkY+CDgAAABaAGfc2pCvwBD\n",
       "ditCjdYrpksAF7CB0VgSWyavb87o8claDYoLsHBy1W0HUQOi5QAV8fpQkhdum4Mt9NWKrcjh9j9S\n",
       "RAbqbM5ef08v5+YG8XBTzWv2y7cKvsZ61xrfX0jFf+oj//hpV5I1Jmwr4TkzO6PyZmZb5ZYo50fv\n",
       "GFk1AAPT3ULqB4p6QQe8/nHvGYPRIc3h27ioDalp940RYPYw5fLgE5yrPmML7Rt/AnSobQbdhN/D\n",
       "o7scwd0c6u5jWbrSL6tS75LxFlRocdrGwa4bThMtKOA0/qM/85ODpdNUpAXmizAYnPMcVGx/rXPF\n",
       "CxCevd9OgxC1T7mLfLPP+uMEPVybZjbJk7k60th+mWY3z7DjnrFiIYuIIPGCXaw0h6iADm6aEEQc\n",
       "YSfDpmJbt8q1UVpzDNSrDZnFMD7rOQ2QFIcrGdd07+8yQix9U6oPYhm+i3u6J5VDAOAXt419wU0I\n",
       "bpOkELCM0m/t1wAAAZNBm3hJqEFsmUwId//+qZYAFm+AMX3BXqXukSt09pX3Ht1R5EbBAIuMetet\n",
       "prgP8KjeIt5z4HkSQCa/DSuQq4Vz5W9dkO2C08MhVY9zw3WqZCz9B9cVEBbZiSYDO3X9/DAC/2fu\n",
       "sZsS7A6XDnpMb17wPb9HKMUcU/0z3Um44He4nKha/PIsFfqUHErxu/rL5hCLV6tGqKlNeQEN3Hwr\n",
       "zxWMj4yQe9MtmrarDTFaJKxYjBqRucXvh+1EybNCrgiIm3b26w/TYg6+Oe77FHekgrdECRenNhel\n",
       "dvLd6qTtzEQIs/zCe/SoYrXcSpCFIkjsbw4AeZlZLIfz36pbz3PiahX6sYKcfcJXFYVTKEEkyMgr\n",
       "iRhFfr0AAirl8UigtO6qlHf76W/+kvrbX0nRp+B78SgfbAxstVQgTL6XTogRnqmVDkxedg7Wi9/Z\n",
       "I/wCjpRx43tiTyalew/AV3tzTfReHVlZJD3hmS7t1XIFKjBFqC7EDCrmrUrz96RvnYrI62uXFr6p\n",
       "TdhgDa5oxbfkLy/gyAqGYUCNAAABEkGflkUVLC//ADJRHU5Y27mtMVAA5dflQwexi8yGKEfP9yS9\n",
       "KNb1V+b3KB7adznzn9F9opP/B1GYxiZ8Hon2C6N8K0/md7ThpH6Nry0HOPNGFDaeHJHkRQP1Gsv9\n",
       "mBVpY+wFru2qE/hAfy26D5G4U6IBJKu3MhF9+TsXlMG18QUuNNN0S2EKLD+dpcnS7kqEPBX2XfPw\n",
       "K8G0w7HIgOZs7DC8k54vS7KJxTY2eCkBQvuYGHRfyW696YzzX2zfNLn4iqz/PTq+eEETN29QZHdu\n",
       "R1Hgh2SOGHGA/SehZx5bytuj/1mL5dNm26qCvmwJP12V7B0sv2uQc2JdLcz4qwInlO/w54YkyEuf\n",
       "9/OOXPXCjjbHP1oAAAEbAZ+1dEK/AENdOoiiDcBpmTLZ1fBWpqlDvGf5FefFB7EblfopOSyOAEMs\n",
       "zSry/j5cGA+6gl8lnTct2uP5zo7E/ZWiyG0vuwL4RNaw4PBcePBEe1xiWzDdKNoLATxR4BRFte3m\n",
       "xCySr9F0FQWHbrQ8FMmzxSWHCQjDFD6h515DBgp5hTB7rDMfwl+E51XGXepgNFoUosesnld10IPK\n",
       "O35DbAHBMG3ggFAIQTz/THLnJJvL6aVOCbEOfnBpwuyFtunRDLR2RYfBA5uBhwvkxDnxYTGd5Dq0\n",
       "0TYmM/14YPD+cTzhb49r8def9jtX7zyF/ENzPvJydMXPgJ4R2BmCBg1HKEADf7szzwU01mut/1np\n",
       "yWg6kB/y78STfJLHgQAAAR0Bn7dqQr8AQ3Yr5ZKgKaWn1YDNiczKwAHTzoa1Z95+FPsqTFgcUTmX\n",
       "8/MDeLgp5Wz4HAc6VBYfr7OrWLR9+D9UKyyCpc1vpa3zaPAztdqIm0mDjMNIVgD/VRVyUWHAdAxC\n",
       "nF8hyDsgi4ZxMhBWNKyzN3nAF2CKgMmxB+59fV+MBfVkJxyeTNhIRnecGhs6JSvttA8Mbw4a/yMM\n",
       "e8mkmr0hUUDYYeoEuOfno+iGy8Nr2KKPdsLstT1z9Nx0VeTlETDAsVs67rdDiDrnfnRKsPBQRPqf\n",
       "LEVSvNXJAGVljGXMQ8d1Z1OqkqR6/EbOOv1JzP1XX+WOOARb7v7UocEbcWmXrEEbdCzT1ewjLxlC\n",
       "8GrtISYsz6nrN6zb2xAfSUkAAAHoQZu8SahBbJlMCG///qeEACsiFfoex1MghWpKu4TA0kABpOEF\n",
       "y7tN6ktFEht4qCeDCo9bS4WBPX+e+uS7q5Wq9MeHA4O7VzX5TjiwqqK7Sxb899c/8RmJPl45XL0z\n",
       "aslc2RByqPK8/txzTJlsPGY7g+43VNXocsCRvnMNWQXXe5nw7qqzoPcSFyNDVPo6cJhkMDggu04I\n",
       "p3X6CEBxTWQaOK4ZFzkw7WoN0h2CL2Uysa/zgAZ9J3OH6ja9Tk+Jv90TBtmEUQBTIp1d3dUnZkRJ\n",
       "E+Rln8hBLZr1QjWgoZWoUiajK90K8dZ4RwXMQHcQWVz+Ga0p/bPJ8zcNSdjZ3f/aj1IKdGwO1NVd\n",
       "OwXsGv9wDyhcK7lQa7H+oFiWJlG1FSS2lD4HRXBrSEvkSt36zfGSa2qH/e4HkgzLcmVqSD6hYq14\n",
       "V2bOJIHxdSyMZs2D3EgCLe7wn1YDnzPyEUIr7oN3CVOWR7yESI29pjqC2ZUwLdzDacDscOBJZWSs\n",
       "6X4nPjNDkT2h4pCOTqhAbigqLAsP0lBBOzscy0duA/jb74HIV6qkBOEicL9Vmmz274diDBCenGLY\n",
       "CbvrPOMy5/MK4oVxqk/UKlbeAFNpNcLi/wRVFANHQUXXdtLcjmcHtSbSotflx1RqQdVxVLAAAACx\n",
       "QZ/aRRUsL/8AMlEcxj8sBAAE4K0Lz6oXZeY+I1yuXw9Lw/2xlmHu7wZA82cSqJPc0h6pE1zPTkMV\n",
       "qQTMpi5roUKyzDbRStlppu7z2FI+6DSlRTumVX2VWYkPkJYxjKfL2G3QYgcdpH6QchV7P58VcBeB\n",
       "X/DWzCuurAgvd/rOQMEaJjCfbS4NwanFZ1CDuieCZOpnw7ZKGnUwEe1l9LKoxffoW/mESJS9+Ee/\n",
       "KYf9OIeBAAABBAGf+XRCvwBDXTZiGUiTJMquDKf3NjwYx6x+Mycm9Di85Z31qCAEtWoibCUzxDlo\n",
       "FuJsIblrbX3CjSeFRHtj/DN7sfwqTQjj03UQO4irPw/yjPr2EmYWKr+L6IwIY5c6Llhy3lzctviG\n",
       "4kqsndwYB7pGWcGqAkp8OQzLtPY2b8JKhT+zDS3lB8vItVod7B2bOI12CamDUcPRfw8qJrXVLrQm\n",
       "0bpr+UCKKgI/wkwieqygPh1vNHdRvy2sh59pvyc43IizRdcO+eK75eyDgtgbaCq1y4g1fP9sMsQz\n",
       "fDVemXdSBIMQLKILk7X1X1XVvR/cdN3OLfE9HzqzATdBVkJYmgv742FBAAABEAGf+2pCvwBDdivl\n",
       "ja1FUuFY7hpyDbU95bcp7HL1KIeH/YqH+Mo5Q0RqxvvODzG2/rV/nM+SYUuq514ErbYA9ig5rEPx\n",
       "xQF5ujBTQbj+yWRhzBkTl4d6LWvOjsQDbZ+PvSQndPiwOi5lrKAwHIbdl1C/idN+YqYY63wlNr6L\n",
       "DBbuLYjleCZr9B2cKopcp+OEMhqUCCS4V2I4bqk339VQ3P3yrogi6Vq3DdHMBeAcaUKNoCN0/7Jm\n",
       "TJOnMoWzPs/krzn4ai7X/G+siTvYcKNqdxjqzWHwPwAdn4p4Olb9gK5HBKD/S+3Njfo2GdHi2O9z\n",
       "eX0P6m8Laho0UTkGNumZjEBerj4Ot9LMLczmBwG+IIfBAAABNUGb4EmoQWyZTAhn//6eEAE1Q9Jt\n",
       "KOkKhBjcaMFkSAEN84LQ1NrpQGpl0m07UYMAlNKyCdsuq2ew49SVscfqEpcrsx1PXAw+9hvuitW3\n",
       "glqPHxUrYQAE6BCmE67cpo9g8CgHPGr+jlQBa2kgvXTMPZphILdeK9zgckd5bTbeQRU0KraJ3cYd\n",
       "RXFxfCuXIBmFv/5/BE4Keb7eSOP/0fGbopl6a+5GhPV52Nqm8a2PwZRJjeTMsLuAfV21TF7fErYh\n",
       "UtJNc0XwJVClU2klw6hufbLxDrj4PPy+J1kRqrSRv07qbpOAbNi+rOvpIdHLGV+KbXwEQs7x4D66\n",
       "f/+V+1QT2cxB12Un54Zb9viF0cinQzKsX55j3vlwjb9DDU2u0NMeHTzAI6PnEsPAoiQaJ37uFiAf\n",
       "fgnuMQAAAUFBnh5FFSwv/wAyUR1W8TBNgQQ9kAub8WMGALswv0xKC1D8Q73DWGXVbPV9Tjr20o7o\n",
       "2Lw/fhLS1P5FcmD/EGedCMUdW4bymn/JmLPye2WJ2SeesU9fZFTupDKHRxn7dhJMpidljBFMZoRQ\n",
       "iZSDASs+0147akY5Y6C4DaTsHxKJe2nGj0t4CY2tRwrf4zeXbS7h8yNyESAVi25419XOrbPENBL2\n",
       "tTBckAk4Z3f2tWJllfT/Qe/fEH3fqhN3kiX+A9E7Blz1d8nJI4ZQuQpYzB6Q8h9x7D+tqJPKssUy\n",
       "+f/WVJ3/e/s7UFpywRtMEVfPIQiOTyCzHe5x97QdyNsZyxSTUvSLjYNPOR+6WVT/i0KrUdhpKiQG\n",
       "bZqt14QKdcrtu4YcS2m4Co7enVf3FHCUc3NZcb4RDk93YMfVA5BlDoqa8RAAAADgAZ49dEK/AENd\n",
       "Owb3JgwL0SNaJovTQLUNciDx/GQMBB5xXNiVrDYNQ391XZz73QEHl8EDJE/qfXzjsGLDWNEwHVfY\n",
       "8GD0YJjsX/29jiEiSfGaMoL2zrHB4OFkr0XcHh909JfZ9JVybyDhzXlR6wrxywfcCnkKzdPzFLvE\n",
       "2SbpeDKKdZLxilxL5bA33n/viAoJMQEiKvyE1FydVxZRORfrlEJV5IKvZ8mjdm8ERTbfoCDQFk8J\n",
       "9zwQ9pd43PigoRq8L9nWUCDsy7gQ6auupfPf98WCCAuT+ffh6TRqOnBQDa4AAAEiAZ4/akK/AEN2\n",
       "LB6kb6rphPPAwD5XWuF9h/P57skMYCqRT+SdDSmOnyljRBzUFSxAXEyAP4R/7T93sNNHvoedHYdY\n",
       "z9AJxkzxyy4mjgxLPY0OIdJG6c6lkNjjzRC/TNZzNLiyc1WojXHd1sWek2KlsHACRBjFey4ni8Jg\n",
       "Yoo7Vk4mGo0NdnySK8uU99kalxRdypOJRlCPbz0RQdo36HoEG+Dnzf/ol6KYcsRmBydfpCS48jeK\n",
       "rbRKB0MJdN3k1D/+Dy6obgO9ITEdAa9nII0apSsAeNYoMI41MfgoE/ZMrweM4j4DqiwTHfD3T81t\n",
       "BajmVyo17A5w12RVX1gaRz0xZ6G3e8Tix1/Z+WlX/Zz9mVK56Jwg3CHwhtpYuuScV1QaUWEAAAEn\n",
       "QZojSahBbJlMCFf//jhABLVE9i06aiyAG8gASORzuV3hWr58GMQAOs9M4LB3ay677xtr35xXceWQ\n",
       "4eOGxvf/OKPcckb1dgTb2EN/XEH1iDYRpkPlNkKIjO9FD6Xpy4qb+2aaB98H5HZSaITKm8piASWV\n",
       "3dGEzYXNqmJQXMu7U4CuX5v8jR0X9S6f8DaCSGmM9KpWwBex5wn7mni4OVXNv5V8gg7CE13GJgxL\n",
       "xH1TpfAfdfgbkVPH5z/XyMdk4QKCuDWcYoOgdFJtEDgrUxRnzLWFJC3sds1SQvy//S1fiyvw8yQI\n",
       "VHLcay++f/10Z0rt0TTeAwh9TkMLyfY4Hj0K/evnZPirLA6K1j9IF5uZXETJMGjVBVFIdGzs3LNK\n",
       "bYbB+s7t8jq0QAAAASVBnkFFFSwr/wA/gHUfLD54FEbpW33fABsNd+uRljvM7wdyKV/d8Tp/7238\n",
       "w408O+q4KGvO648TR3GNFBNf6ynbyEtPa4vaQj1Vy5R7YBNIP9P4nnq6wK5PYtqHJGta4glfb391\n",
       "c7k+pL6g2xLoGeyThZUvBJY7ZwZRQva5sS/BdSednjyc6hkeS4VimvUB35bvJjm9HyaaCBFRMMJN\n",
       "ldfypZQ4sdGZwylbd5CLb9Z3ym30DUTrJBM2EpO9ue518p+54+ljuF4jnkqrGDHMx5aryuPTrcqw\n",
       "7qBBULSe/YyJy21NggEEFuSYK+K4dxeNIKQueZ3VSpBYoS0aqNC012nEG5JKN/n94oh8YvRw8zmU\n",
       "F5qT6DNhB7FQNQlec4n3+LHJUiwrYQAAATUBnmJqQr8AIsGU/MBIWYarureJjgitrCWGJE5eDju+\n",
       "CsVDp+fVEBH71JdFgOfJU4AVRVpGC8dBh80ZRn1N5OVjFG10Ft2TrHKB8dcq/AJPeeWql0fFOrRl\n",
       "wjtab1rGNJKXqfZCO2f2wxfChTfUil2blKxIV29rvZpltKtuHGD1EsVNtAyPjBC3/AF2ODaCeT+e\n",
       "jMB+vHABy/vqhY0ogKg0JpRF+q2PJVT+NeB6+hf4I2V1v+NYD675ch1WpxV4m9xfanYiH1+2GF1I\n",
       "CajBYbUBrfORJ9MsOpQUS8QqboXUF0k+/mQZXGOF1dBwd9Ea3xg4aRjUJWM20nX6ESPGF4VTUOBy\n",
       "16u1lvLQc/QIVvJ5Wtqk4qBtmtZ31K9jWrrmi5LocGZ3AZXjO+U4PvZkyh4SZ49dF2AAAAfWbW9v\n",
       "dgAAAGxtdmhkAAAAAAAAAAAAAAAAAAAD6AAAD6AAAQAAAQAAAAAAAAAAAAAAAAEAAAAAAAAAAAAA\n",
       "AAAAAAABAAAAAAAAAAAAAAAAAABAAAAAAAAAAAAAAAAAAAAAAAAAAAAAAAAAAAAAAAAAAgAABwB0\n",
       "cmFrAAAAXHRraGQAAAADAAAAAAAAAAAAAAABAAAAAAAAD6AAAAAAAAAAAAAAAAAAAAAAAAEAAAAA\n",
       "AAAAAAAAAAAAAAABAAAAAAAAAAAAAAAAAABAAAAAAbAAAAEgAAAAAAAkZWR0cwAAABxlbHN0AAAA\n",
       "AAAAAAEAAA+gAAAEAAABAAAAAAZ4bWRpYQAAACBtZGhkAAAAAAAAAAAAAAAAAAAyAAAAyABVxAAA\n",
       "AAAALWhkbHIAAAAAAAAAAHZpZGUAAAAAAAAAAAAAAABWaWRlb0hhbmRsZXIAAAAGI21pbmYAAAAU\n",
       "dm1oZAAAAAEAAAAAAAAAAAAAACRkaW5mAAAAHGRyZWYAAAAAAAAAAQAAAAx1cmwgAAAAAQAABeNz\n",
       "dGJsAAAAs3N0c2QAAAAAAAAAAQAAAKNhdmMxAAAAAAAAAAEAAAAAAAAAAAAAAAAAAAAAAbABIABI\n",
       "AAAASAAAAAAAAAABAAAAAAAAAAAAAAAAAAAAAAAAAAAAAAAAAAAAAAAAAAAAGP//AAAAMWF2Y0MB\n",
       "ZAAV/+EAGGdkABWs2UGwloQAAAMABAAAAwDIPFi2WAEABmjr48siwAAAABx1dWlka2hA8l8kT8W6\n",
       "OaUbzwMj8wAAAAAAAAAYc3R0cwAAAAAAAAABAAAAZAAAAgAAAAAUc3RzcwAAAAAAAAABAAAAAQAA\n",
       "AyhjdHRzAAAAAAAAAGMAAAABAAAEAAAAAAEAAAoAAAAAAQAABAAAAAABAAAAAAAAAAEAAAIAAAAA\n",
       "AQAACgAAAAABAAAEAAAAAAEAAAAAAAAAAQAAAgAAAAABAAAKAAAAAAEAAAQAAAAAAQAAAAAAAAAB\n",
       "AAACAAAAAAEAAAoAAAAAAQAABAAAAAABAAAAAAAAAAEAAAIAAAAAAQAACgAAAAABAAAEAAAAAAEA\n",
       "AAAAAAAAAQAAAgAAAAABAAAKAAAAAAEAAAQAAAAAAQAAAAAAAAABAAACAAAAAAEAAAoAAAAAAQAA\n",
       "BAAAAAABAAAAAAAAAAEAAAIAAAAAAQAACgAAAAABAAAEAAAAAAEAAAAAAAAAAQAAAgAAAAABAAAK\n",
       "AAAAAAEAAAQAAAAAAQAAAAAAAAABAAACAAAAAAEAAAoAAAAAAQAABAAAAAABAAAAAAAAAAEAAAIA\n",
       "AAAAAQAACgAAAAABAAAEAAAAAAEAAAAAAAAAAQAAAgAAAAABAAAKAAAAAAEAAAQAAAAAAQAAAAAA\n",
       "AAABAAACAAAAAAEAAAoAAAAAAQAABAAAAAABAAAAAAAAAAEAAAIAAAAAAQAACgAAAAABAAAEAAAA\n",
       "AAEAAAAAAAAAAQAAAgAAAAABAAAKAAAAAAEAAAQAAAAAAQAAAAAAAAABAAACAAAAAAEAAAoAAAAA\n",
       "AQAABAAAAAABAAAAAAAAAAEAAAIAAAAAAQAACgAAAAABAAAEAAAAAAEAAAAAAAAAAQAAAgAAAAAB\n",
       "AAAKAAAAAAEAAAQAAAAAAQAAAAAAAAABAAACAAAAAAEAAAoAAAAAAQAABAAAAAABAAAAAAAAAAEA\n",
       "AAIAAAAAAQAACgAAAAABAAAEAAAAAAEAAAAAAAAAAQAAAgAAAAABAAAKAAAAAAEAAAQAAAAAAQAA\n",
       "AAAAAAABAAACAAAAAAEAAAoAAAAAAQAABAAAAAABAAAAAAAAAAEAAAIAAAAAAQAACgAAAAABAAAE\n",
       "AAAAAAEAAAAAAAAAAQAAAgAAAAABAAAKAAAAAAEAAAQAAAAAAQAAAAAAAAABAAACAAAAAAEAAAgA\n",
       "AAAAAgAAAgAAAAAcc3RzYwAAAAAAAAABAAAAAQAAAGQAAAABAAABpHN0c3oAAAAAAAAAAAAAAGQA\n",
       "AAqIAAADLgAAAXsAAACWAAABKgAAAdIAAAGgAAAA0gAAAUYAAAJYAAABfgAAARsAAAFFAAABYwAA\n",
       "AakAAAHfAAABDAAAAXEAAAEcAAAA7AAAAYAAAAGAAAABMAAAAQgAAAEsAAABUwAAAOgAAAFnAAAA\n",
       "vwAAARoAAAESAAAA9wAAAPEAAAFGAAAA2gAAAL0AAAE9AAAA7AAAAXMAAAD+AAABBQAAAY0AAAED\n",
       "AAAAiAAAAU0AAAG/AAAA8wAAAPwAAAFMAAABIwAAAJ4AAAD5AAABPgAAAPwAAAC1AAAB3AAAAW8A\n",
       "AAHIAAABJQAAAO4AAAECAAABRQAAASEAAADSAAABdwAAAS0AAAEXAAABcAAAAaUAAAGFAAABIQAA\n",
       "AQcAAADnAAABSAAAAMsAAADxAAABXwAAAZMAAAEmAAAA5wAAAPMAAAEUAAABIAAAAOkAAAFsAAAB\n",
       "lwAAARYAAAEfAAABIQAAAewAAAC1AAABCAAAARQAAAE5AAABRQAAAOQAAAEmAAABKwAAASkAAAE5\n",
       "AAAAFHN0Y28AAAAAAAAAAQAAACwAAABidWR0YQAAAFptZXRhAAAAAAAAACFoZGxyAAAAAAAAAABt\n",
       "ZGlyYXBwbAAAAAAAAAAAAAAAAC1pbHN0AAAAJal0b28AAAAdZGF0YQAAAAEAAAAATGF2ZjU4LjI5\n",
       "LjEwMA==\n",
       "\">\n",
       "  Your browser does not support the video tag.\n",
       "</video>"
      ],
      "text/plain": [
       "<IPython.core.display.HTML object>"
      ]
     },
     "execution_count": 13,
     "metadata": {},
     "output_type": "execute_result"
    },
    {
     "data": {
      "image/png": "[encoded data removed]",
      "text/plain": [
       "<Figure size 432x288 with 1 Axes>"
      ]
     },
     "metadata": {
      "needs_background": "light"
     },
     "output_type": "display_data"
    }
   ],
   "source": [
    "fig, ax = plt.subplots()\n",
    "anim = splt.animator(spike_data_sample, fig, ax)\n",
    "# plt.rcParams['animation.ffmpeg_path'] = 'C:\\\\path\\\\to\\\\your\\\\ffmpeg.exe'\n",
    "\n",
    "HTML(anim.to_html5_video())"
   ]
  },
  {
   "cell_type": "code",
   "execution_count": 14,
   "metadata": {
    "id": "ko8KJBCNobY4",
    "pycharm": {
     "name": "#%%\n"
    }
   },
   "outputs": [],
   "source": [
    "# If you're feeling sentimental, you can save the animation: .gif, .mp4 etc.\n",
    "anim.save(\"spike_mnist_test.mp4\")"
   ]
  },
  {
   "cell_type": "markdown",
   "metadata": {
    "id": "gu1_f0XZobY4",
    "pycharm": {
     "name": "#%% md\n"
    }
   },
   "source": [
    "The associated target label can be indexed as follows:"
   ]
  },
  {
   "cell_type": "code",
   "execution_count": 15,
   "metadata": {
    "id": "7Yb76uofobY4",
    "pycharm": {
     "name": "#%%\n"
    }
   },
   "outputs": [
    {
     "name": "stdout",
     "output_type": "stream",
     "text": [
      "The corresponding target is: 4\n"
     ]
    }
   ],
   "source": [
    "print(f\"The corresponding target is: {targets_it[0]}\")"
   ]
  },
  {
   "cell_type": "markdown",
   "metadata": {
    "id": "YTRqW-wtobY5",
    "pycharm": {
     "name": "#%% md\n"
    }
   },
   "source": [
    "MNIST features a greyscale image, and the white text guarantees a 100% of spiking at every time step. So let's do that again but reduce the spiking frequency. This can be achieved by setting the argument `gain`. Here, we will reduce spiking frequency to 25%."
   ]
  },
  {
   "cell_type": "code",
   "execution_count": 16,
   "metadata": {
    "id": "ymxnM4CaobY5",
    "pycharm": {
     "name": "#%%\n"
    }
   },
   "outputs": [
    {
     "data": {
      "text/html": [
       "<video width=\"432\" height=\"288\" controls autoplay loop>\n",
       "  <source type=\"video/mp4\" src=\"data:video/mp4;base64,AAAAHGZ0eXBNNFYgAAACAGlzb21pc28yYXZjMQAAAAhmcmVlAAC/S21kYXQAAAKuBgX//6rcRem9\n",
       "5tlIt5Ys2CDZI+7veDI2NCAtIGNvcmUgMTU1IHIyOTE3IDBhODRkOTggLSBILjI2NC9NUEVHLTQg\n",
       "QVZDIGNvZGVjIC0gQ29weWxlZnQgMjAwMy0yMDE4IC0gaHR0cDovL3d3dy52aWRlb2xhbi5vcmcv\n",
       "eDI2NC5odG1sIC0gb3B0aW9uczogY2FiYWM9MSByZWY9MyBkZWJsb2NrPTE6MDowIGFuYWx5c2U9\n",
       "MHgzOjB4MTEzIG1lPWhleCBzdWJtZT03IHBzeT0xIHBzeV9yZD0xLjAwOjAuMDAgbWl4ZWRfcmVm\n",
       "PTEgbWVfcmFuZ2U9MTYgY2hyb21hX21lPTEgdHJlbGxpcz0xIDh4OGRjdD0xIGNxbT0wIGRlYWR6\n",
       "b25lPTIxLDExIGZhc3RfcHNraXA9MSBjaHJvbWFfcXBfb2Zmc2V0PS0yIHRocmVhZHM9OSBsb29r\n",
       "YWhlYWRfdGhyZWFkcz0xIHNsaWNlZF90aHJlYWRzPTAgbnI9MCBkZWNpbWF0ZT0xIGludGVybGFj\n",
       "ZWQ9MCBibHVyYXlfY29tcGF0PTAgY29uc3RyYWluZWRfaW50cmE9MCBiZnJhbWVzPTMgYl9weXJh\n",
       "bWlkPTIgYl9hZGFwdD0xIGJfYmlhcz0wIGRpcmVjdD0xIHdlaWdodGI9MSBvcGVuX2dvcD0wIHdl\n",
       "aWdodHA9MiBrZXlpbnQ9MjUwIGtleWludF9taW49MjUgc2NlbmVjdXQ9NDAgaW50cmFfcmVmcmVz\n",
       "aD0wIHJjX2xvb2thaGVhZD00MCByYz1jcmYgbWJ0cmVlPTEgY3JmPTIzLjAgcWNvbXA9MC42MCBx\n",
       "cG1pbj0wIHFwbWF4PTY5IHFwc3RlcD00IGlwX3JhdGlvPTEuNDAgYXE9MToxLjAwAIAAAAZCZYiE\n",
       "ADv//vdOvwKbRZdqA5JXCvbKpCZZuVJrAfKmAAADAAARsG58lw15q9IkAACtobhz+EtXgAGbPfnA\n",
       "6vBq2y4KD1VFSYr8QiGU1RZ6il6SV2xj+fxPL8Qg2QVIKd1FSNrbUkyK8j5tf2bXuuUAqmGmgt72\n",
       "qfAnam+BtJ+fYoQA8pYwsjqib3T1EXHpSR9Kjy1vDkPHhUXklRryXUAa7gyrUpAPYteR6QSzfIXu\n",
       "8Uj3dWF7cpcchvY8bv7P4Zh9s5U3HHlb//4Mqz0srDDgTtHNKStXuaewdrMKCQYeYlteb9AbNPoE\n",
       "wo2q1t7mULf+TJTLyZBhVYuT4LE1bCGUIitVLLUscpl6jidXdRTQETgKUlMp7oRtQ4702bXucZJm\n",
       "LTXKsi/fB0MLJwfz1K5WvSCenrdfq+9eDyO6ZqEiuegmds8cKUAocwEn6QBB+RFhkWfyh+VXQPvi\n",
       "pPgEPw3unvCAPi+TS2uUntvZk6TV7L8DRY9asTJLSSeVnLIe1TZclUCsStWHB9TS9dtfndd+UY16\n",
       "1TfdnaaEZ5cAfxbPLDQ0pcTceag9Wo/e93xaerW0ef6wRv5w7efgzkD7JPO2tPGE2rpg4+ZvmAch\n",
       "TkW2a6SMhzvrdDhINEIT4kGaD+nkTkvQU7c3Ck4e864h4kfLUCBXOu4eoPuUnuPfrQXDdNzlaKzE\n",
       "vc6v64OXH5sr6GDRILOPUmMT0+fhn12BUEw5dNr/lk5bGV2ow3M1hJYSQpxWlHWfFcLKcS8RGi47\n",
       "QF9xeRI0ipsWIM6948ROcYUzWPxaQvFVjW4Vr13EYmweOTuAAUysN/5k6cm6jBm+wsq/0TwbK7CQ\n",
       "knfwREfqca6YBbj9hfoqkZBHXQaYfJOR20qIV7pXKrUqSgUwKNNJ4FKJYjlALub6EGMFz+V+XJwv\n",
       "LolHhjv5VAEdKP723talsffFaZ7fxLX//Z1cAojXLUMSxvYYTtqeJpjjdN+EEftylX1pk6wl9CTT\n",
       "7YVunYeNJjlRaEJXO51CUAuSyhHLftqyZLzbE2qZTpiLqmdwLRtKRAgdRq+6J3osClWKmIwCMuaj\n",
       "60WexGRuY259fWFn9S9Y11Qg+/NzSzpnV9Flc2wHkDnljK7lQgxar560lxt5tIlX4zi9ST+zuRgu\n",
       "wWbFA8+FpYctwjufjZVrQIzpLa1NjxrcvwF/73uRVTcEtA4yWoVUAcU9tf7PRmFEfRPA5bINu9bW\n",
       "R4Xl7RqPnDI354VmlH9Oh2pDQn+KqndnBHfEy3t3+X9ze6ZG8qxpQcdfQ/Bcftatpb56XIKwiz+Z\n",
       "Eezd47KNYO83rgNZS96XQZ1u4xpvARn0JqGHXLLgFouGXmUY2nJ054244BOkvZnKbGInVoaNLh9c\n",
       "z0RlGqhC8ulcvf2wCOm1ytlBbDxPh3bs/4Bzy4aQBjiPtDqBj1OjdbIJgXir3IG7QXL60srE1wdb\n",
       "m/yU0kbOMZurx3rz/rKGz+DZ7z2izwbzssz00xlJisMlQWUhd5cYQ2vY7JYuaWh2ElC0/mFFlkYp\n",
       "kohloRKjjVEybRiIf9xyBqm0LNDkznPQdcx4TkytTgMm8VJp+J/5SI/8dH/Qp9t1vmRShU9ruIHn\n",
       "Vo3EMHyZ9URq6MQo8Mqu2mHpiUyRvfCZbrQATtTryAZ0xDY60JZ0t0V2GjM6DRZ/v/8IIqEpKzOE\n",
       "GJVADVHeKvWXov0uymkgEfkLUJ4rsSXuZOimw6OzSB3+15GnzcOhHUhW7B/utfEzch62U4JoT5CR\n",
       "tzdGgq/C+kDyPq74UXUVNwL8IXOA8vqiOwdSuUiYiTby9gKKewKHQyScSeLTvsidXXJKLyXmVI8G\n",
       "aIMz72oZEslHaVf2oHEjtEZFJ61TPEVVvPSOHLxIM7D319IZt0IHfD+QG2K2+ZJj/BDFH5n8e1wl\n",
       "2GC730RUSrT2Tae7ZK4wQTQ1B/xss9hToPKjVXYrxjDvpVwapL4l57tuFgVg0EgwKPoTPM9Ns2J7\n",
       "40cr+fvEYW5ytGi5GzCzJzeMavTmlZnhG6dnPLeDbra6Z6q/CdDyHVJB3p8bx87A2VuXSOucoOS5\n",
       "hxeBlFFScbGFy/reeDTjf/wH3/6D4504xiep5p5OgqWkKpjvTwJWaX++0ox9W7Rm7BGVo5AAAD2U\n",
       "5UcdAAADmUGaJGxDv/6plgCQMI9ACHcOmugDc9Co8X6/fb/J5Uj/lMcRfMqqGx9C8jiMIhgK16lq\n",
       "SV2XsTg1Ev6iDcZn2fGYUB0o01+faSdcSTuA44IiGRTmwjWA4J9FkibsdEgNbaiUCI5lobtRUwWP\n",
       "SAHX6W/Ed+ebW0UUf7Fj2n69rrvjZWD6/uO2LNu0MIJyMaS1Gxhe7llU90Y2QhO58kg7WNrWlz8C\n",
       "MPxomZh8mLvtFnHmcT1wQbflMwLWIkm4q5iJBdRzMLsY2fBChb0HHCca5J8y5AEmZ2oijYDyfuWu\n",
       "n5JJZuIxrOjgxnXW/lyzHuh+k/gh9MxU8Xl+9YnMG3psJ86N3va2e/XPAZJ60p2ZETUmVjzX5jp2\n",
       "IH6YwngmxbeDmLaX9CJyDM3mVlZvA1hyOy2mmJQQ5DYerTnKmVyuKMkAND5gFxYZy+djoHLMO/rA\n",
       "dXIzlRO0pncLh7aS0IStUIIKD4hZjSNGYwybpGvHXQZDN5I8FHkyhaWgdgFzLoI7nAqM9mVhfsYl\n",
       "geCw3OAdKjmlbKaOCsKm7Xkt/tGLDKXLWG+XlF8E0Xf+Bnj6Mi/m01tj5tA1JaQTyRql4kzfLflO\n",
       "T1D6GsyzrrODqK4LCYHD3wKjWhAzS+vIiIwI/Eb3wkorBhIH/7EQO1Tvft4LZ77OgvKWQIA+bRTH\n",
       "IYvFL9neWo5JIcpyPv08pltg2np3cAwx95Yn0dBVon0cpiixe04afTY1kDw9sFivKH2FWZR66+UP\n",
       "dGdezYjeZ9gvt3yQMbQyypGvapZVWOYongKepPbcxYvx1Tb3Jbplassctvz91ftxl29mtJyGnR09\n",
       "2crF/QJgzLJtBr4czdzFsfVfp3Ctb/rYfgpiEwFDRSB5EuUR0lZy7yJEZw7/A7QcqTFl3czgoUvT\n",
       "iCcW4SQP/ptOyF6aVKZW6Z0Sw1pPEBRFwAAk3aO/uIls2ZNbasKGqQ1n0fGyN+O4DXodzFz0PGIG\n",
       "TA5hxo0W+nJUzwQZ/nhSq+6MeLoU+hUb93JYTRu4z4g6uu8Kc79vyQft++IYeXpEppwD9O+L0H/y\n",
       "sIhHeYJYHICgMGhcF3tBxyRvCZIqkJdgLc8GK3Drnb4EU07Ny3/3kzvQIoddwLlXv7pQUtQMF8Bv\n",
       "SnynVQ6gVQ7s7A7cdskyaZEf/D/2joj4uAh+mKbtqWhNyxCZBPtbqAVfkH8ClfHtOg5+HAh3YlG6\n",
       "qZxwfguFV2Vm/AmsE2FvwAAAAjlBnkJ4hf8AL8GAychTx5eYCB/mLXdse40yWKReyynWRI/1+98F\n",
       "JE3AEU/z/S4CDhb1PG5JdBX8u6SmMuPBTN7Mqg4n5BlJ620PfoSk7cS30xOc30wKUAFMoahuV8zx\n",
       "aI/eqsjuKWTmzm5mOYaGKtVwbTXMUcl+2z0YMGFypb9aZ+YiJr+XIzTgE178FyXScM6SMKcMVv24\n",
       "1VldclHZAx63fAewI11oumRlDirHkswYE5xsqLIRA8p05O0UdL33dtndcEvqVYuJM9Z+tPk9rh/6\n",
       "0UhR/1KtUfYLVgmhuF4qi3slll8Logz1P8/qB95DU6SdqVZGz5LBSBUVVwNHTasdsSB9T56YcHOJ\n",
       "tJmjnIF9senj76DYmFqw/zFY3IuMVWJ+cs1pBK0Zbz6wsmR/rm8OBAZJuUkl9wlPzAOGA8YMnf6Q\n",
       "uUifMRNgv8xaR+x2gb/BCULa7qB0L2A6xl6OlK+JatXZFuXmKAkHPg9JEh9VgBxx594RvfkNNtO3\n",
       "F0DHRmJf2x26Vft7J0hn2UUyBmT4Y+iQdU8ROXxoSvT/OjLNCCP7zAymCnWU0izKRZBpKfUzwLVG\n",
       "ZGBc3VgK/K7jgfUGZKKxtz016B+to/lF6/gIbrMWaDMyr1BFcZ6mLH4gGsvSIwajHjrd45BQ7+In\n",
       "HZlo7908G3SDGizNIQ/th4cHCgzVvCtLAfjIEQL9bNhhBl39LZVB6uwV5u73CfGEv+34+hvLUCjL\n",
       "4KEdA2Z0Q+HhgtkkHDkmMeCyRwAAATMBnmF0Qr8AP38bxORmCg/BopBjrIRSCAD+xonvslkqkTP4\n",
       "6PV4yIT2hdlRaH5qEV3cmxepG+KT3h1w+dojV2yrwbt3mQdt0WLs9WQsbZBCOBsqIrkVVm9cmtFS\n",
       "N6T7+mgnJOHIIebptdAvckrZfxDY4lBnh960hsZqGSopplNPpBXM60W9xmksDIjhJDFunc1ca90J\n",
       "IwEl6SC0Fh6PuJvDMbha0XIohMHEbtfkO4BNWafFnktyeylulfhv1ZJA/qNOqVa2T25St7PG+WrS\n",
       "TvtuMciHcr5ec7cX6Ow4cHDVWhy1zOpIN84HEOoGYhtgc5tvGuqTYb2BLowd8w5zVyhnBh1rVHOL\n",
       "P9z3zMzYhcXO/0TUY8Y3cwuR50Wu5SXS9y9PODR2cDd9rhaxZfShcHtlCC7gAAACJgGeY2pCvwAi\n",
       "uxJ0JtkDgtm3BMU2DABbT2d130yG5Wqy9MRogxsXrRspNJbS/3En+9lWF7p9vIJ9mKFMmqLZtrdf\n",
       "X3JZMpQ4jdKSQLU5cUNItlBZgGTRLqR6pJlctmNjx7olg0ZSz5iFvBZJGQ4c/3i/zkUvweDhZ2D+\n",
       "aVIxj2FgdRmfjiJ7RC0Y65rVbc+Pbvc+UFtjEZR+i91fPuuJ6yHoWX23A+EhZ62VOgnFyOEq7J2n\n",
       "dHrXup6mAkQGhW0WLBYHTMHFN/wNQSmz4rx0RJLzgR7gU7e62ER9tD5YWR8Znzh8cTszkvPYOMYj\n",
       "UX6dI1y3tEhaYgLEOMGO9gYr0VmdsuVwACbp7vsrDIXqNwNOLYxVyJNBI5h7IQml5prCv4p7ryrQ\n",
       "3eJWcFl6hrMgGssq/8jSi4HClWBxXQuJp37v0tKENB9ABd2eGOtCshj8kzrIFSwrMe8fOOwx7kmV\n",
       "xSgji+HjsBILO1Buc4bP4U3g5q4ecT7oGxyiwRcoBNybr1slqLdmHIksZelIoN9MiOVlQx7R1ZBU\n",
       "WGZ29O13eDfmDsJBqZNNFLhrDb6g9afNJbk4KOoWDKXOmDCzAn8yhMOWAlWBeRqYbx/xyz0gziqv\n",
       "pRvoI52tMSEnF4DcIEAfgrjQPUlHfDKdct7XbOEQcY6z9C07s1N6d4SVSGbLfvlF7ku/RTtluo3y\n",
       "IlwLSsXJTbTmh+jlWXuiR8nQjxPTLu1WZFrSuhUAAAIHQZpoSahBaJlMCHf//qmWACc/DSHR0Gv+\n",
       "YM9nzBlD0yTiZeFfvtRwd1ORlVHYFarAKE1mNk7gADPCXEa8j+SR77JEZdD+b/+lSODVvnQhYaun\n",
       "5VZt5bxhcdpz7ONABdKL1/GxuBMOSIZrrKs8Kim3epNqJs3Z6g31FqQUIvNMCUGh6DszWQ2Fr3Tv\n",
       "kfiGPvFmB8G1kSrmt+3V6yahZs+Lr6sToaQijJDARl2O/1LFNqytoWeDARd1/04E6yLYmRis7MUT\n",
       "u8Z6DmCcPR42PzxT9GW6UkRNOT3YRx+7tN2+62LcdQjOn0BSOllXI/56mLU0GLvEMSwIj3UhVegV\n",
       "1ZbEhWwxDpy1JusL1j2uitwtpAifukGHLWSRRYLIpMwkhWj0Ko1a46MZPXOlZOwjZTTs444fEukq\n",
       "mfWWPjzRMqiUeM9pjysxrQrB3n36htHPQQqPHOBuNfGg/zR/8dWRdcMmv2EUkXdE27bnnDuXJd5/\n",
       "ZeyCP4APAEqUEeZji4blW/DMSAIhoGgOyt3KZXAf9zYRpN8ehehynJglnRCFqpY49qakqwIdiuyb\n",
       "vXp+Mt5EchciKebbQApL3DYGKOr6Rts7l41LTGwb2I2Y0iX6T8Urtmd93tc6Em09qRyJO4Os2vuf\n",
       "/LPiDWt+GVoqF0aQiTlyuoWTA378WLXuUeK05vpcBt+LHaSZ7+6FAAABjkGehkURLC//AC/R4WZW\n",
       "wPDST4BtkusvACGLqxEAIKINYUx3o3Yv3DB4zV0UhSnka8c/ZxwiYuOx2u+6FnVtA3kZhp0tpoeK\n",
       "S7zhF4aIBGHGp2Tx7dnORfJOES/PtTD8dAhqfWUV4ZHv7ImGfv1WhHQ9mvsqjZAWM4WvG/yb2dtb\n",
       "i5hq6bcap/izgGp0ePdytm9B9uga0x2CWzmRVmogDAOgLp25Il9C/4at3XG+rmgabWBQ5hUOtP1H\n",
       "Tj6AQw6vcftWapRlvZpe6J63Na/LGtavUTrXWS5Nu6/+D+nYmoM5EMYA+xVHRQpoIMtSbTFw88gO\n",
       "VXN4OZCTOivvvO6knauz9xMFKgjj1zyUUHWqYB3U9Hsp7k2HN9leYaasJkLOYTnImeKsUA8BSoGB\n",
       "jcCWNaf5uhavdzaYBPnFeUVX1ngQV2mSOsbuPZJOz6RC9C8XGLMNQDb/UhXxBj+FZVz9a69o+sfM\n",
       "gxArnjJTM454G8L1w+CBvjLmr+GJlnZO1XzTcjG3bWj3x6TwIM3pGOHxAAABLgGepXRCvwA/kN1B\n",
       "B/mT3Jk8q70UBXVSQfBphQUgUP0vVAnIuEJHFr2kdHpTPetoAL7eqxgRQnovFEE2C70xPUvzHA+A\n",
       "Op91CAptDVC4Fzl5UpfZ1yrh9LVIne3bTWrgobDTgDaHnSEI8+Qk+xJ5qJ+AuT+HbIpX2BLBA7FM\n",
       "ZZ2r5rvuIBaR/0DE1QEAeBuMLGeYDojrm7ttPZY76s1tE6ZBUSUZ7uGoHX+zk8ezs/tIg1CHBbJF\n",
       "GOE3MuoElRmBmbOxkDoJMka5g/+92UCjo/MovpfzZ6shMuydeuaFr0cTdsmktBkozd8ssEdd04Sj\n",
       "dKml84ooJjMjqc06/j7vRQ6hUZNUlAwrzik9Lbtc2uabq4q2C+1J3aZDiYI+Xl2RBVR3QI8m7Il8\n",
       "gvjDAcTZAAACSwGep2pCvwA/gDv5g2dk5v0EZw56gqVDxYz0av6mASsuW0uAFIDhqQWO/U5OrvoM\n",
       "9P8pv//8Hd4GeIYP2YSzrm5cGMYmUFSx+vFzD0KFLs7tYI23Z87j0BBtCOnpT74dRZ/F25neRdWt\n",
       "KBIEfsU05PQfhU+ncPAOx22HYg5RIYkLRDjn594JcfUzBGqwqLcAURMDPpsVhIWdPhZB89NMgMyP\n",
       "+dFRUPSJ3KiNNHT+DrdnVUBe5Ir47dg/v+k6fN2WveHN7xvTzpnCkoaHuhvMN5g+jgk+yFmrunPM\n",
       "dYD9nhv03X0UcB8Jtw8+JKWh5/Zf7ojOY5VVaszEGoD9IMQWk7UmFN/ger6vSqZAReB3Jom2Qseu\n",
       "WP65c1Qvt1LvU4ky4a69RYEb4QqISo2gEJD5TTI8BjyU9Qlpw6pS4R9vdXRq6tr6hRs8ZJDltc1o\n",
       "WSlqY/Fh3DV9uprvIdzouBRMUT/8Djpz/HOv04khw5ypw6Q2iz+cqqq4c0fHOywkRsf0D2MW/dJ7\n",
       "tSwKaIJGZ1cI+x2/2Q9MeyFqkGPKfllBl/8UJ1+fhwQSpE9oy5bThkUR31FkfdG9KtbqLBIR+8HV\n",
       "YZ0azIoM9VBCwJaWLvbzYRvd1ifYnn29z90aD4iXdS6c2Va76NIp//KlKiocpy8ucBVHHkoqWCpn\n",
       "BFx4zhlMsPY5lqJpZbpiohIXpNyukzzub+ctw6dgV+Ru0nRM93wZP5ZDG3STZ8nhj7GCdw0nyFKT\n",
       "a5pqj1KT/jWcHERk/OfWdtU+MKAAL+5Q6PpgAAAB10Gaq0moQWyZTAh3//6plgAVL45SM7+il+nD\n",
       "vmM7/z41//jz3ptd28WZl/gDDuRLHg+EXCEQAcywBAqFDMwLy6+Oj4VF4PAFWdHjyYz/2bsT5/p+\n",
       "qCnWvZ8VnNNpXg9vXtj0fNip9UnFsm7jNkgudEBlYWS8Q8gj43Kw1AS58KedXG/Cq4JnBFiEo5tg\n",
       "ZBsK4xeaq3tdWIOT2xH2nV/4m4VUFmOd3Iu7jJa19BoJ0KUJ7tR02zAoUC2xO/gyWxyeD44zTfdc\n",
       "3d2/aR2C9Ho0U3pDW62heOhUcALJhODbHsC8VtJwBXOgASCDdZKq2qp4FbsjbT5hSR8IS08PQrfj\n",
       "2Vvi/BKn8DJad9dnOCZtSwPSc8irEKe2jwT1KSmkoFh3odtyCGQlUzL1yriLdZ6H+y7mmNoSTggn\n",
       "09/IntREdWSm5N0JV7gf/AEwFCAE/J39akI3ylr5KKee9YoWp7DlgMXzNWoex5hKfRNXhMc4p+Zj\n",
       "vK8lTtmo6LD01ZdK6jnHNT4Tj18J3sxsdR+8MQMq3lZ4R2sZw7cyfR2rQWwbcN9tXvlqqgyrfnRU\n",
       "0iVONkgprOlA1vSuKFAbU0MisgzH8SYrXRq/2lgAZYeib1rm1tqj1Mg0JTeBMQAAAXJBnslFFSwr\n",
       "/wA+MoDx6W7/mKOcP41SbrAByXgOMiaAf//wd3np5AyaorgZM7G4NHneZfZYkTIg8yH5Nv2qONEc\n",
       "he6DC4oY4DLXNu5IKXJawTReuYkkBUMiYzQdP5DHimczFNwthckp/o1U3SdfE6CTlfQ7CnHFV8nc\n",
       "jdaEHH4+WulhnsofqekLYu+zRDG3HpcPhwEbfv9ddFKWCeWRTcHy1oNm4O1mI7/4aDx+ACSJBQDk\n",
       "6OuFnQjLHJcO7ffmJQ2QvhUHoKA3fAGn0qnwMLxh+ieb6jjgAMMv/bioF8nfE7x5kNO4f+Azh+OF\n",
       "RFxyGrlke647OsZCQmuaS9CFCObj68KnhSyTr7MaDYLorEZT/Ww+WiFsRS4s9IANovAkG+ZuLdSS\n",
       "MZvTnKmEyBd9AoPwkm0OAMtKfD9ksUw+c+tBUpEuVodth7255srY9CrArUyCrqCPvkjE+UOq4aaC\n",
       "+wWCyXkEDnQVZWdmKOybkVw3hj6BAAAB+wGe6mpCvwA+IHRW1l05+kLv/IL/HMvOZDuwRYArfnR2\n",
       "M9qPJysYo2ViHtwsHERWa/+hbEAkTRu5tvSwIKyR3rO7d6Bu7IV/FTufkWZkS9qqTbZWhrJka06c\n",
       "o6XauDlzVL/yT6ggBjJ3m+GMb1s4RmVIiTFD+AS6hz09y4VYZxjentxw3JEBi+SLoChhnB4eZpHP\n",
       "4MqttqvFYjNH931F3BqfhzWLVek0gfbzKujCAsd9Vwe0SAdOkanQtAfcevIJ7HDlLgCJAO1W1qLE\n",
       "Xz0lYSt+PhOVjFz1OfpLTdYxXL7PP+4j6MY5nUdjVxzi2NlerYpk2EKnLzLSomRzaiva69ILjzQX\n",
       "pla+rwas/CDjmKptC2iF0695OqXwmzMUIANO10GxdoJv42Tmz2LMnC5IiS2VRiM8YbSQ2igtFOMA\n",
       "SqZ99RiVSRVjakQgzk8WQje+wqj13v+RubFFGYdBmIea57HdcGvYX2N2TIaqwkScBjHirqCbIg7q\n",
       "ZyBsGgvCBTrDEE1+OUVPuKIZeUtzqqz7LbHzzmIpXJhrCukBm4crFJp+DeFc/AxZJbmB7Zkkf9Ct\n",
       "S3Ea2y4p6EjK6IQIcukU+0pwCYULpNusttWwv/w4hSBuHHzI3rhRdrgoC1CifUgAGXViNpDiOC2j\n",
       "da/H0YPiWH8iM9kTVBqCHzlJmAAAAgNBmu9JqEFsmUwId//+qZYAFU+Acafg513GNbteQ6dNIcDo\n",
       "7+FtV7wAaDjoROTUmV/vu0zande2frhjI4UOoQOYgLpJl4pzzBtdI9vEUQ/l9ylkXnkpFrlilsno\n",
       "ZttuJDA/+5kp+/r4gNErs5e9yob+QB+QpZtaTWjdp1xYDP//kkwbmxtiaqB02XhH0yKOVAIQxOtQ\n",
       "DYChlzGnUnQEhk5zKIGKzFz4USQe7gfSjBSBgtcIO7EH0gYble89QO5IWNgImTXy6r5Dje1HvIlP\n",
       "JXQbf/JmrHngLja0jWdt+mMvlIpUWBerOHFt6ZBCCZreseYhRR94U2kfJ8oSyY6yi8+x0EU/crVG\n",
       "/js2FrgaSeP6EUdroAGPExnUXzXzVLgs6q+bVhA9Up1bbF9KBDuZGnzVi0qDQZRTOAZ5lSxKi7S2\n",
       "ULkMQW87MKNZ3JySZsTe9PNCgDt/BUEu8kcni8kJRMv5mlDkX1WORp4ujicqGTRNU0MsYYOZwIbC\n",
       "hTibwHczUVv/M9Fz+MpDdE346yUwaYSnKKPHUlzOV5sLWzOVbSSDLu65FIYmHdbz3gVG/vEO8GA0\n",
       "9Nqn7HaVam6VwVyHPSNp2eC4hHuZNv8eawHA3OfbGniAcN8Ey8LmYAgL6q1sIpljnKGGJPzhwDoJ\n",
       "Map4GgNQkTPGuj7w0LwF4Hw7xOgVacwPUAAAAdtBnw1FFSwv/wAZIOUxbaFtb5SwzqpsfdiIed1J\n",
       "noBtAfcm+hwfFe+pQlvYjxDqG3BvZOB+ubTZrh9XbHnsxRA3Xepf7RxwXsz2bZQpd/9covNXZTSJ\n",
       "QXOaHngA5aX/g63l0fEXDYM7irADagV7mz9TQxC7hUDDtoe+7GbdfVzQkiJodsk7UPaos2LxB6MQ\n",
       "0pQ7vR+5bjg+11YQjbZSXZ3AcoWD6Gfu7HtJQEK5f6rxpo9JTpT+fqFXdLZH2SQ8LE7tbHAjSPuo\n",
       "XnNlRgq0LT99NE1nTfsD9wd89bVLldjvPg9JIepA9AyUeEw8MDoB3uxR1Rg6XuLmYvjfJpfhq3rZ\n",
       "4dmV23qDJzd7esvnWJ3gb7M3pnhD+eB/y0fKC3CUAUYi51edpVY+7ec5Z9/1WqaglJgItDGKIIJc\n",
       "hYScOXyovRpM1CtoHTYbJmDiaO4fb32XRjBRBdUWWXmsB7E0CIrVw10I2TLz5gCx5c/zdoHbjZj1\n",
       "UM7cbsd/I9XYaKHBRRI74LtKr0H1kpwx2kU+smCP12ES/guPxqvkzyVDJx5qRa5ts6inL3UqCC5a\n",
       "C1NekewjHwYViPmNCQzS3V4FTzCypLSKgFbEWgBVb9WC834LekrJFu/JtDs2J8jhAAAB7gGfLHRC\n",
       "vwAiu3V5nn/liVggJACD9UdhpXY82bBrbXBrltzA3ZtL/cNZ2JkipLD3Cl8DfL14ObFyCdXnZojL\n",
       "fB66cWv+pQ+dd4PkYsvoSqqVawm1UHvj3/4vqaj20kaA9JRlt/vSXSk3Hdb/FMnuF1QkcYAoLFK+\n",
       "nRENQz4m8pttTmUSu7Z2/1n4itPPQvDXzP9s6+bGlawsjFiFL+njp6j0LYz9HHDm1rK2sojSaaE7\n",
       "9+omSJxcyxdWHnZM/XveNIjaV0jxNbn1hxbB6SoKHXxW9p46U8p8cvAMYbHBG5yyNZw97iM+GU2L\n",
       "LPiCWiPIp2KPSevMiVQP99hoGYH7ERv5fP7g3Cow+y2WEzZr5IxlpgQB8rwq+ebO7Ho/LcRv3et1\n",
       "cptPC89PZshe6TuTOT4bxD+1ggYXhHZQ2uFfKma4eCFm0UbGcxaquXkwqsWi1VuRbh5TeXWXF/yL\n",
       "QU9GzXPfDYb96IgEL0eaJ/5rKLZbbm3XLoSinJYuwT/wxECQ1z5goN1U1p6NZztR2iN12X8YASxM\n",
       "WXkoZgD24GEH2x/OxqVNwGprqoZioP1VIfR6e1H8Qw/mkggcGF/OI/gNFTOj9e1PaaHXHfbpEgYc\n",
       "4Cssle56MZyvmjxR6tlAFxk6i3pM1JQgaQhVNud+sKOFAAACIQGfLmpCvwAfw0vwJoANjAJWXK7H\n",
       "mzYNba4NctuYG7NpfhAJbTMKFZYkWrvgb5MxBzYuQTq87NEZb4PXTi1/1KHzrvhez5kzbOHl+GhY\n",
       "hwSUXq8xl81YTapyRXNps1tVSGeoiaFEjt6L9hm6W5a17UcmhZOeRfgjgNE+4Lg2PMPCZMEo5n9a\n",
       "sm8iXnXMbwgSR4s8w+lao/hWChUoxlfYedM28sE4IeyxCOnyaoxl/NP+AeXgCrP6eXshwgwnPpxg\n",
       "swwSLWWq49mLvkv1v/ak+ulj16yHyULorDdvC82ys4b0nWoeDOgBk0X5k5YHQEue9jeyHlbbvU5j\n",
       "aDxvY/jqTDL1+VBlw5NTJ3r6I8H6+6nuWUgujnL1i/87ubzcSx0HhIMhNVhhdcexNBXLRlSiPkhC\n",
       "GASThF06MQG8svut4hE8p3SgntqI+b6+4scyGStXhe53v2pz+DuoXfAImWWweYRElfWAjaUMLmDc\n",
       "DfSeqzmdkRThfrRki6Mhaxo+76ZiEaA7PaoflzMw8bBrtZL2skVoOvtGkJEG9IEgU0ycoRZedUOK\n",
       "iWDlRJPBySHKPhddvYZPhN2vjJGbR9xJqfByvcqpLV6GYARyWkFoMaj0mAZFQqR3u8/mcMe0fdUb\n",
       "YJot3RqZNvIT5kmXbEaToJnuU2j6RlTl+ufMb6vw/MSIGsFaCWPoehUw/3NXZJ3FKi7XUjFg0PRW\n",
       "bDfkS1jty0HPHnmBAAAB7EGbM0moQWyZTAhv//6nhABNv7SwDC+1JppZt2WHt9zSzUV4aa3N34+U\n",
       "tfeafMHcaQ2jNmU9wPCNBKqDv14IP9FKrMfm8xgCWbOjnbA641GWXjlXuT9+MDlb7XnRm3I1v8TL\n",
       "V2uKF8J4qQztovIqS+hxos/YPX7yMUlSpS2RXJdenzXseDNc1BehVZEWgM7eXghLnp1bTCxj0A7U\n",
       "Fl7UFjjsBSnH/XuqxOLCn+eDQaPjNIjIbl6Ghrl9adQ8AVPbzqcY4WYyyFgQeTJos7mnoNVAXLTo\n",
       "cyR4CuXeILpnD5eVxkaGsvxetvidz3XxSP11Af2+WXldhhVt6fibnhx8ujiFnlTrzhMYHiDUZygb\n",
       "KJLKtkrDoM6n0UxvRsRY1rVTcRCLI9dU3LwdggjAVTW7cXGryNVXg2gAkOqPQ4nRsSXGn6aJh/ds\n",
       "cxybNcW+R24npb6KZXuIrdnI/9K7o7DwpW0ythDIPRfqGC9vevCvcaIQFztjj6Wj+dab9uJ34akW\n",
       "3L9u1HyZfZS4y2P6STWc713+5V+L9Z59CdNP4vLXv9un9ScDXpPDmI8xNZl8LGNns31kZ0FcZFBE\n",
       "8eV0H7z8DsxkiiGdiYIl5f80bSzX4xIWT4qXU+GQHj4MEsX90NhvA1Lhyj9xyPfUxoPTLgAAASRB\n",
       "n1FFFSwv/wAupGlJWiX1jcfSeKtnbCmrjYd+GEVgvXz5fPXbShA8whACAt4j1VnJXy9MBO2G9M3Z\n",
       "UN6CV07zCnGwB2Zf2UmP40Y0vbzaA/QKyYzYlB34AvTsOfckNXOYwo4X/sOTEaPyk3rXDU3xXXZf\n",
       "ispvrWJl/bfV+J75RFUjwjpn2QqqMU+jC4XDJ0Cp0RGTt2V4uFDrVvo9oI9wWIfjvz1m8ReWBaxc\n",
       "HGy+NT/vTS4nTiSPZKkPHf+BGyjaaHBBjrxFf2mLBNYGV62xJSjeUe7+/2ZQATNMgxHcWB/+1QN7\n",
       "FsiGR+hm1Ey/Y4nrSzlEVCd6MCsPku3H/thipwgluDFGA/+O3qFHwhm/ELvIIRTN1QhpF0KsDUvY\n",
       "qQK/tq4iAAACmwGfcHRCvwAinzfRaopBXLTEZpWgBMuqOw0tpzLAVpQ0aT4AWBwwwL3uM9mUk6Ws\n",
       "H8Pr3IV6Y0apT7zER1DtsHQWfEvzJpQQXvhpWa950Nm5hGXk2pwVgOxep957Hr/u7yO76yiXxPCj\n",
       "Id4sAx6iE5V0L7DpChIk6w7vPFE475v3QE6dBEN8fouarb6SOHQDXdGtbKFrepO/P6VIooXnCOlL\n",
       "jXATTRrw1VeGgYC41p7hHjEg5+YkYfHWkZaYBvkH6654HgScVtujDy99Z8jnnoMVZp5gyJODY7qI\n",
       "FC0ghpK7Y63PlChWClARP2dgIf3eDFd6On/ms7VHUIV49qCTWJ3Tgz0VohiWZi8Np6Gq+7e51Hn5\n",
       "OnxqjOxNxXQDWRmTtsCZDt3Psbju91TFnSHMy2DO5SStAsAIvvQmoO0urgtNHllPlXTTxCaCoeLh\n",
       "DHtW+jrWR8GZr06sVRFV6+tRdAWB3wxjlwneZGF08eei0aNGJ1xfG8W1lK6GSiUdwT6Fjff0tpjG\n",
       "J5JFOnc0u2lGawcNrKGGY9AJGeYRCglayvWrYtEsmF/k67yDkLGm8o0KmAozXPnWB3/g7FC29TRa\n",
       "SFr7zlZ8svQSuQm38bcsfGDaHlY6uRyNAjJvVDjJv4L3W6iPr1ZzB2N2h2nXTPhFpHZfQJaVTwsK\n",
       "8z6y9ZvoEhMSHs+h6gKw4gmiprcnwq14CaSimmW+Pvm/wUHXa/iAf83DBHNsfadBsyVOZzJJsIeZ\n",
       "W1owx5i/f1EfeDkRKee+IZ0JawrM6qiEk2U0P9TFo4TiQ/m08PeWkonLvVfabRHm9BcRddUZsZnG\n",
       "g3AYOFZyfRbDIr2ukgIyEpgK5OAoqeY5RoEFItqFW4DZXLfSogx6rfHE3B8P6YzW7M0AAAGhAZ9y\n",
       "akK/AD5C/FdIprloc70Ka8ubhHbzCGvUFu7CsNuN3vESsh870FRd1y0AOPaKpJxKe0TquILdTUX6\n",
       "NbL7J3ig+6mi6V4EFNOr/2zUP7kTnU0ar4Jk7sjV7JMNFMf31/3dfiHabTf7JNITjpV1ie+CofSo\n",
       "K5+//dkPO/ER4hDROq3NMsCIJ/mTsksDAWv5RnaljmJO8AgiTVV2BDRIvJxKiulBClg9DNuJEV60\n",
       "QQe2Z2PcGzJ2UTmBQw2nAZhodE8MsPmfcBYxMcDskq+1oK4VXRg2im+wzSPv8ZV+aBrg58X3CH7m\n",
       "4eiF3bD3l5O2W9DYARyYZZWYdXVJ+DNQLt/2sNKbZ5Sh/C42AVi5A6FCT/8NH72lze2IwFTreAVg\n",
       "bTK/IcX6ESyvT95XnJVg4oIivbdBt5/zK46sRr1gbGZqFlvG9XPVdQPQs9ZljQam2HQPBOwvhkem\n",
       "Ri7UpF/C7i3f4J367HiO1RCV3FgCn5fPGQ0wSEIOyr12SfVwHtiaVuV9RP6PDdw64BqGLMOHvVXt\n",
       "26O2gwfPlnOWWtwAPDofAAACSEGbdUmoQWyZTBRMO//+qZYAJz8NIdH3WkFdnLcFrsCU2tm3MnCG\n",
       "FmjQxLjgQCUdexQiil24pDFf+qvbcQxUn7n3ge5+PL+TxCt7YknKY9H36FlFdcHFUo9jkgcKAIi8\n",
       "ejFRe9Kx1lwOhqyCIYlchVwrnyt67IdsFp74rJ+WR9TAAlzvJigb3tsTZxYHZCXA2tWENka+c4mr\n",
       "eC6lvwAmR8lHIaPqxR6y/ONabDv+1V7TD8tpY3sDe9g4Vj24cIEl9Beiy+24wUf2eDL6XHIVPuOL\n",
       "5pITyKA33ZyxH8NQxuDTGVsPoESmuT9xfB+bA6jXDavr+DNrHBW61Mr/jNFuWCGkwmRVlkfFe3Uq\n",
       "iOF1V8FCGO0TCkGAaQJO8V3zfPwtg+c9oJqSM8QlZnxG+PhicJzFgZ/fmop2lZcybFamLY2BMCeI\n",
       "4AjfyFtewRCzMuqSM+UdJs10aP3OVvvsOdtZGKf6LzVw0X+ZuCojrnuop7Io6Vf1gpZOd6ZgtbjA\n",
       "RKh3gLnt/kNDI1NMKHXFxn7skRkuX6Hl7R6yXEKtLSVmRikJsfE8VgOoYb19c653HwraCbRBwJRm\n",
       "3klN9YgHxrWRwGBEJeIxVYy5x+tUXKPc/lsb3fk/E07K9UJ7l/BnPIbe//MSJluqQa6ajbJAn8Xx\n",
       "+VCP66umIde+8ZgSbstacsGEtKq8VEg3bu4QbmfVhBgsOW/KqQZydZpsEPQZ+98KioZbqvKABZ1S\n",
       "e2dD5FhO5hvUIk/0WGxcW/nQApE5eCoTLuuGwlVD/60WAAABXAGflGpCvwA+QvxXSKa5aC1vLV7r\n",
       "bnWyfrYKNBiQi70XCp5yczBedKSjNudv+GT/7YyhUfnC/vNuigVsClGsKa4XTfyAst+vOYETjsZP\n",
       "xofH0QOwKUW64BXbRLw1koou9ThiZbr2BXgCvfKxepk2OLxM+SqKZjkLC5qHxawzjexQm5wy0vY9\n",
       "YyIzaeqrZvymP61jPb74ZdUfC2/Y5LtCTv9tg0c9ScA4UkcwzfYlsR6jde8vD34pN8Y3sHJS6q6o\n",
       "SCvKbyEHBp9lDINsrk13JHQGBo89uvicXKhJxCsWVgoyGbS8sWgIh73cdksWYuAAGOVED0J8fsxe\n",
       "tg3DiAscrGlTq/YQ99qou2u3foTznNSmcW6icS9MWIPl9l9G4paEClWR19Zgrn08rWbz176R94Gk\n",
       "7Hwqfy/I8il8iNkU/RSwwHE0u4aZRG2xaPsgnqzrdOG6gFaiaOk44B/1QQAAAuFBm5hJ4QpSZTAh\n",
       "3/6plgAV34B2Oll/lgBQv9AAVBSf4w4wzfcC7sngmZ9lTgCCR+Lh3jgD8/v/8PIWSfgH2FxvvM/3\n",
       "MsHwrzInz79pVA9u7H3XTY152QM8ERoyCPExlc+WRnCFaD9cnO4dRkPUqgUIaGc7h6xQmwWd7FtA\n",
       "P719kx9rEwrFND4uKm+CK0ObzJOd7Ikd128EDHaUODHXd28KK2tgTOahcA+kUIw8Qj0bLpUMcIqC\n",
       "2vPGPn46TQsJ9olFJQBaHh3CROr3SIGoz1+W4CoL4qko8I8v5Wm/oxgQ700lWDmn3OXfh9TNQqVl\n",
       "anqwSZpFhQjBbEUVkNNEkIpVFLUJO0MJ9MZ4byXj+3YqNtNYZbd+ZdUAuIALpLP+SNJDVKZWxEG3\n",
       "7WV0ULb+g9Wo62GgqpIN4TMHlofZmaNtG593ZKaBNkEnbtl53n2uHtMGECIuNKAYEtSmVB8Y5bzq\n",
       "HJx096kXEmL5MIXQmv5J2x85xovZ/C8khWGodlJCt/lQ9A6+mx53yKqMeTIIY11wop7ILeWGprBy\n",
       "CwtmBH3aDjSQr08PnOaZY4eKr62o28O6NIQX2FyOnE3vxD5G2h87WYkIiUXUVhniaShaFhBTdE+I\n",
       "t7npuLTuEU33tDNXcwSgdaz2ECr+znlP4wx5vXbBiuJ6oon1OfqS8NduTkkpWRdxexm/0lk6PcK9\n",
       "sgGWuA6XwIQTOFytmCSxdofJCCgUYQS69rqJZ2qrMkFrkb2nhNlwN8J5xROdEzZrWnuxLdHRb0WJ\n",
       "mdtpf6FANN1ZR81vO1v/XIuTfqaUOhHnTxcm9LebEIz2snw20R9BAEHAPjxTpVI4MDwEMuRJSzpu\n",
       "o7JCIFC4mCsH3BNeoE4q+KTzhkx5MZu8YvMlHE7eI9g4yVpg7PVdTCERUzKam9k9gFJwMFIgFldZ\n",
       "ZgABykXTj++DVL8pP9+mnQiXPQFtI92MsEdfSBr+sS6KqivyiAg4s4Wg0gAAAWxBn7ZFNEwr/wA/\n",
       "pH+upupGDHKcoLSY+iH3A1N37Mub6Yim3QAe2AStF+0MkDtLFXl1iLvc4cdqdnelEKVMYijXmUXu\n",
       "Y+dvQAtHpJltjZdHtYOOu2qCJQ5lMQVk3xv7rBkqhwOB2DA4/qUVZa7BBF5zmChOLZgTngltaQkR\n",
       "54kdXr5TDYXB3cposm3E9oPR8my6aAXIB2g/EIXTiXZWROLDxdk5tCQF+MJXXfcSe83F3PEbnHzB\n",
       "jvyq+GPCyuJEfFgi6CnPHNGhEy5XN0BNzLMKz3aUIjDkLmL7J+2vyeBewpxzLRYMP0gY7KdNkrbS\n",
       "r0AhvBsX83ixLsuRUoykPdcXV/JSq3etEdNiEIF+o21lSqAGIWothGamJ+Je7nag0RYCSsqnvP05\n",
       "Ln0zv9r+bZU3xUwZgxfZw/UqkqMgBJFCkKhe4hp+pu7UauHTj5TFoA/ELByZzRuyR2DnmWD7uxmN\n",
       "4Yk6tsnZ52HGR8PBAAABUAGf12pCvwA/j7vZ7ABO0uDk7GP97h0bh6uUKb+HPZ+YSnFQX5Op2lxv\n",
       "wbEj90CDUhHdLNsgsOlnPdoY9tTG0Ao+Ou4YXCjQ/UYQqcNCviMVvx6GJ9rZkWYfZorjpSJIigzX\n",
       "WRqrh/rHV48fL24n/DYE01vUV7V1VKo0AbkAPExkLQVy8KQMEklds0c7Ih8hHL+cY4TK+I+/i8Jd\n",
       "qiLF/bA97hpaAwN+bMvbS8hxdZadLDIeP9w52ZjnqvCfb4oJ3vbH85K/ryqyF/mzSaGK6WuTU2yY\n",
       "dgD8/69hIU6uY3qXrhxCxZJFjWe6QwQ9F8o2D2ARSNsp2iAUeUXSC51XNNAN8B3sCuKg5DPCmxds\n",
       "M5+E+N6YsI2WIE4N8QvsXVsdFVcVHHyB3IaEot38dpPy4rep4jtiCekQCvuqnf/n3vVLad1+ZXpF\n",
       "jyMxc6oAAHEYQQAAApZBm9xJqEFomUwId//+qZYAKFwt8jUlZ2AC0cxK2pwKFtbk8LiWlnsufnrL\n",
       "nE7/ILQWJsXJRG17dTQnW6XgR6PHQnHZPVDzMNYREz9978HUIe4cc3IN2nq998VGv51ALvDZ+BBA\n",
       "MS0/2v/n5Z+NRJRRkLu8M4sUQuAZM0L5BdO0Qc5Vz8SyKkeBYhOwAPW6EzV4QagrOWg3cZ9CxVMB\n",
       "sOC+4PDjCYZ/kNxL3cJ2L6DuASNO8y27qsnXPUmJjPJgoeaGi1PwID0kw9zooFSZhFelrhWN+AaK\n",
       "8yzZCz6H9A9alKXpBFJLceIVRUd0Yi0AQ/sphpxB9qnStAi3h3gm7kL1qwe1cdUv2d7+H7KZZFk7\n",
       "9VucFraL5PzDVSAU/8GkXWYGn4ObGQ+GRVA0DbWJKEeqWNlJFNUqAqwMKWl1eX6aeMX+z5vEtpdt\n",
       "bKUlZEgC8QuNNvdBmhNavlspQhlTcdUihVmo3miXnyMj9EANRYJ5eDYxRjNCJemvA5uqCnmInBF/\n",
       "Lr6Q43xVGm5zQd1v57CA6mEG0Xo4wppMh4VmUMjQz4H6r3Nlc2M3SVDSN9DYCaUdSktmkAVAwKG1\n",
       "BCl+nfvhFV7UxViL4TNa719ZohnGWG90zns2A0iZtbtnS9oWgyZYfvl014vM8n2NYlM7RJPxwhDl\n",
       "RQ+ZPIouCLTeil5YzjrgpFc3p7rfNT/UXOXHpbGqtnJouxuGyGa4E6MIIog21YHXeJGkg1vrqgGB\n",
       "MLpIivApzQT8EPf1hmFGg9XIfuGEAs8XyQQdgxVwXbE4AE6qzRlzLdG0768Kg2Eiv9z7se6r+ujx\n",
       "yQKKaXTrOQiUOgNqEAD1LiIxtraFX4u7zi67ZFAf/bjEZEmKoIX+de5ONyVFhXg7gAAAAatBn/pF\n",
       "ESwv/wAvvpzVOVtqqY4ygzFvqkhHXAVOozo6AZpZ/IGpHXhHOTbky9/AB2h6RD9P0fQaZKN6bD9A\n",
       "d6CEl54DPOt0teUYBQQ8WUzp9riWl0jmDYf6bLPKd3dJvdl+i+VBy7TGvF7iNceHrwmGUPcxisSd\n",
       "G/+QxvXEqUdNzszHVMjxz12cLeArJYXQreMAsJtvCi+qRBqO66trEELmJ6Dal8e7DmemOpST/gSn\n",
       "ddBckqd9Yr/JPPdvV+DLkcKYwTrIDD7B9y2AQU4TdP+n9GFG24vhqnC2g9ER8LXDTvbvzLknHQ9D\n",
       "llGIldzNr0PWLN8gYFCfo9YObL3bdvxf1nU1k9dCXl6/QpMMYmI8EH+ZQ1rTqBbkH+fUIShqmfwi\n",
       "KBAFRRPlyqh6ECXgt4yisG7tp75M5h13SV/U8ssFVdBRueK40yFVmg/5UajTmi+U7pXdmNL74/vr\n",
       "x6ycwXyvFXyUxN/xzgg8tvih4MAmgnIMOpgZ4aEy5j0LcIWtRexZwngBcC5DPuyU2BqowI2hm7yf\n",
       "yXtVJ49Y+CGk0QFAAgE0yFI+36z26/oRAAABSQGeGXRCvwA/e+rvvE4BeNJMe6eQxJ1R2jWerkrQ\n",
       "bNRT6mQxFi/0xa3LKzPYfmNEJYszaq2toC8z//u8C+FdjKx9ioK6iBZ6l47usG/b839xxejqnPma\n",
       "7XjsYcOaP8zdqy6+lo87JmF5HXqFMEPR78eEFW1oTtOXUaocT2KfVBEf1oOesxHah9iybVphm43u\n",
       "Optg2NS+gsQURyNtqGDsObYO9jNDziZ6uzHMu4oArZ0OaifzrjM2sS1Hie0/Ldc84dOiTa4MXp4r\n",
       "jT5y2OydjB72Bh+2vVgrXzf4QKc0WdoIJ49MTgS6PABaytyQ6XFQ+EPHLohltgbVpQ7dKPUXomXA\n",
       "gRilRlb+m8uavKKzBfy1Zxt4NdIrtLYxk1zbzAwtHwehbTvvRbbk0d/MBcVHsuJ0r1KYj4oktsJV\n",
       "+jBxmysTD8aqG+GFwfCIAAABjAGeG2pCvwA/leLQbfbc/FPBvAA6uu+icTNKRlkgLv7woeKLkiTc\n",
       "IIWmSV+ytIrD5DKreoWiAPYzQDZXE/o4YfbC+Bzsg/Nkjvzb0EU3ZyVsyeEEO17ksZPug9adzc7q\n",
       "h94dtMpcyiuG0Zkk7PqhcmXzNTRe92QEUU9yOkRBjgm4//YjLjmb3wSUsLBHb8F2JQk+nANwvLld\n",
       "EieHozargFqeOPfWDsGctSpRhclIESPtWyFBzK4+hnVNhbjqXdkd8vZWMIep9cTtmDmSrbvC/Za0\n",
       "1aNHfsLLUsX4LU2M01yzpfqsRoQiYnMuSWo/5FmQG2iVK+LM9qU8pLNGQ0CaF8F1XhWX9GyrcDuh\n",
       "IX4gNYPeBz4dy9ncC+zzi5h8W6aY0V/604k3E+GI6ZfbZ1ihflhU6lBXIRrTGl6zzAH44pPamMN/\n",
       "fPwC6Olh8JRvxRpQT2bgjVl76Jtc3vTt3Z7kH5vp6o0f+vJJx+e6mX+I+22lOd/vvpCTi8oQ1+Bu\n",
       "tZfQYOKCmpS5/2STgl+soQAAAipBmh9JqEFsmUwId//+qZYAKF8A2btiK3+CDB6ADY+7/nABj8gG\n",
       "8s5izbc3/hhxtdVNj8u9UyTwXCCZ5QjKCHC7PnaZ0NNC5uPSCmMPQLSwyOj0yAjynLW0E6lIIqdJ\n",
       "TpQdM7sgnTCVtkO4J0zBvGTy4dv/okm5RmGjG/WDDPB5+lVk3ZaBaYvfZyn4TcxA12C3HEh/7HJC\n",
       "d0EYj046mEaxmAXRiXw94YTeURJiMKCmMi/mDfoBQHl4BndgDVq0AuF+G8KqnOe+VWvfXVf+xf8B\n",
       "K2322oqOb2eDdNETbdjNZVnqVLaBuZYHSc3eqPP6FzWZDpo1GHZJh+5Re1rFLaZ5PhSLiRKO2wkT\n",
       "H5yZyTIL+beuDOnd5AiTyVaBlBaoU39tI51Od+Lm8rwCXLlJPplCuGA6WvZQL4WJBnjB/ssGw4s7\n",
       "EEJwocAR5AD+3nl12zI3reYwzqCvMSG86ihlCmqjxkucV9umMrk2Xb1OPH6fFrwQ/H0MRWt87r+3\n",
       "BTpvFFaL5Ip/7C750rBclhwdN4c5jQqK0l0q2i0peGaUMIkBA70KNA/cfPvRX+Nk4nDM/8hXP4Ep\n",
       "rMI1avwvPJdgCBvj25S65nctzdvVEFpIRyd3wqjtf8KTz31R6zl6gUc9N+37iS4rxpVbsOfwGIdU\n",
       "GcRHicFlipHSMxpWPrDM2pbTSqwm+rd89RGsf502XlmUAhsRTihGKK8qGgXHm5Eo6tnkWVe3YJkD\n",
       "njgwnQAAAQxBnj1FFSwr/wA/leLQb9IEC/aSY9k8zshAJ4/FboCZDA+YHnHeCzVaYjRwXYK/kxtF\n",
       "SvbuX+4uK3+qnBcJZgof1BWz3RL3vSK7zzcO5No4oZv1yJMCVfjK2mGfAXaxhQFwG84T3UjEVZt5\n",
       "F5Vt1q+z2H1l1WyjkrjXPHLWy+9VOuzACoG5gooCGs21lWH9ZsonbAxR1iCzIZUDUikTyc+suGS6\n",
       "fs1KqQArOkHS2JQmeRwppTwgNkXmJ17A1cR1WOhf/xvuSA9OvxzzHhBJErJm6z+HB9HK659Hiyyl\n",
       "ZGNZnQnFq4wDU7eaWMkcdKH9rhmQIBniiqJaEFw1T/6zjT0/O/eiLIHZy7Q+9DbgAAABqgGeXmpC\n",
       "vwA/jJKyJ0+IJll5fwObBZmYB2YXXhZNB+ADrP7uD4pjlCiXW5sM0r0oQVnfdDkaHpzroQGCcNJm\n",
       "rrXTBTV8S/d8INvLvqoqUqT7Y3VVXCB2PMTvNsU7zlL3l8v/BtCzqvd7Avlc4j4u4bJJM0i3FpKj\n",
       "sO7vbBXkgQB6SFYWOMpqvhMWzSfYnOAU0pJvkWmd/uTMr5SdHZVtb1fNQSxwms/ClhAe0goUPZqi\n",
       "kkorGmWsVC24ilUy1bBTIviisiJUp19yBHWgugRBY1XNfwbpN5Fp2WOSHc/EN9Dud4emaSUa/uo5\n",
       "X7QlQL64vum8qFo6BTI8cpNv0i5/QiN9CRdYIhWNtZRzkpG9jw0iRLik+OpcNmwoLaaHrXARs5qJ\n",
       "SuU6v7j7PGGLCRiGPFtKvfxyO/1Ljw4PZIPWmq9arDEaJq/C8iOXf/z3T2p/AvO+lTGEz6FThbrm\n",
       "Cg3pGK32pSM2c7Xq7bVmkSxJxvN0JlGpawrez8OxTIy2lW6ecrFuvAQB5bXmd0kZ1A2brN9JIWE9\n",
       "hpn+eBp0s9foHNEX0EgSNcpEMsnMQAAAAgRBmkNJqEFsmUwId//+qZYAFlBm7NX4Lq9cVx1fpNql\n",
       "FzKPaFf2r7fzzEljN/XUneM0isAwACjJGeinjvVDTklmM6TtvGXG4c5n1Z5Ds03/wjpv8rp5M6V2\n",
       "7waH8Y3a7v2zv/0Gz0Nx3HroBfX58k6rGUvF7zyEKlUtZupX5DEKLp1UHAKCqDvnVRyczM3bVvdC\n",
       "fSuLkY3s79jZDQW7s0eveiaXa+p2PFpVSacPjHr0BzQg46+auMuFbtli2yD5bdcLOq+QpRsz3aiX\n",
       "KWLUgYOHbIZ3sUnZWW4zvRO4R4oM5gwefw1QKj3K3JBZpPQlQI9DhraaI/Gqa7nXhvpN6AIQkb4o\n",
       "50O8iArDkdysD4zxD1TTQ2NUgAngXpNDjZG6oFBnLXhHJ+jPr016G1Nc2/+U7UVbvkH62lXv8dVI\n",
       "wcfBtUZvPf514LPhI/C16zmcOf//t7eH4OIO5el8dxaC74TReZEzv2il3h7WkovfVgcbtRFn2FDa\n",
       "loZc4OH7OK/E3jz19/m0Otypet24Y62E3AEnergN/Mjs1BmUCMscEo+RaPO6dxYxcJgc/pltAUur\n",
       "9r2vUYCtsc98kUGXTv9xyCZ6Cq/6HU9RXGxWIvRpqD/nE0QeGi4Wj+4e0dd45w1G+ZlIrJyw9P78\n",
       "r8FNzxIsl9V5EsuCIQ9AS6xtyM5iStF2qQCYD4EAAAHBQZ5hRRUsL/8AL9660LaKr205tW5QvSkw\n",
       "U8mOnjWsovUcTwBT2BztPS/OFXd8Q/ZWd3PaAFriox0qqsUB60uNDSWwMKNFL+R5fqn5epmkzg+n\n",
       "mdToqvZ0cWUG3mXe/6kjniDWNl+utvQG4LjNs6sU+3//ZIXCxzRdn4p2mfUix7NJHfbTE4Tj9+q6\n",
       "cswEq94UGCPkFjsCfG4a803rzEGMGzUvY+dlfbuu5UTSecrSPUXN6NM0eoTym3xR2srXEgob/Q3t\n",
       "xI9jvrBtolo/+xn3Dq8YPsC6xocNbi8FapbfW7nMiJpzEcFoiSIDY27DsittNGrDGSEmgHU7Oqcc\n",
       "0EpyW2Bxj/YURVuzWV0HkBfKbsB8WXHLHA/1gVHd3Nnzz2R22G5CG4x0xnQr7/5roW3dDEipNMns\n",
       "iENYd14LfRZCDNjpMijL0rCePU6dQPtU7NvMCfdL9HpX/5TxuHbc97KBgsIooDA9Yi603/auyne2\n",
       "rVqnXyOGsZbgWOioNBeWPKLppN0i5QZN736+Zp5UogF5wuQQF70fqwQaNvpp7WkJpfr7I5Ua/XPq\n",
       "W0BM6T7jWtX+TzPyl489b0c/LvOYYFfSgXsAAAF+AZ6AdEK/AD+l5WfcFjAQ2EPA3uhUcPYlNNG6\n",
       "RXL2/OGj3hPZpK4RMXZ04XtO6jeBM+6AinvUkflefYG5HL0Z1y7fxLA/+VcrCUR3jCFW2q1Kcf8I\n",
       "HKh1R1EP6Kbojq/Pw5D4roQB6tNZFulPVwE/IW028ui+ISHVKdO3W2ZjOwni+1buoIi+rbx+Hf5L\n",
       "ZpiixSmh8DMYj5neAQcbT3NaKhc93Xs6nKgeb27D4ALKMRCScuJBPgxNygvkPkmm/nTWx14saygP\n",
       "nC2fSRnvJs1rT5FYKtgL+mOVFM7X3833GU8p5uhpIG9AZEngQTzgy4kRhQjU5FY85hAJfPlJGZym\n",
       "mN8Co/JLSO14o6i/SPchw56Ls0Nfq9L8JA59aaF7unoqAEHPusioSceSDiZwXBLLg8Pmi4jQo0US\n",
       "ZZOoHXxaaNJUuT3L8Bmy7EIT/dPn17tKsdKdKLuobXf0Vv+xRnJt7YX0Ee23S3SAfaNaGwj4dNAE\n",
       "Mre9bWiQz9XgWrYOlQAAAcMBnoJqQr8AP4+7weLXgYdz39KkBjHAACGNXaFtI+hFbw9qisKlbNSr\n",
       "tlzce9dWSo5NHDQG4Mqx11bNHChodsO9luFat4lAbEU7EyyOzuUsjZNfowBn+XxCnNxGxQy8hKSj\n",
       "zQS0D2GiJTgl3CYiWb2xGfMPX84uo7st3qOgNjmPRrCsT4McTfP/yEgSHN1PmI8sGm2p0Ep+JCnr\n",
       "Mi3M6PZAR+j9Frgpzglc7eXBMTlo2Nbz+i0o/dpagR6nvjZeGkJoqIEnT1NUd8GFBhrzmE/+DsXi\n",
       "Mg0R49kR44E3e/jQRnpTXEluwUiSqN4mdBwcpn+ltLEvgnJOsu72DCiSy8InF3lfStetHvrBkOgP\n",
       "l1GVa8VEulQ8m2CIZRk4ga+V1qMAAkU/q5QjVIFbD6aNnWzwI52Bt8BHBs3yGVyrjKfZlXyNbbJJ\n",
       "QmpM9bGXfKthQA9650h27VhTgCAgnvkOFKOjpXXJJfFE3PmEcUVQNQB7DG6Ei2K3pHSy5xfB/mjJ\n",
       "ePK5Ltu+2gsKhgVOXYe2qTvZb84xKCZUjGrl4ibioHESViXcvjxMK2WcG/dmYYcez/GNBwAgJFHP\n",
       "R9S3pF/YPsyQ3v3AAAACAkGah0moQWyZTAh3//6plgAWb4Ay9MRyqwApmnzBprlpm1nYkz0LZ4GZ\n",
       "x++LfbIym/2Au4FFjpbIoCMUBKlt0MByttzPv6/Gxst0C68uCpVRnX/x6McLn02wAH3ra9oag8Ze\n",
       "JprKLLpuZ9m7BK8LT56uu/w2ZimIH8FbgYyFQt9L6xKY6JM9OwMUzChGsRKDnZB6YnZNOPcVoTzI\n",
       "VCPUhT9NWDnaquHWXfMCbNHDij/OITsJlE2Za0w9QQ8qTDFHa8NIxV70gmCfHSZOuhH2Zg+rqQYN\n",
       "tDIEbJaYyIN3TqTORCR+vwMXWSgF04W0oylcr6XIIJiCD2em2+7s/VtZba0Aq03nMxwi4tKqdyBc\n",
       "dbdEdUPxeKQcJaMzCE5ZR5ny9/ts/XQ8n4xuhJBLYUzPGyQConBocEVVKpTZKb8HjUMjKB4AT5ka\n",
       "MX18B+aJ9+KIvCkPnuShfcgiYR2ybSzcIZTbgzt9tIMK2sS46yd/GWNUyeScV3sSuhcQGvz+lEFI\n",
       "nN3cLo6Cgr1ypyidRtB2vh7G0Nhc5uWf+1/IgMF1W8VdrIUuKSOOvjHb/x8LEU78cyN8+/z7JSEb\n",
       "eLryanQf/vB5XhifgCn2MA53nYBx4EREne6rMNvnBoqH5K+5KWI36SztQj/yk17q1ZMSCoCgWLIJ\n",
       "yHlaujxfzmjsP1i7aNbZpLcAAAGzQZ6lRRUsL/8AL9HhZlbA+gtfDyv6yjZRi+OkZFCPPdd7LEnD\n",
       "DeQFvWIAp24RUY3/8NOf03+0DuJGlfxDBz5w/MsUMW5wbjjSVfW8iKCSxpwP2zEn1VJ29cFfrT1f\n",
       "PRGIl8Hv74DIRPN3kjn2QylmYpnMwbbYC0gCeZgnliP6kF+GLzpjvxeUM+j88/irBImCD//TH8Gl\n",
       "5TK/ARHV11IcrPEbQM6O+xVPtsJ/2UVHrsipqdjlWF2lBAupi035GHC2h9ceJmcIaRLmMLd2d3b3\n",
       "gBoLGFquvAe1VO5IVdXdJbGgIQfUJKNqIiVzL2loAXfRvjV24v6AVNYtS/Ie7nPOuhTM8wZ6RNCl\n",
       "ZwqbYpnu9O5m5NhXUT8kPlauVGEFhMS5qZLfX/4khxoKeIvUE+RBWKVUrrm5of6IVem0G4HrEMB/\n",
       "6Zd2NKU57Ir3GVlogSNj2jrwW/NBKnJR3d+eA0vGKHw2WlUG6ssTpnyz2njsV0IBCKm65X2XrXMt\n",
       "5Yrmzk7oo3y0ToG4LPwqxXL5B/pztb7mtzcRb4lzdCDQdB+R1QIuhHcBaaBrvJeGbxczJTJQKFs5\n",
       "AAABjwGexHRCvwA/kdQAnqlV9GY5UXguepVGZEKYcFG6iQIXIU4iFx82VcnU5XO4uqCXA+JhLRdZ\n",
       "pFj3mE2oGHukbfgaFKOufdY4uX3gvuVRG0k6rGL+QSpHraqpVQNViIuT14RJTBlrfUSKKDaugrHN\n",
       "DC19J6x92Hl34iEEA2WEWLjGqzugBrCxAxn71ztQYriljq9ITa+KjMflZy5Pjoe37jdPNmv2bZGu\n",
       "QdO0yYJL6h3TxYrEnQOL/1ZBLgt7P39cGnRaKQI9zXDAZIz2+w0AIel+cRPP35FFHRpU+4QgA9pe\n",
       "MIbYbAzmLtTV+l/m+n9Vkmd2LheJKYJQhXE/t8jsFSjTcRaVcDBKVPThqHnXofMZEAXCvdiUDoDM\n",
       "2JJ/QagEwDy4OffaGA374qcyIivNUnsakyHxJJr+ZTak5rv92+LqPS8ZISVAnIoivoNmSvAC3Hsj\n",
       "IUtta4gY+rGk/UXQwN9t63vshb1O4z88tQQfHY0SSrXveXBdX8qDZER5odmnm+F5KY1CPfbNWNgS\n",
       "YxktYQAAAeIBnsZqQr8AP4A7+YNnZOcN28omrl+a0rr9QWy9gIKtqQEqE/1vYoUq+EIF9INl7pks\n",
       "nhaD3E8mh0YceAob0E3sywgpSBpcBdbXANBm2+YRYbvI9N8/r/MChN2eRBt43FuduBM94uJE7TA7\n",
       "6uRIBu0L5navKUUDWNbBqEPghnbaz2g3qnjJ/EQRdl2hxEtq5rQtDSTMTqvajHqiFnYruCtqydv8\n",
       "QJ5JpexRbplw1CoGCk9CPSKjUK/2kATaesNgd/uVerKI6VbRQCzurSbaH37wYMlwjK8G4UcCPOdC\n",
       "sLNQ1MOSwsVwbpsxSOBoHY/I81SmDN5MTI3bcaN6ZgO/rshYiLjxxMuX0OvhFWvR9c/FLXGALX5N\n",
       "jRce47Q5btYqSqAy70TcE+8oq7tBc9B2U/742wptk3cYxvjcsz3GI/GyMd971WKu4F2jfJbIWD4I\n",
       "4t68nWAGbChJIu0jSiNbl0mjHDdmCtuDym0o2BR51vHEbgqdwhX6KugTBPDPyHIR4zeyAArZMbpw\n",
       "06J7HmZhJnBPQxFpnkYfu2D1fdzy+qXBBgAU13cCZ3U3Nt1nXQVXlfHoyxeAbva49d4PuZM0ixHy\n",
       "mzEuQh29c+UEazKRNxQg+RBjATRy2Z+xGFfbylqJZMmQQQAAAeBBmstJqEFsmUwId//+qZYAKFwt\n",
       "8jUlZ2ADKktK4khXNpJsMVeXqf+TspDp1L/yzNmKuV9K/N0wSgBmuPYGmBojiBS9U2AGxJfWkSBC\n",
       "D5UXjhKRFcPhTNz+OlTd513+HRhc34+E6TuIoBfTRp8F+2lXCMV5J5HLnrKWmktGdZ7hoZuqL/fL\n",
       "DQIk1udtAtojtcTCslNwHhXb12Kf5nkI5F/wCyp+DLdL2HjIygt+fIyVSEWEWXJdBeVzZx14yeVs\n",
       "f06tKnmp3UeFpOqWvh0rV/q7yXCocON+2lP/rnWaDTktFRKTPXCvHKeAj83XnGagTlNDe42qLV0U\n",
       "qavqfSQRHaWPzdKTUDPcmd3nGYR6HCFEckpV6fOXKzEZHYW/uwLEgJp1PoVffzpW/n7wYw2qEUf/\n",
       "HABzOLmVatXUZjtVa2h1GJJ+ABl+YijtGcVlPUZsouEaIwTb5bWkLUmCBZKW5E04i5dRGEfZjq7V\n",
       "+2zrDxU8QN/rtZ4JGW1ADfwp4rMDK0vciopNUNtQZK83mII3t6c0QTAVm1jbTzXXMALUA6rV39XA\n",
       "0TP8nfSeCWmMaldFNBu+DOzOEfxINUXHwUv15L3vTB9rGi54v0R7NHkIOGQ8TjMmt//PnRwrdmNe\n",
       "dTzmJmYAAAHmQZ7pRRUsL/8AL8pkXRJL2YY+CkWGreclCvRoY8FEQxLFj8kBzp/9RDVJXXmbSlKG\n",
       "a1b8NrHABDVIv5ENxHcBVYPU7uPl5BCOjKzsQqxd5//eRLbrZcZoEa88zhWC3RAgKaF1NDfiOVVh\n",
       "M9LKJ872Ex/LzhQdlUJBDn9kVQuuZRdM8yGF5yMNZNcQYEiHlB98DJR/is87D9U5JDhMDmKsiQCC\n",
       "g7K6ZIRxBD6XHqyqYzbEnwmSNb3UcfmUpc8D7Qth5NUEakjymvP57hkElj8ql1s54U9CkI+bhwOr\n",
       "tLmuJO4QsWx3V9A7dRK5ofT+JKv2XE1+zsk/LTlhtgpAWxG+04Wc75vrAQItU2RrJizSFPBA/7Dp\n",
       "s0k6VeSlj0HyiP4GsgmN9r326wa8gRL9PLATtdj55wcgWOGg7EbtjhZACksaCmU+tm5IMnxXEzKY\n",
       "nU3z7JnCm8YBWoEUig09XqgpV0MOcvwBE21c1WH+C9cH2Nvcgqv+0E4w8pXe4ZZ9RRIVzlw4CiaA\n",
       "zm5i1+lW6Z2Z87D1zsVhZXUF6JgW7SMDCUt3B+PJYSj6ZMKGNerkPmEJiB7GD8GyJyUDuXHS8DLa\n",
       "7r/ImdmL6ykCCSUGNqBygfNOic3vUkyHc5hi7jjxZk00qiqKYvkIAAAB8gGfCHRCvwA/edKU7t/4\n",
       "4SeGn8S7fDw0fQiNn6AB2hpUOQN4ZJs/X09Ceq35UtWt0UwjPKy1ZvvX3PCbFB7Rw81Gi961sc92\n",
       "gl4EgGvAl5pqzuuMqA5Mad4YkHyf7xbSrdLrzBswngaH9FWHMlu/T66PdE3eEM0t7e+0qXgtb/kB\n",
       "qosijtqTqksd8KwaDqHrwFzsjmVrJEu9fORyie14dYhvZxOzS+DmNm7RhyYCtjZiUGY7HKUrHWLE\n",
       "kIcEdbh6OzVOxSA8nFxPdUYYVRLbxWhelZQUGHH9PTHazD29vrSn6QTYrEIncjKXgOJNyr/g/kcp\n",
       "+CtbbVCD+myvg5il+tlteJRGZZoSNZAltSmUKEjfKZHN0lDBsTKRGaHZaX53K+kixLstqQ5KWY4G\n",
       "mSZTbc0DPWMQWwDUGJWZjgZMi7BjxuB3qF1sWnsXfYlUNxRWdSKkeqQm/z+8FGyN4hnW0Raqw0ws\n",
       "lOiamqdGoHxfTDf0vZiwIaaBPsNxKSEwVoOeZUS83YUaNk4s/6Fr7ckQef+HaEagG1Q4wS49UUmg\n",
       "OEuqsUduA4sEZsb3EUPRQKbsYCQs5pZd/yv4lQoj1FLIZFI4Gj2VPd9psEMmfE9AwrO1XPMUaggD\n",
       "fMnkDzE57D3PM8+XrQKVMEjmLbyQHFrwZWegXQAAAWMBnwpqQr8AP4rH4/CqQ/B4OVwzu09DQngA\n",
       "2Cb40OkfQit4hFRVtTitA+u2XNx4a77EKXzaoem2AXlRRoIoaNxNh3stwrbx3bvhXoeZ23NvQFvw\n",
       "DD4QMO9LHqkRMBSrs+dD9ljXgDnX8M11Uq3dcNcgWfaiXJErrkEgqutIHm8UxUvvmCuqBc1tfYDE\n",
       "BMDH7yIPjv9widauRgSsJaX50sN490X2SO7URF95tQPVC1gCOW5ZwRQjvAgOJeGLoURh9TynMQXy\n",
       "7bEHRJS+EXQSXeL/FS7UxBTRQBf/dbJLb0m3f8DCwOF06uOdkMc7x+5cwrGmxZoi9vMyG3mj1DaD\n",
       "+0hk7WPU1G+jImmLoRW8LxcnB9C2d0b7mBoxe3w7NiadUlHQnvwRyM3VoqssnIrpP/cU/5XDjfy3\n",
       "smKcC9bc1J12LbZhmBFwxsQqShBh8/TLF4Qp9tKR66/IflhaO+yOLUIeNKCAAAAClUGbD0moQWyZ\n",
       "TAh3//6plgAoHIWgAVOHOohV9Ks+eyErZdRA+O9sa2k5BLC1StgzTDcGUjjL3I7QPHCCyymXxX3d\n",
       "sNWZJ++1go9hCfBUAWGc6W/rWXOOdD3Hmxsr57nviHF8kDet/p/I+x5ZHIvRtcKUaY2axScb+WDt\n",
       "XSnX9oy40Xac1i+eLEazNRFvqi1jSa3W/fKgd9vHz0QhaLtkD6g5tbWnSoohBb7Lr0GxDqEPsUnc\n",
       "Q5OSp9ermwe6SmW9ZBSCSXlPnGb8wyYF4eqSNDcKeLZ00Yil6d3hFoMa+07tR6CcpLrsCd+IGIie\n",
       "//A46qPDmyAnGxKkqiJx7Kbi6p3q9/ygik4QavyvoeVxpxPOlSBpXV0hKf5QA+teYw2Uo4/+sX1Y\n",
       "qtCJMS3XJ3SUHq96qbxxnytlh082SdEDCiphUbfj28AHTFw0h2+BPgTZki4AAU/n4IIxefjZ9HVF\n",
       "TYce4JtY4aaZnnf7BqOFhvwY3o7BWI37VoowS1H33FKv+FNiPycm8k1pA0l/eyGo655/Q+TtpILU\n",
       "mbUhag1W7G9Up5dvDUNiFiiJwqT3hB1cWMfmyotbQgXlG7NJbHS/SnCih2A13yliLn6m4U3jxylA\n",
       "9whHatVF6mvHzTwFDKsRRqOHvjzafXy94Q5lU6jEh71s/jbjZ5sJDDqFYJlKPsEF8y57vKpofAWD\n",
       "9e1bGSniIe5lUlFtP9GMgt1Hm4JxDxqWYtUT4ZEBLVB2HiKilia9mJ2VpRBM403o9T3yY8hZUbf8\n",
       "G9kFWqWMggeP5ydQImh0dpk+wN9aLdkehtAt9RNGp4zfjbTvit/ZfqKsmGchVKIRY43VtZvYgaj0\n",
       "uKs0hOwt5FO02eyMucWWRRCa66Q9uBgDT+AAAAH/QZ8tRRUsL/8AL9ET9Ol7TN3Srvrw1aASYc6h\n",
       "nLmqMwOOynuaevRzOaCI9fYvaMikmWmZXtxrlWdW8tsnaVawKHsvumPnv6YfBt5t6N4s+aKcq1d1\n",
       "ILwt6yrClw+ajpaLUe9gJNDu+uRCFf7voYhZBsbqsus07b16hhMZSau6vYI9MyT6GOblSyadOZn8\n",
       "koerhxHd9/9cventXtfe9Z8y2fiznBME+vpY3K8Hzp31/railTdjVoykA6A1iPqF7IBzx3WuowXL\n",
       "vZ8t2/scVGyuq1kaZdfnDuHfQB5gAPmj14cY3hxlMvIMtSnqDbITYNID1TBRLH12yhaRKig4ogrT\n",
       "9tgJuO86nqcViJk98B0ymg8iva/D3yXs2ofyHBYcdq/mDuvY7uVu1cMfMAydynWKaNEUWF7EE1HJ\n",
       "g+XkSApJd1NBQA1e41iFAfYAeKG4K9f/ge5E9r7/ePgFbsmvjNotYJyKB4YWwBWVOWTcIiJC29kO\n",
       "wG4gOwDBn/piULIQF7IidzsWD1ORL9j7pLuH8jEXfLt4XRpzAZR080fS1UVpkOV4O4B+r/glDi+4\n",
       "kqQL/ShR9TVK9om7YZKFrQxZIbHbPpTF2N+EOiXSp/Q+oclQWx3+fczrn+g6D+PjVj/f7z1eFyms\n",
       "agypgpxQ6cS4KeEME8I4efXAusm5rnrAswBT6QAAAjYBn0x0Qr8AP38gTZiLVTQjIVabLI24K0xE\n",
       "GwGADYdBetGHeQ8AV0m0AX7oVvFtIiaKA/E5l/PzA3Gk++Upa3m+6DM963Hz3tEfFn8kC1nj6Rcc\n",
       "pkcGm2DounSYdz0yaAm8MMv9Vg+Gy0VXLgWCuYy9Elk/V85i5zCYFpc+wsqDeOa3QxffTsBn3Dh7\n",
       "Mpiu9+g5Wts8JiG77Vb5NuL5WAQxQmwduWS2Kvd0PgT7B5LWraa1vYmLTbH/+5mqSbVU7pkKnBdF\n",
       "HIW+NkvStDAcJCCQbDpAdqJ/gBv50sXE5BDlzzwCQElDEWz21zRb2ANsNjVbgn+tUv8PztQX2bIQ\n",
       "0YsB4lCTeN/ke0srCJfYAwfGM3l+O9ZKAh13z+zcWa0AU+KC3kWe1C7llTHtGcOLf4GISsuM3eMF\n",
       "nrEwSE6dNATVrRFo8EXjLeoH9DpUqzfchXV2z9AYGzmu2AaX0PPXrCcNRLCVAB1ntIXB71SThm+6\n",
       "VvpOVrCDT89u8883Uco1oJ5OL8OvFeZDEwTqCDfMLJs6lx90aaahcYpl5KPv4dQisvno2g2Vnt03\n",
       "53XFlNHLG5nD3FVmhOK42aVvtXa33q+ypOJUCL9xGIXtcgYmDQ1BzGbxQBv8Z/EmWsx3qtP36+Qv\n",
       "acGos1N/FGHkUDO3DhW3wLjakyNa4W3TiH3qp0tHTJuldT1q11mACzc9TAwEVytL1RdEZWZYadvc\n",
       "HDULBwEQnS4/tIGWBIryIDK1kN053eJF+NzzSwAAAaIBn05qQr8AP3zAX6zucAGfS99LTn0XShuR\n",
       "U/w5059oaVvLUmqVB/VdNRGy+bmKRx7H0ECR53gl3KlztNvG1vBzI6+Puu5QjNP8Vw2wmsggntOf\n",
       "h6ZTHkAWxBq7T0DYoLyb37WzjQGZbvy6jHceNRSALyuAGubBNw24/8LJCyKlIiMTUzdrS7Bd01y5\n",
       "QyXcnFfhTK9OumPreMlrz7WslZ+3dXt/pjoU/dgJ9U3G2L6bUP/nlMZ+MIZeR29xRQXQlwZ3M46d\n",
       "FcWN5TdxmOam1S5dbp6qDM9xVS/wfRtK7t1hyrIjx87MCfdUVS+DnJUlo4JudelVMHj1CZdgVPFw\n",
       "thoVmSVzBV3KqlQ6UKtQ5fyPjKLsS/jyyjemLnh6iScsihsO1U6GjiSpG6QZLFW/dW1yTnACXXsU\n",
       "Fal5/yEyD6xPfg/rmI4QFLDXGOJ5v9tJD03JoIVOsITfrR9KhtMhol0GHqjsrqIEluA6loBwEEMe\n",
       "qNkyjbwnnavGNajJZBAV5lHDCbTyc/Ciz2DEDrM8w/Ex7AUO5ciQ69GKAoFP0oklXkuBAAAB70Gb\n",
       "U0moQWyZTAh3//6plgAoXwDZu2Hd6Lxzs4Xri5/uP8kS4Y6cafmZFW4HZkenHnKZC9r7+cJmALJs\n",
       "b3KYIE7a4P/VA5vuSx6bM2IwM9FP0WX3FicVELyubCfJiE9HDzVpcbFF0yA5r7LD0FEqAg32aSKB\n",
       "XS7A5fYfdHQhqNkrXo/WpqXv4B8b7meMXKL0YW7O+rDLpGPHYNrQY09MF/bHSDh3pdZ1nEiwB1xX\n",
       "1+Z87xZ/fQeuhlITRMADNT5KFAoYw1ms5mkDd1/ayZoTbb+8WNd0luzQOt5RE/ev5uT8Oo0N8tWt\n",
       "M1PNoCaC8a+6FX7zs1YtXYoZyCAPZtcZSg5Q5hOxKf4q3qgiWCBeBGoRyyTr0i9lLvoy587Kz3d0\n",
       "laRMt120FGTGJWWScjHVRULc2q3Z1RcQI/sO0RrlqQUDwXo1QcA5ZS3C3Ex1kTk/x3OdJy/wdNtq\n",
       "+HBskyGx1Hxk3WS0ArmFNiffPtQ4ZuyGqI8vNTJIp8zeBhTHn8wcAcAfElc3Fya4nwB5EluZLId1\n",
       "9YoQMGRYGdLWpbFuvwtquGqJ6t+TEYW2G6c54Em7e9XBstFx0tNlsrrtAbQpkORp15q9EZR06WR3\n",
       "dg/Rz48aP7cmvXL7np3W0l+1e58LVBOqn+7apJeZhE3DlFzoFQAAAbdBn3FFFSwv/wAvwX/qkYC5\n",
       "AuobAKfFSM9wAOIxj+FSNkW15iPpvhFVH4PW+obSP/hSmuDMf+akcai837XglHew2VjlorXcN8ON\n",
       "K5D9tOPSae69mlArqpYlUs/NtJZkyXs5kjzucIJj7PEjCqkOyYHW2RDm8esKvqhrCF+Vrkc615Po\n",
       "t8vWRTI4PAV0EpEIpw9kpg7FJPxdWtUsER7mFxgTlgXXTKDZwGmx7Bsn/MdUbtJb4CAMIRrlUKSS\n",
       "HnGhd0TZHh1L9rRVCpqY7yE+LmNcTzbO59INT0cRUDpw58dSoYvShiDTqwDQf6ibNKtrAw7m9UhS\n",
       "asPaHEiDMOugxdsK5tAInrmILKLEy6SaXJtFnRRtLwgZnnjCy78+kGZ9IEE52IMuWTH6avdZFKVC\n",
       "E01RNXtUg720xgSBJbmWtSD/8OJLXpM78XQykZLO0e9ie2Wf7e9GP13+DKTGt9xg9S6InT9ULfI8\n",
       "YxREvw8sb0M9eFGWhATu2KxuQmj19YBh5Y6mzEKkDmKSggNCWL6ruDvOSwDHpCWK5WbtLwetCRTc\n",
       "Ls8FI96xpRvYvANbGSeRcMagufTqQbCoAAAB4AGfkHRCvwA/edKWEvf/ECjy7ZxyN/TISHqZi01z\n",
       "/5NABxyR+cL7a+sxlMW/eRA7ek/o/PHsJuZz6gJdV/wojVuSlvmUQ+H85LDtDmmTFsA/Tg86/UGl\n",
       "IOlpH39i2PnXin+/usI51iIDWT1XDkPrbv1ejB+ZZ0KNm8vj2TUVjbTqNaV9XQBUr5XE/ETrAh/A\n",
       "q9/JYBhiDOCWlJW51mxHLV5//oDQNe6/d1PtpWBdqcfwwx7M2y0+Xa+YNo5v2Er1ZYGIYvZ+9T5U\n",
       "wJwuHBrOkzlMgLxZ8+kiAkepjMeEZ6ikgRkmi/BOz7MMGbXkMFrfUDim01Ay/HkYacpyBFLMRT5v\n",
       "dKUHmFGQGwjnYqPS0cHW1eg3auAYg2MiP2ByIdPec3RvGrNr9oUuvlErWid2STp9FEhLFjb8KyEu\n",
       "Q8XBqm0vdgcsmv7Zv2tb73tsc1jVr0WBn0wKGPmzey8NjeMe17T4BWtn9u6vuKG4YPV/S8rfNNQT\n",
       "agDZePt2LknIjCeYUDWG4QfBGYIBW3fEaPBueWQ2xO/hyW4fYhrWxePiRWYueBdzZpWbrmlRoec9\n",
       "vuL181dGgkX4mK/1QEINm7mvgRvGiC2qI8GDSezIu1L97CqMaHRyVl57XSwo1W4vQHhygQAAAdYB\n",
       "n5JqQr8AIsGU/PEsoZVFfiCrdpHzta1QfGOZ87RaYLlvcHwX3lOfDT/+CTFzNvujkKk/zE/HfigO\n",
       "ePanMTRM1J8FvAmowUQimIKrM9pI5RyhIqSD9vLWOmfwnkULWNZOvntWUuV5Bnczm9sHtonZ+80H\n",
       "eKBPGlWwXjuATEATDgxOOwZ8JDnU0IKbCWZeVKfbdN36JZEqwSWOQJtJBhW/dQxh7mTpD9zMNwbD\n",
       "dmN64bhyL2Yj5juyUrlwrmmK5vSD65gHZVw9lve6q3D7E96o3KZyvA0l2T9ZmD2zSTeaVx8ZxEro\n",
       "v/w0mjzbA2xviSE0ppeqi/EqRI2aQ1NPVHnxBV9tn7RH5PhMFJHf/v0kkfhJc2de+c374uSifnt/\n",
       "5aJnj+CnvtZLMzo8ZWxcn4JGl4hUaMf4JuNpa8xuKvK8bMCwTvGXt9XFabX6LJpqbMhOWFF/6XLT\n",
       "qWN/SkYf7g84NMOgHSK2PCYUo3yHwCiM7fZ6D8fPxZyfw74ed8hVXfEhMBkr9I82ei4ZFaUk+cfr\n",
       "i5qrU4YIxdIqodEKy1Fi9RZTrn6JxhjyJ19h3WVTd98yAvfabNEjL2fZ6Q24Fjp+wrU/ETZZQDdE\n",
       "IH7vufNuvtYZDceuhAAAAlFBm5dJqEFsmUwId//+qZYAFTFyGc/BByjABDcrf9GcbDV0vDf0Oemg\n",
       "uuM/70zLLhO6TkL46EdZ17GudS5oLXy7xonhmxm11Z+SLspl4o9htrg6DqOz+q7f855paQllW0e4\n",
       "kpSdKHFTQKEqF1PTf3RNciAlRKYitmW/79gtXbpv3+wrnWADtsoY1x6m964fkDnOSvYuymau4hG2\n",
       "Oe7A1fauLh8SWItfE0f86FvcmAZyk1XZ3a1T/O+H8WIe11NfkK/ysbj1GSQy2XRSpLMzibDMYApv\n",
       "WIVf9dJmvPxHCXLQbftKnmx0qtlVeb+KOenozzt2cLtFmTDnIUzU/xC4DHSPV+W7vHwAdVMyJivq\n",
       "ymmWpu4GNaLDtG092hCiHsrSjzweL92vD5HT7+x6ccAJrLNxk/kVfDWjBM0Wtzax6u0Td3ecT89U\n",
       "GCJXkjkVOw4ccbxbi9pcqqSrbFKkJ/W/ifgTors3t/sso+GVqEpQq1q8a0/DhMZCSFF/WhJ3AU0Z\n",
       "kb/mafSE0EisF99ftH1k8rXa83toyyjnyLDrK5h5WqVgJ1iaTr4x8kjzyZwmGYyl5mbnXjRX354B\n",
       "GJ7fqetdIfagDdgWX2NgsSCYrsKh2Lx+cZiqoNZidEhCgHWwXpRJ8Cz8kRK3aN+LACyCuNdi8H6N\n",
       "pveTE6WkWK/QXLOe3BX5AFiVekxm3kxBdVc95pBs1Czfo8f9aiw08Nz9Z2AgUquongpItV1jCduZ\n",
       "TwK2L0UrAFEbSU9kUTJev/3gJwM1VLsKMAKSZ9uaE6DZj0JMadSOgAAAAZNBn7VFFSwv/wAZyFIs\n",
       "PxvOamWzKN3SrwcrYBsEizqyp5srG7OLhB13ZMDBLdaEEe4AWz0tE+bwBZTOn29+lLZB6Y+v44XK\n",
       "TzLMIQEieYkuFk5YzlE4Q6vMghxKiNPbQBaP3ZtqtxUG+eYXlyxTatfedRT+S4dxpQ94F0mNA/m2\n",
       "hcjGCnhSy4/pJG8YHmjT73LFLfSMxkTvWQ0cbSKmU4Tx0XG4p7X7aH+afwCBQcBpvqq4jsIXCFEm\n",
       "6wbAoRxt2WFZf8vzSrzo7qzaDCbnbffYSVk39WIFyf+gY8KB1kaFBOc97HOMcbBvrK7hOkMORBDq\n",
       "Q3e3QxJTus7/Zi3So9sC2YCHsFZBQMbO9IRjW/BfCQ7fMhY1f6h7dbmcstgEciykBx2vUsjD41qw\n",
       "N60Xi+Rf8Gws30vkvhsUybaS/Mn4dn4bWzqIGz5P5jKT3oRTNR6tLziNPPmVAxVq7jGispQ1QhXw\n",
       "srydebNMalNBM3/IyagoB2Qf29v1KepxZi4yPAh8TOIfME+/GvhM5CyAqKpQ3NuxAAABmQGf1HRC\n",
       "vwA9lhcaK1UvAAdV4DzUpaLh6eQOf1PqRXZ35PeR+fRV2tDNV8MM9QcIggv4sNCFCD5ZGoSSkPx8\n",
       "gXynHLcUmZie4yDytLsHu5FQ/FXGZJn1iA0MSrSrx+r9CpKH+fGgNjGOrt3lkRXXw92V8tKIMd2j\n",
       "jfeeNzfF3OR6X/vSI3XBlvPsHPhuZEhMMxeoafh91NukyDZ23SR3UaSHS8bApUK+xCFr1y0X9yVq\n",
       "NSVzB0zNTuAsNF1kb4Vllgo53bUOQE5QLn2GbEw48MOTu2to9L1bFAsTqlXf0eJlReBshmT3TRM5\n",
       "2EJLbJT/4skVE2Vhwk7POvkGiEizA3QaCEqlAM3FPZpPROS/X9U2vj/PzQeyDls8R3s6zdJ5UtOu\n",
       "CG3EdfxboOe+0qtK5ze5nMSsUcEugudB8Wdyr4PdrbQTwwVCG2QZdFwVYnlN3dqNhmAqoCbm9QwN\n",
       "+O8OZsfc0GLaKGi6mepk5ZONau+Fu/9pJ2PrzX7jWwa4grEbEKw0g7IIb9vWLFrGN6N9Dq5c9unI\n",
       "hpn15TAAAAJZAZ/WakK/ACJKpbEKXAMmM8BpAlqiY1M2r151+ieHdulg0dVsSQAdXXfROJnP2zvB\n",
       "zQvcri81sgyL77AuTq8gA4zxPz3CNumXjt5/MjOp3zxRTI4Hbe0XtafZNk+NA/8DJs3nzemkQcXn\n",
       "fWNOvMdBX7IJ5KGaO60c8vY3B4ucg78vQ2S12P//w0N80pw2GmCNQw4mafC7ajhiyFbmoyABQVje\n",
       "i8jL64ioq2jitPGBQ+Bl2f+bpqNgxkutihBZRFVKmYuixN0dDUR6iHsSCPFMUNbaSbdSl9aJ3Xf/\n",
       "ys3V+Ml4sIa9KXDc/Jt2T1ef14X0dWag33zEdfitH7l/o1N6KE8/BhcaLvkVNrpLevAv1GEsafeg\n",
       "SicF7B1xiIfnpB0+wRnqKd3bxSQaJVw+iJz9xeJj0STW8KNRWmxxtTqIz29ahTfHn1wjZCPAQQnb\n",
       "VSid4jCAddqGPB1919vzJTzDcvzL/YVff9LhxiX/DaN2Sq8qLFi2xJuHXP5iveb1zcbLsLCt/dcG\n",
       "v5cdA8KROsBVrYqUZ4FMq45rTNeOqlRukvWUgkn4iqGFHYYTrbiA3KfzataSclMK9cDVAarift+4\n",
       "ahYIG6x1agje3KFPZXAOTzDZEvszEX8eMZLG/O0jWlSRkE1LjI5hNxhVfAZJJk1MZ9OZBMz70xxD\n",
       "HHB6w2JWmYd5s12Snr8uZPlPbbiS3hNGkvxSt+5JL3b0UOeu/kSLJQZTlCPwJm+6VDS7woBhsXPY\n",
       "uAASUot4JrXz6g3kv3acsNpAENGpIFwFcxiFRBoC3DnuTImQZAtdoQAAAipBm9tJqEFsmUwId//+\n",
       "qZYAKFwt8EGvuAC0cxK2pwKFtbk8LiWp23xOCunY6dm54dnfo7SUuXYfj2UO0SGUF6MrXHpGqghi\n",
       "+xSIixaaSJ1kkh4AryaGfsicQPoVdm+4300z972bOLbf8pQs0AYKobbE2If09Jgtk1dETSAQkbX0\n",
       "UZQtXYcdqrAMssgqSJWNTAN86jVJgz4z1SnBV84BHP+DL+xUpJ6ApXsNl7nLW0hOcap3D/OIRm3j\n",
       "kxCH4rO91v2Z2sUwbVmjc+95qDVEabupnzLCWFgIFV1ShntPqUQnpRdlmkwo6dusy0MUJMMa2ZgK\n",
       "9/Wb0uqc1zOl6SByOYawqTCpv+aRxnWgwtMwtCAssaNIXJrokPZnytePoqKeHC28QJp/yOibWhAx\n",
       "sX9D2jhLFV+vLxI15Z9j217WetK5BlsARZgn7Z76uztEPvuKIYVyRIozg7Cvm3xj88btQeka+RUZ\n",
       "vze3h0gJXRwQvSuyrsWWP+I664+2PARRWKNI0XUXD8TtV7IztCC+FLbJUzJ/BDdt/KQUyJRJhVjn\n",
       "+0TgBtCHOvLBAHQ3eV3l/baSoO/dJIwRdfR9ymTbpwz04y4FM8yfyij3akgEBd76EhGRRVFskJdk\n",
       "f7yhgqKGFYOV2CNxHq0QZx5CCvoMfLhJQSge19XBX5yG3ODqqiM+onxcd5tNasj4ylgrv7yR/vZM\n",
       "AMIFvOoZztI4JgIjriHDQN/zHrhPqWLZ69r7gQAAAaZBn/lFFSwv/wAvyr7DyL5SHxbXoxKYVC+s\n",
       "fX5Xzrj+ZM1hBSw+VV6duC3Fc4DG57A6EyfPjdxv8KYWrAY9OHhI56kNPUBLhfHB+J/XbcxATxJN\n",
       "P6yfaSZRJ0tH/OPFex87vKMHyBNxTwt4IP8trrr98M3DzsRcXqAz/c2hkp2/GPGY89CuI4L/INTC\n",
       "70MT9vSnimyZ/L8/abO5Fmop4FwFNPgG7IE+0oaWpA9wBsRGpBQ7OVLMOSE8aNSw7reuK45zy2fC\n",
       "zsJfw5EXZWXhQ8526k9abdDYFxXlC0rXq3yIyCPZW7apvsyUb6eLMh4q31/MoF75wLkTAyucgTbW\n",
       "uud5PVx9T9ZJ35yc0TzO/Em3XmQi1Co5yUFjockZP60Hh4lqYKaPlrG7H1e+v3n5fBd5CLe5/vM/\n",
       "4QiENmwT+qG8/xxuP9ES569j1LPcLKGsMtXceUZscTJsq6CB9lHiZtycb2jAtZgHO/w4e8Tz61q4\n",
       "3zSJ4EJh5u5klAw8XpIcVlY3XueDqiLznjfEMstzmpuqc6Vbu5frBKDd6DMlAQdEhUnLgueL8AAA\n",
       "AYUBnhh0Qr8AIrZ1RSu47L8VpXdVABfGF5Y1zyYkg2Quodj3poHloIxvcQHLnM6fZCpXOL8adkjQ\n",
       "SvGfDm6vecYvMkIOWfaTWGwcJ02ohNewe3mKnHEp7ROq4siPBcsnrh9CPZNmy+IY+W8esNnhclAM\n",
       "1dvu+slTo6s/1hqn1GBLmCZt4+9vR8CGaePWNDIMR3rOUHyYzi+Mc4kGIRiNpA42fHSjHKz5MV14\n",
       "dyJTswshHbCqFUJIUq0kEqp1Izq+VMHxLPo3ellDu/Y0pd5uuS3iXhvAIIKvs1IgsCXHQYcJnYZU\n",
       "4uNrHigbCt+xbcclj4qMAbArqFioum1vfxW9UF0VfYLmFDIA1vQr1ltIQ736aH58ApD1m4fRUQI+\n",
       "gN/MwbDRke7hxbGU0WGI+yaOsPmJHEV75enOuZ/xeHeLudJ5/LpwNKdAJPFuiaffiklTbbGc5RZm\n",
       "3/K/JxfTnoFrWndnboFJ/K/FbIrB25qCafF10jedqB0/66+I2PMaGzxbTJSgS8RpQQAAAiMBnhpq\n",
       "Qr8AP4yXqeA/WM/tZmq57Ut7vcOwh/ej0+gp6cMS3DRHlmNR7+H+B6rfaKpJxKe0TquJ2gZ2jnEO\n",
       "8vw+nwHJN66aJYTn/Qy9j0uMRLcDmr/ntRliqI8jf2M06pCtfvT1V43bbBdTCZ8RZjyKYs3pSqqP\n",
       "Wr/eTvYrDWrf7mfUskGBecOybT99kGsLo09VxaNxVvxqOyJuJ9irFEIvqFx8WdIa1isuZeKaarN3\n",
       "M76V5r+JzUqhd5av8O8eWzEFTR5VUcs8059aeMZKgr9nA/SM70J79wPR9rw7kRTRjXzNtGXmG5Mo\n",
       "rlDyhd5eKtXbT8EfNtaWGJDpT3pWB/pdINFK8Puw2n2HRWR5krDRPmDi7cMq6/QL3w276RopPtVb\n",
       "0nc/RQVjY/s35AtXuJ/RNqIkmVazsjwmNllOadrtwsGz+uHp5eqVyWTvH1MLI069oesP+k5PsKlf\n",
       "4z7vAkCdKl95fJgkoqXCEkTeM9CqTHUukLM+5tLcJq8Xf3hjw26phQ8Dv81kos8SMmsUa5OeBJZk\n",
       "5tHfGao58HrWWDBXWpohHUnd47e9kcTbRXOzgomRXS5KKE6NqCnb1787WEWJHPSEsBMDMsOj7rGr\n",
       "eFMDLOCpmOrKe7Eyh+5gvJx2qFvObFaXr6Rzw/Wd8sTLdZQb//UHUqX+P+h23hR+qsxlItoCZAqk\n",
       "cMeRomqJuUh33jBj6pmwd3tLXZCbA8XwG2jVbuCAAAAB7EGaH0moQWyZTAh3//6plgAoXwBl20gp\n",
       "n34Uh3Id2RoJBII4oi8v93BcKkQCad1tLpWpBv1ybvYEPHyLTZHU8YePm83s3b8DOv7JoIu2k/io\n",
       "G3srSTvmgx7aZU+Akry7xkYvmEQW1WOeIsf6KKdFarzGJ+8064L4XpB9tBz9Q+UOLjdljxkYPnnJ\n",
       "TpKiZzWUx+eVJRSbSO/wz+GkEgKjVwLNNn/iydUj6EBg8DZJ4m3WLzl4B/UTgqBPWKa733TqnRWO\n",
       "CeS5qQsd98W3eKT4VC9LoL16Gqc1lEQP/LqF+c3yVvzGv2GwYBqV9+luYHMmonEFR58GM4tIf1yi\n",
       "j4CZ603AypoXg4q2KDgEnRUUThMvnoxUP21sb2KCxnNNYd1Pev16Ca6Q9VPrFpDmAflwexxFm0s8\n",
       "ysAJgjCZMMI65n2bD6A4m6xZNuD+f77N66IRqBT152mL1CIaPLVWuntkjvm48MlJpONJ3X6ZJOG/\n",
       "ETB2Z0aWdcDIIg5xbgFehJuAs1caUIWdMROj60M294naZLEjQnVufe18tcze4S2T078dW3SoilyQ\n",
       "SrHkrNucApYLHB2ssERKe/C+/UarDWpHc/zvYOzFbwqStuSeggbAlnG1VSn1eSwR8bNNvJ6LUHIY\n",
       "MlBE2Qm3dWs8RuaLgQAAAXBBnj1FFSwv/wAvwYVLbZHSNFXy4BJ8Qo2AFtCFeKa6RSEcXwn3nY7S\n",
       "LCZTQCx3jBnADyODtbNT4vAOE+BnRj/YKysJluTeST6ah0pMijVk38Glia925YBlsl9I2NZbAV3U\n",
       "9SoI28A/JZZtRofdUUNslf8J82EqqAf3UICqwkj0fVXdH/p4lesVay/AunpmYOLygc+ttr/UUCec\n",
       "24ufnwzCYO7F/CIE2MfE7ZlNZQn3D3mwrJyHMebAqERNpce41DohVEU1sMDlni8hiS8+Yd77fkp+\n",
       "iqQQCX/wCDgLn+AV+yZeumfnENA9bqePZJ88yzLRMhmzBQeMMoiyYg53y0v56sWSIbsxSQH4G0Tw\n",
       "pmxJYmcq+HcA0yqLu8z8ZiekcJccBWSfmX7h4Vhqtv6P19GvultB2/7QdJKF4tgNjReX8zOdzmZL\n",
       "+phnMUHhJruqJJUAxvJJKVSzR5ww/FQuIJqrHYKGxQdT61b3Cwh9warJQQAAAZQBnlx0Qr8AP3vw\n",
       "ZWqVOzdr1MoacnawoBRW/qS2GqeyUcfZHZBCRbgjqvqy+ALBZ0+8MjJkDMb0eiOoe9r2f4bcrL35\n",
       "OUnhyx3MMqbEv7E34t+U4tvHqBcxVv+aNNxqMrojKJG4KNfV5ZjNWfS7Ughjo/VPyIBPxX4nRdjV\n",
       "W5lkVUMgppkRjm59lyBR1bWST6VZAKhgnJvFiP/ejy7jIcRPLLne5D1azZkRKlehmCnjDpGbE1R+\n",
       "/orWoX9yyLGswuayIu2AbCGGuE0bxfqbeQrQtnqdhwkc9xXr81zpjhDI7iswpwYQg/2VoyzqLGf3\n",
       "SXhwrD/3H4PjHju9h95Ds48q5DuahRgKZuDI8GVXRVB9KA9R5AQJys1lHzIAeSpPVgwCq0/vwZ14\n",
       "R1yI9GSr5eHyDNMBF892ZSFlZZtcvu39W8jsP8a4mHq0vMpHglvdsJpMVbGRslgX2Vz9gG+ohcVG\n",
       "+gqHM1Bdr+3TzSZoFhvoOhtc9KkUE3yDY54wXwGbsNziCsZAvKRtDpe5Nc4GdanCm2MSIAAAAcUB\n",
       "nl5qQr8AP4rHF7hsGYJgRaoxci6TQ/wG6OXcRrBSRDoiLLuuBshjXFCx81ItK6tGztowR6UZ+uFK\n",
       "ZqbJR0qHYCWDY7CMC9OMZYHmZG5ugbhf72TaXBsQsTL9l4xmLB1zlSJfRapzYFoYfXRPSuKoEdBV\n",
       "tYQEhtq7nr3ZG6D+BR4ofFwt+p+SxyWcRu2lipvbnxffPQ/AtAKIvuSfBtWiNNANv0jab5jkPO4R\n",
       "GnYUD0TPoe62ob5EXjaukFBiR3+DqRon2IyhktgcpvTjxKumNFSmLlGb7lCALlKYJc/DAGnYB06U\n",
       "an37yTmtS/AgWlcwrLCL0XVVTw61X5ECtQDAkGZQeFL/Kc37w1Ib4B0Zuy51C6hilhonhk9UHUhr\n",
       "Gp/rVHwBkBI/FbeHb9R+ttSZIGh1BNCOnDvjnlayWZbDCzSx/Cp7LHS6ij0nUxxMZsknqXXrUU+O\n",
       "r9D2dKi2A/hSOR3jtpIM9ch78tF8O3GZomWxdlQM4jEoLnpyqhndY38ouGyiY0FbF+QYkrHqyL57\n",
       "ECFLKIq+7VJlVnC3PrWJzF+UwPQ9q7QaIxbTNaaF5u8XjpVk4/jjumm1/yzLj9M0XLc6tsgAAAH3\n",
       "QZpDSahBbJlMCHf//qmWACc/I7TS3XuZ84PNUPTJOJl4V+SoMHdTkcZBXoAcjdOnXVpzAYAH/+7q\n",
       "uC6afDhf+lkMwAZd8NK37n4HDyjBz74grqOFfYD0KgKFPsjhRUJ/YIGdaSF0keViGzr5x8oHhh3O\n",
       "Sivbnx1KICUD3TnRkQ8ttVeawhGqaXV5BtoSl0N8C/DV5ZAT6Wz4fCbKuHPYl6AMTK0e7VHAYYVf\n",
       "BQ9pH7hbudHf6b9HgzcGweIjsrncL6K9HvTq0Xv9vWKEgalAEyebTDpokwPcKuH07gX5RK9UIaMZ\n",
       "lrwQ8zn7DNocRYBT0QT3l4FkrvaLIAJgZlwRF1Fy/3fQ6DWpG9FHSi01TKKQqeWcySBFeLbuJS1Q\n",
       "SZ2sQ02Cm52WMnFJMaqJQJXkY8za0tMTP4MMK9S3JmbVl75i8o1JgqM24pPtKLh8rfFm4+uiuFcp\n",
       "A+gXGlp0snOLBSsQg8Zncn9Ejx06brXZrOnXEqsZ9adk+WQSCETG7P6q9ihjNrbn3Yv8WJCYm33U\n",
       "LqdB3RR/QaJygHa9ylzmU/YQHamGVsDwMFOnXVGxxtJaW0dD000kO9K1+sXsqyXh5L7grWSx+5j/\n",
       "VqrP6v2hk+FV29DEzK8vgYmaO6ooD3DgEvYHUZINjTIPMIVji+tw7/9ztsW2ce0AAAIUQZ5hRRUs\n",
       "L/8AL9660LaKr21IGYXQDAr0EvM9s4khU12GfLRFwv8rqpiVwgIiWS3lVgu183X7ldxy5BsES03E\n",
       "Zd7yybvT1RjlNOJvRHFJQ4bsHpkymUHfOR/PP/Q2sMzbioB/dQOLMnDKf9XeP/IYlMAUhC3odrqH\n",
       "29sqPZk6xOHUUDW+mh004tjVndg8erwMaPGAeAvLdgXT7AQTjBslE0ylvGWk2SuFhNjrD3rIzFRn\n",
       "Wu0+kTkNyT2Ds38b1/fJApwrlkbc2jnrhRk8y4tSnXlqD8VDYOIL0cRL6Z4OTHl/E84DX+TCUKh/\n",
       "q4cqnb2+2EsxNY3dAc69ByjesMf8DfZZwu2fDFt2YdVY/eDEFgWNVeHgqBE3Qe6WB8BK9fcdTp8u\n",
       "/hW7BFsKrKHBwYmJ+LMbe84D6wEBp3GdMsqQ88t/fr77VJ/XTm7Bq3j+3uN7IE1beGJ6aHQNC7i4\n",
       "LDlhEeuoYdlFHNU69y9JodXvRbr/ZEbvXXzlaMJTCDCEFmIFRj5VnYcAt5EavrPcjdQGfWE5mQv+\n",
       "37FkUBD9nRhv0ScpNDKi6DBZhrKuACyEcVUIv84gYtR5M3Roj1ONPynukY7BUEK4YsxO1VkLJU7D\n",
       "6uEx2w2VGygw2tlcLk6FbkpXFsYcTQTeKwZqo7Bz+L8j+6WqwHAZY7HI8Q9k2VwMFNjfwuu1rz4B\n",
       "0AcByHOf35HNTJtagAAAAUUBnoB0Qr8AP6XlXsUTcT18L1FVBEr6z3GvfA2I4gAQ2Fj5qRaV1ojX\n",
       "NfbHITv7oU128z4+AgFNvzS3Hz0batvQFPz76iFxNQVNW416tGLJsw65BCJpSACnMxa6OLXofGX5\n",
       "6qSIgBImyu+zmiCGWWNPR3pSaMyYofYn09v3d/M9Ul4xmvHgvuy+57BMNGHboxtEgRhJMMN1Qfro\n",
       "d5AXwgJM/qpDiTF0rc1cLQdWB4t3DhB/L855yIeYP0jAc/sviURtkqdvgBhb9iBZgPUc5hDJ+Nwz\n",
       "2VePOZqdjbAhA70S336bZ+sOsq/FEzFMpxDW9rJYoJ4pPI8DA1sXdzO0pzyITd6jJ/TNmxENY7hZ\n",
       "aO5gnQffVydT3jH1kOk7KnDx0Z1mkq2O1P3IVSelvPNOSiKyWCTQz4M5jsjpg8SaHG9hktkVci/5\n",
       "AAABLAGegmpCvwA/j7u8kv2GCeqAEGbDZeEDf+26kPP+AmZsFbfAqPwnJWg2YM2ZE99LtJdYj9hm\n",
       "0gpn0ts9Ft+5ESHCu6pTld1pGH0FjqosCj5bqkPiANaYBubxvkKfThVkI3GTOVKZly/7EtDd6jGS\n",
       "RHi83f2/Ki5VcaBpJanj3xqLwxF5fTiAPuD+QUswnHJQDo1je9MIK0vS+BzMXDhPOtM0snXMjJ4r\n",
       "tucLmLTnNie/wyheMVFm0FtEN9YVTWDcT4iHW+e9lpFK97YfLTNAtufGucD5g6xpti+exOZ14d8r\n",
       "hug3/uRNvyFoijX7Whb8B6raHgPTs7fdxaJOFzDjLEFvaE9KhwKEetUQd1mXv3t0W+Ar7GApPFeT\n",
       "ZTLlrDyvQF9fUPoXjsdw8cEeKAAAAipBmodJqEFsmUwId//+qZYAKCIa4XVb2DrIKACGct+CsNGV\n",
       "FI5Yu44tiELVBDUCDkU/2LypRb1fX/hwBnnCPKO2M2aQu/2qOb7rfs7LGxL8i3nth+a0agMhcMHy\n",
       "wPxr1Ajwa4hKot3J6cTdpRnjMOyzn35tj36bo5MHlJc2kfUdQE/NxbnlhXM/2puyAWj1sGbEPAhB\n",
       "uQQ6tBv4i5odMJbiDbEfiZD2sPHvRQV3SljoC0NlCbXu2i8Q/JyGE6pE+lHNmPPJT/I8axJQ9rKT\n",
       "tQyfouRmYNUArQp1d54SQTgUigAK0Zym5U5lKabdOINShK17J63KpmvoG+E17V7gyyEg71q+MZtS\n",
       "/0R1cDP+0OqKN6rjz6FCd9wu7KDdEtzBxY5ADMfdWPbL3beFFKZEbXhUSSfc7RUhkNLCPHMt5ggl\n",
       "qk9ApP0YRLcIWsCn5zjKdv84viHGFc3CPfzCZZ+v3u29nsfzAD3RDxQBh6eI6mA+H14I7RLhSiol\n",
       "SZEofADgmEQoqHbQNvS/aai8SFM2nl5V4aDMFPosbcxXIaeGnHQ3/BVwRMntbwTBUsZigrNLwbk8\n",
       "UIeEUuz4V3EkA4/jISwxdvteJ82hkHfgI69mvCBimbm3uji6mw1ZqUg6TWQvly+iTUQFVVR66p+J\n",
       "lrr3h7C/TRdMOT7z20deOyD5pnfyRcvhLH4OIXR4Ha70otH2R187STGrzxOvD1kyYNysF0C/CNmW\n",
       "WNLNiTjBYQAAAh5BnqVFFSwv/wAvymQ/VWbaWtO7Avu4hKPmbPlDxUnuyGhru5kzEt9WZ3idXfoa\n",
       "wIwKSwtGAB0TBr4bR4wkKe1AmviOnblWth7dmxstNzPpMjw/9+XDgRzXeRw9qmcPbQqahvfSosJR\n",
       "bNZSdcObmAS507iA1axGuyIa5LynMPsLGPL+j70bBkVHcha0WjhYELtYULtZJJENWwU3RT2WcSeK\n",
       "jxt74eHEHXopbJUF6Siae14b/0aUpRkpR3Xq/aGEXeHxALWjbfz0rBb9pLeVGKjmG5mmm7F3Y5Wy\n",
       "pEYkkT9P5OldCwYdIIDjLApNzcuXVO4xO7P1xirXn63yzhmm/D1vHbBahrh3hz0AIgYs1J0dExn9\n",
       "g0m9hSYM7576sIQ7ntBP7ZGU/UQtWlJmMSVs0N4oYbo02KeLJszb7a/4a9LLst9SZGWfk09J56ZE\n",
       "RLo+7jlX8DLcSgPp9uRzMT6xrNRZvvosBWCMiWjk7iIrCpGpJeGmoxDA80RT2u19Yx2Dkf23jMYJ\n",
       "HhXBKUhk7U/VHqFPW5lBMAb4v/U4NccwWNWxqMDBrpYrFSi0KG1KGmAuWH5JpQdw3UupLKBMCtRG\n",
       "/XDLJDpwrVPTtN4Pf27qRxSfj8ohkmSyRnSRLBfKZO2QgfYT+ON4DkKr1cJRiFP0ccLBaiphxfK6\n",
       "USWpmjdabXvpaybcOMunQnXmDMTKhHF02poaGmqXqDIaiPIGQzC6oQAAAYYBnsR0Qr8APglYjpV2\n",
       "6AC9QtE7ErYz1EakToBAUXbBeBnhwg0obrqXqaXA02Ud8RgpASeAuKMLC0e0QY7hZf8QLAqspdPv\n",
       "tHcuQsPVx+jUPur2J5CT0iGUVgIQqZIL7ZAfgVZnQuiUv06S43lGycS06TDSNJWXTj1vnaas9k2A\n",
       "jJOKHTfWblKqvwOWPz+eFvMSr6bT710PPGbTfhzikXTpTT7rff76CwhV5kYXxUZaorK9sJHP2ql8\n",
       "4lJrcEuOHPz8QdMDP7bvCih27K90clDl5/z8bwmNcgB3i5bx0ru6a7c1lAHVM5NRtypLbB7qsL7I\n",
       "J2/x6CoUzA4f2ltfntwm6W3Xty97AL256/V72TqTdoutCjiKmzNvGXniTeuXAqwwWOG5GTXrqYXI\n",
       "P79X9k7Il+1dznAyCAg1Q3dz1fKoO5F/sHoFbXLp+8GI4bUe30yOrdpDf4QdgCH+2qOezeuurXa+\n",
       "qPiKrt4nqkpcBo/jLY3EMcHmuEauLO1+jMfmnzbRDFiQN2kAAAHlAZ7GakK/AD93OgQAmjC8sa53\n",
       "ngwnQ7s0JfWArO6D55ZY2sg8AlZcp/IzxoNy1fQmxhkXbLYzuqfxdanwokCgd35UQvA6kOkrl2CK\n",
       "T6usPLZhXnYrqWJW3gUEK0QciSxwG5x+oPJG7SElxXf6w9TrxD8o8HhG2+vadnhmYKC+zFyvTjoO\n",
       "WLgg4ZvfyvurZu3Xyx8ilACCRarNCIkPTTtRcjRQ3BJ/fsJ3R7vEWrBzr3EukfKXm26C66zG2Av1\n",
       "KhFKI7t2qmIY33SFGX0EfN5gvPVzLXn6OUC9uoPN3dkpdMVhxPgDHaxmqwOW3qxqQ6tpUuwIBeTU\n",
       "9fSZMr+cx9O6OcY6ieVJbFkwIjSCEvvrk4YU6f12osrj7ZDCXNVyo2UBl3OQO11X+PHqr5cd0sNL\n",
       "EGB5QSJ1T3D+TveXg8htjSsVBNEwrcUshcUWXDvOzCGAztq4P7DvGv5GiF8tUiopm2uli6qYWRfw\n",
       "wu8HvCW6dcE3w7qk3vo9OB77rSkOUAq7jkHMTk2xsrBG1Recbu4g2amyQwIRGbLiCap+3g7yw6zY\n",
       "lAMx9WFhJPYsoBQfhOpZ5eAfCMDOBWdAS81Q4dRtOxQ0V70/CvBvE3GFMF6v0VDtJChEWVoioGqe\n",
       "0QO40WkymxBVe0EAAAIFQZrLSahBbJlMCHf//qmWACgXwKgAm3ETVNZS7XwGUo1FwZZ0/5tjMFAk\n",
       "CFQixKyCapRj4j8wYn74S7QZvTJDvnV0w0zlZnGEX82gF4daWOmYwpzIBQ/67p9qkCIKfUvsdr0p\n",
       "N6vvde2EHsG3rYquuF5wulHKd5SLWgVZRC45qoRPa5/OY6XPnqQLZhqB+x+sZnjrouHbbifnPGJf\n",
       "xtzzOTi9lHrDd9H7cN29Bo7vY/9mfw8QALbkjJtTSJIgDRdzr3mPVjb3iBT/zAwHa6vfQVc6GxDl\n",
       "PdjBOgJGdOvvedcZTi2iv6woocUlxiQvYmBA2HjppZSNRvwyol6yVhW0X7aRpkH0SzQlUXfFQDL9\n",
       "H/pk94jpHBN5wPHrqWpRBfgOjBvZ3Ae0JMWAkCFIPWylTLjogb2XbePebHexhqO5lVaVM0rQpg+U\n",
       "DPNajmRIwiZtI/K5F/ePW13MHU4XbLUl4h4V2kK91pGZXLG3Iq3+4xZYDouxUvB5SRq/IsBthUd1\n",
       "J9tyr1rE3SceVwfOlI+VHbqjP8xwWODSFhxaiPDBjZPc2vLYVr1PTgYimU8NRFmaA4z5Kom2J/UC\n",
       "Oj09YIfPG2OiE2l2Q2qDo3d2lihjMNFMN7o6vNjawm9WNxbLch/Uh2QipzGaJcUK6K7ytCIPYrJK\n",
       "kV4YHXBQREsjkMDVrrDmgtBJbAAAAYFBnulFFSwv/wAv0RPv1JndIWtO7Avu4hKPmbPXWAmTxvLg\n",
       "+QhvVrvtlQAljt64K/068PtBXdwWWn2Yr05b6EGKreGQsaz3y4iaMS/2dcc4Ns6UxQpqragjHGnL\n",
       "MYwCqih3Jtv0EIQamiJmhk54rKJEeVGD9fnSIaEAE5VkWe/PtqUHSHdJfnNnpw6uGrpa1lEpRgri\n",
       "bl5uSKxy+YK3ATQiyyNJwnV2ysBqZzGS1p0kbQuqIvFrIJJWfQ6P4y0lLB0tsa5Xz52RoIKONKzL\n",
       "1QHuz0iwgkcE5ahH6yt6NbZFJTIYelU7v2jFN1NTaoWrnAbTQ3l6BjiRT1ebOXkYxH4Us3QRcHR5\n",
       "XDarr/soBWHSgCy3C5mTswETif5afPIfJTVvAxqX3mimhfxj1Uysj1kQ3/oD83hKvuR/XfN8ovV4\n",
       "04OabBJDn+Cg5Hu+UKv+RMIX+lzPlGWj0TtWYc1GK/1S2HwDni1L+C93QmwKeJkZLPEjSRD/2uj9\n",
       "9RAvY51JfpOBAAABnwGfCHRCvwA/e+rwCbySS9YCs7naYoHhuDgAHVWrPoRGq7qUOvcRLplQKLU9\n",
       "9x5HZwmoucUIWHHUEgQwEk9BMoq4fz8rbSOkcbSzvOjsZuoxR7TigxIY9urha4l6UEtAHxX2MJXJ\n",
       "OeyW4EgEmvHcT3ij5UJQjHVnIcILHz+k5ULDoMeYNzQAV4tTLcSd/fWwuIumuTDuGcv9v68XKMau\n",
       "ZIo87umQ8VjRbecxnPsXSL2Yel0MA0LND+hQb/dEzISmDoovgFuhBqQMafa3wU7P36DrnWMTzGYm\n",
       "DWsZVy7tW5cmZZYMOTqRY2IWZjAUcgmYl0FYnFyHFeybxxeyzJiSLRkM5sY0zcF2VRMLKjJld5Rs\n",
       "vE/ZMjRNN5Gjp/6oAK3MTzQ2yHenmNm3vTEYNtpqJr0qLkfOQn+7f3lCzcqUsAZoTDkZeCunAOi+\n",
       "o8PmjsNNmtS0yeAr7k5B2nIqmmr/LDJmVNAou/i8rDRj/90DMKd77mOvcAg3reyqkqQd+2jSHVi0\n",
       "D1lTxeftXcGM9yn/GDW0ep8b4b451IwMhTekrKEAAAGHAZ8KakK/AD+MkrInXTWxWNjPvSh4wKAD\n",
       "lPTWliaQyfRY/6oWPewxHanmTX3MM4qeDEjMWhwzV7ajGcufMgdWXS1Y2l+i71Vci0nATMv9OnO4\n",
       "n+/T1yfblfnUkHlZFo9IweGC3rlPXk8yl/JKOpsjwh9O3RP4XiID3vjm16gTy8FT0bJRi5rashyM\n",
       "pDUnrLFoQDXr4e3Ql7cuRaSx7OpZxIikaAURvs4//NDv++F894Yyhtktr5o2yZaA2pFhfmvQSpC9\n",
       "a1GV2PpZ/nsiiq0RPp23Q5Jsi6ihiaSfjSrDb1jDoVfMGnxxCUrMQuzUW5owWf8oM1G1kJV35VNP\n",
       "r5/GV8apuQPEPYVBuhbHCrSxbJpdXE1H33HW9kJlsAcBxahodivDZ/gk7n5jH1LwGI4aMkdYT2T6\n",
       "0gk8M+5g4j2HfYxhAc6yDMMTLh/c+8/sg3uVMKDSerJP+5tAoumNnSehO5e4RrIPIJ2ZloPq8Eaq\n",
       "wMFEvyyShAqN8+4nGEMlXOJmxq/pkE8qIAAAAlxBmw9JqEFsmUwId//+qZYAKF/cv1SseC6ldJA0\n",
       "yAkFTqgAFmtvPXIKDqbnZN5BT0L/gAjXRkEPbSQcfaJ9mnajNCa8qxkHLkmA0xw+EAyo6cA+1NFd\n",
       "SD+PhDAHU9Pf3o6vy0Y4mM4KTuR4IfBOmJntw1Ite/1FvVp1KVD8t5dxjPYl8nwhzBbBBx5GPQs0\n",
       "XbM4b2uBKCx+xNjjH7GAF67SpzbBfCccckSQi5CB9d9i7WODkxRSlKQeQyXXgDVEaX4cGSa57Axn\n",
       "s63p7U1SfQKxKPMIQwKJ3xhNDibFNycuu9hfRaqJ9TJqrOXKa0iRPQPZ8YLdPq/6obLvrhlVjcVr\n",
       "3vmHVUsBlSeljRwjHj/TiKVP9sWwXvikS9nhEdbDaAoWB/EwVZhDT0EEo4zvYUBIIp+z56KL9mAW\n",
       "TP0QXDGu3ULrJ7L6DmU11NWIEGviDQEul09idzPbgeTtxt5mxJX2blf5mB1Va/8FstphipUu0vQe\n",
       "Rxl/MD+8dmrp/+hz1TDvmNisFnRAwhkk9F0ieDipH9dw1oa3PHDu1pxlD0lSx5HX7MCi6YakMOA3\n",
       "IV51daqLAUoMZmeFOURj5rA8Qj+DkiL3+E3EZH8EmC+QcCUV3XsekA6PgDb6eidDzH4uxr4/wY9T\n",
       "ZVvy6wK/LceuUQNCQFFQbOt/kcbBmBoGTxOLg9iIi/4S+lootTTjdQDzB4WgHkqm2WsbStpStqVs\n",
       "cVM19tKu8+dw+yDMdhed0LjV4PJchvb3OZudNuhv1g3XV/OhWqZou1GQZm3ZA/SkeHQfXDfaGZiQ\n",
       "FOX3z8GAAAABfEGfLUUVLC//AC/KV3Lha2f02tM9XAFuA4AHVSxhHad6a8ywK2Gz1Pt/IzvR9p5E\n",
       "wlIy7ceJClGPHla+fjtvO0cbrgt7nf2JYZUW5xMsOpoei/IGh4Z2P9qbb9OJCmFSuxcaGrJ+7Dt6\n",
       "Ye7Z4DqmvY/JredlmU2V3VfBNDd95m0x0U71HW9SsDUgwAxxnraIgbWrLUmRl4x1gcnwRnNwdkIB\n",
       "YWDrIOPbAnYVP+dhXfjPgnfVkg3c9n+Q4Z+a3xuzAzSdQr+zzruiORoGdOoCzSUxgC47qtItxzFX\n",
       "myWhX2F5/Zqub2M0m5heZzL6nsrkVKpo7KQqt8GkvF0FXeFf2UUB4a9wBMZYAwYQHR/P2hncbyUs\n",
       "I+18JY+ZMgU97wVL5MaEQVyhUKDArVCb1n403JWz3qyitIbZZ2d3cLBtB5UoBvduGINYxEaLEkMX\n",
       "z7Rx692hymWLBcziyEexgdbiJUcmOWChBfr0DSpGP+BrLrIN6W9zu+1YdosTnZZxAAABngGfTHRC\n",
       "vwA/hebCfANYsSenMYLzteO4i0ciWmI0M4ABOHn/ZQeNwAGBf7iNa+6OPff0DVWGlxdMvEkJP2yj\n",
       "1OeyUAurQFbWteZc7cm6kkLU/gLfsCXjO1gKVyV/o+2jBT9sP8KQBIpa5iSRnTKR0hvDv2kgyOv9\n",
       "/Lw7FsGtu6wzo8BHjHeQitVxik+HX9tM5SXct3bgRa6hd2VM5GXXZPTkL5TJmD3y8JcawLUVJQt8\n",
       "cxpiHN28Wd7Lk523UFu9wlkc58ZIDG5G83YmSunx2NOpLxwjSANPvAsp0usbCLeuccpiRTMhWedd\n",
       "WSVonnXmPioGYJVczqGUvc0oP6jlGc9NadYUQtkPu3tfEStTYyNMpxkvll6ILFhh9In1D1+Vt/0F\n",
       "1y+kd9OaDEXDkbu5aNoYjJ+UEIaPOE4i+dWkaRT4dId66D4nlqiVHJjnFWEMIaPrrYJja4ZLxAtU\n",
       "yfaOYTcsmND91kKp5PeBZ0eBB3aDTjCHojPBMlHBBuYufAUfQKkRWC/81dUydN63pxYgV1tuuYuQ\n",
       "aa4dooxu2jeq7wAAAaEBn05qQr8AP4C7CfANYtcdLvpylBI3KLrh2HEpD+Y7RQBLjH5SaPL4yPIJ\n",
       "44LK9UNNO7hCij8Q8syalLOXhtVYQ9FmQ+r8xEjqGosXQYAEaYC4EMDxpszAqMGppuCZ3bgZ2L0+\n",
       "0I+H3JhPU7F1h2OVz8Z0QZA1J+BhMuaZcbDHALrEUBgz4Hp7mxa9HDJYXsp4WkgqRo2xhULYkvyf\n",
       "Ib2RIX5MiUx2eP8TWmlbgMyWGUi7IPRn2ABOtpJw7xTXtvWjIY+gPxHhR33YA0AcILq4s1gOfj+A\n",
       "7Nqa8E2H4ebMa0AFLY0r86UCpXGTpO3jE6pCgncNeer4I4arVtx299JZfi1bG/IRMM4WTB4JyItH\n",
       "+EqAWcEDCQCrSXFk5GXjMq6rb/7FX8J4s5KflBTTJh7+PEa0rco+ULs0wXi/Jocym4neqYlc6r7Y\n",
       "++SjYZiw5s2lqroOjyTrSUR0zW7BzIlCWfGHOV1ifuXX1eaUJvHo9R95VIJcr04i67HIhQIWX/fn\n",
       "MWiWNEx/diACOWHmdvNgTjDbn7QlwJOFXVHaK12CqYEAAAHpQZtTSahBbJlMCHf//qmWAChfANm7\n",
       "VLooGn2YAAtHE8fuJpXjpsOlEt7n89qHIPbBLfTvls8ZYhXIgFJo91JPVYSQtlyU/9C3VoQYby2k\n",
       "I/4WsVcRAJR/XEG826O5sF71bYpxy3gZ4MAsF6vUwPpyfae3DfZq2LuvM/rDUn54qoP68cKG2zN0\n",
       "y1/gLAIXOpekMSt+5+Bw8hUYCrZhuaReJ8L99BGhtD99t6whgMIrj9qfF8e7yoB7frCZf2W1jegH\n",
       "O1gl24Y9PK7lwOKFxCZzKVnq7+LVrrA3AaEmEZLYZ/cCJGEgXKHGObQw60QYYySOMXA2uKyqRq7E\n",
       "+RzDkyt2OBMTpUmhsBZ57nCGS/FYwIwAFWEurp+Ac+USItq6SArBG33wDsyAx9pE/Q8I+ASxFLYm\n",
       "bv5fNtWGbPfLZaG6kiisCBDJ6wIqT3zhG82e3zXuxivJW0EEMvSTWTf3GwjjBZICF4SFWuGaNqiz\n",
       "p7Xtj+Abs2ps61eb4Tevj+ccvguLqLcdpGUxkLyzJ+hiwjpplxiP8+d2jZObbhtI606+uD5VDHRB\n",
       "i1Ni6R404lT3cAloujtoNNsGs7EFzoH9RbfoKeiy6crBiASsI00tpbygGQ17jAs7ILGX22U7r2Mp\n",
       "i3RR8Niy7LTJT1N/AAAAs0GfcUUVLC//AC/RE0WUdqGySAEEVfiBxKra1i8UKS83Sh8vW/2qYoNU\n",
       "FtM1gq8oGGlB6pS/cv0l7+ohK4lvzgFDmgLArnCO4DCvJlUrgPLWbIIgCq0LKskBI7m5fNXBJ4Jx\n",
       "plM3mXaw/A7XyffInwPMEZk1gnrQPw8Xhh8Z7VWbvuJEJ1SYFiONMdX2q2f28is5CJDXCgaEtaop\n",
       "9jAO4K70YDNHPiQxfTqBHYvnNpvMop2gAAACMwGfkHRCvwA/e+rwCsEC/aSY905guO95Vh38aro0\n",
       "qHIG8Mk2gIhpF/s6gQTTqIvh00jR4M8aIRSHUZx2mVI+1IMhD719YcZeyus7QHZJC5C7oQqb5Ruz\n",
       "qjt/5Crm8iyJ5XOFh9LovhTrHScOhx8a7+BpWJWW3Ha2XB+42UEfRwVcfoQU3cMs/h+GU+3/Xjn9\n",
       "W+3sTvLdNzbgnP0aBNvlDJB6/xP3TA0iOLl2PVi90PYWnP/b2dw3hbZAx5WnycAu6ZJtSot+iJiV\n",
       "lfPMZIs6/I4cofLfVnrOumPBvmGoFqW/ahniRI8s6n9gUgTyE/oomEfEqHPmTEjWSMCgjJ70wn7A\n",
       "l4RrkqNso1SzSrTTGq8mD03yue0oTIMno9TmpFvb8HxgNFo6imhWGE86TL/8wIKP9xXJHnxA9PjI\n",
       "CBaDXTA/A08BxL/Aeui/zMQQaAzLS7uVTYhjPtFHZVyCQvon6nwFwpMNoXMFDVEBNudqfIfqfmoT\n",
       "HauHDm7iOzXenYR1Mc8DbMau8q7Z9bKkzlcZbmL2IeOdmTej8RBk0uA1dw5z0jO+8y0Vwy+u1Nmi\n",
       "5RXfprb3K+Dql6UFYTU8VZmFTh0w+cezYZxGVwH4TiiT8JX9EAFM1ONZ02lBTWn1YSnNoryIs03L\n",
       "8GG7DLPiEXYYxhDi9eR6TGJ5oF6BJLa9PGqgNo1ZDkt6Tbkf68aLMjStg6Rq2JePNntl2KtOHIUW\n",
       "VN0+NvQ4IVDHjELHTBEPQdY5l17RAAACEAGfkmpCvwA/gDsoQsuNGYFzAAdXXfROJnP2zvBzQByO\n",
       "BC5GiOm+58mMK77HWK5U92zQKQCy2JPyY2ZJtBPtbgUUpqPy1F38CyZ6nUSEheOWz5sW9RdSoI8j\n",
       "8Q2SD/Uu4mhojVebnmJue/owxyHyp7lrBDHCMIhz3aFjgIFAv4SDGwTyupJ+JR6fSNGADwA3TMTC\n",
       "2TLr/JAvHm8oQYYGysOoizAQPi1GpQS7e4A8QK52QsMGsTwIj+mm3mJPTuStquXbrt2R2mqKNFcA\n",
       "lA8wwfAzzW93xYFjCMYqa4xeTl3wG7SdpkRaBAYo+LGu+nVyHlf0ZEiIL0oaKfbE3TONjkAl2acM\n",
       "3+Zk5KDdGulyNJmY9grrNingMH3IbnSoSFW9xMoiTYC1+x87pWF651uuR6MhxQwhk4dZNqu5ENee\n",
       "+Yo+KTWzvnX4DlHjFrkQs9+vODV9qO06K84WtoOdiSliitlYk7DECOThe3365z9kYWFjNiMrFsB0\n",
       "vRLN8wx2DMROKv9g5RquXhgnKmPycCMFIP+fKmMsb0nY5ZBKnRpuGTNMMSdT7Z+SrndgV5H0PMxV\n",
       "5ZzQlSTKFa9DFdgYEk/3DbxSNu0LAZr9n5CeYLaZsuCXSaB2QNgnLjqckWapLNzTg5KLHuNN/nqa\n",
       "U1R1jkxi56PwYqIcBdx4Hsivc1Euk37uY/dwkRSEZVYHK0LgdmCDgAAAAhRBm5ZJqEFsmUwId//+\n",
       "qZYAFC9w99WM0QZdqf3YWoR5eGZXb/jnmv0EfeQAFTYRzzlW/hUg+OUtFfZQbtbZ/KMq9Mk4DTO6\n",
       "V0cTWljtD72HkTnRrSo+pLPD7Qr092GcgkrC3wRFS2z2QjI1HAQ2bz/0gtDNoFB5xP/2TR/w7shv\n",
       "GNZS2cwCUUt5BNIoNVfnuqe/J/BpdxlUkHpu6ywPqCQZVZ8LPa+VZQ64w7SOYvovgFECbwMB/0lA\n",
       "U1rUeKv2ZpE+ZqX6YqxX/rmkoFnIi0mwtIc8ZE4ptWgzNK2ZnWzCrnXLcaBqbaclP49HLWCbTumT\n",
       "QrufQ6C7VnPbNYK0ycjYdrsSfhfA2USv9UF6MmBlb/L5curxe8zqkm5n+wt1zLe7RrK8uFH4X6FQ\n",
       "dG/EQnFPukv53RzZCUUQzg3GlFWdYVTdT8WY3s1EoEGzQwYCZLZmv6uCvCZS59VyzFHIU7vqEJGQ\n",
       "9BOP5CWiF/EOFMtFLFYx3wISX7YLesPTnpbyC3S1NJ9H0NfcOwNK/3mqP9hNl61HZY4cQeWn2Aq1\n",
       "IWhsz2ZO8azMMoBGmupvC5TwLZFS3vuZ9k8LXUsXskwiOMoe1enODUTr0LeTPa2P+XS1+rugy1Hq\n",
       "FILWzjfcnmxAjPb3RIMkgK7hBcYnvvfvjMxTetL6+rldDEibUHBJTT+X09ZfWbj8M0KDeP6ySpuN\n",
       "ByPmS7K8AAABhkGftEUVLCv/ACK2rc1vqCfGrTwKzvOO7CXe5dASE2XC/GNGH5tjS3nz5dKcFoyD\n",
       "cTFO+dYvbGCuPndj2BMUd5bBu+TwlMSqWnNyQXkwKY/L8QbFDNeYqbvLTjQC7y3Y+c7zPDBhJh89\n",
       "4gZur+h+isniAtC8XqzEZCtpWTjkBWbQ+voitFRsrzBYFAslx5Nao0AqgB30ZnJVPHMYFT3iSou2\n",
       "MueDB87OFSUuOwWfwYShHx4Stxeb1GnHsE1ksgH4IVq55NSL4G2/amnQYDH+K5nZ99nLyQg7G87Z\n",
       "o8UdiLr7ZJXQLEFKlleszKlv0tm477cvBUpfEUeNPMTQ5tvMn4TkMJMx35K+31yYJldfINvrabwr\n",
       "YKuQ26y6PNbEXhv8peYLnArPL5aDVcbPjqLqx4SUSDtyUuOcUWDToNECdHbgIWWznBSvU+8gvcSD\n",
       "UXgNp3dJZtYjivhm7bb2pbgjdtOAiMcSc0APBiBXsYUtV1xIf0hegpdOaIV+oS1W48vC7ROu7BFm\n",
       "4QAAAW8Bn9VqQr8APvYXA1+jwAfiuSsuW05lgK0oaNJ8AMR1dBIHaE9NiddPAcs6fpL+P61aHoJ3\n",
       "R81QktH1Rfrpn422k3QfxNwqds/8xG/hyJ+zqAErCbCDDPgDgPx2wGZOW2SelezqkQesJ6dOjgKc\n",
       "zcm4IgwLJnVSspzLvumAa65RbubTiyE7kuvMFRyzKPPnLMcDZzYcqOd4Y4vXWPZ5cM1fU8CrHv9L\n",
       "Loo44O3O5UX79X3n44kVyGkEpA1hINkH2UmA2/oRVaJEg5buCsFgr6y94nzx6izrphbuGMTXklw0\n",
       "7i9AK4GzszZMZPPAHeaFZtqSURWfMhBxGe66XP2ppjqSmqAtPdnhekjIcvqnUSTkK6DU3EimEZ0h\n",
       "pVB28vPJwtTILQFdNargBpRQ1dW673aiRxn7n3s89c0L/1lovXb15NE8hzFTOPZgO0juWDX5FMwF\n",
       "pkm2VLBEIu9l6Bl5+g9HCVZ/5f/2VuO7DBl568ewAAACGEGb2kmoQWyZTAhv//6nhAApH9H3paxi\n",
       "kNLXepLCt34NLYdo5Sjur8wdJjVkv5GlraUeaOP6XBXRxFU7oejRc/gJjHpG3BtB/9VON9jN7qvR\n",
       "G52lE3HQVqmtPDGqvwIjyE/YxiX372APe/JdlKXi27B9MM119MQP9sF0zuWfZQe9QZNdQ7omgAB4\n",
       "GJGkABygc1MKoRAensPcBGCmfIOCQ7KGg+Suv25Zhprpblj8u9jkrvlij+e82vjeBSUnEG/ECuIg\n",
       "gfZlOx1EbBp3caRFJclrf5v6jGXDq5pNBxf7VBwu6XvT2w1XxAAllUMkFB5TYRn+8N59LsQWLwgq\n",
       "+x1ni1Lntw4yxU1EbhZZoKpazdvLKtfAHVziSBU7QbuKNi7sQwM1oiel3PgIH5FzlZo1ZoPreMuZ\n",
       "Mn3zK1wEeZnv18ZyA4NLQwkz+mh+XrxvrH2hvwHAdemWV21yrWO9ho8dRB/FAWRqs2ijbSDFtYLG\n",
       "5tFE1ILHKlyp1bXhQzAFHRE5FxVRHPkgTcVgLuKw/gtyxNUN9dRtubRmWdAIuNzKiOBNEUabt+5E\n",
       "5Y1m/0NWvP5Rry8uqG+2cDseBabY4YUTBjIgO3t/8xrW7W5IvGImWprtM2ekeoY1bcSAHn1wNmFk\n",
       "Q/9VIBYtuyPr++r9C6+u/98YXx0zHrYMzbitL/cty2/WrQbZ8ppHHlPPCeV6odxs4hEP8AWnmD6F\n",
       "AAABf0Gf+EUVLC//ABiQJzo3i4fC24AAKwKUK7f5+SHiD4g3iGumKRgfkk0pXXJWqltTF8Ta9vz3\n",
       "JNx0tiiGCNX4DhFCUlO864EIzdrD09z7WQzxS039XTYK/ROJmyXXnvq63erK//hpT0cHbTrjmYMQ\n",
       "0tZTu+dCF7rAJrXMlXLLwYmtaXmQbOyAby9F8Hv4780/IS4wr007gHkbknKhE+11E5wZfCb7exOQ\n",
       "PpUMAf2yIXJtXU8icfWpWM7gzwFPRZReFCTkFUXuRoIImPQDP1oKNDxmQ2oXV722VSlK4yJ8X78w\n",
       "xRlQhzaGnC2+/E2AiTnoxEBuTY4iTJDBCE+h3O0OUkFt80fDRe9qYWsJc2OpNTx/eZamJeIhICXG\n",
       "RRIzOfykmv77k/mTieSOjQkhVCyJV+WJpRT1A4/0sSjpBOdVXV57fI0jk5XaKH2Q41jUMrm2ZvS7\n",
       "RPvn10D/9KIhIxxJKQDNLvqGce6QGIkjg8sKoFL121Dv0gZf8rt0t9U5OalBAAAB3QGeF3RCvwA+\n",
       "9hcaNlKuAA60AlZcp9hcfy/uuj3UD0ZnzzUT/uigsCSW0y6DQUgSFyw+PQyaoU3q/KMIc94fJzl0\n",
       "auOiMAbFi3ZqTqWmgMfRPxFV6WvoqAqmCQJfKlC13Ph6y9mbi5OE518vGAZm+tOjgb5zOtSReM2P\n",
       "EYtU3oifDNgIqIAn7ZNs21ZhfpB3Wv4ru1aTi+5AxE5avoS334+71Vcqx6GT3NSjcjzyqiWV/cF+\n",
       "7z0VUvBDntahqBFsWVREFPn51SH2ldgvb1IDI6INtH28ty2Lw9kaqzWE91pF5YbdD1/IcdsXlwOv\n",
       "idAd+leHNBdA/KNDaSKvu9MZFp/Kj4cnwUU6PRGLVFGhsMs0dskh1Xzd9cY0EAZ4You5KnIQa9MP\n",
       "lBLTOVetgDlNHB4N7RQgBTEjD17sSB3DvyUFAE36YIvy5pVtyXMlk4pu+S4d4ULDnPzrLxazAzE+\n",
       "vN428ChEu+vlXNyIDS+cfbQgwWAztByd1qtLv5CQhnDTo1REmg2OkjGL1BPWQCRve/5Mq4N5V57i\n",
       "sp2l7I+EEljFDnN7zpIJ/dxPDB+bqkNAksSH+vJe6CuO/RNxE8ZJd9KDsqxzjgeCYOl4xTjTR3gk\n",
       "BVH5SAHb+fUxdjkIoAAAAZcBnhlqQr8AH7c4OoTQAXrqjsNKfYXH8v9C1cgqDg2b0i15WzodUWiT\n",
       "4OJNZquaRmu3WtoLXSO//BLF9pBhvcHkLBONmNNU3HBC8aMvo8++XGXsKqsZvZ7VhswCBpbAH/Y6\n",
       "GVY96ZqrFSVS1RhXmoXggkKW/jJ7YiUfBghE1UcUfv18+LlvHBCjDhySG3ureEaOX6OertRVCYD8\n",
       "vRHimjHloEbuRbsZlYj+v7fUnBoVX4WrouPl12PKMZdmQYwGGV+ibMcyKI5ai3kYDXHpRrNyDkw1\n",
       "QVggfYdEeHxAwXGI5+ubAOMBeitD2cIhwQmDTbdL6BLWc0fgbMUQq8m5niBw7F1vL0OJxvS+OG6s\n",
       "TWjOtnLGwRNjkYp5yefozH9+zf+BWw0KTadss74jKQuCASzepz8GkgWnglEkdCT75L1mX5U8ra24\n",
       "RHuQ1OmOuLqRJesu7Uh6ul4GoEJ8xMdr2LT0/zk3nftGY2oHfWVTLrRJm2SJhC5keHoNpfFsWJCU\n",
       "9Ie0NetYrEAOObnNOtiifz+rMEQsJQKYSwAAAX1Bmh5JqEFsmUwIb//+p4QAT/+kE2aqfqLyukKD\n",
       "TCGMJoy6xFPkxViW0P78AJmRFvYOXdDz0Cfqd/oCAd8SAiZysLZTJHe2MUehDldeFs81WYmGYWwQ\n",
       "DxkWD1O1354IZlpYXpoQ8J2DaaJOWopw4vCqDz+/A4CBWCERHh6OHvQxCNjUAPjEYC1jdQvwHQQk\n",
       "XN+QxvRkRMjjD5fQ/7V2u5i7g8X1o/QmUyD0rA+Dat536/T+aAMr2gywVczqo/5XjvNtGQIbjGHo\n",
       "gvYKP3TJmlM43slUcZz1X7CwoI/wln8un3whow+6WsflSAOCeiuhkmaROD570RnCGOZV0zumomRO\n",
       "fItw8D2caEeB8kqRIbl9pCrj4CXBaFYscavFm9RH0NY2Pw2N4KJydGTc+Ci+Vobj7gp1V45qVbW2\n",
       "LwLdAH9BoHz4P9js8uVtXCSP1wiED/ItIu17/OpSmSWW8wxj56lfF3Y2Ghd4gghJ2OqquG0oUKUs\n",
       "NB0jgDDv/CdMDloAAAIfQZ48RRUsL/8ALqJGnHL22XmfCcACGkeYUS5vr4wtvB/v0BotFuAb5Yhy\n",
       "mcu8/dfqElPp+OSODv/44OgVKMTsToDHdVrCS1gZAUXsbCP3PaCc8EvmftO2GTylDW8hdd/mF8XI\n",
       "b8p+TfHkOpxcRCNkH/13VHxvfkXh3lABaQMd/NscR96C83Ngcgy/cCavLDRVPxOIthDRkH+wXkHT\n",
       "IYJ79jWtFId645pa9KkNBeQ75Nvmab9okXSlhIQXLilLuR3fbU486ifHHJ2H+RUrBpcjvhSj/+Gg\n",
       "sXC/L4btQjMNXvxg5ME1mN8J6NuzyNXraJ/HzrGf2AhUEcXzfBa94M0dfmC//szcsmwcOHIV2Qn6\n",
       "/2H7/bE6KFbjnzP2Jd0Wj3K3YNFF9r5p90DPw3t+2bpfuKc06oYlpAgFaZ7DX1ldURX9KqpOsI+8\n",
       "8Foid7y4K+dDB8cG7IpbwcPodyTm5vPCFjG1u813xE0DK94mD+WTWGidmsalpgOsC8sPrLH4K+fS\n",
       "LDL2B6GX7uXnrf++OeoTnB5Czwp9RWGmUMWa/aLbujcepCJRnOKrtWuHXiR6jo/9g9Ov05l64zjs\n",
       "5LRkW+g3ooXQQkfzQq6y9TQCT8TQzE09FcBFUHwylXXXMNWty1y+JHjqCULFUTFVhbhJLwytEB5g\n",
       "TbHqSQPL3CkDeDO7121t8X3hWpxSUXPxmTpUv8wgwDzfeXzuMWQmvVXaX+gHAAABowGeW3RCvwAf\n",
       "YrkhMio/PjtAJQAbhL3qJC9WeF6wLqIapsPgrFe5cPjVdbK0Lt5d1+ytghv6TDMxvQibsHyq1woB\n",
       "p6J6sg+BwD1cNWkYqxYQuHwGmaZTmAhWILsSt9AizipBL1bos/uz63tsyATswCpuKJ6bA4lEBtV/\n",
       "vwDcXoWwy+LU7aAJ8EW12FNiNf6uQithqjqTuWJyaFe2Ahuz0q8j57l5gCzzbx93K6nZZZeSCf49\n",
       "tMcGfUfPY+1lO8H18Eh1PqdjkWkUJdfzioGDQsYXEabON8DKnecDXih2TFMEBnOv2O1avDvwYGgd\n",
       "Uy73dZXMx5ybfHq1yqd16CmMklA32irSnvP4LCQZul9FjkFwpttClr31ijemZFGSIvqICTyAuMnf\n",
       "y/ysiMyIcZs1NV1THojN6ab+1ej6gitmCFmM9bD14gZ7nhOegZAReJfEhq57GS9XNM+Wt/CzlNKO\n",
       "tvDGV7dsWucUdo3jzU8ZVlQgkUCWr12RMYVuKS/O6Bn/XuHc/ErMCOPRizY2cxAyerHDon6PHoRS\n",
       "GdpTgB3GZpp7FFV3AAACPQGeXWpCvwAhwaBogyAB9yxC67cxZPxq2QaYjLkWd7KD9GXltOHS+ovq\n",
       "nXJRkRPRqSkWl13LgvKxJP6ZKjev2c92sezuIalPGVJkCsEtdG9La357gFZrl94kdvVGC8yNxkpT\n",
       "CEZZFpczH3cJ09E4sYqPnEoWvpxwyqkCk+zI9pyTM6/6k9AMsoIUAUV7fdDHsFag/K7UqTT0VRW9\n",
       "qUZmzn3xTPykmFwPLOkxY7TEXh8ssHxooBnqNyV8IVLjnViYmx40iU4crxce9prFJ8Y2IHxQhoN/\n",
       "nieyJ2M3r2+rXl2Ql7xDHeiAM7WOFp1UAoA6aieOEjYJY6XV9x7sGBuWH1ek7Qf4/kdqHzs1dkKJ\n",
       "BczaDEECBy1P0DQkmDqWL4YohlHjcuv+s0DVNqEAgPbBy7cYDVv0/KOuG5L1e8qCEqkHwaA8Lznf\n",
       "vZTn1WshCwPHsyc7Z9oJ5dqa+XzYmm0CrhAul7QOlJGIZrNWiJoA/2rfpYSl3pKirfkxEHBLso/B\n",
       "fMyxVafZmhDRTD62mjikuFr3y0f3YI8hG3mgLGxzvt9ucNu0zcMKhXdaPvQMOVydFOZtP3EqFEuI\n",
       "fLoZGnTTYW8Tzn1iOjM+9PLtXzNg+n8RaHDemL5UEH9IHhC1Yd9+zm/r6TYifEonJYz0oaPlrpBs\n",
       "yurnMyL0f9kqJeZRlMzLNGs2BfIYv9rlKTf1EBYst3aLBo/M0y1xpOikprF2WTFbhyVG9jsnFtT5\n",
       "lmsL7zbINCxH/ukVc8Xzyjw02gAAAlRBmkJJqEFsmUwIX//+jLABODgtc3ACDkIFWwgxZ1kxXe1f\n",
       "go8QD3vgP0ZfbxxluJs/jfHqu3jRUIOUFS8Ju5Ik7VbbQ62qoUO3Y9nKcGGRSRPqITGCdVs9Y4DJ\n",
       "eBbvXvNKO/K9SN30QYXGjxqL32B4zR8Sd1+VV2mJxTq6gjA5TXgD34xcYyJxYVA4tQcVSv5nY7PT\n",
       "3fao6Bnrn8i782uD46zLmE+T5YfOMzAVxmXl67GxpgpN494OBUJ3QRa9z5Gd33ojurdA8gle3a3g\n",
       "gBemRUZaHOxWGkAVznrS3yxGvskPNaeqLemUdsISSclk4O0ocn/9HfUC39qYlTNKAm0tUbvxcgWL\n",
       "vNkM6T4xDAe4CV49ZjFMexVVa4i7x3gqOO0VGdIYrOZKYsSoeog2wsIMeOaw8gjbZhnFmEL99CsG\n",
       "HwUU9qOVqVCLv8vvRM28TfbhbPQOd0sXF2rXu34nHceUzbOmHbGsbi0lTohH0UkKHK7XH6cWmREY\n",
       "0Yg1K3I97KgPQKuAbRmfn0I8CHoFtxOk/b27NEN6e8Xe8TRkq3Vi4Ccik0yzMS5we8qA0Rrda9gp\n",
       "wx5IvKJSeAyEOlg+Mc570MDEEFqAnCNV8ND4tDAm+UW1F58NR91ixPu/IDTb0FLNb/8sk2jHl9O0\n",
       "eec4Gmcnpw17oSb3QmNiL2lbvmgimxA67QkjGwoPklzK6m/Qh1hLpgnpu+qEh7R+TYCdD787dInI\n",
       "M9N30k2dnPMb9gGeJOrvGV6HH347bFODb23/nbdVwXx86dxA6rTdLMk6bRz64CqV4AAAAatBnmBF\n",
       "FSwv/wAvwX/rUgJz92y8WNhs3fFw58gq8VnXtKc1ACczJ/t4rSVPG26DMf/4adq78txma+lIG5+F\n",
       "MnOWOCzdm5tS745TxTZ2K+qnex4j7VCbMNdy7Mk7yW2jljTZ0m4zb2qhc/3Lq1BXG7jgSknWbo3c\n",
       "aj1ow6HuHKlT3CeWzcXBsY4gmUkvzxVjA/g5WmZcc5aYjnP4kEEDVqYWq2e4idcqVuk4HhFmPB3D\n",
       "iJ8oXkPFUShrQtUKV+MXILrCgR26QZvFyiQIPi43Gjvv0TBiVwFlgaolVtVL6y+aHsjC/OPKR9cT\n",
       "UJ8srS9LlnqseIcMVtFWnMb1uOoAt13GxC2r2VH85cvVxGc+57aYXjOKYYLGrUjmGTE+CHSglZjt\n",
       "nB6eeH4NM+vri0FAI7sjea2JWUEIF3Tr4m/yZbUeE23VN10VloE9s15aN8fAjaf+bruRAkuaFele\n",
       "uJPbZGG1g0BV2xZDbn7hgEa7vCh3OHjl6sZOAphTG1K54eRBmJuG9ybB11KyAnEJpjoC/oTx+L8S\n",
       "p9bO+SUrJZn1Dik06QUxNMo6fI7wRI2tAAAB6wGen3RCvwA/e+rwARSyA/ve0ZVc1uPLoxHKAED1\n",
       "peUa7mhX1j6W+auJb8o4BsVzdXNCis/p5f+RMpXA2xZkDmhuADk+8PE+weOucJxCcXvRQBvwbtxT\n",
       "J7CAZ8fnC+w5wa6/aEi/d/6FxfGpjLGe1w3dfcvdoxgru9LzX/h9Hs5G8pmwmu9+emDW5RINQFa7\n",
       "0E4GnI93VI5gX7yVZxTPvCf45Vy/BctfSSgRvJPj8xK5z5pO1lM+E3FqrhHzrV3q0TLSCmPrAPsg\n",
       "fo2mkDoFQ/mXajgdhKdP484WBV/VhDblBaY/o8tLjTITernO0zEmRNkdJ0m3xWHrw6Pj24OjpxuF\n",
       "WX0uGmeSMTb1ApJMG90MJQmrYtDvFNuhLF/ikxszkCH3hla0tCHEqyYb2Pl4yYI4zLHHPDjv/pZB\n",
       "66KSDQ2TJpl4lwJUUi6uNPuZ+cbjj05Ce1RtCEFO0xYG9BzOao/aEff4ZKGMbZF+1AHKNJo0azMp\n",
       "g+9R39QekTzKqWHaVM1hvX1eHWpu0TyTk97glHj0I1XsKt4f/LHWx1wmIl7cGU/697oWAq4LdMas\n",
       "xCjZOTCX1tTHz6A6ULR8frgsUQjAv8meY7MwBcHi3fyLHaRronn0efWSQD5NnnLxk8cXJMiubAeu\n",
       "tMAHWQAwAAAB1QGegWpCvwA/lfXJxMv2GX17BX2OBjjIkVF5kPRbBuLIdcu6TnZ29A30GpDbgKJC\n",
       "ABeoil2z/fGbu2j8rPzO0KZsXrDBWRC4ffuRP8nPfFXp5weTUIXYunQ6cSo2pjYO0Gtf9ojFn5v7\n",
       "NobjzHk91vpANUGQAUegkQuGNiPcz5wbsMk40gFKg2FI+CZUMGTscg5kn9jkXIb7TG/SPw7PKPoI\n",
       "MoICYGKBYZsEC11/HF2vruKM+jeG2ytSbLkOMWe/mFff+vMh60Uw0oz3CHEG+BtJzeK7jZQu3Q33\n",
       "Pp05IJCf1OObgOO0vQt9fx0zvfvyTAch7DHDOBqeMhHCZddZJ31kuYFENOTMrRwY4L6aMgnVfxLy\n",
       "sj5uzDp7tXtDybflXEsC6iT/h4Sc/g5vGF2UI2XvEuIDXVlAwcj1jMZQowESioKXPFUtoP29MxQQ\n",
       "McH6Rdrk/TaIF6iBRjOtrtpnNZcBlQUL4rn0V1cTV3ObSEMtWikTYGS5xLJqUJW6kVrPjdfHZHj8\n",
       "JSNKHWNO90JyVEAsBKwKIMZh2nueQKyfQ5e0/ag2Mr4M1uFdVwd0AmZ3oEKSiFu0YcIBbDc0jxr2\n",
       "Eg7QVH0tX1lRut36vajwTmqD9cmkr3EAAAGgQZqDSahBbJlMCFf//jhABLvghxO0de4jYvDO7eOb\n",
       "ajPdhQ6CwRsTom24+6QD27AAOqacgc3lVyV31wfmLYv50djN1GKPacPHUZlhLCGuZ2NeafR4EMJ0\n",
       "hOPqmUWbPJEtVgEN4vpuijWwfiT3AzgLp9UomlYfBC+Edrd6fhV4C95YPJm99Vv+H9dCj+4VnmNR\n",
       "s7IqvuBPgafrfbHFdzBIiTZb8qT1GTl97cOyNHbCbGBG7znI7R9Oi0CmCMFHn8d+aiTIr8YwappO\n",
       "tNo67URtPX1LMkBPWZpLCX4Zz7hI0BE1RMMETXfFC4z2JPWaVctFEdJVPhyOA6CzoJE52uLXUimE\n",
       "LMFgsJIg6hBt+X3a8WI8Nk8EKvB19Fker8yp2nWjh/CgHJQ0jLxHLPfpSYJQUp54LnH1zS2WCYNY\n",
       "a/LyLFbRZLr1IQXFGNX5y7caABhi45zsWgnUwlXHAc4MEgUUUBdc5oQdIO7NqOuDKjM2yAm9+Nz6\n",
       "WBf6RVNhOqa+h7brUEWmV7xzZIRKXZl/HlhPAPbVOhmPAaJX1cXEM+qv7qAAAAe+bW9vdgAAAGxt\n",
       "dmhkAAAAAAAAAAAAAAAAAAAD6AAAD6AAAQAAAQAAAAAAAAAAAAAAAAEAAAAAAAAAAAAAAAAAAAAB\n",
       "AAAAAAAAAAAAAAAAAABAAAAAAAAAAAAAAAAAAAAAAAAAAAAAAAAAAAAAAAAAAgAABuh0cmFrAAAA\n",
       "XHRraGQAAAADAAAAAAAAAAAAAAABAAAAAAAAD6AAAAAAAAAAAAAAAAAAAAAAAAEAAAAAAAAAAAAA\n",
       "AAAAAAABAAAAAAAAAAAAAAAAAABAAAAAAbAAAAEgAAAAAAAkZWR0cwAAABxlbHN0AAAAAAAAAAEA\n",
       "AA+gAAAEAAABAAAAAAZgbWRpYQAAACBtZGhkAAAAAAAAAAAAAAAAAAAyAAAAyABVxAAAAAAALWhk\n",
       "bHIAAAAAAAAAAHZpZGUAAAAAAAAAAAAAAABWaWRlb0hhbmRsZXIAAAAGC21pbmYAAAAUdm1oZAAA\n",
       "AAEAAAAAAAAAAAAAACRkaW5mAAAAHGRyZWYAAAAAAAAAAQAAAAx1cmwgAAAAAQAABctzdGJsAAAA\n",
       "s3N0c2QAAAAAAAAAAQAAAKNhdmMxAAAAAAAAAAEAAAAAAAAAAAAAAAAAAAAAAbABIABIAAAASAAA\n",
       "AAAAAAABAAAAAAAAAAAAAAAAAAAAAAAAAAAAAAAAAAAAAAAAAAAAGP//AAAAMWF2Y0MBZAAV/+EA\n",
       "GGdkABWs2UGwloQAAAMABAAAAwDIPFi2WAEABmjr48siwAAAABx1dWlka2hA8l8kT8W6OaUbzwMj\n",
       "8wAAAAAAAAAYc3R0cwAAAAAAAAABAAAAZAAAAgAAAAAUc3RzcwAAAAAAAAABAAAAAQAAAxBjdHRz\n",
       "AAAAAAAAAGAAAAABAAAEAAAAAAEAAAoAAAAAAQAABAAAAAABAAAAAAAAAAEAAAIAAAAAAQAACgAA\n",
       "AAABAAAEAAAAAAEAAAAAAAAAAQAAAgAAAAABAAAIAAAAAAIAAAIAAAAAAQAACgAAAAABAAAEAAAA\n",
       "AAEAAAAAAAAAAQAAAgAAAAABAAAKAAAAAAEAAAQAAAAAAQAAAAAAAAABAAACAAAAAAEAAAYAAAAA\n",
       "AQAAAgAAAAABAAAIAAAAAAIAAAIAAAAAAQAACgAAAAABAAAEAAAAAAEAAAAAAAAAAQAAAgAAAAAB\n",
       "AAAIAAAAAAIAAAIAAAAAAQAACgAAAAABAAAEAAAAAAEAAAAAAAAAAQAAAgAAAAABAAAKAAAAAAEA\n",
       "AAQAAAAAAQAAAAAAAAABAAACAAAAAAEAAAoAAAAAAQAABAAAAAABAAAAAAAAAAEAAAIAAAAAAQAA\n",
       "CgAAAAABAAAEAAAAAAEAAAAAAAAAAQAAAgAAAAABAAAKAAAAAAEAAAQAAAAAAQAAAAAAAAABAAAC\n",
       "AAAAAAEAAAoAAAAAAQAABAAAAAABAAAAAAAAAAEAAAIAAAAAAQAACgAAAAABAAAEAAAAAAEAAAAA\n",
       "AAAAAQAAAgAAAAABAAAKAAAAAAEAAAQAAAAAAQAAAAAAAAABAAACAAAAAAEAAAoAAAAAAQAABAAA\n",
       "AAABAAAAAAAAAAEAAAIAAAAAAQAACgAAAAABAAAEAAAAAAEAAAAAAAAAAQAAAgAAAAABAAAKAAAA\n",
       "AAEAAAQAAAAAAQAAAAAAAAABAAACAAAAAAEAAAoAAAAAAQAABAAAAAABAAAAAAAAAAEAAAIAAAAA\n",
       "AQAACgAAAAABAAAEAAAAAAEAAAAAAAAAAQAAAgAAAAABAAAIAAAAAAIAAAIAAAAAAQAACgAAAAAB\n",
       "AAAEAAAAAAEAAAAAAAAAAQAAAgAAAAABAAAKAAAAAAEAAAQAAAAAAQAAAAAAAAABAAACAAAAAAEA\n",
       "AAoAAAAAAQAABAAAAAABAAAAAAAAAAEAAAIAAAAAAQAABAAAAAAcc3RzYwAAAAAAAAABAAAAAQAA\n",
       "AGQAAAABAAABpHN0c3oAAAAAAAAAAAAAAGQAAAj4AAADnQAAAj0AAAE3AAACKgAAAgsAAAGSAAAB\n",
       "MgAAAk8AAAHbAAABdgAAAf8AAAIHAAAB3wAAAfIAAAIlAAAB8AAAASgAAAKfAAABpQAAAkwAAAFg\n",
       "AAAC5QAAAXAAAAFUAAACmgAAAa8AAAFNAAABkAAAAi4AAAEQAAABrgAAAggAAAHFAAABggAAAccA\n",
       "AAIGAAABtwAAAZMAAAHmAAAB5AAAAeoAAAH2AAABZwAAApkAAAIDAAACOgAAAaYAAAHzAAABuwAA\n",
       "AeQAAAHaAAACVQAAAZcAAAGdAAACXQAAAi4AAAGqAAABiQAAAicAAAHwAAABdAAAAZgAAAHJAAAB\n",
       "+wAAAhgAAAFJAAABMAAAAi4AAAIiAAABigAAAekAAAIJAAABhQAAAaMAAAGLAAACYAAAAYAAAAGi\n",
       "AAABpQAAAe0AAAC3AAACNwAAAhQAAAIYAAABigAAAXMAAAIcAAABgwAAAeEAAAGbAAABgQAAAiMA\n",
       "AAGnAAACQQAAAlgAAAGvAAAB7wAAAdkAAAGkAAAAFHN0Y28AAAAAAAAAAQAAACwAAABidWR0YQAA\n",
       "AFptZXRhAAAAAAAAACFoZGxyAAAAAAAAAABtZGlyYXBwbAAAAAAAAAAAAAAAAC1pbHN0AAAAJal0\n",
       "b28AAAAdZGF0YQAAAAEAAAAATGF2ZjU4LjI5LjEwMA==\n",
       "\">\n",
       "  Your browser does not support the video tag.\n",
       "</video>"
      ],
      "text/plain": [
       "<IPython.core.display.HTML object>"
      ]
     },
     "execution_count": 16,
     "metadata": {},
     "output_type": "execute_result"
    },
    {
     "data": {
      "image/png": "[encoded data removed]",
      "text/plain": [
       "<Figure size 432x288 with 1 Axes>"
      ]
     },
     "metadata": {
      "needs_background": "light"
     },
     "output_type": "display_data"
    }
   ],
   "source": [
    "spike_data = spikegen.rate(data_it, num_steps=num_steps, gain=0.25)\n",
    "\n",
    "spike_data_sample2 = spike_data[:, 0, 0]\n",
    "fig, ax = plt.subplots()\n",
    "anim = splt.animator(spike_data_sample2, fig, ax)\n",
    "HTML(anim.to_html5_video())"
   ]
  },
  {
   "cell_type": "code",
   "execution_count": 17,
   "metadata": {
    "id": "dicJdyG2obY5",
    "pycharm": {
     "name": "#%%\n"
    }
   },
   "outputs": [],
   "source": [
    "# Uncomment for optional save\n",
    "# anim.save(\"spike_mnist_test2.mp4\")"
   ]
  },
  {
   "cell_type": "markdown",
   "metadata": {
    "id": "JgPZBNIaobY5"
   },
   "source": [
    "Now average the spikes out over time and reconstruct the input images."
   ]
  },
  {
   "cell_type": "code",
   "execution_count": 18,
   "metadata": {
    "id": "e4ikMCQLobY6",
    "pycharm": {
     "name": "#%%\n"
    }
   },
   "outputs": [
    {
     "data": {
      "image/png": "[encoded data removed]",
      "text/plain": [
       "<Figure size 432x288 with 2 Axes>"
      ]
     },
     "metadata": {},
     "output_type": "display_data"
    }
   ],
   "source": [
    "plt.figure(facecolor=\"w\")\n",
    "plt.subplot(1,2,1)\n",
    "plt.imshow(spike_data_sample.mean(axis=0).reshape((28,-1)).cpu(), cmap='binary')\n",
    "plt.axis('off')\n",
    "plt.title('Gain = 1')\n",
    "\n",
    "plt.subplot(1,2,2)\n",
    "plt.imshow(spike_data_sample2.mean(axis=0).reshape((28,-1)).cpu(), cmap='binary')\n",
    "plt.axis('off')\n",
    "plt.title('Gain = 0.25')\n",
    "\n",
    "plt.show()"
   ]
  },
  {
   "cell_type": "markdown",
   "metadata": {
    "id": "6bbbI1o2obY7",
    "pycharm": {
     "name": "#%% md\n"
    }
   },
   "source": [
    "The case where `gain=0.25` is lighter than where `gain=1`, as spiking probability has been reduced by a factor of $\\times 4$."
   ]
  },
  {
   "cell_type": "markdown",
   "metadata": {
    "id": "WpfpKe3zobY8",
    "pycharm": {
     "name": "#%% md\n"
    }
   },
   "source": [
    "#### 2.2.2 Raster Plots\n",
    "Alternatively, we can generate a raster plot of an input sample. This requires reshaping the sample into a 2-D tensor, where 'time' is the first dimension. Pass this sample into the function `spikeplot.raster`. "
   ]
  },
  {
   "cell_type": "code",
   "execution_count": 19,
   "metadata": {
    "id": "KCpsLPySobY8",
    "pycharm": {
     "name": "#%%\n"
    }
   },
   "outputs": [
    {
     "data": {
      "image/png": "[encoded data removed]",
      "text/plain": [
       "<Figure size 720x360 with 1 Axes>"
      ]
     },
     "metadata": {},
     "output_type": "display_data"
    }
   ],
   "source": [
    "# Reshape\n",
    "spike_data_sample2 = spike_data_sample2.reshape((num_steps, -1))\n",
    "\n",
    "# raster plot\n",
    "fig = plt.figure(facecolor=\"w\", figsize=(10, 5))\n",
    "ax = fig.add_subplot(111)\n",
    "splt.raster(spike_data_sample2, ax, s=1.5, c=\"black\")\n",
    "\n",
    "plt.title(\"Input Layer\")\n",
    "plt.xlabel(\"Time step\")\n",
    "plt.ylabel(\"Neuron Number\")\n",
    "plt.show()"
   ]
  },
  {
   "cell_type": "markdown",
   "metadata": {
    "id": "WvhIdrAZobY9",
    "pycharm": {
     "name": "#%% md\n"
    }
   },
   "source": [
    "The following code snippet shows how to index into one single neuron. \n",
    "Depending on the input data, you may need to try\n",
    "a few different neurons between 0 & 784 before finding one that\n",
    "spikes."
   ]
  },
  {
   "cell_type": "code",
   "execution_count": 20,
   "metadata": {
    "id": "R3kY3uoOobY9",
    "pycharm": {
     "name": "#%%\n"
    }
   },
   "outputs": [
    {
     "data": {
      "image/png": "[encoded data removed]",
      "text/plain": [
       "<Figure size 576x72 with 1 Axes>"
      ]
     },
     "metadata": {},
     "output_type": "display_data"
    }
   ],
   "source": [
    "idx = 210  # index into 210th neuron\n",
    "\n",
    "fig = plt.figure(facecolor=\"w\", figsize=(8, 1))\n",
    "ax = fig.add_subplot(111)\n",
    "\n",
    "splt.raster(spike_data_sample.reshape(num_steps, -1)[:, idx].unsqueeze(1), ax, s=100, c=\"black\", marker=\"|\")\n",
    "\n",
    "plt.title(\"Input Neuron\")\n",
    "plt.xlabel(\"Time step\")\n",
    "plt.yticks([])\n",
    "plt.show()"
   ]
  },
  {
   "cell_type": "markdown",
   "metadata": {
    "id": "1lxp91nlobY-",
    "pycharm": {
     "name": "#%% md\n"
    }
   },
   "source": [
    "#### 2.2.3 Summary of Rate Coding\n",
    "The idea of rate coding is actually quite controversial. Although we are fairly confident rate coding takes place at our sensory periphery, we are not convinced that the cortex globally encodes information as spike rates. A couple of compelling reasons why include:\n",
    "\n",
    "*   **Power Consumption:** Nature optimised for efficiency. Multiple spikes are needed to achieve any sort of task, and each spike consumes power. In fact, [Olshausen and Field's work in \"What is the other 85% of V1 doing?\"](http://www.rctn.org/bruno/papers/V1-chapter.pdf) demonstrates that rate-coding can only explain, at most, the activity of 15% of neurons in the primary visual cortex (V1). It is unlikely to be the only mechanism within the brain, which is both resource-constrained and highly efficient.\n",
    "\n",
    "\n",
    "*   **Reaction Response Times:** We know that the reaction time of a human is roughly around 250ms. If the average firing rate of a neuron in the human brain is on the order of 10Hz, then we can only process about 2 spikes within our reaction timescale.\n",
    "\n",
    "So why, then, might we use rate codes if they are not optimal for power efficiency or latency? Even if our brain doesn't process data as a rate, we are fairly sure that our biological sensors do. The power/latency disadvantages are partially offset by showing huge noise robustness: it's fine if some of the spikes fail to generate, because there will be plenty more where they came from.\n",
    "\n",
    "Additionally, you may have heard of the [Hebbian mantra of \"neurons that fire together, wire together\"](https://doi.org/10.2307/1418888). If there is plenty of spiking, this may suggest there is plenty of learning. In some cases where training SNNs proves to be challenging, encouraging more firing via a rate code is one possible solution.\n",
    "\n",
    "Rate coding is almost certainly working in conjunction with other encoding schemes in the brain. We will consider these other encoding mechanisms in the following sections. \n",
    "This covers the `spikegen.rate` function. Further information [can be found in the documentation here](https://snntorch.readthedocs.io/en/latest/snntorch.spikegen.html).\n",
    "\n"
   ]
  },
  {
   "cell_type": "markdown",
   "metadata": {
    "id": "enzqRvuNobY-",
    "pycharm": {
     "name": "#%% md\n"
    }
   },
   "source": [
    "### 2.3 Latency Coding of MNIST\n",
    "Temporal codes capture information about the precise firing time of neurons; a single spike carries much more meaning than in rate codes which rely on firing frequency. While this opens up more susceptibility to noise, it can also decrease the power consumed by the hardware running SNN algorithms by orders of magnitude. \n",
    "\n",
    "`spikegen.latency` is a function that allows each input to fire at most **once** during the full time sweep.\n",
    "Features closer to `1` will fire earlier and features closer to `0` will fire later. I.e., in our MNIST case, bright pixels will fire earlier and dark pixels will fire later. \n",
    "\n",
    "The following block derives how this works. If you've forgotten circuit theory and/or the math means nothing to you, then don't worry! All that matters is: **big** input means **fast** spike; **small** input means **late** spike.\n"
   ]
  },
  {
   "cell_type": "markdown",
   "metadata": {
    "id": "d5yZdcX4So-W"
   },
   "source": [
    "---\n",
    "**Optional: Derivation of Latency Code Mechanism**\n",
    "\n",
    "By default, spike timing is calculated by treating the input feature as the current injection $I_{in}$ into an RC circuit. This current moves charge onto the capacitor, which increases $V(t)$. We assume that there is a trigger voltage, $V_{thr}$, which once reached, generates a spike. The question then becomes: *for a given input current (and equivalently, input feature), how long does it take for a spike to be generated?*\n",
    "\n",
    "Starting with Kirchhoff's current law, $I_{in} = I_R + I_C$, the rest of the derivation leads us to a logarithmic relationship between time and the input. \n",
    "\n",
    "<center>\n",
    "<img src='https://github.com/jeshraghian/snntorch/blob/master/docs/_static/img/examples/tutorial1/1_2_4_latencyrc.png?raw=true' width=\"600\">\n",
    "</center>\n",
    "\n",
    "---"
   ]
  },
  {
   "cell_type": "markdown",
   "metadata": {
    "id": "DqJlK7AhjGHw"
   },
   "source": [
    "The following function uses the above result to convert a feature of intensity $X_{ij}\\in [0,1]$ into a latency coded response $L_{ij}$. "
   ]
  },
  {
   "cell_type": "code",
   "execution_count": 21,
   "metadata": {
    "id": "J06UgGHKTkea"
   },
   "outputs": [],
   "source": [
    "def convert_to_time(data, tau=5, threshold=0.01):\n",
    "  spike_time = tau * torch.log(data / (data - threshold))\n",
    "  return spike_time "
   ]
  },
  {
   "cell_type": "markdown",
   "metadata": {
    "id": "voBg5kujkGFQ"
   },
   "source": [
    "Now, use the above function to visualize the relationship between input feature intensity and its corresponding spike time.\n"
   ]
  },
  {
   "cell_type": "code",
   "execution_count": 22,
   "metadata": {
    "id": "52PwqfpKkK-I"
   },
   "outputs": [
    {
     "data": {
      "image/png": "[encoded data removed]",
      "text/plain": [
       "<Figure size 432x288 with 1 Axes>"
      ]
     },
     "metadata": {
      "needs_background": "light"
     },
     "output_type": "display_data"
    }
   ],
   "source": [
    "raw_input = torch.arange(0, 5, 0.05) # tensor from 0 to 5\n",
    "spike_times = convert_to_time(raw_input)\n",
    "\n",
    "plt.plot(raw_input, spike_times)\n",
    "plt.xlabel('Input Value')\n",
    "plt.ylabel('Spike Time (s)')\n",
    "plt.show()"
   ]
  },
  {
   "cell_type": "markdown",
   "metadata": {
    "id": "P972FBhmluv3"
   },
   "source": [
    "The smaller the value, the later the spike occurs with exponential dependence.\n",
    "\n",
    "The vector `spike_times` contains the time at which spikes are triggered, rather than a sparse tensor that contains the spikes themselves (1's and 0's). \n",
    "When running an SNN simulation, we need the 1/0 representation to obtain all of the advantages of using spikes.\n",
    "This whole process can be automated using `spikegen.latency`, where we pass a minibatch from the MNIST dataset in `data_it`:"
   ]
  },
  {
   "cell_type": "code",
   "execution_count": 23,
   "metadata": {
    "id": "m835u23QobY-",
    "pycharm": {
     "name": "#%%\n"
    }
   },
   "outputs": [],
   "source": [
    "spike_data = spikegen.latency(data_it, num_steps=100, tau=5, threshold=0.01)"
   ]
  },
  {
   "cell_type": "markdown",
   "metadata": {
    "id": "AKDPjTvKobY_",
    "pycharm": {
     "name": "#%% md\n"
    }
   },
   "source": [
    "Some of the arguments include:\n",
    "\n",
    "* `tau`:  the RC time constant of the circuit. By default, the input features are treated as a constant current injected into an RC circuit. A higher ``tau`` will induce slower firing.\n",
    "* `threshold`: the membrane potential firing threshold. Input values below this threshold do not have a closed-form solution, as the input current is insufficient to drive the membrane up to the threshold. All values below the threshold are clipped and assigned to the final time step."
   ]
  },
  {
   "cell_type": "markdown",
   "metadata": {
    "id": "VGH7b49SobY_",
    "pycharm": {
     "name": "#%% md\n"
    }
   },
   "source": [
    "#### 2.3.1 Raster plot"
   ]
  },
  {
   "cell_type": "code",
   "execution_count": 24,
   "metadata": {
    "id": "kypMtfF7obY_",
    "pycharm": {
     "name": "#%%\n"
    }
   },
   "outputs": [
    {
     "data": {
      "image/png": "[encoded data removed]",
      "text/plain": [
       "<Figure size 720x360 with 1 Axes>"
      ]
     },
     "metadata": {},
     "output_type": "display_data"
    }
   ],
   "source": [
    "fig = plt.figure(facecolor=\"w\", figsize=(10, 5))\n",
    "ax = fig.add_subplot(111)\n",
    "splt.raster(spike_data[:, 0].view(num_steps, -1), ax, s=25, c=\"black\")\n",
    "\n",
    "plt.title(\"Input Layer\")\n",
    "plt.xlabel(\"Time step\")\n",
    "plt.ylabel(\"Neuron Number\")\n",
    "plt.show()\n",
    "\n",
    "# optional save\n",
    "# fig.savefig('destination_path.png', format='png', dpi=300)"
   ]
  },
  {
   "cell_type": "markdown",
   "metadata": {
    "id": "Hm1--DHYobZA",
    "pycharm": {
     "name": "#%% md\n"
    }
   },
   "source": [
    "To make sense of the raster plot, note that high intensity features fire first, whereas low intensity features fire last:\n",
    "\n",
    "<center>\n",
    "<img src='https://github.com/jeshraghian/snntorch/blob/master/docs/_static/img/examples/tutorial1/1_2_5_latencyraster.png?raw=true' width=\"800\">\n",
    "</center>\n",
    "\n",
    "The logarithmic code coupled with the lack of diverse input values (i.e., the lack of midtone/grayscale features) causes significant clustering in two areas of the plot.\n",
    "The bright pixels induce firing at the start of the run, and the dark pixels at the end.\n",
    "We can increase `tau` to slow down the spike times, or linearize the spike times by setting the optional argument `linear=True`."
   ]
  },
  {
   "cell_type": "code",
   "execution_count": 25,
   "metadata": {
    "id": "ZX8azDNWobZA",
    "pycharm": {
     "name": "#%%\n"
    }
   },
   "outputs": [
    {
     "data": {
      "image/png": "[encoded data removed]",
      "text/plain": [
       "<Figure size 720x360 with 1 Axes>"
      ]
     },
     "metadata": {},
     "output_type": "display_data"
    }
   ],
   "source": [
    "spike_data = spikegen.latency(data_it, num_steps=100, tau=5, threshold=0.01, linear=True)\n",
    "\n",
    "fig = plt.figure(facecolor=\"w\", figsize=(10, 5))\n",
    "ax = fig.add_subplot(111)\n",
    "splt.raster(spike_data[:, 0].view(num_steps, -1), ax, s=25, c=\"black\")\n",
    "plt.title(\"Input Layer\")\n",
    "plt.xlabel(\"Time step\")\n",
    "plt.ylabel(\"Neuron Number\")\n",
    "plt.show()"
   ]
  },
  {
   "cell_type": "markdown",
   "metadata": {
    "id": "pZuk6g3NobZB",
    "pycharm": {
     "name": "#%% md\n"
    }
   },
   "source": [
    "The spread of firing times is much more evenly distributed now. This is achieved by linearizing the logarithmic equation according to the rules shown below. Unlike the RC model, there is no physical basis for the model. It's just simpler.\n",
    "\n",
    "<center>\n",
    "<img src='https://github.com/jeshraghian/snntorch/blob/master/docs/_static/img/examples/tutorial1/1_2_6_latencylinear.png?raw=true' width=\"600\">\n",
    "</center>\n",
    "\n",
    "\n",
    "But note how all firing occurs within the first ~5 time steps, whereas the simulation range is 100 time steps. \n",
    "This indicates that we have a lot of redundant time steps doing nothing. This can be solved by either increasing `tau` to slow down the time constant, or setting the optional argument `normalize=True` to span the full range of `num_steps`."
   ]
  },
  {
   "cell_type": "code",
   "execution_count": 26,
   "metadata": {
    "id": "RLgntdwSobZB",
    "pycharm": {
     "name": "#%%\n"
    }
   },
   "outputs": [
    {
     "data": {
      "image/png": "[encoded data removed]",
      "text/plain": [
       "<Figure size 720x360 with 1 Axes>"
      ]
     },
     "metadata": {},
     "output_type": "display_data"
    }
   ],
   "source": [
    "spike_data = spikegen.latency(data_it, num_steps=100, tau=5, threshold=0.01,\n",
    "                              normalize=True, linear=True)\n",
    "\n",
    "fig = plt.figure(facecolor=\"w\", figsize=(10, 5))\n",
    "ax = fig.add_subplot(111)\n",
    "splt.raster(spike_data[:, 0].view(num_steps, -1), ax, s=25, c=\"black\")\n",
    "\n",
    "plt.title(\"Input Layer\")\n",
    "plt.xlabel(\"Time step\")\n",
    "plt.ylabel(\"Neuron Number\")\n",
    "plt.show()"
   ]
  },
  {
   "cell_type": "markdown",
   "metadata": {
    "id": "1EFIqaylobZC",
    "pycharm": {
     "name": "#%% md\n"
    }
   },
   "source": [
    "One major advantage of latency coding over rate coding is sparsity. If neurons are constrained to firing a maximum of once over the time course of interest, then this promotes low-power operation.\n",
    "\n",
    "In the scenario shown above, a majority of the spikes occur at the final time step, where the input features fall below the threshold. In a sense, the dark background of the MNIST sample holds no useful information. \n",
    "\n",
    "We can remove these redundant features by setting `clip=True`."
   ]
  },
  {
   "cell_type": "code",
   "execution_count": 27,
   "metadata": {
    "id": "uowgb4FPobZC",
    "pycharm": {
     "name": "#%%\n"
    }
   },
   "outputs": [
    {
     "data": {
      "image/png": "[encoded data removed]",
      "text/plain": [
       "<Figure size 720x360 with 1 Axes>"
      ]
     },
     "metadata": {},
     "output_type": "display_data"
    }
   ],
   "source": [
    "spike_data = spikegen.latency(data_it, num_steps=100, tau=5, threshold=0.01, \n",
    "                              clip=True, normalize=True, linear=True)\n",
    "\n",
    "fig = plt.figure(facecolor=\"w\", figsize=(10, 5))\n",
    "ax = fig.add_subplot(111)\n",
    "splt.raster(spike_data[:, 0].view(num_steps, -1), ax, s=25, c=\"black\")\n",
    "\n",
    "plt.title(\"Input Layer\")\n",
    "plt.xlabel(\"Time step\")\n",
    "plt.ylabel(\"Neuron Number\")\n",
    "plt.show()"
   ]
  },
  {
   "cell_type": "markdown",
   "metadata": {
    "id": "W7gN02QOobZC",
    "pycharm": {
     "name": "#%% md\n"
    }
   },
   "source": [
    "That looks much better!"
   ]
  },
  {
   "cell_type": "markdown",
   "metadata": {
    "id": "XG9erdfxobZD",
    "pycharm": {
     "name": "#%% md\n"
    }
   },
   "source": [
    "#### 2.3.2 Animation\n",
    "We will run the exact same code block as before to create an animation."
   ]
  },
  {
   "cell_type": "code",
   "execution_count": 28,
   "metadata": {
    "id": "BjLC1Pl_obZD",
    "pycharm": {
     "name": "#%%\n"
    }
   },
   "outputs": [
    {
     "name": "stdout",
     "output_type": "stream",
     "text": [
      "torch.Size([100, 28, 28])\n"
     ]
    }
   ],
   "source": [
    "spike_data_sample = spike_data[:, 0, 0]\n",
    "print(spike_data_sample.size())"
   ]
  },
  {
   "cell_type": "code",
   "execution_count": 29,
   "metadata": {
    "id": "uwVwMVpzobZD",
    "pycharm": {
     "name": "#%%\n"
    }
   },
   "outputs": [
    {
     "data": {
      "text/html": [
       "<video width=\"432\" height=\"288\" controls autoplay loop>\n",
       "  <source type=\"video/mp4\" src=\"data:video/mp4;base64,AAAAHGZ0eXBNNFYgAAACAGlzb21pc28yYXZjMQAAAAhmcmVlAAAuE21kYXQAAAKuBgX//6rcRem9\n",
       "5tlIt5Ys2CDZI+7veDI2NCAtIGNvcmUgMTU1IHIyOTE3IDBhODRkOTggLSBILjI2NC9NUEVHLTQg\n",
       "QVZDIGNvZGVjIC0gQ29weWxlZnQgMjAwMy0yMDE4IC0gaHR0cDovL3d3dy52aWRlb2xhbi5vcmcv\n",
       "eDI2NC5odG1sIC0gb3B0aW9uczogY2FiYWM9MSByZWY9MyBkZWJsb2NrPTE6MDowIGFuYWx5c2U9\n",
       "MHgzOjB4MTEzIG1lPWhleCBzdWJtZT03IHBzeT0xIHBzeV9yZD0xLjAwOjAuMDAgbWl4ZWRfcmVm\n",
       "PTEgbWVfcmFuZ2U9MTYgY2hyb21hX21lPTEgdHJlbGxpcz0xIDh4OGRjdD0xIGNxbT0wIGRlYWR6\n",
       "b25lPTIxLDExIGZhc3RfcHNraXA9MSBjaHJvbWFfcXBfb2Zmc2V0PS0yIHRocmVhZHM9OSBsb29r\n",
       "YWhlYWRfdGhyZWFkcz0xIHNsaWNlZF90aHJlYWRzPTAgbnI9MCBkZWNpbWF0ZT0xIGludGVybGFj\n",
       "ZWQ9MCBibHVyYXlfY29tcGF0PTAgY29uc3RyYWluZWRfaW50cmE9MCBiZnJhbWVzPTMgYl9weXJh\n",
       "bWlkPTIgYl9hZGFwdD0xIGJfYmlhcz0wIGRpcmVjdD0xIHdlaWdodGI9MSBvcGVuX2dvcD0wIHdl\n",
       "aWdodHA9MiBrZXlpbnQ9MjUwIGtleWludF9taW49MjUgc2NlbmVjdXQ9NDAgaW50cmFfcmVmcmVz\n",
       "aD0wIHJjX2xvb2thaGVhZD00MCByYz1jcmYgbWJ0cmVlPTEgY3JmPTIzLjAgcWNvbXA9MC42MCBx\n",
       "cG1pbj0wIHFwbWF4PTY5IHFwc3RlcD00IGlwX3JhdGlvPTEuNDAgYXE9MToxLjAwAIAAAAUXZYiE\n",
       "ADf//vbw/gU2O5jQlxHN6J0zH78VuLo0N73OAAADAAA33OZE/sqTBubAAALgmC7L4SFUAAfhAscm\n",
       "5bJZnZTB5Nap1flGt/pbkllXXwqb4LGeJf597jY4ujMIlSKjbW2SY3mP//IdzPKwtq3nmkH5ubMN\n",
       "PTtyGN6yvzdY9dsZfqHWomrv2dRFx6SsfSo8tbw4rO4VF5Jm7wAKABTZB7ARvIykFxzJbadCrmsu\n",
       "KUPSbTlF79Z3iVnElrEHPtcQfR7k6WWHRX9ei8InOOTj44zPHr8KSTjHrFw32gR6pSHIQDPiXRwG\n",
       "kPSCGzFymLpDcAObFDsXGU3ivZ9IYPEXe7A1fy6Y6bseJ/MoxvOiEfN7iUQGVYBR2G3so12gCaYK\n",
       "mrbOkcu8U+Ev8W7M1lblr9xCVbQbN5J5XcppXO5uhoOQtQbXC6CYreYvrNBmRsj0MUFjVLUM0wv6\n",
       "RDqz4Uo9mmTbqBG8+3UE5Jh6OLAhqqu4ZHRthG3kxpMFbxharceELaWL+Jkq2H6PfUq9wx0zzMet\n",
       "XzEZ6Qj4IYkrocqgt7YxUz47hTDpLirHdQGo5KE76utk9205GAluhMYY2w9l/sN0EOJIpkYRpxf8\n",
       "xBGh5LjO0CLxl7fSjzSUOR4HIPr1PfG0U9UWAnn0QB8tt97D3XmhM9WcKKEhbNipzU0m7SirRgnz\n",
       "2fo0uNJvplOmq+bocYJnvaZ9So9DN+8avEP8SWtOsJFktI/J+scqYCzjNO/MznRl4/D6mRzm0O5o\n",
       "dRwR0m6fKTAZhWlP/I7GddeKFLpI9Rahxg/QwL+2aDi5+w5JmMOlgJCp758Y/cp0w/lxJZ4DH5jS\n",
       "nbtD72O3+BptV4hnGClNR1h6Telxpu4gwyxQsPTRGvRvh+cMK3RBhAn5+hkotRTbQlmrNxR0nMcB\n",
       "tLbS0lxydVwrET+0kut/fNOD2Tl+2by59PPl92n2fnLjmrfz+Ak/2/PQ/QkDsd0mpRsjoxpEYQNZ\n",
       "2YJg56lFGbDwbdJy1p2sHzwDCO9uAP7RdtgBsYTe1s/7IDevKLnKlOKMDkDTv0KfIKdv33PpRg1o\n",
       "SQa0GjfjW4a9degoxIZMDcS3P8DHUHa+rmF24HHKUM6p5yVb7z5K18mHr/eSKMisM/kNCByTNdP3\n",
       "4ZHdwqTrNP8fvcNHPaCComvTNWp2BhYaACotFKC2A6iZ+PNSE0gonHrWpYn8L90p4w8OJUUeULlT\n",
       "MejjGFGAVosZQIsNa+aiyPhpHs91iZclu3N72InF1WxxwXhDLrolD9SMaYWhbMjIiNDhaC77MCWQ\n",
       "BFBouCd1jpqTWtHl1Inf04jHFYY37pB2Vpnw601HI1GR9ctvfWSc6AGEfbBBBARTdZYloZZt0UcO\n",
       "PurlE4WXl036jLLnjCgR6WWQswIimZrI48u8T9V+M8QBswoT2BDCzodpn4id+N4gju/QXE6BwgdS\n",
       "Pklo9U5H50PhiYkxWDYdgLvdlT6TGaz0kBv9xn+bnsV/j6RN/5ee3txikdSevDuAO6OuGGf1rAHJ\n",
       "IL1e99FkHs9S6dpGfAnF2wWlX3jKq5ea03nOJcie+X4LpTLmbXr0Cu1iiJXgyoCn+/DPuSaGKGes\n",
       "JZJOpvCTR+ctJ+tLgLXeAgfEEjlOdet5iQtu2cEWBaNNIv+Wnxf7ALCmN/MvkkiZW1fqUwYbnac1\n",
       "RTK/TkQICO2QitUeJ2EWk5nh1H1myPXQbAWMuy8tLp8Tj3M9LgAAAwEtz5iQkQAAASpBmiJsQ7/+\n",
       "qZYA2mPioALTCvwaoFsTNFRFHjVW4NMN/xfxS/yOLZI/316U+i2tPixJxoXonYfxgz9k+h7Ywkb6\n",
       "wUt+aoelApcDmnyCz6MmnVwEiZ5UlWJkyphtgGhaNev5ONPRd2Pz4GOHxTOvUNhPtIAaJ6Y1mwOX\n",
       "XPkwY7CIvc9quW5q9lsHBB4MRLHGey5RaDhAURxMSSQPffT1Bnmx7QDpys6GWYgUYjFBglT370+r\n",
       "cPHvwLQbU0Sb7WCJUbvXcHD4qQHvUl+f9EmIq5oU3xXaqNg+xK3MoMxGhFfslbLCVI0kho4myUOe\n",
       "jUx4DuUvf4PpGUtCZNb8ZoPC31af6uDL4RrTdE96JusnKidXX7mIe/8g4fOde1a/Bl52/aQcUgEW\n",
       "zRNDOf5QAAAAuAGeQXkK/wLezIvTxSE4nSaAyg078Urgdk+Cc/DugBbx3JWjuoxR7TigxIY9urha\n",
       "yT4ymM/5BnvsM9KOQaSIGow2QEueO9XUQxdy+Uw4Me3f66lnqdYnRSupG1nxqJnGkfJpMVJy+dNC\n",
       "NfHGjULACpgFZiO3IxxnW3UqTKsQQxtCLt6zkjqYcrWeu3dl80MJrD9dZlY/mq6EVmqDG5iQw6Fg\n",
       "ceVeHmUnG7crNYj7g1PupqwCRbx6pIEAAAA8QZpEPCGTKYQ7//6plgACqfANm7Wxmhag3HswuHNl\n",
       "fOkmAC0O3wkll/3r3ZuPmOh/jzXWoITM+uW4F13AAAAAfgGeY2pCvwLezItI7dhJxECf3wAXp5/e\n",
       "VxwR7Z3g5oAq+RC5Jma19z5Mt/e1kfK6x0N4/OoIOxUrLi+sTq4xCRsh1QcKQx0si9eIVLjhmBhI\n",
       "5cg2PsiZLvxvEQ3k0eBpqdHib/c3YjRa7SrTUkllFw1bQlG6AjZDD8Emr1YJYQAAABhBmmhJ4Q8m\n",
       "UwId//6plgAAs3vLsHS4fL0AAACeQZ6GRRE8L/8CLBq1a7P35vZkCugA0EwD1o2UlrrdfTly6LkY\n",
       "Lmien0Ez9NdOYE6K0dqt0gEksrG0iagGevcZWih23OdW223n3H2vekKSJCJTqTye78FLRgOwqLSj\n",
       "MdSryoC7dLGO3YqZox+oPxQIYK3priYR/n2R+Y1RTId4QGCKy68iUbGj0M21DtaXD4HmcXwCwcrz\n",
       "Cs5RrYS8DJkAAABMAZ6ldEK/Au0wjtaQuNGcuQkAB1egvWGCsnmBYOP1yBqerLopoyfcjISKoABy\n",
       "S1CbKI6Zs24SSZjnBURN6pUDJrpwI2HCZf1IK+h5rQAAABgBnqdqQr8C7r+er/yVgLpDOzYVTemF\n",
       "WqgAAACiQZqsSahBaJlMCHf//qmWAALNwt8I7EzgANG+GlcWoVUmbObdIgK3CzuJhb8uBPOhvfHS\n",
       "O6rpUh3xz/eBgSFz3KEg1XOkO9+d0CIQkJkQ0mzwqRyjsTeRHUkg7J+8UYT9AbFs/EAGpyXFZ4Fc\n",
       "YLQUZ0soy/Gxj71aNCVWlY9XQXnpFseqsRElmRabx1HsmEjQNvSigofsm3WbXChcIgcRRRz7AAAA\n",
       "akGeykURLC//AjnOVwCb98Hv15QATt6lCZAp5qvsLa1kUmgbRf+Be0zd0q8H6l44lzzMy2OBD2bU\n",
       "E/0yB14ODKgzmWRmWXPqILZ+kF7MJdpKLO3EE8xh9uO63hP7tapSwuL2lmH2dxdD3LEAAABcAZ7p\n",
       "dEK/Au0wk7G98aMwASAA6vQXrRspNVUFNv4LD/ubrhzmf/HVMet3g1pz+GUATCX29EEkXQRGoZ+7\n",
       "j07ec4GdhqtROxUyEKEPfN4hKn6D2zKiviRvyBeAbMAAAAAcAZ7rakK/Au6/nrn8lvRtDL0GkNye\n",
       "4IcXKsIBswAAACNBmvBJqEFsmUwId//+qZYAAs3wDZu1r53XcaT13l7u8EGYgwAAAG1Bnw5FFSwv\n",
       "/wI5zlbjrHnTHuVYhWvJwZF+GtTIXACFPS0UBfFVynV4Y8kIAhIgdHf9Bg8IRJpii6WWHh8z2WGV\n",
       "711mtP2dEB/Ww/9Xrzw058mW6ozEbM34g6vsxHQ3Y4zHSjJ02VDGtEGvkWdpAAAAbQGfLXRCvwLt\n",
       "MI3tVqL4ztoAWHzo7Ge1Hk5WMUbNVTLkOcsTvFYHg6/4G5mukBIlQw0RAXIN+hcUApD06srRHueh\n",
       "+yTKVklshQYbz4D7WDXtcMtoT4olaYCwKmM1Tvo0hhMc1579QRTcqBq0wpkAAABYAZ8vakK/Au6/\n",
       "nXxXxBri3ucigATpr574Dxtwst5KwhxLCx/3dSd2jg1YKnEsP2sXKqo20tB2iOmRASHqrq1+Mddb\n",
       "HiaZnoGS5+1Je/7kYzI0G5cxdsEO4AAAABVBmzRJqEFsmUwId//+qZYAAAMA8IAAAAAUQZ9SRRUs\n",
       "L/8COc5W0t+TLikwlMEAAAARAZ9xdEK/Au0wjXwr4Qk5ddAAAADGAZ9zakK/Au6/nXxYNMLw8tLS\n",
       "q7oAOb8lPDynKRFCGCCpMtT1Jt/Xyl9IjCcCOLV7wfiI4tDsISFHlY1MnJux/tX4fZnqpPkPYm0j\n",
       "pu4YIDkzPCO1fBfPy9qTrtDP2CNCRz/5uk3vElcTzg9EhndAtjlFG1CZazdlNYxHJyhmviDzM4Mk\n",
       "tJ879eIxLWhumCEKDTMSqgZuDz29A6fyEwEegBpPGbBv24k4n+hKzTU2QPDtL2Y+sm3Q50GKDXFF\n",
       "ZyEgeVrhiQ9wAAAAhkGbeEmoQWyZTAh3//6plgAKXwt8EGvuACizPve5FpsqG+JwV07Fc/uhR60U\n",
       "uXci3V0SF739UAgKNgSdrchh11J5bXT7b8d4cwBRvFdjVByMopBIT1rCRepNrz/cATPjYnU2CJfC\n",
       "Ldl67EITLhVeeSOE0DftOuvFoSLkTImh0+O4gJcMQFmBAAAAQ0GflkUVLC//AjnOV0LcaSIIC9gD\n",
       "qIHApI6wADtD1wlzdQB2RnEdFwuIc+czF8cVTq9s9sewxgsVPXOlo4Fx5LlQIyoAAABBAZ+1dEK/\n",
       "Au0wjXwsOJ8EtUwkJhfUdABzfkp4eU5SIoQwQTjT0CDlYngRxaveD8RHFodhCQpySHD0j3Id8qY0\n",
       "va0AAAAdAZ+3akK/Au6/oHTbjZo0eQsFj0uJyzdsgQHSf4EAAAC3QZu8SahBbJlMCG///qeEABSP\n",
       "eEt4J4e7pN8v4RgOoAHaXJd1W0GqNOuXfb7LkfIwHPzi3ZXadkp/XOAqrc9cL3y3zCI7gh+U2uVv\n",
       "88A3uXeZo/Nj4z1o8Rx1EbHS81D5UZoDJnq63Cxx42fI4vvluqOTJ8dt3fYzYiF3uXdsPn396Oyq\n",
       "bQTkq4n5Aij+YPODwpPF9c6G199Ka92pNxlFK5fXb9FVeKXCoKnTKXb0peSHIcXyWm+fAAAAxEGf\n",
       "2kUVLC//AjnOV0Kx5wAIGIQMoe4AF1HrhMgU+QapKQwOQeDrRV8uAMoX6/jgjwVA2jWWAS2cXxsJ\n",
       "ZHnBy1sYPxceHA3oeJQV8x3Yw1U7EiexAPcz1zP2q0EgFph6cC7es17VhPRBKj7a2qLV/GBlVRCf\n",
       "6JvnSY75Kq7TgdlWMT/DH0/TIqCKJLMp9oeq2YjsLUqnhlUTLM7LesY3qedKugWCTW3BuNvrF13M\n",
       "dOaVgJLYjFfj+YFjvkQ8BmkmIvonLEkAAABkAZ/5dEK/Au0wkHOcJ/tByOc6DxvKkxoFgAO0Oq+w\n",
       "atXb7F3+9Ob5Nr1QH1LQMnJDaEJYNGyEOB9g0WhsVU64xBGYGM7uIrSbbil10WEUlTJHPhTN6BPj\n",
       "w3lOsBafIV2vEwCp5QAAAB8Bn/tqQr8C7r+d8y8SBn09V6zs6T0ICZVywddaE1eBAAAAzUGb/Umo\n",
       "QWyZTAh3//6plgAC3/AOMvrv+sxrVXUFmD9VGJ8JyNbgA2q1soX1TK1A7BWF9ptrD2t1KpOpeJ7E\n",
       "96vLgN3gLom+qfls73ZESr9jO/iB8mX8RxqxcCG3d61fkcan1XedR8Vs1GxvKvIvQkPYbuhNViKd\n",
       "sfhjYlt9uwuFE1KfcRJi1gk53TcJIB5mW6dYzVdInccxIbmJipXycmwGBP7wsK+v/Qpl6CsHBf+k\n",
       "O/eetFUTvTDtRqqDfoxWSFvxWwTlhwJkhfsLodkAAAAmQZoASeEKUmUwId/+qZYAAF4+ALBAlm2B\n",
       "eTECgi1jan838rB4DcAAAADAQZ4+RTRMK/8C7zYjesvXB+SuwAfzzFTjIFj0YJz2eyzRaBvv+yGv\n",
       "ncA1oT+iOKewXa8GN+gTfXQiw0V4hO6HVv4B4/3L2O1mejIdc3krlyafmxxHViKRYbf+PXl7zW/F\n",
       "cCOsB7gpji6Se5tI1Lm+VM3ac4Q4e4yaLDQj+3QPIN6MxRRvxkqp7W/fEf+irKT2DVtUJ325wXPw\n",
       "HytLc1J5uVZLfdkoMbv7iZUBbPO6j5KbkELe1/H3xZmgPYEtyPfAAAAAQgGeX2pCvwLuv6BYXXA2\n",
       "CcwAbDoL1ow7yHgDEdXQSA5fuhR2Y7p++5rObqM2rveZNtBzm5tM//2P5/10LL5ZO846gwAAABdB\n",
       "mkRJqEFomUwId//+qZYAAFv95dhuVAAAABZBnmJFESwv/wI5zlbjRr1qgOh+uesdAAAAEwGegXRC\n",
       "vwLtMI3tV7mHRcGY6sAAAAARAZ6DakK/Au6/ne2vwStp9rEAAAEDQZqGSahBbJlMFEw7//6plgAB\n",
       "S+FvhOTlAACpyGJW447R5qaSdnYEF5Q+4eKJJDFDSuGqwCKM3mcsRutE8VpoH/CO7hcZVRvSOaF+\n",
       "cP1MtmvZpR4O6Or4PPm1jJkUgBN0Ye5VjZuK/2Y7MhXjb5xPFH8jp0yTLlz+U1dwQg44Y/BAKFu5\n",
       "61nhTIdyg2jDq7/i324f9xcV8mNqYYslrZT/qtdGO9URM2LNGhU/jlySK9m2YEwwh9a7zGgK8wKe\n",
       "UIVg9+mNVXL/1ODdw1tmBvDiqUqdbuQuh74FcKj8U4362JZ3TVEXIsH7hyScCCAbyWt+fFiW+lE2\n",
       "jPdLGBZ8C7/H7a/+8wAAABwBnqVqQr8C75MeR4SJ8kzoJ8mnHrXpMK90NghvAAAAWUGaqknhClJl\n",
       "MCHf/qmWAAqnC3yNLXzgAJOvv5wxM6KkmcCXy2E65ahd85vxrKdKn0uMk8tc9jpEo2yHKD/LGGwf\n",
       "8uz78Y6NNITh4lYs+ea2atbVh1d5w/D9AAAAKEGeyEU0TC//AjmLl6LS3PjSdxYFT8XWkAGB6ahj\n",
       "Lg3dq4vOM1QsCWUAAABPAZ7ndEK/Au0wjsuQuNGcuQkAB1dd9E4mbBY7PeKSLZ230aQ1xQxfjtjI\n",
       "AwnRpqNFK8DjCTKvSnoq/Xj9UkURth8U/6cKYuEb85b6UFp9uAAAABgBnulqQr8C7r+gir7u4Up+\n",
       "wCPDO/5fU28AAABzQZruSahBaJlMCHf//qmWAAqYTqdoRNa/7nQ/8I6B5AAS+tKtqsvXJQfCAUNd\n",
       "LBCFo9gWyAoyr0oLRtit5rGDupXy4TwvaMnM+VcS0IP4PnCN/uoiBHEO5Uy1WPYavJEWsDss4jZZ\n",
       "Yk/mhw8dvu8frMQmSAAAACZBnwxFESwv/wI5zldGsrPjSdxYFT8XWkAGCrDteTZZ+XnbfLW1gAAA\n",
       "AL4Bnyt0Qr8C7TCQiV6u4Up+wCO9313k7GbInmW2AA7QzDmZWSSginniTfMWNmNE4eEgR+MmOo6l\n",
       "75QDU62d4/xmWTDS8XPjoDgzLB5vY2OgJCipm/6JuJ+PZh4ukf01KdPN1j5LBa6Se2XOKKg7V48d\n",
       "sxjQnNlDXrrtfoUpRBhsz13aS7fXqcEqB2NLMADBMLU0NW/dxX2OCxPJP84uxe+31+UILmdriAIa\n",
       "VNaxvVUBWwwNIOdSD96CBh9Fe9GBAAAAYgGfLWpCvwLuv56sLrgnPOegBbx3JWjPdgNUaRhJc2L3\n",
       "B+8+wNltwYes/Qln6HyjRvsfs2oJ8KuDNi8wKgyShidyr//xCiHIF2Y+VBxquXvKDfQDyjMU9Hxt\n",
       "SN3HvgUqslrBAAAAHkGbMkmoQWyZTAh3//6plgAAVT4Bs3a/d1vt46d9ewAAAJZBn1BFFSwv/wI5\n",
       "zlfSb98FHzAADYf5++A8bf9vHGW4mz+N8eq6yAK3OQ7Cc4bhmhtNXjnm1hqor8a0qMdr5yVc4ir9\n",
       "DRPpFkzebpvaOyoeZfIMaFRzya/OKniXJsOHJbSbyso90CZXPuzTFYxsd8CohkyQvRuNOBuZvjuU\n",
       "oDFaTHVp/U9q1WCVIde6NpfrcQteFnVhhBwAAAAcAZ9vdEK/Au0wlEI7LHhTPduy4QACMFyGUrC8\n",
       "9gAAABkBn3FqQr8C7r+kP0GnjcWO3/yuk0mRkyOtAAAAd0GbdkmoQWyZTAh3//6plgAALJxgkAFS\n",
       "e/ioKTm1zXf3w+nD5oC3ciGZtEfXvu2NFePlgqACUJ8Gv9SKnGmQuhauVtgKBZYD8ipnaFa2rAJw\n",
       "keM/qWcaiSohlLfy7WyOlN0bOxbOd3Qndt18FSriDCGAzbZCeEo8AAAAo0GflEUVLC//AjnOVwmh\n",
       "gQBEx64TJJ3gnZ1R45a0+Esd+sRwSN5rAa0YdBcUE0a7VioEBb9XQoPajJ37wQKgPclA8+Sd0TA1\n",
       "JnAHjGg2Gjt1vzaO7prMIJbx6V+6zq5k+aknwp6Nu0GT6MEtBz+85RburrT7W5V6aGxzCregZ+IH\n",
       "JIvlZaHIuc2s2MmN6sT5wfTsUKdvNdcqxh5ny7hY1PlPxoAAAAAYAZ+zdEK/Au0wjuaOyxuZIEmv\n",
       "kzb8luHlAAAAqQGftWpCvwLuv6OIuuNFaxnoAOVj//DT4ivEMGjLe/kQrROgqRisdnY9p3gkn6e9\n",
       "PMbKufsUt4S7sLLi6WyIEWtJkp66/67Ryz/c06R2x5335dU/1K7jlHh1BTho1jByP75XHpxbJxJp\n",
       "0crobzV3Sr3+YRSYF5dD+S7vi+ymR59/gv+4hG8IvBH2HAgBFAuzWwV7Z7umeOO1DvomJtzA4Q27\n",
       "vtWgFTGwpIAAAAAdQZu6SahBbJlMCHf//qmWAAAs3wDZu1r53XcaCoEAAACgQZ/YRRUsL/8COc5W\n",
       "40a9iwJubFleT2gANG9ShLm4YYSOXdg9Yd+NXdFED1HB1fopsyy2hvVacII0DtdADhb4F6PiqzqS\n",
       "EbcSEynBtyFGkPE08G0pPcxKUGZNasN8VH26lF4ZjqLDMwwhDOZOwsfbclZ++jbYznzvbSlFygbP\n",
       "oLRQ1EWnrdYfKD0u2+Zc6nlMOzD2GBANU7N2sqyobYJ4uQAAABsBn/d0Qr8C7TCN7VfUndK+6X76\n",
       "tJKw6WMNHygAAABoAZ/5akK/Au6/ne2wy3vwflLaAE1eYqcZAsejBOez2WaLQN9/2Q187gGtCf0R\n",
       "xT2C7Xgxv0Cb65e0GhmZHm+9TnMHnzM6fuALjReRfwaAdB/R+NIqIOugDkDXgt5TI2qy3gNY2cdN\n",
       "BW0AAABGQZv+SahBbJlMCHf//qmWABXeFvkaWvnAASdffzhiZ0VJM4EvlsJ1y1C75zfjWU6VPpcZ\n",
       "J5a538VMsDUzCY1ir2MiFF6D5gAAAHdBnhxFFSwv/wI5zlfVvUxAkAqGinhVV05CxfgX8K/yZBC4\n",
       "AJFSuWxtfmvSoBDo2wj2WQFBZw3DLj33HfUamr1ntzSbH+7fWC4TIaBkC9NhCNg1DKxfAhyvd6xi\n",
       "xolWzPKQuafWuCvOiPmcetmDyoLZrk3HN0A9YQAAAHIBnjt0Qr8C7TCUbj0NV77mDFc9S8jrH8Qh\n",
       "N3XrdXg/923kAJ28xU5hpNWSGYiZg27iOoK2VwEIGwjeWreLnqo6hrARHZXvXPl8/lcRBAT7rNoy\n",
       "wwE3LeXqwQhGiOPiDs+oEOA7HGWkwJJZtpghNe16T3EAAAAaAZ49akK/Au6/pGtISIt6FLLqgSBS\n",
       "GLRWItwAAADFQZoiSahBbJlMCHf//qmWACgb6EknDdpC5O5nY6o3FtfuqyUzZhDBboMES0ramYXj\n",
       "B9oUeNd2Qtab+ef4sQLzSyaF4rp57yUvb9c5P7suREPCMh3np0rsEnOT9sam5IFnK32i2OsEvZFp\n",
       "Fz7ldLuJ+dxVi71ENr2310q9JzYv1L0nt0aodSXm4LfzZGKqRRub/aE81+CFxvf+OcGQDJBkbknF\n",
       "TtagqZPT1Y8M6q+oxRQSSh/ZUA3u3gcXYpR+jflFQ8hDkuIAAAB9QZ5ARRUsL/8COc5YvEuojV2I\n",
       "+MKNnm+xbw1/M1LelSefxxSYZNfDVkWcgARB4UxhSLQy0dnIVYVNyFzYm0bXdb6eEA6TPjls/8Dq\n",
       "eCAO4nUQZ4Vw1m2Fz3FY1U7LTV9gHRvjnM1W+vwD2duf6mbcGSRMouv2TK+XgVwXAj8AAABlAZ5/\n",
       "dEK/Au0wlD6+0vvgEF51AAuVwo057R8EyTlABLVqIm5EfNkoptIx1vW6YUFOh/WzUWRyZa0QFWH8\n",
       "A/7+6rf056jwoZ/2/icsAdSIVVOLXsBXTNCr3HtnU6JCsbQRVboehQQAAAAdAZ5hakK/Au6/qoN0\n",
       "m61BDQppUJbMt7UgbMxgsYEAAACoQZplSahBbJlMCHf//qmWAChfAOEGlsFxDWc6ou9PwjsTkAA0\n",
       "b38U+S9kQU+xaReGLyuR+4b84PBdectrLDGiiLBvRGQ5eOf2s09ET0SRMokkXiq+34hMrTE1MPIR\n",
       "nykmsWQA1id6JA47PqZdPvnaH4b7ZuqZ7fO2rs+cKvmVtVkenuxYVom7OopidrD+1mKbQJ+uL4hA\n",
       "/+wSlQCRz+EAqwRwueIr13JAAAAAH0Geg0UVLCv/Au+TIfendXSici+42+SZ8jIILnLDbrEAAAAX\n",
       "AZ6kakK/Au6/ntBeIjCGCdxBRRAiurcAAACGQZqpSahBbJlMCHf//qmWACc/3T955UVsDBO8DBAr\n",
       "nK/lHN3Akf5wdaeFV27pjf0p5gsDmM0mwbu7BjcCHj5FpsjacNC5fHZkPBPyjzouhROz/GRaOcIB\n",
       "pguwia6HR3jGr7qX/hAq5fvhjUWk685C49nNe2k00SLClPB8hp1nx7PwrOD8JUEAAAAzQZ7HRRUs\n",
       "L/8COc5YvHkrazAAaNvewoyD+VLOEVHIb749quA3xad+NR033TIpX/T+IN6BAAAAGwGe5nRCvwLt\n",
       "MJqEqW7sW+8KPl5U+/7KqCWtgAAAAG8BnuhqQr8C7r+qf/JGqS4n3G+nr62GYMu2MiuCc/KrABdR\n",
       "1X1YNIPRgnx4BmiWJ3cYH/VXhsDvdVJ0w/oiZskaEHg/qdHGcDmqzqphzm6VhM5fNl1TxIUvDGZa\n",
       "ukvtKM1iDFlkqPk/xLyYfprMTcAAAAEPQZrtSahBbJlMCHf//qmWACcIraCSX5HOAXDiNpyNLp7w\n",
       "ACRcSfmR1NJ/pK04fjEJCk7/vTzb+grT4CljF2+2cetvD0AvmJqojrHwx18CjjcRyzsO3SAcBKgC\n",
       "LMXbbp7EJ9g8fFpkF2qpqR3gjZm+bijFmR6Ish65f3K+iHcsds1RRyHgqWWde5zuZRPAJaJTdjhS\n",
       "rW9TGHSevYeGSv0xdM+WMiP/gufDQwXyE/bjuwCre3rLIIhLknkiB6r/tw61QFBYSaGgHDfiAEJE\n",
       "dIiRzx+wiup/QXIgWbnUMzirEb1SgJ52uk/qaHN3cCHEJoGJ7UfH9qOry3Zm0n6KpHc5vEmqh+BC\n",
       "pxIr97+UHpUqoQAAADdBnwtFFSwv/wI5zlixTnS9ppHB+q6V4eFoiCYidUuleJ1TSRWWDdGLvwxn\n",
       "ZOVhivutf6FDKCygAAAAYgGfKnRCvwLtMJo50JJcT7iSfEywv4y+BvNXB+a3kAJatRE3Ij5slFNp\n",
       "GDVb3TC3OBUR+4dURKt1OvhuvlsPibqoETI1JynSCj9hLvG4prVDc90eWWo4jjx1i9yj2YFlwZ23\n",
       "AAAAbwGfLGpCvwLuv6ozdJzjki7eDOha5Vspn7dcIAHrawAfzzFTmGk1ZIZiJmDbuI6grY8lkELw\n",
       "ScsmEJIiiXrAuywyveugrBruoA6rH3WbRlhgJuW8vVghCNEcfEHTiJM1s+HGXwdu1uyoY1jmzFRL\n",
       "oQAAAG1BmzFJqEFsmUwId//+qZYAJz8js+XgLM2ThY0KMkN1zbumMdKF4wC6uZ66qLYkAASi9/FU\n",
       "Fshs7ECAfGLsHWDr3D6z/XSZCGu/jVacf8y05kKLZRSCwrpuHBiOAqVBg2kZQDpqngZYl72TRRth\n",
       "AAAAaUGfT0UVLC//AjnOWLDe5Tl+ZmifLAA0EcvG7jgkFZvBzTDmZ+81honl9UDouv+lxcEbe1vk\n",
       "SRl7Uspd3qMq9mVisiGDC8C4gFQ5EXozo7qh9nWF1cpVvtg9i2BvZYOXiZMQksOIdD3QvQAAACsB\n",
       "n250Qr8C7TCaLoMNB+wS8hZ1U8C/V+e3yC596ML2bnxUsOtofy+lTYGBAAAAewGfcGpCvwLuv6QT\n",
       "TKa9MRmlaAEyef9lB42/7YF/uErX3Rx7wcGfAcg6uSTtC0b+tO35g7j3l+6RmOy/DSshAP1duPNc\n",
       "qBtUlM/ulbBMjLJUE52ty7R5PpI/zBVu/x2O2HVhnDYfwb9ZjzvaipUNBm1rim608p6axf5YtwAA\n",
       "AHFBm3VJqEFsmUwId//+qZYABUuMEgA2q5YpdZ6CRvrBS34Lq9chbn3bGixB6/elCAYnpYtEypzY\n",
       "DjsvOvoB0WEeFekWZ82uc0UDFMniqrhjerjWbCDuOFIjtlp0xp/QxoHvjtoUhhB4NfaiLhHMkmIu\n",
       "MQAAAExBn5NFFSwv/wI5zldHMuDZM3EgnhSL05Cxfg745ffAeNwASKlctja/NelQCHbm5HssgKCz\n",
       "huGXHvuO+o1NXqQxSyQeDVc0WOlJfQ+AAAAAbgGfsnRCvwLtMJChHoar2byfyU9iAk4iBV+SADq9\n",
       "BetGyk1VQU2/gsWcNOgG+P79cS2NzpvYT3ZQiulA8xMZTsn4Hfi6Pp5fPA8l5D7YpblifIUL6Q11\n",
       "5Yz8C/FOkYtNgNnAimK8rD6kehpr0a24AAAAGwGftGpCvwLuv6CfpNoEsJn5RIxQsYDHd39xwQAA\n",
       "AM9Bm7lJqEFsmUwIb//+p4QAFj398jS2OOACiy2PepTtipvt7O2y9BggnIuDj2xnC595Cft8DeFE\n",
       "YpztvgKd1sT5ttUmAEgdUdOMdO/rO7179STEWwzgJQZxxf5aWBMqlbXDeOrnjIiOfqw+n8gotxR9\n",
       "ygn8n/xAKppNzxMgobMHULJ8owQLE2yk60WOXH1jpcquqCC3sQoe99F0DeQl5n5VHrWq1VWXCuoV\n",
       "f65nsjcwn4e4nTrRj1RzeStzXalW+ABDeMGD1M3ZtSNIyi1DY2AAAAAgQZ/XRRUsL/8COc5XTtxp\n",
       "IhNZyCL9niXQ0q+oMEmvAQkAAAATAZ/2dEK/Au0wjsStRT2h6A2SeQAAABgBn/hqQr8C7r+gtrxD\n",
       "V4Y70E+ThCz8YMkAAAAlQZv9SahBbJlMCG///qeEABY/eEt4J4fZblsVQFWjA3ZpT0gQ1QAAABxB\n",
       "nhtFFSwv/wI5zldOsecAZDkIbX/6mGiHRptUAAAAkAGeOnRCvwLtMJC1Wop9XdwNN7DPioqAA7Q6\n",
       "r7Bq1dvsXf705vk2vVAfUtAyckNoQlg0bIQ4H2DRaGxVTrjEEZgYzu4itJtuKXXRYRSVMkc+FM3o\n",
       "E+J4ovoLia0MFsX9mxsVYBZdun7s3820ejV6Cb9XaS+VWVvIKhq8kK5aAWIGrx6APiJ/QPBsU5si\n",
       "ZIoniQAAAOQBnjxqQr8C7r+erC64HFLmAD8CxfkQ3EdtnFPJtHoYmHswADEdXRLUe4x02CDbDK5P\n",
       "ZpYFjDzm6jMDHqxcMrVbpsvckn3fOaNzjswuTR2n8dlzXqrX2R+DHynRKcPdVS+7HeShPuKLgH3c\n",
       "TgM3djmC6qvyOSMt3CjtEe5y+GsOCNMEPjz9RsFjNbwvjN2oSBRlEnBSe6eGZsdPKnPL13BvbJdF\n",
       "XjZecyggSr5xFw+H3C4fsS/5mAtV+Fp6h+/LYWF4/giJAfW9vpN6byCB10bqKvptSqopQ+mJislL\n",
       "sgFGgDqdcCEAAACqQZogSahBbJlMCGf//p4QAJ/vv4KOPYAFPmnetGHeQ8w520dxMxj/HRby/NxW\n",
       "/KZ4UIWGscgrVu22DqtyGDM7GieFS6n+7HF4BJo0+FztH9HD/zWl2nZ4ytrDv6s9qJsilnAg7H+O\n",
       "cgT46BlfEJDVBrvPg7JzIQPFmEag8/Vn/CiN+k20fazNl8+wIxh4EwW7nvFik+g7nXmZLnkW7SI4\n",
       "V2LUlEXaaMx539MAAADoQZ5eRRUsK/8C75MgC4aLrQ1cDYkKABOHn/ZQeNv+2DjLcTa+6OPVbBiF\n",
       "PrHpJ2haN/WvyB3P0H6W3x7zOHFzmvRUpoAQnn158iJrOMtSoVxHwT7A+RtQgHFyEk2SXHdnWeBW\n",
       "FygOlYGRJK2t0WvduF4MuHiOgVdLoU4eJ4Kzbfbv67r92qTJpYiCZz6oj5Hq1g1UL1sL+IbfGbs8\n",
       "OHk4b2bOVgXeO3LbxkPhjEEtpObvTaqI4ribO3H5oiTb8jjYUfvPvLX39gUL6Aeqy4uoG0hAoAMl\n",
       "CMLZJ5fAg3zgK55/ccNPqDEKKAAAAHUBnn9qQr8C7r+j6bccSs+eV3DTjc4PMBkEO68PKALD50dj\n",
       "PajycrGKNrgsTTv/LE8PXeIzd8DczXSCcSlaNo5LLuQByEWIohDD06mL2pERY2l+z7vvqoblaG3p\n",
       "0qTm3QvLdNZiWQ8LnPc1dt5I4v0qnHhTykEAAADKQZpiSahBbJlMFEwv//6MsAChe5nqdndqYhZO\n",
       "LA9Cbr4aT7IAIg9LRPh0g9Ld/PabCIwa9C+isl9f0Nc/dsvKYSKWPjjfoE313pO7ElWvUhMaIk8V\n",
       "zf1ERNgWbc8Fuvmkn43aV4psw/loWnAHA6f10aaXuWlKE2OsI4KY4uxWWVrtqJ09sspqwVG4DxLY\n",
       "SMAr7Fkj0djh3GrsY2/ybevY4w/IMtBKgoTlr08Q7wXVMw1ef+cU5vjCVOg4YV5WRstQ06TjF9ND\n",
       "lh60nAAAAC0BnoFqQr8C75MgCsvq3S+GF9jpSl9EgJFOhsUKQ//QyZjpPMAHOnBplE4IA60AAAAg\n",
       "QZqDSeEKUmUwIV/+OEAAKR7Wy1nQMfpBXwQfDHlorWYAAAfGbW9vdgAAAGxtdmhkAAAAAAAAAAAA\n",
       "AAAAAAAD6AAAD6AAAQAAAQAAAAAAAAAAAAAAAAEAAAAAAAAAAAAAAAAAAAABAAAAAAAAAAAAAAAA\n",
       "AABAAAAAAAAAAAAAAAAAAAAAAAAAAAAAAAAAAAAAAAAAAgAABvB0cmFrAAAAXHRraGQAAAADAAAA\n",
       "AAAAAAAAAAABAAAAAAAAD6AAAAAAAAAAAAAAAAAAAAAAAAEAAAAAAAAAAAAAAAAAAAABAAAAAAAA\n",
       "AAAAAAAAAABAAAAAAbAAAAEgAAAAAAAkZWR0cwAAABxlbHN0AAAAAAAAAAEAAA+gAAAEAAABAAAA\n",
       "AAZobWRpYQAAACBtZGhkAAAAAAAAAAAAAAAAAAAyAAAAyABVxAAAAAAALWhkbHIAAAAAAAAAAHZp\n",
       "ZGUAAAAAAAAAAAAAAABWaWRlb0hhbmRsZXIAAAAGE21pbmYAAAAUdm1oZAAAAAEAAAAAAAAAAAAA\n",
       "ACRkaW5mAAAAHGRyZWYAAAAAAAAAAQAAAAx1cmwgAAAAAQAABdNzdGJsAAAAs3N0c2QAAAAAAAAA\n",
       "AQAAAKNhdmMxAAAAAAAAAAEAAAAAAAAAAAAAAAAAAAAAAbABIABIAAAASAAAAAAAAAABAAAAAAAA\n",
       "AAAAAAAAAAAAAAAAAAAAAAAAAAAAAAAAAAAAGP//AAAAMWF2Y0MBZAAV/+EAGGdkABWs2UGwloQA\n",
       "AAMABAAAAwDIPFi2WAEABmjr48siwAAAABx1dWlka2hA8l8kT8W6OaUbzwMj8wAAAAAAAAAYc3R0\n",
       "cwAAAAAAAAABAAAAZAAAAgAAAAAUc3RzcwAAAAAAAAABAAAAAQAAAxhjdHRzAAAAAAAAAGEAAAAB\n",
       "AAAEAAAAAAEAAAYAAAAAAQAAAgAAAAABAAAGAAAAAAEAAAIAAAAAAQAACgAAAAABAAAEAAAAAAEA\n",
       "AAAAAAAAAQAAAgAAAAABAAAKAAAAAAEAAAQAAAAAAQAAAAAAAAABAAACAAAAAAEAAAoAAAAAAQAA\n",
       "BAAAAAABAAAAAAAAAAEAAAIAAAAAAQAACgAAAAABAAAEAAAAAAEAAAAAAAAAAQAAAgAAAAABAAAK\n",
       "AAAAAAEAAAQAAAAAAQAAAAAAAAABAAACAAAAAAEAAAoAAAAAAQAABAAAAAABAAAAAAAAAAEAAAIA\n",
       "AAAAAQAABAAAAAABAAAIAAAAAAIAAAIAAAAAAQAACgAAAAABAAAEAAAAAAEAAAAAAAAAAQAAAgAA\n",
       "AAABAAAGAAAAAAEAAAIAAAAAAQAACgAAAAABAAAEAAAAAAEAAAAAAAAAAQAAAgAAAAABAAAKAAAA\n",
       "AAEAAAQAAAAAAQAAAAAAAAABAAACAAAAAAEAAAoAAAAAAQAABAAAAAABAAAAAAAAAAEAAAIAAAAA\n",
       "AQAACgAAAAABAAAEAAAAAAEAAAAAAAAAAQAAAgAAAAABAAAKAAAAAAEAAAQAAAAAAQAAAAAAAAAB\n",
       "AAACAAAAAAEAAAoAAAAAAQAABAAAAAABAAAAAAAAAAEAAAIAAAAAAQAACgAAAAABAAAEAAAAAAEA\n",
       "AAAAAAAAAQAAAgAAAAABAAAIAAAAAAIAAAIAAAAAAQAACgAAAAABAAAEAAAAAAEAAAAAAAAAAQAA\n",
       "AgAAAAABAAAKAAAAAAEAAAQAAAAAAQAAAAAAAAABAAACAAAAAAEAAAoAAAAAAQAABAAAAAABAAAA\n",
       "AAAAAAEAAAIAAAAAAQAACgAAAAABAAAEAAAAAAEAAAAAAAAAAQAAAgAAAAABAAAKAAAAAAEAAAQA\n",
       "AAAAAQAAAAAAAAABAAACAAAAAAEAAAoAAAAAAQAABAAAAAABAAAAAAAAAAEAAAIAAAAAAQAACAAA\n",
       "AAACAAACAAAAAAEAAAYAAAAAAQAAAgAAAAABAAAEAAAAABxzdHNjAAAAAAAAAAEAAAABAAAAZAAA\n",
       "AAEAAAGkc3RzegAAAAAAAAAAAAAAZAAAB80AAAEuAAAAvAAAAEAAAACCAAAAHAAAAKIAAABQAAAA\n",
       "HAAAAKYAAABuAAAAYAAAACAAAAAnAAAAcQAAAHEAAABcAAAAGQAAABgAAAAVAAAAygAAAIoAAABH\n",
       "AAAARQAAACEAAAC7AAAAyAAAAGgAAAAjAAAA0QAAACoAAADEAAAARgAAABsAAAAaAAAAFwAAABUA\n",
       "AAEHAAAAIAAAAF0AAAAsAAAAUwAAABwAAAB3AAAAKgAAAMIAAABmAAAAIgAAAJoAAAAgAAAAHQAA\n",
       "AHsAAACnAAAAHAAAAK0AAAAhAAAApAAAAB8AAABsAAAASgAAAHsAAAB2AAAAHgAAAMkAAACBAAAA\n",
       "aQAAACEAAACsAAAAIwAAABsAAACKAAAANwAAAB8AAABzAAABEwAAADsAAABmAAAAcwAAAHEAAABt\n",
       "AAAALwAAAH8AAAB1AAAAUAAAAHIAAAAfAAAA0wAAACQAAAAXAAAAHAAAACkAAAAgAAAAlAAAAOgA\n",
       "AACuAAAA7AAAAHkAAADOAAAAMQAAACQAAAAUc3RjbwAAAAAAAAABAAAALAAAAGJ1ZHRhAAAAWm1l\n",
       "dGEAAAAAAAAAIWhkbHIAAAAAAAAAAG1kaXJhcHBsAAAAAAAAAAAAAAAALWlsc3QAAAAlqXRvbwAA\n",
       "AB1kYXRhAAAAAQAAAABMYXZmNTguMjkuMTAw\n",
       "\">\n",
       "  Your browser does not support the video tag.\n",
       "</video>"
      ],
      "text/plain": [
       "<IPython.core.display.HTML object>"
      ]
     },
     "execution_count": 29,
     "metadata": {},
     "output_type": "execute_result"
    },
    {
     "data": {
      "image/png": "[encoded data removed]",
      "text/plain": [
       "<Figure size 432x288 with 1 Axes>"
      ]
     },
     "metadata": {
      "needs_background": "light"
     },
     "output_type": "display_data"
    }
   ],
   "source": [
    "fig, ax = plt.subplots()\n",
    "anim = splt.animator(spike_data_sample, fig, ax)\n",
    "\n",
    "HTML(anim.to_html5_video())"
   ]
  },
  {
   "cell_type": "markdown",
   "metadata": {
    "id": "FONW5DIkobZE",
    "pycharm": {
     "name": "#%% md\n"
    }
   },
   "source": [
    "This animation is obviously much tougher to make out in video form, but a keen eye will be able to catch a glimpse of the initial frame where most of the spikes occur.\n",
    "Index into the corresponding target value to check its value."
   ]
  },
  {
   "cell_type": "code",
   "execution_count": 30,
   "metadata": {
    "id": "VgNLaB90obZD",
    "pycharm": {
     "name": "#%%\n"
    }
   },
   "outputs": [],
   "source": [
    "# Save output: .gif, .mp4 etc.\n",
    "# anim.save(\"mnist_latency.gif\")"
   ]
  },
  {
   "cell_type": "code",
   "execution_count": 31,
   "metadata": {
    "id": "wrqfPu43obZE",
    "pycharm": {
     "name": "#%%\n"
    }
   },
   "outputs": [
    {
     "name": "stdout",
     "output_type": "stream",
     "text": [
      "tensor(4)\n"
     ]
    }
   ],
   "source": [
    "print(targets_it[0])"
   ]
  },
  {
   "cell_type": "markdown",
   "metadata": {
    "id": "sl93G7LwnG67"
   },
   "source": [
    "That's it for the `spikegen.latency` function. Further information [can be found in the documentation here](https://snntorch.readthedocs.io/en/latest/snntorch.spikegen.html)."
   ]
  },
  {
   "cell_type": "markdown",
   "metadata": {
    "id": "Uxe0msNpmpcN"
   },
   "source": [
    "### 2.4 Delta Modulation\n",
    "There are theories that the retina is adaptive: it will only process information when there is something new to process. If there is no change in your field of view, then your photoreceptor cells are  less prone to firing. \n",
    "\n",
    "That is to say: **biology is event-driven**. Neurons thrive on change.\n",
    "\n",
    "As a nifty example, a few researchers have dedicated their lives to designing retina-inspired image sensors, for example, the [Dynamic Vision Sensor](https://ieeexplore.ieee.org/abstract/document/7128412/). Although [the attached link is from over a decade ago, the work in this video](https://www.youtube.com/watch?v=6eOM15U_t1M&ab_channel=TobiDelbruck) was ahead of its time.\n",
    "\n",
    "Delta modulation is based on event-driven spiking. The `snntorch.delta` function accepts a time-series tensor as input. It takes the difference between each subsequent feature across all time steps. By default, if the difference is both *positive* and *greater than the threshold $V_{thr}$*, a spike is generated:\n",
    "\n",
    "<center>\n",
    "<img src='https://github.com/jeshraghian/snntorch/blob/master/docs/_static/img/examples/tutorial1/1_2_7_delta.png?raw=true' width=\"600\">\n",
    "</center>\n",
    "\n",
    "To illustrate, let's first come up with a contrived example where we create our own input tensor."
   ]
  },
  {
   "cell_type": "code",
   "execution_count": null,
   "metadata": {
    "id": "0AOr1kN-r4n-"
   },
   "outputs": [],
   "source": [
    "# Create a tensor with some fake time-series data\n",
    "data = torch.Tensor([0, 1, 0, 2, 8, -20, 20, -5, 0, 1, 0])\n",
    "\n",
    "# Plot the tensor\n",
    "plt.plot(data)\n",
    "\n",
    "plt.title(\"Some fake time-series data\")\n",
    "plt.xlabel(\"Time step\")\n",
    "plt.ylabel(\"Voltage (mV)\")\n",
    "plt.show()"
   ]
  },
  {
   "cell_type": "markdown",
   "metadata": {
    "id": "Ih_UJ526tJPo"
   },
   "source": [
    "Pass the above tensor into the `spikegen.delta` function, with an arbitrarily selected `threshold=4`:"
   ]
  },
  {
   "cell_type": "code",
   "execution_count": null,
   "metadata": {
    "id": "WSNI1zGdtHac"
   },
   "outputs": [],
   "source": [
    "# Convert data\n",
    "spike_data = spikegen.delta(data, threshold=4)\n",
    "\n",
    "# Create fig, ax\n",
    "fig = plt.figure(facecolor=\"w\", figsize=(8, 1))\n",
    "ax = fig.add_subplot(111)\n",
    "\n",
    "# Raster plot of delta converted data\n",
    "splt.raster(spike_data, ax, c=\"black\")\n",
    "\n",
    "plt.title(\"Input Neuron\")\n",
    "plt.xlabel(\"Time step\")\n",
    "plt.yticks([])\n",
    "plt.xlim(0, len(data))\n",
    "plt.show()"
   ]
  },
  {
   "cell_type": "markdown",
   "metadata": {
    "id": "dlmCwN40uPLq"
   },
   "source": [
    "There are three time steps where the difference between $data[T]$ and $data[T+1]$ is greater than or equal to $V_{thr}=4$. This means there are three *on-spikes*. \n",
    "\n",
    "The large dip to $-20$ has not been captured above. If negative swings have importance in your data, you can enable the optional argument `off_spike=True`."
   ]
  },
  {
   "cell_type": "code",
   "execution_count": null,
   "metadata": {
    "id": "WMrUGhRnuN8e"
   },
   "outputs": [],
   "source": [
    "# Convert data\n",
    "spike_data = spikegen.delta(data, threshold=4, off_spike=True)\n",
    "\n",
    "# Create fig, ax\n",
    "fig = plt.figure(facecolor=\"w\", figsize=(8, 1))\n",
    "ax = fig.add_subplot(111)\n",
    "\n",
    "# Raster plot of delta converted data\n",
    "splt.raster(spike_data, ax, c=\"black\")\n",
    "\n",
    "plt.title(\"Input Neuron\")\n",
    "plt.xlabel(\"Time step\")\n",
    "plt.yticks([])\n",
    "plt.xlim(0, len(data))\n",
    "plt.show()"
   ]
  },
  {
   "cell_type": "markdown",
   "metadata": {
    "id": "S_5FajsDvnEw"
   },
   "source": [
    "We've generated additional spikes, but this isn't actually the full picture! \n",
    "\n",
    "Printing out the tensor will show the presence of \"off-spikes\" which take on a value of `-1`."
   ]
  },
  {
   "cell_type": "code",
   "execution_count": null,
   "metadata": {
    "id": "9deHKE2zxGA5"
   },
   "outputs": [],
   "source": [
    "print(spike_data)"
   ]
  },
  {
   "cell_type": "markdown",
   "metadata": {
    "id": "-Nz32V0fxm2d"
   },
   "source": [
    "While `spikegen.delta` has only been demonstrated on a fake sample of data, its true use is to compress time-series data by only generating spikes for sufficiently large changes/events. \n",
    "\n",
    "That wraps up the three main spike conversion functions! There are still additional features to each of the three conversion techniques that have not been detailed in this tutorial. In particular, we have only looked at encoding input data; we have not considered how we might encode targets, and when that is necessary. We recommend [referring to the documentation for a deeper dive](https://snntorch.readthedocs.io/en/latest/snntorch.spikegen.html)."
   ]
  },
  {
   "cell_type": "markdown",
   "metadata": {
    "id": "mxrGoLIjobZE",
    "pycharm": {
     "name": "#%% md\n"
    }
   },
   "source": [
    "## 3. Spike Generation (Optional)\n",
    "Now what if we don't actually have any data to start with? \n",
    "Say we just want a randomly generated spike train from scratch. Inside of\n",
    "`spikegen.rate` is a nested function, `rate_conv`, which actually performs the  spike conversion step.\n",
    "\n",
    "All we have to do is initialize a randomly generated `torchTensor` to pass in."
   ]
  },
  {
   "cell_type": "code",
   "execution_count": null,
   "metadata": {
    "id": "-Q_7uj0vobZE",
    "pycharm": {
     "name": "#%%\n"
    }
   },
   "outputs": [],
   "source": [
    "# Create a random spike train\n",
    "spike_prob = torch.rand((num_steps, 28, 28), dtype=dtype) * 0.5\n",
    "spike_rand = spikegen.rate_conv(spike_prob)"
   ]
  },
  {
   "cell_type": "markdown",
   "metadata": {
    "id": "KOy-NZ5YobZF",
    "pycharm": {
     "name": "#%% md\n"
    }
   },
   "source": [
    "### 3.1 Animation"
   ]
  },
  {
   "cell_type": "code",
   "execution_count": null,
   "metadata": {
    "id": "yCIwKN0WobZF",
    "pycharm": {
     "name": "#%%\n"
    }
   },
   "outputs": [],
   "source": [
    "fig, ax = plt.subplots()\n",
    "anim = splt.animator(spike_rand, fig, ax)\n",
    "\n",
    "HTML(anim.to_html5_video())"
   ]
  },
  {
   "cell_type": "code",
   "execution_count": null,
   "metadata": {
    "id": "kx-VKWxFobZF",
    "pycharm": {
     "name": "#%%\n"
    }
   },
   "outputs": [],
   "source": [
    "# Save output: .gif, .mp4 etc.\n",
    "# anim.save(\"random_spikes.gif\")"
   ]
  },
  {
   "cell_type": "markdown",
   "metadata": {
    "id": "C_IH912xobZF",
    "pycharm": {
     "name": "#%% md\n"
    }
   },
   "source": [
    "### 3.2 Raster"
   ]
  },
  {
   "cell_type": "code",
   "execution_count": null,
   "metadata": {
    "id": "F6QgcKCrobZF",
    "pycharm": {
     "name": "#%%\n"
    }
   },
   "outputs": [],
   "source": [
    "fig = plt.figure(facecolor=\"w\", figsize=(10, 5))\n",
    "ax = fig.add_subplot(111)\n",
    "splt.raster(spike_rand[:, 0].view(num_steps, -1), ax, s=25, c=\"black\")\n",
    "\n",
    "plt.title(\"Input Layer\")\n",
    "plt.xlabel(\"Time step\")\n",
    "plt.ylabel(\"Neuron Number\")\n",
    "plt.show()"
   ]
  },
  {
   "cell_type": "markdown",
   "metadata": {
    "id": "QwEXpWkRy8_N"
   },
   "source": [
    "# Conclusion"
   ]
  },
  {
   "cell_type": "markdown",
   "metadata": {
    "id": "N-SsITWKobZF",
    "pycharm": {
     "name": "#%% md\n"
    }
   },
   "source": [
    "That's it for spike conversion and generation. \n",
    "This approach generalizes beyond images, to single-dimensional and multi-dimensional tensors.\n",
    "\n",
    "For reference, the documentation for [`spikegen` can be found here](https://snntorch.readthedocs.io/en/latest/snntorch.spikegen.html) and for [`spikeplot`, here](https://snntorch.readthedocs.io/en/latest/snntorch.spikeplot.html)\n",
    "\n",
    "[In the next tutorial](https://snntorch.readthedocs.io/en/latest/tutorials/index.html), you will learn the basics of spiking neurons and how to use them.\n",
    "\n",
    "If you like this project, please consider starring ⭐ the repo on GitHub as it is the easiest and best way to support it."
   ]
  },
  {
   "cell_type": "markdown",
   "metadata": {},
   "source": [
    "# Additional Resources\n",
    "\n",
    "* [Check out the snnTorch GitHub project here.](https://github.com/jeshraghian/snntorch)"
   ]
  }
 ],
 "metadata": {
  "accelerator": "GPU",
  "colab": {
   "collapsed_sections": [
    "9QXsrr6Mp5e_",
    "1EWDw3bip8Ie",
    "vFM8UV9CreIX",
    "xXkTAJ9ws1Y6",
    "OgkWg605tE1y",
    "OBt0WDzyujnk",
    "xC96eesMqYo-",
    "mszPTrYOluym",
    "VTHK-wAWV57B"
   ],
   "name": "Copy of quantAwareTrain.ipynb",
   "provenance": []
  },
  "interpreter": {
   "hash": "579503e60735c0b0ad61cf404d04af89041cf694c55fa4cc17d05f5d9b483dbc"
  },
  "kernelspec": {
   "display_name": "Python 3 (ipykernel)",
   "language": "python",
   "name": "python3"
  },
  "language_info": {
   "codemirror_mode": {
    "name": "ipython",
    "version": 3
   },
   "file_extension": ".py",
   "mimetype": "text/x-python",
   "name": "python",
   "nbconvert_exporter": "python",
   "pygments_lexer": "ipython3",
   "version": "3.8.13"
  }
 },
 "nbformat": 4,
 "nbformat_minor": 2
}
