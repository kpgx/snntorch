{
 "cells": [
  {
   "cell_type": "markdown",
   "metadata": {
    "id": "RBNKFLJIobYt"
   },
   "source": [
    "[<img src='https://github.com/jeshraghian/snntorch/blob/master/docs/_static/img/snntorch_alpha_w.png?raw=true' width=\"400\">](https://github.com/jeshraghian/snntorch/)\n",
    "\n",
    "# Tutorial 8 - Regression\n",
    "## By Alexander Henkes (https://orcid.org/0000-0003-4615-9271) \n",
    "## and \n",
    "## Jason K. Eshraghian (www.jasoneshraghian.com)\n",
    "\n",
    "\n",
    "using Google Colab:\n",
    "<a href=\"https://colab.research.google.com/github/jeshraghian/snntorch/blob/master/examples/tutorial_1_spikegen.ipynb\">\n",
    "  <img src=\"https://colab.research.google.com/assets/colab-badge.svg\" alt=\"Open In Colab\"/>\n",
    "</a>\n",
    "\n",
    "[<img src='https://github.com/jeshraghian/snntorch/blob/master/docs/_static/img/GitHub-Mark-Light-120px-plus.png?raw=true' width=\"28\">](https://github.com/jeshraghian/snntorch/) [<img src='https://github.com/jeshraghian/snntorch/blob/master/docs/_static/img/GitHub_Logo_White.png?raw=true' width=\"80\">](https://github.com/jeshraghian/snntorch/)\n"
   ]
  },
  {
   "cell_type": "markdown",
   "metadata": {
    "id": "4blpfg4y44uO"
   },
   "source": [
    "The snnTorch tutorial series is based on the following paper. If you find these resources or code useful in your work, please consider citing the following source:\n",
    "\n",
    "> <cite> [Jason K. Eshraghian, Max Ward, Emre Neftci, Xinxin Wang, Gregor Lenz, Girish Dwivedi, Mohammed Bennamoun, Doo Seok Jeong, and Wei D. Lu. \"Training Spiking Neural Networks Using Lessons From Deep Learning\". arXiv preprint arXiv:2109.12894, September 2021.](https://arxiv.org/abs/2109.12894) </cite>"
   ]
  },
  {
   "cell_type": "markdown",
   "metadata": {},
   "source": [
    "# ================================================================\n",
    "# +++++++++++++++++++++++++++TODO+++++++++++++++++++++++++++++++\n",
    "# ================================================================\n",
    "\n",
    "\n",
    "## * Make the problem statement clear by overlaying the objective function and original membrane potential before training starts\n",
    "\n",
    "## * (Optional) Perhaps do a LIF-only network, and then maybe motivate how an SLSTM performs better? \n",
    "\n",
    "## * Add a brief explanation behind the SLSTM / I can draw up a computational graph in Visio (we presented the SConvLSTM in this paper, so I might be able to just dumb down the explanation from here: https://www.techrxiv.org/articles/preprint/Neuromorphic_Deep_Spiking_Neural_Networks_for_Seizure_Detection/20444970) \n",
    "\n",
    "## * (Optional) We could use the same approach to performing a classification task. E.g., apply regression to the membrane potential s.t. it reaches >threshold for the correct class. I've done this quite a lot in the past to good results.\n",
    "\n",
    "# ================================================================"
   ]
  },
  {
   "cell_type": "markdown",
   "metadata": {
    "id": "lnF_PEo5obYv",
    "pycharm": {
     "name": "#%% md\n"
    }
   },
   "source": [
    "In this tutorial, you will learn how to use snnTorch to:\n",
    "* carry out regression using SNN using\n",
    "* LIFs,\n",
    "* Recurrent LIFs,\n",
    "* SLSTMs,\n",
    "* using different strategies\n"
   ]
  },
  {
   "cell_type": "markdown",
   "metadata": {},
   "source": [
    "# Import, seed and training parameters"
   ]
  },
  {
   "cell_type": "code",
   "execution_count": 52,
   "metadata": {
    "id": "cR9okh0jobYx",
    "pycharm": {
     "name": "#%%\n"
    }
   },
   "outputs": [],
   "source": [
    "import matplotlib.pyplot as plt\n",
    "import numpy\n",
    "import random\n",
    "import snntorch\n",
    "import snntorch.surrogate\n",
    "import statistics\n",
    "import torch\n",
    "import torch.utils.data\n",
    "import tqdm"
   ]
  },
  {
   "cell_type": "code",
   "execution_count": 53,
   "metadata": {},
   "outputs": [],
   "source": [
    "# Seed\n",
    "torch.manual_seed(0)\n",
    "random.seed(0)\n",
    "numpy.random.seed(0)"
   ]
  },
  {
   "cell_type": "markdown",
   "metadata": {},
   "source": [
    "We want to test out some functions, which can be chosen using the \"MODE\" flag. For now, we stick to \"linear\" and \"sqrt\"."
   ]
  },
  {
   "cell_type": "code",
   "execution_count": 54,
   "metadata": {
    "id": "e4LPD0WCobYx",
    "pycharm": {
     "name": "#%%\n"
    }
   },
   "outputs": [],
   "source": [
    "# Training Parameters\n",
    "TIMESTEPS = 10\n",
    "NUM_SAMPLES = 1\n",
    "BATCH_SIZE = NUM_SAMPLES\n",
    "ITER = 1000\n",
    "HIDDEN = 128\n",
    "# 'linear' or 'sqrt'\n",
    "MODE = \"sqrt\"\n",
    "TEST = False\n",
    "LEARNING_RATE = 1e-3\n",
    "DEVICE = (\n",
    "    torch.device(\"cuda\")\n",
    "    if torch.cuda.is_available()\n",
    "    else torch.device(\"cpu\")\n",
    ")"
   ]
  },
  {
   "cell_type": "markdown",
   "metadata": {},
   "source": [
    "# LIF\n",
    "\n",
    "First, let us try a simple network using only LIF layers without recurrence. These architectures should work just fine, if there is no strong time dependency in the data, i.e., the next time step does not depend on the previous one."
   ]
  },
  {
   "cell_type": "code",
   "execution_count": 57,
   "metadata": {},
   "outputs": [],
   "source": [
    "class LIF(torch.nn.Module):\n",
    "    \"\"\"Simple spiking neural network in snntorch.\"\"\"\n",
    "\n",
    "    def __init__(self, timesteps, hidden):\n",
    "        super().__init__()\n",
    "        self.timesteps = timesteps\n",
    "        self.hidden = hidden\n",
    "\n",
    "        # spike_grad = snntorch.surrogate.atan()\n",
    "        spike_grad = snntorch.surrogate.fast_sigmoid()\n",
    "        \n",
    "        beta_in = torch.rand(self.hidden)\n",
    "        thr_in = torch.rand(self.hidden)\n",
    "\n",
    "        self.fc_in = torch.nn.Linear(in_features=1, out_features=self.hidden)\n",
    "        self.lif_in = snntorch.Leaky(\n",
    "            beta=beta_in,\n",
    "            threshold=thr_in,\n",
    "            learn_beta=True,\n",
    "            learn_threshold=True,\n",
    "            spike_grad=spike_grad,\n",
    "            reset_mechanism=\"subtract\",\n",
    "        )\n",
    "        \n",
    "        beta_hidden = torch.rand(self.hidden)\n",
    "        thr_hidden = torch.rand(self.hidden)\n",
    "\n",
    "        self.fc_hidden = torch.nn.Linear(in_features=self.hidden, out_features=self.hidden)\n",
    "        self.lif_hidden = snntorch.Leaky(\n",
    "            beta=beta_hidden,\n",
    "            threshold=thr_hidden,\n",
    "            learn_beta=True,\n",
    "            learn_threshold=True,\n",
    "            spike_grad=spike_grad,\n",
    "            reset_mechanism=\"subtract\",\n",
    "        )\n",
    "\n",
    "        beta_out = torch.rand(1)\n",
    "\n",
    "        self.fc_out = torch.nn.Linear(in_features=self.hidden, out_features=1)\n",
    "        self.li_out = snntorch.Leaky(\n",
    "            beta=beta_out,\n",
    "            threshold=1.0,\n",
    "            learn_beta=True,\n",
    "            spike_grad=spike_grad,\n",
    "            reset_mechanism=\"none\",\n",
    "        )\n",
    "\n",
    "    def forward(self, x):\n",
    "        \"\"\"Forward pass for several time steps.\"\"\"\n",
    "        mem_in = self.lif_in.init_leaky()\n",
    "        mem_hidden = self.lif_hidden.init_leaky()\n",
    "        mem_out = self.li.init_leaky()\n",
    "\n",
    "        cur_out_rec = []\n",
    "        mem_out_rec = []\n",
    "        spk_out_rec = []\n",
    "\n",
    "        for step in range(self.timesteps):\n",
    "            x_timestep = x[step, :, :]\n",
    "\n",
    "            cur_in = self.fc_in(x_timestep)\n",
    "            spk_in, mem_in = self.lif_in(cur_in, mem_in)\n",
    "            \n",
    "            cur_hidden = self.fc_hidden(spk_in)\n",
    "            spk_hidden, mem_hidden = self.li(cur_hidden, mem_hidden)\n",
    " \n",
    "            cur_out = self.fc_out(spk_hidden) # mem_hidden works better!\n",
    "            cur_out, mem_out = self.li_out(cur_out, mem_out)\n",
    "\n",
    "            cur_out_rec.append(cur_out)\n",
    "            mem_out_rec.append(mem_out)\n",
    "            spk_out_rec.append(spk_in)\n",
    "\n",
    "        return (\n",
    "            torch.stack(cur_out_rec, dim=0),\n",
    "            torch.stack(mem_out_rec, dim=0),\n",
    "            torch.stack(spk_out_rec, dim=0),\n",
    "        )"
   ]
  },
  {
   "cell_type": "markdown",
   "metadata": {},
   "source": [
    "# RLIF\n",
    "\n",
    "For short-time dependencies, reccurence can be introduced in the LIF, resulting in an RLIF. Typically, time series with dependencies up to around ten timesteps can be well captured by standard recurrent neurons."
   ]
  },
  {
   "cell_type": "code",
   "execution_count": null,
   "metadata": {},
   "outputs": [],
   "source": [
    "#TODO"
   ]
  },
  {
   "cell_type": "markdown",
   "metadata": {},
   "source": [
    "# SLSTM\n",
    "\n",
    "For long-time dependencies, some sort of \"memory\" has to be introduced in our architecture. One of the most common and succesfull approaches towards time series with long dependencies was introduced in the 1990th and is called \"Long-short-term memory\" [...]. By introducing a memory ..... (architecture, pictures etc.)"
   ]
  },
  {
   "cell_type": "code",
   "execution_count": 57,
   "metadata": {},
   "outputs": [],
   "source": [
    "class SLSTM(torch.nn.Module):\n",
    "    \"\"\"Simple spiking neural network in snntorch.\"\"\"\n",
    "\n",
    "    def __init__(self, timesteps, hidden):\n",
    "        super().__init__()\n",
    "        self.timesteps = timesteps\n",
    "        self.hidden = hidden\n",
    "\n",
    "        # spike_grad = snntorch.surrogate.atan() --> Not in the current version\n",
    "        spike_grad = snntorch.surrogate.fast_sigmoid()\n",
    "        \n",
    "        thr_lstm_1 = torch.rand(self.hidden)\n",
    "\n",
    "        self.slstm_1 = snntorch.SLSTM(\n",
    "            input_size=1,\n",
    "            hidden_size=self.hidden,\n",
    "            spike_grad=spike_grad,\n",
    "            learn_threshold=True,\n",
    "            threshold=thr_lstm_1,\n",
    "            reset_mechanism=\"none\",\n",
    "        )\n",
    "\n",
    "        beta_out = torch.rand(1)\n",
    "        thr_out = torch.rand(1)\n",
    "\n",
    "        self.fc_out = torch.nn.Linear(in_features=self.hidden, out_features=1)\n",
    "        self.li_out = snntorch.Leaky(\n",
    "            beta=beta_out,\n",
    "            threshold=thr_out,\n",
    "            learn_beta=True,\n",
    "            learn_threshold=True,\n",
    "            spike_grad=spike_grad,\n",
    "            reset_mechanism=\"none\",\n",
    "        )\n",
    "\n",
    "    def forward(self, x):\n",
    "        \"\"\"Forward pass for several time steps.\"\"\"\n",
    "        mem_in = self.lif.init_leaky()\n",
    "        syn_lstm_1, mem_lstm_1 = self.slstm_1.init_slstm()\n",
    "        mem_out = self.li.init_leaky()\n",
    "\n",
    "        cur_out_rec = []\n",
    "        mem_out_rec = []\n",
    "        spk_out_rec = []\n",
    "\n",
    "        for step in range(self.timesteps):\n",
    "            x_timestep = x[step, :, :]\n",
    "\n",
    "            spk_in = x_timestep\n",
    "            spk_lstm_1, syn_lstm_1, mem_lstm_1 = self.slstm_1(\n",
    "                spk_in, syn_lstm_1, mem_lstm_1\n",
    "            )\n",
    "            cur_out = self.fc_out(mem_lstm_1)\n",
    "            cur_out, mem_out = self.li_out(cur_out, mem_out)\n",
    "\n",
    "            cur_out_rec.append(cur_out)\n",
    "            mem_out_rec.append(mem_out)\n",
    "            spk_out_rec.append(spk_in)\n",
    "\n",
    "        return (\n",
    "            torch.stack(cur_out_rec, dim=0),\n",
    "            torch.stack(mem_out_rec, dim=0),\n",
    "            torch.stack(spk_out_rec, dim=0),\n",
    "        )"
   ]
  },
  {
   "cell_type": "markdown",
   "metadata": {
    "id": "d7qhH_lt8_mn"
   },
   "source": [
    "# Introduction\n",
    "\n",
    "Different strategies for regression\n",
    "\n",
    "\n",
    "1.   **Membrane potential**: ...\n",
    "\n",
    "2.   **The other thing**: ..."
   ]
  },
  {
   "cell_type": "markdown",
   "metadata": {
    "id": "lGNOnFM4DzHY"
   },
   "source": [
    "In this tutorial, we will assume we have some non-spiking input data (i.e., the MNIST dataset) and that we want to encode it into spikes using a few different techniques. So let's get started! "
   ]
  },
  {
   "cell_type": "markdown",
   "metadata": {
    "id": "GAbXmmVN50Pl"
   },
   "source": [
    "Install the latest PyPi distribution of snnTorch:"
   ]
  },
  {
   "cell_type": "code",
   "execution_count": 51,
   "metadata": {
    "id": "jxLoYgkhobYw",
    "pycharm": {
     "name": "#%%\n"
    }
   },
   "outputs": [
    {
     "name": "stdout",
     "output_type": "stream",
     "text": [
      "Requirement already satisfied: snntorch in /home/ah/snntorch (0.5.3)\n",
      "Requirement already satisfied: torch>=1.1.0 in /home/ah/.virtualenvs/snntorch/lib/python3.8/site-packages/torch-1.12.1-py3.8-linux-x86_64.egg (from snntorch) (1.12.1)\n",
      "Requirement already satisfied: pandas in /home/ah/.virtualenvs/snntorch/lib/python3.8/site-packages/pandas-1.4.3-py3.8-linux-x86_64.egg (from snntorch) (1.4.3)\n",
      "Requirement already satisfied: matplotlib in /home/ah/.virtualenvs/snntorch/lib/python3.8/site-packages/matplotlib-3.6.0rc1-py3.8-linux-x86_64.egg (from snntorch) (3.6.0rc1)\n",
      "Requirement already satisfied: numpy>=1.17 in /home/ah/.virtualenvs/snntorch/lib/python3.8/site-packages/numpy-1.23.2-py3.8-linux-x86_64.egg (from snntorch) (1.23.2)\n",
      "Requirement already satisfied: typing-extensions in /home/ah/.virtualenvs/snntorch/lib/python3.8/site-packages/typing_extensions-4.3.0-py3.8.egg (from torch>=1.1.0->snntorch) (4.3.0)\n",
      "Requirement already satisfied: contourpy>=1.0.1 in /home/ah/.virtualenvs/snntorch/lib/python3.8/site-packages/contourpy-1.0.4-py3.8-linux-x86_64.egg (from matplotlib->snntorch) (1.0.4)\n",
      "Requirement already satisfied: cycler>=0.10 in /home/ah/.virtualenvs/snntorch/lib/python3.8/site-packages/cycler-0.11.0-py3.8.egg (from matplotlib->snntorch) (0.11.0)\n",
      "Requirement already satisfied: fonttools>=4.22.0 in /home/ah/.virtualenvs/snntorch/lib/python3.8/site-packages/fonttools-4.36.0-py3.8.egg (from matplotlib->snntorch) (4.36.0)\n",
      "Requirement already satisfied: kiwisolver>=1.0.1 in /home/ah/.virtualenvs/snntorch/lib/python3.8/site-packages/kiwisolver-1.4.4-py3.8-linux-x86_64.egg (from matplotlib->snntorch) (1.4.4)\n",
      "Requirement already satisfied: packaging>=20.0 in /home/ah/.virtualenvs/snntorch/lib/python3.8/site-packages/packaging-21.3-py3.8.egg (from matplotlib->snntorch) (21.3)\n",
      "Requirement already satisfied: pillow>=6.2.0 in /home/ah/.virtualenvs/snntorch/lib/python3.8/site-packages/Pillow-9.2.0-py3.8-linux-x86_64.egg (from matplotlib->snntorch) (9.2.0)\n",
      "Requirement already satisfied: pyparsing>=2.2.1 in /home/ah/.virtualenvs/snntorch/lib/python3.8/site-packages/pyparsing-3.0.9-py3.8.egg (from matplotlib->snntorch) (3.0.9)\n",
      "Requirement already satisfied: python-dateutil>=2.7 in /home/ah/.virtualenvs/snntorch/lib/python3.8/site-packages/python_dateutil-2.8.2-py3.8.egg (from matplotlib->snntorch) (2.8.2)\n",
      "Requirement already satisfied: pytz>=2020.1 in /home/ah/.virtualenvs/snntorch/lib/python3.8/site-packages/pytz-2022.2.1-py3.8.egg (from pandas->snntorch) (2022.2.1)\n",
      "Requirement already satisfied: six>=1.5 in /home/ah/.virtualenvs/snntorch/lib/python3.8/site-packages/six-1.16.0-py3.8.egg (from python-dateutil>=2.7->matplotlib->snntorch) (1.16.0)\n"
     ]
    }
   ],
   "source": [
    "!pip install snntorch"
   ]
  },
  {
   "cell_type": "markdown",
   "metadata": {
    "id": "k6E7VH5kbTmA"
   },
   "source": [
    "## 1. Setting up a regression dataset"
   ]
  },
  {
   "cell_type": "markdown",
   "metadata": {
    "id": "Suffg8_ZobYw",
    "pycharm": {
     "name": "#%% md\n"
    }
   },
   "source": [
    "### 1.1. Import packages and setup environment"
   ]
  },
  {
   "cell_type": "markdown",
   "metadata": {
    "id": "x5X2a5a9obYy"
   },
   "source": [
    "### Create dataset"
   ]
  },
  {
   "cell_type": "code",
   "execution_count": 55,
   "metadata": {
    "id": "OlbY8Rm9obYy",
    "pycharm": {
     "name": "#%%\n"
    }
   },
   "outputs": [],
   "source": [
    "class Regression_dataset(torch.utils.data.Dataset):\n",
    "    \"\"\"Simple regression dataset.\"\"\"\n",
    "\n",
    "    def __init__(self, timesteps, num_samples, mode):\n",
    "        \"\"\"Linear relation between input and output\"\"\"\n",
    "        self.num_samples = num_samples\n",
    "        feature_lst = []\n",
    "\n",
    "        for idx in range(num_samples):\n",
    "            end = float(torch.rand(1))\n",
    "            lin_vec = torch.linspace(start=0.0, end=end, steps=timesteps)\n",
    "            feature = lin_vec.view(timesteps, 1)\n",
    "            feature_lst.append(feature)\n",
    "\n",
    "        self.features = torch.stack(feature_lst, dim=1)\n",
    "\n",
    "        if mode == \"linear\":\n",
    "            self.labels = self.features * 1\n",
    "\n",
    "        elif mode == \"sqrt\":\n",
    "            slope = float(torch.rand(1))\n",
    "            self.labels = torch.sqrt(self.features * slope)\n",
    "\n",
    "        else:\n",
    "            raise NotImplementedError(\"'linear', 'sqrt'\")\n",
    "\n",
    "    def __len__(self):\n",
    "        \"\"\"Number of samples.\"\"\"\n",
    "        return self.num_samples\n",
    "\n",
    "    def __getitem__(self, idx):\n",
    "        \"\"\"General implementation, but we only have one sample.\"\"\"\n",
    "        return self.features[:, idx, :], self.labels[:, idx, :]\n"
   ]
  },
  {
   "cell_type": "markdown",
   "metadata": {
    "id": "9CedMagsobY0",
    "pycharm": {
     "name": "#%% md\n"
    }
   },
   "source": [
    "### 1.3 Create DataLoaders\n",
    "The Dataset objects created above load data into memory, and the DataLoader will serve it up in batches. DataLoaders in PyTorch are a handy interface for passing data into a network. They return an iterator divided up into mini-batches of size ``batch_size``."
   ]
  },
  {
   "cell_type": "code",
   "execution_count": 56,
   "metadata": {
    "id": "TrJLlWj2obY0",
    "pycharm": {
     "name": "#%%\n"
    }
   },
   "outputs": [],
   "source": [
    "dataloader = torch.utils.data.DataLoader(\n",
    "    dataset=Regression_dataset(\n",
    "        timesteps=TIMESTEPS,\n",
    "        num_samples=NUM_SAMPLES,\n",
    "        mode=MODE,\n",
    "    ),\n",
    "    batch_size=BATCH_SIZE,\n",
    "    drop_last=True,\n",
    "    shuffle=True,\n",
    ")"
   ]
  },
  {
   "cell_type": "markdown",
   "metadata": {
    "id": "mwSdczxKobY0",
    "pycharm": {
     "name": "#%% md\n"
    }
   },
   "source": [
    "## 2. Model\n",
    "\n"
   ]
  },
  {
   "cell_type": "code",
   "execution_count": 58,
   "metadata": {},
   "outputs": [],
   "source": [
    "model = SNN(timesteps=TIMESTEPS, hidden=HIDDEN).to(DEVICE)"
   ]
  },
  {
   "cell_type": "markdown",
   "metadata": {},
   "source": [
    "## 3. Training"
   ]
  },
  {
   "cell_type": "code",
   "execution_count": 59,
   "metadata": {},
   "outputs": [
    {
     "name": "stderr",
     "output_type": "stream",
     "text": [
      "100%|████████████████████████████████████████████████████████████████████████████████████████████████████████████████████████| 1000/1000 [00:12<00:00, 77.00it/s, loss=8.466e-08]\n"
     ]
    }
   ],
   "source": [
    "optimizer = torch.optim.Adam(params=model.parameters(), lr=LEARNING_RATE)\n",
    "loss_function = torch.nn.MSELoss()\n",
    "\n",
    "loss_hist = []\n",
    "with tqdm.trange(ITER) as pbar:\n",
    "    for _ in pbar:\n",
    "        train_batch = iter(dataloader)\n",
    "        minibatch_counter = 0\n",
    "        loss_epoch = []\n",
    "\n",
    "        for feature, label in train_batch:\n",
    "            feature = torch.swapaxes(input=feature, axis0=0, axis1=1)\n",
    "            label = torch.swapaxes(input=label, axis0=0, axis1=1)\n",
    "            feature = feature.to(DEVICE)\n",
    "            label = label.to(DEVICE)\n",
    "            cur, mem, spk = model(feature)\n",
    "            # spk_lst.append(spk.detach().cpu())\n",
    "\n",
    "            loss_val = loss_function(mem, label)\n",
    "            optimizer.zero_grad()\n",
    "            loss_val.backward()\n",
    "            optimizer.step()\n",
    "\n",
    "            loss_hist.append(loss_val.item())\n",
    "            loss_epoch.append(loss_val.item())\n",
    "\n",
    "            minibatch_counter += 1\n",
    "\n",
    "            avg_batch_loss = sum(loss_epoch) / minibatch_counter\n",
    "            pbar.set_postfix(loss=\"%.3e\" % avg_batch_loss)"
   ]
  },
  {
   "cell_type": "markdown",
   "metadata": {},
   "source": [
    "## 4. Evaluation"
   ]
  },
  {
   "cell_type": "code",
   "execution_count": 60,
   "metadata": {},
   "outputs": [
    {
     "name": "stdout",
     "output_type": "stream",
     "text": [
      "Mean L1-loss:       1.70e-03\n",
      "Mean rel. err.:     4.62e-04\n"
     ]
    }
   ],
   "source": [
    "loss_function = torch.nn.L1Loss()\n",
    "with torch.no_grad():\n",
    "    model.eval()\n",
    "\n",
    "    test_batch = iter(dataloader)\n",
    "\n",
    "    minibatch_counter = 0\n",
    "    rel_err_lst = []\n",
    "\n",
    "    for feature, label in test_batch:\n",
    "        feature = torch.swapaxes(input=feature, axis0=0, axis1=1)\n",
    "        label = torch.swapaxes(input=label, axis0=0, axis1=1)\n",
    "\n",
    "        feature = feature.to(DEVICE)\n",
    "        label = label.to(DEVICE)\n",
    "\n",
    "        cur, mem, spk = model(feature)\n",
    "\n",
    "        rel_err = torch.linalg.norm(\n",
    "            (mem - label), dim=-1\n",
    "        ) / torch.linalg.norm(label, dim=-1)\n",
    "        rel_err = torch.mean(rel_err[1:, :])\n",
    "\n",
    "        loss_val = loss_function(mem, label)\n",
    "\n",
    "        loss_hist.append(loss_val.item())\n",
    "        rel_err_lst.append(rel_err.item())\n",
    "\n",
    "        minibatch_counter += 1\n",
    "\n",
    "    mean_L1 = statistics.mean(loss_hist)\n",
    "    mean_rel = statistics.mean(rel_err_lst)\n",
    "\n",
    "print(f\"{'Mean L1-loss:':<{20}}{mean_L1:1.2e}\")\n",
    "print(f\"{'Mean rel. err.:':<{20}}{mean_rel:1.2e}\")\n"
   ]
  },
  {
   "cell_type": "code",
   "execution_count": 61,
   "metadata": {},
   "outputs": [
    {
     "data": {
      "image/png": "[encoded data removed]",
      "text/plain": [
       "<Figure size 432x288 with 1 Axes>"
      ]
     },
     "metadata": {
      "needs_background": "light"
     },
     "output_type": "display_data"
    },
    {
     "data": {
      "image/png": "[encoded data removed]",
      "text/plain": [
       "<Figure size 432x288 with 1 Axes>"
      ]
     },
     "metadata": {
      "needs_background": "light"
     },
     "output_type": "display_data"
    },
    {
     "data": {
      "image/png": "[encoded data removed]",
      "text/plain": [
       "<Figure size 432x288 with 1 Axes>"
      ]
     },
     "metadata": {
      "needs_background": "light"
     },
     "output_type": "display_data"
    }
   ],
   "source": [
    "mem = mem.cpu()\n",
    "label = label.cpu()\n",
    "plt.figure(1)\n",
    "plt.title(\"pred\")\n",
    "for i in range(BATCH_SIZE):\n",
    "    plt.plot(mem[:, i, :])\n",
    "\n",
    "plt.figure(2)\n",
    "plt.title(\"true\")\n",
    "for i in range(BATCH_SIZE):\n",
    "    plt.plot(label[:, i, :])\n",
    "\n",
    "plt.figure(3)\n",
    "plt.title(\"comp\")\n",
    "for i in range(BATCH_SIZE):\n",
    "    plt.plot(mem[:, i, :], color=\"red\")\n",
    "    plt.plot(label[:, i, :], color=\"black\")\n",
    "plt.show()"
   ]
  }
 ],
 "metadata": {
  "accelerator": "GPU",
  "celltoolbar": "Raw Cell Format",
  "colab": {
   "collapsed_sections": [
    "9QXsrr6Mp5e_",
    "1EWDw3bip8Ie",
    "vFM8UV9CreIX",
    "xXkTAJ9ws1Y6",
    "OgkWg605tE1y",
    "OBt0WDzyujnk",
    "xC96eesMqYo-",
    "mszPTrYOluym",
    "VTHK-wAWV57B"
   ],
   "name": "Copy of quantAwareTrain.ipynb",
   "provenance": []
  },
  "interpreter": {
   "hash": "579503e60735c0b0ad61cf404d04af89041cf694c55fa4cc17d05f5d9b483dbc"
  },
  "kernelspec": {
   "display_name": "Python 3 (ipykernel)",
   "language": "python",
   "name": "python3"
  },
  "language_info": {
   "codemirror_mode": {
    "name": "ipython",
    "version": 3
   },
   "file_extension": ".py",
   "mimetype": "text/x-python",
   "name": "python",
   "nbconvert_exporter": "python",
   "pygments_lexer": "ipython3",
   "version": "3.8.13"
  }
 },
 "nbformat": 4,
 "nbformat_minor": 2
}
